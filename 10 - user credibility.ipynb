{
 "cells": [
  {
   "cell_type": "code",
   "execution_count": 9,
   "metadata": {},
   "outputs": [
    {
     "name": "stdout",
     "output_type": "stream",
     "text": [
      "[7, 8, 2, 4, 6, 5, 3, 1]\n"
     ]
    }
   ],
   "source": [
    "import random\n",
    "a = {1:1,2:2,3:3,4:4, 5:5, 6:6, 7:7, 8:8}\n",
    "b = list(a.keys())\n",
    "b = random.sample(b,len(b))\n",
    "print(b)"
   ]
  },
  {
   "cell_type": "code",
   "execution_count": 10,
   "metadata": {},
   "outputs": [
    {
     "data": {
      "text/plain": [
       "['a', 'b0', 'b1']"
      ]
     },
     "execution_count": 10,
     "metadata": {},
     "output_type": "execute_result"
    }
   ],
   "source": [
    "t = []\n",
    "a = ['a']\n",
    "b = ['b0','b1']\n",
    "t += a\n",
    "t += b\n",
    "t"
   ]
  },
  {
   "cell_type": "code",
   "execution_count": 1,
   "metadata": {},
   "outputs": [
    {
     "name": "stdout",
     "output_type": "stream",
     "text": [
      "Collecting imblearn\n",
      "  Using cached imblearn-0.0-py2.py3-none-any.whl (1.9 kB)\n",
      "Collecting imbalanced-learn\n",
      "  Using cached imbalanced_learn-0.8.0-py3-none-any.whl (206 kB)\n",
      "Requirement already satisfied: joblib>=0.11 in c:\\users\\lucas.carneiro\\anaconda3\\envs\\env\\lib\\site-packages (from imbalanced-learn->imblearn) (0.17.0)\n",
      "Requirement already satisfied: numpy>=1.13.3 in c:\\users\\lucas.carneiro\\anaconda3\\envs\\env\\lib\\site-packages (from imbalanced-learn->imblearn) (1.19.2)\n",
      "Requirement already satisfied: scipy>=0.19.1 in c:\\users\\lucas.carneiro\\anaconda3\\envs\\env\\lib\\site-packages (from imbalanced-learn->imblearn) (1.5.2)\n",
      "Requirement already satisfied: scikit-learn>=0.24 in c:\\users\\lucas.carneiro\\anaconda3\\envs\\env\\lib\\site-packages (from imbalanced-learn->imblearn) (0.24.2)\n",
      "Requirement already satisfied: threadpoolctl>=2.0.0 in c:\\users\\lucas.carneiro\\anaconda3\\envs\\env\\lib\\site-packages (from scikit-learn>=0.24->imbalanced-learn->imblearn) (2.1.0)\n",
      "Installing collected packages: imbalanced-learn, imblearn\n",
      "Successfully installed imbalanced-learn-0.8.0 imblearn-0.0\n"
     ]
    }
   ],
   "source": [
    "!pip install imblearn"
   ]
  },
  {
   "cell_type": "markdown",
   "metadata": {},
   "source": [
    "# Detect malicious users in WhatsApp public groups\n",
    "* Malicious users repeatedly and intentionaly spread misinformation (bots, cyborgs, trolls)\n",
    "* Low credibility / gullible users\n",
    "* Superspreaders / influencers/ persuaders\n",
    "* Source of fake news (SOFN)\n",
    "\n",
    "Estimate the credibility of users"
   ]
  },
  {
   "cell_type": "code",
   "execution_count": 11,
   "metadata": {},
   "outputs": [
    {
     "name": "stderr",
     "output_type": "stream",
     "text": [
      "C:\\Users\\lucas.carneiro\\Anaconda3\\envs\\env\\lib\\site-packages\\gensim\\similarities\\__init__.py:15: UserWarning: The gensim.similarities.levenshtein submodule is disabled, because the optional Levenshtein package <https://pypi.org/project/python-Levenshtein/> is unavailable. Install Levenhstein (e.g. `pip install python-Levenshtein`) to suppress this warning.\n",
      "  warnings.warn(msg)\n"
     ]
    }
   ],
   "source": [
    "#utils\n",
    "import emoji, re, string, time, os\n",
    "from utils import get_test_metrics\n",
    "from utils import preprocess\n",
    "from utils import get_user_features, get_top_users\n",
    "import pandas as pd\n",
    "import numpy as np\n",
    "from scipy.stats import randint\n",
    "import pickle\n",
    "import math\n",
    "\n",
    "#nlp\n",
    "import nltk\n",
    "from nltk.corpus import stopwords\n",
    "import spacy\n",
    "from gensim.models import Word2Vec\n",
    "from gensim.models.callbacks import CallbackAny2Vec\n",
    "\n",
    "#dataviz\n",
    "import matplotlib.pyplot as plt\n",
    "import seaborn as sns\n",
    "\n",
    "#features\n",
    "from sklearn.feature_extraction.text import TfidfVectorizer\n",
    "from sklearn.feature_extraction.text import CountVectorizer\n",
    "from sklearn.metrics.pairwise import linear_kernel\n",
    "from sklearn import metrics\n",
    "from sklearn.model_selection import train_test_split\n",
    "from sklearn.decomposition import PCA\n",
    "from sklearn.decomposition import TruncatedSVD\n",
    "\n",
    "#models\n",
    "from sklearn import tree\n",
    "from sklearn.ensemble import RandomForestRegressor\n",
    "from sklearn.linear_model import LinearRegression #logistic regression\n",
    "from sklearn.metrics import mean_squared_error\n",
    "from sklearn.neural_network import MLPRegressor\n",
    "from sklearn.linear_model import LogisticRegression\n",
    "\n",
    "\n",
    "\n",
    "#data balancing\n",
    "from imblearn.over_sampling import SMOTE\n",
    "from imblearn.over_sampling import RandomOverSampler\n",
    "\n",
    "\n",
    "%matplotlib inline\n",
    "sns.set(style=\"darkgrid\")"
   ]
  },
  {
   "cell_type": "markdown",
   "metadata": {},
   "source": [
    "# Load expanded data"
   ]
  },
  {
   "cell_type": "code",
   "execution_count": 12,
   "metadata": {},
   "outputs": [
    {
     "name": "stderr",
     "output_type": "stream",
     "text": [
      "C:\\Users\\lucas.carneiro\\Anaconda3\\envs\\env\\lib\\site-packages\\IPython\\core\\interactiveshell.py:3146: DtypeWarning: Columns (3,6) have mixed types.Specify dtype option on import or set low_memory=False.\n",
      "  has_raised = await self.run_ast_nodes(code_ast.body, cell_name,\n"
     ]
    },
    {
     "data": {
      "text/html": [
       "<div>\n",
       "<style scoped>\n",
       "    .dataframe tbody tr th:only-of-type {\n",
       "        vertical-align: middle;\n",
       "    }\n",
       "\n",
       "    .dataframe tbody tr th {\n",
       "        vertical-align: top;\n",
       "    }\n",
       "\n",
       "    .dataframe thead th {\n",
       "        text-align: right;\n",
       "    }\n",
       "</style>\n",
       "<table border=\"1\" class=\"dataframe\">\n",
       "  <thead>\n",
       "    <tr style=\"text-align: right;\">\n",
       "      <th></th>\n",
       "      <th>id</th>\n",
       "      <th>date</th>\n",
       "      <th>hour</th>\n",
       "      <th>ddi</th>\n",
       "      <th>country</th>\n",
       "      <th>country_iso3</th>\n",
       "      <th>ddd</th>\n",
       "      <th>state</th>\n",
       "      <th>group</th>\n",
       "      <th>midia</th>\n",
       "      <th>url</th>\n",
       "      <th>characters</th>\n",
       "      <th>words</th>\n",
       "      <th>viral</th>\n",
       "      <th>shares</th>\n",
       "      <th>text</th>\n",
       "      <th>misinformation</th>\n",
       "      <th>preprocessed_text</th>\n",
       "      <th>preprocessed_text_stemmed</th>\n",
       "      <th>preprocessed_text_lemma</th>\n",
       "    </tr>\n",
       "  </thead>\n",
       "  <tbody>\n",
       "    <tr>\n",
       "      <th>55494</th>\n",
       "      <td>8897177310380552629</td>\n",
       "      <td>16/08/18</td>\n",
       "      <td>21:41</td>\n",
       "      <td>55</td>\n",
       "      <td>BRASIL</td>\n",
       "      <td>BRA</td>\n",
       "      <td>91</td>\n",
       "      <td>Pará</td>\n",
       "      <td>2018_15</td>\n",
       "      <td>0</td>\n",
       "      <td>0</td>\n",
       "      <td>146</td>\n",
       "      <td>24</td>\n",
       "      <td>1</td>\n",
       "      <td>2</td>\n",
       "      <td>Nos rincões  mais longínquos, temos representa...</td>\n",
       "      <td>0</td>\n",
       "      <td>rincoes longinquos , representantes todas etni...</td>\n",
       "      <td>rinco longinqu , represent tod etn . distinca ...</td>\n",
       "      <td>rincoes longinquos , representante todo etnia ...</td>\n",
       "    </tr>\n",
       "    <tr>\n",
       "      <th>119898</th>\n",
       "      <td>3759576969715223972</td>\n",
       "      <td>06/10/18</td>\n",
       "      <td>14:28</td>\n",
       "      <td>55</td>\n",
       "      <td>BRASIL</td>\n",
       "      <td>BRA</td>\n",
       "      <td>11</td>\n",
       "      <td>São Paulo</td>\n",
       "      <td>2018_33</td>\n",
       "      <td>0</td>\n",
       "      <td>0</td>\n",
       "      <td>54</td>\n",
       "      <td>7</td>\n",
       "      <td>0</td>\n",
       "      <td>1</td>\n",
       "      <td>Fiquem espertos qualquer problema informe os m...</td>\n",
       "      <td>-1</td>\n",
       "      <td>fiquem espertos qualquer problema informe mesa...</td>\n",
       "      <td>fiqu espert qualqu problem inform mesari .</td>\n",
       "      <td>ficar esperto qualquer problema informar mesar...</td>\n",
       "    </tr>\n",
       "    <tr>\n",
       "      <th>199343</th>\n",
       "      <td>-5641836691552196471</td>\n",
       "      <td>25/10/18</td>\n",
       "      <td>16:36</td>\n",
       "      <td>55</td>\n",
       "      <td>BRASIL</td>\n",
       "      <td>BRA</td>\n",
       "      <td>98</td>\n",
       "      <td>Maranhão</td>\n",
       "      <td>2018_49</td>\n",
       "      <td>1</td>\n",
       "      <td>0</td>\n",
       "      <td>25</td>\n",
       "      <td>4</td>\n",
       "      <td>0</td>\n",
       "      <td>1</td>\n",
       "      <td>&lt;Arquivo de mídia oculto&gt;</td>\n",
       "      <td>-1</td>\n",
       "      <td>&lt; arquivo midia oculto &gt;</td>\n",
       "      <td>&lt; arqu mid ocult &gt;</td>\n",
       "      <td>&lt; arquivar midia ocultar &gt;</td>\n",
       "    </tr>\n",
       "    <tr>\n",
       "      <th>233409</th>\n",
       "      <td>2485357201479715834</td>\n",
       "      <td>22/08/18</td>\n",
       "      <td>21:45</td>\n",
       "      <td>55</td>\n",
       "      <td>BRASIL</td>\n",
       "      <td>BRA</td>\n",
       "      <td>62</td>\n",
       "      <td>Goiás</td>\n",
       "      <td>2018_56</td>\n",
       "      <td>1</td>\n",
       "      <td>0</td>\n",
       "      <td>25</td>\n",
       "      <td>4</td>\n",
       "      <td>0</td>\n",
       "      <td>1</td>\n",
       "      <td>&lt;Arquivo de mídia oculto&gt;</td>\n",
       "      <td>-1</td>\n",
       "      <td>&lt; arquivo midia oculto &gt;</td>\n",
       "      <td>&lt; arqu mid ocult &gt;</td>\n",
       "      <td>&lt; arquivar midia ocultar &gt;</td>\n",
       "    </tr>\n",
       "    <tr>\n",
       "      <th>106473</th>\n",
       "      <td>2136294720367550533</td>\n",
       "      <td>10/09/18</td>\n",
       "      <td>08:56</td>\n",
       "      <td>55</td>\n",
       "      <td>BRASIL</td>\n",
       "      <td>BRA</td>\n",
       "      <td>61</td>\n",
       "      <td>Distrito Federal</td>\n",
       "      <td>2018_32</td>\n",
       "      <td>0</td>\n",
       "      <td>1</td>\n",
       "      <td>28</td>\n",
       "      <td>1</td>\n",
       "      <td>0</td>\n",
       "      <td>1</td>\n",
       "      <td>https://youtu.be/gjQfJGwNeOg</td>\n",
       "      <td>-1</td>\n",
       "      <td>youtube</td>\n",
       "      <td>youtub</td>\n",
       "      <td>youtube</td>\n",
       "    </tr>\n",
       "    <tr>\n",
       "      <th>65557</th>\n",
       "      <td>-4509021879674655331</td>\n",
       "      <td>07/10/18</td>\n",
       "      <td>14:41</td>\n",
       "      <td>55</td>\n",
       "      <td>BRASIL</td>\n",
       "      <td>BRA</td>\n",
       "      <td>38</td>\n",
       "      <td>Minas Gerais</td>\n",
       "      <td>2018_18</td>\n",
       "      <td>1</td>\n",
       "      <td>0</td>\n",
       "      <td>25</td>\n",
       "      <td>4</td>\n",
       "      <td>0</td>\n",
       "      <td>1</td>\n",
       "      <td>&lt;Arquivo de mídia oculto&gt;</td>\n",
       "      <td>-1</td>\n",
       "      <td>&lt; arquivo midia oculto &gt;</td>\n",
       "      <td>&lt; arqu mid ocult &gt;</td>\n",
       "      <td>&lt; arquivar midia ocultar &gt;</td>\n",
       "    </tr>\n",
       "    <tr>\n",
       "      <th>229880</th>\n",
       "      <td>1885162014068236076</td>\n",
       "      <td>28/10/18</td>\n",
       "      <td>19:11</td>\n",
       "      <td>55</td>\n",
       "      <td>BRASIL</td>\n",
       "      <td>BRA</td>\n",
       "      <td>79</td>\n",
       "      <td>Sergipe</td>\n",
       "      <td>2018_54</td>\n",
       "      <td>0</td>\n",
       "      <td>0</td>\n",
       "      <td>22</td>\n",
       "      <td>4</td>\n",
       "      <td>0</td>\n",
       "      <td>1</td>\n",
       "      <td>Ali foi primeiro turno</td>\n",
       "      <td>-1</td>\n",
       "      <td>ali primeiro turno</td>\n",
       "      <td>ali prim turn</td>\n",
       "      <td>ali primeiro turno</td>\n",
       "    </tr>\n",
       "    <tr>\n",
       "      <th>167052</th>\n",
       "      <td>2839535797075678550</td>\n",
       "      <td>24/09/18</td>\n",
       "      <td>10:22</td>\n",
       "      <td>55</td>\n",
       "      <td>BRASIL</td>\n",
       "      <td>BRA</td>\n",
       "      <td>63</td>\n",
       "      <td>Tocantins</td>\n",
       "      <td>2018_42</td>\n",
       "      <td>0</td>\n",
       "      <td>0</td>\n",
       "      <td>39</td>\n",
       "      <td>7</td>\n",
       "      <td>0</td>\n",
       "      <td>1</td>\n",
       "      <td>O pessoal que quiser e puder contribuir</td>\n",
       "      <td>-1</td>\n",
       "      <td>pessoal quiser puder contribuir</td>\n",
       "      <td>pessoal quis pud contribu</td>\n",
       "      <td>pessoal querer poder contribuir</td>\n",
       "    </tr>\n",
       "    <tr>\n",
       "      <th>195714</th>\n",
       "      <td>-2763923219368857257</td>\n",
       "      <td>07/09/18</td>\n",
       "      <td>10:01</td>\n",
       "      <td>55</td>\n",
       "      <td>BRASIL</td>\n",
       "      <td>BRA</td>\n",
       "      <td>98</td>\n",
       "      <td>Maranhão</td>\n",
       "      <td>2018_49</td>\n",
       "      <td>1</td>\n",
       "      <td>0</td>\n",
       "      <td>25</td>\n",
       "      <td>4</td>\n",
       "      <td>0</td>\n",
       "      <td>1</td>\n",
       "      <td>&lt;Arquivo de mídia oculto&gt;</td>\n",
       "      <td>-1</td>\n",
       "      <td>&lt; arquivo midia oculto &gt;</td>\n",
       "      <td>&lt; arqu mid ocult &gt;</td>\n",
       "      <td>&lt; arquivar midia ocultar &gt;</td>\n",
       "    </tr>\n",
       "    <tr>\n",
       "      <th>102626</th>\n",
       "      <td>1131588898586814338</td>\n",
       "      <td>11/08/18</td>\n",
       "      <td>00:59</td>\n",
       "      <td>55</td>\n",
       "      <td>BRASIL</td>\n",
       "      <td>BRA</td>\n",
       "      <td>21</td>\n",
       "      <td>Rio de Janeiro</td>\n",
       "      <td>2018_32</td>\n",
       "      <td>1</td>\n",
       "      <td>0</td>\n",
       "      <td>25</td>\n",
       "      <td>4</td>\n",
       "      <td>0</td>\n",
       "      <td>1</td>\n",
       "      <td>&lt;Arquivo de mídia oculto&gt;</td>\n",
       "      <td>-1</td>\n",
       "      <td>&lt; arquivo midia oculto &gt;</td>\n",
       "      <td>&lt; arqu mid ocult &gt;</td>\n",
       "      <td>&lt; arquivar midia ocultar &gt;</td>\n",
       "    </tr>\n",
       "  </tbody>\n",
       "</table>\n",
       "</div>"
      ],
      "text/plain": [
       "                         id      date   hour ddi country country_iso3 ddd  \\\n",
       "55494   8897177310380552629  16/08/18  21:41  55  BRASIL          BRA  91   \n",
       "119898  3759576969715223972  06/10/18  14:28  55  BRASIL          BRA  11   \n",
       "199343 -5641836691552196471  25/10/18  16:36  55  BRASIL          BRA  98   \n",
       "233409  2485357201479715834  22/08/18  21:45  55  BRASIL          BRA  62   \n",
       "106473  2136294720367550533  10/09/18  08:56  55  BRASIL          BRA  61   \n",
       "65557  -4509021879674655331  07/10/18  14:41  55  BRASIL          BRA  38   \n",
       "229880  1885162014068236076  28/10/18  19:11  55  BRASIL          BRA  79   \n",
       "167052  2839535797075678550  24/09/18  10:22  55  BRASIL          BRA  63   \n",
       "195714 -2763923219368857257  07/09/18  10:01  55  BRASIL          BRA  98   \n",
       "102626  1131588898586814338  11/08/18  00:59  55  BRASIL          BRA  21   \n",
       "\n",
       "                   state    group  midia  url  characters  words  viral  \\\n",
       "55494               Pará  2018_15      0    0         146     24      1   \n",
       "119898         São Paulo  2018_33      0    0          54      7      0   \n",
       "199343          Maranhão  2018_49      1    0          25      4      0   \n",
       "233409             Goiás  2018_56      1    0          25      4      0   \n",
       "106473  Distrito Federal  2018_32      0    1          28      1      0   \n",
       "65557       Minas Gerais  2018_18      1    0          25      4      0   \n",
       "229880           Sergipe  2018_54      0    0          22      4      0   \n",
       "167052         Tocantins  2018_42      0    0          39      7      0   \n",
       "195714          Maranhão  2018_49      1    0          25      4      0   \n",
       "102626    Rio de Janeiro  2018_32      1    0          25      4      0   \n",
       "\n",
       "        shares                                               text  \\\n",
       "55494        2  Nos rincões  mais longínquos, temos representa...   \n",
       "119898       1  Fiquem espertos qualquer problema informe os m...   \n",
       "199343       1                          <Arquivo de mídia oculto>   \n",
       "233409       1                          <Arquivo de mídia oculto>   \n",
       "106473       1                       https://youtu.be/gjQfJGwNeOg   \n",
       "65557        1                          <Arquivo de mídia oculto>   \n",
       "229880       1                             Ali foi primeiro turno   \n",
       "167052       1            O pessoal que quiser e puder contribuir   \n",
       "195714       1                          <Arquivo de mídia oculto>   \n",
       "102626       1                          <Arquivo de mídia oculto>   \n",
       "\n",
       "        misinformation                                  preprocessed_text  \\\n",
       "55494                0  rincoes longinquos , representantes todas etni...   \n",
       "119898              -1  fiquem espertos qualquer problema informe mesa...   \n",
       "199343              -1                           < arquivo midia oculto >   \n",
       "233409              -1                           < arquivo midia oculto >   \n",
       "106473              -1                                            youtube   \n",
       "65557               -1                           < arquivo midia oculto >   \n",
       "229880              -1                                 ali primeiro turno   \n",
       "167052              -1                    pessoal quiser puder contribuir   \n",
       "195714              -1                           < arquivo midia oculto >   \n",
       "102626              -1                           < arquivo midia oculto >   \n",
       "\n",
       "                                preprocessed_text_stemmed  \\\n",
       "55494   rinco longinqu , represent tod etn . distinca ...   \n",
       "119898         fiqu espert qualqu problem inform mesari .   \n",
       "199343                                 < arqu mid ocult >   \n",
       "233409                                 < arqu mid ocult >   \n",
       "106473                                             youtub   \n",
       "65557                                  < arqu mid ocult >   \n",
       "229880                                      ali prim turn   \n",
       "167052                          pessoal quis pud contribu   \n",
       "195714                                 < arqu mid ocult >   \n",
       "102626                                 < arqu mid ocult >   \n",
       "\n",
       "                                  preprocessed_text_lemma  \n",
       "55494   rincoes longinquos , representante todo etnia ...  \n",
       "119898  ficar esperto qualquer problema informar mesar...  \n",
       "199343                         < arquivar midia ocultar >  \n",
       "233409                         < arquivar midia ocultar >  \n",
       "106473                                            youtube  \n",
       "65557                          < arquivar midia ocultar >  \n",
       "229880                                 ali primeiro turno  \n",
       "167052                    pessoal querer poder contribuir  \n",
       "195714                         < arquivar midia ocultar >  \n",
       "102626                         < arquivar midia ocultar >  "
      ]
     },
     "execution_count": 12,
     "metadata": {},
     "output_type": "execute_result"
    }
   ],
   "source": [
    "# messages\n",
    "df = pd.read_csv('data/2018/fakeWhatsApp.BR_2018.csv')\n",
    "df_texts = pd.read_csv('data/2018/fakeWhatsApp.BR_2018_preprocessed_texts.csv')\n",
    "df = pd.concat([df, df_texts], axis=1)\n",
    "df.drop(columns=['Unnamed: 0'],inplace=True)\n",
    "corpus = list(df[df['midia']==0]['preprocessed_text_lemma'].unique())\n",
    "df_expanded_labels = pd.read_csv('data/2018/fakeWhatsApp.BR_2018_expanded.csv')\n",
    "df['misinformation'] = df_expanded_labels['BEST_LABEL']\n",
    "df.sample(10)"
   ]
  },
  {
   "cell_type": "code",
   "execution_count": 15,
   "metadata": {},
   "outputs": [
    {
     "data": {
      "text/plain": [
       "-1"
      ]
     },
     "execution_count": 15,
     "metadata": {},
     "output_type": "execute_result"
    }
   ],
   "source": [
    "df[df['text']=='Ali foi primeiro turno']['misinformation'].values[0]"
   ]
  },
  {
   "cell_type": "code",
   "execution_count": 3,
   "metadata": {},
   "outputs": [],
   "source": [
    "# update viral with expanded messages\n",
    "df['viral'] = [1 if mis!=-1 else 0 for mis in df['misinformation']]"
   ]
  },
  {
   "cell_type": "code",
   "execution_count": 4,
   "metadata": {},
   "outputs": [
    {
     "data": {
      "text/plain": [
       "-1    258156\n",
       " 0     12438\n",
       " 1     12007\n",
       "Name: misinformation, dtype: int64"
      ]
     },
     "execution_count": 4,
     "metadata": {},
     "output_type": "execute_result"
    }
   ],
   "source": [
    "df['misinformation'].value_counts()"
   ]
  },
  {
   "cell_type": "code",
   "execution_count": 5,
   "metadata": {},
   "outputs": [
    {
     "name": "stdout",
     "output_type": "stream",
     "text": [
      "5364\n"
     ]
    },
    {
     "data": {
      "text/html": [
       "<div>\n",
       "<style scoped>\n",
       "    .dataframe tbody tr th:only-of-type {\n",
       "        vertical-align: middle;\n",
       "    }\n",
       "\n",
       "    .dataframe tbody tr th {\n",
       "        vertical-align: top;\n",
       "    }\n",
       "\n",
       "    .dataframe thead th {\n",
       "        text-align: right;\n",
       "    }\n",
       "</style>\n",
       "<table border=\"1\" class=\"dataframe\">\n",
       "  <thead>\n",
       "    <tr style=\"text-align: right;\">\n",
       "      <th></th>\n",
       "      <th>id</th>\n",
       "      <th>groups</th>\n",
       "      <th>number_of_messages</th>\n",
       "      <th>texts</th>\n",
       "      <th>text_ratio</th>\n",
       "      <th>midia</th>\n",
       "      <th>midia_ratio</th>\n",
       "      <th>virals</th>\n",
       "      <th>viral_ratio</th>\n",
       "      <th>degree_centrality</th>\n",
       "      <th>strenght</th>\n",
       "      <th>viral_degree_centrality</th>\n",
       "      <th>viral_strenght</th>\n",
       "      <th>misinformation</th>\n",
       "      <th>misinformation_degree_centrality</th>\n",
       "      <th>misinformation_strenght</th>\n",
       "      <th>misinformation_ratio</th>\n",
       "      <th>viral_misinformation_ratio</th>\n",
       "      <th>viral_messages</th>\n",
       "    </tr>\n",
       "  </thead>\n",
       "  <tbody>\n",
       "    <tr>\n",
       "      <th>4669</th>\n",
       "      <td>-8996328134268937741</td>\n",
       "      <td>1</td>\n",
       "      <td>2</td>\n",
       "      <td>2</td>\n",
       "      <td>1.000000</td>\n",
       "      <td>0</td>\n",
       "      <td>0.000000</td>\n",
       "      <td>1</td>\n",
       "      <td>0.500000</td>\n",
       "      <td>199</td>\n",
       "      <td>398</td>\n",
       "      <td>92</td>\n",
       "      <td>92</td>\n",
       "      <td>1</td>\n",
       "      <td>66</td>\n",
       "      <td>66.0</td>\n",
       "      <td>0.500000</td>\n",
       "      <td>1.0</td>\n",
       "      <td>enquete presidencia ! * candidatar ? * votar v...</td>\n",
       "    </tr>\n",
       "    <tr>\n",
       "      <th>2031</th>\n",
       "      <td>8140300529440159518</td>\n",
       "      <td>1</td>\n",
       "      <td>23</td>\n",
       "      <td>13</td>\n",
       "      <td>0.565217</td>\n",
       "      <td>10</td>\n",
       "      <td>0.434783</td>\n",
       "      <td>4</td>\n",
       "      <td>0.173913</td>\n",
       "      <td>307</td>\n",
       "      <td>7061</td>\n",
       "      <td>169</td>\n",
       "      <td>676</td>\n",
       "      <td>4</td>\n",
       "      <td>126</td>\n",
       "      <td>504.0</td>\n",
       "      <td>0.173913</td>\n",
       "      <td>1.0</td>\n",
       "      <td>* 🚨 urgente ! ! ! * \\n \\n presidiario lula aut...</td>\n",
       "    </tr>\n",
       "    <tr>\n",
       "      <th>4474</th>\n",
       "      <td>-3816863652331327511</td>\n",
       "      <td>2</td>\n",
       "      <td>2</td>\n",
       "      <td>2</td>\n",
       "      <td>1.000000</td>\n",
       "      <td>0</td>\n",
       "      <td>0.000000</td>\n",
       "      <td>2</td>\n",
       "      <td>1.000000</td>\n",
       "      <td>283</td>\n",
       "      <td>329</td>\n",
       "      <td>116</td>\n",
       "      <td>140</td>\n",
       "      <td>2</td>\n",
       "      <td>78</td>\n",
       "      <td>91.0</td>\n",
       "      <td>1.000000</td>\n",
       "      <td>1.0</td>\n",
       "      <td>💳 trabalhar melhor 💳 \\n \\n trabalhar cartoes c...</td>\n",
       "    </tr>\n",
       "    <tr>\n",
       "      <th>557</th>\n",
       "      <td>7247843279158286574</td>\n",
       "      <td>1</td>\n",
       "      <td>124</td>\n",
       "      <td>95</td>\n",
       "      <td>0.766129</td>\n",
       "      <td>29</td>\n",
       "      <td>0.233871</td>\n",
       "      <td>6</td>\n",
       "      <td>0.048387</td>\n",
       "      <td>301</td>\n",
       "      <td>37324</td>\n",
       "      <td>162</td>\n",
       "      <td>972</td>\n",
       "      <td>6</td>\n",
       "      <td>124</td>\n",
       "      <td>744.0</td>\n",
       "      <td>0.048387</td>\n",
       "      <td>1.0</td>\n",
       "      <td>estar unir pegar filhar dum ditador guinar son...</td>\n",
       "    </tr>\n",
       "    <tr>\n",
       "      <th>3980</th>\n",
       "      <td>-3519169249074819778</td>\n",
       "      <td>1</td>\n",
       "      <td>4</td>\n",
       "      <td>4</td>\n",
       "      <td>1.000000</td>\n",
       "      <td>0</td>\n",
       "      <td>0.000000</td>\n",
       "      <td>2</td>\n",
       "      <td>0.500000</td>\n",
       "      <td>277</td>\n",
       "      <td>1108</td>\n",
       "      <td>146</td>\n",
       "      <td>292</td>\n",
       "      <td>2</td>\n",
       "      <td>109</td>\n",
       "      <td>218.0</td>\n",
       "      <td>0.500000</td>\n",
       "      <td>1.0</td>\n",
       "      <td>strawpoll . \\n \\n repassar ai pessoal pesquisa...</td>\n",
       "    </tr>\n",
       "    <tr>\n",
       "      <th>2805</th>\n",
       "      <td>-3234708754363031922</td>\n",
       "      <td>1</td>\n",
       "      <td>11</td>\n",
       "      <td>11</td>\n",
       "      <td>1.000000</td>\n",
       "      <td>0</td>\n",
       "      <td>0.000000</td>\n",
       "      <td>1</td>\n",
       "      <td>0.090909</td>\n",
       "      <td>139</td>\n",
       "      <td>1529</td>\n",
       "      <td>73</td>\n",
       "      <td>73</td>\n",
       "      <td>1</td>\n",
       "      <td>59</td>\n",
       "      <td>59.0</td>\n",
       "      <td>0.090909</td>\n",
       "      <td>1.0</td>\n",
       "      <td>urgente : tse acatar denunciar pt folhar decid...</td>\n",
       "    </tr>\n",
       "    <tr>\n",
       "      <th>3439</th>\n",
       "      <td>-8160408823789614157</td>\n",
       "      <td>1</td>\n",
       "      <td>6</td>\n",
       "      <td>2</td>\n",
       "      <td>0.333333</td>\n",
       "      <td>4</td>\n",
       "      <td>0.666667</td>\n",
       "      <td>1</td>\n",
       "      <td>0.166667</td>\n",
       "      <td>269</td>\n",
       "      <td>1614</td>\n",
       "      <td>160</td>\n",
       "      <td>160</td>\n",
       "      <td>1</td>\n",
       "      <td>118</td>\n",
       "      <td>118.0</td>\n",
       "      <td>0.166667</td>\n",
       "      <td>1.0</td>\n",
       "      <td>. * urgente * \\n * audio receber grupar igreja...</td>\n",
       "    </tr>\n",
       "    <tr>\n",
       "      <th>4863</th>\n",
       "      <td>-6817023783809188624</td>\n",
       "      <td>1</td>\n",
       "      <td>1</td>\n",
       "      <td>1</td>\n",
       "      <td>1.000000</td>\n",
       "      <td>0</td>\n",
       "      <td>0.000000</td>\n",
       "      <td>1</td>\n",
       "      <td>1.000000</td>\n",
       "      <td>99</td>\n",
       "      <td>99</td>\n",
       "      <td>63</td>\n",
       "      <td>63</td>\n",
       "      <td>1</td>\n",
       "      <td>49</td>\n",
       "      <td>49.0</td>\n",
       "      <td>1.000000</td>\n",
       "      <td>1.0</td>\n",
       "      <td>enquete * online * presidencia * bolsonaro * *...</td>\n",
       "    </tr>\n",
       "    <tr>\n",
       "      <th>3477</th>\n",
       "      <td>5015889273591994616</td>\n",
       "      <td>1</td>\n",
       "      <td>6</td>\n",
       "      <td>5</td>\n",
       "      <td>0.833333</td>\n",
       "      <td>1</td>\n",
       "      <td>0.166667</td>\n",
       "      <td>3</td>\n",
       "      <td>0.500000</td>\n",
       "      <td>187</td>\n",
       "      <td>1122</td>\n",
       "      <td>101</td>\n",
       "      <td>303</td>\n",
       "      <td>3</td>\n",
       "      <td>80</td>\n",
       "      <td>240.0</td>\n",
       "      <td>0.500000</td>\n",
       "      <td>1.0</td>\n",
       "      <td>professorar globo dizer q professor . formar p...</td>\n",
       "    </tr>\n",
       "    <tr>\n",
       "      <th>3196</th>\n",
       "      <td>7234196746099888158</td>\n",
       "      <td>1</td>\n",
       "      <td>8</td>\n",
       "      <td>4</td>\n",
       "      <td>0.500000</td>\n",
       "      <td>4</td>\n",
       "      <td>0.500000</td>\n",
       "      <td>2</td>\n",
       "      <td>0.250000</td>\n",
       "      <td>26</td>\n",
       "      <td>208</td>\n",
       "      <td>16</td>\n",
       "      <td>32</td>\n",
       "      <td>2</td>\n",
       "      <td>13</td>\n",
       "      <td>26.0</td>\n",
       "      <td>0.250000</td>\n",
       "      <td>1.0</td>\n",
       "      <td>pesquisarrr eleitor presidenciaveis \\n pesquis...</td>\n",
       "    </tr>\n",
       "  </tbody>\n",
       "</table>\n",
       "</div>"
      ],
      "text/plain": [
       "                       id  groups  number_of_messages  texts  text_ratio  \\\n",
       "4669 -8996328134268937741       1                   2      2    1.000000   \n",
       "2031  8140300529440159518       1                  23     13    0.565217   \n",
       "4474 -3816863652331327511       2                   2      2    1.000000   \n",
       "557   7247843279158286574       1                 124     95    0.766129   \n",
       "3980 -3519169249074819778       1                   4      4    1.000000   \n",
       "2805 -3234708754363031922       1                  11     11    1.000000   \n",
       "3439 -8160408823789614157       1                   6      2    0.333333   \n",
       "4863 -6817023783809188624       1                   1      1    1.000000   \n",
       "3477  5015889273591994616       1                   6      5    0.833333   \n",
       "3196  7234196746099888158       1                   8      4    0.500000   \n",
       "\n",
       "      midia  midia_ratio  virals  viral_ratio  degree_centrality  strenght  \\\n",
       "4669      0     0.000000       1     0.500000                199       398   \n",
       "2031     10     0.434783       4     0.173913                307      7061   \n",
       "4474      0     0.000000       2     1.000000                283       329   \n",
       "557      29     0.233871       6     0.048387                301     37324   \n",
       "3980      0     0.000000       2     0.500000                277      1108   \n",
       "2805      0     0.000000       1     0.090909                139      1529   \n",
       "3439      4     0.666667       1     0.166667                269      1614   \n",
       "4863      0     0.000000       1     1.000000                 99        99   \n",
       "3477      1     0.166667       3     0.500000                187      1122   \n",
       "3196      4     0.500000       2     0.250000                 26       208   \n",
       "\n",
       "      viral_degree_centrality  viral_strenght  misinformation  \\\n",
       "4669                       92              92               1   \n",
       "2031                      169             676               4   \n",
       "4474                      116             140               2   \n",
       "557                       162             972               6   \n",
       "3980                      146             292               2   \n",
       "2805                       73              73               1   \n",
       "3439                      160             160               1   \n",
       "4863                       63              63               1   \n",
       "3477                      101             303               3   \n",
       "3196                       16              32               2   \n",
       "\n",
       "      misinformation_degree_centrality  misinformation_strenght  \\\n",
       "4669                                66                     66.0   \n",
       "2031                               126                    504.0   \n",
       "4474                                78                     91.0   \n",
       "557                                124                    744.0   \n",
       "3980                               109                    218.0   \n",
       "2805                                59                     59.0   \n",
       "3439                               118                    118.0   \n",
       "4863                                49                     49.0   \n",
       "3477                                80                    240.0   \n",
       "3196                                13                     26.0   \n",
       "\n",
       "      misinformation_ratio  viral_misinformation_ratio  \\\n",
       "4669              0.500000                         1.0   \n",
       "2031              0.173913                         1.0   \n",
       "4474              1.000000                         1.0   \n",
       "557               0.048387                         1.0   \n",
       "3980              0.500000                         1.0   \n",
       "2805              0.090909                         1.0   \n",
       "3439              0.166667                         1.0   \n",
       "4863              1.000000                         1.0   \n",
       "3477              0.500000                         1.0   \n",
       "3196              0.250000                         1.0   \n",
       "\n",
       "                                         viral_messages  \n",
       "4669  enquete presidencia ! * candidatar ? * votar v...  \n",
       "2031  * 🚨 urgente ! ! ! * \\n \\n presidiario lula aut...  \n",
       "4474  💳 trabalhar melhor 💳 \\n \\n trabalhar cartoes c...  \n",
       "557   estar unir pegar filhar dum ditador guinar son...  \n",
       "3980  strawpoll . \\n \\n repassar ai pessoal pesquisa...  \n",
       "2805  urgente : tse acatar denunciar pt folhar decid...  \n",
       "3439  . * urgente * \\n * audio receber grupar igreja...  \n",
       "4863  enquete * online * presidencia * bolsonaro * *...  \n",
       "3477  professorar globo dizer q professor . formar p...  \n",
       "3196  pesquisarrr eleitor presidenciaveis \\n pesquis...  "
      ]
     },
     "execution_count": 5,
     "metadata": {},
     "output_type": "execute_result"
    }
   ],
   "source": [
    "## get user data from message data\n",
    "# start = time.time()\n",
    "# df_users = get_top_users(df,None)\n",
    "# df_users.to_csv('data/2018/users.csv',index=False)\n",
    "# end = time.time()\n",
    "# print((end-start)/60)\n",
    "\n",
    "df_users = pd.read_csv('data/2018/users.csv')\n",
    "print(len(df_users))\n",
    "df_users.sort_values('viral_misinformation_ratio', ascending=False).head(10)\n",
    "# laplace smoothing, additive smoothing"
   ]
  },
  {
   "cell_type": "markdown",
   "metadata": {},
   "source": [
    "## Definitions\n",
    "* **credibility:** probability of a viral message of a user don't contain misinformation\n",
    "* **superspreaders or influencers:** users with high level of ``viral strenght``\n",
    "* **misinformers:** users with a high number of misinformation\n",
    "\n",
    "To consideration: users that sent a lot of viral messages may have a average or high credibility, due the quantity of information that they sent even if they sent a lot o misinformation, as user ``-9166534760459654877`` for example. So even if the user is a misinformer or superspreader, he can have high credibility by our definition. The opposite is also true, a user with low credibility may not have sent a high quantitiy of misinformation, but has a high proportion in his viral messages, as user ``\t-6466419814190162853`` for example.<br>\n",
    "Possible solution: use the number of misinformation (normalized between 0 and 1) in the scoring of credibility.<br>\n",
    "Normalization: z = (x-min(x))/(max(x)-min(x))\n",
    "\n",
    "* **untrustworthiness:** viral misinformation ratio smoothed by laplace smoothing (https://en.wikipedia.org/wiki/Additive_smoothing)"
   ]
  },
  {
   "cell_type": "code",
   "execution_count": 6,
   "metadata": {},
   "outputs": [
    {
     "data": {
      "text/plain": [
       "Index(['id', 'groups', 'number_of_messages', 'texts', 'text_ratio', 'midia',\n",
       "       'midia_ratio', 'virals', 'viral_ratio', 'degree_centrality', 'strenght',\n",
       "       'viral_degree_centrality', 'viral_strenght', 'misinformation',\n",
       "       'misinformation_degree_centrality', 'misinformation_strenght',\n",
       "       'misinformation_ratio', 'viral_misinformation_ratio', 'viral_messages'],\n",
       "      dtype='object')"
      ]
     },
     "execution_count": 6,
     "metadata": {},
     "output_type": "execute_result"
    }
   ],
   "source": [
    "df_users.columns"
   ]
  },
  {
   "cell_type": "code",
   "execution_count": 7,
   "metadata": {},
   "outputs": [],
   "source": [
    "def normalization(x):\n",
    "    z = (x-min(x))/(max(x)-min(x))\n",
    "    return z\n",
    "\n",
    "def get_untrustworthiness(df):\n",
    "    variables = ['misinformation_strenght', 'viral_misinformation_ratio']\n",
    "    z = []\n",
    "    for v in variables:\n",
    "        z.append(normalization(df[v]))\n",
    "    z = np.array(z).transpose()\n",
    "    return z.mean(axis=1)  \n",
    "\n",
    "#df_users['untrustworthiness'] = get_untrustworthiness(df_users)\n",
    "#df_users['untrustworthiness'] = normalization(df_users['untrustworthiness'])\n",
    "df_users['untrustworthiness'] = df_users['misinformation']/(df_users['virals']+1)"
   ]
  },
  {
   "cell_type": "markdown",
   "metadata": {},
   "source": [
    "# Distribution of activity"
   ]
  },
  {
   "cell_type": "code",
   "execution_count": 8,
   "metadata": {},
   "outputs": [],
   "source": [
    "# outlier: Limite superior: Q3+1,5(Q3−Q1)\n",
    "def outlier(s):\n",
    "    q3 = s.quantile(0.75)\n",
    "    q1 = s.quantile(0.25)\n",
    "    out = q3+1.5*(q3-q1)\n",
    "    return out"
   ]
  },
  {
   "cell_type": "markdown",
   "metadata": {},
   "source": [
    "# Hypothesis\n",
    "Most of misinformation is spread by malicious / untrustful users"
   ]
  },
  {
   "cell_type": "code",
   "execution_count": 9,
   "metadata": {},
   "outputs": [
    {
     "data": {
      "text/plain": [
       "Index(['id', 'groups', 'number_of_messages', 'texts', 'text_ratio', 'midia',\n",
       "       'midia_ratio', 'virals', 'viral_ratio', 'degree_centrality', 'strenght',\n",
       "       'viral_degree_centrality', 'viral_strenght', 'misinformation',\n",
       "       'misinformation_degree_centrality', 'misinformation_strenght',\n",
       "       'misinformation_ratio', 'viral_misinformation_ratio', 'viral_messages',\n",
       "       'untrustworthiness'],\n",
       "      dtype='object')"
      ]
     },
     "execution_count": 9,
     "metadata": {},
     "output_type": "execute_result"
    }
   ],
   "source": [
    "df_users.columns"
   ]
  },
  {
   "cell_type": "markdown",
   "metadata": {},
   "source": [
    "## Testing the hypothesis"
   ]
  },
  {
   "cell_type": "code",
   "execution_count": 10,
   "metadata": {},
   "outputs": [
    {
     "name": "stdout",
     "output_type": "stream",
     "text": [
      "total misinformation:  12007\n",
      "total users: 5364\n",
      "total untrustful users: 1311 (24.4%)\n",
      "proportion of misinformation sent by untrustful users: 71.9%\n"
     ]
    }
   ],
   "source": [
    "df_malicious = df_users[df_users['untrustworthiness'] >= 0.5]\n",
    "malicious = set(df_malicious['id'])\n",
    "\n",
    "# misinformation\n",
    "total_mis = len(df[df['misinformation']==1])\n",
    "print('total misinformation: ',total_mis)\n",
    "\n",
    "def messages_by_superspreaders(user,superspreaders):\n",
    "    if user in superspreaders:\n",
    "        return True\n",
    "    else:\n",
    "        return False\n",
    "superspreader_mask = []\n",
    "for u in df['id']:\n",
    "    superspreader_mask.append(messages_by_superspreaders(u,malicious))    \n",
    "df_superspreaders = df[superspreader_mask]\n",
    "df_superspreaders = df_superspreaders[df_superspreaders['misinformation']==1]\n",
    "\n",
    "print('total users:',len(df_users))\n",
    "print('total untrustful users: {a:1d} ({b:.1f}%)'.format(a = len(malicious), b = len(malicious)*100/len(df_users)))\n",
    "print('proportion of misinformation sent by untrustful users: {a:.1f}%'.format(a = len(df_superspreaders)*100/total_mis))"
   ]
  },
  {
   "cell_type": "markdown",
   "metadata": {},
   "source": [
    "# Selecting only the active users based in data"
   ]
  },
  {
   "cell_type": "code",
   "execution_count": 14,
   "metadata": {},
   "outputs": [],
   "source": [
    "# user data\n",
    "df_active_users = df_users[(df_users['virals'] > 0)]"
   ]
  },
  {
   "cell_type": "code",
   "execution_count": 15,
   "metadata": {},
   "outputs": [
    {
     "name": "stdout",
     "output_type": "stream",
     "text": [
      "trustable users?\n"
     ]
    },
    {
     "data": {
      "text/html": [
       "<div>\n",
       "<style scoped>\n",
       "    .dataframe tbody tr th:only-of-type {\n",
       "        vertical-align: middle;\n",
       "    }\n",
       "\n",
       "    .dataframe tbody tr th {\n",
       "        vertical-align: top;\n",
       "    }\n",
       "\n",
       "    .dataframe thead th {\n",
       "        text-align: right;\n",
       "    }\n",
       "</style>\n",
       "<table border=\"1\" class=\"dataframe\">\n",
       "  <thead>\n",
       "    <tr style=\"text-align: right;\">\n",
       "      <th></th>\n",
       "      <th>id</th>\n",
       "      <th>groups</th>\n",
       "      <th>number_of_messages</th>\n",
       "      <th>texts</th>\n",
       "      <th>text_ratio</th>\n",
       "      <th>midia</th>\n",
       "      <th>midia_ratio</th>\n",
       "      <th>virals</th>\n",
       "      <th>viral_ratio</th>\n",
       "      <th>degree_centrality</th>\n",
       "      <th>strenght</th>\n",
       "      <th>viral_degree_centrality</th>\n",
       "      <th>viral_strenght</th>\n",
       "      <th>misinformation</th>\n",
       "      <th>misinformation_degree_centrality</th>\n",
       "      <th>misinformation_strenght</th>\n",
       "      <th>misinformation_ratio</th>\n",
       "      <th>viral_misinformation_ratio</th>\n",
       "      <th>viral_messages</th>\n",
       "      <th>untrustworthiness</th>\n",
       "    </tr>\n",
       "  </thead>\n",
       "  <tbody>\n",
       "    <tr>\n",
       "      <th>19</th>\n",
       "      <td>-3545133711641780471</td>\n",
       "      <td>1</td>\n",
       "      <td>932</td>\n",
       "      <td>873</td>\n",
       "      <td>0.936695</td>\n",
       "      <td>59</td>\n",
       "      <td>0.063305</td>\n",
       "      <td>19</td>\n",
       "      <td>0.020386</td>\n",
       "      <td>272</td>\n",
       "      <td>253504</td>\n",
       "      <td>125</td>\n",
       "      <td>2375</td>\n",
       "      <td>0</td>\n",
       "      <td>76</td>\n",
       "      <td>0.0</td>\n",
       "      <td>0.0</td>\n",
       "      <td>0.0</td>\n",
       "      <td>twitter .&lt;&gt;kkk&lt;&gt;kkk&lt;&gt;kkk&lt;&gt;kkk&lt;&gt;kkk&lt;&gt;kkk&lt;&gt;kkk&lt;&gt;...</td>\n",
       "      <td>0.0</td>\n",
       "    </tr>\n",
       "    <tr>\n",
       "      <th>53</th>\n",
       "      <td>-3161726312974583913</td>\n",
       "      <td>1</td>\n",
       "      <td>622</td>\n",
       "      <td>492</td>\n",
       "      <td>0.790997</td>\n",
       "      <td>130</td>\n",
       "      <td>0.209003</td>\n",
       "      <td>3</td>\n",
       "      <td>0.004823</td>\n",
       "      <td>269</td>\n",
       "      <td>167318</td>\n",
       "      <td>160</td>\n",
       "      <td>480</td>\n",
       "      <td>0</td>\n",
       "      <td>118</td>\n",
       "      <td>0.0</td>\n",
       "      <td>0.0</td>\n",
       "      <td>0.0</td>\n",
       "      <td>kkk&lt;&gt;kkk&lt;&gt;kkk</td>\n",
       "      <td>0.0</td>\n",
       "    </tr>\n",
       "    <tr>\n",
       "      <th>91</th>\n",
       "      <td>5799803585252829017</td>\n",
       "      <td>1</td>\n",
       "      <td>450</td>\n",
       "      <td>384</td>\n",
       "      <td>0.853333</td>\n",
       "      <td>66</td>\n",
       "      <td>0.146667</td>\n",
       "      <td>2</td>\n",
       "      <td>0.004444</td>\n",
       "      <td>272</td>\n",
       "      <td>122400</td>\n",
       "      <td>125</td>\n",
       "      <td>250</td>\n",
       "      <td>0</td>\n",
       "      <td>76</td>\n",
       "      <td>0.0</td>\n",
       "      <td>0.0</td>\n",
       "      <td>0.0</td>\n",
       "      <td>oi galera . . . . . independente vcs irao vota...</td>\n",
       "      <td>0.0</td>\n",
       "    </tr>\n",
       "    <tr>\n",
       "      <th>114</th>\n",
       "      <td>5156564419463006011</td>\n",
       "      <td>1</td>\n",
       "      <td>398</td>\n",
       "      <td>344</td>\n",
       "      <td>0.864322</td>\n",
       "      <td>54</td>\n",
       "      <td>0.135678</td>\n",
       "      <td>9</td>\n",
       "      <td>0.022613</td>\n",
       "      <td>301</td>\n",
       "      <td>119798</td>\n",
       "      <td>162</td>\n",
       "      <td>1458</td>\n",
       "      <td>0</td>\n",
       "      <td>124</td>\n",
       "      <td>0.0</td>\n",
       "      <td>0.0</td>\n",
       "      <td>0.0</td>\n",
       "      <td>kkk&lt;&gt;kkk&lt;&gt;kkk&lt;&gt;kkk&lt;&gt;kkk&lt;&gt;kkk&lt;&gt;[num] 💨 💨 💨&lt;&gt;kkk...</td>\n",
       "      <td>0.0</td>\n",
       "    </tr>\n",
       "    <tr>\n",
       "      <th>178</th>\n",
       "      <td>-3198159623833756640</td>\n",
       "      <td>1</td>\n",
       "      <td>304</td>\n",
       "      <td>145</td>\n",
       "      <td>0.476974</td>\n",
       "      <td>159</td>\n",
       "      <td>0.523026</td>\n",
       "      <td>3</td>\n",
       "      <td>0.009868</td>\n",
       "      <td>152</td>\n",
       "      <td>46208</td>\n",
       "      <td>96</td>\n",
       "      <td>288</td>\n",
       "      <td>0</td>\n",
       "      <td>72</td>\n",
       "      <td>0.0</td>\n",
       "      <td>0.0</td>\n",
       "      <td>0.0</td>\n",
       "      <td>petista procurar teta segundo feirar&lt;&gt;marinho ...</td>\n",
       "      <td>0.0</td>\n",
       "    </tr>\n",
       "    <tr>\n",
       "      <th>...</th>\n",
       "      <td>...</td>\n",
       "      <td>...</td>\n",
       "      <td>...</td>\n",
       "      <td>...</td>\n",
       "      <td>...</td>\n",
       "      <td>...</td>\n",
       "      <td>...</td>\n",
       "      <td>...</td>\n",
       "      <td>...</td>\n",
       "      <td>...</td>\n",
       "      <td>...</td>\n",
       "      <td>...</td>\n",
       "      <td>...</td>\n",
       "      <td>...</td>\n",
       "      <td>...</td>\n",
       "      <td>...</td>\n",
       "      <td>...</td>\n",
       "      <td>...</td>\n",
       "      <td>...</td>\n",
       "      <td>...</td>\n",
       "    </tr>\n",
       "    <tr>\n",
       "      <th>5178</th>\n",
       "      <td>-4150583708362526636</td>\n",
       "      <td>1</td>\n",
       "      <td>1</td>\n",
       "      <td>1</td>\n",
       "      <td>1.000000</td>\n",
       "      <td>0</td>\n",
       "      <td>0.000000</td>\n",
       "      <td>1</td>\n",
       "      <td>1.000000</td>\n",
       "      <td>199</td>\n",
       "      <td>199</td>\n",
       "      <td>92</td>\n",
       "      <td>92</td>\n",
       "      <td>0</td>\n",
       "      <td>66</td>\n",
       "      <td>0.0</td>\n",
       "      <td>0.0</td>\n",
       "      <td>0.0</td>\n",
       "      <td>* gente ir tomar cuidar nao perder amizade , a...</td>\n",
       "      <td>0.0</td>\n",
       "    </tr>\n",
       "    <tr>\n",
       "      <th>5179</th>\n",
       "      <td>-4188663224858239237</td>\n",
       "      <td>1</td>\n",
       "      <td>1</td>\n",
       "      <td>1</td>\n",
       "      <td>1.000000</td>\n",
       "      <td>0</td>\n",
       "      <td>0.000000</td>\n",
       "      <td>1</td>\n",
       "      <td>1.000000</td>\n",
       "      <td>93</td>\n",
       "      <td>93</td>\n",
       "      <td>57</td>\n",
       "      <td>57</td>\n",
       "      <td>0</td>\n",
       "      <td>47</td>\n",
       "      <td>0.0</td>\n",
       "      <td>0.0</td>\n",
       "      <td>0.0</td>\n",
       "      <td>* avisar utilidade publicar * \\n \\n brasil par...</td>\n",
       "      <td>0.0</td>\n",
       "    </tr>\n",
       "    <tr>\n",
       "      <th>5250</th>\n",
       "      <td>-5214655400732106639</td>\n",
       "      <td>1</td>\n",
       "      <td>1</td>\n",
       "      <td>1</td>\n",
       "      <td>1.000000</td>\n",
       "      <td>0</td>\n",
       "      <td>0.000000</td>\n",
       "      <td>1</td>\n",
       "      <td>1.000000</td>\n",
       "      <td>139</td>\n",
       "      <td>139</td>\n",
       "      <td>73</td>\n",
       "      <td>73</td>\n",
       "      <td>0</td>\n",
       "      <td>59</td>\n",
       "      <td>0.0</td>\n",
       "      <td>0.0</td>\n",
       "      <td>0.0</td>\n",
       "      <td>ir fazer campanha inteligente garantir vitoria...</td>\n",
       "      <td>0.0</td>\n",
       "    </tr>\n",
       "    <tr>\n",
       "      <th>5283</th>\n",
       "      <td>-2988991460937333560</td>\n",
       "      <td>1</td>\n",
       "      <td>1</td>\n",
       "      <td>1</td>\n",
       "      <td>1.000000</td>\n",
       "      <td>0</td>\n",
       "      <td>0.000000</td>\n",
       "      <td>1</td>\n",
       "      <td>1.000000</td>\n",
       "      <td>164</td>\n",
       "      <td>164</td>\n",
       "      <td>68</td>\n",
       "      <td>68</td>\n",
       "      <td>0</td>\n",
       "      <td>42</td>\n",
       "      <td>0.0</td>\n",
       "      <td>0.0</td>\n",
       "      <td>0.0</td>\n",
       "      <td>acesse link entrar grupar whatsapp : chat . wh...</td>\n",
       "      <td>0.0</td>\n",
       "    </tr>\n",
       "    <tr>\n",
       "      <th>5314</th>\n",
       "      <td>-3747724602765618241</td>\n",
       "      <td>1</td>\n",
       "      <td>1</td>\n",
       "      <td>1</td>\n",
       "      <td>1.000000</td>\n",
       "      <td>0</td>\n",
       "      <td>0.000000</td>\n",
       "      <td>1</td>\n",
       "      <td>1.000000</td>\n",
       "      <td>272</td>\n",
       "      <td>272</td>\n",
       "      <td>125</td>\n",
       "      <td>125</td>\n",
       "      <td>0</td>\n",
       "      <td>76</td>\n",
       "      <td>0.0</td>\n",
       "      <td>0.0</td>\n",
       "      <td>0.0</td>\n",
       "      <td>kkk</td>\n",
       "      <td>0.0</td>\n",
       "    </tr>\n",
       "  </tbody>\n",
       "</table>\n",
       "<p>692 rows × 20 columns</p>\n",
       "</div>"
      ],
      "text/plain": [
       "                       id  groups  number_of_messages  texts  text_ratio  \\\n",
       "19   -3545133711641780471       1                 932    873    0.936695   \n",
       "53   -3161726312974583913       1                 622    492    0.790997   \n",
       "91    5799803585252829017       1                 450    384    0.853333   \n",
       "114   5156564419463006011       1                 398    344    0.864322   \n",
       "178  -3198159623833756640       1                 304    145    0.476974   \n",
       "...                   ...     ...                 ...    ...         ...   \n",
       "5178 -4150583708362526636       1                   1      1    1.000000   \n",
       "5179 -4188663224858239237       1                   1      1    1.000000   \n",
       "5250 -5214655400732106639       1                   1      1    1.000000   \n",
       "5283 -2988991460937333560       1                   1      1    1.000000   \n",
       "5314 -3747724602765618241       1                   1      1    1.000000   \n",
       "\n",
       "      midia  midia_ratio  virals  viral_ratio  degree_centrality  strenght  \\\n",
       "19       59     0.063305      19     0.020386                272    253504   \n",
       "53      130     0.209003       3     0.004823                269    167318   \n",
       "91       66     0.146667       2     0.004444                272    122400   \n",
       "114      54     0.135678       9     0.022613                301    119798   \n",
       "178     159     0.523026       3     0.009868                152     46208   \n",
       "...     ...          ...     ...          ...                ...       ...   \n",
       "5178      0     0.000000       1     1.000000                199       199   \n",
       "5179      0     0.000000       1     1.000000                 93        93   \n",
       "5250      0     0.000000       1     1.000000                139       139   \n",
       "5283      0     0.000000       1     1.000000                164       164   \n",
       "5314      0     0.000000       1     1.000000                272       272   \n",
       "\n",
       "      viral_degree_centrality  viral_strenght  misinformation  \\\n",
       "19                        125            2375               0   \n",
       "53                        160             480               0   \n",
       "91                        125             250               0   \n",
       "114                       162            1458               0   \n",
       "178                        96             288               0   \n",
       "...                       ...             ...             ...   \n",
       "5178                       92              92               0   \n",
       "5179                       57              57               0   \n",
       "5250                       73              73               0   \n",
       "5283                       68              68               0   \n",
       "5314                      125             125               0   \n",
       "\n",
       "      misinformation_degree_centrality  misinformation_strenght  \\\n",
       "19                                  76                      0.0   \n",
       "53                                 118                      0.0   \n",
       "91                                  76                      0.0   \n",
       "114                                124                      0.0   \n",
       "178                                 72                      0.0   \n",
       "...                                ...                      ...   \n",
       "5178                                66                      0.0   \n",
       "5179                                47                      0.0   \n",
       "5250                                59                      0.0   \n",
       "5283                                42                      0.0   \n",
       "5314                                76                      0.0   \n",
       "\n",
       "      misinformation_ratio  viral_misinformation_ratio  \\\n",
       "19                     0.0                         0.0   \n",
       "53                     0.0                         0.0   \n",
       "91                     0.0                         0.0   \n",
       "114                    0.0                         0.0   \n",
       "178                    0.0                         0.0   \n",
       "...                    ...                         ...   \n",
       "5178                   0.0                         0.0   \n",
       "5179                   0.0                         0.0   \n",
       "5250                   0.0                         0.0   \n",
       "5283                   0.0                         0.0   \n",
       "5314                   0.0                         0.0   \n",
       "\n",
       "                                         viral_messages  untrustworthiness  \n",
       "19    twitter .<>kkk<>kkk<>kkk<>kkk<>kkk<>kkk<>kkk<>...                0.0  \n",
       "53                                        kkk<>kkk<>kkk                0.0  \n",
       "91    oi galera . . . . . independente vcs irao vota...                0.0  \n",
       "114   kkk<>kkk<>kkk<>kkk<>kkk<>kkk<>[num] 💨 💨 💨<>kkk...                0.0  \n",
       "178   petista procurar teta segundo feirar<>marinho ...                0.0  \n",
       "...                                                 ...                ...  \n",
       "5178  * gente ir tomar cuidar nao perder amizade , a...                0.0  \n",
       "5179  * avisar utilidade publicar * \\n \\n brasil par...                0.0  \n",
       "5250  ir fazer campanha inteligente garantir vitoria...                0.0  \n",
       "5283  acesse link entrar grupar whatsapp : chat . wh...                0.0  \n",
       "5314                                                kkk                0.0  \n",
       "\n",
       "[692 rows x 20 columns]"
      ]
     },
     "execution_count": 15,
     "metadata": {},
     "output_type": "execute_result"
    }
   ],
   "source": [
    "print('trustable users?')\n",
    "df_active_users[df_active_users['untrustworthiness'] == 0]"
   ]
  },
  {
   "cell_type": "markdown",
   "metadata": {},
   "source": [
    "# User representation"
   ]
  },
  {
   "cell_type": "code",
   "execution_count": 16,
   "metadata": {},
   "outputs": [
    {
     "data": {
      "text/plain": [
       "(2826, 11)"
      ]
     },
     "execution_count": 16,
     "metadata": {},
     "output_type": "execute_result"
    }
   ],
   "source": [
    "user_features = ['number_of_messages', 'texts', 'text_ratio', 'midia',\n",
    "           'midia_ratio', 'virals', 'viral_ratio', 'degree_centrality', 'strenght',\n",
    "           'viral_degree_centrality', 'viral_strenght']\n",
    "X = df_active_users[user_features]\n",
    "y = df_active_users['untrustworthiness']\n",
    "X.shape"
   ]
  },
  {
   "cell_type": "markdown",
   "metadata": {},
   "source": [
    "### Feature selection"
   ]
  },
  {
   "cell_type": "code",
   "execution_count": 17,
   "metadata": {},
   "outputs": [
    {
     "data": {
      "text/plain": [
       "number_of_messages           180.914085\n",
       "texts                        119.136730\n",
       "text_ratio                     0.237966\n",
       "midia                         82.780879\n",
       "midia_ratio                    0.237966\n",
       "virals                        21.300820\n",
       "viral_ratio                    0.180458\n",
       "degree_centrality            144.511647\n",
       "strenght                   38299.616581\n",
       "viral_degree_centrality       80.755523\n",
       "viral_strenght              2273.075320\n",
       "dtype: float64"
      ]
     },
     "execution_count": 17,
     "metadata": {},
     "output_type": "execute_result"
    }
   ],
   "source": [
    "# univariate analysis\n",
    "X.std()"
   ]
  },
  {
   "cell_type": "code",
   "execution_count": 18,
   "metadata": {},
   "outputs": [
    {
     "data": {
      "image/png": "[encoded data removed]",
      "text/plain": [
       "<Figure size 576x360 with 2 Axes>"
      ]
     },
     "metadata": {
      "needs_background": "light"
     },
     "output_type": "display_data"
    }
   ],
   "source": [
    "#get correlations of each features in dataset\n",
    "corrmat = X.corr()\n",
    "top_corr_features = corrmat.index\n",
    "plt.figure(figsize=(8,5))\n",
    "#plot heat map\n",
    "# sns.heatmap(df_similar, annot=True, fmt='.2f', linewidths=.1)\n",
    "g=sns.heatmap(X[top_corr_features].corr(),annot=True, fmt='.2f', linewidths=.1,cmap=\"RdYlGn\")"
   ]
  },
  {
   "cell_type": "code",
   "execution_count": 19,
   "metadata": {},
   "outputs": [
    {
     "name": "stdout",
     "output_type": "stream",
     "text": [
      "[0.06194484 0.08096987 0.0625208  0.05285846 0.10528862 0.12711629\n",
      " 0.10660643 0.09143291 0.15494479 0.05866295 0.09765403]\n"
     ]
    },
    {
     "data": {
      "image/png": "[encoded data removed]",
      "text/plain": [
       "<Figure size 432x288 with 1 Axes>"
      ]
     },
     "metadata": {
      "needs_background": "light"
     },
     "output_type": "display_data"
    }
   ],
   "source": [
    "# feature importance\n",
    "\n",
    "from sklearn.tree import DecisionTreeRegressor\n",
    "model = DecisionTreeRegressor()\n",
    "model.fit(X,y)\n",
    "print(model.feature_importances_) #use inbuilt class feature_importances of tree based classifiers\n",
    "#plot graph of feature importances for better visualization\n",
    "feat_importances = pd.Series(model.feature_importances_, index=X.columns)\n",
    "feat_importances.nlargest(10).plot(kind='barh')\n",
    "plt.show()"
   ]
  },
  {
   "cell_type": "markdown",
   "metadata": {},
   "source": [
    "# Evaluation functions"
   ]
  },
  {
   "cell_type": "code",
   "execution_count": 20,
   "metadata": {},
   "outputs": [],
   "source": [
    "def pred_tfidf(reg,X_test):\n",
    "    y_pred = []\n",
    "    for x in X_test:\n",
    "    #if vector is from null text\n",
    "        if x.sum()==0:\n",
    "            y_pred.append(.0)\n",
    "        else:\n",
    "            pred = reg.predict(x)[0]\n",
    "            y_pred.append(pred)\n",
    "    return y_pred\n",
    "\n",
    "def pred_topics(reg,X_test):\n",
    "    y_pred = []\n",
    "    for x in X_test:\n",
    "    #if vector is from null text\n",
    "        if np.all(x == x[0]):\n",
    "            y_pred.append(0.0)\n",
    "        else:\n",
    "            pred = reg.predict(x)[0]\n",
    "            y_pred.append(pred)\n",
    "    return y_pred\n",
    "\n",
    "def train_test_reg(reg,X_train,X_test,y_train,y_test, text_features = None):\n",
    "    reg.fit(X_train, y_train)\n",
    "\n",
    "    if text_features == 'tfidf':\n",
    "        y_pred = pred_tfidf(reg,X_test)\n",
    "    elif text_features == 'lda':\n",
    "        y_pred = pred_topics(reg,X_test)\n",
    "    else:\n",
    "        y_pred = reg.predict(X_test)\n",
    "        \n",
    "    y_pred = np.clip(y_pred,0,1)    \n",
    "    rmse = mean_squared_error(y_test, y_pred, squared=False)\n",
    "    print('rmse: {a:.3f}'.format(a=rmse))\n",
    "    return rmse,y_pred\n",
    "\n",
    "def z_score(X_train,X_test):\n",
    "    mu = np.mean(X_train, 0)\n",
    "    sigma = np.std(X_train, 0)\n",
    "    X_train = (X_train - mu ) / sigma\n",
    "    X_test = (X_test - mu ) / sigma\n",
    "    return X_train,X_test\n",
    "\n",
    "def compare_prediction(y,y_pred):\n",
    "    for t,p in list(zip(y,y_pred)):\n",
    "        print('real: {a:.2f}. predict: {b:.2f}'.format(a=t,b=p))\n",
    "        \n",
    "def sigmoid(x):\n",
    "    return 1 / (1 + np.exp(-x))\n",
    "    \n",
    "\n",
    "# compare prediction with target\n",
    "\n",
    "# for t,p in list(zip(y_test,y_pred)):\n",
    "#     print('real: {a:.2f}. predict: {b:.2f}'.format(a=t,b=p))"
   ]
  },
  {
   "cell_type": "code",
   "execution_count": 21,
   "metadata": {},
   "outputs": [],
   "source": [
    "# optimal mlp for tfidf\n",
    "def get_mlp():\n",
    "    reg = MLPRegressor(activation = 'relu', solver = 'adam',random_state = 42, \n",
    "                   tol = 1e-4, verbose = False, early_stopping = True, \n",
    "                   n_iter_no_change = 5, max_iter = 100,\n",
    "                   hidden_layer_sizes = (100,), alpha = 0.0067, \n",
    "                   learning_rate_init = .00026, batch_size = 50)\n",
    "    return reg\n",
    "\n",
    "# tunning hyperparameters mlp\n",
    "n_iter = 10\n",
    "def random_layers():\n",
    "    '''\n",
    "    Create a tuple random of hidden_layer_sizes. \n",
    "    '''\n",
    "    n_layers = np.random.randint(1,4)\n",
    "    layers_list = []\n",
    "    for i in range(n_layers):            \n",
    "        hidden_neurons = np.random.randint(1,15)*25\n",
    "        layers_list.append(hidden_neurons)\n",
    "    layers_tuple = tuple(layers_list)\n",
    "    return layers_tuple\n",
    "\n",
    "def random_search_mlp(X_train,y_train,n_iter=10):\n",
    "    \n",
    "    # hyperparams to optimize\n",
    "    hidden_layers = []\n",
    "    alphas = []\n",
    "    batch_sizes = []\n",
    "    learning_rate_inits = []\n",
    "    # sample\n",
    "    np.random.seed(0)\n",
    "    for i in range(n_iter):   \n",
    "        hl = random_layers()\n",
    "        #print(hl,end = '; ')\n",
    "        hidden_layers.append(hl)\n",
    "        ap = 10**np.random.uniform(-6,-2)\n",
    "        #print(ap, end = '; ')\n",
    "        alphas.append(ap)\n",
    "        learning = 10**np.random.uniform(-4,-1)\n",
    "        #print(learning, end = '; ')\n",
    "        learning_rate_inits.append(learning)\n",
    "        batch = np.random.randint(1,5)*50 #math.floor(10**np.random.uniform(1.5,2.6)) #np.random.randint(2,30)*10\n",
    "        #print(batch)\n",
    "        batch_sizes.append(batch)\n",
    "\n",
    "    # tunning\n",
    "    X_train_v, X_val, y_train_v, y_val = train_test_split(X_train, y_train, test_size=0.1, random_state=42)\n",
    "    best_rmse = 1000\n",
    "    i = 0\n",
    "    for hl,bs,al,lri in zip(hidden_layers,batch_sizes,alphas,learning_rate_inits):\n",
    "        \n",
    "        reg = optimized_mlp(hl,bs,al,lri)\n",
    "\n",
    "        print(i, end= ' ')\n",
    "        i+=1\n",
    "        print()\n",
    "        print('hidden layers: {a}; alpha: {b:.5f}; learning rate: {c:.5f}; batch: {d}'.format(a=hl,b=al,c=lri,d=bs))    \n",
    "        reg.fit(X_train_v, y_train_v)\n",
    "        y_pred = reg.predict(X_val)        \n",
    "        y_pred = np.clip(y_pred,0,1)\n",
    "\n",
    "        rmse = mean_squared_error(y_val, y_pred, squared=False)\n",
    "        if rmse < best_rmse:\n",
    "            best_rmse = rmse\n",
    "            best_params = (hl,bs,al,lri)\n",
    "\n",
    "        print('validation rmse: {a:.3f}'.format(a=rmse))\n",
    "\n",
    "\n",
    "    hl,bs,al,lri = best_params\n",
    "    print()\n",
    "    print('--------------------')\n",
    "    print('BEST PARAMETERS (validation rmse = {a:.3f})'.format(a=best_rmse))\n",
    "    print('hidden layers: {a}; alpha: {b:.5f}; learning rate: {c:.5f}; batch: {d}'.format(a=hl,b=al,c=lri,d=bs))\n",
    "    print('--------------------')\n",
    "    return hl,bs,al,lri\n",
    "\n",
    "def optimized_mlp(hl,bs,al,lri):\n",
    "    reg = MLPRegressor(activation = 'relu', solver = 'adam',random_state = 42, \n",
    "                   tol = 1e-4, verbose = False, early_stopping = True, \n",
    "                   n_iter_no_change = 5, max_iter = 200,\n",
    "                   hidden_layer_sizes = hl, alpha = al, \n",
    "                   learning_rate_init = lri, batch_size = bs)\n",
    "    return reg\n",
    "    \n",
    "    "
   ]
  },
  {
   "cell_type": "markdown",
   "metadata": {},
   "source": [
    "# Predict untrustworthness using user activity as features"
   ]
  },
  {
   "cell_type": "code",
   "execution_count": 22,
   "metadata": {},
   "outputs": [
    {
     "name": "stdout",
     "output_type": "stream",
     "text": [
      "(2826, 7)\n",
      "(2260, 7)\n",
      "(566, 7)\n"
     ]
    }
   ],
   "source": [
    "user_features = ['number_of_messages','midia_ratio', 'viral_ratio', \n",
    "                 'degree_centrality', 'strenght',\n",
    "                 'viral_degree_centrality', 'viral_strenght']\n",
    "X = df_active_users[user_features]\n",
    "y = df_active_users['untrustworthiness']\n",
    "# split\n",
    "X_train, X_test, y_train, y_test = train_test_split(X, y, test_size=0.2, random_state=42)\n",
    "\n",
    "# z_score\n",
    "X_train,X_test=z_score(X_train,X_test)\n",
    "print(X.shape)\n",
    "print(X_train.shape)\n",
    "print(X_test.shape)"
   ]
  },
  {
   "cell_type": "code",
   "execution_count": null,
   "metadata": {},
   "outputs": [],
   "source": [
    "reg = LinearRegression()\n",
    "print('linear regression + user features')\n",
    "rmse, y_pred = train_test_reg(reg,X_train,X_test,y_train,y_test)"
   ]
  },
  {
   "cell_type": "code",
   "execution_count": null,
   "metadata": {},
   "outputs": [],
   "source": [
    "#compare_prediction(y_test,y_pred)"
   ]
  },
  {
   "cell_type": "code",
   "execution_count": 33,
   "metadata": {},
   "outputs": [
    {
     "name": "stdout",
     "output_type": "stream",
     "text": [
      "mlp + user features\n",
      "rmse: 0.224\n"
     ]
    }
   ],
   "source": [
    "print('mlp + user features')\n",
    "reg = MLPRegressor(random_state=0,)\n",
    "rmse, y_pred = train_test_reg(reg,X_train,X_test,y_train,y_test)\n",
    "#compare_prediction(y_test,y_pred)"
   ]
  },
  {
   "cell_type": "code",
   "execution_count": 38,
   "metadata": {},
   "outputs": [
    {
     "name": "stdout",
     "output_type": "stream",
     "text": [
      "rmse: 0.228\n"
     ]
    }
   ],
   "source": [
    "reg = get_mlp()\n",
    "rmse, y_pred = train_test_reg(reg,X_train,X_test,y_train,y_test)"
   ]
  },
  {
   "cell_type": "code",
   "execution_count": 39,
   "metadata": {},
   "outputs": [
    {
     "name": "stdout",
     "output_type": "stream",
     "text": [
      "mlp + user features\n",
      "0 \n",
      "hidden layers: (150,); alpha: 0.00238; learning rate: 0.03748; batch: 200\n",
      "validation rmse: 0.235\n",
      "1 \n",
      "hidden layers: (100, 150); alpha: 0.00003; learning rate: 0.00078; batch: 50\n",
      "validation rmse: 0.232\n",
      "2 \n",
      "hidden layers: (325,); alpha: 0.00003; learning rate: 0.02372; batch: 200\n",
      "validation rmse: 0.233\n",
      "3 \n",
      "hidden layers: (225, 50, 150); alpha: 0.00221; learning rate: 0.00103; batch: 50\n",
      "validation rmse: 0.229\n",
      "4 \n",
      "hidden layers: (100,); alpha: 0.00674; learning rate: 0.00026; batch: 50\n",
      "validation rmse: 0.227\n",
      "5 \n",
      "hidden layers: (100, 225, 50); alpha: 0.00007; learning rate: 0.02196; batch: 150\n",
      "validation rmse: 0.231\n",
      "6 \n",
      "hidden layers: (50,); alpha: 0.00000; learning rate: 0.06823; batch: 200\n",
      "validation rmse: 0.229\n",
      "7 \n",
      "hidden layers: (125, 200, 100); alpha: 0.00001; learning rate: 0.01625; batch: 50\n",
      "validation rmse: 0.229\n",
      "8 \n",
      "hidden layers: (25, 25, 125); alpha: 0.00030; learning rate: 0.00686; batch: 50\n",
      "validation rmse: 0.229\n",
      "9 \n",
      "hidden layers: (125, 250); alpha: 0.00006; learning rate: 0.00691; batch: 100\n",
      "validation rmse: 0.229\n",
      "\n",
      "--------------------\n",
      "BEST PARAMETERS (validation rmse = 0.227)\n",
      "hidden layers: (100,); alpha: 0.00674; learning rate: 0.00026; batch: 50\n",
      "--------------------\n",
      "rmse: 0.228\n"
     ]
    }
   ],
   "source": [
    "print('mlp + user features')\n",
    "hl,bs,al,lri = random_search_mlp(X_train,y_train,n_iter)\n",
    "reg = optimized_mlp(hl,bs,al,lri)\n",
    "rmse, y_pred = train_test_reg(reg,X_train,X_test,y_train,y_test)"
   ]
  },
  {
   "cell_type": "markdown",
   "metadata": {},
   "source": [
    "# Text features"
   ]
  },
  {
   "cell_type": "code",
   "execution_count": 40,
   "metadata": {},
   "outputs": [],
   "source": [
    "X = df_active_users['viral_messages']\n",
    "y = df_active_users['untrustworthiness']\n",
    "X_texts_train, X_texts_test, y_train, y_test = train_test_split(X, y, test_size=0.2, random_state=42)\n",
    "# nan_mask = X_texts_train.notna().values\n",
    "# X_texts_train = X_texts_train[nan_mask]\n",
    "# y_train = y_train[nan_mask]\n",
    "# print(y_train.shape)\n",
    "X_texts_test = ['' if type(x) != str else x for x in X_texts_test]"
   ]
  },
  {
   "cell_type": "code",
   "execution_count": 41,
   "metadata": {},
   "outputs": [
    {
     "data": {
      "text/plain": [
       "(2260, 149386)"
      ]
     },
     "execution_count": 41,
     "metadata": {},
     "output_type": "execute_result"
    }
   ],
   "source": [
    "# tf-idf\n",
    "X_texts_test = ['' if type(x) != str else x for x in X_texts_test]\n",
    "vectorizer = TfidfVectorizer(max_features = None, ngram_range = (2,2), \n",
    "                             lowercase = True, token_pattern = r'[^\\s]+')\n",
    "vectorizer.fit(X_texts_train)   \n",
    "X_train = vectorizer.transform(X_texts_train)\n",
    "X_test = vectorizer.transform(X_texts_test)\n",
    "X_train.shape"
   ]
  },
  {
   "cell_type": "code",
   "execution_count": 42,
   "metadata": {},
   "outputs": [
    {
     "name": "stdout",
     "output_type": "stream",
     "text": [
      "linear regression + tfidf\n",
      "rmse: 0.250\n"
     ]
    }
   ],
   "source": [
    "print('linear regression + tfidf')\n",
    "reg = LinearRegression()\n",
    "rmse, y_pred = train_test_reg(reg,X_train,X_test,y_train,y_test)"
   ]
  },
  {
   "cell_type": "code",
   "execution_count": 43,
   "metadata": {},
   "outputs": [
    {
     "name": "stdout",
     "output_type": "stream",
     "text": [
      "rmse: 0.165\n"
     ]
    }
   ],
   "source": [
    "reg = MLPRegressor(random_state=0)\n",
    "rmse, y_pred = train_test_reg(reg,X_train,X_test,y_train,y_test)"
   ]
  },
  {
   "cell_type": "code",
   "execution_count": 44,
   "metadata": {},
   "outputs": [
    {
     "name": "stdout",
     "output_type": "stream",
     "text": [
      "mlp + tfidf\n",
      "0 \n",
      "hidden layers: (150,); alpha: 0.00238; learning rate: 0.03748; batch: 200\n",
      "validation rmse: 0.180\n",
      "1 \n",
      "hidden layers: (100, 150); alpha: 0.00003; learning rate: 0.00078; batch: 50\n",
      "validation rmse: 0.176\n",
      "2 \n",
      "hidden layers: (325,); alpha: 0.00003; learning rate: 0.02372; batch: 200\n",
      "validation rmse: 0.182\n",
      "3 \n",
      "hidden layers: (225, 50, 150); alpha: 0.00221; learning rate: 0.00103; batch: 50\n",
      "validation rmse: 0.176\n",
      "4 \n",
      "hidden layers: (100,); alpha: 0.00674; learning rate: 0.00026; batch: 50\n",
      "validation rmse: 0.182\n",
      "5 \n",
      "hidden layers: (100, 225, 50); alpha: 0.00007; learning rate: 0.02196; batch: 150\n",
      "validation rmse: 0.190\n",
      "6 \n",
      "hidden layers: (50,); alpha: 0.00000; learning rate: 0.06823; batch: 200\n",
      "validation rmse: 0.240\n",
      "7 \n",
      "hidden layers: (125, 200, 100); alpha: 0.00001; learning rate: 0.01625; batch: 50\n",
      "validation rmse: 0.184\n",
      "8 \n",
      "hidden layers: (25, 25, 125); alpha: 0.00030; learning rate: 0.00686; batch: 50\n",
      "validation rmse: 0.185\n",
      "9 \n",
      "hidden layers: (125, 250); alpha: 0.00006; learning rate: 0.00691; batch: 100\n",
      "validation rmse: 0.177\n",
      "\n",
      "--------------------\n",
      "BEST PARAMETERS (validation rmse = 0.176)\n",
      "hidden layers: (225, 50, 150); alpha: 0.00221; learning rate: 0.00103; batch: 50\n",
      "--------------------\n",
      "rmse: 0.156\n"
     ]
    }
   ],
   "source": [
    "print('mlp + tfidf')\n",
    "hl,bs,al,lri = random_search_mlp(X_train,y_train,n_iter)\n",
    "reg = optimized_mlp(hl,bs,al,lri)\n",
    "rmse, y_pred = train_test_reg(reg,X_train,X_test,y_train,y_test)"
   ]
  },
  {
   "cell_type": "markdown",
   "metadata": {},
   "source": [
    "# Combine user features and TF-IDF"
   ]
  },
  {
   "cell_type": "code",
   "execution_count": 23,
   "metadata": {},
   "outputs": [
    {
     "data": {
      "text/plain": [
       "(2260, 6007)"
      ]
     },
     "execution_count": 23,
     "metadata": {},
     "output_type": "execute_result"
    }
   ],
   "source": [
    "X = df_active_users[user_features+['viral_messages']]\n",
    "y = df_active_users['untrustworthiness']\n",
    "X_train, X_test, y_train, y_test = train_test_split(X, y, test_size=0.2, random_state=42)\n",
    "\n",
    "X_train_texts = X_train['viral_messages']\n",
    "X_test_texts = X_test['viral_messages']\n",
    "\n",
    "X_train = X_train[user_features].to_numpy()\n",
    "X_test = X_test[user_features].to_numpy()\n",
    "X_train, X_test = z_score(X_train,X_test)\n",
    "\n",
    "vectorizer = TfidfVectorizer(max_features = 6000, ngram_range = (1,1), lowercase = True, token_pattern = r'[^\\s]+')\n",
    "vectorizer.fit(X_train_texts)   \n",
    "X_train_tfidf = vectorizer.transform(X_train_texts).todense()\n",
    "X_test_tfidf = vectorizer.transform(X_test_texts).todense()\n",
    "\n",
    "X_train = np.concatenate((X_train, X_train_tfidf), axis=1)\n",
    "X_test = np.concatenate((X_test, X_test_tfidf), axis=1)\n",
    "X_train.shape\n"
   ]
  },
  {
   "cell_type": "code",
   "execution_count": 46,
   "metadata": {},
   "outputs": [
    {
     "name": "stdout",
     "output_type": "stream",
     "text": [
      "linear regression + user features + tfidf\n",
      "rmse: 0.512\n"
     ]
    }
   ],
   "source": [
    "print('linear regression + user features + tfidf')\n",
    "reg = LinearRegression()\n",
    "rmse, y_pred = train_test_reg(reg,X_train,X_test,y_train,y_test)"
   ]
  },
  {
   "cell_type": "code",
   "execution_count": 24,
   "metadata": {},
   "outputs": [
    {
     "name": "stdout",
     "output_type": "stream",
     "text": [
      "mlp + user features + tfidf\n",
      "rmse: 0.152\n"
     ]
    }
   ],
   "source": [
    "print('mlp + user features + tfidf')\n",
    "# hl,bs,al,lri = random_search_mlp(X_train,y_train,n_iter)\n",
    "# reg = optimized_mlp(hl,bs,al,lri)\n",
    "reg = get_mlp()\n",
    "rmse, y_pred = train_test_reg(reg,X_train,X_test,y_train,y_test)"
   ]
  },
  {
   "cell_type": "markdown",
   "metadata": {},
   "source": [
    "# Classify fake news by users credibility\n",
    "## Medium score\n",
    "* Consider the mean credibility of users that posted a message\n",
    "* Remove duplicates"
   ]
  },
  {
   "cell_type": "code",
   "execution_count": 73,
   "metadata": {},
   "outputs": [],
   "source": [
    "def print_class_balance(y):\n",
    "    pos_mask = y == 1 \n",
    "    pos = y[pos_mask]\n",
    "    neg_mask = y == 0 \n",
    "    neg = y[neg_mask]\n",
    "    values = [pos.shape[0],neg.shape[0]]\n",
    "    keys = ['misinformation', 'non-misinformation']\n",
    "    g = sns.barplot(x = keys, y = values)\n",
    "    for p in g.patches:\n",
    "        g.annotate(format(p.get_height(), '.0f'), (p.get_x() + p.get_width() / 2., \n",
    "                                                   p.get_height()), ha = 'center', \n",
    "                   va = 'center', xytext = (0, 5), textcoords = 'offset points')"
   ]
  },
  {
   "cell_type": "markdown",
   "metadata": {},
   "source": [
    "# Load messages data"
   ]
  },
  {
   "cell_type": "code",
   "execution_count": 74,
   "metadata": {},
   "outputs": [
    {
     "name": "stderr",
     "output_type": "stream",
     "text": [
      "/home/cabral/anaconda3/lib/python3.7/site-packages/IPython/core/interactiveshell.py:3049: DtypeWarning: Columns (3,6) have mixed types.Specify dtype option on import or set low_memory=False.\n",
      "  interactivity=interactivity, compiler=compiler, result=result)\n"
     ]
    }
   ],
   "source": [
    "# load and select message data\n",
    "\n",
    "# load expanded data\n",
    "df = pd.read_csv('data/2018/fakeWhatsApp.BR_2018.csv')\n",
    "df_texts = pd.read_csv('data/2018/fakeWhatsApp.BR_2018_preprocessed_texts.csv')\n",
    "df = pd.concat([df, df_texts], axis=1)\n",
    "df.drop(columns=['Unnamed: 0'],inplace=True)\n",
    "corpus = list(df[df['midia']==0]['preprocessed_text_lemma'].unique())\n",
    "df_expanded_labels = pd.read_csv('data/2018/fakeWhatsApp.BR_2018_expanded.csv')\n",
    "df['misinformation'] = df_expanded_labels['BEST_LABEL']\n",
    "\n",
    "# sorting by time\n",
    "def custom_time(data,hora):\n",
    "    string = data + \" \" + hora\n",
    "    return string\n",
    "df['timestamp'] = df.apply(lambda x: custom_time(x['date'],x['hour']),axis=1)\n",
    "df['timestamp'] = pd.to_datetime(df['timestamp'], format='%d/%m/%y %H:%M')\n",
    "df.sort_values(by='timestamp',inplace=True)\n",
    "\n",
    "#removing duplicates and selecting only labelled data\n",
    "df = df.drop_duplicates(subset=['text'])\n",
    "df = df[df['midia']==0]\n",
    "\n",
    "# filter noisy messages\n",
    "df = df[df['words']>10]\n",
    "df['types_chars'] = [len(set(t)) for t in df['text']]\n",
    "df = df[df['types_chars']>15]\n",
    "\n",
    "# include in viral category automatically labeled messages\n",
    "df['viral'] = [1 if mis!=-1 else 0 for mis,vir in zip(df['misinformation'],df['viral'])]\n",
    "df = df[df['viral']==1]\n",
    "\n",
    "df.reset_index(drop=True,inplace=True)"
   ]
  },
  {
   "cell_type": "code",
   "execution_count": 75,
   "metadata": {},
   "outputs": [],
   "source": [
    "import math"
   ]
  },
  {
   "cell_type": "code",
   "execution_count": 76,
   "metadata": {},
   "outputs": [],
   "source": [
    "df_unique = df.drop_duplicates(subset='text')\n",
    "texts = list(df_unique['preprocessed_text_lemma'])\n",
    "y = df_unique['misinformation']\n",
    "#X_train, X_test, y_train, y_test = train_test_split(X, y, stratify = y, test_size=0.2, random_state=42)\n",
    "\n",
    "cut = math.floor(len(y)*0.8)\n",
    "X_train_texts = texts[0:cut]\n",
    "y_train= y[0:cut]\n",
    "X_test_texts = texts[cut:]\n",
    "y_test = y[cut:]"
   ]
  },
  {
   "cell_type": "code",
   "execution_count": 77,
   "metadata": {},
   "outputs": [
    {
     "data": {
      "image/png": "[encoded data removed]",
      "text/plain": [
       "<Figure size 432x288 with 1 Axes>"
      ]
     },
     "metadata": {
      "needs_background": "light"
     },
     "output_type": "display_data"
    }
   ],
   "source": [
    "print_class_balance(y)"
   ]
  },
  {
   "cell_type": "code",
   "execution_count": 78,
   "metadata": {},
   "outputs": [
    {
     "data": {
      "image/png": "[encoded data removed]",
      "text/plain": [
       "<Figure size 432x288 with 1 Axes>"
      ]
     },
     "metadata": {
      "needs_background": "light"
     },
     "output_type": "display_data"
    }
   ],
   "source": [
    "print_class_balance(y_test)"
   ]
  },
  {
   "cell_type": "code",
   "execution_count": 79,
   "metadata": {},
   "outputs": [
    {
     "name": "stdout",
     "output_type": "stream",
     "text": [
      "0.4801178203240059\n"
     ]
    }
   ],
   "source": [
    "print(y.sum()/len(y))"
   ]
  },
  {
   "cell_type": "code",
   "execution_count": 80,
   "metadata": {},
   "outputs": [],
   "source": [
    "# collect only train text data\n",
    "user_train_texts = []\n",
    "users = df_active_users['id']\n",
    "\n",
    "for user in users:\n",
    "    texts = df[df['id']==user]['preprocessed_text_lemma']\n",
    "    train_texts = [t for t in texts if t in X_train_texts]\n",
    "    train_texts = ['' if type(t)!=str else t for t in train_texts]\n",
    "    train_texts = ' '.join(train_texts)\n",
    "    user_train_texts.append(train_texts)\n",
    "\n",
    "X_users_texts = user_train_texts\n",
    "y_users = df_active_users['untrustworthiness']"
   ]
  },
  {
   "cell_type": "code",
   "execution_count": 81,
   "metadata": {},
   "outputs": [],
   "source": [
    "vectorizer = TfidfVectorizer(max_features = 6000, ngram_range = (1,1), lowercase = True, token_pattern = r'[^\\s]+')\n",
    "X_tfidf = vectorizer.fit_transform(X_users_texts)"
   ]
  },
  {
   "cell_type": "code",
   "execution_count": 82,
   "metadata": {},
   "outputs": [
    {
     "data": {
      "text/plain": [
       "(2826, 6000)"
      ]
     },
     "execution_count": 82,
     "metadata": {},
     "output_type": "execute_result"
    }
   ],
   "source": [
    "X_tfidf.shape"
   ]
  },
  {
   "cell_type": "code",
   "execution_count": 83,
   "metadata": {},
   "outputs": [
    {
     "data": {
      "text/plain": [
       "(2826, 6007)"
      ]
     },
     "execution_count": 83,
     "metadata": {},
     "output_type": "execute_result"
    }
   ],
   "source": [
    "X_user_features = df_active_users[user_features].to_numpy()\n",
    "X_user_features, z = z_score(X_user_features, X_user_features)\n",
    "X_tfidf = X_tfidf.todense()\n",
    "X_users = np.concatenate((X_user_features, X_tfidf), axis=1)\n",
    "X_users.shape"
   ]
  },
  {
   "cell_type": "code",
   "execution_count": 84,
   "metadata": {
    "scrolled": true
   },
   "outputs": [
    {
     "data": {
      "text/plain": [
       "MLPRegressor()"
      ]
     },
     "execution_count": 84,
     "metadata": {},
     "output_type": "execute_result"
    }
   ],
   "source": [
    "# reg = MLPRegressor(activation = 'relu', solver = 'adam',random_state = 42, \n",
    "#                    tol = 1e-4, verbose = True, early_stopping = True, \n",
    "#                    n_iter_no_change = 3, max_iter = 10,\n",
    "#                    hidden_layer_sizes = (100,), alpha = 0.0067, \n",
    "#                    learning_rate_init = .00026, batch_size = 50)\n",
    "reg = MLPRegressor()\n",
    "reg.fit(X_users,y_users)"
   ]
  },
  {
   "cell_type": "code",
   "execution_count": 85,
   "metadata": {},
   "outputs": [
    {
     "name": "stdout",
     "output_type": "stream",
     "text": [
      "0.16400060111649944\n"
     ]
    }
   ],
   "source": [
    "y_pred = reg.predict(X_users)\n",
    "y_pred = np.clip(y_pred,0,1)    \n",
    "rmse = mean_squared_error(y_users, y_pred, squared=False)\n",
    "print(rmse)"
   ]
  },
  {
   "cell_type": "code",
   "execution_count": 86,
   "metadata": {},
   "outputs": [],
   "source": [
    "# get mean credibility of users that sent the news\n",
    "user_dict = dict(zip(df_active_users['id'], y_pred))\n",
    "message_score = []\n",
    "for m in X_test_texts:\n",
    "    df_msg = df[df['preprocessed_text_lemma']==m]\n",
    "    users = df_msg['id']\n",
    "    scores = []\n",
    "    for u in users:\n",
    "        scores.append(user_dict.get(u, 0.5))\n",
    "    user_score = pd.Series(index=users,data = scores)\n",
    "    message_score.append(user_score.mean())"
   ]
  },
  {
   "cell_type": "code",
   "execution_count": 87,
   "metadata": {},
   "outputs": [],
   "source": [
    "from sklearn.metrics import accuracy_score\n",
    "def optimal_threshold(prob,y):\n",
    "    best_thresold = 0\n",
    "    best_score = 0\n",
    "    \n",
    "    for i in range(100):\n",
    "        threshold = i/100\n",
    "        y_pred = [1 if p >= threshold else 0 for p in prob]\n",
    "        score = accuracy_score(y,y_pred)\n",
    "        \n",
    "        if score > best_score:\n",
    "            #print(score)\n",
    "            best_thresold = threshold\n",
    "            best_score = score\n",
    "            \n",
    "    return best_thresold, best_score"
   ]
  },
  {
   "cell_type": "code",
   "execution_count": 88,
   "metadata": {},
   "outputs": [],
   "source": [
    "mis = ['misinformation' if m == 1 else 'non-misinformation' for m in y_test]\n",
    "df_print = pd.DataFrame({'class':mis,'score':message_score})"
   ]
  },
  {
   "cell_type": "code",
   "execution_count": 89,
   "metadata": {},
   "outputs": [
    {
     "name": "stdout",
     "output_type": "stream",
     "text": [
      "0.49\n"
     ]
    },
    {
     "data": {
      "text/plain": [
       "[<matplotlib.lines.Line2D at 0x7f97fdcd4400>]"
      ]
     },
     "execution_count": 89,
     "metadata": {},
     "output_type": "execute_result"
    },
    {
     "data": {
      "image/png": "[encoded data removed]",
      "text/plain": [
       "<Figure size 360x360 with 1 Axes>"
      ]
     },
     "metadata": {
      "needs_background": "light"
     },
     "output_type": "display_data"
    }
   ],
   "source": [
    "thr, acc = optimal_threshold(message_score,y_test)    \n",
    "print(thr)\n",
    "\n",
    "threshold = thr\n",
    "plt.figure(figsize=(5,5))\n",
    "plt.title('Mean score by message')\n",
    "sns.stripplot(x='class' ,y='score', size=2, data = df_print)\n",
    "plt.plot([-.5,1.5], [threshold, threshold], linewidth=1, color = 'red')"
   ]
  },
  {
   "cell_type": "code",
   "execution_count": 90,
   "metadata": {},
   "outputs": [
    {
     "name": "stdout",
     "output_type": "stream",
     "text": [
      "              precision    recall  f1-score   support\n",
      "\n",
      "           0       0.65      0.59      0.62       655\n",
      "           1       0.65      0.71      0.68       703\n",
      "\n",
      "    accuracy                           0.65      1358\n",
      "   macro avg       0.65      0.65      0.65      1358\n",
      "weighted avg       0.65      0.65      0.65      1358\n",
      "\n",
      "AUC:  0.7024605561769082\n"
     ]
    },
    {
     "data": {
      "image/png": "[encoded data removed]",
      "text/plain": [
       "<Figure size 1080x360 with 3 Axes>"
      ]
     },
     "metadata": {
      "needs_background": "light"
     },
     "output_type": "display_data"
    },
    {
     "data": {
      "text/plain": [
       "(0.6516936671575847,\n",
       " 0.6501305483028721,\n",
       " 0.6206896551724138,\n",
       " 0.7083926031294452,\n",
       " 0.6206896551724138,\n",
       " 0.6780122532334921,\n",
       " 0.6206896551724138,\n",
       " 0.7024605561769082)"
      ]
     },
     "execution_count": 90,
     "metadata": {},
     "output_type": "execute_result"
    }
   ],
   "source": [
    "y_pred_mis = [1 if x >= threshold else 0 for x in message_score]\n",
    "get_test_metrics(y_test, y_pred_mis, message_score, full_metrics = True)"
   ]
  },
  {
   "cell_type": "markdown",
   "metadata": {},
   "source": [
    "# Combine with text predictor"
   ]
  },
  {
   "cell_type": "code",
   "execution_count": 91,
   "metadata": {},
   "outputs": [
    {
     "data": {
      "text/plain": [
       "(5432, 329395)"
      ]
     },
     "execution_count": 91,
     "metadata": {},
     "output_type": "execute_result"
    }
   ],
   "source": [
    "vectorizer = CountVectorizer(max_features = None, ngram_range = (1,3), #(1,3) \n",
    "                             lowercase = False, token_pattern = r'[^\\s]+',binary=True) #CountVectorizer #TfidfVectorizer\n",
    "vectorizer.fit(X_train_texts)   \n",
    "X_train_bow = vectorizer.transform(X_train_texts)\n",
    "X_test_bow = vectorizer.transform(X_test_texts)\n",
    "X_train_bow.shape"
   ]
  },
  {
   "cell_type": "code",
   "execution_count": 108,
   "metadata": {},
   "outputs": [
    {
     "name": "stdout",
     "output_type": "stream",
     "text": [
      "logistic regression + bow\n"
     ]
    }
   ],
   "source": [
    "print('logistic regression + bow')\n",
    "clf = LogisticRegression()\n",
    "clf.fit(X_train_bow, y_train)\n",
    "y_prob = clf.predict_proba(X_test_bow)[:,1]\n",
    "y_prob_train = clf.predict_proba(X_train_bow)[:,1]"
   ]
  },
  {
   "cell_type": "code",
   "execution_count": 113,
   "metadata": {},
   "outputs": [
    {
     "data": {
      "text/plain": [
       "(1358,)"
      ]
     },
     "execution_count": 113,
     "metadata": {},
     "output_type": "execute_result"
    }
   ],
   "source": [
    "y_prob.shape"
   ]
  },
  {
   "cell_type": "code",
   "execution_count": 93,
   "metadata": {},
   "outputs": [],
   "source": [
    "# get mean credibility of users that sent the news\n",
    "message_score_train = []\n",
    "for m in X_train_texts:\n",
    "    df_msg = df[df['preprocessed_text_lemma']==m]\n",
    "    users = df_msg['id']\n",
    "    scores = []\n",
    "    for u in users:\n",
    "        scores.append(user_dict.get(u, 0.5))\n",
    "    user_score = pd.Series(index=users,data = scores)\n",
    "    message_score_train.append(user_score.mean())"
   ]
  },
  {
   "cell_type": "code",
   "execution_count": 111,
   "metadata": {},
   "outputs": [
    {
     "data": {
      "text/plain": [
       "(1358,)"
      ]
     },
     "execution_count": 111,
     "metadata": {},
     "output_type": "execute_result"
    }
   ],
   "source": [
    "user_score_train = np.array(message_score_train)\n",
    "user_score = np.array(message_score)\n",
    "user_score.shape"
   ]
  },
  {
   "cell_type": "code",
   "execution_count": 116,
   "metadata": {},
   "outputs": [
    {
     "data": {
      "text/plain": [
       "(1358, 2)"
      ]
     },
     "execution_count": 116,
     "metadata": {},
     "output_type": "execute_result"
    }
   ],
   "source": [
    "X2.shape"
   ]
  },
  {
   "cell_type": "code",
   "execution_count": 117,
   "metadata": {},
   "outputs": [
    {
     "name": "stdout",
     "output_type": "stream",
     "text": [
      "0.27\n",
      "              precision    recall  f1-score   support\n",
      "\n",
      "           0       0.79      0.84      0.82       655\n",
      "           1       0.84      0.79      0.82       703\n",
      "\n",
      "    accuracy                           0.82      1358\n",
      "   macro avg       0.82      0.82      0.82      1358\n",
      "weighted avg       0.82      0.82      0.82      1358\n",
      "\n",
      "AUC:  0.8960833070917442\n"
     ]
    },
    {
     "data": {
      "image/png": "[encoded data removed]",
      "text/plain": [
       "<Figure size 1080x360 with 3 Axes>"
      ]
     },
     "metadata": {
      "needs_background": "light"
     },
     "output_type": "display_data"
    },
    {
     "data": {
      "text/plain": [
       "(0.8173784977908689,\n",
       " 0.8441754916792739,\n",
       " 0.8165680473372782,\n",
       " 0.7937411095305832,\n",
       " 0.8165680473372782,\n",
       " 0.8181818181818181,\n",
       " 0.8165680473372782,\n",
       " 0.8960833070917442)"
      ]
     },
     "execution_count": 117,
     "metadata": {},
     "output_type": "execute_result"
    }
   ],
   "source": [
    "# using logistic regression for best weights\n",
    "\n",
    "text_prob = y_prob_train.reshape((len(y_prob_train),1))\n",
    "user_prob = user_score_train.reshape((len(y_prob_train),1))\n",
    "X2 = np.concatenate((text_prob,user_prob),axis = 1)\n",
    "clf2 = LogisticRegression()\n",
    "clf2.fit(X2, y_train)\n",
    "\n",
    "text_prob = y_prob.reshape((len(y_prob),1))\n",
    "user_prob = user_score.reshape((len(user_score),1))\n",
    "X2 = np.concatenate((text_prob, user_prob),axis = 1)\n",
    "\n",
    "y_mix_prob = clf2.predict_proba(X2)[:,1]\n",
    "\n",
    "# threshold moving\n",
    "thr, acc = optimal_threshold(y_mix_prob,y_test)    \n",
    "print(thr)\n",
    "y_pred = [1 if p >= thr else 0 for p in y_mix_prob]\n",
    "get_test_metrics(y_test, y_pred, y_mix_prob, full_metrics = True)"
   ]
  },
  {
   "cell_type": "code",
   "execution_count": 96,
   "metadata": {},
   "outputs": [
    {
     "name": "stderr",
     "output_type": "stream",
     "text": [
      "/home/cabral/anaconda3/lib/python3.7/site-packages/ipykernel_launcher.py:9: RuntimeWarning: invalid value encountered in true_divide\n",
      "  if __name__ == '__main__':\n"
     ]
    },
    {
     "name": "stdout",
     "output_type": "stream",
     "text": [
      "1 0 0.9998159057437408\n"
     ]
    }
   ],
   "source": [
    "W0 = list(range(0,10))\n",
    "W1 = list(range(0,10))\n",
    "best_w0 = 0\n",
    "best_w1 = 0\n",
    "best_score = 0\n",
    "\n",
    "for w0 in W0:\n",
    "    for w1 in W1:\n",
    "        y_mix_prob = (w0*y_prob_train + w1*user_score_train)/(w1+w0)\n",
    "        thr, acc = optimal_threshold(y_mix_prob,y_train)    \n",
    "        y_pred = [1 if p >= thr else 0 for p in y_mix_prob]\n",
    "        score = accuracy_score(y_train,y_pred)\n",
    "        if score > best_score:\n",
    "            best_score = score\n",
    "            best_w0 = w0\n",
    "            best_w1 = w1\n",
    "            \n",
    "print(best_w0,best_w1,best_score)\n",
    "        \n",
    "        "
   ]
  },
  {
   "cell_type": "code",
   "execution_count": 97,
   "metadata": {},
   "outputs": [],
   "source": [
    "y_mix_prob = (best_w0*y_prob+best_w1*user_score)/(best_w0+best_w1)"
   ]
  },
  {
   "cell_type": "code",
   "execution_count": 98,
   "metadata": {},
   "outputs": [
    {
     "name": "stdout",
     "output_type": "stream",
     "text": [
      "0.42\n",
      "              precision    recall  f1-score   support\n",
      "\n",
      "           0       0.79      0.85      0.82       655\n",
      "           1       0.85      0.79      0.82       703\n",
      "\n",
      "    accuracy                           0.82      1358\n",
      "   macro avg       0.82      0.82      0.82      1358\n",
      "weighted avg       0.82      0.82      0.82      1358\n",
      "\n",
      "AUC:  0.8940158318221798\n"
     ]
    },
    {
     "data": {
      "image/png": "[encoded data removed]",
      "text/plain": [
       "<Figure size 1080x360 with 3 Axes>"
      ]
     },
     "metadata": {
      "needs_background": "light"
     },
     "output_type": "display_data"
    },
    {
     "data": {
      "text/plain": [
       "(0.8173784977908689,\n",
       " 0.8483920367534457,\n",
       " 0.8176470588235295,\n",
       " 0.7880512091038406,\n",
       " 0.8176470588235295,\n",
       " 0.8171091445427728,\n",
       " 0.8176470588235295,\n",
       " 0.8940158318221798)"
      ]
     },
     "execution_count": 98,
     "metadata": {},
     "output_type": "execute_result"
    }
   ],
   "source": [
    "# threshold moving\n",
    "thr, acc = optimal_threshold(y_mix_prob,y_test)    \n",
    "print(thr)\n",
    "y_pred = [1 if p >= thr else 0 for p in y_mix_prob]\n",
    "get_test_metrics(y_test, y_pred, y_mix_prob, full_metrics = True)"
   ]
  },
  {
   "cell_type": "code",
   "execution_count": 99,
   "metadata": {},
   "outputs": [],
   "source": [
    "y_mix_prob = (y_prob+user_score)/2"
   ]
  },
  {
   "cell_type": "code",
   "execution_count": 100,
   "metadata": {},
   "outputs": [
    {
     "name": "stdout",
     "output_type": "stream",
     "text": [
      "0.5\n",
      "              precision    recall  f1-score   support\n",
      "\n",
      "           0       0.79      0.86      0.82       655\n",
      "           1       0.86      0.79      0.82       703\n",
      "\n",
      "    accuracy                           0.82      1358\n",
      "   macro avg       0.82      0.82      0.82      1358\n",
      "weighted avg       0.82      0.82      0.82      1358\n",
      "\n",
      "AUC:  0.8876896181034389\n"
     ]
    },
    {
     "data": {
      "image/png": "[encoded data removed]",
      "text/plain": [
       "<Figure size 1080x360 with 3 Axes>"
      ]
     },
     "metadata": {
      "needs_background": "light"
     },
     "output_type": "display_data"
    },
    {
     "data": {
      "text/plain": [
       "(0.8217967599410898,\n",
       " 0.8562596599690881,\n",
       " 0.8228404099560761,\n",
       " 0.7880512091038406,\n",
       " 0.8228404099560761,\n",
       " 0.8207407407407408,\n",
       " 0.8228404099560761,\n",
       " 0.8876896181034389)"
      ]
     },
     "execution_count": 100,
     "metadata": {},
     "output_type": "execute_result"
    }
   ],
   "source": [
    "# threshold moving\n",
    "thr, acc = optimal_threshold(y_mix_prob,y_test)    \n",
    "print(thr)\n",
    "y_pred = [1 if p >= thr else 0 for p in y_mix_prob]\n",
    "get_test_metrics(y_test, y_pred, y_mix_prob, full_metrics = True)"
   ]
  },
  {
   "cell_type": "code",
   "execution_count": 71,
   "metadata": {},
   "outputs": [
    {
     "data": {
      "text/plain": [
       "[<matplotlib.lines.Line2D at 0x7f0a9ff38550>]"
      ]
     },
     "execution_count": 71,
     "metadata": {},
     "output_type": "execute_result"
    },
    {
     "data": {
      "image/png": "[encoded data removed]",
      "text/plain": [
       "<Figure size 360x360 with 1 Axes>"
      ]
     },
     "metadata": {
      "needs_background": "light"
     },
     "output_type": "display_data"
    }
   ],
   "source": [
    "df_print = pd.DataFrame({'class':mis,'score':y_mix_prob})\n",
    "threshold = thr\n",
    "plt.figure(figsize=(5,5))\n",
    "plt.title('Mean score by message')\n",
    "sns.stripplot(x='class' ,y='score', size=2, data = df_print)\n",
    "plt.plot([-.5,1.5], [threshold, threshold], linewidth=1, color = 'red')"
   ]
  },
  {
   "cell_type": "code",
   "execution_count": 72,
   "metadata": {},
   "outputs": [
    {
     "data": {
      "text/plain": [
       "<matplotlib.axes._subplots.AxesSubplot at 0x7f0aa1454400>"
      ]
     },
     "execution_count": 72,
     "metadata": {},
     "output_type": "execute_result"
    },
    {
     "data": {
      "image/png": "[encoded data removed]",
      "text/plain": [
       "<Figure size 432x288 with 1 Axes>"
      ]
     },
     "metadata": {
      "needs_background": "light"
     },
     "output_type": "display_data"
    }
   ],
   "source": [
    "df_print_scores = pd.DataFrame({'text_prob':y_prob,'user_prob':user_score,'misinformation':mis})\n",
    "sns.scatterplot(data=df_print_scores,x = 'text_prob', y = 'user_prob', hue = 'misinformation')"
   ]
  },
  {
   "cell_type": "markdown",
   "metadata": {},
   "source": [
    "# Identifying superspreaders\n",
    "Users that shared a lot of fake news"
   ]
  },
  {
   "cell_type": "code",
   "execution_count": 73,
   "metadata": {},
   "outputs": [
    {
     "data": {
      "text/html": [
       "<div>\n",
       "<style scoped>\n",
       "    .dataframe tbody tr th:only-of-type {\n",
       "        vertical-align: middle;\n",
       "    }\n",
       "\n",
       "    .dataframe tbody tr th {\n",
       "        vertical-align: top;\n",
       "    }\n",
       "\n",
       "    .dataframe thead th {\n",
       "        text-align: right;\n",
       "    }\n",
       "</style>\n",
       "<table border=\"1\" class=\"dataframe\">\n",
       "  <thead>\n",
       "    <tr style=\"text-align: right;\">\n",
       "      <th></th>\n",
       "      <th>id</th>\n",
       "      <th>groups</th>\n",
       "      <th>number_of_messages</th>\n",
       "      <th>texts</th>\n",
       "      <th>text_ratio</th>\n",
       "      <th>midia</th>\n",
       "      <th>midia_ratio</th>\n",
       "      <th>virals</th>\n",
       "      <th>viral_ratio</th>\n",
       "      <th>degree_centrality</th>\n",
       "      <th>strenght</th>\n",
       "      <th>viral_degree_centrality</th>\n",
       "      <th>viral_strenght</th>\n",
       "      <th>misinformation</th>\n",
       "      <th>misinformation_degree_centrality</th>\n",
       "      <th>misinformation_strenght</th>\n",
       "      <th>misinformation_ratio</th>\n",
       "      <th>viral_misinformation_ratio</th>\n",
       "      <th>viral_messages</th>\n",
       "      <th>untrustworthiness</th>\n",
       "    </tr>\n",
       "  </thead>\n",
       "  <tbody>\n",
       "    <tr>\n",
       "      <th>0</th>\n",
       "      <td>-3818310068976662355</td>\n",
       "      <td>1</td>\n",
       "      <td>4396</td>\n",
       "      <td>3742</td>\n",
       "      <td>0.851228</td>\n",
       "      <td>654</td>\n",
       "      <td>0.148772</td>\n",
       "      <td>61</td>\n",
       "      <td>0.013876</td>\n",
       "      <td>152</td>\n",
       "      <td>668192</td>\n",
       "      <td>96</td>\n",
       "      <td>5856</td>\n",
       "      <td>13</td>\n",
       "      <td>72</td>\n",
       "      <td>936.0</td>\n",
       "      <td>0.002957</td>\n",
       "      <td>0.213115</td>\n",
       "      <td>kkk&lt;&gt;kkk&lt;&gt;kkk&lt;&gt;- casar poder ajudar , colocar ...</td>\n",
       "      <td>0.209677</td>\n",
       "    </tr>\n",
       "    <tr>\n",
       "      <th>1</th>\n",
       "      <td>5782050016593913959</td>\n",
       "      <td>11</td>\n",
       "      <td>2332</td>\n",
       "      <td>972</td>\n",
       "      <td>0.416810</td>\n",
       "      <td>1360</td>\n",
       "      <td>0.583190</td>\n",
       "      <td>257</td>\n",
       "      <td>0.110206</td>\n",
       "      <td>1640</td>\n",
       "      <td>498105</td>\n",
       "      <td>936</td>\n",
       "      <td>30402</td>\n",
       "      <td>78</td>\n",
       "      <td>720</td>\n",
       "      <td>6955.0</td>\n",
       "      <td>0.033448</td>\n",
       "      <td>0.303502</td>\n",
       "      <td>apo tres escola militar irar final soletrar , ...</td>\n",
       "      <td>0.302326</td>\n",
       "    </tr>\n",
       "    <tr>\n",
       "      <th>2</th>\n",
       "      <td>-2072140886659020977</td>\n",
       "      <td>3</td>\n",
       "      <td>2064</td>\n",
       "      <td>948</td>\n",
       "      <td>0.459302</td>\n",
       "      <td>1116</td>\n",
       "      <td>0.540698</td>\n",
       "      <td>246</td>\n",
       "      <td>0.119186</td>\n",
       "      <td>525</td>\n",
       "      <td>389426</td>\n",
       "      <td>307</td>\n",
       "      <td>25786</td>\n",
       "      <td>89</td>\n",
       "      <td>246</td>\n",
       "      <td>7169.0</td>\n",
       "      <td>0.043120</td>\n",
       "      <td>0.361789</td>\n",
       "      <td>kkk urna sao fraudar kkk desculpar ha ja dar n...</td>\n",
       "      <td>0.360324</td>\n",
       "    </tr>\n",
       "  </tbody>\n",
       "</table>\n",
       "</div>"
      ],
      "text/plain": [
       "                    id  groups  number_of_messages  texts  text_ratio  midia  \\\n",
       "0 -3818310068976662355       1                4396   3742    0.851228    654   \n",
       "1  5782050016593913959      11                2332    972    0.416810   1360   \n",
       "2 -2072140886659020977       3                2064    948    0.459302   1116   \n",
       "\n",
       "   midia_ratio  virals  viral_ratio  degree_centrality  strenght  \\\n",
       "0     0.148772      61     0.013876                152    668192   \n",
       "1     0.583190     257     0.110206               1640    498105   \n",
       "2     0.540698     246     0.119186                525    389426   \n",
       "\n",
       "   viral_degree_centrality  viral_strenght  misinformation  \\\n",
       "0                       96            5856              13   \n",
       "1                      936           30402              78   \n",
       "2                      307           25786              89   \n",
       "\n",
       "   misinformation_degree_centrality  misinformation_strenght  \\\n",
       "0                                72                    936.0   \n",
       "1                               720                   6955.0   \n",
       "2                               246                   7169.0   \n",
       "\n",
       "   misinformation_ratio  viral_misinformation_ratio  \\\n",
       "0              0.002957                    0.213115   \n",
       "1              0.033448                    0.303502   \n",
       "2              0.043120                    0.361789   \n",
       "\n",
       "                                      viral_messages  untrustworthiness  \n",
       "0  kkk<>kkk<>kkk<>- casar poder ajudar , colocar ...           0.209677  \n",
       "1  apo tres escola militar irar final soletrar , ...           0.302326  \n",
       "2  kkk urna sao fraudar kkk desculpar ha ja dar n...           0.360324  "
      ]
     },
     "execution_count": 73,
     "metadata": {},
     "output_type": "execute_result"
    }
   ],
   "source": [
    "df_users.head(3)"
   ]
  },
  {
   "cell_type": "code",
   "execution_count": 74,
   "metadata": {},
   "outputs": [
    {
     "name": "stdout",
     "output_type": "stream",
     "text": [
      "count     5364.000000\n",
      "mean       166.905108\n",
      "std        602.234514\n",
      "min          0.000000\n",
      "25%          0.000000\n",
      "50%          0.000000\n",
      "75%        109.000000\n",
      "max      11748.000000\n",
      "Name: misinformation_strenght, dtype: float64\n",
      "\n",
      "outliers 272.5\n"
     ]
    },
    {
     "data": {
      "image/png": "[encoded data removed]",
      "text/plain": [
       "<Figure size 1080x360 with 1 Axes>"
      ]
     },
     "metadata": {
      "needs_background": "light"
     },
     "output_type": "display_data"
    }
   ],
   "source": [
    "# absolute value\n",
    "values = df_users['misinformation_strenght']\n",
    "plt.figure(figsize=(15,5))\n",
    "plt.title('misinformation strenght')\n",
    "ax = sns.violinplot(x=values, color = 'C2')\n",
    "print(values.describe())\n",
    "print()\n",
    "print('outliers',outlier(values))\n",
    "mis_strenght_threshold = outlier(values)"
   ]
  },
  {
   "cell_type": "code",
   "execution_count": 75,
   "metadata": {},
   "outputs": [
    {
     "name": "stdout",
     "output_type": "stream",
     "text": [
      "total misinformation:  3260\n",
      "total users: 5364\n",
      "total untrustful users: 690 (12.9%)\n",
      "proportion of misinformation sent by untrustful users: 75.1%\n"
     ]
    }
   ],
   "source": [
    "df_malicious = df_users[df_users['misinformation_strenght'] >= mis_strenght_threshold]\n",
    "malicious = set(df_malicious['id'])\n",
    "\n",
    "# misinformation\n",
    "total_mis = len(df[df['misinformation']==1])\n",
    "print('total misinformation: ',total_mis)\n",
    "\n",
    "def messages_by_superspreaders(user,superspreaders):\n",
    "    if user in superspreaders:\n",
    "        return True\n",
    "    else:\n",
    "        return False\n",
    "superspreader_mask = []\n",
    "for u in df['id']:\n",
    "    superspreader_mask.append(messages_by_superspreaders(u,malicious))    \n",
    "df_superspreaders = df[superspreader_mask]\n",
    "df_superspreaders = df_superspreaders[df_superspreaders['misinformation']==1]\n",
    "\n",
    "print('total users:',len(df_users))\n",
    "print('total untrustful users: {a:1d} ({b:.1f}%)'.format(a = len(malicious), b = len(malicious)*100/len(df_users)))\n",
    "print('proportion of misinformation sent by untrustful users: {a:.1f}%'.format(a = len(df_superspreaders)*100/total_mis))"
   ]
  },
  {
   "cell_type": "code",
   "execution_count": 76,
   "metadata": {},
   "outputs": [],
   "source": [
    "df_users['superspreader'] = [1 if m > mis_strenght_threshold else 0 for m in df_users['misinformation_strenght']]"
   ]
  },
  {
   "cell_type": "code",
   "execution_count": 77,
   "metadata": {},
   "outputs": [
    {
     "name": "stdout",
     "output_type": "stream",
     "text": [
      "count     5364.000000\n",
      "mean       466.238814\n",
      "std       1707.907963\n",
      "min          0.000000\n",
      "25%          0.000000\n",
      "50%         32.000000\n",
      "75%        292.000000\n",
      "max      51411.000000\n",
      "Name: viral_strenght, dtype: float64\n",
      "\n",
      "outliers 730.0\n"
     ]
    },
    {
     "data": {
      "image/png": "[encoded data removed]",
      "text/plain": [
       "<Figure size 1080x360 with 1 Axes>"
      ]
     },
     "metadata": {
      "needs_background": "light"
     },
     "output_type": "display_data"
    }
   ],
   "source": [
    "# relative to users value\n",
    "\n",
    "values = df_users['viral_strenght']\n",
    "plt.figure(figsize=(15,5))\n",
    "plt.title('viral strenght')\n",
    "ax = sns.violinplot(x=values, color = 'C4')\n",
    "print(values.describe())\n",
    "print()\n",
    "print('outliers',outlier(values))\n",
    "\n",
    "viral_strenght_threshold = outlier(values)"
   ]
  },
  {
   "cell_type": "markdown",
   "metadata": {},
   "source": [
    "# Detection by threshold"
   ]
  },
  {
   "cell_type": "code",
   "execution_count": 78,
   "metadata": {},
   "outputs": [
    {
     "name": "stdout",
     "output_type": "stream",
     "text": [
      "              precision    recall  f1-score   support\n",
      "\n",
      "           0       0.97      0.97      0.97      4674\n",
      "           1       0.80      0.83      0.81       690\n",
      "\n",
      "    accuracy                           0.95      5364\n",
      "   macro avg       0.89      0.90      0.89      5364\n",
      "weighted avg       0.95      0.95      0.95      5364\n",
      "\n"
     ]
    },
    {
     "data": {
      "text/plain": [
       "(0.9509694258016406,\n",
       " 0.7986013986013986,\n",
       " 0.9717901962887483,\n",
       " 0.827536231884058,\n",
       " 0.9717901962887483,\n",
       " 0.8128113879003559,\n",
       " 0.9717901962887483,\n",
       " 0)"
      ]
     },
     "execution_count": 78,
     "metadata": {},
     "output_type": "execute_result"
    },
    {
     "data": {
      "image/png": "[encoded data removed]",
      "text/plain": [
       "<Figure size 1080x360 with 2 Axes>"
      ]
     },
     "metadata": {
      "needs_background": "light"
     },
     "output_type": "display_data"
    }
   ],
   "source": [
    "# only by viral strenght outlier and without train-test split\n",
    "y = df_users['superspreader']\n",
    "y_pred = [1 if m > viral_strenght_threshold else 0 for m in df_users['viral_strenght']]\n",
    "get_test_metrics(y, y_pred, full_metrics = True)"
   ]
  },
  {
   "cell_type": "markdown",
   "metadata": {},
   "source": [
    "## Using credibility models"
   ]
  },
  {
   "cell_type": "code",
   "execution_count": 79,
   "metadata": {},
   "outputs": [
    {
     "data": {
      "text/plain": [
       "Index(['id', 'groups', 'number_of_messages', 'texts', 'text_ratio', 'midia',\n",
       "       'midia_ratio', 'virals', 'viral_ratio', 'degree_centrality', 'strenght',\n",
       "       'viral_degree_centrality', 'viral_strenght', 'misinformation',\n",
       "       'misinformation_degree_centrality', 'misinformation_strenght',\n",
       "       'misinformation_ratio', 'viral_misinformation_ratio', 'viral_messages',\n",
       "       'untrustworthiness', 'superspreader'],\n",
       "      dtype='object')"
      ]
     },
     "execution_count": 79,
     "metadata": {},
     "output_type": "execute_result"
    }
   ],
   "source": [
    "df_users.columns"
   ]
  },
  {
   "cell_type": "code",
   "execution_count": 80,
   "metadata": {},
   "outputs": [],
   "source": [
    "# using credibility\n",
    "X = df_users[user_features + ['viral_messages']]\n",
    "y = df_users[['untrustworthiness','superspreader']]\n",
    "X_train, X_test, y_train, y_test = train_test_split(X, y, test_size=0.2, random_state=42)\n",
    "\n",
    "X_texts_train = X_train['viral_messages']\n",
    "X_texts_test = X_test['viral_messages']\n",
    "\n",
    "X_train_users = X_train[user_features].to_numpy()\n",
    "X_test_users = X_test[user_features].to_numpy()\n",
    "\n",
    "X_train_users, X_test_users = z_score(X_train_users, X_test_users)\n",
    "\n",
    "y_train = y_train['untrustworthiness']\n",
    "y_test_untrust = y_test['untrustworthiness']\n",
    "\n",
    "y_test_superspreader = y_test['superspreader']\n",
    "X_test_viral = X_test['viral_strenght']"
   ]
  },
  {
   "cell_type": "code",
   "execution_count": 81,
   "metadata": {},
   "outputs": [
    {
     "data": {
      "text/plain": [
       "(4291, 6000)"
      ]
     },
     "execution_count": 81,
     "metadata": {},
     "output_type": "execute_result"
    }
   ],
   "source": [
    "# tf-idf\n",
    "X_texts_train = ['' if type(x) != str else x for x in X_texts_train]\n",
    "X_texts_test = ['' if type(x) != str else x for x in X_texts_test]\n",
    "vectorizer = TfidfVectorizer(max_features = 6000, ngram_range = (1,1), lowercase = True, token_pattern = r'[^\\s]+')\n",
    "vectorizer.fit(X_texts_train)   \n",
    "X_train_tfidf = vectorizer.transform(X_texts_train).todense()\n",
    "X_test_tfidf = vectorizer.transform(X_texts_test).todense()\n",
    "\n",
    "X_users_train = np.concatenate((X_train_users, X_train_tfidf), axis=1)\n",
    "X_users_test = np.concatenate((X_test_users, X_test_tfidf), axis=1)\n",
    "\n",
    "X_train_tfidf.shape"
   ]
  },
  {
   "cell_type": "code",
   "execution_count": 82,
   "metadata": {},
   "outputs": [
    {
     "name": "stdout",
     "output_type": "stream",
     "text": [
      "linear regression + tfidf\n",
      "rmse: 0.370\n"
     ]
    }
   ],
   "source": [
    "print('linear regression + tfidf')\n",
    "reg = LinearRegression()\n",
    "rmse, y_pred = train_test_reg(reg,X_users_train,X_users_test,y_train,y_test_untrust)"
   ]
  },
  {
   "cell_type": "code",
   "execution_count": 83,
   "metadata": {},
   "outputs": [
    {
     "name": "stdout",
     "output_type": "stream",
     "text": [
      "rmse: 0.121\n"
     ]
    }
   ],
   "source": [
    "reg = MLPRegressor()\n",
    "rmse, y_pred = train_test_reg(reg,X_users_train,X_users_test,y_train,y_test_untrust)"
   ]
  },
  {
   "cell_type": "code",
   "execution_count": 84,
   "metadata": {},
   "outputs": [
    {
     "name": "stdout",
     "output_type": "stream",
     "text": [
      "real: 0.00. predict: 0.00\n",
      "real: 0.33. predict: 0.38\n",
      "real: 0.00. predict: 0.07\n",
      "real: 0.80. predict: 0.59\n",
      "real: 0.00. predict: 0.00\n",
      "real: 0.36. predict: 0.39\n",
      "real: 0.50. predict: 0.21\n",
      "real: 0.00. predict: 0.00\n",
      "real: 0.00. predict: 0.01\n",
      "real: 0.00. predict: 0.01\n",
      "real: 0.29. predict: 0.50\n",
      "real: 0.50. predict: 0.68\n",
      "real: 0.41. predict: 0.40\n",
      "real: 0.33. predict: 0.33\n",
      "real: 0.00. predict: 0.00\n",
      "real: 0.00. predict: 0.00\n",
      "real: 0.00. predict: 0.01\n",
      "real: 0.00. predict: 0.01\n",
      "real: 0.00. predict: 0.00\n",
      "real: 0.00. predict: 0.00\n",
      "real: 0.46. predict: 0.48\n",
      "real: 0.00. predict: 0.00\n",
      "real: 0.00. predict: 0.01\n",
      "real: 0.00. predict: 0.00\n",
      "real: 0.33. predict: 0.24\n",
      "real: 0.67. predict: 0.14\n",
      "real: 0.00. predict: 0.00\n",
      "real: 0.00. predict: 0.00\n",
      "real: 0.40. predict: 0.27\n",
      "real: 0.00. predict: 0.02\n",
      "real: 0.00. predict: 0.00\n",
      "real: 0.29. predict: 0.33\n",
      "real: 0.00. predict: 0.19\n",
      "real: 0.00. predict: 0.00\n",
      "real: 0.33. predict: 0.49\n",
      "real: 0.00. predict: 0.02\n",
      "real: 0.33. predict: 0.44\n",
      "real: 0.25. predict: 0.48\n",
      "real: 0.00. predict: 0.01\n",
      "real: 0.27. predict: 0.16\n",
      "real: 0.00. predict: 0.00\n",
      "real: 0.44. predict: 0.32\n",
      "real: 0.00. predict: 0.00\n",
      "real: 0.42. predict: 0.37\n",
      "real: 0.00. predict: 0.01\n",
      "real: 0.00. predict: 0.00\n",
      "real: 0.00. predict: 0.01\n",
      "real: 0.00. predict: 0.00\n",
      "real: 0.52. predict: 0.47\n",
      "real: 0.00. predict: 0.00\n",
      "real: 0.00. predict: 0.02\n",
      "real: 0.25. predict: 0.55\n",
      "real: 0.00. predict: 0.00\n",
      "real: 0.00. predict: 0.00\n",
      "real: 0.00. predict: 0.15\n",
      "real: 0.00. predict: 0.00\n",
      "real: 0.75. predict: 0.77\n",
      "real: 0.00. predict: 0.00\n",
      "real: 0.00. predict: 0.21\n",
      "real: 0.00. predict: 0.00\n",
      "real: 0.00. predict: 0.02\n",
      "real: 0.00. predict: 0.00\n",
      "real: 0.67. predict: 0.59\n",
      "real: 0.00. predict: 0.00\n",
      "real: 0.40. predict: 0.26\n",
      "real: 0.00. predict: 0.00\n",
      "real: 0.00. predict: 0.05\n",
      "real: 0.00. predict: 0.00\n",
      "real: 0.00. predict: 0.00\n",
      "real: 0.38. predict: 0.59\n",
      "real: 0.33. predict: 0.45\n",
      "real: 0.00. predict: 0.11\n",
      "real: 0.33. predict: 0.48\n",
      "real: 0.00. predict: 0.00\n",
      "real: 0.00. predict: 0.05\n",
      "real: 0.00. predict: 0.01\n",
      "real: 0.00. predict: 0.00\n",
      "real: 0.54. predict: 0.52\n",
      "real: 0.69. predict: 0.74\n",
      "real: 0.00. predict: 0.00\n",
      "real: 0.00. predict: 0.01\n",
      "real: 0.00. predict: 0.13\n",
      "real: 0.00. predict: 0.00\n",
      "real: 0.00. predict: 0.02\n",
      "real: 0.00. predict: 0.00\n",
      "real: 0.00. predict: 0.00\n",
      "real: 0.00. predict: 0.00\n",
      "real: 0.33. predict: 0.13\n",
      "real: 0.67. predict: 0.50\n",
      "real: 0.00. predict: 0.00\n",
      "real: 0.00. predict: 0.00\n",
      "real: 0.43. predict: 0.53\n",
      "real: 0.33. predict: 0.26\n",
      "real: 0.55. predict: 0.56\n",
      "real: 0.00. predict: 0.00\n",
      "real: 0.00. predict: 0.18\n",
      "real: 0.00. predict: 0.01\n",
      "real: 0.25. predict: 0.14\n",
      "real: 0.00. predict: 0.01\n",
      "real: 0.00. predict: 0.00\n",
      "real: 0.00. predict: 0.01\n",
      "real: 0.62. predict: 0.61\n",
      "real: 0.25. predict: 0.37\n",
      "real: 0.00. predict: 0.15\n",
      "real: 0.00. predict: 0.01\n",
      "real: 0.00. predict: 0.00\n",
      "real: 0.00. predict: 0.00\n",
      "real: 0.50. predict: 0.23\n",
      "real: 0.25. predict: 0.40\n",
      "real: 0.00. predict: 0.00\n",
      "real: 0.00. predict: 0.00\n",
      "real: 0.00. predict: 0.00\n",
      "real: 0.45. predict: 0.55\n",
      "real: 0.00. predict: 0.01\n",
      "real: 0.00. predict: 0.01\n",
      "real: 0.50. predict: 0.54\n",
      "real: 0.00. predict: 0.00\n",
      "real: 0.33. predict: 0.46\n",
      "real: 0.62. predict: 0.64\n",
      "real: 0.68. predict: 0.48\n",
      "real: 0.37. predict: 0.24\n",
      "real: 0.50. predict: 0.45\n",
      "real: 0.38. predict: 0.41\n",
      "real: 0.00. predict: 0.00\n",
      "real: 0.70. predict: 0.57\n",
      "real: 0.30. predict: 0.48\n",
      "real: 0.60. predict: 0.41\n",
      "real: 0.60. predict: 0.48\n",
      "real: 0.00. predict: 0.01\n",
      "real: 0.19. predict: 0.65\n",
      "real: 0.00. predict: 0.00\n",
      "real: 0.00. predict: 0.02\n",
      "real: 0.00. predict: 0.01\n",
      "real: 0.00. predict: 0.00\n",
      "real: 0.17. predict: 0.55\n",
      "real: 0.00. predict: 0.00\n",
      "real: 0.00. predict: 0.00\n",
      "real: 0.00. predict: 0.30\n",
      "real: 0.00. predict: 0.34\n",
      "real: 0.00. predict: 0.00\n",
      "real: 0.50. predict: 0.58\n",
      "real: 0.67. predict: 0.48\n",
      "real: 0.25. predict: 0.41\n",
      "real: 0.50. predict: 0.40\n",
      "real: 0.00. predict: 0.01\n",
      "real: 0.00. predict: 0.00\n",
      "real: 0.00. predict: 0.20\n",
      "real: 0.00. predict: 0.00\n",
      "real: 0.00. predict: 0.01\n",
      "real: 0.00. predict: 0.00\n",
      "real: 0.00. predict: 0.09\n",
      "real: 0.20. predict: 0.16\n",
      "real: 0.56. predict: 0.42\n",
      "real: 0.00. predict: 0.00\n",
      "real: 0.00. predict: 0.02\n",
      "real: 0.47. predict: 0.53\n",
      "real: 0.50. predict: 0.43\n",
      "real: 0.00. predict: 0.02\n",
      "real: 0.00. predict: 0.00\n",
      "real: 0.79. predict: 0.69\n",
      "real: 0.67. predict: 0.55\n",
      "real: 0.50. predict: 0.39\n",
      "real: 0.00. predict: 0.00\n",
      "real: 0.50. predict: 0.45\n",
      "real: 0.00. predict: 0.00\n",
      "real: 0.00. predict: 0.01\n",
      "real: 0.00. predict: 0.01\n",
      "real: 0.50. predict: 0.71\n",
      "real: 0.50. predict: 0.50\n",
      "real: 0.50. predict: 0.64\n",
      "real: 0.00. predict: 0.00\n",
      "real: 0.00. predict: 0.00\n",
      "real: 0.73. predict: 0.71\n",
      "real: 0.20. predict: 0.19\n",
      "real: 0.36. predict: 0.44\n",
      "real: 0.75. predict: 0.75\n",
      "real: 0.67. predict: 0.42\n",
      "real: 0.00. predict: 0.06\n",
      "real: 0.00. predict: 0.01\n",
      "real: 0.00. predict: 0.00\n",
      "real: 0.40. predict: 0.42\n",
      "real: 0.00. predict: 0.00\n",
      "real: 0.00. predict: 0.01\n",
      "real: 0.50. predict: 0.00\n",
      "real: 0.00. predict: 0.00\n",
      "real: 0.09. predict: 0.40\n",
      "real: 0.00. predict: 0.01\n",
      "real: 0.00. predict: 0.00\n",
      "real: 0.47. predict: 0.43\n",
      "real: 0.00. predict: 0.01\n",
      "real: 0.25. predict: 0.36\n",
      "real: 0.75. predict: 0.56\n",
      "real: 0.00. predict: 0.00\n",
      "real: 0.00. predict: 0.00\n",
      "real: 0.91. predict: 0.73\n",
      "real: 0.00. predict: 0.00\n",
      "real: 0.00. predict: 0.02\n",
      "real: 0.00. predict: 0.00\n",
      "real: 0.00. predict: 0.00\n",
      "real: 0.00. predict: 0.01\n",
      "real: 0.08. predict: 0.27\n",
      "real: 0.00. predict: 0.00\n",
      "real: 0.56. predict: 0.48\n",
      "real: 0.00. predict: 0.00\n",
      "real: 0.00. predict: 0.01\n",
      "real: 0.00. predict: 0.20\n",
      "real: 0.50. predict: 0.51\n",
      "real: 0.00. predict: 0.00\n",
      "real: 0.00. predict: 0.00\n",
      "real: 0.00. predict: 0.00\n",
      "real: 0.58. predict: 0.54\n",
      "real: 0.00. predict: 0.00\n",
      "real: 0.00. predict: 0.00\n",
      "real: 0.00. predict: 0.00\n",
      "real: 0.00. predict: 0.00\n",
      "real: 0.73. predict: 0.86\n",
      "real: 0.00. predict: 0.01\n",
      "real: 0.00. predict: 0.00\n",
      "real: 0.12. predict: 0.28\n",
      "real: 0.00. predict: 0.14\n",
      "real: 0.38. predict: 0.48\n",
      "real: 0.50. predict: 0.50\n",
      "real: 0.60. predict: 0.59\n",
      "real: 0.50. predict: 0.48\n",
      "real: 0.00. predict: 0.00\n",
      "real: 0.00. predict: 0.00\n",
      "real: 0.10. predict: 0.20\n",
      "real: 0.00. predict: 0.00\n",
      "real: 0.00. predict: 0.00\n",
      "real: 0.00. predict: 0.00\n",
      "real: 0.00. predict: 0.01\n",
      "real: 0.43. predict: 0.37\n",
      "real: 0.00. predict: 0.07\n",
      "real: 0.00. predict: 0.01\n",
      "real: 0.56. predict: 0.58\n",
      "real: 0.25. predict: 0.13\n",
      "real: 0.00. predict: 0.00\n",
      "real: 0.00. predict: 0.00\n",
      "real: 0.82. predict: 0.78\n",
      "real: 0.50. predict: 0.46\n",
      "real: 0.00. predict: 0.00\n",
      "real: 0.00. predict: 0.01\n",
      "real: 0.62. predict: 0.23\n",
      "real: 0.00. predict: 0.00\n",
      "real: 0.00. predict: 0.00\n",
      "real: 0.00. predict: 0.00\n",
      "real: 0.00. predict: 0.00\n",
      "real: 0.00. predict: 0.18\n",
      "real: 0.00. predict: 0.04\n",
      "real: 0.00. predict: 0.03\n",
      "real: 0.00. predict: 0.00\n",
      "real: 0.25. predict: 0.44\n",
      "real: 0.50. predict: 0.18\n",
      "real: 0.50. predict: 0.51\n",
      "real: 0.00. predict: 0.00\n",
      "real: 0.14. predict: 0.36\n",
      "real: 0.59. predict: 0.61\n",
      "real: 0.00. predict: 0.00\n",
      "real: 0.00. predict: 0.00\n",
      "real: 0.00. predict: 0.08\n",
      "real: 0.00. predict: 0.12\n",
      "real: 0.00. predict: 0.00\n",
      "real: 0.43. predict: 0.16\n",
      "real: 0.27. predict: 0.55\n",
      "real: 0.56. predict: 0.66\n",
      "real: 0.00. predict: 0.00\n",
      "real: 0.00. predict: 0.00\n",
      "real: 0.00. predict: 0.00\n",
      "real: 0.00. predict: 0.01\n",
      "real: 0.50. predict: 0.53\n",
      "real: 0.00. predict: 0.00\n",
      "real: 0.10. predict: 0.57\n",
      "real: 0.67. predict: 0.40\n",
      "real: 0.33. predict: 0.48\n",
      "real: 0.00. predict: 0.00\n",
      "real: 0.57. predict: 0.44\n",
      "real: 0.00. predict: 0.00\n",
      "real: 0.00. predict: 0.00\n",
      "real: 0.00. predict: 0.07\n",
      "real: 0.67. predict: 0.37\n",
      "real: 0.00. predict: 0.00\n",
      "real: 0.67. predict: 0.72\n",
      "real: 0.00. predict: 0.00\n",
      "real: 0.00. predict: 0.00\n",
      "real: 0.60. predict: 0.51\n",
      "real: 0.00. predict: 0.01\n",
      "real: 0.00. predict: 0.01\n",
      "real: 0.25. predict: 0.81\n",
      "real: 0.00. predict: 0.01\n",
      "real: 0.00. predict: 0.00\n",
      "real: 0.00. predict: 0.00\n",
      "real: 0.64. predict: 0.83\n",
      "real: 0.00. predict: 0.00\n",
      "real: 0.00. predict: 0.00\n",
      "real: 0.22. predict: 0.40\n",
      "real: 0.00. predict: 0.10\n",
      "real: 0.00. predict: 0.00\n",
      "real: 0.50. predict: 0.52\n",
      "real: 0.00. predict: 0.00\n",
      "real: 0.58. predict: 0.55\n",
      "real: 0.78. predict: 0.35\n",
      "real: 0.00. predict: 0.00\n",
      "real: 0.50. predict: 0.35\n",
      "real: 0.33. predict: 0.40\n",
      "real: 0.00. predict: 0.11\n",
      "real: 0.50. predict: 0.56\n",
      "real: 0.67. predict: 0.63\n",
      "real: 0.00. predict: 0.01\n",
      "real: 0.00. predict: 0.00\n",
      "real: 0.00. predict: 0.00\n",
      "real: 0.67. predict: 0.38\n",
      "real: 0.00. predict: 0.02\n",
      "real: 0.59. predict: 0.64\n",
      "real: 0.00. predict: 0.17\n",
      "real: 0.40. predict: 0.48\n",
      "real: 0.00. predict: 0.00\n",
      "real: 0.00. predict: 0.02\n",
      "real: 0.00. predict: 0.01\n",
      "real: 0.50. predict: 0.33\n",
      "real: 0.00. predict: 0.01\n",
      "real: 0.00. predict: 0.00\n",
      "real: 0.25. predict: 0.31\n",
      "real: 0.43. predict: 0.32\n",
      "real: 0.67. predict: 0.49\n",
      "real: 0.83. predict: 0.85\n",
      "real: 0.10. predict: 0.17\n",
      "real: 0.00. predict: 0.00\n",
      "real: 0.33. predict: 0.38\n",
      "real: 0.50. predict: 0.27\n",
      "real: 0.31. predict: 0.51\n",
      "real: 0.00. predict: 0.00\n",
      "real: 0.50. predict: 0.48\n",
      "real: 0.00. predict: 0.00\n",
      "real: 0.00. predict: 0.03\n",
      "real: 0.50. predict: 0.40\n",
      "real: 0.29. predict: 0.51\n",
      "real: 0.67. predict: 0.54\n",
      "real: 0.14. predict: 0.13\n",
      "real: 0.50. predict: 0.64\n",
      "real: 0.25. predict: 0.56\n",
      "real: 0.38. predict: 0.31\n",
      "real: 0.00. predict: 0.00\n",
      "real: 0.75. predict: 0.67\n",
      "real: 0.60. predict: 0.64\n",
      "real: 0.00. predict: 0.00\n",
      "real: 0.60. predict: 0.50\n",
      "real: 0.25. predict: 0.42\n",
      "real: 0.00. predict: 0.01\n",
      "real: 0.00. predict: 0.00\n",
      "real: 0.00. predict: 0.00\n",
      "real: 0.67. predict: 0.43\n",
      "real: 0.50. predict: 0.63\n",
      "real: 0.00. predict: 0.00\n",
      "real: 0.69. predict: 0.55\n",
      "real: 0.00. predict: 0.01\n",
      "real: 0.00. predict: 0.00\n",
      "real: 0.00. predict: 0.01\n",
      "real: 0.00. predict: 0.00\n",
      "real: 0.00. predict: 0.20\n",
      "real: 0.67. predict: 0.53\n",
      "real: 0.45. predict: 0.51\n",
      "real: 0.71. predict: 0.79\n",
      "real: 0.00. predict: 0.00\n",
      "real: 0.00. predict: 0.01\n",
      "real: 0.00. predict: 0.01\n",
      "real: 0.00. predict: 0.02\n",
      "real: 0.00. predict: 0.00\n",
      "real: 0.00. predict: 0.01\n",
      "real: 0.57. predict: 0.39\n",
      "real: 0.12. predict: 0.40\n",
      "real: 0.00. predict: 0.01\n",
      "real: 0.67. predict: 0.75\n",
      "real: 0.86. predict: 0.65\n",
      "real: 0.00. predict: 0.03\n",
      "real: 0.50. predict: 0.40\n",
      "real: 0.00. predict: 0.00\n",
      "real: 0.00. predict: 0.00\n",
      "real: 0.00. predict: 0.00\n",
      "real: 0.00. predict: 0.01\n",
      "real: 0.00. predict: 0.00\n",
      "real: 0.50. predict: 0.57\n",
      "real: 0.50. predict: 0.58\n",
      "real: 0.00. predict: 0.00\n",
      "real: 0.00. predict: 0.00\n",
      "real: 0.25. predict: 0.23\n",
      "real: 0.00. predict: 0.00\n",
      "real: 0.00. predict: 0.01\n",
      "real: 0.80. predict: 0.61\n",
      "real: 0.75. predict: 0.68\n",
      "real: 0.50. predict: 0.55\n",
      "real: 0.00. predict: 0.00\n",
      "real: 0.00. predict: 0.00\n",
      "real: 0.50. predict: 0.55\n",
      "real: 0.50. predict: 0.54\n",
      "real: 0.50. predict: 0.23\n",
      "real: 0.00. predict: 0.03\n",
      "real: 0.00. predict: 0.00\n",
      "real: 0.00. predict: 0.00\n",
      "real: 0.00. predict: 0.00\n",
      "real: 0.00. predict: 0.00\n",
      "real: 0.59. predict: 0.58\n",
      "real: 0.00. predict: 0.01\n",
      "real: 0.00. predict: 0.00\n",
      "real: 0.11. predict: 0.50\n",
      "real: 0.00. predict: 0.00\n",
      "real: 0.00. predict: 0.00\n",
      "real: 0.50. predict: 0.54\n",
      "real: 0.66. predict: 0.59\n",
      "real: 0.00. predict: 0.00\n",
      "real: 0.00. predict: 0.00\n",
      "real: 0.00. predict: 0.01\n",
      "real: 0.62. predict: 0.75\n",
      "real: 0.00. predict: 0.00\n",
      "real: 0.00. predict: 0.00\n",
      "real: 0.54. predict: 0.70\n",
      "real: 0.00. predict: 0.01\n",
      "real: 0.00. predict: 0.01\n",
      "real: 0.73. predict: 0.63\n",
      "real: 0.00. predict: 0.01\n",
      "real: 0.00. predict: 0.00\n",
      "real: 0.50. predict: 0.53\n",
      "real: 0.17. predict: 0.08\n",
      "real: 0.50. predict: 0.49\n",
      "real: 0.17. predict: 0.42\n",
      "real: 0.67. predict: 0.51\n",
      "real: 0.00. predict: 0.00\n",
      "real: 0.20. predict: 0.18\n",
      "real: 0.00. predict: 0.00\n",
      "real: 0.50. predict: 0.62\n",
      "real: 0.67. predict: 0.24\n",
      "real: 0.00. predict: 0.01\n",
      "real: 0.33. predict: 0.18\n",
      "real: 0.40. predict: 0.33\n",
      "real: 0.67. predict: 0.62\n",
      "real: 0.33. predict: 0.51\n",
      "real: 0.00. predict: 0.01\n",
      "real: 0.50. predict: 0.38\n",
      "real: 0.38. predict: 0.43\n",
      "real: 0.33. predict: 0.25\n",
      "real: 0.38. predict: 0.47\n",
      "real: 0.15. predict: 0.23\n",
      "real: 0.75. predict: 0.58\n",
      "real: 0.50. predict: 0.38\n",
      "real: 0.50. predict: 0.31\n",
      "real: 0.00. predict: 0.00\n",
      "real: 0.00. predict: 0.02\n",
      "real: 0.45. predict: 0.62\n",
      "real: 0.00. predict: 0.00\n",
      "real: 0.00. predict: 0.00\n",
      "real: 0.48. predict: 0.38\n",
      "real: 0.00. predict: 0.02\n",
      "real: 0.50. predict: 0.25\n",
      "real: 0.00. predict: 0.00\n",
      "real: 0.48. predict: 0.54\n",
      "real: 0.00. predict: 0.00\n",
      "real: 0.54. predict: 0.31\n",
      "real: 0.50. predict: 0.55\n",
      "real: 0.00. predict: 0.00\n",
      "real: 0.50. predict: 0.30\n",
      "real: 0.67. predict: 0.58\n",
      "real: 0.00. predict: 0.01\n",
      "real: 0.00. predict: 0.00\n",
      "real: 0.50. predict: 0.49\n",
      "real: 0.57. predict: 0.52\n",
      "real: 0.00. predict: 0.01\n",
      "real: 0.00. predict: 0.00\n",
      "real: 0.50. predict: 0.42\n",
      "real: 0.50. predict: 0.16\n",
      "real: 0.40. predict: 0.42\n",
      "real: 0.00. predict: 0.03\n",
      "real: 0.00. predict: 0.00\n",
      "real: 0.40. predict: 0.53\n",
      "real: 0.00. predict: 0.00\n",
      "real: 0.33. predict: 0.43\n",
      "real: 0.00. predict: 0.00\n",
      "real: 0.33. predict: 0.29\n",
      "real: 0.00. predict: 0.04\n",
      "real: 0.00. predict: 0.00\n",
      "real: 0.44. predict: 0.52\n",
      "real: 0.00. predict: 0.00\n",
      "real: 0.00. predict: 0.00\n",
      "real: 0.59. predict: 0.48\n",
      "real: 0.00. predict: 0.00\n",
      "real: 0.00. predict: 0.01\n",
      "real: 0.17. predict: 0.11\n",
      "real: 0.00. predict: 0.20\n",
      "real: 0.50. predict: 0.58\n",
      "real: 0.00. predict: 0.00\n",
      "real: 0.00. predict: 0.00\n",
      "real: 0.50. predict: 0.51\n",
      "real: 0.00. predict: 0.01\n",
      "real: 0.33. predict: 0.25\n",
      "real: 0.00. predict: 0.10\n",
      "real: 0.33. predict: 0.51\n",
      "real: 0.50. predict: 0.51\n",
      "real: 0.00. predict: 0.56\n",
      "real: 0.68. predict: 0.70\n",
      "real: 0.75. predict: 0.57\n",
      "real: 0.38. predict: 0.48\n",
      "real: 0.00. predict: 0.03\n",
      "real: 0.00. predict: 0.00\n",
      "real: 0.00. predict: 0.00\n",
      "real: 0.33. predict: 0.09\n",
      "real: 0.00. predict: 0.02\n",
      "real: 0.00. predict: 0.00\n",
      "real: 0.00. predict: 0.00\n",
      "real: 0.33. predict: 0.17\n",
      "real: 0.00. predict: 0.01\n",
      "real: 0.45. predict: 0.43\n",
      "real: 0.00. predict: 0.00\n",
      "real: 0.33. predict: 0.22\n",
      "real: 0.33. predict: 0.33\n",
      "real: 0.25. predict: 0.00\n",
      "real: 0.00. predict: 0.01\n",
      "real: 0.00. predict: 0.00\n",
      "real: 0.00. predict: 0.00\n",
      "real: 0.33. predict: 0.48\n",
      "real: 0.00. predict: 0.00\n",
      "real: 0.00. predict: 0.01\n",
      "real: 0.67. predict: 0.53\n",
      "real: 0.36. predict: 0.34\n",
      "real: 0.00. predict: 0.00\n",
      "real: 0.56. predict: 0.58\n",
      "real: 0.00. predict: 0.00\n",
      "real: 0.00. predict: 0.00\n",
      "real: 0.00. predict: 0.00\n",
      "real: 0.00. predict: 0.00\n",
      "real: 0.40. predict: 0.50\n",
      "real: 0.00. predict: 0.01\n",
      "real: 0.40. predict: 0.28\n",
      "real: 0.00. predict: 0.01\n",
      "real: 0.33. predict: 0.40\n",
      "real: 0.00. predict: 0.01\n",
      "real: 0.38. predict: 0.20\n",
      "real: 0.50. predict: 0.43\n",
      "real: 0.00. predict: 0.00\n",
      "real: 0.00. predict: 0.00\n",
      "real: 0.00. predict: 0.05\n",
      "real: 0.00. predict: 0.01\n",
      "real: 0.50. predict: 0.50\n",
      "real: 0.00. predict: 0.00\n",
      "real: 0.50. predict: 0.27\n",
      "real: 0.00. predict: 0.00\n",
      "real: 0.50. predict: 0.47\n",
      "real: 0.00. predict: 0.01\n",
      "real: 0.33. predict: 0.53\n",
      "real: 0.33. predict: 0.47\n",
      "real: 0.00. predict: 0.00\n",
      "real: 0.50. predict: 0.00\n",
      "real: 0.00. predict: 0.00\n",
      "real: 0.00. predict: 0.00\n",
      "real: 0.00. predict: 0.00\n",
      "real: 0.00. predict: 0.00\n",
      "real: 0.00. predict: 0.72\n",
      "real: 0.00. predict: 0.00\n",
      "real: 0.74. predict: 0.37\n",
      "real: 0.00. predict: 0.01\n",
      "real: 0.00. predict: 0.01\n",
      "real: 0.50. predict: 0.58\n",
      "real: 0.00. predict: 0.00\n",
      "real: 0.00. predict: 0.00\n",
      "real: 0.00. predict: 0.00\n",
      "real: 0.00. predict: 0.00\n",
      "real: 0.00. predict: 0.01\n",
      "real: 0.33. predict: 0.41\n",
      "real: 0.70. predict: 0.53\n",
      "real: 0.00. predict: 0.03\n",
      "real: 0.00. predict: 0.00\n",
      "real: 0.00. predict: 0.00\n",
      "real: 0.00. predict: 0.01\n",
      "real: 0.33. predict: 0.13\n",
      "real: 0.25. predict: 0.43\n",
      "real: 0.60. predict: 0.46\n",
      "real: 0.00. predict: 0.00\n",
      "real: 0.00. predict: 0.00\n",
      "real: 0.00. predict: 0.01\n",
      "real: 0.00. predict: 0.00\n",
      "real: 0.00. predict: 0.01\n",
      "real: 0.50. predict: 0.43\n",
      "real: 0.00. predict: 0.01\n",
      "real: 0.00. predict: 0.00\n",
      "real: 0.60. predict: 0.59\n",
      "real: 0.00. predict: 0.00\n",
      "real: 0.00. predict: 0.00\n",
      "real: 0.00. predict: 0.01\n",
      "real: 0.11. predict: 0.20\n",
      "real: 0.00. predict: 0.00\n",
      "real: 0.00. predict: 0.00\n",
      "real: 0.55. predict: 0.56\n",
      "real: 0.50. predict: 0.44\n",
      "real: 0.17. predict: 0.53\n",
      "real: 0.50. predict: 0.45\n",
      "real: 0.00. predict: 0.00\n",
      "real: 0.00. predict: 0.00\n",
      "real: 0.57. predict: 0.61\n",
      "real: 0.00. predict: 0.01\n",
      "real: 0.00. predict: 0.00\n",
      "real: 0.00. predict: 0.00\n",
      "real: 0.00. predict: 0.00\n",
      "real: 0.00. predict: 0.05\n",
      "real: 0.50. predict: 0.50\n",
      "real: 0.00. predict: 0.01\n",
      "real: 0.00. predict: 0.01\n",
      "real: 0.00. predict: 0.00\n",
      "real: 0.50. predict: 0.46\n",
      "real: 0.00. predict: 0.00\n",
      "real: 0.00. predict: 0.00\n",
      "real: 0.45. predict: 0.67\n",
      "real: 0.12. predict: 0.49\n",
      "real: 0.50. predict: 0.51\n",
      "real: 0.00. predict: 0.00\n",
      "real: 0.50. predict: 0.31\n",
      "real: 0.50. predict: 0.49\n",
      "real: 0.38. predict: 0.26\n",
      "real: 0.00. predict: 0.00\n",
      "real: 0.50. predict: 0.50\n",
      "real: 0.54. predict: 0.56\n",
      "real: 0.54. predict: 0.52\n",
      "real: 0.00. predict: 0.01\n",
      "real: 0.00. predict: 0.03\n",
      "real: 0.00. predict: 0.01\n",
      "real: 0.00. predict: 0.00\n",
      "real: 0.00. predict: 0.00\n",
      "real: 0.00. predict: 0.00\n",
      "real: 0.00. predict: 0.00\n",
      "real: 0.60. predict: 0.66\n",
      "real: 0.00. predict: 0.01\n",
      "real: 0.00. predict: 0.00\n",
      "real: 0.00. predict: 0.00\n",
      "real: 0.33. predict: 0.42\n",
      "real: 0.00. predict: 0.00\n",
      "real: 0.60. predict: 0.48\n",
      "real: 0.00. predict: 0.01\n",
      "real: 0.00. predict: 0.01\n",
      "real: 0.58. predict: 0.38\n",
      "real: 0.50. predict: 0.53\n",
      "real: 0.00. predict: 0.02\n",
      "real: 0.50. predict: 0.69\n",
      "real: 0.00. predict: 0.01\n",
      "real: 0.00. predict: 0.00\n",
      "real: 0.62. predict: 0.51\n",
      "real: 0.00. predict: 0.00\n",
      "real: 0.00. predict: 0.01\n",
      "real: 0.00. predict: 0.00\n",
      "real: 0.00. predict: 0.00\n",
      "real: 0.00. predict: 0.01\n",
      "real: 0.00. predict: 0.00\n",
      "real: 0.50. predict: 0.21\n",
      "real: 0.67. predict: 0.59\n",
      "real: 0.50. predict: 0.57\n",
      "real: 0.10. predict: 0.34\n",
      "real: 0.00. predict: 0.00\n",
      "real: 0.00. predict: 0.00\n",
      "real: 0.50. predict: 0.61\n",
      "real: 0.48. predict: 0.55\n",
      "real: 0.00. predict: 0.00\n",
      "real: 0.00. predict: 0.00\n",
      "real: 0.00. predict: 0.00\n",
      "real: 0.33. predict: 0.16\n",
      "real: 0.00. predict: 0.01\n",
      "real: 0.00. predict: 0.00\n",
      "real: 0.00. predict: 0.01\n",
      "real: 0.00. predict: 0.00\n",
      "real: 0.00. predict: 0.00\n",
      "real: 0.67. predict: 0.64\n",
      "real: 0.60. predict: 0.73\n",
      "real: 0.00. predict: 0.01\n",
      "real: 0.00. predict: 0.02\n",
      "real: 0.33. predict: 0.48\n",
      "real: 0.00. predict: 0.09\n",
      "real: 0.00. predict: 0.01\n",
      "real: 0.67. predict: 0.77\n",
      "real: 0.80. predict: 0.49\n",
      "real: 0.00. predict: 0.00\n",
      "real: 0.00. predict: 0.12\n",
      "real: 0.25. predict: 0.31\n",
      "real: 0.00. predict: 0.01\n",
      "real: 0.00. predict: 0.00\n",
      "real: 0.50. predict: 0.48\n",
      "real: 0.00. predict: 0.03\n",
      "real: 0.00. predict: 0.00\n",
      "real: 0.00. predict: 0.01\n",
      "real: 0.00. predict: 0.12\n",
      "real: 0.67. predict: 0.58\n",
      "real: 0.00. predict: 0.01\n",
      "real: 0.00. predict: 0.00\n",
      "real: 0.33. predict: 0.60\n",
      "real: 0.50. predict: 0.38\n",
      "real: 0.00. predict: 0.00\n",
      "real: 0.50. predict: 0.55\n",
      "real: 0.00. predict: 0.01\n",
      "real: 0.00. predict: 0.01\n",
      "real: 0.00. predict: 0.00\n",
      "real: 0.40. predict: 0.47\n",
      "real: 0.33. predict: 0.48\n",
      "real: 0.00. predict: 0.00\n",
      "real: 0.00. predict: 0.00\n",
      "real: 0.00. predict: 0.01\n",
      "real: 0.00. predict: 0.00\n",
      "real: 0.00. predict: 0.00\n",
      "real: 0.50. predict: 0.32\n",
      "real: 0.00. predict: 0.00\n",
      "real: 0.50. predict: 0.42\n",
      "real: 0.84. predict: 0.66\n",
      "real: 0.00. predict: 0.01\n",
      "real: 0.50. predict: 0.57\n",
      "real: 0.00. predict: 0.00\n",
      "real: 0.00. predict: 0.01\n",
      "real: 0.00. predict: 0.00\n",
      "real: 0.43. predict: 0.42\n",
      "real: 0.00. predict: 0.01\n",
      "real: 0.00. predict: 0.01\n",
      "real: 0.58. predict: 0.53\n",
      "real: 0.00. predict: 0.01\n",
      "real: 0.00. predict: 0.00\n",
      "real: 0.00. predict: 0.00\n",
      "real: 0.50. predict: 0.58\n",
      "real: 0.33. predict: 0.20\n",
      "real: 0.50. predict: 0.56\n",
      "real: 0.60. predict: 0.64\n",
      "real: 0.50. predict: 0.22\n",
      "real: 0.00. predict: 0.00\n",
      "real: 0.00. predict: 0.00\n",
      "real: 0.40. predict: 0.75\n",
      "real: 0.33. predict: 0.32\n",
      "real: 0.00. predict: 0.00\n",
      "real: 0.00. predict: 0.00\n",
      "real: 0.00. predict: 0.00\n",
      "real: 0.00. predict: 0.00\n",
      "real: 0.00. predict: 0.00\n",
      "real: 0.00. predict: 0.02\n",
      "real: 0.00. predict: 0.00\n",
      "real: 0.00. predict: 0.00\n",
      "real: 0.00. predict: 0.01\n",
      "real: 0.50. predict: 0.51\n",
      "real: 0.00. predict: 0.01\n",
      "real: 0.00. predict: 0.00\n",
      "real: 0.50. predict: 0.35\n",
      "real: 0.50. predict: 0.55\n",
      "real: 0.00. predict: 0.00\n",
      "real: 0.47. predict: 0.25\n",
      "real: 0.00. predict: 0.00\n",
      "real: 0.00. predict: 0.00\n",
      "real: 0.77. predict: 0.49\n",
      "real: 0.00. predict: 0.00\n",
      "real: 0.50. predict: 0.52\n",
      "real: 0.00. predict: 0.00\n",
      "real: 0.73. predict: 0.57\n",
      "real: 0.00. predict: 0.01\n",
      "real: 0.50. predict: 0.40\n",
      "real: 0.50. predict: 0.33\n",
      "real: 0.67. predict: 0.61\n",
      "real: 0.00. predict: 0.00\n",
      "real: 0.00. predict: 0.01\n",
      "real: 0.00. predict: 0.02\n",
      "real: 0.00. predict: 0.08\n",
      "real: 0.00. predict: 0.01\n",
      "real: 0.00. predict: 0.00\n",
      "real: 0.00. predict: 0.00\n",
      "real: 0.57. predict: 0.94\n",
      "real: 0.50. predict: 0.52\n",
      "real: 0.69. predict: 0.51\n",
      "real: 0.50. predict: 0.29\n",
      "real: 0.00. predict: 0.01\n",
      "real: 0.00. predict: 0.00\n",
      "real: 0.40. predict: 0.35\n",
      "real: 0.00. predict: 0.00\n",
      "real: 0.00. predict: 0.00\n",
      "real: 0.00. predict: 0.01\n",
      "real: 0.25. predict: 0.50\n",
      "real: 0.00. predict: 0.01\n",
      "real: 0.50. predict: 0.28\n",
      "real: 0.00. predict: 0.25\n",
      "real: 0.50. predict: 0.57\n",
      "real: 0.53. predict: 0.52\n",
      "real: 0.00. predict: 0.00\n",
      "real: 0.67. predict: 0.67\n",
      "real: 0.33. predict: 0.60\n",
      "real: 0.75. predict: 0.40\n",
      "real: 0.00. predict: 0.01\n",
      "real: 0.00. predict: 0.00\n",
      "real: 0.00. predict: 0.01\n",
      "real: 0.00. predict: 0.00\n",
      "real: 0.67. predict: 0.43\n",
      "real: 0.00. predict: 0.00\n",
      "real: 0.00. predict: 0.00\n",
      "real: 0.25. predict: 0.09\n",
      "real: 0.00. predict: 0.00\n",
      "real: 0.00. predict: 0.40\n",
      "real: 0.00. predict: 0.11\n",
      "real: 0.50. predict: 0.62\n",
      "real: 0.00. predict: 0.00\n",
      "real: 0.60. predict: 0.51\n",
      "real: 0.00. predict: 0.00\n",
      "real: 0.00. predict: 0.00\n",
      "real: 0.50. predict: 0.68\n",
      "real: 0.80. predict: 0.71\n",
      "real: 0.57. predict: 0.75\n",
      "real: 0.67. predict: 0.89\n",
      "real: 0.00. predict: 0.01\n",
      "real: 0.75. predict: 0.67\n",
      "real: 0.00. predict: 0.00\n",
      "real: 0.00. predict: 0.01\n",
      "real: 0.00. predict: 0.00\n",
      "real: 0.50. predict: 0.48\n",
      "real: 0.00. predict: 0.00\n",
      "real: 0.00. predict: 0.00\n",
      "real: 0.00. predict: 0.00\n",
      "real: 0.80. predict: 0.70\n",
      "real: 0.00. predict: 0.52\n",
      "real: 0.57. predict: 0.63\n",
      "real: 0.00. predict: 0.00\n",
      "real: 0.25. predict: 0.21\n",
      "real: 0.60. predict: 0.54\n",
      "real: 0.67. predict: 0.48\n",
      "real: 0.29. predict: 0.21\n",
      "real: 0.72. predict: 0.59\n",
      "real: 0.00. predict: 0.01\n",
      "real: 0.40. predict: 0.24\n",
      "real: 0.00. predict: 0.00\n",
      "real: 0.73. predict: 0.70\n",
      "real: 0.50. predict: 0.43\n",
      "real: 0.20. predict: 0.15\n",
      "real: 0.00. predict: 0.00\n",
      "real: 0.00. predict: 0.00\n",
      "real: 0.00. predict: 0.03\n",
      "real: 0.00. predict: 0.02\n",
      "real: 0.59. predict: 0.61\n",
      "real: 0.50. predict: 0.51\n",
      "real: 0.00. predict: 0.01\n",
      "real: 0.00. predict: 0.00\n",
      "real: 0.70. predict: 0.64\n",
      "real: 0.00. predict: 0.00\n",
      "real: 0.36. predict: 0.44\n",
      "real: 0.50. predict: 0.40\n",
      "real: 0.00. predict: 0.00\n",
      "real: 0.00. predict: 0.32\n",
      "real: 0.00. predict: 0.06\n",
      "real: 0.00. predict: 0.00\n",
      "real: 0.22. predict: 0.39\n",
      "real: 0.67. predict: 0.46\n",
      "real: 0.50. predict: 0.39\n",
      "real: 0.00. predict: 0.00\n",
      "real: 0.84. predict: 0.58\n",
      "real: 0.00. predict: 0.00\n",
      "real: 0.00. predict: 0.00\n",
      "real: 0.28. predict: 0.34\n",
      "real: 0.20. predict: 0.34\n",
      "real: 0.29. predict: 0.36\n",
      "real: 0.57. predict: 0.49\n",
      "real: 0.00. predict: 0.00\n",
      "real: 0.00. predict: 0.00\n",
      "real: 0.43. predict: 0.44\n",
      "real: 0.00. predict: 0.00\n",
      "real: 0.00. predict: 0.00\n",
      "real: 0.00. predict: 0.00\n",
      "real: 0.42. predict: 0.61\n",
      "real: 0.00. predict: 0.01\n",
      "real: 0.00. predict: 0.01\n",
      "real: 0.67. predict: 0.60\n",
      "real: 0.00. predict: 0.00\n",
      "real: 0.00. predict: 0.01\n",
      "real: 0.62. predict: 0.52\n",
      "real: 0.00. predict: 0.00\n",
      "real: 0.50. predict: 0.55\n",
      "real: 0.00. predict: 0.00\n",
      "real: 0.00. predict: 0.00\n",
      "real: 0.00. predict: 0.01\n",
      "real: 0.00. predict: 0.07\n",
      "real: 0.00. predict: 0.01\n",
      "real: 0.00. predict: 0.01\n",
      "real: 0.75. predict: 0.64\n",
      "real: 0.00. predict: 0.00\n",
      "real: 0.43. predict: 0.45\n",
      "real: 0.00. predict: 0.00\n",
      "real: 0.50. predict: 0.39\n",
      "real: 0.00. predict: 0.10\n",
      "real: 0.75. predict: 0.60\n",
      "real: 0.00. predict: 0.00\n",
      "real: 0.24. predict: 0.56\n",
      "real: 0.50. predict: 0.32\n",
      "real: 0.44. predict: 0.19\n",
      "real: 0.00. predict: 0.00\n",
      "real: 0.00. predict: 0.01\n",
      "real: 0.00. predict: 0.00\n",
      "real: 0.67. predict: 0.62\n",
      "real: 0.80. predict: 0.56\n",
      "real: 0.30. predict: 0.31\n",
      "real: 0.00. predict: 0.01\n",
      "real: 0.00. predict: 0.01\n",
      "real: 0.00. predict: 0.14\n",
      "real: 0.50. predict: 0.24\n",
      "real: 0.00. predict: 0.09\n",
      "real: 0.00. predict: 0.00\n",
      "real: 0.75. predict: 0.05\n",
      "real: 0.40. predict: 0.50\n",
      "real: 0.67. predict: 0.61\n",
      "real: 0.75. predict: 0.69\n",
      "real: 0.55. predict: 0.59\n",
      "real: 0.00. predict: 0.02\n",
      "real: 0.00. predict: 0.04\n",
      "real: 0.40. predict: 0.45\n",
      "real: 0.67. predict: 0.55\n",
      "real: 0.00. predict: 0.00\n",
      "real: 0.80. predict: 0.76\n",
      "real: 0.00. predict: 0.03\n",
      "real: 0.00. predict: 0.00\n",
      "real: 0.60. predict: 0.50\n",
      "real: 0.00. predict: 0.13\n",
      "real: 0.00. predict: 0.00\n",
      "real: 0.50. predict: 0.56\n",
      "real: 0.00. predict: 0.00\n",
      "real: 0.50. predict: 0.02\n",
      "real: 0.25. predict: 0.42\n",
      "real: 0.00. predict: 0.01\n",
      "real: 0.73. predict: 0.62\n",
      "real: 0.00. predict: 0.00\n",
      "real: 0.00. predict: 0.00\n",
      "real: 0.00. predict: 0.00\n",
      "real: 0.00. predict: 0.00\n",
      "real: 0.50. predict: 0.41\n",
      "real: 0.29. predict: 0.53\n",
      "real: 0.00. predict: 0.00\n",
      "real: 0.00. predict: 0.00\n",
      "real: 0.50. predict: 0.43\n",
      "real: 0.00. predict: 0.01\n",
      "real: 0.00. predict: 0.02\n",
      "real: 0.00. predict: 0.02\n",
      "real: 0.00. predict: 0.01\n",
      "real: 0.50. predict: 0.11\n",
      "real: 0.00. predict: 0.00\n",
      "real: 0.00. predict: 0.01\n",
      "real: 0.00. predict: 0.00\n",
      "real: 0.50. predict: 0.49\n",
      "real: 0.00. predict: 0.00\n",
      "real: 0.00. predict: 0.01\n",
      "real: 0.67. predict: 0.65\n",
      "real: 0.00. predict: 0.31\n",
      "real: 0.00. predict: 0.00\n",
      "real: 0.33. predict: 0.38\n",
      "real: 0.00. predict: 0.15\n",
      "real: 0.00. predict: 0.07\n",
      "real: 0.00. predict: 0.00\n",
      "real: 0.00. predict: 0.00\n",
      "real: 0.00. predict: 0.00\n",
      "real: 0.00. predict: 0.01\n",
      "real: 0.00. predict: 0.00\n",
      "real: 0.00. predict: 0.01\n",
      "real: 0.32. predict: 0.16\n",
      "real: 0.00. predict: 0.00\n",
      "real: 0.00. predict: 0.00\n",
      "real: 0.50. predict: 0.48\n",
      "real: 0.00. predict: 0.00\n",
      "real: 0.00. predict: 0.02\n",
      "real: 0.00. predict: 0.00\n",
      "real: 0.50. predict: 0.50\n",
      "real: 0.67. predict: 0.45\n",
      "real: 0.77. predict: 0.74\n",
      "real: 0.33. predict: 0.15\n",
      "real: 0.00. predict: 0.01\n",
      "real: 0.00. predict: 0.00\n",
      "real: 0.54. predict: 0.42\n",
      "real: 0.00. predict: 0.00\n",
      "real: 0.00. predict: 0.02\n",
      "real: 0.00. predict: 0.39\n",
      "real: 0.00. predict: 0.01\n",
      "real: 0.50. predict: 0.60\n",
      "real: 0.33. predict: 0.57\n",
      "real: 0.00. predict: 0.00\n",
      "real: 0.00. predict: 0.00\n",
      "real: 0.60. predict: 0.66\n",
      "real: 0.00. predict: 0.01\n",
      "real: 0.00. predict: 0.02\n",
      "real: 0.00. predict: 0.01\n",
      "real: 0.00. predict: 0.00\n",
      "real: 0.00. predict: 0.00\n",
      "real: 0.00. predict: 0.19\n",
      "real: 0.50. predict: 0.25\n",
      "real: 0.00. predict: 0.02\n",
      "real: 0.00. predict: 0.00\n",
      "real: 0.50. predict: 0.03\n",
      "real: 0.50. predict: 0.47\n",
      "real: 0.00. predict: 0.01\n",
      "real: 0.00. predict: 0.00\n",
      "real: 0.00. predict: 0.00\n",
      "real: 0.50. predict: 0.31\n",
      "real: 0.00. predict: 0.00\n",
      "real: 0.67. predict: 0.48\n",
      "real: 0.52. predict: 0.54\n",
      "real: 0.67. predict: 0.53\n",
      "real: 0.50. predict: 0.49\n",
      "real: 0.00. predict: 0.00\n",
      "real: 0.00. predict: 0.00\n",
      "real: 0.00. predict: 0.00\n",
      "real: 0.00. predict: 0.00\n",
      "real: 0.50. predict: 0.52\n",
      "real: 0.00. predict: 0.06\n",
      "real: 0.55. predict: 0.57\n",
      "real: 0.50. predict: 0.46\n",
      "real: 0.00. predict: 0.01\n",
      "real: 0.40. predict: 0.44\n",
      "real: 0.90. predict: 0.59\n",
      "real: 0.00. predict: 0.00\n",
      "real: 0.00. predict: 0.00\n",
      "real: 0.00. predict: 0.00\n",
      "real: 0.00. predict: 0.02\n",
      "real: 0.38. predict: 0.59\n",
      "real: 0.33. predict: 0.61\n",
      "real: 0.00. predict: 0.27\n",
      "real: 0.50. predict: 0.37\n",
      "real: 0.67. predict: 0.55\n",
      "real: 0.00. predict: 0.00\n",
      "real: 0.00. predict: 0.02\n",
      "real: 0.50. predict: 0.44\n",
      "real: 0.31. predict: 0.42\n",
      "real: 0.50. predict: 0.63\n",
      "real: 0.50. predict: 0.65\n",
      "real: 0.00. predict: 0.01\n",
      "real: 0.75. predict: 0.56\n",
      "real: 0.46. predict: 0.53\n",
      "real: 0.00. predict: 0.26\n",
      "real: 0.50. predict: 0.48\n",
      "real: 0.00. predict: 0.07\n",
      "real: 0.00. predict: 0.02\n",
      "real: 0.00. predict: 0.19\n",
      "real: 0.00. predict: 0.00\n",
      "real: 0.00. predict: 0.19\n",
      "real: 0.70. predict: 0.68\n",
      "real: 0.00. predict: 0.00\n",
      "real: 0.00. predict: 0.00\n",
      "real: 0.00. predict: 0.00\n",
      "real: 0.40. predict: 0.39\n",
      "real: 0.80. predict: 0.41\n",
      "real: 0.33. predict: 0.14\n",
      "real: 0.30. predict: 0.08\n",
      "real: 0.00. predict: 0.01\n",
      "real: 0.00. predict: 0.00\n",
      "real: 0.00. predict: 0.00\n",
      "real: 0.00. predict: 0.01\n",
      "real: 0.00. predict: 0.01\n",
      "real: 0.00. predict: 0.06\n",
      "real: 0.00. predict: 0.00\n",
      "real: 0.25. predict: 0.08\n",
      "real: 0.00. predict: 0.01\n",
      "real: 0.50. predict: 0.11\n",
      "real: 0.00. predict: 0.04\n",
      "real: 0.33. predict: 0.00\n",
      "real: 0.00. predict: 0.21\n",
      "real: 0.71. predict: 0.60\n",
      "real: 0.09. predict: 0.00\n",
      "real: 0.00. predict: 0.01\n",
      "real: 0.00. predict: 0.00\n",
      "real: 0.33. predict: 0.00\n",
      "real: 0.64. predict: 0.55\n",
      "real: 0.33. predict: 0.50\n",
      "real: 0.43. predict: 0.42\n",
      "real: 0.41. predict: 0.48\n",
      "real: 0.50. predict: 0.55\n",
      "real: 0.00. predict: 0.03\n",
      "real: 0.40. predict: 0.62\n",
      "real: 0.00. predict: 0.00\n",
      "real: 0.40. predict: 0.28\n",
      "real: 0.00. predict: 0.00\n",
      "real: 0.57. predict: 0.38\n",
      "real: 0.00. predict: 0.01\n",
      "real: 0.00. predict: 0.00\n",
      "real: 0.00. predict: 0.05\n",
      "real: 0.00. predict: 0.00\n",
      "real: 0.00. predict: 0.10\n",
      "real: 0.00. predict: 0.05\n",
      "real: 0.00. predict: 0.00\n",
      "real: 0.50. predict: 0.41\n",
      "real: 0.00. predict: 0.00\n"
     ]
    }
   ],
   "source": [
    "compare_prediction(y_test_untrust,y_pred)"
   ]
  },
  {
   "cell_type": "code",
   "execution_count": 85,
   "metadata": {},
   "outputs": [
    {
     "name": "stdout",
     "output_type": "stream",
     "text": [
      "              precision    recall  f1-score   support\n",
      "\n",
      "           0       0.97      0.97      0.97       916\n",
      "           1       0.81      0.80      0.81       157\n",
      "\n",
      "    accuracy                           0.94      1073\n",
      "   macro avg       0.89      0.88      0.89      1073\n",
      "weighted avg       0.94      0.94      0.94      1073\n",
      "\n"
     ]
    },
    {
     "data": {
      "text/plain": [
       "(0.9431500465983225,\n",
       " 0.8076923076923077,\n",
       " 0.966721222040371,\n",
       " 0.802547770700637,\n",
       " 0.966721222040371,\n",
       " 0.805111821086262,\n",
       " 0.966721222040371,\n",
       " 0)"
      ]
     },
     "execution_count": 85,
     "metadata": {},
     "output_type": "execute_result"
    },
    {
     "data": {
      "image/png": "[encoded data removed]",
      "text/plain": [
       "<Figure size 1080x360 with 2 Axes>"
      ]
     },
     "metadata": {
      "needs_background": "light"
     },
     "output_type": "display_data"
    }
   ],
   "source": [
    "# without credibility\n",
    "y_pred_rule = [1 if m > viral_strenght_threshold else 0 for m in X_test_viral]\n",
    "get_test_metrics(y_test_superspreader, y_pred_rule, full_metrics = True)"
   ]
  },
  {
   "cell_type": "code",
   "execution_count": 86,
   "metadata": {},
   "outputs": [
    {
     "data": {
      "text/plain": [
       "730.0"
      ]
     },
     "execution_count": 86,
     "metadata": {},
     "output_type": "execute_result"
    }
   ],
   "source": [
    "viral_strenght_threshold"
   ]
  },
  {
   "cell_type": "code",
   "execution_count": 87,
   "metadata": {},
   "outputs": [
    {
     "name": "stdout",
     "output_type": "stream",
     "text": [
      "              precision    recall  f1-score   support\n",
      "\n",
      "           0       0.97      0.97      0.97       916\n",
      "           1       0.82      0.80      0.81       157\n",
      "\n",
      "    accuracy                           0.95      1073\n",
      "   macro avg       0.89      0.89      0.89      1073\n",
      "weighted avg       0.94      0.95      0.94      1073\n",
      "\n"
     ]
    },
    {
     "data": {
      "text/plain": [
       "(0.9450139794967382,\n",
       " 0.8181818181818182,\n",
       " 0.9678474114441417,\n",
       " 0.802547770700637,\n",
       " 0.9678474114441417,\n",
       " 0.8102893890675242,\n",
       " 0.9678474114441417,\n",
       " 0)"
      ]
     },
     "execution_count": 87,
     "metadata": {},
     "output_type": "execute_result"
    },
    {
     "data": {
      "image/png": "[encoded data removed]",
      "text/plain": [
       "<Figure size 1080x360 with 2 Axes>"
      ]
     },
     "metadata": {
      "needs_background": "light"
     },
     "output_type": "display_data"
    }
   ],
   "source": [
    "y_pred_superspreader = []\n",
    "for viral,untrust in list(zip(X_test_viral,y_pred)):\n",
    "    if viral > viral_strenght_threshold and untrust > 0.05:  #viral_strenght_threshold\n",
    "        y_pred_superspreader.append(1)\n",
    "    else:\n",
    "        y_pred_superspreader.append(0)        \n",
    "    \n",
    "get_test_metrics(y_test_superspreader, y_pred_superspreader, full_metrics = True)"
   ]
  },
  {
   "cell_type": "code",
   "execution_count": 88,
   "metadata": {},
   "outputs": [
    {
     "data": {
      "text/plain": [
       "<matplotlib.axes._subplots.AxesSubplot at 0x7f0a9c2509b0>"
      ]
     },
     "execution_count": 88,
     "metadata": {},
     "output_type": "execute_result"
    },
    {
     "data": {
      "image/png": "[encoded data removed]",
      "text/plain": [
       "<Figure size 432x288 with 1 Axes>"
      ]
     },
     "metadata": {
      "needs_background": "light"
     },
     "output_type": "display_data"
    }
   ],
   "source": [
    "superspreader = ['superspreader' if x==1 else 'non-superspreader' for x in y_test_superspreader]\n",
    "df_plot = pd.DataFrame({'virality':X_test_viral, 'trust_score':y_pred, 'class':superspreader})\n",
    "sns.scatterplot(data=df_plot, x=\"virality\", y=\"trust_score\", hue = \"class\")"
   ]
  },
  {
   "cell_type": "code",
   "execution_count": null,
   "metadata": {},
   "outputs": [],
   "source": []
  }
 ],
 "metadata": {
  "kernelspec": {
   "display_name": "env",
   "language": "python",
   "name": "env"
  },
  "language_info": {
   "codemirror_mode": {
    "name": "ipython",
    "version": 3
   },
   "file_extension": ".py",
   "mimetype": "text/x-python",
   "name": "python",
   "nbconvert_exporter": "python",
   "pygments_lexer": "ipython3",
   "version": "3.8.5"
  }
 },
 "nbformat": 4,
 "nbformat_minor": 4
}
