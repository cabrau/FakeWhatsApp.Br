{
 "cells": [
  {
   "cell_type": "markdown",
   "metadata": {},
   "source": [
    "# Content Dimension: text classification\n",
    "\n",
    "### Features\n",
    "* BoW\n",
    "* TF-IDF\n",
    "* W2V"
   ]
  },
  {
   "cell_type": "code",
   "execution_count": 1,
   "metadata": {},
   "outputs": [
    {
     "name": "stderr",
     "output_type": "stream",
     "text": [
      "C:\\Users\\lucas.carneiro\\Anaconda3\\envs\\env\\lib\\site-packages\\gensim\\similarities\\__init__.py:15: UserWarning: The gensim.similarities.levenshtein submodule is disabled, because the optional Levenshtein package <https://pypi.org/project/python-Levenshtein/> is unavailable. Install Levenhstein (e.g. `pip install python-Levenshtein`) to suppress this warning.\n",
      "  warnings.warn(msg)\n"
     ]
    }
   ],
   "source": [
    "import pandas as pd\n",
    "from utils import preprocess\n",
    "from sklearn.linear_model import LogisticRegression\n",
    "import utils\n",
    "from sklearn.feature_extraction.text import CountVectorizer\n",
    "from sklearn.neural_network import MLPClassifier\n",
    "import pickle\n",
    "from sklearn.feature_extraction.text import TfidfVectorizer\n",
    "from gensim.models import Word2Vec\n",
    "from gensim.models.callbacks import CallbackAny2Vec\n",
    "import numpy as np"
   ]
  },
  {
   "cell_type": "markdown",
   "metadata": {},
   "source": [
    "### Load data"
   ]
  },
  {
   "cell_type": "code",
   "execution_count": 2,
   "metadata": {},
   "outputs": [],
   "source": [
    "import pandas as pd\n",
    "\n",
    "df_train = pd.read_csv('data/2018/train-test/train.csv')\n",
    "df_test = pd.read_csv('data/2018/train-test/test.csv')\n"
   ]
  },
  {
   "cell_type": "code",
   "execution_count": 3,
   "metadata": {},
   "outputs": [
    {
     "data": {
      "text/html": [
       "<div>\n",
       "<style scoped>\n",
       "    .dataframe tbody tr th:only-of-type {\n",
       "        vertical-align: middle;\n",
       "    }\n",
       "\n",
       "    .dataframe tbody tr th {\n",
       "        vertical-align: top;\n",
       "    }\n",
       "\n",
       "    .dataframe thead th {\n",
       "        text-align: right;\n",
       "    }\n",
       "</style>\n",
       "<table border=\"1\" class=\"dataframe\">\n",
       "  <thead>\n",
       "    <tr style=\"text-align: right;\">\n",
       "      <th></th>\n",
       "      <th>text</th>\n",
       "      <th>misinformation</th>\n",
       "      <th>original</th>\n",
       "      <th>id_message</th>\n",
       "      <th>preprocessed_text</th>\n",
       "    </tr>\n",
       "  </thead>\n",
       "  <tbody>\n",
       "    <tr>\n",
       "      <th>0</th>\n",
       "      <td>A ESQUERDA ACABOU. SAIBA POR QUÊ.\\npor Stephen...</td>\n",
       "      <td>1</td>\n",
       "      <td>1</td>\n",
       "      <td>0</td>\n",
       "      <td>esquerdo acabar saber que \\n stephen kanitz ar...</td>\n",
       "    </tr>\n",
       "    <tr>\n",
       "      <th>1</th>\n",
       "      <td>Leiam esse artigo \\n\\n\\nA ESQUERDA ACABOU. SAI...</td>\n",
       "      <td>1</td>\n",
       "      <td>0</td>\n",
       "      <td>0</td>\n",
       "      <td>ler artigo \\n \\n \\n esquerdo acabar saber que ...</td>\n",
       "    </tr>\n",
       "    <tr>\n",
       "      <th>2</th>\n",
       "      <td>A ESQUERDA ACABOU. SAIBA POR QUÊ?\\npor Stephen...</td>\n",
       "      <td>1</td>\n",
       "      <td>0</td>\n",
       "      <td>0</td>\n",
       "      <td>esquerdo acabar saber que ? \\n stephen kanitz ...</td>\n",
       "    </tr>\n",
       "    <tr>\n",
       "      <th>3</th>\n",
       "      <td>A ESQUERDA ACABOU. SAIBA POR QUÊ.\\npor Stephen...</td>\n",
       "      <td>1</td>\n",
       "      <td>0</td>\n",
       "      <td>0</td>\n",
       "      <td>esquerdo acabar saber que \\n stephen kanitz \\n...</td>\n",
       "    </tr>\n",
       "    <tr>\n",
       "      <th>4</th>\n",
       "      <td>A ESQUERDA ACABOU. SAIBA POR QUÊ.\\npor Stephen...</td>\n",
       "      <td>1</td>\n",
       "      <td>0</td>\n",
       "      <td>0</td>\n",
       "      <td>esquerdo acabar saber que \\n stephen kanitz \\n...</td>\n",
       "    </tr>\n",
       "    <tr>\n",
       "      <th>...</th>\n",
       "      <td>...</td>\n",
       "      <td>...</td>\n",
       "      <td>...</td>\n",
       "      <td>...</td>\n",
       "      <td>...</td>\n",
       "    </tr>\n",
       "    <tr>\n",
       "      <th>6228</th>\n",
       "      <td>ATENÇÃO ELEITORES DE BOLSONARO EM BELÉM DO PAR...</td>\n",
       "      <td>0</td>\n",
       "      <td>1</td>\n",
       "      <td>3301</td>\n",
       "      <td>atarncao eleitor bolsonaro belem parar \\n \\n c...</td>\n",
       "    </tr>\n",
       "    <tr>\n",
       "      <th>6229</th>\n",
       "      <td>\"DITA DURA\".\\n\\nPara:\\n\"Ninguém é igual a ning...</td>\n",
       "      <td>1</td>\n",
       "      <td>1</td>\n",
       "      <td>3302</td>\n",
       "      <td>dizer duro \\n \\n \\n ninguem igual ninguem todo...</td>\n",
       "    </tr>\n",
       "    <tr>\n",
       "      <th>6230</th>\n",
       "      <td>GRANDE CARLOS DRUMOND DE ANDRADE:             ...</td>\n",
       "      <td>1</td>\n",
       "      <td>0</td>\n",
       "      <td>3302</td>\n",
       "      <td>grande carlos drumond andrade dizer duro \\n \\n...</td>\n",
       "    </tr>\n",
       "    <tr>\n",
       "      <th>6231</th>\n",
       "      <td>CARLOS DRUMOND DE ANDRADE\\n\\nDITA DURA\\n\"Ningu...</td>\n",
       "      <td>1</td>\n",
       "      <td>0</td>\n",
       "      <td>3302</td>\n",
       "      <td>carlos drumond andrade \\n \\n dizer duro \\n nin...</td>\n",
       "    </tr>\n",
       "    <tr>\n",
       "      <th>6232</th>\n",
       "      <td>[11:15, 8/10/2018] Agnaldo: BOLSONARO TEM QUE ...</td>\n",
       "      <td>1</td>\n",
       "      <td>1</td>\n",
       "      <td>3303</td>\n",
       "      <td>agnaldo bolsonaro rebelar exigir votar impress...</td>\n",
       "    </tr>\n",
       "  </tbody>\n",
       "</table>\n",
       "<p>6233 rows × 5 columns</p>\n",
       "</div>"
      ],
      "text/plain": [
       "                                                   text  misinformation  \\\n",
       "0     A ESQUERDA ACABOU. SAIBA POR QUÊ.\\npor Stephen...               1   \n",
       "1     Leiam esse artigo \\n\\n\\nA ESQUERDA ACABOU. SAI...               1   \n",
       "2     A ESQUERDA ACABOU. SAIBA POR QUÊ?\\npor Stephen...               1   \n",
       "3     A ESQUERDA ACABOU. SAIBA POR QUÊ.\\npor Stephen...               1   \n",
       "4     A ESQUERDA ACABOU. SAIBA POR QUÊ.\\npor Stephen...               1   \n",
       "...                                                 ...             ...   \n",
       "6228  ATENÇÃO ELEITORES DE BOLSONARO EM BELÉM DO PAR...               0   \n",
       "6229  \"DITA DURA\".\\n\\nPara:\\n\"Ninguém é igual a ning...               1   \n",
       "6230  GRANDE CARLOS DRUMOND DE ANDRADE:             ...               1   \n",
       "6231  CARLOS DRUMOND DE ANDRADE\\n\\nDITA DURA\\n\"Ningu...               1   \n",
       "6232  [11:15, 8/10/2018] Agnaldo: BOLSONARO TEM QUE ...               1   \n",
       "\n",
       "      original  id_message                                  preprocessed_text  \n",
       "0            1           0  esquerdo acabar saber que \\n stephen kanitz ar...  \n",
       "1            0           0  ler artigo \\n \\n \\n esquerdo acabar saber que ...  \n",
       "2            0           0  esquerdo acabar saber que ? \\n stephen kanitz ...  \n",
       "3            0           0  esquerdo acabar saber que \\n stephen kanitz \\n...  \n",
       "4            0           0  esquerdo acabar saber que \\n stephen kanitz \\n...  \n",
       "...        ...         ...                                                ...  \n",
       "6228         1        3301  atarncao eleitor bolsonaro belem parar \\n \\n c...  \n",
       "6229         1        3302  dizer duro \\n \\n \\n ninguem igual ninguem todo...  \n",
       "6230         0        3302  grande carlos drumond andrade dizer duro \\n \\n...  \n",
       "6231         0        3302  carlos drumond andrade \\n \\n dizer duro \\n nin...  \n",
       "6232         1        3303  agnaldo bolsonaro rebelar exigir votar impress...  \n",
       "\n",
       "[6233 rows x 5 columns]"
      ]
     },
     "execution_count": 3,
     "metadata": {},
     "output_type": "execute_result"
    }
   ],
   "source": [
    "df_train"
   ]
  },
  {
   "cell_type": "code",
   "execution_count": 4,
   "metadata": {},
   "outputs": [
    {
     "name": "stdout",
     "output_type": "stream",
     "text": [
      "*BEM GALERA... O VIDEO DA PSICOLOGIA REVERSA PARA AJUDAR O NOSSO PRESIDENTE ESTÁ AQUI:*\n",
      "\n",
      "https://m.facebook.com/story.php?story_fbid=525897467858283&id=243021376285804\n"
     ]
    }
   ],
   "source": [
    "for t in df_train['text']:\n",
    "    if 'facebook' in t:\n",
    "        print(t)\n",
    "        break"
   ]
  },
  {
   "cell_type": "code",
   "execution_count": 5,
   "metadata": {},
   "outputs": [
    {
     "data": {
      "text/plain": [
       "misinformation\n",
       "0    3255\n",
       "1    2978\n",
       "Name: text, dtype: int64"
      ]
     },
     "execution_count": 5,
     "metadata": {},
     "output_type": "execute_result"
    }
   ],
   "source": [
    "df_train.groupby(by='misinformation').count()['text']"
   ]
  },
  {
   "cell_type": "code",
   "execution_count": 6,
   "metadata": {},
   "outputs": [
    {
     "data": {
      "text/plain": [
       "misinformation\n",
       "0    1905\n",
       "1    1399\n",
       "Name: original, dtype: int64"
      ]
     },
     "execution_count": 6,
     "metadata": {},
     "output_type": "execute_result"
    }
   ],
   "source": [
    "df_train.groupby(by='misinformation')['original'].sum()"
   ]
  },
  {
   "cell_type": "code",
   "execution_count": 7,
   "metadata": {},
   "outputs": [
    {
     "data": {
      "text/plain": [
       "misinformation\n",
       "0    834\n",
       "1    740\n",
       "Name: text, dtype: int64"
      ]
     },
     "execution_count": 7,
     "metadata": {},
     "output_type": "execute_result"
    }
   ],
   "source": [
    "df_test.groupby(by='misinformation').count()['text']"
   ]
  },
  {
   "cell_type": "code",
   "execution_count": 8,
   "metadata": {},
   "outputs": [
    {
     "data": {
      "text/plain": [
       "misinformation\n",
       "0    486\n",
       "1    341\n",
       "Name: original, dtype: int64"
      ]
     },
     "execution_count": 8,
     "metadata": {},
     "output_type": "execute_result"
    }
   ],
   "source": [
    "df_test.groupby(by='misinformation')['original'].sum()"
   ]
  },
  {
   "cell_type": "markdown",
   "metadata": {},
   "source": [
    "### Preprocess"
   ]
  },
  {
   "cell_type": "code",
   "execution_count": 9,
   "metadata": {},
   "outputs": [],
   "source": [
    "from utils import preprocess"
   ]
  },
  {
   "cell_type": "code",
   "execution_count": 10,
   "metadata": {},
   "outputs": [],
   "source": [
    "df_train['preprocessed_text'] = [preprocess(t) for t in df_train['text']]"
   ]
  },
  {
   "cell_type": "code",
   "execution_count": 11,
   "metadata": {},
   "outputs": [],
   "source": [
    "df_test['preprocessed_text'] = [preprocess(t) for t in df_test['text']]"
   ]
  },
  {
   "cell_type": "code",
   "execution_count": 12,
   "metadata": {},
   "outputs": [],
   "source": [
    "y_train = df_train['misinformation']\n",
    "y_test = df_test['misinformation']"
   ]
  },
  {
   "cell_type": "markdown",
   "metadata": {},
   "source": [
    "# Binary Bag of Words"
   ]
  },
  {
   "cell_type": "code",
   "execution_count": 13,
   "metadata": {},
   "outputs": [
    {
     "data": {
      "text/plain": [
       "(6233, 130578)"
      ]
     },
     "execution_count": 13,
     "metadata": {},
     "output_type": "execute_result"
    }
   ],
   "source": [
    "from sklearn.feature_extraction.text import CountVectorizer\n",
    "bow = CountVectorizer(max_features = None, ngram_range = (1,2), #(1,3) \n",
    "                             lowercase = False, token_pattern = r'[^\\s]+',binary=True)\n",
    "\n",
    "bow.fit(df_train['preprocessed_text'])   \n",
    "X_train = bow.transform(df_train['preprocessed_text'])\n",
    "X_test = bow.transform(df_test['preprocessed_text'])\n",
    "\n",
    "X_train.shape"
   ]
  },
  {
   "cell_type": "code",
   "execution_count": 14,
   "metadata": {},
   "outputs": [
    {
     "name": "stdout",
     "output_type": "stream",
     "text": [
      "logistic regression + binary bow\n"
     ]
    },
    {
     "name": "stderr",
     "output_type": "stream",
     "text": [
      "C:\\Users\\lucas.carneiro\\Anaconda3\\envs\\env\\lib\\site-packages\\sklearn\\linear_model\\_logistic.py:763: ConvergenceWarning: lbfgs failed to converge (status=1):\n",
      "STOP: TOTAL NO. of ITERATIONS REACHED LIMIT.\n",
      "\n",
      "Increase the number of iterations (max_iter) or scale the data as shown in:\n",
      "    https://scikit-learn.org/stable/modules/preprocessing.html\n",
      "Please also refer to the documentation for alternative solver options:\n",
      "    https://scikit-learn.org/stable/modules/linear_model.html#logistic-regression\n",
      "  n_iter_i = _check_optimize_result(\n"
     ]
    },
    {
     "name": "stdout",
     "output_type": "stream",
     "text": [
      "0.39\n",
      "              precision    recall  f1-score   support\n",
      "\n",
      "           0       0.82      0.83      0.82       834\n",
      "           1       0.80      0.79      0.80       740\n",
      "\n",
      "    accuracy                           0.81      1574\n",
      "   macro avg       0.81      0.81      0.81      1574\n",
      "weighted avg       0.81      0.81      0.81      1574\n",
      "\n",
      "AUC:  0.9044234882364379\n"
     ]
    },
    {
     "data": {
      "image/png": "[encoded data removed]",
      "text/plain": [
       "<Figure size 1080x360 with 3 Axes>"
      ]
     },
     "metadata": {
      "needs_background": "light"
     },
     "output_type": "display_data"
    },
    {
     "name": "stdout",
     "output_type": "stream",
     "text": [
      "0,812\n",
      "0,175\n",
      "0,804\n",
      "0,794\n",
      "0,799\n",
      "0,904\n"
     ]
    },
    {
     "data": {
      "text/plain": [
       "(0.8125794155019059,\n",
       " 0.1759093619558736,\n",
       " 0.8043775649794802,\n",
       " 0.7945945945945946,\n",
       " 0.7994561522773624,\n",
       " 0.9044234882364379)"
      ]
     },
     "execution_count": 14,
     "metadata": {},
     "output_type": "execute_result"
    }
   ],
   "source": [
    "from sklearn.linear_model import LogisticRegression\n",
    "import utils\n",
    "\n",
    "print('logistic regression + binary bow')\n",
    "lr = LogisticRegression()\n",
    "lr.fit(X_train, y_train)\n",
    "\n",
    "y_prob = lr.predict_proba(X_test)[:,1]\n",
    "y_prob_train = lr.predict_proba(X_train)[:,1]\n",
    "# threshold moving\n",
    "\n",
    "thr = utils.optimal_threshold(y_prob_train, y_train)\n",
    "print(thr)\n",
    "y_pred = [1 if p >= thr else 0 for p in y_prob]\n",
    "utils.get_test_metrics(y_test, y_pred, y_prob, full_metrics = True)"
   ]
  },
  {
   "cell_type": "code",
   "execution_count": 15,
   "metadata": {},
   "outputs": [
    {
     "name": "stdout",
     "output_type": "stream",
     "text": [
      "mlp + binary bow\n",
      "0 \n",
      "hidden layers: (150,); alpha: 0.00238; learning rate: 0.03748; batch: 100\n"
     ]
    },
    {
     "name": "stderr",
     "output_type": "stream",
     "text": [
      "C:\\Users\\lucas.carneiro\\Anaconda3\\envs\\env\\lib\\site-packages\\sklearn\\neural_network\\_multilayer_perceptron.py:619: UserWarning: Training interrupted by user.\n",
      "  warnings.warn(\"Training interrupted by user.\")\n"
     ]
    },
    {
     "name": "stdout",
     "output_type": "stream",
     "text": [
      "ACC: 0.877\n",
      "1 \n",
      "hidden layers: (75, 125); alpha: 0.00002; learning rate: 0.00015; batch: 250\n"
     ]
    },
    {
     "name": "stderr",
     "output_type": "stream",
     "text": [
      "C:\\Users\\lucas.carneiro\\Anaconda3\\envs\\env\\lib\\site-packages\\sklearn\\neural_network\\_multilayer_perceptron.py:619: UserWarning: Training interrupted by user.\n",
      "  warnings.warn(\"Training interrupted by user.\")\n"
     ]
    },
    {
     "ename": "AttributeError",
     "evalue": "'MLPClassifier' object has no attribute '_best_coefs'",
     "output_type": "error",
     "traceback": [
      "\u001b[1;31m---------------------------------------------------------------------------\u001b[0m",
      "\u001b[1;31mAttributeError\u001b[0m                            Traceback (most recent call last)",
      "\u001b[1;32m<ipython-input-15-b2652c00dec1>\u001b[0m in \u001b[0;36m<module>\u001b[1;34m\u001b[0m\n\u001b[0;32m      2\u001b[0m \u001b[1;33m\u001b[0m\u001b[0m\n\u001b[0;32m      3\u001b[0m \u001b[0mprint\u001b[0m\u001b[1;33m(\u001b[0m\u001b[1;34m'mlp + binary bow'\u001b[0m\u001b[1;33m)\u001b[0m\u001b[1;33m\u001b[0m\u001b[1;33m\u001b[0m\u001b[0m\n\u001b[1;32m----> 4\u001b[1;33m \u001b[0mhl\u001b[0m\u001b[1;33m,\u001b[0m\u001b[0mbs\u001b[0m\u001b[1;33m,\u001b[0m\u001b[0mal\u001b[0m\u001b[1;33m,\u001b[0m\u001b[0mlri\u001b[0m \u001b[1;33m=\u001b[0m \u001b[0mutils\u001b[0m\u001b[1;33m.\u001b[0m\u001b[0mrandom_search_mlp\u001b[0m\u001b[1;33m(\u001b[0m\u001b[0mX_train\u001b[0m\u001b[1;33m,\u001b[0m\u001b[0my_train\u001b[0m\u001b[1;33m,\u001b[0m\u001b[0mn_iter\u001b[0m\u001b[1;33m=\u001b[0m\u001b[1;36m5\u001b[0m\u001b[1;33m)\u001b[0m\u001b[1;33m\u001b[0m\u001b[1;33m\u001b[0m\u001b[0m\n\u001b[0m\u001b[0;32m      5\u001b[0m \u001b[0mclf\u001b[0m \u001b[1;33m=\u001b[0m \u001b[0mutils\u001b[0m\u001b[1;33m.\u001b[0m\u001b[0moptimized_mlp\u001b[0m\u001b[1;33m(\u001b[0m\u001b[0mhl\u001b[0m\u001b[1;33m,\u001b[0m\u001b[0mbs\u001b[0m\u001b[1;33m,\u001b[0m\u001b[0mal\u001b[0m\u001b[1;33m,\u001b[0m\u001b[0mlri\u001b[0m\u001b[1;33m)\u001b[0m\u001b[1;33m\u001b[0m\u001b[1;33m\u001b[0m\u001b[0m\n\u001b[0;32m      6\u001b[0m \u001b[0mclf\u001b[0m\u001b[1;33m.\u001b[0m\u001b[0mfit\u001b[0m\u001b[1;33m(\u001b[0m\u001b[0mX_train\u001b[0m\u001b[1;33m,\u001b[0m \u001b[0my_train\u001b[0m\u001b[1;33m)\u001b[0m\u001b[1;33m\u001b[0m\u001b[1;33m\u001b[0m\u001b[0m\n",
      "\u001b[1;32m~\\Documents\\FakeWhatsApp.Br\\utils.py\u001b[0m in \u001b[0;36mrandom_search_mlp\u001b[1;34m(X_train, y_train, n_iter)\u001b[0m\n\u001b[0;32m    532\u001b[0m         \u001b[0mprint\u001b[0m\u001b[1;33m(\u001b[0m\u001b[1;33m)\u001b[0m\u001b[1;33m\u001b[0m\u001b[1;33m\u001b[0m\u001b[0m\n\u001b[0;32m    533\u001b[0m         \u001b[0mprint\u001b[0m\u001b[1;33m(\u001b[0m\u001b[1;34m'hidden layers: {a}; alpha: {b:.5f}; learning rate: {c:.5f}; batch: {d}'\u001b[0m\u001b[1;33m.\u001b[0m\u001b[0mformat\u001b[0m\u001b[1;33m(\u001b[0m\u001b[0ma\u001b[0m\u001b[1;33m=\u001b[0m\u001b[0mhl\u001b[0m\u001b[1;33m,\u001b[0m\u001b[0mb\u001b[0m\u001b[1;33m=\u001b[0m\u001b[0mal\u001b[0m\u001b[1;33m,\u001b[0m\u001b[0mc\u001b[0m\u001b[1;33m=\u001b[0m\u001b[0mlri\u001b[0m\u001b[1;33m,\u001b[0m\u001b[0md\u001b[0m\u001b[1;33m=\u001b[0m\u001b[0mbs\u001b[0m\u001b[1;33m)\u001b[0m\u001b[1;33m)\u001b[0m\u001b[1;33m\u001b[0m\u001b[1;33m\u001b[0m\u001b[0m\n\u001b[1;32m--> 534\u001b[1;33m         \u001b[0mclf\u001b[0m\u001b[1;33m.\u001b[0m\u001b[0mfit\u001b[0m\u001b[1;33m(\u001b[0m\u001b[0mX_train_v\u001b[0m\u001b[1;33m,\u001b[0m \u001b[0my_train_v\u001b[0m\u001b[1;33m)\u001b[0m\u001b[1;33m\u001b[0m\u001b[1;33m\u001b[0m\u001b[0m\n\u001b[0m\u001b[0;32m    535\u001b[0m         \u001b[0my_pred\u001b[0m \u001b[1;33m=\u001b[0m \u001b[0mclf\u001b[0m\u001b[1;33m.\u001b[0m\u001b[0mpredict\u001b[0m\u001b[1;33m(\u001b[0m\u001b[0mX_val\u001b[0m\u001b[1;33m)\u001b[0m\u001b[1;33m\u001b[0m\u001b[1;33m\u001b[0m\u001b[0m\n\u001b[0;32m    536\u001b[0m         \u001b[0my_prob\u001b[0m \u001b[1;33m=\u001b[0m \u001b[0mclf\u001b[0m\u001b[1;33m.\u001b[0m\u001b[0mpredict_proba\u001b[0m\u001b[1;33m(\u001b[0m\u001b[0mX_val\u001b[0m\u001b[1;33m)\u001b[0m\u001b[1;33m[\u001b[0m\u001b[1;33m:\u001b[0m\u001b[1;33m,\u001b[0m\u001b[1;36m1\u001b[0m\u001b[1;33m]\u001b[0m\u001b[1;33m\u001b[0m\u001b[1;33m\u001b[0m\u001b[0m\n",
      "\u001b[1;32m~\\Anaconda3\\envs\\env\\lib\\site-packages\\sklearn\\neural_network\\_multilayer_perceptron.py\u001b[0m in \u001b[0;36mfit\u001b[1;34m(self, X, y)\u001b[0m\n\u001b[0;32m    671\u001b[0m         \u001b[0mself\u001b[0m \u001b[1;33m:\u001b[0m \u001b[0mreturns\u001b[0m \u001b[0ma\u001b[0m \u001b[0mtrained\u001b[0m \u001b[0mMLP\u001b[0m \u001b[0mmodel\u001b[0m\u001b[1;33m.\u001b[0m\u001b[1;33m\u001b[0m\u001b[1;33m\u001b[0m\u001b[0m\n\u001b[0;32m    672\u001b[0m         \"\"\"\n\u001b[1;32m--> 673\u001b[1;33m         \u001b[1;32mreturn\u001b[0m \u001b[0mself\u001b[0m\u001b[1;33m.\u001b[0m\u001b[0m_fit\u001b[0m\u001b[1;33m(\u001b[0m\u001b[0mX\u001b[0m\u001b[1;33m,\u001b[0m \u001b[0my\u001b[0m\u001b[1;33m,\u001b[0m \u001b[0mincremental\u001b[0m\u001b[1;33m=\u001b[0m\u001b[1;32mFalse\u001b[0m\u001b[1;33m)\u001b[0m\u001b[1;33m\u001b[0m\u001b[1;33m\u001b[0m\u001b[0m\n\u001b[0m\u001b[0;32m    674\u001b[0m \u001b[1;33m\u001b[0m\u001b[0m\n\u001b[0;32m    675\u001b[0m     \u001b[1;33m@\u001b[0m\u001b[0mproperty\u001b[0m\u001b[1;33m\u001b[0m\u001b[1;33m\u001b[0m\u001b[0m\n",
      "\u001b[1;32m~\\Anaconda3\\envs\\env\\lib\\site-packages\\sklearn\\neural_network\\_multilayer_perceptron.py\u001b[0m in \u001b[0;36m_fit\u001b[1;34m(self, X, y, incremental)\u001b[0m\n\u001b[0;32m    397\u001b[0m         \u001b[1;31m# Run the Stochastic optimization solver\u001b[0m\u001b[1;33m\u001b[0m\u001b[1;33m\u001b[0m\u001b[1;33m\u001b[0m\u001b[0m\n\u001b[0;32m    398\u001b[0m         \u001b[1;32mif\u001b[0m \u001b[0mself\u001b[0m\u001b[1;33m.\u001b[0m\u001b[0msolver\u001b[0m \u001b[1;32min\u001b[0m \u001b[0m_STOCHASTIC_SOLVERS\u001b[0m\u001b[1;33m:\u001b[0m\u001b[1;33m\u001b[0m\u001b[1;33m\u001b[0m\u001b[0m\n\u001b[1;32m--> 399\u001b[1;33m             self._fit_stochastic(X, y, activations, deltas, coef_grads,\n\u001b[0m\u001b[0;32m    400\u001b[0m                                  intercept_grads, layer_units, incremental)\n\u001b[0;32m    401\u001b[0m \u001b[1;33m\u001b[0m\u001b[0m\n",
      "\u001b[1;32m~\\Anaconda3\\envs\\env\\lib\\site-packages\\sklearn\\neural_network\\_multilayer_perceptron.py\u001b[0m in \u001b[0;36m_fit_stochastic\u001b[1;34m(self, X, y, activations, deltas, coef_grads, intercept_grads, layer_units, incremental)\u001b[0m\n\u001b[0;32m    621\u001b[0m         \u001b[1;32mif\u001b[0m \u001b[0mearly_stopping\u001b[0m\u001b[1;33m:\u001b[0m\u001b[1;33m\u001b[0m\u001b[1;33m\u001b[0m\u001b[0m\n\u001b[0;32m    622\u001b[0m             \u001b[1;31m# restore best weights\u001b[0m\u001b[1;33m\u001b[0m\u001b[1;33m\u001b[0m\u001b[1;33m\u001b[0m\u001b[0m\n\u001b[1;32m--> 623\u001b[1;33m             \u001b[0mself\u001b[0m\u001b[1;33m.\u001b[0m\u001b[0mcoefs_\u001b[0m \u001b[1;33m=\u001b[0m \u001b[0mself\u001b[0m\u001b[1;33m.\u001b[0m\u001b[0m_best_coefs\u001b[0m\u001b[1;33m\u001b[0m\u001b[1;33m\u001b[0m\u001b[0m\n\u001b[0m\u001b[0;32m    624\u001b[0m             \u001b[0mself\u001b[0m\u001b[1;33m.\u001b[0m\u001b[0mintercepts_\u001b[0m \u001b[1;33m=\u001b[0m \u001b[0mself\u001b[0m\u001b[1;33m.\u001b[0m\u001b[0m_best_intercepts\u001b[0m\u001b[1;33m\u001b[0m\u001b[1;33m\u001b[0m\u001b[0m\n\u001b[0;32m    625\u001b[0m \u001b[1;33m\u001b[0m\u001b[0m\n",
      "\u001b[1;31mAttributeError\u001b[0m: 'MLPClassifier' object has no attribute '_best_coefs'"
     ]
    }
   ],
   "source": [
    "from sklearn.neural_network import MLPClassifier\n",
    "\n",
    "print('mlp + binary bow')\n",
    "hl,bs,al,lri = utils.random_search_mlp(X_train,y_train,n_iter=5)\n",
    "clf = utils.optimized_mlp(hl,bs,al,lri)\n",
    "clf.fit(X_train, y_train)\n",
    "\n",
    "y_prob = clf.predict_proba(X_test)[:,1]\n",
    "y_prob_train = clf.predict_proba(X_train)[:,1]\n",
    "# threshold moving\n",
    "\n",
    "thr = utils.optimal_threshold(y_prob_train, y_train)\n",
    "print(thr)\n",
    "y_pred = [1 if p >= thr else 0 for p in y_prob]\n",
    "utils.get_test_metrics(y_test, y_pred, y_prob, full_metrics = True)"
   ]
  },
  {
   "cell_type": "markdown",
   "metadata": {},
   "source": [
    "# TF-IDF"
   ]
  },
  {
   "cell_type": "code",
   "execution_count": 15,
   "metadata": {},
   "outputs": [],
   "source": [
    "from sklearn.feature_extraction.text import TfidfVectorizer\n",
    "tfidf = TfidfVectorizer(max_features = None, ngram_range = (1,2), #(1,3) \n",
    "                             lowercase = False, token_pattern = r'[^\\s]+',binary=True)\n",
    "\n",
    "tfidf.fit(df_train['preprocessed_text'])   \n",
    "X_train = tfidf.transform(df_train['preprocessed_text'])\n",
    "X_test = tfidf.transform(df_test['preprocessed_text'])"
   ]
  },
  {
   "cell_type": "code",
   "execution_count": 16,
   "metadata": {},
   "outputs": [
    {
     "name": "stdout",
     "output_type": "stream",
     "text": [
      "logistic regression + tf-idf\n",
      "0.48\n",
      "              precision    recall  f1-score   support\n",
      "\n",
      "           0       0.87      0.78      0.82       834\n",
      "           1       0.78      0.87      0.82       740\n",
      "\n",
      "    accuracy                           0.82      1574\n",
      "   macro avg       0.82      0.82      0.82      1574\n",
      "weighted avg       0.83      0.82      0.82      1574\n",
      "\n",
      "AUC:  0.902158273381295\n"
     ]
    },
    {
     "data": {
      "image/png": "[encoded data removed]",
      "text/plain": [
       "<Figure size 1080x360 with 3 Axes>"
      ]
     },
     "metadata": {
      "needs_background": "light"
     },
     "output_type": "display_data"
    },
    {
     "name": "stdout",
     "output_type": "stream",
     "text": [
      "0,822\n",
      "0,177\n",
      "0,777\n",
      "0,871\n",
      "0,821\n",
      "0,902\n"
     ]
    },
    {
     "data": {
      "text/plain": [
       "(0.8221092757306226,\n",
       " 0.17743979721166026,\n",
       " 0.7771084337349398,\n",
       " 0.8716216216216216,\n",
       " 0.821656050955414,\n",
       " 0.902158273381295)"
      ]
     },
     "execution_count": 16,
     "metadata": {},
     "output_type": "execute_result"
    }
   ],
   "source": [
    "print('logistic regression + tf-idf')\n",
    "lr = LogisticRegression()\n",
    "lr.fit(X_train, y_train)\n",
    "\n",
    "y_prob = lr.predict_proba(X_test)[:,1]\n",
    "y_prob_train = lr.predict_proba(X_train)[:,1]\n",
    "# threshold moving\n",
    "\n",
    "thr = utils.optimal_threshold(y_prob_train, y_train)\n",
    "print(thr)\n",
    "y_pred = [1 if p >= thr else 0 for p in y_prob]\n",
    "utils.get_test_metrics(y_test, y_pred, y_prob, full_metrics = True)"
   ]
  },
  {
   "cell_type": "code",
   "execution_count": 17,
   "metadata": {},
   "outputs": [
    {
     "data": {
      "text/plain": [
       "15405"
      ]
     },
     "execution_count": 17,
     "metadata": {},
     "output_type": "execute_result"
    }
   ],
   "source": [
    "np.argsort(np.max(lr.coef_, axis=0))[-2]"
   ]
  },
  {
   "cell_type": "code",
   "execution_count": 18,
   "metadata": {},
   "outputs": [
    {
     "data": {
      "text/plain": [
       "-2.1788219618146254"
      ]
     },
     "execution_count": 18,
     "metadata": {},
     "output_type": "execute_result"
    }
   ],
   "source": [
    "lr.coef_.min()"
   ]
  },
  {
   "cell_type": "code",
   "execution_count": 19,
   "metadata": {},
   "outputs": [
    {
     "data": {
      "text/plain": [
       "array([False, False, False, ..., False, False, False])"
      ]
     },
     "execution_count": 19,
     "metadata": {},
     "output_type": "execute_result"
    }
   ],
   "source": [
    "[lr.coef_==0][0][0]"
   ]
  },
  {
   "cell_type": "code",
   "execution_count": 21,
   "metadata": {},
   "outputs": [
    {
     "name": "stdout",
     "output_type": "stream",
     "text": [
      "words with highest positive value\n",
      "video\n",
      "audio\n",
      "pt\n",
      "compartilhar\n",
      "repassar\n",
      "tentar\n",
      "governar\n",
      "youtube\n",
      "rosto_furioso\n",
      "ver\n"
     ]
    }
   ],
   "source": [
    "print('words with highest positive value')\n",
    "for n in range(10):\n",
    "    k = -n-1\n",
    "    print(tfidf.get_feature_names()[np.argsort(np.max(lr.coef_, axis=0))[k]])"
   ]
  },
  {
   "cell_type": "code",
   "execution_count": 22,
   "metadata": {},
   "outputs": [
    {
     "name": "stdout",
     "output_type": "stream",
     "text": [
      "words with lowest negative value\n",
      "\\item bolsonaro\n",
      "\\item chat whatsapp\n",
      "\\item chat\n",
      "\\item dia\n",
      "\\item rolando_no\n",
      "\\item rosto_sorridente\n",
      "\\item postar\n",
      "\\item feirar\n",
      "\\item whatsapp\n",
      "\\item bandeira_brasil\n"
     ]
    }
   ],
   "source": [
    "print('words with lowest negative value')\n",
    "for n in range(10):\n",
    "    k = n\n",
    "    print('\\item ' + tfidf.get_feature_names()[np.argsort(np.max(lr.coef_, axis=0))[k]])"
   ]
  },
  {
   "cell_type": "code",
   "execution_count": null,
   "metadata": {},
   "outputs": [],
   "source": []
  },
  {
   "cell_type": "code",
   "execution_count": 12,
   "metadata": {},
   "outputs": [
    {
     "name": "stdout",
     "output_type": "stream",
     "text": [
      "mlp + tf-idf\n",
      "0 \n",
      "hidden layers: (150,); alpha: 0.00238; learning rate: 0.03748; batch: 100\n",
      "ACC: 0.896\n",
      "1 \n",
      "hidden layers: (75, 125); alpha: 0.00002; learning rate: 0.00015; batch: 250\n",
      "ACC: 0.885\n",
      "2 \n",
      "hidden layers: (50, 175, 200); alpha: 0.00013; learning rate: 0.00506; batch: 300\n",
      "ACC: 0.873\n",
      "3 \n",
      "hidden layers: (350, 225); alpha: 0.00000; learning rate: 0.00011; batch: 200\n",
      "ACC: 0.878\n",
      "4 \n",
      "hidden layers: (25, 75); alpha: 0.00008; learning rate: 0.02528; batch: 300\n",
      "ACC: 0.878\n",
      "\n",
      "--------------------\n",
      "BEST PARAMETERS (validation AUC = 0.896)\n",
      "hidden layers: (150,); alpha: 0.00238; learning rate: 0.03748; batch: 100\n",
      "--------------------\n",
      "0.46\n",
      "              precision    recall  f1-score   support\n",
      "\n",
      "           0       0.86      0.75      0.80       834\n",
      "           1       0.76      0.86      0.81       740\n",
      "\n",
      "    accuracy                           0.81      1574\n",
      "   macro avg       0.81      0.81      0.81      1574\n",
      "weighted avg       0.81      0.81      0.81      1574\n",
      "\n",
      "AUC:  0.9024645148745869\n"
     ]
    },
    {
     "data": {
      "image/png": "[encoded data removed]",
      "text/plain": [
       "<Figure size 1080x360 with 3 Axes>"
      ]
     },
     "metadata": {
      "needs_background": "light"
     },
     "output_type": "display_data"
    },
    {
     "name": "stdout",
     "output_type": "stream",
     "text": [
      "0,805\n",
      "0,195\n",
      "0,756\n",
      "0,864\n",
      "0,807\n",
      "0,902\n"
     ]
    },
    {
     "data": {
      "text/plain": [
       "(0.8055908513341804,\n",
       " 0.19590268886043527,\n",
       " 0.7565011820330969,\n",
       " 0.8648648648648649,\n",
       " 0.807061790668348,\n",
       " 0.9024645148745869)"
      ]
     },
     "execution_count": 12,
     "metadata": {},
     "output_type": "execute_result"
    }
   ],
   "source": [
    "print('mlp + tf-idf')\n",
    "hl,bs,al,lri = utils.random_search_mlp(X_train,y_train,n_iter=5)\n",
    "clf = utils.optimized_mlp(hl,bs,al,lri)\n",
    "clf.fit(X_train, y_train)\n",
    "\n",
    "y_prob = clf.predict_proba(X_test)[:,1]\n",
    "y_prob_train = clf.predict_proba(X_train)[:,1]\n",
    "# threshold moving\n",
    "\n",
    "thr = utils.optimal_threshold(y_prob_train, y_train)\n",
    "print(thr)\n",
    "y_pred = [1 if p >= thr else 0 for p in y_prob]\n",
    "utils.get_test_metrics(y_test, y_pred, y_prob, full_metrics = True)"
   ]
  },
  {
   "cell_type": "markdown",
   "metadata": {},
   "source": [
    "# Word embeddings - Word2Vec"
   ]
  },
  {
   "cell_type": "markdown",
   "metadata": {},
   "source": [
    "### Create corpus"
   ]
  },
  {
   "cell_type": "code",
   "execution_count": 13,
   "metadata": {},
   "outputs": [],
   "source": [
    "# df = pd.read_csv('data/2018/fakeWhatsApp.BR_2018.csv')\n",
    "# corpus = list(df[df['midia']==0]['text'].unique())\n",
    "# total_iter = len(corpus)\n",
    "# divs = 10\n",
    "# step = int(total_iter/divs)\n",
    "\n",
    "# preprocessed_corpus = []\n",
    "\n",
    "# for i, t in enumerate(corpus):\n",
    "#     if i%step==0:\n",
    "#         print(str((i/step)*divs)+'%')        \n",
    "#     preprocessed_corpus.append(preprocess(t))      \n"
   ]
  },
  {
   "cell_type": "code",
   "execution_count": 4,
   "metadata": {},
   "outputs": [],
   "source": [
    "import pickle\n",
    "\n",
    "# with open('data/2018/preprocessed_corpus.p.pickle', 'wb') as handle:\n",
    "#     pickle.dump(preprocessed_corpus, handle)\n",
    "\n",
    "preprocessed_corpus = pickle.load( open( \"data/2018/preprocessed_corpus.p.pickle\", \"rb\" ) )"
   ]
  },
  {
   "cell_type": "code",
   "execution_count": 5,
   "metadata": {},
   "outputs": [
    {
     "data": {
      "text/plain": [
       "114444"
      ]
     },
     "execution_count": 5,
     "metadata": {},
     "output_type": "execute_result"
    }
   ],
   "source": [
    "len(preprocessed_corpus)"
   ]
  },
  {
   "cell_type": "code",
   "execution_count": 15,
   "metadata": {},
   "outputs": [],
   "source": [
    "tokens_documents = [p.split() for p in preprocessed_corpus]"
   ]
  },
  {
   "cell_type": "markdown",
   "metadata": {},
   "source": [
    "### Train word2vec"
   ]
  },
  {
   "cell_type": "code",
   "execution_count": 16,
   "metadata": {},
   "outputs": [
    {
     "name": "stdout",
     "output_type": "stream",
     "text": [
      "W2V: Epoch #1\n",
      "W2V: Epoch #2\n",
      "W2V: Epoch #3\n",
      "W2V: Epoch #4\n",
      "W2V: Epoch #5\n",
      "W2V: Epoch #6\n",
      "W2V: Epoch #7\n",
      "W2V: Epoch #8\n",
      "W2V: Epoch #9\n",
      "W2V: Epoch #10\n",
      "W2V: Epoch #11\n",
      "W2V: Epoch #12\n",
      "W2V: Epoch #13\n",
      "W2V: Epoch #14\n",
      "W2V: Epoch #15\n"
     ]
    }
   ],
   "source": [
    "from gensim.models import Word2Vec\n",
    "from gensim.models.callbacks import CallbackAny2Vec\n",
    "\n",
    "class EpochLogger(CallbackAny2Vec):\n",
    "    \"\"\"Callback to log information about training\"\"\"\n",
    "\n",
    "    def __init__(self):\n",
    "        self.epoch = 0\n",
    "\n",
    "    def on_epoch_begin(self, model):\n",
    "        self.epoch += 1\n",
    "        print(\"W2V: Epoch #{}\".format(self.epoch))\n",
    "        \n",
    "epoch_logger = EpochLogger()\n",
    "\n",
    "w2v = Word2Vec(sentences=tokens_documents, vector_size=100, epochs=15, window=5, min_count=1, workers=4, \n",
    "                 compute_loss=True, callbacks=[epoch_logger])\n",
    "w2v.save(\"data/2018/word2vec.model\")"
   ]
  },
  {
   "cell_type": "markdown",
   "metadata": {},
   "source": [
    "### Load and test"
   ]
  },
  {
   "cell_type": "code",
   "execution_count": 17,
   "metadata": {},
   "outputs": [],
   "source": [
    "w2v = Word2Vec.load(\"data/2018/word2vec.model\")"
   ]
  },
  {
   "cell_type": "code",
   "execution_count": 18,
   "metadata": {},
   "outputs": [
    {
     "data": {
      "text/plain": [
       "[('esfaquear', 0.6313445568084717),\n",
       " ('barriga', 0.581384539604187),\n",
       " ('faca', 0.5806493759155273),\n",
       " ('purpurino', 0.5454385280609131),\n",
       " ('agressor', 0.5434315800666809),\n",
       " ('ferimento', 0.5381067991256714),\n",
       " ('abdomen', 0.5290761590003967),\n",
       " ('violentar', 0.5071153044700623),\n",
       " ('cuspe', 0.5049540400505066),\n",
       " ('suspeitar', 0.4996298551559448)]"
      ]
     },
     "execution_count": 18,
     "metadata": {},
     "output_type": "execute_result"
    }
   ],
   "source": [
    "w2v.wv.most_similar(positive=['facada'])"
   ]
  },
  {
   "cell_type": "code",
   "execution_count": 19,
   "metadata": {},
   "outputs": [
    {
     "data": {
      "text/plain": [
       "array([-0.8228198 ,  1.2679476 ,  0.7438907 , -2.5204349 , -3.0583067 ,\n",
       "        1.3230653 ,  1.7405411 ,  4.1464157 ,  1.4382031 ,  1.3566648 ,\n",
       "        0.21579187, -1.7289222 , -3.4862645 ,  2.340453  ,  0.63076985,\n",
       "        0.3545946 , -2.5238612 , -1.8874902 , -2.0189822 , -0.4652913 ,\n",
       "       -1.2481508 , -2.1825945 , -1.6205806 , -0.13788366, -1.6683303 ,\n",
       "        0.9676989 , -0.22103001, -1.4354798 , -1.927543  ,  1.1750124 ,\n",
       "       -2.4214036 ,  1.40951   ,  0.71851456, -6.2841096 , -2.062358  ,\n",
       "       -1.0938251 ,  1.5386039 ,  0.77918357, -5.353897  ,  1.0168374 ,\n",
       "       -4.7872744 ,  2.8588011 , -0.434115  , -0.27130654,  2.2097251 ,\n",
       "       -2.5477283 ,  1.175641  ,  1.0129026 ,  2.3452468 ,  3.8153718 ,\n",
       "       -0.9506817 , -2.585594  , -1.0526263 , -0.16101697, -0.48423928,\n",
       "       -2.89379   ,  2.9248953 , -0.10294447,  3.2483141 ,  2.3179731 ,\n",
       "       -0.8723261 ,  2.2416344 , -1.0821999 , -1.3159556 ,  2.7491908 ,\n",
       "        0.36830887,  3.219854  ,  4.0491214 , -0.35027623,  0.19975068,\n",
       "        2.4471881 ,  0.4744335 , -1.00445   , -1.3265387 ,  0.39137405,\n",
       "        2.64093   ,  0.34342632, -3.1763475 ,  2.634999  , -0.67613274,\n",
       "        0.8106159 ,  0.7872636 , -0.0860021 , -2.0183694 ,  2.3271897 ,\n",
       "       -2.7882967 , -0.18589602,  2.9255276 ,  0.5428802 ,  2.7832973 ,\n",
       "        2.2747169 ,  1.2022766 , -0.36450577, -1.1680715 ,  2.6300185 ,\n",
       "        1.7379616 , -0.5993458 ,  2.141328  , -3.6332207 , -1.8266174 ],\n",
       "      dtype=float32)"
      ]
     },
     "execution_count": 19,
     "metadata": {},
     "output_type": "execute_result"
    }
   ],
   "source": [
    "w2v.wv['deus']"
   ]
  },
  {
   "cell_type": "markdown",
   "metadata": {},
   "source": [
    "### Vectorize"
   ]
  },
  {
   "cell_type": "code",
   "execution_count": 20,
   "metadata": {},
   "outputs": [
    {
     "data": {
      "text/plain": [
       "array([[-0.64791196,  0.22823209,  0.41009811, -0.88481265,  0.12849088,\n",
       "         0.45800216, -0.51237637,  0.59028507, -0.26614845, -0.38327896,\n",
       "        -0.33505128, -0.22730707, -0.260784  ,  0.35856693,  0.48157995,\n",
       "        -0.87243947, -0.1334899 , -0.20189519, -0.28752933,  0.14212631,\n",
       "        -1.06673587, -0.30539434, -0.7582044 , -0.37193028,  0.1786802 ,\n",
       "         0.25463497,  0.24086418,  0.54282723,  0.38463237,  0.61386656,\n",
       "         0.18799024, -0.4951926 , -0.75862749, -0.11404481,  0.67604236,\n",
       "         0.86758235,  0.19152372,  0.899569  ,  0.28395107,  0.53334206,\n",
       "        -0.51006625,  0.15025674, -0.64139142,  0.80005412, -0.34621411,\n",
       "        -0.13885238,  0.25679059,  0.59312302,  0.00133025,  0.26887474,\n",
       "         0.39564844,  0.25905916,  0.27102109,  0.03800169, -0.09668516,\n",
       "        -0.35954621, -0.04963822,  0.32595991,  0.38481562,  0.08540367,\n",
       "         0.05840938, -0.11231369,  0.61592212,  0.21264692,  0.27809913,\n",
       "         0.3535561 ,  1.18815327, -0.07904865,  0.24075773,  0.19960823,\n",
       "         0.47071257,  0.1315246 ,  0.39835618, -0.42345211, -0.38688311,\n",
       "         0.35358621, -0.08544144, -0.11311486, -0.2791601 , -0.19431312,\n",
       "         0.35523285, -0.75448811, -0.28166639, -0.31747347,  0.75791655,\n",
       "         0.31084437, -0.52914176,  0.08005708,  0.90907588,  0.02382077,\n",
       "         0.04691617,  0.1617835 ,  0.08002988, -0.01972047, -0.25543643,\n",
       "        -0.07523666,  0.07403454,  0.15290266,  0.69314857,  0.11111633]])"
      ]
     },
     "execution_count": 20,
     "metadata": {},
     "output_type": "execute_result"
    }
   ],
   "source": [
    "import numpy as np\n",
    "x = utils.vectorize_corpus(w2v, ['fora bolsonaro genocida'])\n",
    "x"
   ]
  },
  {
   "cell_type": "code",
   "execution_count": 21,
   "metadata": {},
   "outputs": [],
   "source": [
    "X_train = utils.vectorize_corpus(w2v, df_train['preprocessed_text'])\n",
    "X_test = utils.vectorize_corpus(w2v, df_test['preprocessed_text'])\n",
    "#X_train, X_test = utils.z_score(X_train, X_test)"
   ]
  },
  {
   "cell_type": "markdown",
   "metadata": {},
   "source": [
    "### Classification"
   ]
  },
  {
   "cell_type": "code",
   "execution_count": 22,
   "metadata": {},
   "outputs": [
    {
     "name": "stdout",
     "output_type": "stream",
     "text": [
      "logistic regression + w2v\n",
      "0.45\n",
      "              precision    recall  f1-score   support\n",
      "\n",
      "           0       0.78      0.70      0.74       834\n",
      "           1       0.70      0.78      0.74       740\n",
      "\n",
      "    accuracy                           0.74      1574\n",
      "   macro avg       0.74      0.74      0.74      1574\n",
      "weighted avg       0.74      0.74      0.74      1574\n",
      "\n",
      "AUC:  0.8041950223604899\n"
     ]
    },
    {
     "data": {
      "image/png": "[encoded data removed]",
      "text/plain": [
       "<Figure size 1080x360 with 3 Axes>"
      ]
     },
     "metadata": {
      "needs_background": "light"
     },
     "output_type": "display_data"
    },
    {
     "name": "stdout",
     "output_type": "stream",
     "text": [
      "0,736\n",
      "0,262\n",
      "0,696\n",
      "0,779\n",
      "0,735\n",
      "0,804\n"
     ]
    }
   ],
   "source": [
    "print('logistic regression + w2v')\n",
    "lrw2v = LogisticRegression()\n",
    "lrw2v.fit(X_train, y_train)\n",
    "y_prob = lrw2v.predict_proba(X_test)[:,1]\n",
    "y_prob_train = lrw2v.predict_proba(X_train)[:,1]\n",
    "thr = utils.optimal_threshold(y_prob_train,y_train)\n",
    "print(thr)\n",
    "y_pred = [1 if p >= thr else 0 for p in y_prob]\n",
    "test_metrics = utils.get_test_metrics(y_test, y_pred, y_prob, full_metrics = True)"
   ]
  },
  {
   "cell_type": "code",
   "execution_count": 23,
   "metadata": {},
   "outputs": [
    {
     "name": "stdout",
     "output_type": "stream",
     "text": [
      "mlp + w2v\n",
      "0 \n",
      "hidden layers: (150,); alpha: 0.00238; learning rate: 0.03748; batch: 100\n",
      "ACC: 0.787\n",
      "1 \n",
      "hidden layers: (75, 125); alpha: 0.00002; learning rate: 0.00015; batch: 250\n",
      "ACC: 0.742\n",
      "2 \n",
      "hidden layers: (50, 175, 200); alpha: 0.00013; learning rate: 0.00506; batch: 300\n",
      "ACC: 0.854\n",
      "3 \n",
      "hidden layers: (350, 225); alpha: 0.00000; learning rate: 0.00011; batch: 200\n",
      "ACC: 0.782\n",
      "4 \n",
      "hidden layers: (25, 75); alpha: 0.00008; learning rate: 0.02528; batch: 300\n",
      "ACC: 0.829\n",
      "5 \n",
      "hidden layers: (200, 25, 50); alpha: 0.00000; learning rate: 0.06823; batch: 150\n",
      "ACC: 0.785\n",
      "6 \n",
      "hidden layers: (200,); alpha: 0.00001; learning rate: 0.02102; batch: 250\n",
      "ACC: 0.819\n",
      "7 \n",
      "hidden layers: (25, 25, 125); alpha: 0.00030; learning rate: 0.00686; batch: 250\n",
      "ACC: 0.809\n",
      "8 \n",
      "hidden layers: (125, 250); alpha: 0.00006; learning rate: 0.00691; batch: 100\n",
      "ACC: 0.830\n",
      "9 \n",
      "hidden layers: (200, 250); alpha: 0.00757; learning rate: 0.00911; batch: 200\n",
      "ACC: 0.838\n",
      "\n",
      "--------------------\n",
      "BEST PARAMETERS (validation AUC = 0.854)\n",
      "hidden layers: (50, 175, 200); alpha: 0.00013; learning rate: 0.00506; batch: 300\n",
      "--------------------\n",
      "0.23\n",
      "              precision    recall  f1-score   support\n",
      "\n",
      "           0       0.80      0.81      0.81       834\n",
      "           1       0.79      0.77      0.78       740\n",
      "\n",
      "    accuracy                           0.79      1574\n",
      "   macro avg       0.79      0.79      0.79      1574\n",
      "weighted avg       0.79      0.79      0.79      1574\n",
      "\n",
      "AUC:  0.8724447469051786\n"
     ]
    },
    {
     "data": {
      "image/png": "[encoded data removed]",
      "text/plain": [
       "<Figure size 1080x360 with 3 Axes>"
      ]
     },
     "metadata": {
      "needs_background": "light"
     },
     "output_type": "display_data"
    },
    {
     "name": "stdout",
     "output_type": "stream",
     "text": [
      "0,792\n",
      "0,193\n",
      "0,785\n",
      "0,770\n",
      "0,777\n",
      "0,872\n"
     ]
    },
    {
     "data": {
      "text/plain": [
       "(0.7928843710292249,\n",
       " 0.19381688466111768,\n",
       " 0.7851239669421488,\n",
       " 0.7702702702702703,\n",
       " 0.7776261937244202,\n",
       " 0.8724447469051786)"
      ]
     },
     "execution_count": 23,
     "metadata": {},
     "output_type": "execute_result"
    }
   ],
   "source": [
    "print('mlp + w2v')\n",
    "hl,bs,al,lri = utils.random_search_mlp(X_train,y_train,n_iter=10)\n",
    "clf = utils.optimized_mlp(hl,bs,al,lri)\n",
    "clf.fit(X_train, y_train)\n",
    "\n",
    "y_prob = clf.predict_proba(X_test)[:,1]\n",
    "y_prob_train = clf.predict_proba(X_train)[:,1]\n",
    "# threshold moving\n",
    "\n",
    "thr = utils.optimal_threshold(y_prob_train, y_train)\n",
    "print(thr)\n",
    "y_pred = [1 if p >= thr else 0 for p in y_prob]\n",
    "utils.get_test_metrics(y_test, y_pred, y_prob, full_metrics = True)"
   ]
  },
  {
   "cell_type": "markdown",
   "metadata": {},
   "source": [
    "# Real frequency of test data"
   ]
  },
  {
   "cell_type": "code",
   "execution_count": 24,
   "metadata": {},
   "outputs": [
    {
     "name": "stderr",
     "output_type": "stream",
     "text": [
      "C:\\Users\\lucas.carneiro\\Anaconda3\\envs\\env\\lib\\site-packages\\IPython\\core\\interactiveshell.py:3146: DtypeWarning: Columns (3,6) have mixed types.Specify dtype option on import or set low_memory=False.\n",
      "  has_raised = await self.run_ast_nodes(code_ast.body, cell_name,\n"
     ]
    },
    {
     "data": {
      "text/html": [
       "<div>\n",
       "<style scoped>\n",
       "    .dataframe tbody tr th:only-of-type {\n",
       "        vertical-align: middle;\n",
       "    }\n",
       "\n",
       "    .dataframe tbody tr th {\n",
       "        vertical-align: top;\n",
       "    }\n",
       "\n",
       "    .dataframe thead th {\n",
       "        text-align: right;\n",
       "    }\n",
       "</style>\n",
       "<table border=\"1\" class=\"dataframe\">\n",
       "  <thead>\n",
       "    <tr style=\"text-align: right;\">\n",
       "      <th></th>\n",
       "      <th>text</th>\n",
       "      <th>misinformation</th>\n",
       "    </tr>\n",
       "  </thead>\n",
       "  <tbody>\n",
       "    <tr>\n",
       "      <th>1</th>\n",
       "      <td>O Bolsonaro tem que estar preparado pra respon...</td>\n",
       "      <td>0</td>\n",
       "    </tr>\n",
       "    <tr>\n",
       "      <th>15</th>\n",
       "      <td>No dia 07 de Outubro, quando for votar, não es...</td>\n",
       "      <td>1</td>\n",
       "    </tr>\n",
       "    <tr>\n",
       "      <th>26</th>\n",
       "      <td>Devido a aborrecimentos nas varias redes socia...</td>\n",
       "      <td>0</td>\n",
       "    </tr>\n",
       "    <tr>\n",
       "      <th>43</th>\n",
       "      <td>EU GOSTARIA DE PEDIR A TODOS DO GRUPOS ENTREM ...</td>\n",
       "      <td>0</td>\n",
       "    </tr>\n",
       "    <tr>\n",
       "      <th>103</th>\n",
       "      <td>Como são as coisas.\\nChefe do jacaré aparece n...</td>\n",
       "      <td>1</td>\n",
       "    </tr>\n",
       "    <tr>\n",
       "      <th>...</th>\n",
       "      <td>...</td>\n",
       "      <td>...</td>\n",
       "    </tr>\n",
       "    <tr>\n",
       "      <th>282555</th>\n",
       "      <td>👏👏👏👏 \\nTerminou a apuração dos votos no JAPÃO ...</td>\n",
       "      <td>0</td>\n",
       "    </tr>\n",
       "    <tr>\n",
       "      <th>282556</th>\n",
       "      <td>https://youtu.be/UwDXPrFkU7M\\n\\n😡Notícias URGE...</td>\n",
       "      <td>1</td>\n",
       "    </tr>\n",
       "    <tr>\n",
       "      <th>282558</th>\n",
       "      <td>https://m.facebook.com/story.php?story_fbid=19...</td>\n",
       "      <td>0</td>\n",
       "    </tr>\n",
       "    <tr>\n",
       "      <th>282564</th>\n",
       "      <td>#B17\\n#B17\\n#B17\\n#B17\\n#B17\\n#B17\\n#B17\\n#B17...</td>\n",
       "      <td>1</td>\n",
       "    </tr>\n",
       "    <tr>\n",
       "      <th>282565</th>\n",
       "      <td>#B17\\n#B17\\n#B17\\n#B17\\n#B17\\n#B17\\n#B17\\n#B17...</td>\n",
       "      <td>1</td>\n",
       "    </tr>\n",
       "  </tbody>\n",
       "</table>\n",
       "<p>20872 rows × 2 columns</p>\n",
       "</div>"
      ],
      "text/plain": [
       "                                                     text  misinformation\n",
       "1       O Bolsonaro tem que estar preparado pra respon...               0\n",
       "15      No dia 07 de Outubro, quando for votar, não es...               1\n",
       "26      Devido a aborrecimentos nas varias redes socia...               0\n",
       "43      EU GOSTARIA DE PEDIR A TODOS DO GRUPOS ENTREM ...               0\n",
       "103     Como são as coisas.\\nChefe do jacaré aparece n...               1\n",
       "...                                                   ...             ...\n",
       "282555  👏👏👏👏 \\nTerminou a apuração dos votos no JAPÃO ...               0\n",
       "282556  https://youtu.be/UwDXPrFkU7M\\n\\n😡Notícias URGE...               1\n",
       "282558  https://m.facebook.com/story.php?story_fbid=19...               0\n",
       "282564  #B17\\n#B17\\n#B17\\n#B17\\n#B17\\n#B17\\n#B17\\n#B17...               1\n",
       "282565  #B17\\n#B17\\n#B17\\n#B17\\n#B17\\n#B17\\n#B17\\n#B17...               1\n",
       "\n",
       "[20872 rows x 2 columns]"
      ]
     },
     "execution_count": 24,
     "metadata": {},
     "output_type": "execute_result"
    }
   ],
   "source": [
    "df = pd.read_csv('data/2018/fakeWhatsApp.BR_2018.csv')\n",
    "df = df[df['misinformation']!=-1][['text','misinformation']]\n",
    "df"
   ]
  },
  {
   "cell_type": "code",
   "execution_count": 25,
   "metadata": {},
   "outputs": [],
   "source": [
    "total_texts = []\n",
    "total_mis = []\n",
    "\n",
    "for t in df_test['text']:\n",
    "    q = df[df['text']==t]\n",
    "    duplicates = len(q)\n",
    "    if duplicates == 0:\n",
    "        continue\n",
    "    \n",
    "    total_texts += [t]*duplicates\n",
    "    total_mis += list(q['misinformation'])\n",
    "    "
   ]
  },
  {
   "cell_type": "code",
   "execution_count": 26,
   "metadata": {},
   "outputs": [
    {
     "name": "stdout",
     "output_type": "stream",
     "text": [
      "real world size of test data: 4346\n"
     ]
    }
   ],
   "source": [
    "df_test_real = pd.DataFrame({'text':total_texts, 'misinformation':total_mis})\n",
    "print('real world size of test data:',len(df_test_real))"
   ]
  },
  {
   "cell_type": "code",
   "execution_count": 27,
   "metadata": {},
   "outputs": [
    {
     "data": {
      "image/png": "[encoded data removed]",
      "text/plain": [
       "<Figure size 432x288 with 1 Axes>"
      ]
     },
     "metadata": {},
     "output_type": "display_data"
    }
   ],
   "source": [
    "import matplotlib.pyplot as plt\n",
    "import seaborn as sns\n",
    "%matplotlib inline\n",
    "sns.set(style=\"darkgrid\")\n",
    "\n",
    "def print_class_balance(y):\n",
    "    pos_mask = y == 1 \n",
    "    pos = y[pos_mask]\n",
    "    neg_mask = y == 0 \n",
    "    neg = y[neg_mask]\n",
    "    values = [pos.shape[0],neg.shape[0]]\n",
    "    keys = ['misinformation', 'non-misinformation']\n",
    "    g = sns.barplot(x = keys, y = values)\n",
    "    for p in g.patches:\n",
    "        g.annotate(format(p.get_height(), '.0f'), (p.get_x() + p.get_width() / 2., \n",
    "                                                   p.get_height()), ha = 'center', \n",
    "                   va = 'center', xytext = (0, 5), textcoords = 'offset points')\n",
    "        \n",
    "print_class_balance(df_test_real['misinformation'])"
   ]
  },
  {
   "cell_type": "code",
   "execution_count": 28,
   "metadata": {},
   "outputs": [],
   "source": [
    "df_test_real['preprocessed_text'] = [preprocess(t) for t in df_test_real['text']]"
   ]
  },
  {
   "cell_type": "code",
   "execution_count": 29,
   "metadata": {},
   "outputs": [
    {
     "name": "stdout",
     "output_type": "stream",
     "text": [
      "logistic regression + tf-idf\n",
      "0.48\n",
      "              precision    recall  f1-score   support\n",
      "\n",
      "           0       0.81      0.78      0.79      2065\n",
      "           1       0.80      0.84      0.82      2281\n",
      "\n",
      "    accuracy                           0.81      4346\n",
      "   macro avg       0.81      0.81      0.81      4346\n",
      "weighted avg       0.81      0.81      0.81      4346\n",
      "\n",
      "AUC:  0.8913933717105089\n"
     ]
    },
    {
     "data": {
      "image/png": "[encoded data removed]",
      "text/plain": [
       "<Figure size 1080x360 with 3 Axes>"
      ]
     },
     "metadata": {},
     "output_type": "display_data"
    },
    {
     "name": "stdout",
     "output_type": "stream",
     "text": [
      "0,807\n",
      "0,206\n",
      "0,804\n",
      "0,836\n",
      "0,820\n",
      "0,891\n"
     ]
    },
    {
     "data": {
      "text/plain": [
       "(0.8076392084675563,\n",
       " 0.2068283028203859,\n",
       " 0.8049810046433095,\n",
       " 0.8360368259535291,\n",
       " 0.8202150537634408,\n",
       " 0.8913933717105089)"
      ]
     },
     "execution_count": 29,
     "metadata": {},
     "output_type": "execute_result"
    }
   ],
   "source": [
    "tfidf = TfidfVectorizer(max_features = None, ngram_range = (1,2), #(1,3) \n",
    "                             lowercase = False, token_pattern = r'[^\\s]+',binary=True)\n",
    "\n",
    "tfidf.fit(df_train['preprocessed_text'])   \n",
    "X_train = tfidf.transform(df_train['preprocessed_text'])\n",
    "X_test = tfidf.transform(df_test_real['preprocessed_text'])\n",
    "y_train = df_train['misinformation']\n",
    "y_test = df_test_real['misinformation']\n",
    "\n",
    "print('logistic regression + tf-idf')\n",
    "lr = LogisticRegression()\n",
    "lr.fit(X_train, y_train)\n",
    "\n",
    "y_prob = lr.predict_proba(X_test)[:,1]\n",
    "y_prob_train = lr.predict_proba(X_train)[:,1]\n",
    "# threshold moving\n",
    "\n",
    "thr = utils.optimal_threshold(y_prob_train, y_train)\n",
    "print(thr)\n",
    "y_pred = [1 if p >= thr else 0 for p in y_prob]\n",
    "utils.get_test_metrics(y_test, y_pred, y_prob, full_metrics = True)"
   ]
  },
  {
   "cell_type": "code",
   "execution_count": null,
   "metadata": {},
   "outputs": [],
   "source": []
  }
 ],
 "metadata": {
  "kernelspec": {
   "display_name": "env",
   "language": "python",
   "name": "env"
  },
  "language_info": {
   "codemirror_mode": {
    "name": "ipython",
    "version": 3
   },
   "file_extension": ".py",
   "mimetype": "text/x-python",
   "name": "python",
   "nbconvert_exporter": "python",
   "pygments_lexer": "ipython3",
   "version": "3.8.5"
  }
 },
 "nbformat": 4,
 "nbformat_minor": 4
}
