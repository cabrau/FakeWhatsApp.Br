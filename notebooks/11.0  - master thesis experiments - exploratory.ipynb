{
 "cells": [
  {
   "cell_type": "code",
   "execution_count": 1,
   "metadata": {},
   "outputs": [],
   "source": [
    "import pandas as pd\n",
    "import numpy as np\n",
    "import matplotlib.pyplot as plt\n",
    "import seaborn as sns\n",
    "%matplotlib inline\n",
    "sns.set(style=\"darkgrid\")"
   ]
  },
  {
   "cell_type": "code",
   "execution_count": 2,
   "metadata": {},
   "outputs": [
    {
     "name": "stderr",
     "output_type": "stream",
     "text": [
      "C:\\Users\\lucas.carneiro\\Anaconda3\\envs\\env\\lib\\site-packages\\IPython\\core\\interactiveshell.py:3146: DtypeWarning: Columns (4,7) have mixed types.Specify dtype option on import or set low_memory=False.\n",
      "  has_raised = await self.run_ast_nodes(code_ast.body, cell_name,\n"
     ]
    },
    {
     "data": {
      "text/plain": [
       "Index(['id', 'date', 'hour', 'timestamp', 'ddi', 'country', 'country_iso3',\n",
       "       'ddd', 'state', 'group', 'midia', 'url', 'characters', 'words', 'types',\n",
       "       'viral', 'shares', 'text', 'misinformation'],\n",
       "      dtype='object')"
      ]
     },
     "execution_count": 2,
     "metadata": {},
     "output_type": "execute_result"
    }
   ],
   "source": [
    "df = pd.read_csv('data/2018/fakeWhatsApp.BR_2018.csv')\n",
    "df.columns"
   ]
  },
  {
   "cell_type": "code",
   "execution_count": 3,
   "metadata": {},
   "outputs": [],
   "source": [
    "def custom_time(data,hora):\n",
    "    string = data + \" \" + hora\n",
    "    return string\n",
    "df['timestamp'] = df.apply(lambda x: custom_time(x['date'],x['hour']),axis=1)"
   ]
  },
  {
   "cell_type": "code",
   "execution_count": 4,
   "metadata": {},
   "outputs": [
    {
     "data": {
      "text/html": [
       "<div>\n",
       "<style scoped>\n",
       "    .dataframe tbody tr th:only-of-type {\n",
       "        vertical-align: middle;\n",
       "    }\n",
       "\n",
       "    .dataframe tbody tr th {\n",
       "        vertical-align: top;\n",
       "    }\n",
       "\n",
       "    .dataframe thead th {\n",
       "        text-align: right;\n",
       "    }\n",
       "</style>\n",
       "<table border=\"1\" class=\"dataframe\">\n",
       "  <thead>\n",
       "    <tr style=\"text-align: right;\">\n",
       "      <th></th>\n",
       "      <th>id</th>\n",
       "      <th>timestamp</th>\n",
       "      <th>ddi</th>\n",
       "      <th>ddd</th>\n",
       "      <th>country</th>\n",
       "      <th>state</th>\n",
       "      <th>group</th>\n",
       "      <th>midia</th>\n",
       "      <th>shares</th>\n",
       "      <th>viral</th>\n",
       "      <th>text</th>\n",
       "    </tr>\n",
       "  </thead>\n",
       "  <tbody>\n",
       "    <tr>\n",
       "      <th>207792</th>\n",
       "      <td>-948137768871056857</td>\n",
       "      <td>22/08/18 11:57</td>\n",
       "      <td>55</td>\n",
       "      <td>61</td>\n",
       "      <td>BRASIL</td>\n",
       "      <td>Distrito Federal</td>\n",
       "      <td>2018_54</td>\n",
       "      <td>1</td>\n",
       "      <td>1</td>\n",
       "      <td>0</td>\n",
       "      <td>&lt;Arquivo de mídia oculto&gt;</td>\n",
       "    </tr>\n",
       "    <tr>\n",
       "      <th>40130</th>\n",
       "      <td>7969509117884777276</td>\n",
       "      <td>08/09/18 20:14</td>\n",
       "      <td>1</td>\n",
       "      <td>(941)</td>\n",
       "      <td>ESTADOS UNIDOS</td>\n",
       "      <td>Estrangeiro</td>\n",
       "      <td>2018_9</td>\n",
       "      <td>0</td>\n",
       "      <td>1</td>\n",
       "      <td>0</td>\n",
       "      <td>https://www.facebook.com/elcimarm?__xts__%5B0%...</td>\n",
       "    </tr>\n",
       "    <tr>\n",
       "      <th>206231</th>\n",
       "      <td>7877967108007041358</td>\n",
       "      <td>10/08/18 05:45</td>\n",
       "      <td>55</td>\n",
       "      <td>98</td>\n",
       "      <td>BRASIL</td>\n",
       "      <td>Maranhão</td>\n",
       "      <td>2018_54</td>\n",
       "      <td>0</td>\n",
       "      <td>4</td>\n",
       "      <td>1</td>\n",
       "      <td>*—ACDP/CURSOS—*\\n\\n_*Seja um(a) Detetive Profi...</td>\n",
       "    </tr>\n",
       "    <tr>\n",
       "      <th>208921</th>\n",
       "      <td>-948137768871056857</td>\n",
       "      <td>25/08/18 21:01</td>\n",
       "      <td>55</td>\n",
       "      <td>61</td>\n",
       "      <td>BRASIL</td>\n",
       "      <td>Distrito Federal</td>\n",
       "      <td>2018_54</td>\n",
       "      <td>1</td>\n",
       "      <td>1</td>\n",
       "      <td>0</td>\n",
       "      <td>&lt;Arquivo de mídia oculto&gt;</td>\n",
       "    </tr>\n",
       "    <tr>\n",
       "      <th>233820</th>\n",
       "      <td>5428835759879898822</td>\n",
       "      <td>02/09/18 12:13</td>\n",
       "      <td>55</td>\n",
       "      <td>63</td>\n",
       "      <td>BRASIL</td>\n",
       "      <td>Tocantins</td>\n",
       "      <td>2018_56</td>\n",
       "      <td>0</td>\n",
       "      <td>7</td>\n",
       "      <td>1</td>\n",
       "      <td>*Lista do Facebook*\\n\\nTenho página pessoal no...</td>\n",
       "    </tr>\n",
       "    <tr>\n",
       "      <th>20937</th>\n",
       "      <td>1808263345512202329</td>\n",
       "      <td>03/09/18 19:29</td>\n",
       "      <td>55</td>\n",
       "      <td>48</td>\n",
       "      <td>BRASIL</td>\n",
       "      <td>Santa Catarina</td>\n",
       "      <td>2018_6</td>\n",
       "      <td>1</td>\n",
       "      <td>1</td>\n",
       "      <td>0</td>\n",
       "      <td>&lt;Arquivo de mídia oculto&gt;</td>\n",
       "    </tr>\n",
       "    <tr>\n",
       "      <th>243545</th>\n",
       "      <td>7845558121315375118</td>\n",
       "      <td>12/09/18 20:22</td>\n",
       "      <td>55</td>\n",
       "      <td>92</td>\n",
       "      <td>BRASIL</td>\n",
       "      <td>Amazonas</td>\n",
       "      <td>2018_57</td>\n",
       "      <td>1</td>\n",
       "      <td>1</td>\n",
       "      <td>0</td>\n",
       "      <td>&lt;Arquivo de mídia oculto&gt;</td>\n",
       "    </tr>\n",
       "    <tr>\n",
       "      <th>250078</th>\n",
       "      <td>-5305041620534610853</td>\n",
       "      <td>07/10/18 11:30</td>\n",
       "      <td>55</td>\n",
       "      <td>92</td>\n",
       "      <td>BRASIL</td>\n",
       "      <td>Amazonas</td>\n",
       "      <td>2018_57</td>\n",
       "      <td>0</td>\n",
       "      <td>1</td>\n",
       "      <td>0</td>\n",
       "      <td>Pode sim amigo!</td>\n",
       "    </tr>\n",
       "    <tr>\n",
       "      <th>18463</th>\n",
       "      <td>8645106566420467123</td>\n",
       "      <td>10/08/18 10:27</td>\n",
       "      <td>55</td>\n",
       "      <td>93</td>\n",
       "      <td>BRASIL</td>\n",
       "      <td>Pará</td>\n",
       "      <td>2018_6</td>\n",
       "      <td>0</td>\n",
       "      <td>1</td>\n",
       "      <td>0</td>\n",
       "      <td>Olha a situação da Venezuela, provavelmente o ...</td>\n",
       "    </tr>\n",
       "    <tr>\n",
       "      <th>142662</th>\n",
       "      <td>-5946910997972065942</td>\n",
       "      <td>07/10/18 17:50</td>\n",
       "      <td>55</td>\n",
       "      <td>73</td>\n",
       "      <td>BRASIL</td>\n",
       "      <td>Bahia</td>\n",
       "      <td>2018_39</td>\n",
       "      <td>0</td>\n",
       "      <td>1</td>\n",
       "      <td>0</td>\n",
       "      <td>O vei</td>\n",
       "    </tr>\n",
       "  </tbody>\n",
       "</table>\n",
       "</div>"
      ],
      "text/plain": [
       "                         id       timestamp ddi    ddd         country  \\\n",
       "207792  -948137768871056857  22/08/18 11:57  55     61          BRASIL   \n",
       "40130   7969509117884777276  08/09/18 20:14   1  (941)  ESTADOS UNIDOS   \n",
       "206231  7877967108007041358  10/08/18 05:45  55     98          BRASIL   \n",
       "208921  -948137768871056857  25/08/18 21:01  55     61          BRASIL   \n",
       "233820  5428835759879898822  02/09/18 12:13  55     63          BRASIL   \n",
       "20937   1808263345512202329  03/09/18 19:29  55     48          BRASIL   \n",
       "243545  7845558121315375118  12/09/18 20:22  55     92          BRASIL   \n",
       "250078 -5305041620534610853  07/10/18 11:30  55     92          BRASIL   \n",
       "18463   8645106566420467123  10/08/18 10:27  55     93          BRASIL   \n",
       "142662 -5946910997972065942  07/10/18 17:50  55     73          BRASIL   \n",
       "\n",
       "                   state    group  midia  shares  viral  \\\n",
       "207792  Distrito Federal  2018_54      1       1      0   \n",
       "40130        Estrangeiro   2018_9      0       1      0   \n",
       "206231          Maranhão  2018_54      0       4      1   \n",
       "208921  Distrito Federal  2018_54      1       1      0   \n",
       "233820         Tocantins  2018_56      0       7      1   \n",
       "20937     Santa Catarina   2018_6      1       1      0   \n",
       "243545          Amazonas  2018_57      1       1      0   \n",
       "250078          Amazonas  2018_57      0       1      0   \n",
       "18463               Pará   2018_6      0       1      0   \n",
       "142662             Bahia  2018_39      0       1      0   \n",
       "\n",
       "                                                     text  \n",
       "207792                          <Arquivo de mídia oculto>  \n",
       "40130   https://www.facebook.com/elcimarm?__xts__%5B0%...  \n",
       "206231  *—ACDP/CURSOS—*\\n\\n_*Seja um(a) Detetive Profi...  \n",
       "208921                          <Arquivo de mídia oculto>  \n",
       "233820  *Lista do Facebook*\\n\\nTenho página pessoal no...  \n",
       "20937                           <Arquivo de mídia oculto>  \n",
       "243545                          <Arquivo de mídia oculto>  \n",
       "250078                                    Pode sim amigo!  \n",
       "18463   Olha a situação da Venezuela, provavelmente o ...  \n",
       "142662                                              O vei  "
      ]
     },
     "execution_count": 4,
     "metadata": {},
     "output_type": "execute_result"
    }
   ],
   "source": [
    "df[['id','timestamp','ddi','ddd', 'country','state','group','midia','shares','viral','text']].sample(10)"
   ]
  },
  {
   "cell_type": "code",
   "execution_count": 5,
   "metadata": {},
   "outputs": [
    {
     "data": {
      "text/plain": [
       "5284"
      ]
     },
     "execution_count": 5,
     "metadata": {},
     "output_type": "execute_result"
    }
   ],
   "source": [
    "len(df[df['viral']==1]['text'].unique())"
   ]
  },
  {
   "cell_type": "code",
   "execution_count": 6,
   "metadata": {},
   "outputs": [
    {
     "name": "stdout",
     "output_type": "stream",
     "text": [
      "Amoedo - Itaú - Metacapitalistas (George Soros)\n",
      "\n",
      "No governo Sarney, após o governo militar, inicia-se o plano de privatizaçao das empresas estatais brasileiras, sob o comando de Fernao Bracher, diretor do Banco Central(BC) à época.18 grandes estatais foram privatizadas. Bracher após sair do governo dá inicio a formaçao de seu próprio banco (BBA), tendo Joao Amoedo na equipe (q anos depois se tornou diretor presidente da instituiçao). \n",
      "Em 1990, no governo Collor, é criada a lei que institui oficialmente o Programa Nacional de Desestatizaçoes. Em 1991, Armínio Fraga assume a Diretoria de Operaçoes Internacionais do BC (onde fica até ser contratado em 1993 para a direçao do Fundo de Investimento de George Soros nos EUA). \n",
      "No ano de 1991 somente o BBA foi autorizado pelo BC a abrir uma filial nas Bahamas para coordenar a formaçao de um Consórcio de bancos e investidores nacionais e internacionais que iriam investir na compra das estatais brasileiras. Em 1992 o processo é atrasado pois se desenrola o impeachment de Collor. \n",
      "Em 1993 o presidente Itamar Franco nomeia Fernando Henrique Cardoso como ministro da Fazenda que por sua vez nomeou Gustavo Franco como secretário da política economica e posteriormente presidente do BC com FHC assumindo a presidencia da republica em seguida. \n",
      "Dava se início à privatizaçao em massa das grandes estatais brasileiras, projeto coordenado pelo PSDB, dirigido por Pedro Malan (ministro da Fazenda); Gustavo Franco, Gustavo Loyola e Arminio Fraga(os 3 alternando a presidencia do BC) e por fim operacionalizado pelo BBA(sob gestao de Joao Amoedo e Fernao Bracher). \n",
      "Dos bancos de investimento nacionais, o banco Itaú fez o maior número de aquisiçoes, comprando os bancos publicos dos estados do Paraná (Banestado), do Rio de Janeiro (Banerj), de Minas (Bemg) e de Goias(BEG). Após o fim das negociaçoes a instituiçao organizadora do consórcio de investidores (BBA) também foi adquirida pelo Itaú. \n",
      "Fernao Bracher assume cadeira da vice presidencia do Conselho Diretor do Itaú e Amoedo a vice presidencia do Unibanco. Alguns anos depois o Unibanco tambem é comprado pelo Itaú. Amoedo entao assume a direçao do Conselho Diretor do Itaú em 2008 e Fernao Bracher a vice presidencia do banco. Atualmente, o Presidente do Banco Itaú é o filho de Bracher, Candido Bracher, nomeado em 2017. Amoedo deixa a administraçao do Itaú em 2015 para assumir a presidencia do Novo, partido político fundado com participaçao societária, segundo o TSE, de Amoedo, Fernao Bracher, Armínio Fraga, Jayme Garfinkel, Carlos Sicupira, Pedro Sales e Eduardo Mazzilli)- com exceçao de Fraga todos os nomes sao executivos da alta cúpula do Itaú. \n",
      "No 1o ano do segundo mandato de FHC veio à tona o escandalo do que ficou conhecido como a Privataria Tucana- anos depois retratada e explicada em livro investigativo do jornalista Amauri Ribeiro com o mesmo título. À época foi deflagrada a Operaçao Macuco pela Polícia Federal, paralelamente com a CPI do Banestado. \n",
      "Inicialmente em torno de 20 pessoas dentre políticos(majoritariamente do PSDB), banqueiros e doleiros foram indiciados pelo Ministério Público por acusaçao de lavagem de dinheiro, corrupcao passiva e ativa, evasao de divisas e subprecificaçao das estatais negociadas. Em seu livro Amauri \n",
      "O prejuizo estimado aos cofres públicos remontaria à ordem de trilhoes de reais nos dias de hoje. A série O Mecanismo, da Netflix tem nesse episódio seu ponto de partida. 14 acusados foram condenados pelo juiz Sergio Moro mas a investigaçao foi esvaziada pois os processos saíram da mao do juiz para o TRF e STJ e somente 2 acusados foram condenados. Tambem o MPF nao teve autorizaçao pelo STF de negociar as delaçoes, consideradas ilegais à época. Os 3 órgaos de investigação à época (PF, CPI e MP) acusaram Gustavo Franco como principal responsável pelo esquema. O banqueiro manteve se filiado ao PSDB até 2017 quando entao migrou para o partido Novo assumindo a presidencia da Fundaçao Novo e a responsabilidade pela elaboraçao do plano econômico de governo deste partido. Em 2018, Amoedo deixa a presidencia do Novo para candidatar se à presidente da Republica e em seu lugar, Moisés Jardim assume a presidencia do Novo. Moisés Jardim também é atual diretor executivo do Setor de Financiamentos e Hipotecas do Banco Itaú.\n",
      "\n",
      "*Estejam avisados, depois não reclamem que não sabiam que votaram em globalistas internacionais que venderão as estatais do país visando o lucro e a especulação de juros, enquanto o país continua mergulhado em insegurança e violência. \n",
      "\n",
      "#paz\n",
      "----------------------------------------\n",
      "*Você recebeu o Desafio da Verdade* - Pesquisa por estado e sem roubalheira. *Vote e Repasse AGORA* | Jair Bolsonaro 85% | Fernando Haddad 15% | 👇👇 https://desafiodaverdade.com\n",
      "----------------------------------------\n",
      "👆👆👆👆Olha o absurdo q aconteceu hj na igreja católica de Coronel Fabriciano/Minas Gerais\n",
      "----------------------------------------\n"
     ]
    }
   ],
   "source": [
    "a = df[df['misinformation']==1].sample(3)['text']\n",
    "for i in list(a):\n",
    "    print(i)\n",
    "    print('----------------------------------------')"
   ]
  },
  {
   "cell_type": "code",
   "execution_count": 7,
   "metadata": {},
   "outputs": [
    {
     "name": "stdout",
     "output_type": "stream",
     "text": [
      "<Arquivo de mídia oculto>\n",
      "----------------------------------------\n",
      "<Arquivo de mídia oculto>\n",
      "----------------------------------------\n",
      "<Arquivo de mídia oculto>\n",
      "----------------------------------------\n",
      "<Arquivo de mídia oculto>\n",
      "----------------------------------------\n",
      "<Arquivo de mídia oculto>\n",
      "----------------------------------------\n"
     ]
    }
   ],
   "source": [
    "a = df[df['misinformation']==-1].sample(5)['text']\n",
    "for i in list(a):\n",
    "    print(i)\n",
    "    print('----------------------------------------')"
   ]
  },
  {
   "cell_type": "code",
   "execution_count": 8,
   "metadata": {},
   "outputs": [
    {
     "name": "stdout",
     "output_type": "stream",
     "text": [
      "Logicamente eu tirei de imediato!\n",
      "----------------------------------------\n",
      "tá avisando q vai ter roubo, só Deus na causa\n",
      "----------------------------------------\n",
      "Nenhum candidato à presidência está tendo tanto apoio popular ... olha só hoje a tarde em Presidente Prudente... reduto do Alckmin\n",
      "----------------------------------------\n",
      "A VERDADE VAI VENCER A mentira.\n",
      "----------------------------------------\n",
      "Maranhão da pena de ver esse estado na situação q se encontra....mas se for olhar quem Sempre se elegeu por lá. Tenebroso\n",
      "----------------------------------------\n"
     ]
    }
   ],
   "source": [
    "a = df[(df['misinformation']==-1) & (df['midia']==0)].sample(5)['text']\n",
    "for i in list(a):\n",
    "    print(i)\n",
    "    print('----------------------------------------')"
   ]
  },
  {
   "cell_type": "code",
   "execution_count": 9,
   "metadata": {},
   "outputs": [],
   "source": [
    "def haveWord(word,text):\n",
    "    word = word.lower()\n",
    "    text = str(text).lower()\n",
    "    if word in text:\n",
    "        return True\n",
    "    else:\n",
    "        return False\n",
    "    \n",
    "df_query = df[df.apply(lambda x: haveWord('ptralha',x['text']),axis=1)]"
   ]
  },
  {
   "cell_type": "code",
   "execution_count": 10,
   "metadata": {},
   "outputs": [
    {
     "name": "stdout",
     "output_type": "stream",
     "text": [
      "Bolsonaro e Mourão  estão numa pizzaria jantando.\n",
      "Um cliente aproxima-se deles e pergunta:\n",
      "- Sobre o que estão conversando de forma tão animada?\n",
      "- Estamos fazendo planos para resolver o problema do Brasil de forma rápida e super discreta....responde Bolsonaro...\n",
      "- Uau!, exclama o cliente...\n",
      "E quais são esses planos?\n",
      "- No Brasil, vamos matar 14 milhões de petistas, um São Paulino e um vascaino, responde Mourão.\n",
      "O convidado parece confuso e pergunta:\n",
      "- Um... São Paulino e um vascaíno?\n",
      "Por que é que vão matar um São Paulino e um vascaíno?\n",
      "Bolsonaro dá uma palmada nas costas do Mourão e exclama:\n",
      "- Não te disse?\n",
      "Ninguém vai perguntar pelos 14 milhões de petistas!\n",
      "---------------------------\n",
      "kkkkk kkkkkkk😂😂😂😂😂😂\n",
      "\n",
      "Trump e Teresa May estão num jantar na Casa Branca.\n",
      "Um dos convidados aproxima-se deles e pergunta:\n",
      "- Sobre o que estão conversando de forma tão animada?\n",
      "- Estamos fazendo planos para a \"Terceira Guerra Mundial\", diz Trump.\n",
      "- Uau!, exclama o convidado.\n",
      "E quais são esses planos?\n",
      "- No Brasil, vamos matar 14 milhões de petistas, um flamenguista e um vascaino, responde Trump. \n",
      "O convidado parece confuso e pergunta:\n",
      "- Um... flamenguista e um vascaíno?\n",
      "Por que é que vão matar um flamenguista e um vascaíno?\n",
      "May dá uma palmada nas costas de Trump e exclama:\n",
      "- Não te disse?\n",
      "Ninguém vai perguntar pelos 14 milhões de petistas!\n",
      "---------------------------\n",
      "Bolsonaro e Mourão  estão numa pizzaria jantando.\n",
      "Um cliente aproxima-se deles e pergunta:\n",
      "- Sobre o que estão conversando de forma tão animada?\n",
      "- Estamos fazendo planos para resolver o problema do Brasil de forma rápida e super discreta....responde Bolsonaro...\n",
      "- Uau!, exclama o cliente...\n",
      "E quais são esses planos?\n",
      "- No Brasil, vamos matar 14 milhões de petistas, um flamenguista e um vascaino, responde Mourão.\n",
      "O convidado parece confuso e pergunta:\n",
      "- Um... flamenguista e um vascaíno?\n",
      "Por que é que vão matar um flamenguista e um vascaíno?\n",
      "Bolsonaro dá uma palmada nas costas do Mourão e exclama:\n",
      "- Não te disse?\n",
      "Ninguém vai perguntar pelos 14 milhões de petistas!\n",
      "🙄🙄\n",
      "---------------------------\n",
      "Bolsonaro e Mourão  estão numa churrascaria jantando.\n",
      "Um cliente aproxima-se deles e pergunta:\n",
      "- Sobre o que estão conversando de forma tão animada?\n",
      "- Estamos fazendo planos para resolver o problema do Brasil de forma rápida e super discreta....responde Bolsonaro...\n",
      "- Uau!, exclama o cliente...\n",
      "E quais são esses planos?\n",
      "- No Brasil, vamos matar 14 milhões de petistas, um colorado e um gremista, responde Mourão.\n",
      "O convidado parece confuso e pergunta:\n",
      "- Um... Colorado e um gremista?\n",
      "Por que é que vão matar um colorado e um gremista?\n",
      "Bolsonaro dá um tapa nas costas do Mourão e exclama:\n",
      "- Não te disse?\n",
      "Ninguém vai perguntar pelos 14 milhões de petistas!\n",
      "---------------------------\n",
      "Bolsonaro e Mourão  estão numa pizzaria jantando.\n",
      "Um cliente aproxima-se deles e pergunta:\n",
      "- Sobre o que estão conversando de forma tão animada?\n",
      "- Estamos fazendo planos para resolver o problema do Brasil de forma rápida e super discreta....responde Bolsonaro...\n",
      "- Uau!, exclama o cliente...\n",
      "E quais são esses planos?\n",
      "- No Brasil, vamos matar 14 milhões de petistas, um flamenguista e um vascaino, responde Mourão.\n",
      "O convidado parece confuso e pergunta:\n",
      "- Um... flamenguista e um vascaíno?\n",
      "Por que é que vão matar um flamenguista e um vascaíno?\n",
      "Bolsonaro dá uma palmada nas costas do Mourão e exclama:\n",
      "- Não te disse?\n",
      "Ninguém vai perguntar pelos 14 milhões de petistas!\n",
      "---------------------------\n",
      "Bolsonaro e Mourão  estão numa pizzaria jantando.\n",
      "Um cliente aproxima-se deles e pergunta:\n",
      "- Sobre o que estão conversando de forma tão animada?\n",
      "- Estamos fazendo planos para resolver o problema do Brasil de forma rápida e super discreta....responde Bolsonaro...\n",
      "- Uau!, exclama o cliente...\n",
      "E quais são esses planos?\n",
      "- No Brasil, vamos matar 14 milhões de petistas, um gremista e um colorado, responde Mourão.\n",
      "O convidado parece confuso e pergunta:\n",
      "- Hummm... um gremista e um colorado?\n",
      "Por que é que vão matar um gremista e um colorado?\n",
      "Bolsonaro dá uma palmada nas costas do Mourão e exclama:\n",
      "- Não te disse?\n",
      "Ninguém vai perguntar pelos 14 milhões de petistas!\n",
      "🙄🙄\n",
      "---------------------------\n",
      "Bolsonaro e Mourão estavam numa pizzaria jantando. Um cliente aproxima-se deles e pergunta:\n",
      "\n",
      "- Sobre o que estão conversando de forma tão animada?\n",
      "- Estamos fazendo planos para resolver o problema do Brasil de forma rápida e super discreta, responde Bolsonaro...\n",
      "- Uau! exclama o cliente... E quais são esses planos?\n",
      "- No Brasil, vamos matar 14 milhões de petistas, um flamenguista e um vascaino, responde Mourão.\n",
      "\n",
      "O convidado parece confuso e pergunta:\n",
      "\n",
      "- Um flamenguista e um vascaíno? Por que é que vão matar um flamenguista e um vascaíno?\n",
      "\n",
      "Bolsonaro dá uma palmada nas costas do Mourão e exclama:\n",
      "\n",
      "- Não te disse? Ninguém vai perguntar pelos 14 milhões de petistas!\n",
      "\n",
      "😂😂😂😂😂😂😂😂😂😂\n",
      "---------------------------\n",
      "Bolsonaro e Mourão  estão numa pizzaria jantando.\n",
      "Um cliente aproxima-se deles e pergunta:\n",
      "- Sobre o que estão conversando de forma tão animada?\n",
      "- Estamos fazendo planos para resolver o problema do Brasil de forma rápida e super discreta....responde Bolsonaro...\n",
      "- Uau!, exclama o cliente...\n",
      "E quais são esses planos?\n",
      "- No Brasil, vamos matar 14 milhões de petistas, um Gremista e um Colorado, responde Mourão.\n",
      "O convidado parece confuso e pergunta:\n",
      "- Um... Gremista e um Colorado?\n",
      "Por que é que vão matar um Gremista e um Colorado?\n",
      "Bolsonaro dá uma palmada nas costas do Mourão e exclama:\n",
      "- Não te disse?\n",
      "Ninguém vai perguntar pelos 14 milhões de petistas!\n",
      "---------------------------\n",
      "Bolsonaro e Mourão  estão numa pizzaria jantando.\n",
      "Um cliente aproxima-se deles e pergunta:\n",
      "- Sobre o que estão conversando de forma tão animada?\n",
      "- Estamos fazendo planos para resolver o problema do Brasil de forma rápida e super discreta....responde Bolsonaro...\n",
      "- Uau!, exclama o cliente...\n",
      "E quais são esses planos?\n",
      "- No Brasil, vamos matar 14 milhões de petistas, um flamenguista e um vascaino, responde Mourão.\n",
      "O convidado parece confuso e pergunta:\n",
      "- Um... flamenguista e um vascaíno?\n",
      "Por que é que vão matar um flamenguista e um vascaíno?\n",
      "Bolsonaro dá uma palmada nas costas do Mourão e exclama:\n",
      "- Não te disse?\n",
      "Ninguém vai perguntar pelos 14 milhões de petistas!🤣🤣🤣\n",
      "---------------------------\n",
      "Bolsonaro e Mourão  estão numa pizzaria jantando.\n",
      "\n",
      "Um cliente aproxima-se deles e pergunta:\n",
      "\n",
      "- Sobre o que estão conversando de forma tão animada?\n",
      "\n",
      "- Estamos fazendo planos para resolver o problema do Brasil de forma rápida e super discreta... responde Bolsonaro...\n",
      "\n",
      "- Uau!, exclama o cliente...\n",
      "\n",
      "E quais são esses planos?\n",
      "\n",
      "- No Brasil, vamos matar 14 milhões de petistas, um torcedor do Galo  e um torcedor do Cruzeiro, responde Mourão.\n",
      "\n",
      "O convidado parece confuso e pergunta:\n",
      "\n",
      "- Um Torcedor do Galo e um torcedor do Cruzeiro?\n",
      "\n",
      "Por que é que vão matar os dois torcedores?\n",
      "\n",
      "Bolsonaro dá uma palmada nas costas do Mourão e exclama:\n",
      "\n",
      "- Não te disse?\n",
      "Ninguém vai perguntar pelos 14 milhões de petistas!\n",
      "🙄🙄\n",
      "---------------------------\n",
      "*Bolsonaro e Mourão  estão numa pizzaria jantando.*\n",
      "*Um cliente aproxima-se deles e pergunta:*\n",
      "*- Sobre o que estão conversando de forma tão animada?*\n",
      "*- Estamos fazendo planos para resolver o problema do Brasil de forma rápida e super discreta....responde Bolsonaro...*\n",
      "*- Uau!, exclama o cliente...E quais são esses planos?*\n",
      "*- No Brasil, vamos matar 14 milhões de petistas, um flamenguista e um vascaino, responde Mourão.*\n",
      "*O convidado parece confuso e pergunta:*\n",
      "*- Um...flamenguista e um vascaíno?*\n",
      "*Por que é que vão matar um flamenguista e um vascaíno?*\n",
      "*Bolsonaro dá uma palmada nas costas do Mourão e exclama:*\n",
      "*- Não te disse?*\n",
      "*Ninguém vai perguntar pelos 14 milhões de petistas!*\n",
      "---------------------------\n",
      "😉😉😉😉😽😹\n",
      "Bolsonaro e Mourão estão numa pizzaria jantando.\n",
      "Um cliente aproxima-se deles e pergunta:\n",
      "- Sobre o que estão conversando de forma tão animada?\n",
      "- Estamos fazendo planos para resolver o problema do Brasil de forma rápida e super discreta....responde Bolsonaro...\n",
      "- Uau!, exclama o cliente...\n",
      "E quais são esses planos?\n",
      "- No Brasil, vamos matar 14 milhões de petistas, um Gremista e um Colorado, responde Mourão.\n",
      "O convidado parece confuso e pergunta:\n",
      "- Um... Gremista e um Colorado ?\n",
      "Por que é que vão matar um Gremista e um Colorado ?\n",
      "Bolsonaro dá uma palmada nas costas do Mourão e exclama:\n",
      "- Não te disse?\n",
      "Ninguém vai perguntar pelos 14 milhões de petistas!!\n",
      "---------------------------\n",
      "Bolsonaro e Mourão  estão numa pizzaria jantando.\n",
      "Um cliente aproxima-se deles e pergunta:\n",
      "- Sobre o que estão conversando de forma tão animada?\n",
      "- Estamos fazendo planos para resolver o problema do Brasil de forma rápida e super discreta....responde Bolsonaro...\n",
      "- Uau!, exclama o cliente...\n",
      "E quais são esses planos?\n",
      "- No Brasil, vamos matar 14 milhões de petistas, um Gremista e um Colorado, responde Mourão.\n",
      "O convidado parece confuso e pergunta:\n",
      "- Um... Gremista e um Colorado ?\n",
      "Por que é que vão matar um Gremista e um Colorado ?\n",
      "Bolsonaro dá uma palmada nas costas do Mourão e exclama:\n",
      "- Não te disse?\n",
      "Ninguém vai perguntar pelos 14 milhões de petistas!\n",
      "---------------------------\n"
     ]
    }
   ],
   "source": [
    "df_query = df[df.apply(lambda x: haveWord('Ninguém vai perguntar pelos 14 milhões de petistas',x['text']),axis=1)]\n",
    "for p in df_query['text'].unique():\n",
    "    print(p)\n",
    "    print('---------------------------')"
   ]
  },
  {
   "cell_type": "markdown",
   "metadata": {},
   "source": [
    "# Bigrams"
   ]
  },
  {
   "cell_type": "code",
   "execution_count": 11,
   "metadata": {},
   "outputs": [
    {
     "name": "stderr",
     "output_type": "stream",
     "text": [
      "C:\\Users\\lucas.carneiro\\Anaconda3\\envs\\env\\lib\\site-packages\\gensim\\similarities\\__init__.py:15: UserWarning: The gensim.similarities.levenshtein submodule is disabled, because the optional Levenshtein package <https://pypi.org/project/python-Levenshtein/> is unavailable. Install Levenhstein (e.g. `pip install python-Levenshtein`) to suppress this warning.\n",
      "  warnings.warn(msg)\n"
     ]
    }
   ],
   "source": [
    "import utils\n",
    "import emoji\n",
    "import regex\n",
    "import string\n",
    "from sklearn.feature_extraction.text import CountVectorizer"
   ]
  },
  {
   "cell_type": "code",
   "execution_count": 12,
   "metadata": {},
   "outputs": [
    {
     "data": {
      "text/plain": [
       "'!\"#$%&\\'()*+,-./:;<=>?@[\\\\]^_`{|}~'"
      ]
     },
     "execution_count": 12,
     "metadata": {},
     "output_type": "execute_result"
    }
   ],
   "source": [
    "string.punctuation"
   ]
  },
  {
   "cell_type": "code",
   "execution_count": 13,
   "metadata": {},
   "outputs": [
    {
     "data": {
      "text/plain": [
       "{'😀': ':rosto_risonho:',\n",
       " '😃': ':rosto_risonho_com_olhos_bem_abertos:',\n",
       " '😄': ':rosto_risonho_com_olhos_sorridentes:',\n",
       " '😁': ':rosto_contente_com_olhos_sorridentes:',\n",
       " '😆': ':rosto_risonho_com_olhos_semicerrados:',\n",
       " '😅': ':rosto_risonho_com_gota_de_suor:',\n",
       " '🤣': ':rolando_no_chão_de_rir:',\n",
       " '😂': ':rosto_chorando_de_rir:',\n",
       " '🙂': ':rosto_levemente_sorridente:',\n",
       " '🙃': ':rosto_de_cabeça_para_baixo:',\n",
       " '😉': ':rosto_com_olho_piscando:',\n",
       " '😊': ':rosto_sorridente_com_olhos_sorridentes:',\n",
       " '😇': ':rosto_sorridente_com_auréola:',\n",
       " '🥰': ':rosto_sorridente_com_3_corações:',\n",
       " '😍': ':rosto_sorridente_com_olhos_de_coração:',\n",
       " '🤩': ':rosto_com_olhar_maravilhado:',\n",
       " '😘': ':rosto_mandando_um_beijo:',\n",
       " '😗': ':rosto_beijando:',\n",
       " '☺️': ':rosto_sorridente:',\n",
       " '😚': ':rosto_beijando_com_olhos_fechados:',\n",
       " '😙': ':rosto_beijando_com_olhos_sorridentes:',\n",
       " '\\U0001f972': ':rosto_sorridente_com_lágrima:',\n",
       " '😋': ':rosto_saboreando_comida:',\n",
       " '😛': ':rosto_mostrando_a_língua:',\n",
       " '😜': ':rosto_piscando_e_com_língua_para_fora:',\n",
       " '🤪': ':rosto_bizarro:',\n",
       " '😝': ':rosto_com_olhos_semicerrados_e_língua_para_fora:',\n",
       " '🤑': ':rosto_com_cifrões:',\n",
       " '🤗': ':rosto_abraçando:',\n",
       " '🤭': ':rosto_com_a_mão_sobre_a_boca:',\n",
       " '🤫': ':rosto_fazendo_sinal_de_silêncio:',\n",
       " '🤔': ':rosto_pensativo:',\n",
       " '🤐': ':rosto_com_boca_de_zíper:',\n",
       " '🤨': ':rosto_com_sobrancelha_levantada:',\n",
       " '😐': ':rosto_neutro:',\n",
       " '😑': ':rosto_inexpressivo:',\n",
       " '😶': ':rosto_sem_boca:',\n",
       " '😏': ':rosto_com_sorriso_maroto:',\n",
       " '😒': ':rosto_aborrecido:',\n",
       " '🙄': ':rosto_com_olhos_revirados:',\n",
       " '😬': ':rosto_expressando_desagrado:',\n",
       " '🤥': ':rosto_de_mentiroso:',\n",
       " '😌': ':rosto_aliviado:',\n",
       " '😔': ':rosto_deprimido:',\n",
       " '😪': ':rosto_sonolento:',\n",
       " '🤤': ':rosto_babando:',\n",
       " '😴': ':rosto_dormindo:',\n",
       " '😷': ':rosto_com_máscara_médica:',\n",
       " '🤒': ':rosto_com_termômetro:',\n",
       " '🤕': ':rosto_com_atadura_na_cabeça:',\n",
       " '🤢': ':rosto_nauseado:',\n",
       " '🤮': ':rosto_vomitando:',\n",
       " '🤧': ':rosto_espirrando:',\n",
       " '🥵': ':rosto_fervendo_de_calor:',\n",
       " '🥶': ':rosto_gelado:',\n",
       " '🥴': ':rosto_embriagado:',\n",
       " '😵': ':rosto_atordoado:',\n",
       " '🤯': ':cabeça_explodindo:',\n",
       " '🤠': ':rosto_com_chapéu_de_caubói:',\n",
       " '🥳': ':rosto_festivo:',\n",
       " '\\U0001f978': ':rosto_disfarçado:',\n",
       " '😎': ':rosto_sorridente_com_óculos_escuros:',\n",
       " '🤓': ':rosto_de_nerd:',\n",
       " '🧐': ':rosto_com_monóculo:',\n",
       " '😕': ':rosto_confuso:',\n",
       " '😟': ':rosto_preocupado:',\n",
       " '🙁': ':rosto_meio_triste:',\n",
       " '☹️': ':rosto_descontente:',\n",
       " '😮': ':rosto_com_boca_aberta:',\n",
       " '😯': ':rosto_surpreso:',\n",
       " '😲': ':rosto_espantado:',\n",
       " '😳': ':rosto_ruborizado:',\n",
       " '🥺': ':rosto_implorando:',\n",
       " '😦': ':rosto_franzido_com_boca_aberta:',\n",
       " '😧': ':rosto_angustiado:',\n",
       " '😨': ':rosto_amedrontado:',\n",
       " '😰': ':rosto_ansioso_com_gota_de_suor:',\n",
       " '😥': ':rosto_triste_mas_aliviado:',\n",
       " '😢': ':rosto_chorando:',\n",
       " '😭': ':rosto_chorando_aos_berros:',\n",
       " '😱': ':rosto_gritando_de_medo:',\n",
       " '😖': ':rosto_perplexo:',\n",
       " '😣': ':rosto_perseverante:',\n",
       " '😞': ':rosto_desapontado:',\n",
       " '😓': ':rosto_cabisbaixo_com_gota_de_suor:',\n",
       " '😩': ':rosto_desolado:',\n",
       " '😫': ':rosto_cansado:',\n",
       " '🥱': ':rosto_bocejando:',\n",
       " '😤': ':rosto_soltando_vapor_pelo_nariz:',\n",
       " '😡': ':rosto_furioso:',\n",
       " '😠': ':rosto_zangado:',\n",
       " '🤬': ':rosto_com_símbolos_na_boca:',\n",
       " '😈': ':rosto_sorridente_com_chifres:',\n",
       " '👿': ':rosto_zangado_com_chifres:',\n",
       " '💀': ':caveira:',\n",
       " '☠️': ':caveira_e_ossos_cruzados:',\n",
       " '💩': ':cocô:',\n",
       " '🤡': ':rosto_de_palhaço:',\n",
       " '👹': ':ogro:',\n",
       " '👺': ':duende_japonês:',\n",
       " '👻': ':fantasma:',\n",
       " '👽': ':alienígena:',\n",
       " '👾': ':monstro_alienígena:',\n",
       " '🤖': ':rosto_de_robô:',\n",
       " '😺': ':rosto_de_gato_sorrindo:',\n",
       " '😸': ':rosto_de_gato_sorrindo_com_olhos_sorridentes:',\n",
       " '😹': ':rosto_de_gato_com_lágrimas_de_alegria:',\n",
       " '😻': ':rosto_de_gato_sorridente_com_olhos_de_coração:',\n",
       " '😼': ':rosto_de_gato_com_sorriso_irônico:',\n",
       " '😽': ':rosto_de_gato_mandando_um_beijo:',\n",
       " '🙀': ':rosto_de_gato_desolado:',\n",
       " '😿': ':rosto_de_gato_chorando:',\n",
       " '😾': ':rosto_de_gato_mal-humorado:',\n",
       " '🙈': ':macaco_que_não_vê_nada:',\n",
       " '🙉': ':macaco_que_não_ouve_nada:',\n",
       " '🙊': ':macaco_que_não_fala_nada:',\n",
       " '💋': ':marca_de_beijo:',\n",
       " '💌': ':carta_de_amor:',\n",
       " '💘': ':coração_com_flecha:',\n",
       " '💝': ':coração_com_fita:',\n",
       " '💖': ':coração_brilhante:',\n",
       " '💗': ':coração_crescendo:',\n",
       " '💓': ':coração_pulsante:',\n",
       " '💞': ':corações_girando:',\n",
       " '💕': ':dois_corações:',\n",
       " '💟': ':coração_decorativo:',\n",
       " '❣️': ':exclamação_de_coração:',\n",
       " '💔': ':coração_partido:',\n",
       " '❤️': ':coração_vermelho:',\n",
       " '🧡': ':coração_laranja:',\n",
       " '💛': ':coração_amarelo:',\n",
       " '💚': ':coração_verde:',\n",
       " '💙': ':coração_azul:',\n",
       " '💜': ':coração_roxo:',\n",
       " '🤎': ':coração_marrom:',\n",
       " '🖤': ':coração_preto:',\n",
       " '🤍': ':coração_branco:',\n",
       " '💯': ':cem_pontos:',\n",
       " '💢': ':símbolo_de_raiva:',\n",
       " '💥': ':colisão:',\n",
       " '💫': ':zonzo:',\n",
       " '💦': ':pingos_de_suor:',\n",
       " '💨': ':rapidez:',\n",
       " '🕳️': ':buraco:',\n",
       " '💣': ':bomba:',\n",
       " '💬': ':balão_de_diálogo:',\n",
       " '👁️\\u200d🗨️': ':olho_no_balão_de_diálogo:',\n",
       " '🗨️': ':balão_de_diálogo_à_esquerda:',\n",
       " '🗯️': ':balão_de_raiva_à_direita:',\n",
       " '💭': ':balão_de_pensamento:',\n",
       " '💤': ':zzz:',\n",
       " '👋': ':mão_acenando:',\n",
       " '👋🏻': ':mão_acenando_pele_clara:',\n",
       " '👋🏼': ':mão_acenando_pele_morena_clara:',\n",
       " '👋🏽': ':mão_acenando_pele_morena:',\n",
       " '👋🏾': ':mão_acenando_pele_morena_escura:',\n",
       " '👋🏿': ':mão_acenando_pele_escura:',\n",
       " '🤚': ':dorso_da_mão_levantado:',\n",
       " '🤚🏻': ':dorso_da_mão_levantado_pele_clara:',\n",
       " '🤚🏼': ':dorso_da_mão_levantado_pele_morena_clara:',\n",
       " '🤚🏽': ':dorso_da_mão_levantado_pele_morena:',\n",
       " '🤚🏾': ':dorso_da_mão_levantado_pele_morena_escura:',\n",
       " '🤚🏿': ':dorso_da_mão_levantado_pele_escura:',\n",
       " '🖐️': ':mão_aberta_com_os_dedos_separados:',\n",
       " '🖐🏻': ':mão_aberta_com_os_dedos_separados_pele_clara:',\n",
       " '🖐🏼': ':mão_aberta_com_os_dedos_separados_pele_morena_clara:',\n",
       " '🖐🏽': ':mão_aberta_com_os_dedos_separados_pele_morena:',\n",
       " '🖐🏾': ':mão_aberta_com_os_dedos_separados_pele_morena_escura:',\n",
       " '🖐🏿': ':mão_aberta_com_os_dedos_separados_pele_escura:',\n",
       " '✋': ':mão_levantada:',\n",
       " '✋🏻': ':mão_levantada_pele_clara:',\n",
       " '✋🏼': ':mão_levantada_pele_morena_clara:',\n",
       " '✋🏽': ':mão_levantada_pele_morena:',\n",
       " '✋🏾': ':mão_levantada_pele_morena_escura:',\n",
       " '✋🏿': ':mão_levantada_pele_escura:',\n",
       " '🖖': ':saudação_vulcana:',\n",
       " '🖖🏻': ':saudação_vulcana_pele_clara:',\n",
       " '🖖🏼': ':saudação_vulcana_pele_morena_clara:',\n",
       " '🖖🏽': ':saudação_vulcana_pele_morena:',\n",
       " '🖖🏾': ':saudação_vulcana_pele_morena_escura:',\n",
       " '🖖🏿': ':saudação_vulcana_pele_escura:',\n",
       " '👌': ':sinal_de_ok:',\n",
       " '👌🏻': ':sinal_de_ok_pele_clara:',\n",
       " '👌🏼': ':sinal_de_ok_pele_morena_clara:',\n",
       " '👌🏽': ':sinal_de_ok_pele_morena:',\n",
       " '👌🏾': ':sinal_de_ok_pele_morena_escura:',\n",
       " '👌🏿': ':sinal_de_ok_pele_escura:',\n",
       " '\\U0001f90c': ':dedos_comprimidos:',\n",
       " '\\U0001f90c🏻': ':dedos_comprimidos_pele_clara:',\n",
       " '\\U0001f90c🏼': ':dedos_comprimidos_pele_morena_clara:',\n",
       " '\\U0001f90c🏽': ':dedos_comprimidos_pele_morena:',\n",
       " '\\U0001f90c🏾': ':dedos_comprimidos_pele_morena_escura:',\n",
       " '\\U0001f90c🏿': ':dedos_comprimidos_pele_escura:',\n",
       " '🤏': ':mão_beliscando:',\n",
       " '🤏🏻': ':mão_beliscando_pele_clara:',\n",
       " '🤏🏼': ':mão_beliscando_pele_morena_clara:',\n",
       " '🤏🏽': ':mão_beliscando_pele_morena:',\n",
       " '🤏🏾': ':mão_beliscando_pele_morena_escura:',\n",
       " '🤏🏿': ':mão_beliscando_pele_escura:',\n",
       " '✌': ':mão_em_v_de_vitória:',\n",
       " '✌️': ':mão_em_v_de_vitória_selector:',\n",
       " '✌🏻': ':mão_em_v_de_vitória_pele_clara:',\n",
       " '✌🏼': ':mão_em_v_de_vitória_pele_morena_clara:',\n",
       " '✌🏽': ':mão_em_v_de_vitória_pele_morena:',\n",
       " '✌🏾': ':mão_em_v_de_vitória_pele_morena_escura:',\n",
       " '✌🏿': ':mão_em_v_de_vitória_pele_escura:',\n",
       " '🤞': ':dedos_cruzados:',\n",
       " '🤞🏻': ':dedos_cruzados_pele_clara:',\n",
       " '🤞🏼': ':dedos_cruzados_pele_morena_clara:',\n",
       " '🤞🏽': ':dedos_cruzados_pele_morena:',\n",
       " '🤞🏾': ':dedos_cruzados_pele_morena_escura:',\n",
       " '🤞🏿': ':dedos_cruzados_pele_escura:',\n",
       " '🤟': ':gesto_de_te_amo:',\n",
       " '🤟🏻': ':gesto_de_te_amo_pele_clara:',\n",
       " '🤟🏼': ':gesto_de_te_amo_pele_morena_clara:',\n",
       " '🤟🏽': ':gesto_de_te_amo_pele_morena:',\n",
       " '🤟🏾': ':gesto_de_te_amo_pele_morena_escura:',\n",
       " '🤟🏿': ':gesto_de_te_amo_pele_escura:',\n",
       " '🤘': ':saudação_do_rock:',\n",
       " '🤘🏻': ':saudação_do_rock_pele_clara:',\n",
       " '🤘🏼': ':saudação_do_rock_pele_morena_clara:',\n",
       " '🤘🏽': ':saudação_do_rock_pele_morena:',\n",
       " '🤘🏾': ':saudação_do_rock_pele_morena_escura:',\n",
       " '🤘🏿': ':saudação_do_rock_pele_escura:',\n",
       " '🤙': ':sinal_me_liga:',\n",
       " '🤙🏻': ':sinal_me_liga_pele_clara:',\n",
       " '🤙🏼': ':sinal_me_liga_pele_morena_clara:',\n",
       " '🤙🏽': ':sinal_me_liga_pele_morena:',\n",
       " '🤙🏾': ':sinal_me_liga_pele_morena_escura:',\n",
       " '🤙🏿': ':sinal_me_liga_pele_escura:',\n",
       " '👈': ':dorso_da_mão_com_dedo_indicador_apontando_para_a_esquerda:',\n",
       " '👈🏻': ':dorso_da_mão_com_dedo_indicador_apontando_para_a_esquerda_pele_clara:',\n",
       " '👈🏼': ':dorso_da_mão_com_dedo_indicador_apontando_para_a_esquerda_pele_morena_clara:',\n",
       " '👈🏽': ':dorso_da_mão_com_dedo_indicador_apontando_para_a_esquerda_pele_morena:',\n",
       " '👈🏾': ':dorso_da_mão_com_dedo_indicador_apontando_para_a_esquerda_pele_morena_escura:',\n",
       " '👈🏿': ':dorso_da_mão_com_dedo_indicador_apontando_para_a_esquerda_pele_escura:',\n",
       " '👉': ':dorso_da_mão_com_dedo_indicador_apontando_para_a_direita:',\n",
       " '👉🏻': ':dorso_da_mão_com_dedo_indicador_apontando_para_a_direita_pele_clara:',\n",
       " '👉🏼': ':dorso_da_mão_com_dedo_indicador_apontando_para_a_direita_pele_morena_clara:',\n",
       " '👉🏽': ':dorso_da_mão_com_dedo_indicador_apontando_para_a_direita_pele_morena:',\n",
       " '👉🏾': ':dorso_da_mão_com_dedo_indicador_apontando_para_a_direita_pele_morena_escura:',\n",
       " '👉🏿': ':dorso_da_mão_com_dedo_indicador_apontando_para_a_direita_pele_escura:',\n",
       " '👆': ':dorso_da_mão_com_dedo_indicador_apontando_para_cima:',\n",
       " '👆🏻': ':dorso_da_mão_com_dedo_indicador_apontando_para_cima_pele_clara:',\n",
       " '👆🏼': ':dorso_da_mão_com_dedo_indicador_apontando_para_cima_pele_morena_clara:',\n",
       " '👆🏽': ':dorso_da_mão_com_dedo_indicador_apontando_para_cima_pele_morena:',\n",
       " '👆🏾': ':dorso_da_mão_com_dedo_indicador_apontando_para_cima_pele_morena_escura:',\n",
       " '👆🏿': ':dorso_da_mão_com_dedo_indicador_apontando_para_cima_pele_escura:',\n",
       " '🖕': ':dedo_do_meio:',\n",
       " '🖕🏻': ':dedo_do_meio_pele_clara:',\n",
       " '🖕🏼': ':dedo_do_meio_pele_morena_clara:',\n",
       " '🖕🏽': ':dedo_do_meio_pele_morena:',\n",
       " '🖕🏾': ':dedo_do_meio_pele_morena_escura:',\n",
       " '🖕🏿': ':dedo_do_meio_pele_escura:',\n",
       " '👇': ':dorso_da_mão_com_dedo_indicador_apontando_para_baixo:',\n",
       " '👇🏻': ':dorso_da_mão_com_dedo_indicador_apontando_para_baixo_pele_clara:',\n",
       " '👇🏼': ':dorso_da_mão_com_dedo_indicador_apontando_para_baixo_pele_morena_clara:',\n",
       " '👇🏽': ':dorso_da_mão_com_dedo_indicador_apontando_para_baixo_pele_morena:',\n",
       " '👇🏾': ':dorso_da_mão_com_dedo_indicador_apontando_para_baixo_pele_morena_escura:',\n",
       " '👇🏿': ':dorso_da_mão_com_dedo_indicador_apontando_para_baixo_pele_escura:',\n",
       " '☝': ':indicador_apontando_para_cima:',\n",
       " '☝️': ':indicador_apontando_para_cima_selector:',\n",
       " '☝🏻': ':indicador_apontando_para_cima_pele_clara:',\n",
       " '☝🏼': ':indicador_apontando_para_cima_pele_morena_clara:',\n",
       " '☝🏽': ':indicador_apontando_para_cima_pele_morena:',\n",
       " '☝🏾': ':indicador_apontando_para_cima_pele_morena_escura:',\n",
       " '☝🏿': ':indicador_apontando_para_cima_pele_escura:',\n",
       " '👍': ':polegar_para_cima:',\n",
       " '👍🏻': ':polegar_para_cima_pele_clara:',\n",
       " '👍🏼': ':polegar_para_cima_pele_morena_clara:',\n",
       " '👍🏽': ':polegar_para_cima_pele_morena:',\n",
       " '👍🏾': ':polegar_para_cima_pele_morena_escura:',\n",
       " '👍🏿': ':polegar_para_cima_pele_escura:',\n",
       " '👎': ':polegar_para_baixo:',\n",
       " '👎🏻': ':polegar_para_baixo_pele_clara:',\n",
       " '👎🏼': ':polegar_para_baixo_pele_morena_clara:',\n",
       " '👎🏽': ':polegar_para_baixo_pele_morena:',\n",
       " '👎🏾': ':polegar_para_baixo_pele_morena_escura:',\n",
       " '👎🏿': ':polegar_para_baixo_pele_escura:',\n",
       " '✊': ':punho_levantado:',\n",
       " '✊🏻': ':punho_levantado_pele_clara:',\n",
       " '✊🏼': ':punho_levantado_pele_morena_clara:',\n",
       " '✊🏽': ':punho_levantado_pele_morena:',\n",
       " '✊🏾': ':punho_levantado_pele_morena_escura:',\n",
       " '✊🏿': ':punho_levantado_pele_escura:',\n",
       " '👊': ':soco:',\n",
       " '👊🏻': ':soco_pele_clara:',\n",
       " '👊🏼': ':soco_pele_morena_clara:',\n",
       " '👊🏽': ':soco_pele_morena:',\n",
       " '👊🏾': ':soco_pele_morena_escura:',\n",
       " '👊🏿': ':soco_pele_escura:',\n",
       " '🤛': ':punho_esquerdo:',\n",
       " '🤛🏻': ':punho_esquerdo_pele_clara:',\n",
       " '🤛🏼': ':punho_esquerdo_pele_morena_clara:',\n",
       " '🤛🏽': ':punho_esquerdo_pele_morena:',\n",
       " '🤛🏾': ':punho_esquerdo_pele_morena_escura:',\n",
       " '🤛🏿': ':punho_esquerdo_pele_escura:',\n",
       " '🤜': ':punho_direito:',\n",
       " '🤜🏻': ':punho_direito_pele_clara:',\n",
       " '🤜🏼': ':punho_direito_pele_morena_clara:',\n",
       " '🤜🏽': ':punho_direito_pele_morena:',\n",
       " '🤜🏾': ':punho_direito_pele_morena_escura:',\n",
       " '🤜🏿': ':punho_direito_pele_escura:',\n",
       " '👏': ':mãos_aplaudindo:',\n",
       " '👏🏻': ':mãos_aplaudindo_pele_clara:',\n",
       " '👏🏼': ':mãos_aplaudindo_pele_morena_clara:',\n",
       " '👏🏽': ':mãos_aplaudindo_pele_morena:',\n",
       " '👏🏾': ':mãos_aplaudindo_pele_morena_escura:',\n",
       " '👏🏿': ':mãos_aplaudindo_pele_escura:',\n",
       " '🙌': ':mãos_para_cima:',\n",
       " '🙌🏻': ':mãos_para_cima_pele_clara:',\n",
       " '🙌🏼': ':mãos_para_cima_pele_morena_clara:',\n",
       " '🙌🏽': ':mãos_para_cima_pele_morena:',\n",
       " '🙌🏾': ':mãos_para_cima_pele_morena_escura:',\n",
       " '🙌🏿': ':mãos_para_cima_pele_escura:',\n",
       " '👐': ':mãos_abertas:',\n",
       " '👐🏻': ':mãos_abertas_pele_clara:',\n",
       " '👐🏼': ':mãos_abertas_pele_morena_clara:',\n",
       " '👐🏽': ':mãos_abertas_pele_morena:',\n",
       " '👐🏾': ':mãos_abertas_pele_morena_escura:',\n",
       " '👐🏿': ':mãos_abertas_pele_escura:',\n",
       " '🤲': ':palmas_unidas_para_cima:',\n",
       " '🤲🏻': ':palmas_unidas_para_cima_pele_clara:',\n",
       " '🤲🏼': ':palmas_unidas_para_cima_pele_morena_clara:',\n",
       " '🤲🏽': ':palmas_unidas_para_cima_pele_morena:',\n",
       " '🤲🏾': ':palmas_unidas_para_cima_pele_morena_escura:',\n",
       " '🤲🏿': ':palmas_unidas_para_cima_pele_escura:',\n",
       " '🤝': ':aperto_de_mãos:',\n",
       " '🙏': ':mãos_juntas:',\n",
       " '🙏🏻': ':mãos_juntas_pele_clara:',\n",
       " '🙏🏼': ':mãos_juntas_pele_morena_clara:',\n",
       " '🙏🏽': ':mãos_juntas_pele_morena:',\n",
       " '🙏🏾': ':mãos_juntas_pele_morena_escura:',\n",
       " '🙏🏿': ':mãos_juntas_pele_escura:',\n",
       " '✍️': ':escrevendo_à_mão:',\n",
       " '✍🏻': ':escrevendo_à_mão_pele_clara:',\n",
       " '✍🏼': ':escrevendo_à_mão_pele_morena_clara:',\n",
       " '✍🏽': ':escrevendo_à_mão_pele_morena:',\n",
       " '✍🏾': ':escrevendo_à_mão_pele_morena_escura:',\n",
       " '✍🏿': ':escrevendo_à_mão_pele_escura:',\n",
       " '💅': ':esmalte_de_unha:',\n",
       " '💅🏻': ':esmalte_de_unha_pele_clara:',\n",
       " '💅🏼': ':esmalte_de_unha_pele_morena_clara:',\n",
       " '💅🏽': ':esmalte_de_unha_pele_morena:',\n",
       " '💅🏾': ':esmalte_de_unha_pele_morena_escura:',\n",
       " '💅🏿': ':esmalte_de_unha_pele_escura:',\n",
       " '🤳': ':selfie:',\n",
       " '🤳🏻': ':selfie_pele_clara:',\n",
       " '🤳🏼': ':selfie_pele_morena_clara:',\n",
       " '🤳🏽': ':selfie_pele_morena:',\n",
       " '🤳🏾': ':selfie_pele_morena_escura:',\n",
       " '🤳🏿': ':selfie_pele_escura:',\n",
       " '💪': ':bíceps:',\n",
       " '💪🏻': ':bíceps_pele_clara:',\n",
       " '💪🏼': ':bíceps_pele_morena_clara:',\n",
       " '💪🏽': ':bíceps_pele_morena:',\n",
       " '💪🏾': ':bíceps_pele_morena_escura:',\n",
       " '💪🏿': ':bíceps_pele_escura:',\n",
       " '🦾': ':braço_mecânico:',\n",
       " '🦿': ':perna_mecânica:',\n",
       " '🦵': ':perna:',\n",
       " '🦵🏻': ':perna_pele_clara:',\n",
       " '🦵🏼': ':perna_pele_morena_clara:',\n",
       " '🦵🏽': ':perna_pele_morena:',\n",
       " '🦵🏾': ':perna_pele_morena_escura:',\n",
       " '🦵🏿': ':perna_pele_escura:',\n",
       " '🦶': ':pé:',\n",
       " '🦶🏻': ':pé_pele_clara:',\n",
       " '🦶🏼': ':pé_pele_morena_clara:',\n",
       " '🦶🏽': ':pé_pele_morena:',\n",
       " '🦶🏾': ':pé_pele_morena_escura:',\n",
       " '🦶🏿': ':pé_pele_escura:',\n",
       " '👂': ':orelha:',\n",
       " '👂🏻': ':orelha_pele_clara:',\n",
       " '👂🏼': ':orelha_pele_morena_clara:',\n",
       " '👂🏽': ':orelha_pele_morena:',\n",
       " '👂🏾': ':orelha_pele_morena_escura:',\n",
       " '👂🏿': ':orelha_pele_escura:',\n",
       " '🦻': ':ouvido_com_aparelho_auditivo:',\n",
       " '🦻🏻': ':ouvido_com_aparelho_auditivo_pele_clara:',\n",
       " '🦻🏼': ':ouvido_com_aparelho_auditivo_pele_morena_clara:',\n",
       " '🦻🏽': ':ouvido_com_aparelho_auditivo_pele_morena:',\n",
       " '🦻🏾': ':ouvido_com_aparelho_auditivo_pele_morena_escura:',\n",
       " '🦻🏿': ':ouvido_com_aparelho_auditivo_pele_escura:',\n",
       " '👃': ':nariz:',\n",
       " '👃🏻': ':nariz_pele_clara:',\n",
       " '👃🏼': ':nariz_pele_morena_clara:',\n",
       " '👃🏽': ':nariz_pele_morena:',\n",
       " '👃🏾': ':nariz_pele_morena_escura:',\n",
       " '👃🏿': ':nariz_pele_escura:',\n",
       " '🧠': ':cérebro:',\n",
       " '\\U0001fac0': ':coração_humano:',\n",
       " '\\U0001fac1': ':pulmões:',\n",
       " '🦷': ':dente:',\n",
       " '🦴': ':osso:',\n",
       " '👀': ':olhos:',\n",
       " '👁️': ':olho:',\n",
       " '👅': ':língua:',\n",
       " '👄': ':boca:',\n",
       " '👶': ':bebê:',\n",
       " '👶🏻': ':bebê_pele_clara:',\n",
       " '👶🏼': ':bebê_pele_morena_clara:',\n",
       " '👶🏽': ':bebê_pele_morena:',\n",
       " '👶🏾': ':bebê_pele_morena_escura:',\n",
       " '👶🏿': ':bebê_pele_escura:',\n",
       " '🧒': ':criança:',\n",
       " '🧒🏻': ':criança_pele_clara:',\n",
       " '🧒🏼': ':criança_pele_morena_clara:',\n",
       " '🧒🏽': ':criança_pele_morena:',\n",
       " '🧒🏾': ':criança_pele_morena_escura:',\n",
       " '🧒🏿': ':criança_pele_escura:',\n",
       " '👦': ':menino:',\n",
       " '👦🏻': ':menino_pele_clara:',\n",
       " '👦🏼': ':menino_pele_morena_clara:',\n",
       " '👦🏽': ':menino_pele_morena:',\n",
       " '👦🏾': ':menino_pele_morena_escura:',\n",
       " '👦🏿': ':menino_pele_escura:',\n",
       " '👧': ':menina:',\n",
       " '👧🏻': ':menina_pele_clara:',\n",
       " '👧🏼': ':menina_pele_morena_clara:',\n",
       " '👧🏽': ':menina_pele_morena:',\n",
       " '👧🏾': ':menina_pele_morena_escura:',\n",
       " '👧🏿': ':menina_pele_escura:',\n",
       " '🧑': ':pessoa:',\n",
       " '🧑🏻': ':pessoa_pele_clara:',\n",
       " '🧑🏼': ':pessoa_pele_morena_clara:',\n",
       " '🧑🏽': ':pessoa_pele_morena:',\n",
       " '🧑🏾': ':pessoa_pele_morena_escura:',\n",
       " '🧑🏿': ':pessoa_pele_escura:',\n",
       " '👱': ':pessoa_cabelo_louro:',\n",
       " '👱🏻': ':pessoa_pele_clara_e_cabelo_louro:',\n",
       " '👱🏼': ':pessoa_pele_morena_clara_e_cabelo_louro:',\n",
       " '👱🏽': ':pessoa_pele_morena_e_cabelo_louro:',\n",
       " '👱🏾': ':pessoa_pele_morena_escura_e_cabelo_louro:',\n",
       " '👱🏿': ':pessoa_pele_escura_e_cabelo_louro:',\n",
       " '👨': ':homem:',\n",
       " '👨🏻': ':homem_pele_clara:',\n",
       " '👨🏼': ':homem_pele_morena_clara:',\n",
       " '👨🏽': ':homem_pele_morena:',\n",
       " '👨🏾': ':homem_pele_morena_escura:',\n",
       " '👨🏿': ':homem_pele_escura:',\n",
       " '🧔': ':homem_barba:',\n",
       " '🧔🏻': ':homem_pele_clara_e_barba:',\n",
       " '🧔🏼': ':homem_pele_morena_clara_e_barba:',\n",
       " '🧔🏽': ':homem_pele_morena_e_barba:',\n",
       " '🧔🏾': ':homem_pele_morena_escura_e_barba:',\n",
       " '🧔🏿': ':homem_pele_escura_e_barba:',\n",
       " '👨\\u200d🦰': ':homem_cabelo_vermelho:',\n",
       " '👨🏻\\u200d🦰': ':homem_pele_clara_e_cabelo_vermelho:',\n",
       " '👨🏼\\u200d🦰': ':homem_pele_morena_clara_e_cabelo_vermelho:',\n",
       " '👨🏽\\u200d🦰': ':homem_pele_morena_e_cabelo_vermelho:',\n",
       " '👨🏾\\u200d🦰': ':homem_pele_morena_escura_e_cabelo_vermelho:',\n",
       " '👨🏿\\u200d🦰': ':homem_pele_escura_e_cabelo_vermelho:',\n",
       " '👨\\u200d🦱': ':homem_cabelo_cacheado:',\n",
       " '👨🏻\\u200d🦱': ':homem_pele_clara_e_cabelo_cacheado:',\n",
       " '👨🏼\\u200d🦱': ':homem_pele_morena_clara_e_cabelo_cacheado:',\n",
       " '👨🏽\\u200d🦱': ':homem_pele_morena_e_cabelo_cacheado:',\n",
       " '👨🏾\\u200d🦱': ':homem_pele_morena_escura_e_cabelo_cacheado:',\n",
       " '👨🏿\\u200d🦱': ':homem_pele_escura_e_cabelo_cacheado:',\n",
       " '👨\\u200d🦳': ':homem_cabelo_branco:',\n",
       " '👨🏻\\u200d🦳': ':homem_pele_clara_e_cabelo_branco:',\n",
       " '👨🏼\\u200d🦳': ':homem_pele_morena_clara_e_cabelo_branco:',\n",
       " '👨🏽\\u200d🦳': ':homem_pele_morena_e_cabelo_branco:',\n",
       " '👨🏾\\u200d🦳': ':homem_pele_morena_escura_e_cabelo_branco:',\n",
       " '👨🏿\\u200d🦳': ':homem_pele_escura_e_cabelo_branco:',\n",
       " '👨\\u200d🦲': ':homem_careca:',\n",
       " '👨🏻\\u200d🦲': ':homem_pele_clara_e_careca:',\n",
       " '👨🏼\\u200d🦲': ':homem_pele_morena_clara_e_careca:',\n",
       " '👨🏽\\u200d🦲': ':homem_pele_morena_e_careca:',\n",
       " '👨🏾\\u200d🦲': ':homem_pele_morena_escura_e_careca:',\n",
       " '👨🏿\\u200d🦲': ':homem_pele_escura_e_careca:',\n",
       " '👩': ':mulher:',\n",
       " '👩🏻': ':mulher_pele_clara:',\n",
       " '👩🏼': ':mulher_pele_morena_clara:',\n",
       " '👩🏽': ':mulher_pele_morena:',\n",
       " '👩🏾': ':mulher_pele_morena_escura:',\n",
       " '👩🏿': ':mulher_pele_escura:',\n",
       " '👩\\u200d🦰': ':mulher_cabelo_vermelho:',\n",
       " '👩🏻\\u200d🦰': ':mulher_pele_clara_e_cabelo_vermelho:',\n",
       " '👩🏼\\u200d🦰': ':mulher_pele_morena_clara_e_cabelo_vermelho:',\n",
       " '👩🏽\\u200d🦰': ':mulher_pele_morena_e_cabelo_vermelho:',\n",
       " '👩🏾\\u200d🦰': ':mulher_pele_morena_escura_e_cabelo_vermelho:',\n",
       " '👩🏿\\u200d🦰': ':mulher_pele_escura_e_cabelo_vermelho:',\n",
       " '🧑\\u200d🦰': ':pessoa_cabelo_vermelho:',\n",
       " '🧑🏻\\u200d🦰': ':pessoa_pele_clara_e_cabelo_vermelho:',\n",
       " '🧑🏼\\u200d🦰': ':pessoa_pele_morena_clara_e_cabelo_vermelho:',\n",
       " '🧑🏽\\u200d🦰': ':pessoa_pele_morena_e_cabelo_vermelho:',\n",
       " '🧑🏾\\u200d🦰': ':pessoa_pele_morena_escura_e_cabelo_vermelho:',\n",
       " '🧑🏿\\u200d🦰': ':pessoa_pele_escura_e_cabelo_vermelho:',\n",
       " '👩\\u200d🦱': ':mulher_cabelo_cacheado:',\n",
       " '👩🏻\\u200d🦱': ':mulher_pele_clara_e_cabelo_cacheado:',\n",
       " '👩🏼\\u200d🦱': ':mulher_pele_morena_clara_e_cabelo_cacheado:',\n",
       " '👩🏽\\u200d🦱': ':mulher_pele_morena_e_cabelo_cacheado:',\n",
       " '👩🏾\\u200d🦱': ':mulher_pele_morena_escura_e_cabelo_cacheado:',\n",
       " '👩🏿\\u200d🦱': ':mulher_pele_escura_e_cabelo_cacheado:',\n",
       " '🧑\\u200d🦱': ':pessoa_cabelo_cacheado:',\n",
       " '🧑🏻\\u200d🦱': ':pessoa_pele_clara_e_cabelo_cacheado:',\n",
       " '🧑🏼\\u200d🦱': ':pessoa_pele_morena_clara_e_cabelo_cacheado:',\n",
       " '🧑🏽\\u200d🦱': ':pessoa_pele_morena_e_cabelo_cacheado:',\n",
       " '🧑🏾\\u200d🦱': ':pessoa_pele_morena_escura_e_cabelo_cacheado:',\n",
       " '🧑🏿\\u200d🦱': ':pessoa_pele_escura_e_cabelo_cacheado:',\n",
       " '👩\\u200d🦳': ':mulher_cabelo_branco:',\n",
       " '👩🏻\\u200d🦳': ':mulher_pele_clara_e_cabelo_branco:',\n",
       " '👩🏼\\u200d🦳': ':mulher_pele_morena_clara_e_cabelo_branco:',\n",
       " '👩🏽\\u200d🦳': ':mulher_pele_morena_e_cabelo_branco:',\n",
       " '👩🏾\\u200d🦳': ':mulher_pele_morena_escura_e_cabelo_branco:',\n",
       " '👩🏿\\u200d🦳': ':mulher_pele_escura_e_cabelo_branco:',\n",
       " '🧑\\u200d🦳': ':pessoa_cabelo_branco:',\n",
       " '🧑🏻\\u200d🦳': ':pessoa_pele_clara_e_cabelo_branco:',\n",
       " '🧑🏼\\u200d🦳': ':pessoa_pele_morena_clara_e_cabelo_branco:',\n",
       " '🧑🏽\\u200d🦳': ':pessoa_pele_morena_e_cabelo_branco:',\n",
       " '🧑🏾\\u200d🦳': ':pessoa_pele_morena_escura_e_cabelo_branco:',\n",
       " '🧑🏿\\u200d🦳': ':pessoa_pele_escura_e_cabelo_branco:',\n",
       " '👩\\u200d🦲': ':mulher_careca:',\n",
       " '👩🏻\\u200d🦲': ':mulher_pele_clara_e_careca:',\n",
       " '👩🏼\\u200d🦲': ':mulher_pele_morena_clara_e_careca:',\n",
       " '👩🏽\\u200d🦲': ':mulher_pele_morena_e_careca:',\n",
       " '👩🏾\\u200d🦲': ':mulher_pele_morena_escura_e_careca:',\n",
       " '👩🏿\\u200d🦲': ':mulher_pele_escura_e_careca:',\n",
       " '🧑\\u200d🦲': ':pessoa_careca:',\n",
       " '🧑🏻\\u200d🦲': ':pessoa_pele_clara_e_careca:',\n",
       " '🧑🏼\\u200d🦲': ':pessoa_pele_morena_clara_e_careca:',\n",
       " '🧑🏽\\u200d🦲': ':pessoa_pele_morena_e_careca:',\n",
       " '🧑🏾\\u200d🦲': ':pessoa_pele_morena_escura_e_careca:',\n",
       " '🧑🏿\\u200d🦲': ':pessoa_pele_escura_e_careca:',\n",
       " '👱\\u200d♀️': ':mulher_cabelo_loiro:',\n",
       " '👱🏻\\u200d♀️': ':mulher_pele_clara_e_cabelo_loiro:',\n",
       " '👱🏼\\u200d♀️': ':mulher_pele_morena_clara_e_cabelo_loiro:',\n",
       " '👱🏽\\u200d♀️': ':mulher_pele_morena_e_cabelo_loiro:',\n",
       " '👱🏾\\u200d♀️': ':mulher_pele_morena_escura_e_cabelo_loiro:',\n",
       " '👱🏿\\u200d♀️': ':mulher_pele_escura_e_cabelo_loiro:',\n",
       " '👱\\u200d♂️': ':homem_cabelo_loiro:',\n",
       " '👱🏻\\u200d♂️': ':homem_pele_clara_e_cabelo_loiro:',\n",
       " '👱🏼\\u200d♂️': ':homem_pele_morena_clara_e_cabelo_loiro:',\n",
       " '👱🏽\\u200d♂️': ':homem_pele_morena_e_cabelo_loiro:',\n",
       " '👱🏾\\u200d♂️': ':homem_pele_morena_escura_e_cabelo_loiro:',\n",
       " '👱🏿\\u200d♂️': ':homem_pele_escura_e_cabelo_loiro:',\n",
       " '🧓': ':idoso:',\n",
       " '🧓🏻': ':idoso_pele_clara:',\n",
       " '🧓🏼': ':idoso_pele_morena_clara:',\n",
       " '🧓🏽': ':idoso_pele_morena:',\n",
       " '🧓🏾': ':idoso_pele_morena_escura:',\n",
       " '🧓🏿': ':idoso_pele_escura:',\n",
       " '👴': ':homem_idoso:',\n",
       " '👴🏻': ':homem_idoso_pele_clara:',\n",
       " '👴🏼': ':homem_idoso_pele_morena_clara:',\n",
       " '👴🏽': ':homem_idoso_pele_morena:',\n",
       " '👴🏾': ':homem_idoso_pele_morena_escura:',\n",
       " '👴🏿': ':homem_idoso_pele_escura:',\n",
       " '👵': ':idosa:',\n",
       " '👵🏻': ':idosa_pele_clara:',\n",
       " '👵🏼': ':idosa_pele_morena_clara:',\n",
       " '👵🏽': ':idosa_pele_morena:',\n",
       " '👵🏾': ':idosa_pele_morena_escura:',\n",
       " '👵🏿': ':idosa_pele_escura:',\n",
       " '🙍': ':franzindo_a_sobrancelha:',\n",
       " '🙍🏻': ':franzindo_a_sobrancelha_pele_clara:',\n",
       " '🙍🏼': ':franzindo_a_sobrancelha_pele_morena_clara:',\n",
       " '🙍🏽': ':franzindo_a_sobrancelha_pele_morena:',\n",
       " '🙍🏾': ':franzindo_a_sobrancelha_pele_morena_escura:',\n",
       " '🙍🏿': ':franzindo_a_sobrancelha_pele_escura:',\n",
       " '🙍\\u200d♂️': ':homem_franzindo_a_sobrancelha:',\n",
       " '🙍🏻\\u200d♂️': ':homem_franzindo_a_sobrancelha_pele_clara:',\n",
       " '🙍🏼\\u200d♂️': ':homem_franzindo_a_sobrancelha_pele_morena_clara:',\n",
       " '🙍🏽\\u200d♂️': ':homem_franzindo_a_sobrancelha_pele_morena:',\n",
       " '🙍🏾\\u200d♂️': ':homem_franzindo_a_sobrancelha_pele_morena_escura:',\n",
       " '🙍🏿\\u200d♂️': ':homem_franzindo_a_sobrancelha_pele_escura:',\n",
       " '🙍\\u200d♀️': ':mulher_franzindo_a_sobrancelha:',\n",
       " '🙍🏻\\u200d♀️': ':mulher_franzindo_a_sobrancelha_pele_clara:',\n",
       " '🙍🏼\\u200d♀️': ':mulher_franzindo_a_sobrancelha_pele_morena_clara:',\n",
       " '🙍🏽\\u200d♀️': ':mulher_franzindo_a_sobrancelha_pele_morena:',\n",
       " '🙍🏾\\u200d♀️': ':mulher_franzindo_a_sobrancelha_pele_morena_escura:',\n",
       " '🙍🏿\\u200d♀️': ':mulher_franzindo_a_sobrancelha_pele_escura:',\n",
       " '🙎': ':pessoa_fazendo_bico:',\n",
       " '🙎🏻': ':pessoa_fazendo_bico_pele_clara:',\n",
       " '🙎🏼': ':pessoa_fazendo_bico_pele_morena_clara:',\n",
       " '🙎🏽': ':pessoa_fazendo_bico_pele_morena:',\n",
       " '🙎🏾': ':pessoa_fazendo_bico_pele_morena_escura:',\n",
       " '🙎🏿': ':pessoa_fazendo_bico_pele_escura:',\n",
       " '🙎\\u200d♂️': ':homem_fazendo_bico:',\n",
       " '🙎🏻\\u200d♂️': ':homem_fazendo_bico_pele_clara:',\n",
       " '🙎🏼\\u200d♂️': ':homem_fazendo_bico_pele_morena_clara:',\n",
       " '🙎🏽\\u200d♂️': ':homem_fazendo_bico_pele_morena:',\n",
       " '🙎🏾\\u200d♂️': ':homem_fazendo_bico_pele_morena_escura:',\n",
       " '🙎🏿\\u200d♂️': ':homem_fazendo_bico_pele_escura:',\n",
       " '🙎\\u200d♀️': ':mulher_fazendo_bico:',\n",
       " '🙎🏻\\u200d♀️': ':mulher_fazendo_bico_pele_clara:',\n",
       " '🙎🏼\\u200d♀️': ':mulher_fazendo_bico_pele_morena_clara:',\n",
       " '🙎🏽\\u200d♀️': ':mulher_fazendo_bico_pele_morena:',\n",
       " '🙎🏾\\u200d♀️': ':mulher_fazendo_bico_pele_morena_escura:',\n",
       " '🙎🏿\\u200d♀️': ':mulher_fazendo_bico_pele_escura:',\n",
       " '🙅': ':pessoa_fazendo_gesto_de_“não”:',\n",
       " '🙅🏻': ':pessoa_fazendo_gesto_de_“não”_pele_clara:',\n",
       " '🙅🏼': ':pessoa_fazendo_gesto_de_“não”_pele_morena_clara:',\n",
       " '🙅🏽': ':pessoa_fazendo_gesto_de_“não”_pele_morena:',\n",
       " '🙅🏾': ':pessoa_fazendo_gesto_de_“não”_pele_morena_escura:',\n",
       " '🙅🏿': ':pessoa_fazendo_gesto_de_“não”_pele_escura:',\n",
       " '🙅\\u200d♂️': ':homem_fazendo_gesto_de_“não”:',\n",
       " '🙅🏻\\u200d♂️': ':homem_fazendo_gesto_de_“não”_pele_clara:',\n",
       " '🙅🏼\\u200d♂️': ':homem_fazendo_gesto_de_“não”_pele_morena_clara:',\n",
       " '🙅🏽\\u200d♂️': ':homem_fazendo_gesto_de_“não”_pele_morena:',\n",
       " '🙅🏾\\u200d♂️': ':homem_fazendo_gesto_de_“não”_pele_morena_escura:',\n",
       " '🙅🏿\\u200d♂️': ':homem_fazendo_gesto_de_“não”_pele_escura:',\n",
       " '🙅\\u200d♀️': ':mulher_fazendo_gesto_de_“não”:',\n",
       " '🙅🏻\\u200d♀️': ':mulher_fazendo_gesto_de_“não”_pele_clara:',\n",
       " '🙅🏼\\u200d♀️': ':mulher_fazendo_gesto_de_“não”_pele_morena_clara:',\n",
       " '🙅🏽\\u200d♀️': ':mulher_fazendo_gesto_de_“não”_pele_morena:',\n",
       " '🙅🏾\\u200d♀️': ':mulher_fazendo_gesto_de_“não”_pele_morena_escura:',\n",
       " '🙅🏿\\u200d♀️': ':mulher_fazendo_gesto_de_“não”_pele_escura:',\n",
       " '🙆': ':pessoa_fazendo_gesto_de_“ok”:',\n",
       " '🙆🏻': ':pessoa_fazendo_gesto_de_“ok”_pele_clara:',\n",
       " '🙆🏼': ':pessoa_fazendo_gesto_de_“ok”_pele_morena_clara:',\n",
       " '🙆🏽': ':pessoa_fazendo_gesto_de_“ok”_pele_morena:',\n",
       " '🙆🏾': ':pessoa_fazendo_gesto_de_“ok”_pele_morena_escura:',\n",
       " '🙆🏿': ':pessoa_fazendo_gesto_de_“ok”_pele_escura:',\n",
       " '🙆\\u200d♂️': ':homem_fazendo_gesto_de_“ok”:',\n",
       " '🙆🏻\\u200d♂️': ':homem_fazendo_gesto_de_“ok”_pele_clara:',\n",
       " '🙆🏼\\u200d♂️': ':homem_fazendo_gesto_de_“ok”_pele_morena_clara:',\n",
       " '🙆🏽\\u200d♂️': ':homem_fazendo_gesto_de_“ok”_pele_morena:',\n",
       " '🙆🏾\\u200d♂️': ':homem_fazendo_gesto_de_“ok”_pele_morena_escura:',\n",
       " '🙆🏿\\u200d♂️': ':homem_fazendo_gesto_de_“ok”_pele_escura:',\n",
       " '🙆\\u200d♀️': ':mulher_fazendo_gesto_de_“ok”:',\n",
       " '🙆🏻\\u200d♀️': ':mulher_fazendo_gesto_de_“ok”_pele_clara:',\n",
       " '🙆🏼\\u200d♀️': ':mulher_fazendo_gesto_de_“ok”_pele_morena_clara:',\n",
       " '🙆🏽\\u200d♀️': ':mulher_fazendo_gesto_de_“ok”_pele_morena:',\n",
       " '🙆🏾\\u200d♀️': ':mulher_fazendo_gesto_de_“ok”_pele_morena_escura:',\n",
       " '🙆🏿\\u200d♀️': ':mulher_fazendo_gesto_de_“ok”_pele_escura:',\n",
       " '💁': ':pessoa_com_a_palma_virada_para_cima:',\n",
       " '💁🏻': ':pessoa_com_a_palma_virada_para_cima_pele_clara:',\n",
       " '💁🏼': ':pessoa_com_a_palma_virada_para_cima_pele_morena_clara:',\n",
       " '💁🏽': ':pessoa_com_a_palma_virada_para_cima_pele_morena:',\n",
       " '💁🏾': ':pessoa_com_a_palma_virada_para_cima_pele_morena_escura:',\n",
       " '💁🏿': ':pessoa_com_a_palma_virada_para_cima_pele_escura:',\n",
       " '💁\\u200d♂️': ':homem_com_a_palma_virada_para_cima:',\n",
       " '💁🏻\\u200d♂️': ':homem_com_a_palma_virada_para_cima_pele_clara:',\n",
       " '💁🏼\\u200d♂️': ':homem_com_a_palma_virada_para_cima_pele_morena_clara:',\n",
       " '💁🏽\\u200d♂️': ':homem_com_a_palma_virada_para_cima_pele_morena:',\n",
       " '💁🏾\\u200d♂️': ':homem_com_a_palma_virada_para_cima_pele_morena_escura:',\n",
       " '💁🏿\\u200d♂️': ':homem_com_a_palma_virada_para_cima_pele_escura:',\n",
       " '💁\\u200d♀️': ':mulher_com_a_palma_virada_para_cima:',\n",
       " '💁🏻\\u200d♀️': ':mulher_com_a_palma_virada_para_cima_pele_clara:',\n",
       " '💁🏼\\u200d♀️': ':mulher_com_a_palma_virada_para_cima_pele_morena_clara:',\n",
       " '💁🏽\\u200d♀️': ':mulher_com_a_palma_virada_para_cima_pele_morena:',\n",
       " '💁🏾\\u200d♀️': ':mulher_com_a_palma_virada_para_cima_pele_morena_escura:',\n",
       " '💁🏿\\u200d♀️': ':mulher_com_a_palma_virada_para_cima_pele_escura:',\n",
       " '🙋': ':pessoa_levantando_a_mão:',\n",
       " '🙋🏻': ':pessoa_levantando_a_mão_pele_clara:',\n",
       " '🙋🏼': ':pessoa_levantando_a_mão_pele_morena_clara:',\n",
       " '🙋🏽': ':pessoa_levantando_a_mão_pele_morena:',\n",
       " '🙋🏾': ':pessoa_levantando_a_mão_pele_morena_escura:',\n",
       " '🙋🏿': ':pessoa_levantando_a_mão_pele_escura:',\n",
       " '🙋\\u200d♂️': ':homem_levantando_a_mão:',\n",
       " '🙋🏻\\u200d♂️': ':homem_levantando_a_mão_pele_clara:',\n",
       " '🙋🏼\\u200d♂️': ':homem_levantando_a_mão_pele_morena_clara:',\n",
       " '🙋🏽\\u200d♂️': ':homem_levantando_a_mão_pele_morena:',\n",
       " '🙋🏾\\u200d♂️': ':homem_levantando_a_mão_pele_morena_escura:',\n",
       " '🙋🏿\\u200d♂️': ':homem_levantando_a_mão_pele_escura:',\n",
       " '🙋\\u200d♀️': ':mulher_levantando_a_mão:',\n",
       " '🙋🏻\\u200d♀️': ':mulher_levantando_a_mão_pele_clara:',\n",
       " '🙋🏼\\u200d♀️': ':mulher_levantando_a_mão_pele_morena_clara:',\n",
       " '🙋🏽\\u200d♀️': ':mulher_levantando_a_mão_pele_morena:',\n",
       " '🙋🏾\\u200d♀️': ':mulher_levantando_a_mão_pele_morena_escura:',\n",
       " '🙋🏿\\u200d♀️': ':mulher_levantando_a_mão_pele_escura:',\n",
       " '🧏': ':pessoa_surda:',\n",
       " '🧏🏻': ':pessoa_surda_pele_clara:',\n",
       " '🧏🏼': ':pessoa_surda_pele_morena_clara:',\n",
       " '🧏🏽': ':pessoa_surda_pele_morena:',\n",
       " '🧏🏾': ':pessoa_surda_pele_morena_escura:',\n",
       " '🧏🏿': ':pessoa_surda_pele_escura:',\n",
       " '🧏\\u200d♂️': ':homem_surdo:',\n",
       " '🧏🏻\\u200d♂️': ':homem_surdo_pele_clara:',\n",
       " '🧏🏼\\u200d♂️': ':homem_surdo_pele_morena_clara:',\n",
       " '🧏🏽\\u200d♂️': ':homem_surdo_pele_morena:',\n",
       " '🧏🏾\\u200d♂️': ':homem_surdo_pele_morena_escura:',\n",
       " '🧏🏿\\u200d♂️': ':homem_surdo_pele_escura:',\n",
       " '🧏\\u200d♀️': ':mulher_surda:',\n",
       " '🧏🏻\\u200d♀️': ':mulher_surda_pele_clara:',\n",
       " '🧏🏼\\u200d♀️': ':mulher_surda_pele_morena_clara:',\n",
       " '🧏🏽\\u200d♀️': ':mulher_surda_pele_morena:',\n",
       " '🧏🏾\\u200d♀️': ':mulher_surda_pele_morena_escura:',\n",
       " '🧏🏿\\u200d♀️': ':mulher_surda_pele_escura:',\n",
       " '🙇': ':pessoa_fazendo_reverência:',\n",
       " '🙇🏻': ':pessoa_fazendo_reverência_pele_clara:',\n",
       " '🙇🏼': ':pessoa_fazendo_reverência_pele_morena_clara:',\n",
       " '🙇🏽': ':pessoa_fazendo_reverência_pele_morena:',\n",
       " '🙇🏾': ':pessoa_fazendo_reverência_pele_morena_escura:',\n",
       " '🙇🏿': ':pessoa_fazendo_reverência_pele_escura:',\n",
       " '🙇\\u200d♂️': ':homem_fazendo_reverência:',\n",
       " '🙇🏻\\u200d♂️': ':homem_fazendo_reverência_pele_clara:',\n",
       " '🙇🏼\\u200d♂️': ':homem_fazendo_reverência_pele_morena_clara:',\n",
       " '🙇🏽\\u200d♂️': ':homem_fazendo_reverência_pele_morena:',\n",
       " '🙇🏾\\u200d♂️': ':homem_fazendo_reverência_pele_morena_escura:',\n",
       " '🙇🏿\\u200d♂️': ':homem_fazendo_reverência_pele_escura:',\n",
       " '🙇\\u200d♀️': ':mulher_fazendo_reverência:',\n",
       " '🙇🏻\\u200d♀️': ':mulher_fazendo_reverência_pele_clara:',\n",
       " '🙇🏼\\u200d♀️': ':mulher_fazendo_reverência_pele_morena_clara:',\n",
       " '🙇🏽\\u200d♀️': ':mulher_fazendo_reverência_pele_morena:',\n",
       " '🙇🏾\\u200d♀️': ':mulher_fazendo_reverência_pele_morena_escura:',\n",
       " '🙇🏿\\u200d♀️': ':mulher_fazendo_reverência_pele_escura:',\n",
       " '🤦': ':pessoa_decepcionada:',\n",
       " '🤦🏻': ':pessoa_decepcionada_pele_clara:',\n",
       " '🤦🏼': ':pessoa_decepcionada_pele_morena_clara:',\n",
       " '🤦🏽': ':pessoa_decepcionada_pele_morena:',\n",
       " '🤦🏾': ':pessoa_decepcionada_pele_morena_escura:',\n",
       " '🤦🏿': ':pessoa_decepcionada_pele_escura:',\n",
       " '🤦\\u200d♂️': ':homem_decepcionado:',\n",
       " '🤦🏻\\u200d♂️': ':homem_decepcionado_pele_clara:',\n",
       " '🤦🏼\\u200d♂️': ':homem_decepcionado_pele_morena_clara:',\n",
       " '🤦🏽\\u200d♂️': ':homem_decepcionado_pele_morena:',\n",
       " '🤦🏾\\u200d♂️': ':homem_decepcionado_pele_morena_escura:',\n",
       " '🤦🏿\\u200d♂️': ':homem_decepcionado_pele_escura:',\n",
       " '🤦\\u200d♀️': ':mulher_decepcionada:',\n",
       " '🤦🏻\\u200d♀️': ':mulher_decepcionada_pele_clara:',\n",
       " '🤦🏼\\u200d♀️': ':mulher_decepcionada_pele_morena_clara:',\n",
       " '🤦🏽\\u200d♀️': ':mulher_decepcionada_pele_morena:',\n",
       " '🤦🏾\\u200d♀️': ':mulher_decepcionada_pele_morena_escura:',\n",
       " '🤦🏿\\u200d♀️': ':mulher_decepcionada_pele_escura:',\n",
       " '🤷': ':pessoa_dando_de_ombros:',\n",
       " '🤷🏻': ':pessoa_dando_de_ombros_pele_clara:',\n",
       " '🤷🏼': ':pessoa_dando_de_ombros_pele_morena_clara:',\n",
       " '🤷🏽': ':pessoa_dando_de_ombros_pele_morena:',\n",
       " '🤷🏾': ':pessoa_dando_de_ombros_pele_morena_escura:',\n",
       " '🤷🏿': ':pessoa_dando_de_ombros_pele_escura:',\n",
       " '🤷\\u200d♂️': ':homem_dando_de_ombros:',\n",
       " '🤷🏻\\u200d♂️': ':homem_dando_de_ombros_pele_clara:',\n",
       " '🤷🏼\\u200d♂️': ':homem_dando_de_ombros_pele_morena_clara:',\n",
       " '🤷🏽\\u200d♂️': ':homem_dando_de_ombros_pele_morena:',\n",
       " '🤷🏾\\u200d♂️': ':homem_dando_de_ombros_pele_morena_escura:',\n",
       " '🤷🏿\\u200d♂️': ':homem_dando_de_ombros_pele_escura:',\n",
       " '🤷\\u200d♀️': ':mulher_dando_de_ombros:',\n",
       " '🤷🏻\\u200d♀️': ':mulher_dando_de_ombros_pele_clara:',\n",
       " '🤷🏼\\u200d♀️': ':mulher_dando_de_ombros_pele_morena_clara:',\n",
       " '🤷🏽\\u200d♀️': ':mulher_dando_de_ombros_pele_morena:',\n",
       " '🤷🏾\\u200d♀️': ':mulher_dando_de_ombros_pele_morena_escura:',\n",
       " '🤷🏿\\u200d♀️': ':mulher_dando_de_ombros_pele_escura:',\n",
       " '🧑\\u200d⚕️': ':profissional_de_saúde:',\n",
       " '🧑🏻\\u200d⚕️': ':profissional_de_saúde_pele_clara:',\n",
       " '🧑🏼\\u200d⚕️': ':profissional_de_saúde_pele_morena_clara:',\n",
       " '🧑🏽\\u200d⚕️': ':profissional_de_saúde_pele_morena:',\n",
       " '🧑🏾\\u200d⚕️': ':profissional_de_saúde_pele_morena_escura:',\n",
       " '🧑🏿\\u200d⚕️': ':profissional_de_saúde_pele_escura:',\n",
       " '👨\\u200d⚕️': ':homem_profissional_da_saúde:',\n",
       " '👨🏻\\u200d⚕️': ':homem_profissional_da_saúde_pele_clara:',\n",
       " '👨🏼\\u200d⚕️': ':homem_profissional_da_saúde_pele_morena_clara:',\n",
       " '👨🏽\\u200d⚕️': ':homem_profissional_da_saúde_pele_morena:',\n",
       " '👨🏾\\u200d⚕️': ':homem_profissional_da_saúde_pele_morena_escura:',\n",
       " '👨🏿\\u200d⚕️': ':homem_profissional_da_saúde_pele_escura:',\n",
       " '👩\\u200d⚕️': ':mulher_profissional_da_saúde:',\n",
       " '👩🏻\\u200d⚕️': ':mulher_profissional_da_saúde_pele_clara:',\n",
       " '👩🏼\\u200d⚕️': ':mulher_profissional_da_saúde_pele_morena_clara:',\n",
       " '👩🏽\\u200d⚕️': ':mulher_profissional_da_saúde_pele_morena:',\n",
       " '👩🏾\\u200d⚕️': ':mulher_profissional_da_saúde_pele_morena_escura:',\n",
       " '👩🏿\\u200d⚕️': ':mulher_profissional_da_saúde_pele_escura:',\n",
       " '🧑\\u200d🎓': ':aluno:',\n",
       " '🧑🏻\\u200d🎓': ':aluno_pele_clara:',\n",
       " '🧑🏼\\u200d🎓': ':aluno_pele_morena_clara:',\n",
       " '🧑🏽\\u200d🎓': ':aluno_pele_morena:',\n",
       " '🧑🏾\\u200d🎓': ':aluno_pele_morena_escura:',\n",
       " '🧑🏿\\u200d🎓': ':aluno_pele_escura:',\n",
       " '👨\\u200d🎓': ':estudante:',\n",
       " '👨🏻\\u200d🎓': ':estudante_pele_clara:',\n",
       " '👨🏼\\u200d🎓': ':estudante_pele_morena_clara:',\n",
       " '👨🏽\\u200d🎓': ':estudante_pele_morena:',\n",
       " '👨🏾\\u200d🎓': ':estudante_pele_morena_escura:',\n",
       " '👨🏿\\u200d🎓': ':estudante_pele_escura:',\n",
       " '👩\\u200d🎓': ':aluna:',\n",
       " '👩🏻\\u200d🎓': ':aluna_pele_clara:',\n",
       " '👩🏼\\u200d🎓': ':aluna_pele_morena_clara:',\n",
       " '👩🏽\\u200d🎓': ':aluna_pele_morena:',\n",
       " '👩🏾\\u200d🎓': ':aluna_pele_morena_escura:',\n",
       " '👩🏿\\u200d🎓': ':aluna_pele_escura:',\n",
       " '🧑\\u200d🏫': ':professora_na_escola:',\n",
       " '🧑🏻\\u200d🏫': ':professora_na_escola_pele_clara:',\n",
       " '🧑🏼\\u200d🏫': ':professora_na_escola_pele_morena_clara:',\n",
       " '🧑🏽\\u200d🏫': ':professora_na_escola_pele_morena:',\n",
       " '🧑🏾\\u200d🏫': ':professora_na_escola_pele_morena_escura:',\n",
       " '🧑🏿\\u200d🏫': ':professora_na_escola_pele_escura:',\n",
       " '👨\\u200d🏫': ':professor:',\n",
       " '👨🏻\\u200d🏫': ':professor_pele_clara:',\n",
       " '👨🏼\\u200d🏫': ':professor_pele_morena_clara:',\n",
       " '👨🏽\\u200d🏫': ':professor_pele_morena:',\n",
       " '👨🏾\\u200d🏫': ':professor_pele_morena_escura:',\n",
       " '👨🏿\\u200d🏫': ':professor_pele_escura:',\n",
       " '👩\\u200d🏫': ':professora:',\n",
       " '👩🏻\\u200d🏫': ':professora_pele_clara:',\n",
       " '👩🏼\\u200d🏫': ':professora_pele_morena_clara:',\n",
       " '👩🏽\\u200d🏫': ':professora_pele_morena:',\n",
       " '👩🏾\\u200d🏫': ':professora_pele_morena_escura:',\n",
       " '👩🏿\\u200d🏫': ':professora_pele_escura:',\n",
       " '🧑\\u200d⚖️': ':juiz_no_tribunal:',\n",
       " '🧑🏻\\u200d⚖️': ':juiz_no_tribunal_pele_clara:',\n",
       " '🧑🏼\\u200d⚖️': ':juiz_no_tribunal_pele_morena_clara:',\n",
       " '🧑🏽\\u200d⚖️': ':juiz_no_tribunal_pele_morena:',\n",
       " '🧑🏾\\u200d⚖️': ':juiz_no_tribunal_pele_morena_escura:',\n",
       " '🧑🏿\\u200d⚖️': ':juiz_no_tribunal_pele_escura:',\n",
       " '👨\\u200d⚖️': ':juiz:',\n",
       " '👨🏻\\u200d⚖️': ':juiz_pele_clara:',\n",
       " '👨🏼\\u200d⚖️': ':juiz_pele_morena_clara:',\n",
       " '👨🏽\\u200d⚖️': ':juiz_pele_morena:',\n",
       " '👨🏾\\u200d⚖️': ':juiz_pele_morena_escura:',\n",
       " '👨🏿\\u200d⚖️': ':juiz_pele_escura:',\n",
       " '👩\\u200d⚖️': ':juíza:',\n",
       " '👩🏻\\u200d⚖️': ':juíza_pele_clara:',\n",
       " '👩🏼\\u200d⚖️': ':juíza_pele_morena_clara:',\n",
       " '👩🏽\\u200d⚖️': ':juíza_pele_morena:',\n",
       " '👩🏾\\u200d⚖️': ':juíza_pele_morena_escura:',\n",
       " '👩🏿\\u200d⚖️': ':juíza_pele_escura:',\n",
       " '🧑\\u200d🌾': ':agricultor:',\n",
       " '🧑🏻\\u200d🌾': ':agricultor_pele_clara:',\n",
       " '🧑🏼\\u200d🌾': ':agricultor_pele_morena_clara:',\n",
       " '🧑🏽\\u200d🌾': ':agricultor_pele_morena:',\n",
       " '🧑🏾\\u200d🌾': ':agricultor_pele_morena_escura:',\n",
       " '🧑🏿\\u200d🌾': ':agricultor_pele_escura:',\n",
       " '👨\\u200d🌾': ':fazendeiro:',\n",
       " '👨🏻\\u200d🌾': ':fazendeiro_pele_clara:',\n",
       " '👨🏼\\u200d🌾': ':fazendeiro_pele_morena_clara:',\n",
       " '👨🏽\\u200d🌾': ':fazendeiro_pele_morena:',\n",
       " '👨🏾\\u200d🌾': ':fazendeiro_pele_morena_escura:',\n",
       " '👨🏿\\u200d🌾': ':fazendeiro_pele_escura:',\n",
       " '👩\\u200d🌾': ':fazendeira:',\n",
       " '👩🏻\\u200d🌾': ':fazendeira_pele_clara:',\n",
       " '👩🏼\\u200d🌾': ':fazendeira_pele_morena_clara:',\n",
       " '👩🏽\\u200d🌾': ':fazendeira_pele_morena:',\n",
       " '👩🏾\\u200d🌾': ':fazendeira_pele_morena_escura:',\n",
       " '👩🏿\\u200d🌾': ':fazendeira_pele_escura:',\n",
       " '🧑\\u200d🍳': ':chef_de_cozinha:',\n",
       " '🧑🏻\\u200d🍳': ':chef_de_cozinha_pele_clara:',\n",
       " '🧑🏼\\u200d🍳': ':chef_de_cozinha_pele_morena_clara:',\n",
       " '🧑🏽\\u200d🍳': ':chef_de_cozinha_pele_morena:',\n",
       " '🧑🏾\\u200d🍳': ':chef_de_cozinha_pele_morena_escura:',\n",
       " '🧑🏿\\u200d🍳': ':chef_de_cozinha_pele_escura:',\n",
       " '👨\\u200d🍳': ':cozinheiro:',\n",
       " '👨🏻\\u200d🍳': ':cozinheiro_pele_clara:',\n",
       " '👨🏼\\u200d🍳': ':cozinheiro_pele_morena_clara:',\n",
       " '👨🏽\\u200d🍳': ':cozinheiro_pele_morena:',\n",
       " '👨🏾\\u200d🍳': ':cozinheiro_pele_morena_escura:',\n",
       " '👨🏿\\u200d🍳': ':cozinheiro_pele_escura:',\n",
       " '👩\\u200d🍳': ':cozinheira:',\n",
       " '👩🏻\\u200d🍳': ':cozinheira_pele_clara:',\n",
       " '👩🏼\\u200d🍳': ':cozinheira_pele_morena_clara:',\n",
       " '👩🏽\\u200d🍳': ':cozinheira_pele_morena:',\n",
       " '👩🏾\\u200d🍳': ':cozinheira_pele_morena_escura:',\n",
       " '👩🏿\\u200d🍳': ':cozinheira_pele_escura:',\n",
       " '🧑\\u200d🔧': ':mecânico_trabalhando:',\n",
       " '🧑🏻\\u200d🔧': ':mecânico_trabalhando_pele_clara:',\n",
       " '🧑🏼\\u200d🔧': ':mecânico_trabalhando_pele_morena_clara:',\n",
       " '🧑🏽\\u200d🔧': ':mecânico_trabalhando_pele_morena:',\n",
       " '🧑🏾\\u200d🔧': ':mecânico_trabalhando_pele_morena_escura:',\n",
       " '🧑🏿\\u200d🔧': ':mecânico_trabalhando_pele_escura:',\n",
       " '👨\\u200d🔧': ':mecânico:',\n",
       " '👨🏻\\u200d🔧': ':mecânico_pele_clara:',\n",
       " '👨🏼\\u200d🔧': ':mecânico_pele_morena_clara:',\n",
       " '👨🏽\\u200d🔧': ':mecânico_pele_morena:',\n",
       " '👨🏾\\u200d🔧': ':mecânico_pele_morena_escura:',\n",
       " '👨🏿\\u200d🔧': ':mecânico_pele_escura:',\n",
       " '👩\\u200d🔧': ':mecânica:',\n",
       " '👩🏻\\u200d🔧': ':mecânica_pele_clara:',\n",
       " '👩🏼\\u200d🔧': ':mecânica_pele_morena_clara:',\n",
       " '👩🏽\\u200d🔧': ':mecânica_pele_morena:',\n",
       " '👩🏾\\u200d🔧': ':mecânica_pele_morena_escura:',\n",
       " '👩🏿\\u200d🔧': ':mecânica_pele_escura:',\n",
       " '🧑\\u200d🏭': ':funcionário_de_fábrica:',\n",
       " '🧑🏻\\u200d🏭': ':funcionário_de_fábrica_pele_clara:',\n",
       " '🧑🏼\\u200d🏭': ':funcionário_de_fábrica_pele_morena_clara:',\n",
       " '🧑🏽\\u200d🏭': ':funcionário_de_fábrica_pele_morena:',\n",
       " '🧑🏾\\u200d🏭': ':funcionário_de_fábrica_pele_morena_escura:',\n",
       " '🧑🏿\\u200d🏭': ':funcionário_de_fábrica_pele_escura:',\n",
       " '👨\\u200d🏭': ':operário:',\n",
       " '👨🏻\\u200d🏭': ':operário_pele_clara:',\n",
       " '👨🏼\\u200d🏭': ':operário_pele_morena_clara:',\n",
       " '👨🏽\\u200d🏭': ':operário_pele_morena:',\n",
       " '👨🏾\\u200d🏭': ':operário_pele_morena_escura:',\n",
       " '👨🏿\\u200d🏭': ':operário_pele_escura:',\n",
       " '👩\\u200d🏭': ':operária:',\n",
       " '👩🏻\\u200d🏭': ':operária_pele_clara:',\n",
       " '👩🏼\\u200d🏭': ':operária_pele_morena_clara:',\n",
       " '👩🏽\\u200d🏭': ':operária_pele_morena:',\n",
       " '👩🏾\\u200d🏭': ':operária_pele_morena_escura:',\n",
       " '👩🏿\\u200d🏭': ':operária_pele_escura:',\n",
       " '🧑\\u200d💼': ':trabalhador_de_escritório:',\n",
       " '🧑🏻\\u200d💼': ':trabalhador_de_escritório_pele_clara:',\n",
       " '🧑🏼\\u200d💼': ':trabalhador_de_escritório_pele_morena_clara:',\n",
       " '🧑🏽\\u200d💼': ':trabalhador_de_escritório_pele_morena:',\n",
       " '🧑🏾\\u200d💼': ':trabalhador_de_escritório_pele_morena_escura:',\n",
       " '🧑🏿\\u200d💼': ':trabalhador_de_escritório_pele_escura:',\n",
       " '👨\\u200d💼': ':funcionário_de_escritório:',\n",
       " '👨🏻\\u200d💼': ':funcionário_de_escritório_pele_clara:',\n",
       " '👨🏼\\u200d💼': ':funcionário_de_escritório_pele_morena_clara:',\n",
       " '👨🏽\\u200d💼': ':funcionário_de_escritório_pele_morena:',\n",
       " '👨🏾\\u200d💼': ':funcionário_de_escritório_pele_morena_escura:',\n",
       " '👨🏿\\u200d💼': ':funcionário_de_escritório_pele_escura:',\n",
       " '👩\\u200d💼': ':funcionária_de_escritório:',\n",
       " '👩🏻\\u200d💼': ':funcionária_de_escritório_pele_clara:',\n",
       " '👩🏼\\u200d💼': ':funcionária_de_escritório_pele_morena_clara:',\n",
       " '👩🏽\\u200d💼': ':funcionária_de_escritório_pele_morena:',\n",
       " '👩🏾\\u200d💼': ':funcionária_de_escritório_pele_morena_escura:',\n",
       " '👩🏿\\u200d💼': ':funcionária_de_escritório_pele_escura:',\n",
       " '🧑\\u200d🔬': ':cientista:',\n",
       " '🧑🏻\\u200d🔬': ':cientista_pele_clara:',\n",
       " '🧑🏼\\u200d🔬': ':cientista_pele_morena_clara:',\n",
       " '🧑🏽\\u200d🔬': ':cientista_pele_morena:',\n",
       " '🧑🏾\\u200d🔬': ':cientista_pele_morena_escura:',\n",
       " '🧑🏿\\u200d🔬': ':cientista_pele_escura:',\n",
       " '👨\\u200d🔬': ':cientista_homem:',\n",
       " '👨🏻\\u200d🔬': ':cientista_homem_pele_clara:',\n",
       " '👨🏼\\u200d🔬': ':cientista_homem_pele_morena_clara:',\n",
       " '👨🏽\\u200d🔬': ':cientista_homem_pele_morena:',\n",
       " '👨🏾\\u200d🔬': ':cientista_homem_pele_morena_escura:',\n",
       " '👨🏿\\u200d🔬': ':cientista_homem_pele_escura:',\n",
       " '👩\\u200d🔬': ':cientista_mulher:',\n",
       " '👩🏻\\u200d🔬': ':cientista_mulher_pele_clara:',\n",
       " '👩🏼\\u200d🔬': ':cientista_mulher_pele_morena_clara:',\n",
       " '👩🏽\\u200d🔬': ':cientista_mulher_pele_morena:',\n",
       " '👩🏾\\u200d🔬': ':cientista_mulher_pele_morena_escura:',\n",
       " '👩🏿\\u200d🔬': ':cientista_mulher_pele_escura:',\n",
       " '🧑\\u200d💻': ':programador:',\n",
       " '🧑🏻\\u200d💻': ':programador_pele_clara:',\n",
       " '🧑🏼\\u200d💻': ':programador_pele_morena_clara:',\n",
       " '🧑🏽\\u200d💻': ':programador_pele_morena:',\n",
       " '🧑🏾\\u200d💻': ':programador_pele_morena_escura:',\n",
       " '🧑🏿\\u200d💻': ':programador_pele_escura:',\n",
       " '👨\\u200d💻': ':tecnólogo:',\n",
       " '👨🏻\\u200d💻': ':tecnólogo_pele_clara:',\n",
       " '👨🏼\\u200d💻': ':tecnólogo_pele_morena_clara:',\n",
       " '👨🏽\\u200d💻': ':tecnólogo_pele_morena:',\n",
       " '👨🏾\\u200d💻': ':tecnólogo_pele_morena_escura:',\n",
       " '👨🏿\\u200d💻': ':tecnólogo_pele_escura:',\n",
       " '👩\\u200d💻': ':tecnóloga:',\n",
       " '👩🏻\\u200d💻': ':tecnóloga_pele_clara:',\n",
       " '👩🏼\\u200d💻': ':tecnóloga_pele_morena_clara:',\n",
       " '👩🏽\\u200d💻': ':tecnóloga_pele_morena:',\n",
       " '👩🏾\\u200d💻': ':tecnóloga_pele_morena_escura:',\n",
       " '👩🏿\\u200d💻': ':tecnóloga_pele_escura:',\n",
       " '🧑\\u200d🎤': ':cantor:',\n",
       " '🧑🏻\\u200d🎤': ':cantor_pele_clara:',\n",
       " '🧑🏼\\u200d🎤': ':cantor_pele_morena_clara:',\n",
       " '🧑🏽\\u200d🎤': ':cantor_pele_morena:',\n",
       " '🧑🏾\\u200d🎤': ':cantor_pele_morena_escura:',\n",
       " '🧑🏿\\u200d🎤': ':cantor_pele_escura:',\n",
       " '👨\\u200d🎤': ':cantor_homem:',\n",
       " '👨🏻\\u200d🎤': ':cantor_homem_pele_clara:',\n",
       " '👨🏼\\u200d🎤': ':cantor_homem_pele_morena_clara:',\n",
       " '👨🏽\\u200d🎤': ':cantor_homem_pele_morena:',\n",
       " '👨🏾\\u200d🎤': ':cantor_homem_pele_morena_escura:',\n",
       " '👨🏿\\u200d🎤': ':cantor_homem_pele_escura:',\n",
       " '👩\\u200d🎤': ':cantora:',\n",
       " '👩🏻\\u200d🎤': ':cantora_pele_clara:',\n",
       " '👩🏼\\u200d🎤': ':cantora_pele_morena_clara:',\n",
       " '👩🏽\\u200d🎤': ':cantora_pele_morena:',\n",
       " '👩🏾\\u200d🎤': ':cantora_pele_morena_escura:',\n",
       " '👩🏿\\u200d🎤': ':cantora_pele_escura:',\n",
       " '🧑\\u200d🎨': ':artista:',\n",
       " '🧑🏻\\u200d🎨': ':artista_pele_clara:',\n",
       " '🧑🏼\\u200d🎨': ':artista_pele_morena_clara:',\n",
       " '🧑🏽\\u200d🎨': ':artista_pele_morena:',\n",
       " '🧑🏾\\u200d🎨': ':artista_pele_morena_escura:',\n",
       " '🧑🏿\\u200d🎨': ':artista_pele_escura:',\n",
       " '👨\\u200d🎨': ':artista_plástico:',\n",
       " '👨🏻\\u200d🎨': ':artista_plástico_pele_clara:',\n",
       " '👨🏼\\u200d🎨': ':artista_plástico_pele_morena_clara:',\n",
       " '👨🏽\\u200d🎨': ':artista_plástico_pele_morena:',\n",
       " '👨🏾\\u200d🎨': ':artista_plástico_pele_morena_escura:',\n",
       " '👨🏿\\u200d🎨': ':artista_plástico_pele_escura:',\n",
       " '👩\\u200d🎨': ':artista_plástica:',\n",
       " '👩🏻\\u200d🎨': ':artista_plástica_pele_clara:',\n",
       " '👩🏼\\u200d🎨': ':artista_plástica_pele_morena_clara:',\n",
       " '👩🏽\\u200d🎨': ':artista_plástica_pele_morena:',\n",
       " '👩🏾\\u200d🎨': ':artista_plástica_pele_morena_escura:',\n",
       " '👩🏿\\u200d🎨': ':artista_plástica_pele_escura:',\n",
       " '🧑\\u200d✈️': ':piloto:',\n",
       " '🧑🏻\\u200d✈️': ':piloto_pele_clara:',\n",
       " '🧑🏼\\u200d✈️': ':piloto_pele_morena_clara:',\n",
       " '🧑🏽\\u200d✈️': ':piloto_pele_morena:',\n",
       " '🧑🏾\\u200d✈️': ':piloto_pele_morena_escura:',\n",
       " '🧑🏿\\u200d✈️': ':piloto_pele_escura:',\n",
       " '👨\\u200d✈️': ':piloto_de_avião_homem:',\n",
       " '👨🏻\\u200d✈️': ':piloto_de_avião_homem_pele_clara:',\n",
       " '👨🏼\\u200d✈️': ':piloto_de_avião_homem_pele_morena_clara:',\n",
       " '👨🏽\\u200d✈️': ':piloto_de_avião_homem_pele_morena:',\n",
       " '👨🏾\\u200d✈️': ':piloto_de_avião_homem_pele_morena_escura:',\n",
       " '👨🏿\\u200d✈️': ':piloto_de_avião_homem_pele_escura:',\n",
       " '👩\\u200d✈️': ':piloto_de_avião_mulher:',\n",
       " '👩🏻\\u200d✈️': ':piloto_de_avião_mulher_pele_clara:',\n",
       " '👩🏼\\u200d✈️': ':piloto_de_avião_mulher_pele_morena_clara:',\n",
       " '👩🏽\\u200d✈️': ':piloto_de_avião_mulher_pele_morena:',\n",
       " '👩🏾\\u200d✈️': ':piloto_de_avião_mulher_pele_morena_escura:',\n",
       " '👩🏿\\u200d✈️': ':piloto_de_avião_mulher_pele_escura:',\n",
       " '🧑\\u200d🚀': ':astronauta:',\n",
       " '🧑🏻\\u200d🚀': ':astronauta_pele_clara:',\n",
       " '🧑🏼\\u200d🚀': ':astronauta_pele_morena_clara:',\n",
       " '🧑🏽\\u200d🚀': ':astronauta_pele_morena:',\n",
       " '🧑🏾\\u200d🚀': ':astronauta_pele_morena_escura:',\n",
       " '🧑🏿\\u200d🚀': ':astronauta_pele_escura:',\n",
       " '👨\\u200d🚀': ':astronauta_homem:',\n",
       " '👨🏻\\u200d🚀': ':astronauta_homem_pele_clara:',\n",
       " '👨🏼\\u200d🚀': ':astronauta_homem_pele_morena_clara:',\n",
       " '👨🏽\\u200d🚀': ':astronauta_homem_pele_morena:',\n",
       " '👨🏾\\u200d🚀': ':astronauta_homem_pele_morena_escura:',\n",
       " '👨🏿\\u200d🚀': ':astronauta_homem_pele_escura:',\n",
       " '👩\\u200d🚀': ':astronauta_mulher:',\n",
       " ...}"
      ]
     },
     "execution_count": 13,
     "metadata": {},
     "output_type": "execute_result"
    }
   ],
   "source": [
    "emoji.UNICODE_EMOJI['pt']"
   ]
  },
  {
   "cell_type": "code",
   "execution_count": 14,
   "metadata": {},
   "outputs": [],
   "source": [
    "def custom_preprocess(text):\n",
    "    text = text.lower()    \n",
    "    for c in text:\n",
    "        if c in string.punctuation:\n",
    "            text = text.replace(c,'')\n",
    "        if c in emoji.UNICODE_EMOJI['pt']:\n",
    "            text = text.replace(c, ' ' + c + ' ')\n",
    "    text = utils.removeStopwords(text)\n",
    "    text = emoji.demojize(text, language = 'pt')\n",
    "    return text     \n",
    "        \n",
    "\n",
    "def get_top_n_ngrams(corpus, ngram = (1,1), n=None):\n",
    "    if type(corpus) == str:\n",
    "        corpus = [corpus]\n",
    "    vec = CountVectorizer(ngram_range = ngram).fit(corpus) #token_pattern = r'[^\\s]+'\n",
    "    bag_of_words = vec.transform(corpus)\n",
    "    sum_words = bag_of_words.sum(axis=0) \n",
    "    words_freq = [(word, sum_words[0, idx]) for word, idx in vec.vocabulary_.items()]\n",
    "    words_freq =sorted(words_freq, key = lambda x: x[1], reverse=True)\n",
    "    return words_freq[:n]\n",
    "\n",
    "def build_ngram_df(corpus, ngram = (1,1), n=None,):\n",
    "    ngrams = get_top_n_ngrams(corpus, ngram, n)\n",
    "    df1 = pd.DataFrame(ngrams, columns = ['ngrams' , 'count'])\n",
    "    df1 = df1.groupby('ngrams').sum()['count'].sort_values(ascending=False)\n",
    "    return df1\n",
    "\n",
    "def plotNgrams(ngrams, col = 'C0', orientation = 'vertical'):\n",
    "    labels = list(ngrams.index)\n",
    "    values = list(ngrams.values)\n",
    "    #\n",
    "    if orientation == 'vertical':\n",
    "        g = sns.barplot(y=labels, x=values, color = col)\n",
    "        for p in g.patches:\n",
    "            g.annotate(format(p.get_width() + 1.5, '.0f'), (p.get_width(), \n",
    "                                                       p.get_y() + p.get_height()/2.), ha = 'center', \n",
    "                       va = 'center', xytext = (10, 0), textcoords = 'offset points')\n",
    "    else:\n",
    "        plt.xticks(values, labels, rotation='vertical')\n",
    "        g = sns.barplot(x=labels, y=values, color = col) \n",
    "        for p in g.patches:\n",
    "            g.annotate(format(p.get_height(), '.0f'), (p.get_x() + p.get_width() / 2., \n",
    "                                                       p.get_height()), ha = 'center', \n",
    "                       va = 'center', xytext = (0, 5), textcoords = 'offset points')"
   ]
  },
  {
   "cell_type": "code",
   "execution_count": 15,
   "metadata": {},
   "outputs": [],
   "source": [
    "df_unique = df[df['misinformation']!=-1].drop_duplicates(subset='text')\n",
    "texts_misinformation = df[df['misinformation']==1]['text']\n",
    "texts_non_misinformation = df[df['misinformation']==0]['text']\n",
    "\n",
    "texts_misinformation = [custom_preprocess(p) for p in texts_misinformation]\n",
    "texts_non_misinformation = [custom_preprocess(p) for p in texts_non_misinformation]"
   ]
  },
  {
   "cell_type": "code",
   "execution_count": 16,
   "metadata": {},
   "outputs": [
    {
     "data": {
      "image/png": "[encoded data removed]",
      "text/plain": [
       "<Figure size 1440x720 with 2 Axes>"
      ]
     },
     "metadata": {},
     "output_type": "display_data"
    }
   ],
   "source": [
    "top_ngrams = 10\n",
    "ngrams_range = (2,2)\n",
    "\n",
    "plt.figure(figsize=(20, 10))\n",
    "#plt.suptitle(\"10 termos frequentes\", fontsize=14)\n",
    "\n",
    "plt.subplot(121)\n",
    "plt.title('desinformação')\n",
    "ngrams_mis = build_ngram_df(texts_misinformation, ngram = ngrams_range, n=top_ngrams)\n",
    "plotNgrams(ngrams_mis, col='C0')\n",
    "\n",
    "plt.subplot(122)\n",
    "plt.title('não-desinformação')\n",
    "ngrams_non = build_ngram_df(texts_non_misinformation, ngram = ngrams_range, n=top_ngrams)\n",
    "plotNgrams(ngrams_non, col='C1')\n",
    "\n",
    "plt.subplots_adjust(left=0.125,\n",
    "                    bottom=0.1, \n",
    "                    right=0.9, \n",
    "                    top=0.95, \n",
    "                    wspace=0.4, \n",
    "                    hspace=0.3)"
   ]
  },
  {
   "cell_type": "markdown",
   "metadata": {},
   "source": [
    "# Timeseries"
   ]
  },
  {
   "cell_type": "code",
   "execution_count": 78,
   "metadata": {},
   "outputs": [
    {
     "data": {
      "text/plain": [
       "Index(['id', 'date', 'hour', 'timestamp', 'ddi', 'country', 'country_iso3',\n",
       "       'ddd', 'state', 'group', 'midia', 'url', 'characters', 'words', 'types',\n",
       "       'viral', 'shares', 'text', 'misinformation'],\n",
       "      dtype='object')"
      ]
     },
     "execution_count": 78,
     "metadata": {},
     "output_type": "execute_result"
    }
   ],
   "source": [
    "df.columns"
   ]
  },
  {
   "cell_type": "code",
   "execution_count": 90,
   "metadata": {},
   "outputs": [],
   "source": [
    "import plotly.express as px\n",
    "import datetime\n",
    "df['timestamp'] = pd.to_datetime(df['timestamp'], format='%d/%m/%y %H:%M')"
   ]
  },
  {
   "cell_type": "code",
   "execution_count": 115,
   "metadata": {},
   "outputs": [
    {
     "data": {
      "text/html": [
       "<div>\n",
       "<style scoped>\n",
       "    .dataframe tbody tr th:only-of-type {\n",
       "        vertical-align: middle;\n",
       "    }\n",
       "\n",
       "    .dataframe tbody tr th {\n",
       "        vertical-align: top;\n",
       "    }\n",
       "\n",
       "    .dataframe thead th {\n",
       "        text-align: right;\n",
       "    }\n",
       "</style>\n",
       "<table border=\"1\" class=\"dataframe\">\n",
       "  <thead>\n",
       "    <tr style=\"text-align: right;\">\n",
       "      <th></th>\n",
       "      <th>id</th>\n",
       "      <th>media móvel</th>\n",
       "    </tr>\n",
       "    <tr>\n",
       "      <th>timestamp</th>\n",
       "      <th></th>\n",
       "      <th></th>\n",
       "    </tr>\n",
       "  </thead>\n",
       "  <tbody>\n",
       "    <tr>\n",
       "      <th>2018-07-02</th>\n",
       "      <td>8</td>\n",
       "      <td>NaN</td>\n",
       "    </tr>\n",
       "    <tr>\n",
       "      <th>2018-07-03</th>\n",
       "      <td>0</td>\n",
       "      <td>NaN</td>\n",
       "    </tr>\n",
       "    <tr>\n",
       "      <th>2018-07-04</th>\n",
       "      <td>0</td>\n",
       "      <td>2.666667</td>\n",
       "    </tr>\n",
       "    <tr>\n",
       "      <th>2018-07-05</th>\n",
       "      <td>0</td>\n",
       "      <td>0.000000</td>\n",
       "    </tr>\n",
       "    <tr>\n",
       "      <th>2018-07-06</th>\n",
       "      <td>0</td>\n",
       "      <td>0.000000</td>\n",
       "    </tr>\n",
       "    <tr>\n",
       "      <th>...</th>\n",
       "      <td>...</td>\n",
       "      <td>...</td>\n",
       "    </tr>\n",
       "    <tr>\n",
       "      <th>2018-10-24</th>\n",
       "      <td>196</td>\n",
       "      <td>187.333333</td>\n",
       "    </tr>\n",
       "    <tr>\n",
       "      <th>2018-10-25</th>\n",
       "      <td>122</td>\n",
       "      <td>163.333333</td>\n",
       "    </tr>\n",
       "    <tr>\n",
       "      <th>2018-10-26</th>\n",
       "      <td>220</td>\n",
       "      <td>179.333333</td>\n",
       "    </tr>\n",
       "    <tr>\n",
       "      <th>2018-10-27</th>\n",
       "      <td>151</td>\n",
       "      <td>164.333333</td>\n",
       "    </tr>\n",
       "    <tr>\n",
       "      <th>2018-10-28</th>\n",
       "      <td>59</td>\n",
       "      <td>143.333333</td>\n",
       "    </tr>\n",
       "  </tbody>\n",
       "</table>\n",
       "<p>119 rows × 2 columns</p>\n",
       "</div>"
      ],
      "text/plain": [
       "             id  media móvel\n",
       "timestamp                   \n",
       "2018-07-02    8          NaN\n",
       "2018-07-03    0          NaN\n",
       "2018-07-04    0     2.666667\n",
       "2018-07-05    0     0.000000\n",
       "2018-07-06    0     0.000000\n",
       "...         ...          ...\n",
       "2018-10-24  196   187.333333\n",
       "2018-10-25  122   163.333333\n",
       "2018-10-26  220   179.333333\n",
       "2018-10-27  151   164.333333\n",
       "2018-10-28   59   143.333333\n",
       "\n",
       "[119 rows x 2 columns]"
      ]
     },
     "execution_count": 115,
     "metadata": {},
     "output_type": "execute_result"
    }
   ],
   "source": [
    "timeseries_non_mis"
   ]
  },
  {
   "cell_type": "code",
   "execution_count": 118,
   "metadata": {},
   "outputs": [
    {
     "data": {
      "application/vnd.plotly.v1+json": {
       "config": {
        "plotlyServerURL": "https://plot.ly"
       },
       "data": [
        {
         "hovertemplate": "<b>%{hovertext}</b><br><br>classe=desinformação<br>data=%{x}<br>mensagens=%{y}<extra></extra>",
         "hovertext": [
          "desinformação",
          "desinformação",
          "desinformação",
          "desinformação",
          "desinformação",
          "desinformação",
          "desinformação",
          "desinformação",
          "desinformação",
          "desinformação",
          "desinformação",
          "desinformação",
          "desinformação",
          "desinformação",
          "desinformação",
          "desinformação",
          "desinformação",
          "desinformação",
          "desinformação",
          "desinformação",
          "desinformação",
          "desinformação",
          "desinformação",
          "desinformação",
          "desinformação",
          "desinformação",
          "desinformação",
          "desinformação",
          "desinformação",
          "desinformação",
          "desinformação",
          "desinformação",
          "desinformação",
          "desinformação",
          "desinformação",
          "desinformação",
          "desinformação",
          "desinformação",
          "desinformação",
          "desinformação",
          "desinformação",
          "desinformação",
          "desinformação",
          "desinformação",
          "desinformação",
          "desinformação",
          "desinformação",
          "desinformação",
          "desinformação",
          "desinformação",
          "desinformação",
          "desinformação",
          "desinformação",
          "desinformação",
          "desinformação",
          "desinformação",
          "desinformação",
          "desinformação",
          "desinformação",
          "desinformação",
          "desinformação",
          "desinformação",
          "desinformação",
          "desinformação",
          "desinformação",
          "desinformação",
          "desinformação",
          "desinformação",
          "desinformação",
          "desinformação",
          "desinformação",
          "desinformação",
          "desinformação",
          "desinformação",
          "desinformação",
          "desinformação",
          "desinformação",
          "desinformação",
          "desinformação",
          "desinformação",
          "desinformação",
          "desinformação",
          "desinformação",
          "desinformação",
          "desinformação",
          "desinformação",
          "desinformação",
          "desinformação",
          "desinformação",
          "desinformação",
          "desinformação",
          "desinformação",
          "desinformação",
          "desinformação",
          "desinformação",
          "desinformação",
          "desinformação",
          "desinformação",
          "desinformação",
          "desinformação",
          "desinformação",
          "desinformação",
          "desinformação",
          "desinformação",
          "desinformação",
          "desinformação",
          "desinformação",
          "desinformação",
          "desinformação",
          "desinformação",
          "desinformação",
          "desinformação",
          "desinformação",
          "desinformação",
          "desinformação",
          "desinformação",
          "desinformação",
          "desinformação",
          "desinformação",
          "desinformação"
         ],
         "legendgroup": "desinformação",
         "line": {
          "color": "#636efa",
          "dash": "solid"
         },
         "mode": "lines",
         "name": "desinformação",
         "orientation": "v",
         "showlegend": true,
         "type": "scatter",
         "x": [
          "2018-07-02T00:00:00",
          "2018-07-03T00:00:00",
          "2018-07-04T00:00:00",
          "2018-07-05T00:00:00",
          "2018-07-06T00:00:00",
          "2018-07-07T00:00:00",
          "2018-07-08T00:00:00",
          "2018-07-09T00:00:00",
          "2018-07-10T00:00:00",
          "2018-07-11T00:00:00",
          "2018-07-12T00:00:00",
          "2018-07-13T00:00:00",
          "2018-07-14T00:00:00",
          "2018-07-15T00:00:00",
          "2018-07-16T00:00:00",
          "2018-07-17T00:00:00",
          "2018-07-18T00:00:00",
          "2018-07-19T00:00:00",
          "2018-07-20T00:00:00",
          "2018-07-21T00:00:00",
          "2018-07-22T00:00:00",
          "2018-07-23T00:00:00",
          "2018-07-24T00:00:00",
          "2018-07-25T00:00:00",
          "2018-07-26T00:00:00",
          "2018-07-27T00:00:00",
          "2018-07-28T00:00:00",
          "2018-07-29T00:00:00",
          "2018-07-30T00:00:00",
          "2018-07-31T00:00:00",
          "2018-08-01T00:00:00",
          "2018-08-02T00:00:00",
          "2018-08-03T00:00:00",
          "2018-08-04T00:00:00",
          "2018-08-05T00:00:00",
          "2018-08-06T00:00:00",
          "2018-08-07T00:00:00",
          "2018-08-08T00:00:00",
          "2018-08-09T00:00:00",
          "2018-08-10T00:00:00",
          "2018-08-11T00:00:00",
          "2018-08-12T00:00:00",
          "2018-08-13T00:00:00",
          "2018-08-14T00:00:00",
          "2018-08-15T00:00:00",
          "2018-08-16T00:00:00",
          "2018-08-17T00:00:00",
          "2018-08-18T00:00:00",
          "2018-08-19T00:00:00",
          "2018-08-20T00:00:00",
          "2018-08-21T00:00:00",
          "2018-08-22T00:00:00",
          "2018-08-23T00:00:00",
          "2018-08-24T00:00:00",
          "2018-08-25T00:00:00",
          "2018-08-26T00:00:00",
          "2018-08-27T00:00:00",
          "2018-08-28T00:00:00",
          "2018-08-29T00:00:00",
          "2018-08-30T00:00:00",
          "2018-08-31T00:00:00",
          "2018-09-01T00:00:00",
          "2018-09-02T00:00:00",
          "2018-09-03T00:00:00",
          "2018-09-04T00:00:00",
          "2018-09-05T00:00:00",
          "2018-09-06T00:00:00",
          "2018-09-07T00:00:00",
          "2018-09-08T00:00:00",
          "2018-09-09T00:00:00",
          "2018-09-10T00:00:00",
          "2018-09-11T00:00:00",
          "2018-09-12T00:00:00",
          "2018-09-13T00:00:00",
          "2018-09-14T00:00:00",
          "2018-09-15T00:00:00",
          "2018-09-16T00:00:00",
          "2018-09-17T00:00:00",
          "2018-09-18T00:00:00",
          "2018-09-19T00:00:00",
          "2018-09-20T00:00:00",
          "2018-09-21T00:00:00",
          "2018-09-22T00:00:00",
          "2018-09-23T00:00:00",
          "2018-09-24T00:00:00",
          "2018-09-25T00:00:00",
          "2018-09-26T00:00:00",
          "2018-09-27T00:00:00",
          "2018-09-28T00:00:00",
          "2018-09-29T00:00:00",
          "2018-09-30T00:00:00",
          "2018-10-01T00:00:00",
          "2018-10-02T00:00:00",
          "2018-10-03T00:00:00",
          "2018-10-04T00:00:00",
          "2018-10-05T00:00:00",
          "2018-10-06T00:00:00",
          "2018-10-07T00:00:00",
          "2018-10-08T00:00:00",
          "2018-10-09T00:00:00",
          "2018-10-10T00:00:00",
          "2018-10-11T00:00:00",
          "2018-10-12T00:00:00",
          "2018-10-13T00:00:00",
          "2018-10-14T00:00:00",
          "2018-10-15T00:00:00",
          "2018-10-16T00:00:00",
          "2018-10-17T00:00:00",
          "2018-10-18T00:00:00",
          "2018-10-19T00:00:00",
          "2018-10-20T00:00:00",
          "2018-10-21T00:00:00",
          "2018-10-22T00:00:00",
          "2018-10-23T00:00:00",
          "2018-10-24T00:00:00",
          "2018-10-25T00:00:00",
          "2018-10-26T00:00:00",
          "2018-10-27T00:00:00",
          "2018-10-28T00:00:00",
          "2018-10-29T00:00:00"
         ],
         "xaxis": "x",
         "y": [
          14,
          0,
          0,
          0,
          0,
          0,
          0,
          0,
          0,
          0,
          0,
          0,
          0,
          0,
          0,
          0,
          0,
          0,
          0,
          0,
          0,
          0,
          0,
          0,
          0,
          0,
          0,
          0,
          0,
          0,
          34,
          4,
          0,
          0,
          0,
          0,
          0,
          0,
          45,
          23,
          34,
          26,
          0,
          0,
          34,
          39,
          54,
          95,
          2,
          0,
          50,
          112,
          122,
          104,
          85,
          61,
          105,
          141,
          133,
          65,
          0,
          101,
          133,
          126,
          147,
          99,
          261,
          215,
          212,
          233,
          203,
          262,
          140,
          94,
          182,
          84,
          159,
          105,
          0,
          0,
          142,
          107,
          83,
          237,
          276,
          203,
          0,
          0,
          0,
          19,
          2,
          0,
          0,
          0,
          0,
          3,
          288,
          519,
          490,
          260,
          385,
          303,
          240,
          194,
          221,
          264,
          244,
          230,
          314,
          273,
          315,
          307,
          302,
          228,
          279,
          169,
          251,
          104,
          21,
          1
         ],
         "yaxis": "y"
        },
        {
         "hovertemplate": "<b>%{hovertext}</b><br><br>classe=não-desinformação<br>data=%{x}<br>mensagens=%{y}<extra></extra>",
         "hovertext": [
          "não-desinformação",
          "não-desinformação",
          "não-desinformação",
          "não-desinformação",
          "não-desinformação",
          "não-desinformação",
          "não-desinformação",
          "não-desinformação",
          "não-desinformação",
          "não-desinformação",
          "não-desinformação",
          "não-desinformação",
          "não-desinformação",
          "não-desinformação",
          "não-desinformação",
          "não-desinformação",
          "não-desinformação",
          "não-desinformação",
          "não-desinformação",
          "não-desinformação",
          "não-desinformação",
          "não-desinformação",
          "não-desinformação",
          "não-desinformação",
          "não-desinformação",
          "não-desinformação",
          "não-desinformação",
          "não-desinformação",
          "não-desinformação",
          "não-desinformação",
          "não-desinformação",
          "não-desinformação",
          "não-desinformação",
          "não-desinformação",
          "não-desinformação",
          "não-desinformação",
          "não-desinformação",
          "não-desinformação",
          "não-desinformação",
          "não-desinformação",
          "não-desinformação",
          "não-desinformação",
          "não-desinformação",
          "não-desinformação",
          "não-desinformação",
          "não-desinformação",
          "não-desinformação",
          "não-desinformação",
          "não-desinformação",
          "não-desinformação",
          "não-desinformação",
          "não-desinformação",
          "não-desinformação",
          "não-desinformação",
          "não-desinformação",
          "não-desinformação",
          "não-desinformação",
          "não-desinformação",
          "não-desinformação",
          "não-desinformação",
          "não-desinformação",
          "não-desinformação",
          "não-desinformação",
          "não-desinformação",
          "não-desinformação",
          "não-desinformação",
          "não-desinformação",
          "não-desinformação",
          "não-desinformação",
          "não-desinformação",
          "não-desinformação",
          "não-desinformação",
          "não-desinformação",
          "não-desinformação",
          "não-desinformação",
          "não-desinformação",
          "não-desinformação",
          "não-desinformação",
          "não-desinformação",
          "não-desinformação",
          "não-desinformação",
          "não-desinformação",
          "não-desinformação",
          "não-desinformação",
          "não-desinformação",
          "não-desinformação",
          "não-desinformação",
          "não-desinformação",
          "não-desinformação",
          "não-desinformação",
          "não-desinformação",
          "não-desinformação",
          "não-desinformação",
          "não-desinformação",
          "não-desinformação",
          "não-desinformação",
          "não-desinformação",
          "não-desinformação",
          "não-desinformação",
          "não-desinformação",
          "não-desinformação",
          "não-desinformação",
          "não-desinformação",
          "não-desinformação",
          "não-desinformação",
          "não-desinformação",
          "não-desinformação",
          "não-desinformação",
          "não-desinformação",
          "não-desinformação",
          "não-desinformação",
          "não-desinformação",
          "não-desinformação",
          "não-desinformação",
          "não-desinformação",
          "não-desinformação",
          "não-desinformação",
          "não-desinformação",
          "não-desinformação"
         ],
         "legendgroup": "não-desinformação",
         "line": {
          "color": "#EF553B",
          "dash": "solid"
         },
         "mode": "lines",
         "name": "não-desinformação",
         "orientation": "v",
         "showlegend": true,
         "type": "scatter",
         "x": [
          "2018-07-02T00:00:00",
          "2018-07-03T00:00:00",
          "2018-07-04T00:00:00",
          "2018-07-05T00:00:00",
          "2018-07-06T00:00:00",
          "2018-07-07T00:00:00",
          "2018-07-08T00:00:00",
          "2018-07-09T00:00:00",
          "2018-07-10T00:00:00",
          "2018-07-11T00:00:00",
          "2018-07-12T00:00:00",
          "2018-07-13T00:00:00",
          "2018-07-14T00:00:00",
          "2018-07-15T00:00:00",
          "2018-07-16T00:00:00",
          "2018-07-17T00:00:00",
          "2018-07-18T00:00:00",
          "2018-07-19T00:00:00",
          "2018-07-20T00:00:00",
          "2018-07-21T00:00:00",
          "2018-07-22T00:00:00",
          "2018-07-23T00:00:00",
          "2018-07-24T00:00:00",
          "2018-07-25T00:00:00",
          "2018-07-26T00:00:00",
          "2018-07-27T00:00:00",
          "2018-07-28T00:00:00",
          "2018-07-29T00:00:00",
          "2018-07-30T00:00:00",
          "2018-07-31T00:00:00",
          "2018-08-01T00:00:00",
          "2018-08-02T00:00:00",
          "2018-08-03T00:00:00",
          "2018-08-04T00:00:00",
          "2018-08-05T00:00:00",
          "2018-08-06T00:00:00",
          "2018-08-07T00:00:00",
          "2018-08-08T00:00:00",
          "2018-08-09T00:00:00",
          "2018-08-10T00:00:00",
          "2018-08-11T00:00:00",
          "2018-08-12T00:00:00",
          "2018-08-13T00:00:00",
          "2018-08-14T00:00:00",
          "2018-08-15T00:00:00",
          "2018-08-16T00:00:00",
          "2018-08-17T00:00:00",
          "2018-08-18T00:00:00",
          "2018-08-19T00:00:00",
          "2018-08-20T00:00:00",
          "2018-08-21T00:00:00",
          "2018-08-22T00:00:00",
          "2018-08-23T00:00:00",
          "2018-08-24T00:00:00",
          "2018-08-25T00:00:00",
          "2018-08-26T00:00:00",
          "2018-08-27T00:00:00",
          "2018-08-28T00:00:00",
          "2018-08-29T00:00:00",
          "2018-08-30T00:00:00",
          "2018-08-31T00:00:00",
          "2018-09-01T00:00:00",
          "2018-09-02T00:00:00",
          "2018-09-03T00:00:00",
          "2018-09-04T00:00:00",
          "2018-09-05T00:00:00",
          "2018-09-06T00:00:00",
          "2018-09-07T00:00:00",
          "2018-09-08T00:00:00",
          "2018-09-09T00:00:00",
          "2018-09-10T00:00:00",
          "2018-09-11T00:00:00",
          "2018-09-12T00:00:00",
          "2018-09-13T00:00:00",
          "2018-09-14T00:00:00",
          "2018-09-15T00:00:00",
          "2018-09-16T00:00:00",
          "2018-09-17T00:00:00",
          "2018-09-18T00:00:00",
          "2018-09-19T00:00:00",
          "2018-09-20T00:00:00",
          "2018-09-21T00:00:00",
          "2018-09-22T00:00:00",
          "2018-09-23T00:00:00",
          "2018-09-24T00:00:00",
          "2018-09-25T00:00:00",
          "2018-09-26T00:00:00",
          "2018-09-27T00:00:00",
          "2018-09-28T00:00:00",
          "2018-09-29T00:00:00",
          "2018-09-30T00:00:00",
          "2018-10-01T00:00:00",
          "2018-10-02T00:00:00",
          "2018-10-03T00:00:00",
          "2018-10-04T00:00:00",
          "2018-10-05T00:00:00",
          "2018-10-06T00:00:00",
          "2018-10-07T00:00:00",
          "2018-10-08T00:00:00",
          "2018-10-09T00:00:00",
          "2018-10-10T00:00:00",
          "2018-10-11T00:00:00",
          "2018-10-12T00:00:00",
          "2018-10-13T00:00:00",
          "2018-10-14T00:00:00",
          "2018-10-15T00:00:00",
          "2018-10-16T00:00:00",
          "2018-10-17T00:00:00",
          "2018-10-18T00:00:00",
          "2018-10-19T00:00:00",
          "2018-10-20T00:00:00",
          "2018-10-21T00:00:00",
          "2018-10-22T00:00:00",
          "2018-10-23T00:00:00",
          "2018-10-24T00:00:00",
          "2018-10-25T00:00:00",
          "2018-10-26T00:00:00",
          "2018-10-27T00:00:00",
          "2018-10-28T00:00:00"
         ],
         "xaxis": "x",
         "y": [
          8,
          0,
          0,
          0,
          0,
          0,
          0,
          0,
          0,
          0,
          0,
          0,
          0,
          0,
          0,
          0,
          0,
          0,
          0,
          0,
          0,
          0,
          0,
          0,
          0,
          0,
          0,
          0,
          0,
          0,
          44,
          12,
          0,
          0,
          0,
          0,
          0,
          0,
          90,
          47,
          62,
          34,
          0,
          0,
          49,
          55,
          93,
          77,
          0,
          0,
          41,
          118,
          132,
          146,
          89,
          38,
          124,
          143,
          190,
          85,
          0,
          115,
          129,
          119,
          146,
          139,
          243,
          145,
          191,
          204,
          249,
          298,
          132,
          78,
          168,
          75,
          118,
          80,
          0,
          0,
          110,
          101,
          69,
          192,
          167,
          158,
          0,
          0,
          0,
          21,
          2,
          0,
          0,
          0,
          0,
          6,
          340,
          491,
          332,
          251,
          272,
          174,
          156,
          171,
          165,
          206,
          151,
          169,
          220,
          191,
          158,
          184,
          194,
          172,
          196,
          122,
          220,
          151,
          59
         ],
         "yaxis": "y"
        }
       ],
       "layout": {
        "legend": {
         "title": {
          "text": "classe"
         },
         "tracegroupgap": 0
        },
        "margin": {
         "t": 60
        },
        "template": {
         "data": {
          "bar": [
           {
            "error_x": {
             "color": "#2a3f5f"
            },
            "error_y": {
             "color": "#2a3f5f"
            },
            "marker": {
             "line": {
              "color": "#E5ECF6",
              "width": 0.5
             }
            },
            "type": "bar"
           }
          ],
          "barpolar": [
           {
            "marker": {
             "line": {
              "color": "#E5ECF6",
              "width": 0.5
             }
            },
            "type": "barpolar"
           }
          ],
          "carpet": [
           {
            "aaxis": {
             "endlinecolor": "#2a3f5f",
             "gridcolor": "white",
             "linecolor": "white",
             "minorgridcolor": "white",
             "startlinecolor": "#2a3f5f"
            },
            "baxis": {
             "endlinecolor": "#2a3f5f",
             "gridcolor": "white",
             "linecolor": "white",
             "minorgridcolor": "white",
             "startlinecolor": "#2a3f5f"
            },
            "type": "carpet"
           }
          ],
          "choropleth": [
           {
            "colorbar": {
             "outlinewidth": 0,
             "ticks": ""
            },
            "type": "choropleth"
           }
          ],
          "contour": [
           {
            "colorbar": {
             "outlinewidth": 0,
             "ticks": ""
            },
            "colorscale": [
             [
              0,
              "#0d0887"
             ],
             [
              0.1111111111111111,
              "#46039f"
             ],
             [
              0.2222222222222222,
              "#7201a8"
             ],
             [
              0.3333333333333333,
              "#9c179e"
             ],
             [
              0.4444444444444444,
              "#bd3786"
             ],
             [
              0.5555555555555556,
              "#d8576b"
             ],
             [
              0.6666666666666666,
              "#ed7953"
             ],
             [
              0.7777777777777778,
              "#fb9f3a"
             ],
             [
              0.8888888888888888,
              "#fdca26"
             ],
             [
              1,
              "#f0f921"
             ]
            ],
            "type": "contour"
           }
          ],
          "contourcarpet": [
           {
            "colorbar": {
             "outlinewidth": 0,
             "ticks": ""
            },
            "type": "contourcarpet"
           }
          ],
          "heatmap": [
           {
            "colorbar": {
             "outlinewidth": 0,
             "ticks": ""
            },
            "colorscale": [
             [
              0,
              "#0d0887"
             ],
             [
              0.1111111111111111,
              "#46039f"
             ],
             [
              0.2222222222222222,
              "#7201a8"
             ],
             [
              0.3333333333333333,
              "#9c179e"
             ],
             [
              0.4444444444444444,
              "#bd3786"
             ],
             [
              0.5555555555555556,
              "#d8576b"
             ],
             [
              0.6666666666666666,
              "#ed7953"
             ],
             [
              0.7777777777777778,
              "#fb9f3a"
             ],
             [
              0.8888888888888888,
              "#fdca26"
             ],
             [
              1,
              "#f0f921"
             ]
            ],
            "type": "heatmap"
           }
          ],
          "heatmapgl": [
           {
            "colorbar": {
             "outlinewidth": 0,
             "ticks": ""
            },
            "colorscale": [
             [
              0,
              "#0d0887"
             ],
             [
              0.1111111111111111,
              "#46039f"
             ],
             [
              0.2222222222222222,
              "#7201a8"
             ],
             [
              0.3333333333333333,
              "#9c179e"
             ],
             [
              0.4444444444444444,
              "#bd3786"
             ],
             [
              0.5555555555555556,
              "#d8576b"
             ],
             [
              0.6666666666666666,
              "#ed7953"
             ],
             [
              0.7777777777777778,
              "#fb9f3a"
             ],
             [
              0.8888888888888888,
              "#fdca26"
             ],
             [
              1,
              "#f0f921"
             ]
            ],
            "type": "heatmapgl"
           }
          ],
          "histogram": [
           {
            "marker": {
             "colorbar": {
              "outlinewidth": 0,
              "ticks": ""
             }
            },
            "type": "histogram"
           }
          ],
          "histogram2d": [
           {
            "colorbar": {
             "outlinewidth": 0,
             "ticks": ""
            },
            "colorscale": [
             [
              0,
              "#0d0887"
             ],
             [
              0.1111111111111111,
              "#46039f"
             ],
             [
              0.2222222222222222,
              "#7201a8"
             ],
             [
              0.3333333333333333,
              "#9c179e"
             ],
             [
              0.4444444444444444,
              "#bd3786"
             ],
             [
              0.5555555555555556,
              "#d8576b"
             ],
             [
              0.6666666666666666,
              "#ed7953"
             ],
             [
              0.7777777777777778,
              "#fb9f3a"
             ],
             [
              0.8888888888888888,
              "#fdca26"
             ],
             [
              1,
              "#f0f921"
             ]
            ],
            "type": "histogram2d"
           }
          ],
          "histogram2dcontour": [
           {
            "colorbar": {
             "outlinewidth": 0,
             "ticks": ""
            },
            "colorscale": [
             [
              0,
              "#0d0887"
             ],
             [
              0.1111111111111111,
              "#46039f"
             ],
             [
              0.2222222222222222,
              "#7201a8"
             ],
             [
              0.3333333333333333,
              "#9c179e"
             ],
             [
              0.4444444444444444,
              "#bd3786"
             ],
             [
              0.5555555555555556,
              "#d8576b"
             ],
             [
              0.6666666666666666,
              "#ed7953"
             ],
             [
              0.7777777777777778,
              "#fb9f3a"
             ],
             [
              0.8888888888888888,
              "#fdca26"
             ],
             [
              1,
              "#f0f921"
             ]
            ],
            "type": "histogram2dcontour"
           }
          ],
          "mesh3d": [
           {
            "colorbar": {
             "outlinewidth": 0,
             "ticks": ""
            },
            "type": "mesh3d"
           }
          ],
          "parcoords": [
           {
            "line": {
             "colorbar": {
              "outlinewidth": 0,
              "ticks": ""
             }
            },
            "type": "parcoords"
           }
          ],
          "pie": [
           {
            "automargin": true,
            "type": "pie"
           }
          ],
          "scatter": [
           {
            "marker": {
             "colorbar": {
              "outlinewidth": 0,
              "ticks": ""
             }
            },
            "type": "scatter"
           }
          ],
          "scatter3d": [
           {
            "line": {
             "colorbar": {
              "outlinewidth": 0,
              "ticks": ""
             }
            },
            "marker": {
             "colorbar": {
              "outlinewidth": 0,
              "ticks": ""
             }
            },
            "type": "scatter3d"
           }
          ],
          "scattercarpet": [
           {
            "marker": {
             "colorbar": {
              "outlinewidth": 0,
              "ticks": ""
             }
            },
            "type": "scattercarpet"
           }
          ],
          "scattergeo": [
           {
            "marker": {
             "colorbar": {
              "outlinewidth": 0,
              "ticks": ""
             }
            },
            "type": "scattergeo"
           }
          ],
          "scattergl": [
           {
            "marker": {
             "colorbar": {
              "outlinewidth": 0,
              "ticks": ""
             }
            },
            "type": "scattergl"
           }
          ],
          "scattermapbox": [
           {
            "marker": {
             "colorbar": {
              "outlinewidth": 0,
              "ticks": ""
             }
            },
            "type": "scattermapbox"
           }
          ],
          "scatterpolar": [
           {
            "marker": {
             "colorbar": {
              "outlinewidth": 0,
              "ticks": ""
             }
            },
            "type": "scatterpolar"
           }
          ],
          "scatterpolargl": [
           {
            "marker": {
             "colorbar": {
              "outlinewidth": 0,
              "ticks": ""
             }
            },
            "type": "scatterpolargl"
           }
          ],
          "scatterternary": [
           {
            "marker": {
             "colorbar": {
              "outlinewidth": 0,
              "ticks": ""
             }
            },
            "type": "scatterternary"
           }
          ],
          "surface": [
           {
            "colorbar": {
             "outlinewidth": 0,
             "ticks": ""
            },
            "colorscale": [
             [
              0,
              "#0d0887"
             ],
             [
              0.1111111111111111,
              "#46039f"
             ],
             [
              0.2222222222222222,
              "#7201a8"
             ],
             [
              0.3333333333333333,
              "#9c179e"
             ],
             [
              0.4444444444444444,
              "#bd3786"
             ],
             [
              0.5555555555555556,
              "#d8576b"
             ],
             [
              0.6666666666666666,
              "#ed7953"
             ],
             [
              0.7777777777777778,
              "#fb9f3a"
             ],
             [
              0.8888888888888888,
              "#fdca26"
             ],
             [
              1,
              "#f0f921"
             ]
            ],
            "type": "surface"
           }
          ],
          "table": [
           {
            "cells": {
             "fill": {
              "color": "#EBF0F8"
             },
             "line": {
              "color": "white"
             }
            },
            "header": {
             "fill": {
              "color": "#C8D4E3"
             },
             "line": {
              "color": "white"
             }
            },
            "type": "table"
           }
          ]
         },
         "layout": {
          "annotationdefaults": {
           "arrowcolor": "#2a3f5f",
           "arrowhead": 0,
           "arrowwidth": 1
          },
          "autotypenumbers": "strict",
          "coloraxis": {
           "colorbar": {
            "outlinewidth": 0,
            "ticks": ""
           }
          },
          "colorscale": {
           "diverging": [
            [
             0,
             "#8e0152"
            ],
            [
             0.1,
             "#c51b7d"
            ],
            [
             0.2,
             "#de77ae"
            ],
            [
             0.3,
             "#f1b6da"
            ],
            [
             0.4,
             "#fde0ef"
            ],
            [
             0.5,
             "#f7f7f7"
            ],
            [
             0.6,
             "#e6f5d0"
            ],
            [
             0.7,
             "#b8e186"
            ],
            [
             0.8,
             "#7fbc41"
            ],
            [
             0.9,
             "#4d9221"
            ],
            [
             1,
             "#276419"
            ]
           ],
           "sequential": [
            [
             0,
             "#0d0887"
            ],
            [
             0.1111111111111111,
             "#46039f"
            ],
            [
             0.2222222222222222,
             "#7201a8"
            ],
            [
             0.3333333333333333,
             "#9c179e"
            ],
            [
             0.4444444444444444,
             "#bd3786"
            ],
            [
             0.5555555555555556,
             "#d8576b"
            ],
            [
             0.6666666666666666,
             "#ed7953"
            ],
            [
             0.7777777777777778,
             "#fb9f3a"
            ],
            [
             0.8888888888888888,
             "#fdca26"
            ],
            [
             1,
             "#f0f921"
            ]
           ],
           "sequentialminus": [
            [
             0,
             "#0d0887"
            ],
            [
             0.1111111111111111,
             "#46039f"
            ],
            [
             0.2222222222222222,
             "#7201a8"
            ],
            [
             0.3333333333333333,
             "#9c179e"
            ],
            [
             0.4444444444444444,
             "#bd3786"
            ],
            [
             0.5555555555555556,
             "#d8576b"
            ],
            [
             0.6666666666666666,
             "#ed7953"
            ],
            [
             0.7777777777777778,
             "#fb9f3a"
            ],
            [
             0.8888888888888888,
             "#fdca26"
            ],
            [
             1,
             "#f0f921"
            ]
           ]
          },
          "colorway": [
           "#636efa",
           "#EF553B",
           "#00cc96",
           "#ab63fa",
           "#FFA15A",
           "#19d3f3",
           "#FF6692",
           "#B6E880",
           "#FF97FF",
           "#FECB52"
          ],
          "font": {
           "color": "#2a3f5f"
          },
          "geo": {
           "bgcolor": "white",
           "lakecolor": "white",
           "landcolor": "#E5ECF6",
           "showlakes": true,
           "showland": true,
           "subunitcolor": "white"
          },
          "hoverlabel": {
           "align": "left"
          },
          "hovermode": "closest",
          "mapbox": {
           "style": "light"
          },
          "paper_bgcolor": "white",
          "plot_bgcolor": "#E5ECF6",
          "polar": {
           "angularaxis": {
            "gridcolor": "white",
            "linecolor": "white",
            "ticks": ""
           },
           "bgcolor": "#E5ECF6",
           "radialaxis": {
            "gridcolor": "white",
            "linecolor": "white",
            "ticks": ""
           }
          },
          "scene": {
           "xaxis": {
            "backgroundcolor": "#E5ECF6",
            "gridcolor": "white",
            "gridwidth": 2,
            "linecolor": "white",
            "showbackground": true,
            "ticks": "",
            "zerolinecolor": "white"
           },
           "yaxis": {
            "backgroundcolor": "#E5ECF6",
            "gridcolor": "white",
            "gridwidth": 2,
            "linecolor": "white",
            "showbackground": true,
            "ticks": "",
            "zerolinecolor": "white"
           },
           "zaxis": {
            "backgroundcolor": "#E5ECF6",
            "gridcolor": "white",
            "gridwidth": 2,
            "linecolor": "white",
            "showbackground": true,
            "ticks": "",
            "zerolinecolor": "white"
           }
          },
          "shapedefaults": {
           "line": {
            "color": "#2a3f5f"
           }
          },
          "ternary": {
           "aaxis": {
            "gridcolor": "white",
            "linecolor": "white",
            "ticks": ""
           },
           "baxis": {
            "gridcolor": "white",
            "linecolor": "white",
            "ticks": ""
           },
           "bgcolor": "#E5ECF6",
           "caxis": {
            "gridcolor": "white",
            "linecolor": "white",
            "ticks": ""
           }
          },
          "title": {
           "x": 0.05
          },
          "xaxis": {
           "automargin": true,
           "gridcolor": "white",
           "linecolor": "white",
           "ticks": "",
           "title": {
            "standoff": 15
           },
           "zerolinecolor": "white",
           "zerolinewidth": 2
          },
          "yaxis": {
           "automargin": true,
           "gridcolor": "white",
           "linecolor": "white",
           "ticks": "",
           "title": {
            "standoff": 15
           },
           "zerolinecolor": "white",
           "zerolinewidth": 2
          }
         }
        },
        "xaxis": {
         "anchor": "y",
         "domain": [
          0,
          1
         ],
         "title": {
          "text": "data"
         }
        },
        "yaxis": {
         "anchor": "x",
         "domain": [
          0,
          1
         ],
         "title": {
          "text": "mensagens"
         }
        }
       }
      },
      "text/html": [
       "<div>                            <div id=\"66b379e0-a414-43be-9154-1d78c7fdf9ca\" class=\"plotly-graph-div\" style=\"height:525px; width:100%;\"></div>            <script type=\"text/javascript\">                require([\"plotly\"], function(Plotly) {                    window.PLOTLYENV=window.PLOTLYENV || {};                                    if (document.getElementById(\"66b379e0-a414-43be-9154-1d78c7fdf9ca\")) {                    Plotly.newPlot(                        \"66b379e0-a414-43be-9154-1d78c7fdf9ca\",                        [{\"hovertemplate\": \"<b>%{hovertext}</b><br><br>classe=desinforma\\u00e7\\u00e3o<br>data=%{x}<br>mensagens=%{y}<extra></extra>\", \"hovertext\": [\"desinforma\\u00e7\\u00e3o\", \"desinforma\\u00e7\\u00e3o\", \"desinforma\\u00e7\\u00e3o\", \"desinforma\\u00e7\\u00e3o\", \"desinforma\\u00e7\\u00e3o\", \"desinforma\\u00e7\\u00e3o\", \"desinforma\\u00e7\\u00e3o\", \"desinforma\\u00e7\\u00e3o\", \"desinforma\\u00e7\\u00e3o\", \"desinforma\\u00e7\\u00e3o\", \"desinforma\\u00e7\\u00e3o\", \"desinforma\\u00e7\\u00e3o\", \"desinforma\\u00e7\\u00e3o\", \"desinforma\\u00e7\\u00e3o\", \"desinforma\\u00e7\\u00e3o\", \"desinforma\\u00e7\\u00e3o\", \"desinforma\\u00e7\\u00e3o\", \"desinforma\\u00e7\\u00e3o\", \"desinforma\\u00e7\\u00e3o\", \"desinforma\\u00e7\\u00e3o\", \"desinforma\\u00e7\\u00e3o\", \"desinforma\\u00e7\\u00e3o\", \"desinforma\\u00e7\\u00e3o\", \"desinforma\\u00e7\\u00e3o\", \"desinforma\\u00e7\\u00e3o\", \"desinforma\\u00e7\\u00e3o\", \"desinforma\\u00e7\\u00e3o\", \"desinforma\\u00e7\\u00e3o\", \"desinforma\\u00e7\\u00e3o\", \"desinforma\\u00e7\\u00e3o\", \"desinforma\\u00e7\\u00e3o\", \"desinforma\\u00e7\\u00e3o\", \"desinforma\\u00e7\\u00e3o\", \"desinforma\\u00e7\\u00e3o\", \"desinforma\\u00e7\\u00e3o\", \"desinforma\\u00e7\\u00e3o\", \"desinforma\\u00e7\\u00e3o\", \"desinforma\\u00e7\\u00e3o\", \"desinforma\\u00e7\\u00e3o\", \"desinforma\\u00e7\\u00e3o\", \"desinforma\\u00e7\\u00e3o\", \"desinforma\\u00e7\\u00e3o\", \"desinforma\\u00e7\\u00e3o\", \"desinforma\\u00e7\\u00e3o\", \"desinforma\\u00e7\\u00e3o\", \"desinforma\\u00e7\\u00e3o\", \"desinforma\\u00e7\\u00e3o\", \"desinforma\\u00e7\\u00e3o\", \"desinforma\\u00e7\\u00e3o\", \"desinforma\\u00e7\\u00e3o\", \"desinforma\\u00e7\\u00e3o\", \"desinforma\\u00e7\\u00e3o\", \"desinforma\\u00e7\\u00e3o\", \"desinforma\\u00e7\\u00e3o\", \"desinforma\\u00e7\\u00e3o\", \"desinforma\\u00e7\\u00e3o\", \"desinforma\\u00e7\\u00e3o\", \"desinforma\\u00e7\\u00e3o\", \"desinforma\\u00e7\\u00e3o\", \"desinforma\\u00e7\\u00e3o\", \"desinforma\\u00e7\\u00e3o\", \"desinforma\\u00e7\\u00e3o\", \"desinforma\\u00e7\\u00e3o\", \"desinforma\\u00e7\\u00e3o\", \"desinforma\\u00e7\\u00e3o\", \"desinforma\\u00e7\\u00e3o\", \"desinforma\\u00e7\\u00e3o\", \"desinforma\\u00e7\\u00e3o\", \"desinforma\\u00e7\\u00e3o\", \"desinforma\\u00e7\\u00e3o\", \"desinforma\\u00e7\\u00e3o\", \"desinforma\\u00e7\\u00e3o\", \"desinforma\\u00e7\\u00e3o\", \"desinforma\\u00e7\\u00e3o\", \"desinforma\\u00e7\\u00e3o\", \"desinforma\\u00e7\\u00e3o\", \"desinforma\\u00e7\\u00e3o\", \"desinforma\\u00e7\\u00e3o\", \"desinforma\\u00e7\\u00e3o\", \"desinforma\\u00e7\\u00e3o\", \"desinforma\\u00e7\\u00e3o\", \"desinforma\\u00e7\\u00e3o\", \"desinforma\\u00e7\\u00e3o\", \"desinforma\\u00e7\\u00e3o\", \"desinforma\\u00e7\\u00e3o\", \"desinforma\\u00e7\\u00e3o\", \"desinforma\\u00e7\\u00e3o\", \"desinforma\\u00e7\\u00e3o\", \"desinforma\\u00e7\\u00e3o\", \"desinforma\\u00e7\\u00e3o\", \"desinforma\\u00e7\\u00e3o\", \"desinforma\\u00e7\\u00e3o\", \"desinforma\\u00e7\\u00e3o\", \"desinforma\\u00e7\\u00e3o\", \"desinforma\\u00e7\\u00e3o\", \"desinforma\\u00e7\\u00e3o\", \"desinforma\\u00e7\\u00e3o\", \"desinforma\\u00e7\\u00e3o\", \"desinforma\\u00e7\\u00e3o\", \"desinforma\\u00e7\\u00e3o\", \"desinforma\\u00e7\\u00e3o\", \"desinforma\\u00e7\\u00e3o\", \"desinforma\\u00e7\\u00e3o\", \"desinforma\\u00e7\\u00e3o\", \"desinforma\\u00e7\\u00e3o\", \"desinforma\\u00e7\\u00e3o\", \"desinforma\\u00e7\\u00e3o\", \"desinforma\\u00e7\\u00e3o\", \"desinforma\\u00e7\\u00e3o\", \"desinforma\\u00e7\\u00e3o\", \"desinforma\\u00e7\\u00e3o\", \"desinforma\\u00e7\\u00e3o\", \"desinforma\\u00e7\\u00e3o\", \"desinforma\\u00e7\\u00e3o\", \"desinforma\\u00e7\\u00e3o\", \"desinforma\\u00e7\\u00e3o\", \"desinforma\\u00e7\\u00e3o\", \"desinforma\\u00e7\\u00e3o\", \"desinforma\\u00e7\\u00e3o\", \"desinforma\\u00e7\\u00e3o\"], \"legendgroup\": \"desinforma\\u00e7\\u00e3o\", \"line\": {\"color\": \"#636efa\", \"dash\": \"solid\"}, \"mode\": \"lines\", \"name\": \"desinforma\\u00e7\\u00e3o\", \"orientation\": \"v\", \"showlegend\": true, \"type\": \"scatter\", \"x\": [\"2018-07-02T00:00:00\", \"2018-07-03T00:00:00\", \"2018-07-04T00:00:00\", \"2018-07-05T00:00:00\", \"2018-07-06T00:00:00\", \"2018-07-07T00:00:00\", \"2018-07-08T00:00:00\", \"2018-07-09T00:00:00\", \"2018-07-10T00:00:00\", \"2018-07-11T00:00:00\", \"2018-07-12T00:00:00\", \"2018-07-13T00:00:00\", \"2018-07-14T00:00:00\", \"2018-07-15T00:00:00\", \"2018-07-16T00:00:00\", \"2018-07-17T00:00:00\", \"2018-07-18T00:00:00\", \"2018-07-19T00:00:00\", \"2018-07-20T00:00:00\", \"2018-07-21T00:00:00\", \"2018-07-22T00:00:00\", \"2018-07-23T00:00:00\", \"2018-07-24T00:00:00\", \"2018-07-25T00:00:00\", \"2018-07-26T00:00:00\", \"2018-07-27T00:00:00\", \"2018-07-28T00:00:00\", \"2018-07-29T00:00:00\", \"2018-07-30T00:00:00\", \"2018-07-31T00:00:00\", \"2018-08-01T00:00:00\", \"2018-08-02T00:00:00\", \"2018-08-03T00:00:00\", \"2018-08-04T00:00:00\", \"2018-08-05T00:00:00\", \"2018-08-06T00:00:00\", \"2018-08-07T00:00:00\", \"2018-08-08T00:00:00\", \"2018-08-09T00:00:00\", \"2018-08-10T00:00:00\", \"2018-08-11T00:00:00\", \"2018-08-12T00:00:00\", \"2018-08-13T00:00:00\", \"2018-08-14T00:00:00\", \"2018-08-15T00:00:00\", \"2018-08-16T00:00:00\", \"2018-08-17T00:00:00\", \"2018-08-18T00:00:00\", \"2018-08-19T00:00:00\", \"2018-08-20T00:00:00\", \"2018-08-21T00:00:00\", \"2018-08-22T00:00:00\", \"2018-08-23T00:00:00\", \"2018-08-24T00:00:00\", \"2018-08-25T00:00:00\", \"2018-08-26T00:00:00\", \"2018-08-27T00:00:00\", \"2018-08-28T00:00:00\", \"2018-08-29T00:00:00\", \"2018-08-30T00:00:00\", \"2018-08-31T00:00:00\", \"2018-09-01T00:00:00\", \"2018-09-02T00:00:00\", \"2018-09-03T00:00:00\", \"2018-09-04T00:00:00\", \"2018-09-05T00:00:00\", \"2018-09-06T00:00:00\", \"2018-09-07T00:00:00\", \"2018-09-08T00:00:00\", \"2018-09-09T00:00:00\", \"2018-09-10T00:00:00\", \"2018-09-11T00:00:00\", \"2018-09-12T00:00:00\", \"2018-09-13T00:00:00\", \"2018-09-14T00:00:00\", \"2018-09-15T00:00:00\", \"2018-09-16T00:00:00\", \"2018-09-17T00:00:00\", \"2018-09-18T00:00:00\", \"2018-09-19T00:00:00\", \"2018-09-20T00:00:00\", \"2018-09-21T00:00:00\", \"2018-09-22T00:00:00\", \"2018-09-23T00:00:00\", \"2018-09-24T00:00:00\", \"2018-09-25T00:00:00\", \"2018-09-26T00:00:00\", \"2018-09-27T00:00:00\", \"2018-09-28T00:00:00\", \"2018-09-29T00:00:00\", \"2018-09-30T00:00:00\", \"2018-10-01T00:00:00\", \"2018-10-02T00:00:00\", \"2018-10-03T00:00:00\", \"2018-10-04T00:00:00\", \"2018-10-05T00:00:00\", \"2018-10-06T00:00:00\", \"2018-10-07T00:00:00\", \"2018-10-08T00:00:00\", \"2018-10-09T00:00:00\", \"2018-10-10T00:00:00\", \"2018-10-11T00:00:00\", \"2018-10-12T00:00:00\", \"2018-10-13T00:00:00\", \"2018-10-14T00:00:00\", \"2018-10-15T00:00:00\", \"2018-10-16T00:00:00\", \"2018-10-17T00:00:00\", \"2018-10-18T00:00:00\", \"2018-10-19T00:00:00\", \"2018-10-20T00:00:00\", \"2018-10-21T00:00:00\", \"2018-10-22T00:00:00\", \"2018-10-23T00:00:00\", \"2018-10-24T00:00:00\", \"2018-10-25T00:00:00\", \"2018-10-26T00:00:00\", \"2018-10-27T00:00:00\", \"2018-10-28T00:00:00\", \"2018-10-29T00:00:00\"], \"xaxis\": \"x\", \"y\": [14, 0, 0, 0, 0, 0, 0, 0, 0, 0, 0, 0, 0, 0, 0, 0, 0, 0, 0, 0, 0, 0, 0, 0, 0, 0, 0, 0, 0, 0, 34, 4, 0, 0, 0, 0, 0, 0, 45, 23, 34, 26, 0, 0, 34, 39, 54, 95, 2, 0, 50, 112, 122, 104, 85, 61, 105, 141, 133, 65, 0, 101, 133, 126, 147, 99, 261, 215, 212, 233, 203, 262, 140, 94, 182, 84, 159, 105, 0, 0, 142, 107, 83, 237, 276, 203, 0, 0, 0, 19, 2, 0, 0, 0, 0, 3, 288, 519, 490, 260, 385, 303, 240, 194, 221, 264, 244, 230, 314, 273, 315, 307, 302, 228, 279, 169, 251, 104, 21, 1], \"yaxis\": \"y\"}, {\"hovertemplate\": \"<b>%{hovertext}</b><br><br>classe=n\\u00e3o-desinforma\\u00e7\\u00e3o<br>data=%{x}<br>mensagens=%{y}<extra></extra>\", \"hovertext\": [\"n\\u00e3o-desinforma\\u00e7\\u00e3o\", \"n\\u00e3o-desinforma\\u00e7\\u00e3o\", \"n\\u00e3o-desinforma\\u00e7\\u00e3o\", \"n\\u00e3o-desinforma\\u00e7\\u00e3o\", \"n\\u00e3o-desinforma\\u00e7\\u00e3o\", \"n\\u00e3o-desinforma\\u00e7\\u00e3o\", \"n\\u00e3o-desinforma\\u00e7\\u00e3o\", \"n\\u00e3o-desinforma\\u00e7\\u00e3o\", \"n\\u00e3o-desinforma\\u00e7\\u00e3o\", \"n\\u00e3o-desinforma\\u00e7\\u00e3o\", \"n\\u00e3o-desinforma\\u00e7\\u00e3o\", \"n\\u00e3o-desinforma\\u00e7\\u00e3o\", \"n\\u00e3o-desinforma\\u00e7\\u00e3o\", \"n\\u00e3o-desinforma\\u00e7\\u00e3o\", \"n\\u00e3o-desinforma\\u00e7\\u00e3o\", \"n\\u00e3o-desinforma\\u00e7\\u00e3o\", \"n\\u00e3o-desinforma\\u00e7\\u00e3o\", \"n\\u00e3o-desinforma\\u00e7\\u00e3o\", \"n\\u00e3o-desinforma\\u00e7\\u00e3o\", \"n\\u00e3o-desinforma\\u00e7\\u00e3o\", \"n\\u00e3o-desinforma\\u00e7\\u00e3o\", \"n\\u00e3o-desinforma\\u00e7\\u00e3o\", \"n\\u00e3o-desinforma\\u00e7\\u00e3o\", \"n\\u00e3o-desinforma\\u00e7\\u00e3o\", \"n\\u00e3o-desinforma\\u00e7\\u00e3o\", \"n\\u00e3o-desinforma\\u00e7\\u00e3o\", \"n\\u00e3o-desinforma\\u00e7\\u00e3o\", \"n\\u00e3o-desinforma\\u00e7\\u00e3o\", \"n\\u00e3o-desinforma\\u00e7\\u00e3o\", \"n\\u00e3o-desinforma\\u00e7\\u00e3o\", \"n\\u00e3o-desinforma\\u00e7\\u00e3o\", \"n\\u00e3o-desinforma\\u00e7\\u00e3o\", \"n\\u00e3o-desinforma\\u00e7\\u00e3o\", \"n\\u00e3o-desinforma\\u00e7\\u00e3o\", \"n\\u00e3o-desinforma\\u00e7\\u00e3o\", \"n\\u00e3o-desinforma\\u00e7\\u00e3o\", \"n\\u00e3o-desinforma\\u00e7\\u00e3o\", \"n\\u00e3o-desinforma\\u00e7\\u00e3o\", \"n\\u00e3o-desinforma\\u00e7\\u00e3o\", \"n\\u00e3o-desinforma\\u00e7\\u00e3o\", \"n\\u00e3o-desinforma\\u00e7\\u00e3o\", \"n\\u00e3o-desinforma\\u00e7\\u00e3o\", \"n\\u00e3o-desinforma\\u00e7\\u00e3o\", \"n\\u00e3o-desinforma\\u00e7\\u00e3o\", \"n\\u00e3o-desinforma\\u00e7\\u00e3o\", \"n\\u00e3o-desinforma\\u00e7\\u00e3o\", \"n\\u00e3o-desinforma\\u00e7\\u00e3o\", \"n\\u00e3o-desinforma\\u00e7\\u00e3o\", \"n\\u00e3o-desinforma\\u00e7\\u00e3o\", \"n\\u00e3o-desinforma\\u00e7\\u00e3o\", \"n\\u00e3o-desinforma\\u00e7\\u00e3o\", \"n\\u00e3o-desinforma\\u00e7\\u00e3o\", \"n\\u00e3o-desinforma\\u00e7\\u00e3o\", \"n\\u00e3o-desinforma\\u00e7\\u00e3o\", \"n\\u00e3o-desinforma\\u00e7\\u00e3o\", \"n\\u00e3o-desinforma\\u00e7\\u00e3o\", \"n\\u00e3o-desinforma\\u00e7\\u00e3o\", \"n\\u00e3o-desinforma\\u00e7\\u00e3o\", \"n\\u00e3o-desinforma\\u00e7\\u00e3o\", \"n\\u00e3o-desinforma\\u00e7\\u00e3o\", \"n\\u00e3o-desinforma\\u00e7\\u00e3o\", \"n\\u00e3o-desinforma\\u00e7\\u00e3o\", \"n\\u00e3o-desinforma\\u00e7\\u00e3o\", \"n\\u00e3o-desinforma\\u00e7\\u00e3o\", \"n\\u00e3o-desinforma\\u00e7\\u00e3o\", \"n\\u00e3o-desinforma\\u00e7\\u00e3o\", \"n\\u00e3o-desinforma\\u00e7\\u00e3o\", \"n\\u00e3o-desinforma\\u00e7\\u00e3o\", \"n\\u00e3o-desinforma\\u00e7\\u00e3o\", \"n\\u00e3o-desinforma\\u00e7\\u00e3o\", \"n\\u00e3o-desinforma\\u00e7\\u00e3o\", \"n\\u00e3o-desinforma\\u00e7\\u00e3o\", \"n\\u00e3o-desinforma\\u00e7\\u00e3o\", \"n\\u00e3o-desinforma\\u00e7\\u00e3o\", \"n\\u00e3o-desinforma\\u00e7\\u00e3o\", \"n\\u00e3o-desinforma\\u00e7\\u00e3o\", \"n\\u00e3o-desinforma\\u00e7\\u00e3o\", \"n\\u00e3o-desinforma\\u00e7\\u00e3o\", \"n\\u00e3o-desinforma\\u00e7\\u00e3o\", \"n\\u00e3o-desinforma\\u00e7\\u00e3o\", \"n\\u00e3o-desinforma\\u00e7\\u00e3o\", \"n\\u00e3o-desinforma\\u00e7\\u00e3o\", \"n\\u00e3o-desinforma\\u00e7\\u00e3o\", \"n\\u00e3o-desinforma\\u00e7\\u00e3o\", \"n\\u00e3o-desinforma\\u00e7\\u00e3o\", \"n\\u00e3o-desinforma\\u00e7\\u00e3o\", \"n\\u00e3o-desinforma\\u00e7\\u00e3o\", \"n\\u00e3o-desinforma\\u00e7\\u00e3o\", \"n\\u00e3o-desinforma\\u00e7\\u00e3o\", \"n\\u00e3o-desinforma\\u00e7\\u00e3o\", \"n\\u00e3o-desinforma\\u00e7\\u00e3o\", \"n\\u00e3o-desinforma\\u00e7\\u00e3o\", \"n\\u00e3o-desinforma\\u00e7\\u00e3o\", \"n\\u00e3o-desinforma\\u00e7\\u00e3o\", \"n\\u00e3o-desinforma\\u00e7\\u00e3o\", \"n\\u00e3o-desinforma\\u00e7\\u00e3o\", \"n\\u00e3o-desinforma\\u00e7\\u00e3o\", \"n\\u00e3o-desinforma\\u00e7\\u00e3o\", \"n\\u00e3o-desinforma\\u00e7\\u00e3o\", \"n\\u00e3o-desinforma\\u00e7\\u00e3o\", \"n\\u00e3o-desinforma\\u00e7\\u00e3o\", \"n\\u00e3o-desinforma\\u00e7\\u00e3o\", \"n\\u00e3o-desinforma\\u00e7\\u00e3o\", \"n\\u00e3o-desinforma\\u00e7\\u00e3o\", \"n\\u00e3o-desinforma\\u00e7\\u00e3o\", \"n\\u00e3o-desinforma\\u00e7\\u00e3o\", \"n\\u00e3o-desinforma\\u00e7\\u00e3o\", \"n\\u00e3o-desinforma\\u00e7\\u00e3o\", \"n\\u00e3o-desinforma\\u00e7\\u00e3o\", \"n\\u00e3o-desinforma\\u00e7\\u00e3o\", \"n\\u00e3o-desinforma\\u00e7\\u00e3o\", \"n\\u00e3o-desinforma\\u00e7\\u00e3o\", \"n\\u00e3o-desinforma\\u00e7\\u00e3o\", \"n\\u00e3o-desinforma\\u00e7\\u00e3o\", \"n\\u00e3o-desinforma\\u00e7\\u00e3o\", \"n\\u00e3o-desinforma\\u00e7\\u00e3o\", \"n\\u00e3o-desinforma\\u00e7\\u00e3o\", \"n\\u00e3o-desinforma\\u00e7\\u00e3o\", \"n\\u00e3o-desinforma\\u00e7\\u00e3o\"], \"legendgroup\": \"n\\u00e3o-desinforma\\u00e7\\u00e3o\", \"line\": {\"color\": \"#EF553B\", \"dash\": \"solid\"}, \"mode\": \"lines\", \"name\": \"n\\u00e3o-desinforma\\u00e7\\u00e3o\", \"orientation\": \"v\", \"showlegend\": true, \"type\": \"scatter\", \"x\": [\"2018-07-02T00:00:00\", \"2018-07-03T00:00:00\", \"2018-07-04T00:00:00\", \"2018-07-05T00:00:00\", \"2018-07-06T00:00:00\", \"2018-07-07T00:00:00\", \"2018-07-08T00:00:00\", \"2018-07-09T00:00:00\", \"2018-07-10T00:00:00\", \"2018-07-11T00:00:00\", \"2018-07-12T00:00:00\", \"2018-07-13T00:00:00\", \"2018-07-14T00:00:00\", \"2018-07-15T00:00:00\", \"2018-07-16T00:00:00\", \"2018-07-17T00:00:00\", \"2018-07-18T00:00:00\", \"2018-07-19T00:00:00\", \"2018-07-20T00:00:00\", \"2018-07-21T00:00:00\", \"2018-07-22T00:00:00\", \"2018-07-23T00:00:00\", \"2018-07-24T00:00:00\", \"2018-07-25T00:00:00\", \"2018-07-26T00:00:00\", \"2018-07-27T00:00:00\", \"2018-07-28T00:00:00\", \"2018-07-29T00:00:00\", \"2018-07-30T00:00:00\", \"2018-07-31T00:00:00\", \"2018-08-01T00:00:00\", \"2018-08-02T00:00:00\", \"2018-08-03T00:00:00\", \"2018-08-04T00:00:00\", \"2018-08-05T00:00:00\", \"2018-08-06T00:00:00\", \"2018-08-07T00:00:00\", \"2018-08-08T00:00:00\", \"2018-08-09T00:00:00\", \"2018-08-10T00:00:00\", \"2018-08-11T00:00:00\", \"2018-08-12T00:00:00\", \"2018-08-13T00:00:00\", \"2018-08-14T00:00:00\", \"2018-08-15T00:00:00\", \"2018-08-16T00:00:00\", \"2018-08-17T00:00:00\", \"2018-08-18T00:00:00\", \"2018-08-19T00:00:00\", \"2018-08-20T00:00:00\", \"2018-08-21T00:00:00\", \"2018-08-22T00:00:00\", \"2018-08-23T00:00:00\", \"2018-08-24T00:00:00\", \"2018-08-25T00:00:00\", \"2018-08-26T00:00:00\", \"2018-08-27T00:00:00\", \"2018-08-28T00:00:00\", \"2018-08-29T00:00:00\", \"2018-08-30T00:00:00\", \"2018-08-31T00:00:00\", \"2018-09-01T00:00:00\", \"2018-09-02T00:00:00\", \"2018-09-03T00:00:00\", \"2018-09-04T00:00:00\", \"2018-09-05T00:00:00\", \"2018-09-06T00:00:00\", \"2018-09-07T00:00:00\", \"2018-09-08T00:00:00\", \"2018-09-09T00:00:00\", \"2018-09-10T00:00:00\", \"2018-09-11T00:00:00\", \"2018-09-12T00:00:00\", \"2018-09-13T00:00:00\", \"2018-09-14T00:00:00\", \"2018-09-15T00:00:00\", \"2018-09-16T00:00:00\", \"2018-09-17T00:00:00\", \"2018-09-18T00:00:00\", \"2018-09-19T00:00:00\", \"2018-09-20T00:00:00\", \"2018-09-21T00:00:00\", \"2018-09-22T00:00:00\", \"2018-09-23T00:00:00\", \"2018-09-24T00:00:00\", \"2018-09-25T00:00:00\", \"2018-09-26T00:00:00\", \"2018-09-27T00:00:00\", \"2018-09-28T00:00:00\", \"2018-09-29T00:00:00\", \"2018-09-30T00:00:00\", \"2018-10-01T00:00:00\", \"2018-10-02T00:00:00\", \"2018-10-03T00:00:00\", \"2018-10-04T00:00:00\", \"2018-10-05T00:00:00\", \"2018-10-06T00:00:00\", \"2018-10-07T00:00:00\", \"2018-10-08T00:00:00\", \"2018-10-09T00:00:00\", \"2018-10-10T00:00:00\", \"2018-10-11T00:00:00\", \"2018-10-12T00:00:00\", \"2018-10-13T00:00:00\", \"2018-10-14T00:00:00\", \"2018-10-15T00:00:00\", \"2018-10-16T00:00:00\", \"2018-10-17T00:00:00\", \"2018-10-18T00:00:00\", \"2018-10-19T00:00:00\", \"2018-10-20T00:00:00\", \"2018-10-21T00:00:00\", \"2018-10-22T00:00:00\", \"2018-10-23T00:00:00\", \"2018-10-24T00:00:00\", \"2018-10-25T00:00:00\", \"2018-10-26T00:00:00\", \"2018-10-27T00:00:00\", \"2018-10-28T00:00:00\"], \"xaxis\": \"x\", \"y\": [8, 0, 0, 0, 0, 0, 0, 0, 0, 0, 0, 0, 0, 0, 0, 0, 0, 0, 0, 0, 0, 0, 0, 0, 0, 0, 0, 0, 0, 0, 44, 12, 0, 0, 0, 0, 0, 0, 90, 47, 62, 34, 0, 0, 49, 55, 93, 77, 0, 0, 41, 118, 132, 146, 89, 38, 124, 143, 190, 85, 0, 115, 129, 119, 146, 139, 243, 145, 191, 204, 249, 298, 132, 78, 168, 75, 118, 80, 0, 0, 110, 101, 69, 192, 167, 158, 0, 0, 0, 21, 2, 0, 0, 0, 0, 6, 340, 491, 332, 251, 272, 174, 156, 171, 165, 206, 151, 169, 220, 191, 158, 184, 194, 172, 196, 122, 220, 151, 59], \"yaxis\": \"y\"}],                        {\"legend\": {\"title\": {\"text\": \"classe\"}, \"tracegroupgap\": 0}, \"margin\": {\"t\": 60}, \"template\": {\"data\": {\"bar\": [{\"error_x\": {\"color\": \"#2a3f5f\"}, \"error_y\": {\"color\": \"#2a3f5f\"}, \"marker\": {\"line\": {\"color\": \"#E5ECF6\", \"width\": 0.5}}, \"type\": \"bar\"}], \"barpolar\": [{\"marker\": {\"line\": {\"color\": \"#E5ECF6\", \"width\": 0.5}}, \"type\": \"barpolar\"}], \"carpet\": [{\"aaxis\": {\"endlinecolor\": \"#2a3f5f\", \"gridcolor\": \"white\", \"linecolor\": \"white\", \"minorgridcolor\": \"white\", \"startlinecolor\": \"#2a3f5f\"}, \"baxis\": {\"endlinecolor\": \"#2a3f5f\", \"gridcolor\": \"white\", \"linecolor\": \"white\", \"minorgridcolor\": \"white\", \"startlinecolor\": \"#2a3f5f\"}, \"type\": \"carpet\"}], \"choropleth\": [{\"colorbar\": {\"outlinewidth\": 0, \"ticks\": \"\"}, \"type\": \"choropleth\"}], \"contour\": [{\"colorbar\": {\"outlinewidth\": 0, \"ticks\": \"\"}, \"colorscale\": [[0.0, \"#0d0887\"], [0.1111111111111111, \"#46039f\"], [0.2222222222222222, \"#7201a8\"], [0.3333333333333333, \"#9c179e\"], [0.4444444444444444, \"#bd3786\"], [0.5555555555555556, \"#d8576b\"], [0.6666666666666666, \"#ed7953\"], [0.7777777777777778, \"#fb9f3a\"], [0.8888888888888888, \"#fdca26\"], [1.0, \"#f0f921\"]], \"type\": \"contour\"}], \"contourcarpet\": [{\"colorbar\": {\"outlinewidth\": 0, \"ticks\": \"\"}, \"type\": \"contourcarpet\"}], \"heatmap\": [{\"colorbar\": {\"outlinewidth\": 0, \"ticks\": \"\"}, \"colorscale\": [[0.0, \"#0d0887\"], [0.1111111111111111, \"#46039f\"], [0.2222222222222222, \"#7201a8\"], [0.3333333333333333, \"#9c179e\"], [0.4444444444444444, \"#bd3786\"], [0.5555555555555556, \"#d8576b\"], [0.6666666666666666, \"#ed7953\"], [0.7777777777777778, \"#fb9f3a\"], [0.8888888888888888, \"#fdca26\"], [1.0, \"#f0f921\"]], \"type\": \"heatmap\"}], \"heatmapgl\": [{\"colorbar\": {\"outlinewidth\": 0, \"ticks\": \"\"}, \"colorscale\": [[0.0, \"#0d0887\"], [0.1111111111111111, \"#46039f\"], [0.2222222222222222, \"#7201a8\"], [0.3333333333333333, \"#9c179e\"], [0.4444444444444444, \"#bd3786\"], [0.5555555555555556, \"#d8576b\"], [0.6666666666666666, \"#ed7953\"], [0.7777777777777778, \"#fb9f3a\"], [0.8888888888888888, \"#fdca26\"], [1.0, \"#f0f921\"]], \"type\": \"heatmapgl\"}], \"histogram\": [{\"marker\": {\"colorbar\": {\"outlinewidth\": 0, \"ticks\": \"\"}}, \"type\": \"histogram\"}], \"histogram2d\": [{\"colorbar\": {\"outlinewidth\": 0, \"ticks\": \"\"}, \"colorscale\": [[0.0, \"#0d0887\"], [0.1111111111111111, \"#46039f\"], [0.2222222222222222, \"#7201a8\"], [0.3333333333333333, \"#9c179e\"], [0.4444444444444444, \"#bd3786\"], [0.5555555555555556, \"#d8576b\"], [0.6666666666666666, \"#ed7953\"], [0.7777777777777778, \"#fb9f3a\"], [0.8888888888888888, \"#fdca26\"], [1.0, \"#f0f921\"]], \"type\": \"histogram2d\"}], \"histogram2dcontour\": [{\"colorbar\": {\"outlinewidth\": 0, \"ticks\": \"\"}, \"colorscale\": [[0.0, \"#0d0887\"], [0.1111111111111111, \"#46039f\"], [0.2222222222222222, \"#7201a8\"], [0.3333333333333333, \"#9c179e\"], [0.4444444444444444, \"#bd3786\"], [0.5555555555555556, \"#d8576b\"], [0.6666666666666666, \"#ed7953\"], [0.7777777777777778, \"#fb9f3a\"], [0.8888888888888888, \"#fdca26\"], [1.0, \"#f0f921\"]], \"type\": \"histogram2dcontour\"}], \"mesh3d\": [{\"colorbar\": {\"outlinewidth\": 0, \"ticks\": \"\"}, \"type\": \"mesh3d\"}], \"parcoords\": [{\"line\": {\"colorbar\": {\"outlinewidth\": 0, \"ticks\": \"\"}}, \"type\": \"parcoords\"}], \"pie\": [{\"automargin\": true, \"type\": \"pie\"}], \"scatter\": [{\"marker\": {\"colorbar\": {\"outlinewidth\": 0, \"ticks\": \"\"}}, \"type\": \"scatter\"}], \"scatter3d\": [{\"line\": {\"colorbar\": {\"outlinewidth\": 0, \"ticks\": \"\"}}, \"marker\": {\"colorbar\": {\"outlinewidth\": 0, \"ticks\": \"\"}}, \"type\": \"scatter3d\"}], \"scattercarpet\": [{\"marker\": {\"colorbar\": {\"outlinewidth\": 0, \"ticks\": \"\"}}, \"type\": \"scattercarpet\"}], \"scattergeo\": [{\"marker\": {\"colorbar\": {\"outlinewidth\": 0, \"ticks\": \"\"}}, \"type\": \"scattergeo\"}], \"scattergl\": [{\"marker\": {\"colorbar\": {\"outlinewidth\": 0, \"ticks\": \"\"}}, \"type\": \"scattergl\"}], \"scattermapbox\": [{\"marker\": {\"colorbar\": {\"outlinewidth\": 0, \"ticks\": \"\"}}, \"type\": \"scattermapbox\"}], \"scatterpolar\": [{\"marker\": {\"colorbar\": {\"outlinewidth\": 0, \"ticks\": \"\"}}, \"type\": \"scatterpolar\"}], \"scatterpolargl\": [{\"marker\": {\"colorbar\": {\"outlinewidth\": 0, \"ticks\": \"\"}}, \"type\": \"scatterpolargl\"}], \"scatterternary\": [{\"marker\": {\"colorbar\": {\"outlinewidth\": 0, \"ticks\": \"\"}}, \"type\": \"scatterternary\"}], \"surface\": [{\"colorbar\": {\"outlinewidth\": 0, \"ticks\": \"\"}, \"colorscale\": [[0.0, \"#0d0887\"], [0.1111111111111111, \"#46039f\"], [0.2222222222222222, \"#7201a8\"], [0.3333333333333333, \"#9c179e\"], [0.4444444444444444, \"#bd3786\"], [0.5555555555555556, \"#d8576b\"], [0.6666666666666666, \"#ed7953\"], [0.7777777777777778, \"#fb9f3a\"], [0.8888888888888888, \"#fdca26\"], [1.0, \"#f0f921\"]], \"type\": \"surface\"}], \"table\": [{\"cells\": {\"fill\": {\"color\": \"#EBF0F8\"}, \"line\": {\"color\": \"white\"}}, \"header\": {\"fill\": {\"color\": \"#C8D4E3\"}, \"line\": {\"color\": \"white\"}}, \"type\": \"table\"}]}, \"layout\": {\"annotationdefaults\": {\"arrowcolor\": \"#2a3f5f\", \"arrowhead\": 0, \"arrowwidth\": 1}, \"autotypenumbers\": \"strict\", \"coloraxis\": {\"colorbar\": {\"outlinewidth\": 0, \"ticks\": \"\"}}, \"colorscale\": {\"diverging\": [[0, \"#8e0152\"], [0.1, \"#c51b7d\"], [0.2, \"#de77ae\"], [0.3, \"#f1b6da\"], [0.4, \"#fde0ef\"], [0.5, \"#f7f7f7\"], [0.6, \"#e6f5d0\"], [0.7, \"#b8e186\"], [0.8, \"#7fbc41\"], [0.9, \"#4d9221\"], [1, \"#276419\"]], \"sequential\": [[0.0, \"#0d0887\"], [0.1111111111111111, \"#46039f\"], [0.2222222222222222, \"#7201a8\"], [0.3333333333333333, \"#9c179e\"], [0.4444444444444444, \"#bd3786\"], [0.5555555555555556, \"#d8576b\"], [0.6666666666666666, \"#ed7953\"], [0.7777777777777778, \"#fb9f3a\"], [0.8888888888888888, \"#fdca26\"], [1.0, \"#f0f921\"]], \"sequentialminus\": [[0.0, \"#0d0887\"], [0.1111111111111111, \"#46039f\"], [0.2222222222222222, \"#7201a8\"], [0.3333333333333333, \"#9c179e\"], [0.4444444444444444, \"#bd3786\"], [0.5555555555555556, \"#d8576b\"], [0.6666666666666666, \"#ed7953\"], [0.7777777777777778, \"#fb9f3a\"], [0.8888888888888888, \"#fdca26\"], [1.0, \"#f0f921\"]]}, \"colorway\": [\"#636efa\", \"#EF553B\", \"#00cc96\", \"#ab63fa\", \"#FFA15A\", \"#19d3f3\", \"#FF6692\", \"#B6E880\", \"#FF97FF\", \"#FECB52\"], \"font\": {\"color\": \"#2a3f5f\"}, \"geo\": {\"bgcolor\": \"white\", \"lakecolor\": \"white\", \"landcolor\": \"#E5ECF6\", \"showlakes\": true, \"showland\": true, \"subunitcolor\": \"white\"}, \"hoverlabel\": {\"align\": \"left\"}, \"hovermode\": \"closest\", \"mapbox\": {\"style\": \"light\"}, \"paper_bgcolor\": \"white\", \"plot_bgcolor\": \"#E5ECF6\", \"polar\": {\"angularaxis\": {\"gridcolor\": \"white\", \"linecolor\": \"white\", \"ticks\": \"\"}, \"bgcolor\": \"#E5ECF6\", \"radialaxis\": {\"gridcolor\": \"white\", \"linecolor\": \"white\", \"ticks\": \"\"}}, \"scene\": {\"xaxis\": {\"backgroundcolor\": \"#E5ECF6\", \"gridcolor\": \"white\", \"gridwidth\": 2, \"linecolor\": \"white\", \"showbackground\": true, \"ticks\": \"\", \"zerolinecolor\": \"white\"}, \"yaxis\": {\"backgroundcolor\": \"#E5ECF6\", \"gridcolor\": \"white\", \"gridwidth\": 2, \"linecolor\": \"white\", \"showbackground\": true, \"ticks\": \"\", \"zerolinecolor\": \"white\"}, \"zaxis\": {\"backgroundcolor\": \"#E5ECF6\", \"gridcolor\": \"white\", \"gridwidth\": 2, \"linecolor\": \"white\", \"showbackground\": true, \"ticks\": \"\", \"zerolinecolor\": \"white\"}}, \"shapedefaults\": {\"line\": {\"color\": \"#2a3f5f\"}}, \"ternary\": {\"aaxis\": {\"gridcolor\": \"white\", \"linecolor\": \"white\", \"ticks\": \"\"}, \"baxis\": {\"gridcolor\": \"white\", \"linecolor\": \"white\", \"ticks\": \"\"}, \"bgcolor\": \"#E5ECF6\", \"caxis\": {\"gridcolor\": \"white\", \"linecolor\": \"white\", \"ticks\": \"\"}}, \"title\": {\"x\": 0.05}, \"xaxis\": {\"automargin\": true, \"gridcolor\": \"white\", \"linecolor\": \"white\", \"ticks\": \"\", \"title\": {\"standoff\": 15}, \"zerolinecolor\": \"white\", \"zerolinewidth\": 2}, \"yaxis\": {\"automargin\": true, \"gridcolor\": \"white\", \"linecolor\": \"white\", \"ticks\": \"\", \"title\": {\"standoff\": 15}, \"zerolinecolor\": \"white\", \"zerolinewidth\": 2}}}, \"xaxis\": {\"anchor\": \"y\", \"domain\": [0.0, 1.0], \"title\": {\"text\": \"data\"}}, \"yaxis\": {\"anchor\": \"x\", \"domain\": [0.0, 1.0], \"title\": {\"text\": \"mensagens\"}}},                        {\"responsive\": true}                    ).then(function(){\n",
       "                            \n",
       "var gd = document.getElementById('66b379e0-a414-43be-9154-1d78c7fdf9ca');\n",
       "var x = new MutationObserver(function (mutations, observer) {{\n",
       "        var display = window.getComputedStyle(gd).display;\n",
       "        if (!display || display === 'none') {{\n",
       "            console.log([gd, 'removed!']);\n",
       "            Plotly.purge(gd);\n",
       "            observer.disconnect();\n",
       "        }}\n",
       "}});\n",
       "\n",
       "// Listen for the removal of the full notebook cells\n",
       "var notebookContainer = gd.closest('#notebook-container');\n",
       "if (notebookContainer) {{\n",
       "    x.observe(notebookContainer, {childList: true});\n",
       "}}\n",
       "\n",
       "// Listen for the clearing of the current output cell\n",
       "var outputEl = gd.closest('.output');\n",
       "if (outputEl) {{\n",
       "    x.observe(outputEl, {childList: true});\n",
       "}}\n",
       "\n",
       "                        })                };                });            </script>        </div>"
      ]
     },
     "metadata": {},
     "output_type": "display_data"
    }
   ],
   "source": [
    "frame = '1D'\n",
    "timeseries_mis = df[df['misinformation']==1].groupby('timestamp').count()['id'].resample(frame).sum().to_frame()\n",
    "timeseries_mis['media móvel'] = timeseries_mis['id'].rolling(window=5).mean()\n",
    "\n",
    "\n",
    "timeseries_non_mis = df[df['misinformation']==0].groupby('timestamp').count()['id'].resample(frame).sum().to_frame()\n",
    "timeseries_non_mis['media móvel'] = timeseries_non_mis['id'].rolling(window=5).mean()\n",
    "\n",
    "\n",
    "df_timeseries = pd.concat([timeseries_mis,timeseries_non_mis])\n",
    "df_timeseries['classe'] = ['desinformação']*len(timeseries_mis) + ['não-desinformação']*len(timeseries_non_mis)\n",
    "df_timeseries.reset_index(level=0, inplace=True)\n",
    "df_timeseries.columns=['data','mensagens', 'média móvel','classe']\n",
    "fig = px.line(df_timeseries, x='data', y='mensagens',\n",
    "              color=\"classe\", line_group=\"classe\", hover_name=\"classe\")\n",
    "fig.show()"
   ]
  },
  {
   "cell_type": "code",
   "execution_count": 119,
   "metadata": {},
   "outputs": [
    {
     "data": {
      "application/vnd.plotly.v1+json": {
       "config": {
        "plotlyServerURL": "https://plot.ly"
       },
       "data": [
        {
         "hovertemplate": "<b>%{hovertext}</b><br><br>classe=desinformação<br>data=%{x}<br>média móvel=%{y}<extra></extra>",
         "hovertext": [
          "desinformação",
          "desinformação",
          "desinformação",
          "desinformação",
          "desinformação",
          "desinformação",
          "desinformação",
          "desinformação",
          "desinformação",
          "desinformação",
          "desinformação",
          "desinformação",
          "desinformação",
          "desinformação",
          "desinformação",
          "desinformação",
          "desinformação",
          "desinformação",
          "desinformação",
          "desinformação",
          "desinformação",
          "desinformação",
          "desinformação",
          "desinformação",
          "desinformação",
          "desinformação",
          "desinformação",
          "desinformação",
          "desinformação",
          "desinformação",
          "desinformação",
          "desinformação",
          "desinformação",
          "desinformação",
          "desinformação",
          "desinformação",
          "desinformação",
          "desinformação",
          "desinformação",
          "desinformação",
          "desinformação",
          "desinformação",
          "desinformação",
          "desinformação",
          "desinformação",
          "desinformação",
          "desinformação",
          "desinformação",
          "desinformação",
          "desinformação",
          "desinformação",
          "desinformação",
          "desinformação",
          "desinformação",
          "desinformação",
          "desinformação",
          "desinformação",
          "desinformação",
          "desinformação",
          "desinformação",
          "desinformação",
          "desinformação",
          "desinformação",
          "desinformação",
          "desinformação",
          "desinformação",
          "desinformação",
          "desinformação",
          "desinformação",
          "desinformação",
          "desinformação",
          "desinformação",
          "desinformação",
          "desinformação",
          "desinformação",
          "desinformação",
          "desinformação",
          "desinformação",
          "desinformação",
          "desinformação",
          "desinformação",
          "desinformação",
          "desinformação",
          "desinformação",
          "desinformação",
          "desinformação",
          "desinformação",
          "desinformação",
          "desinformação",
          "desinformação",
          "desinformação",
          "desinformação",
          "desinformação",
          "desinformação",
          "desinformação",
          "desinformação",
          "desinformação",
          "desinformação",
          "desinformação",
          "desinformação",
          "desinformação",
          "desinformação",
          "desinformação",
          "desinformação",
          "desinformação",
          "desinformação",
          "desinformação",
          "desinformação",
          "desinformação",
          "desinformação",
          "desinformação",
          "desinformação",
          "desinformação",
          "desinformação",
          "desinformação",
          "desinformação",
          "desinformação",
          "desinformação",
          "desinformação",
          "desinformação"
         ],
         "legendgroup": "desinformação",
         "line": {
          "color": "#636efa",
          "dash": "solid"
         },
         "mode": "lines",
         "name": "desinformação",
         "orientation": "v",
         "showlegend": true,
         "type": "scatter",
         "x": [
          "2018-07-02T00:00:00",
          "2018-07-03T00:00:00",
          "2018-07-04T00:00:00",
          "2018-07-05T00:00:00",
          "2018-07-06T00:00:00",
          "2018-07-07T00:00:00",
          "2018-07-08T00:00:00",
          "2018-07-09T00:00:00",
          "2018-07-10T00:00:00",
          "2018-07-11T00:00:00",
          "2018-07-12T00:00:00",
          "2018-07-13T00:00:00",
          "2018-07-14T00:00:00",
          "2018-07-15T00:00:00",
          "2018-07-16T00:00:00",
          "2018-07-17T00:00:00",
          "2018-07-18T00:00:00",
          "2018-07-19T00:00:00",
          "2018-07-20T00:00:00",
          "2018-07-21T00:00:00",
          "2018-07-22T00:00:00",
          "2018-07-23T00:00:00",
          "2018-07-24T00:00:00",
          "2018-07-25T00:00:00",
          "2018-07-26T00:00:00",
          "2018-07-27T00:00:00",
          "2018-07-28T00:00:00",
          "2018-07-29T00:00:00",
          "2018-07-30T00:00:00",
          "2018-07-31T00:00:00",
          "2018-08-01T00:00:00",
          "2018-08-02T00:00:00",
          "2018-08-03T00:00:00",
          "2018-08-04T00:00:00",
          "2018-08-05T00:00:00",
          "2018-08-06T00:00:00",
          "2018-08-07T00:00:00",
          "2018-08-08T00:00:00",
          "2018-08-09T00:00:00",
          "2018-08-10T00:00:00",
          "2018-08-11T00:00:00",
          "2018-08-12T00:00:00",
          "2018-08-13T00:00:00",
          "2018-08-14T00:00:00",
          "2018-08-15T00:00:00",
          "2018-08-16T00:00:00",
          "2018-08-17T00:00:00",
          "2018-08-18T00:00:00",
          "2018-08-19T00:00:00",
          "2018-08-20T00:00:00",
          "2018-08-21T00:00:00",
          "2018-08-22T00:00:00",
          "2018-08-23T00:00:00",
          "2018-08-24T00:00:00",
          "2018-08-25T00:00:00",
          "2018-08-26T00:00:00",
          "2018-08-27T00:00:00",
          "2018-08-28T00:00:00",
          "2018-08-29T00:00:00",
          "2018-08-30T00:00:00",
          "2018-08-31T00:00:00",
          "2018-09-01T00:00:00",
          "2018-09-02T00:00:00",
          "2018-09-03T00:00:00",
          "2018-09-04T00:00:00",
          "2018-09-05T00:00:00",
          "2018-09-06T00:00:00",
          "2018-09-07T00:00:00",
          "2018-09-08T00:00:00",
          "2018-09-09T00:00:00",
          "2018-09-10T00:00:00",
          "2018-09-11T00:00:00",
          "2018-09-12T00:00:00",
          "2018-09-13T00:00:00",
          "2018-09-14T00:00:00",
          "2018-09-15T00:00:00",
          "2018-09-16T00:00:00",
          "2018-09-17T00:00:00",
          "2018-09-18T00:00:00",
          "2018-09-19T00:00:00",
          "2018-09-20T00:00:00",
          "2018-09-21T00:00:00",
          "2018-09-22T00:00:00",
          "2018-09-23T00:00:00",
          "2018-09-24T00:00:00",
          "2018-09-25T00:00:00",
          "2018-09-26T00:00:00",
          "2018-09-27T00:00:00",
          "2018-09-28T00:00:00",
          "2018-09-29T00:00:00",
          "2018-09-30T00:00:00",
          "2018-10-01T00:00:00",
          "2018-10-02T00:00:00",
          "2018-10-03T00:00:00",
          "2018-10-04T00:00:00",
          "2018-10-05T00:00:00",
          "2018-10-06T00:00:00",
          "2018-10-07T00:00:00",
          "2018-10-08T00:00:00",
          "2018-10-09T00:00:00",
          "2018-10-10T00:00:00",
          "2018-10-11T00:00:00",
          "2018-10-12T00:00:00",
          "2018-10-13T00:00:00",
          "2018-10-14T00:00:00",
          "2018-10-15T00:00:00",
          "2018-10-16T00:00:00",
          "2018-10-17T00:00:00",
          "2018-10-18T00:00:00",
          "2018-10-19T00:00:00",
          "2018-10-20T00:00:00",
          "2018-10-21T00:00:00",
          "2018-10-22T00:00:00",
          "2018-10-23T00:00:00",
          "2018-10-24T00:00:00",
          "2018-10-25T00:00:00",
          "2018-10-26T00:00:00",
          "2018-10-27T00:00:00",
          "2018-10-28T00:00:00",
          "2018-10-29T00:00:00"
         ],
         "xaxis": "x",
         "y": [
          null,
          null,
          null,
          null,
          2.8,
          0,
          0,
          0,
          0,
          0,
          0,
          0,
          0,
          0,
          0,
          0,
          0,
          0,
          0,
          0,
          0,
          0,
          0,
          0,
          0,
          0,
          0,
          0,
          0,
          0,
          6.8,
          7.6,
          7.6,
          7.6,
          7.6,
          0.8,
          0,
          0,
          9,
          13.6,
          20.4,
          25.6,
          25.6,
          16.6,
          18.8,
          19.8,
          25.4,
          44.4,
          44.8,
          38,
          40.2,
          51.8,
          57.2,
          77.6,
          94.6,
          96.8,
          95.4,
          99.2,
          105,
          101,
          88.8,
          88,
          86.4,
          85,
          101.4,
          121.2,
          153.2,
          169.6,
          186.8,
          204,
          224.8,
          225,
          210,
          186.4,
          176.2,
          152.4,
          131.8,
          124.8,
          106,
          69.6,
          81.2,
          70.8,
          66.4,
          113.8,
          169,
          181.2,
          159.8,
          143.2,
          95.8,
          44.4,
          4.2,
          4.2,
          4.2,
          4.2,
          0.4,
          0.6,
          58.2,
          162,
          260,
          312,
          388.4,
          391.4,
          335.6,
          276.4,
          268.6,
          244.4,
          232.6,
          230.6,
          254.6,
          265,
          275.2,
          287.8,
          302.2,
          285,
          286.2,
          257,
          245.8,
          206.2,
          164.8,
          109.2
         ],
         "yaxis": "y"
        },
        {
         "hovertemplate": "<b>%{hovertext}</b><br><br>classe=não-desinformação<br>data=%{x}<br>média móvel=%{y}<extra></extra>",
         "hovertext": [
          "não-desinformação",
          "não-desinformação",
          "não-desinformação",
          "não-desinformação",
          "não-desinformação",
          "não-desinformação",
          "não-desinformação",
          "não-desinformação",
          "não-desinformação",
          "não-desinformação",
          "não-desinformação",
          "não-desinformação",
          "não-desinformação",
          "não-desinformação",
          "não-desinformação",
          "não-desinformação",
          "não-desinformação",
          "não-desinformação",
          "não-desinformação",
          "não-desinformação",
          "não-desinformação",
          "não-desinformação",
          "não-desinformação",
          "não-desinformação",
          "não-desinformação",
          "não-desinformação",
          "não-desinformação",
          "não-desinformação",
          "não-desinformação",
          "não-desinformação",
          "não-desinformação",
          "não-desinformação",
          "não-desinformação",
          "não-desinformação",
          "não-desinformação",
          "não-desinformação",
          "não-desinformação",
          "não-desinformação",
          "não-desinformação",
          "não-desinformação",
          "não-desinformação",
          "não-desinformação",
          "não-desinformação",
          "não-desinformação",
          "não-desinformação",
          "não-desinformação",
          "não-desinformação",
          "não-desinformação",
          "não-desinformação",
          "não-desinformação",
          "não-desinformação",
          "não-desinformação",
          "não-desinformação",
          "não-desinformação",
          "não-desinformação",
          "não-desinformação",
          "não-desinformação",
          "não-desinformação",
          "não-desinformação",
          "não-desinformação",
          "não-desinformação",
          "não-desinformação",
          "não-desinformação",
          "não-desinformação",
          "não-desinformação",
          "não-desinformação",
          "não-desinformação",
          "não-desinformação",
          "não-desinformação",
          "não-desinformação",
          "não-desinformação",
          "não-desinformação",
          "não-desinformação",
          "não-desinformação",
          "não-desinformação",
          "não-desinformação",
          "não-desinformação",
          "não-desinformação",
          "não-desinformação",
          "não-desinformação",
          "não-desinformação",
          "não-desinformação",
          "não-desinformação",
          "não-desinformação",
          "não-desinformação",
          "não-desinformação",
          "não-desinformação",
          "não-desinformação",
          "não-desinformação",
          "não-desinformação",
          "não-desinformação",
          "não-desinformação",
          "não-desinformação",
          "não-desinformação",
          "não-desinformação",
          "não-desinformação",
          "não-desinformação",
          "não-desinformação",
          "não-desinformação",
          "não-desinformação",
          "não-desinformação",
          "não-desinformação",
          "não-desinformação",
          "não-desinformação",
          "não-desinformação",
          "não-desinformação",
          "não-desinformação",
          "não-desinformação",
          "não-desinformação",
          "não-desinformação",
          "não-desinformação",
          "não-desinformação",
          "não-desinformação",
          "não-desinformação",
          "não-desinformação",
          "não-desinformação",
          "não-desinformação",
          "não-desinformação",
          "não-desinformação"
         ],
         "legendgroup": "não-desinformação",
         "line": {
          "color": "#EF553B",
          "dash": "solid"
         },
         "mode": "lines",
         "name": "não-desinformação",
         "orientation": "v",
         "showlegend": true,
         "type": "scatter",
         "x": [
          "2018-07-02T00:00:00",
          "2018-07-03T00:00:00",
          "2018-07-04T00:00:00",
          "2018-07-05T00:00:00",
          "2018-07-06T00:00:00",
          "2018-07-07T00:00:00",
          "2018-07-08T00:00:00",
          "2018-07-09T00:00:00",
          "2018-07-10T00:00:00",
          "2018-07-11T00:00:00",
          "2018-07-12T00:00:00",
          "2018-07-13T00:00:00",
          "2018-07-14T00:00:00",
          "2018-07-15T00:00:00",
          "2018-07-16T00:00:00",
          "2018-07-17T00:00:00",
          "2018-07-18T00:00:00",
          "2018-07-19T00:00:00",
          "2018-07-20T00:00:00",
          "2018-07-21T00:00:00",
          "2018-07-22T00:00:00",
          "2018-07-23T00:00:00",
          "2018-07-24T00:00:00",
          "2018-07-25T00:00:00",
          "2018-07-26T00:00:00",
          "2018-07-27T00:00:00",
          "2018-07-28T00:00:00",
          "2018-07-29T00:00:00",
          "2018-07-30T00:00:00",
          "2018-07-31T00:00:00",
          "2018-08-01T00:00:00",
          "2018-08-02T00:00:00",
          "2018-08-03T00:00:00",
          "2018-08-04T00:00:00",
          "2018-08-05T00:00:00",
          "2018-08-06T00:00:00",
          "2018-08-07T00:00:00",
          "2018-08-08T00:00:00",
          "2018-08-09T00:00:00",
          "2018-08-10T00:00:00",
          "2018-08-11T00:00:00",
          "2018-08-12T00:00:00",
          "2018-08-13T00:00:00",
          "2018-08-14T00:00:00",
          "2018-08-15T00:00:00",
          "2018-08-16T00:00:00",
          "2018-08-17T00:00:00",
          "2018-08-18T00:00:00",
          "2018-08-19T00:00:00",
          "2018-08-20T00:00:00",
          "2018-08-21T00:00:00",
          "2018-08-22T00:00:00",
          "2018-08-23T00:00:00",
          "2018-08-24T00:00:00",
          "2018-08-25T00:00:00",
          "2018-08-26T00:00:00",
          "2018-08-27T00:00:00",
          "2018-08-28T00:00:00",
          "2018-08-29T00:00:00",
          "2018-08-30T00:00:00",
          "2018-08-31T00:00:00",
          "2018-09-01T00:00:00",
          "2018-09-02T00:00:00",
          "2018-09-03T00:00:00",
          "2018-09-04T00:00:00",
          "2018-09-05T00:00:00",
          "2018-09-06T00:00:00",
          "2018-09-07T00:00:00",
          "2018-09-08T00:00:00",
          "2018-09-09T00:00:00",
          "2018-09-10T00:00:00",
          "2018-09-11T00:00:00",
          "2018-09-12T00:00:00",
          "2018-09-13T00:00:00",
          "2018-09-14T00:00:00",
          "2018-09-15T00:00:00",
          "2018-09-16T00:00:00",
          "2018-09-17T00:00:00",
          "2018-09-18T00:00:00",
          "2018-09-19T00:00:00",
          "2018-09-20T00:00:00",
          "2018-09-21T00:00:00",
          "2018-09-22T00:00:00",
          "2018-09-23T00:00:00",
          "2018-09-24T00:00:00",
          "2018-09-25T00:00:00",
          "2018-09-26T00:00:00",
          "2018-09-27T00:00:00",
          "2018-09-28T00:00:00",
          "2018-09-29T00:00:00",
          "2018-09-30T00:00:00",
          "2018-10-01T00:00:00",
          "2018-10-02T00:00:00",
          "2018-10-03T00:00:00",
          "2018-10-04T00:00:00",
          "2018-10-05T00:00:00",
          "2018-10-06T00:00:00",
          "2018-10-07T00:00:00",
          "2018-10-08T00:00:00",
          "2018-10-09T00:00:00",
          "2018-10-10T00:00:00",
          "2018-10-11T00:00:00",
          "2018-10-12T00:00:00",
          "2018-10-13T00:00:00",
          "2018-10-14T00:00:00",
          "2018-10-15T00:00:00",
          "2018-10-16T00:00:00",
          "2018-10-17T00:00:00",
          "2018-10-18T00:00:00",
          "2018-10-19T00:00:00",
          "2018-10-20T00:00:00",
          "2018-10-21T00:00:00",
          "2018-10-22T00:00:00",
          "2018-10-23T00:00:00",
          "2018-10-24T00:00:00",
          "2018-10-25T00:00:00",
          "2018-10-26T00:00:00",
          "2018-10-27T00:00:00",
          "2018-10-28T00:00:00"
         ],
         "xaxis": "x",
         "y": [
          null,
          null,
          null,
          null,
          1.6,
          0,
          0,
          0,
          0,
          0,
          0,
          0,
          0,
          0,
          0,
          0,
          0,
          0,
          0,
          0,
          0,
          0,
          0,
          0,
          0,
          0,
          0,
          0,
          0,
          0,
          8.8,
          11.2,
          11.2,
          11.2,
          11.2,
          2.4,
          0,
          0,
          18,
          27.4,
          39.8,
          46.6,
          46.6,
          28.6,
          29,
          27.6,
          39.4,
          54.8,
          54.8,
          45,
          42.2,
          47.2,
          58.2,
          87.4,
          105.2,
          104.6,
          105.8,
          108,
          116.8,
          116,
          108.4,
          106.6,
          103.8,
          89.6,
          101.8,
          129.6,
          155.2,
          158.4,
          172.8,
          184.4,
          206.4,
          217.4,
          214.8,
          192.2,
          185,
          150.2,
          114.2,
          103.8,
          88.2,
          54.6,
          61.6,
          58.2,
          56,
          94.4,
          127.8,
          137.4,
          117.2,
          103.4,
          65,
          35.8,
          4.6,
          4.6,
          4.6,
          4.6,
          0.4,
          1.2,
          69.2,
          167.4,
          233.8,
          284,
          337.2,
          304,
          237,
          204.8,
          187.6,
          174.4,
          169.8,
          172.4,
          182.2,
          187.4,
          177.8,
          184.4,
          189.4,
          179.8,
          180.8,
          173.6,
          180.8,
          172.2,
          149.6
         ],
         "yaxis": "y"
        }
       ],
       "layout": {
        "legend": {
         "title": {
          "text": "classe"
         },
         "tracegroupgap": 0
        },
        "margin": {
         "t": 60
        },
        "template": {
         "data": {
          "bar": [
           {
            "error_x": {
             "color": "#2a3f5f"
            },
            "error_y": {
             "color": "#2a3f5f"
            },
            "marker": {
             "line": {
              "color": "#E5ECF6",
              "width": 0.5
             }
            },
            "type": "bar"
           }
          ],
          "barpolar": [
           {
            "marker": {
             "line": {
              "color": "#E5ECF6",
              "width": 0.5
             }
            },
            "type": "barpolar"
           }
          ],
          "carpet": [
           {
            "aaxis": {
             "endlinecolor": "#2a3f5f",
             "gridcolor": "white",
             "linecolor": "white",
             "minorgridcolor": "white",
             "startlinecolor": "#2a3f5f"
            },
            "baxis": {
             "endlinecolor": "#2a3f5f",
             "gridcolor": "white",
             "linecolor": "white",
             "minorgridcolor": "white",
             "startlinecolor": "#2a3f5f"
            },
            "type": "carpet"
           }
          ],
          "choropleth": [
           {
            "colorbar": {
             "outlinewidth": 0,
             "ticks": ""
            },
            "type": "choropleth"
           }
          ],
          "contour": [
           {
            "colorbar": {
             "outlinewidth": 0,
             "ticks": ""
            },
            "colorscale": [
             [
              0,
              "#0d0887"
             ],
             [
              0.1111111111111111,
              "#46039f"
             ],
             [
              0.2222222222222222,
              "#7201a8"
             ],
             [
              0.3333333333333333,
              "#9c179e"
             ],
             [
              0.4444444444444444,
              "#bd3786"
             ],
             [
              0.5555555555555556,
              "#d8576b"
             ],
             [
              0.6666666666666666,
              "#ed7953"
             ],
             [
              0.7777777777777778,
              "#fb9f3a"
             ],
             [
              0.8888888888888888,
              "#fdca26"
             ],
             [
              1,
              "#f0f921"
             ]
            ],
            "type": "contour"
           }
          ],
          "contourcarpet": [
           {
            "colorbar": {
             "outlinewidth": 0,
             "ticks": ""
            },
            "type": "contourcarpet"
           }
          ],
          "heatmap": [
           {
            "colorbar": {
             "outlinewidth": 0,
             "ticks": ""
            },
            "colorscale": [
             [
              0,
              "#0d0887"
             ],
             [
              0.1111111111111111,
              "#46039f"
             ],
             [
              0.2222222222222222,
              "#7201a8"
             ],
             [
              0.3333333333333333,
              "#9c179e"
             ],
             [
              0.4444444444444444,
              "#bd3786"
             ],
             [
              0.5555555555555556,
              "#d8576b"
             ],
             [
              0.6666666666666666,
              "#ed7953"
             ],
             [
              0.7777777777777778,
              "#fb9f3a"
             ],
             [
              0.8888888888888888,
              "#fdca26"
             ],
             [
              1,
              "#f0f921"
             ]
            ],
            "type": "heatmap"
           }
          ],
          "heatmapgl": [
           {
            "colorbar": {
             "outlinewidth": 0,
             "ticks": ""
            },
            "colorscale": [
             [
              0,
              "#0d0887"
             ],
             [
              0.1111111111111111,
              "#46039f"
             ],
             [
              0.2222222222222222,
              "#7201a8"
             ],
             [
              0.3333333333333333,
              "#9c179e"
             ],
             [
              0.4444444444444444,
              "#bd3786"
             ],
             [
              0.5555555555555556,
              "#d8576b"
             ],
             [
              0.6666666666666666,
              "#ed7953"
             ],
             [
              0.7777777777777778,
              "#fb9f3a"
             ],
             [
              0.8888888888888888,
              "#fdca26"
             ],
             [
              1,
              "#f0f921"
             ]
            ],
            "type": "heatmapgl"
           }
          ],
          "histogram": [
           {
            "marker": {
             "colorbar": {
              "outlinewidth": 0,
              "ticks": ""
             }
            },
            "type": "histogram"
           }
          ],
          "histogram2d": [
           {
            "colorbar": {
             "outlinewidth": 0,
             "ticks": ""
            },
            "colorscale": [
             [
              0,
              "#0d0887"
             ],
             [
              0.1111111111111111,
              "#46039f"
             ],
             [
              0.2222222222222222,
              "#7201a8"
             ],
             [
              0.3333333333333333,
              "#9c179e"
             ],
             [
              0.4444444444444444,
              "#bd3786"
             ],
             [
              0.5555555555555556,
              "#d8576b"
             ],
             [
              0.6666666666666666,
              "#ed7953"
             ],
             [
              0.7777777777777778,
              "#fb9f3a"
             ],
             [
              0.8888888888888888,
              "#fdca26"
             ],
             [
              1,
              "#f0f921"
             ]
            ],
            "type": "histogram2d"
           }
          ],
          "histogram2dcontour": [
           {
            "colorbar": {
             "outlinewidth": 0,
             "ticks": ""
            },
            "colorscale": [
             [
              0,
              "#0d0887"
             ],
             [
              0.1111111111111111,
              "#46039f"
             ],
             [
              0.2222222222222222,
              "#7201a8"
             ],
             [
              0.3333333333333333,
              "#9c179e"
             ],
             [
              0.4444444444444444,
              "#bd3786"
             ],
             [
              0.5555555555555556,
              "#d8576b"
             ],
             [
              0.6666666666666666,
              "#ed7953"
             ],
             [
              0.7777777777777778,
              "#fb9f3a"
             ],
             [
              0.8888888888888888,
              "#fdca26"
             ],
             [
              1,
              "#f0f921"
             ]
            ],
            "type": "histogram2dcontour"
           }
          ],
          "mesh3d": [
           {
            "colorbar": {
             "outlinewidth": 0,
             "ticks": ""
            },
            "type": "mesh3d"
           }
          ],
          "parcoords": [
           {
            "line": {
             "colorbar": {
              "outlinewidth": 0,
              "ticks": ""
             }
            },
            "type": "parcoords"
           }
          ],
          "pie": [
           {
            "automargin": true,
            "type": "pie"
           }
          ],
          "scatter": [
           {
            "marker": {
             "colorbar": {
              "outlinewidth": 0,
              "ticks": ""
             }
            },
            "type": "scatter"
           }
          ],
          "scatter3d": [
           {
            "line": {
             "colorbar": {
              "outlinewidth": 0,
              "ticks": ""
             }
            },
            "marker": {
             "colorbar": {
              "outlinewidth": 0,
              "ticks": ""
             }
            },
            "type": "scatter3d"
           }
          ],
          "scattercarpet": [
           {
            "marker": {
             "colorbar": {
              "outlinewidth": 0,
              "ticks": ""
             }
            },
            "type": "scattercarpet"
           }
          ],
          "scattergeo": [
           {
            "marker": {
             "colorbar": {
              "outlinewidth": 0,
              "ticks": ""
             }
            },
            "type": "scattergeo"
           }
          ],
          "scattergl": [
           {
            "marker": {
             "colorbar": {
              "outlinewidth": 0,
              "ticks": ""
             }
            },
            "type": "scattergl"
           }
          ],
          "scattermapbox": [
           {
            "marker": {
             "colorbar": {
              "outlinewidth": 0,
              "ticks": ""
             }
            },
            "type": "scattermapbox"
           }
          ],
          "scatterpolar": [
           {
            "marker": {
             "colorbar": {
              "outlinewidth": 0,
              "ticks": ""
             }
            },
            "type": "scatterpolar"
           }
          ],
          "scatterpolargl": [
           {
            "marker": {
             "colorbar": {
              "outlinewidth": 0,
              "ticks": ""
             }
            },
            "type": "scatterpolargl"
           }
          ],
          "scatterternary": [
           {
            "marker": {
             "colorbar": {
              "outlinewidth": 0,
              "ticks": ""
             }
            },
            "type": "scatterternary"
           }
          ],
          "surface": [
           {
            "colorbar": {
             "outlinewidth": 0,
             "ticks": ""
            },
            "colorscale": [
             [
              0,
              "#0d0887"
             ],
             [
              0.1111111111111111,
              "#46039f"
             ],
             [
              0.2222222222222222,
              "#7201a8"
             ],
             [
              0.3333333333333333,
              "#9c179e"
             ],
             [
              0.4444444444444444,
              "#bd3786"
             ],
             [
              0.5555555555555556,
              "#d8576b"
             ],
             [
              0.6666666666666666,
              "#ed7953"
             ],
             [
              0.7777777777777778,
              "#fb9f3a"
             ],
             [
              0.8888888888888888,
              "#fdca26"
             ],
             [
              1,
              "#f0f921"
             ]
            ],
            "type": "surface"
           }
          ],
          "table": [
           {
            "cells": {
             "fill": {
              "color": "#EBF0F8"
             },
             "line": {
              "color": "white"
             }
            },
            "header": {
             "fill": {
              "color": "#C8D4E3"
             },
             "line": {
              "color": "white"
             }
            },
            "type": "table"
           }
          ]
         },
         "layout": {
          "annotationdefaults": {
           "arrowcolor": "#2a3f5f",
           "arrowhead": 0,
           "arrowwidth": 1
          },
          "autotypenumbers": "strict",
          "coloraxis": {
           "colorbar": {
            "outlinewidth": 0,
            "ticks": ""
           }
          },
          "colorscale": {
           "diverging": [
            [
             0,
             "#8e0152"
            ],
            [
             0.1,
             "#c51b7d"
            ],
            [
             0.2,
             "#de77ae"
            ],
            [
             0.3,
             "#f1b6da"
            ],
            [
             0.4,
             "#fde0ef"
            ],
            [
             0.5,
             "#f7f7f7"
            ],
            [
             0.6,
             "#e6f5d0"
            ],
            [
             0.7,
             "#b8e186"
            ],
            [
             0.8,
             "#7fbc41"
            ],
            [
             0.9,
             "#4d9221"
            ],
            [
             1,
             "#276419"
            ]
           ],
           "sequential": [
            [
             0,
             "#0d0887"
            ],
            [
             0.1111111111111111,
             "#46039f"
            ],
            [
             0.2222222222222222,
             "#7201a8"
            ],
            [
             0.3333333333333333,
             "#9c179e"
            ],
            [
             0.4444444444444444,
             "#bd3786"
            ],
            [
             0.5555555555555556,
             "#d8576b"
            ],
            [
             0.6666666666666666,
             "#ed7953"
            ],
            [
             0.7777777777777778,
             "#fb9f3a"
            ],
            [
             0.8888888888888888,
             "#fdca26"
            ],
            [
             1,
             "#f0f921"
            ]
           ],
           "sequentialminus": [
            [
             0,
             "#0d0887"
            ],
            [
             0.1111111111111111,
             "#46039f"
            ],
            [
             0.2222222222222222,
             "#7201a8"
            ],
            [
             0.3333333333333333,
             "#9c179e"
            ],
            [
             0.4444444444444444,
             "#bd3786"
            ],
            [
             0.5555555555555556,
             "#d8576b"
            ],
            [
             0.6666666666666666,
             "#ed7953"
            ],
            [
             0.7777777777777778,
             "#fb9f3a"
            ],
            [
             0.8888888888888888,
             "#fdca26"
            ],
            [
             1,
             "#f0f921"
            ]
           ]
          },
          "colorway": [
           "#636efa",
           "#EF553B",
           "#00cc96",
           "#ab63fa",
           "#FFA15A",
           "#19d3f3",
           "#FF6692",
           "#B6E880",
           "#FF97FF",
           "#FECB52"
          ],
          "font": {
           "color": "#2a3f5f"
          },
          "geo": {
           "bgcolor": "white",
           "lakecolor": "white",
           "landcolor": "#E5ECF6",
           "showlakes": true,
           "showland": true,
           "subunitcolor": "white"
          },
          "hoverlabel": {
           "align": "left"
          },
          "hovermode": "closest",
          "mapbox": {
           "style": "light"
          },
          "paper_bgcolor": "white",
          "plot_bgcolor": "#E5ECF6",
          "polar": {
           "angularaxis": {
            "gridcolor": "white",
            "linecolor": "white",
            "ticks": ""
           },
           "bgcolor": "#E5ECF6",
           "radialaxis": {
            "gridcolor": "white",
            "linecolor": "white",
            "ticks": ""
           }
          },
          "scene": {
           "xaxis": {
            "backgroundcolor": "#E5ECF6",
            "gridcolor": "white",
            "gridwidth": 2,
            "linecolor": "white",
            "showbackground": true,
            "ticks": "",
            "zerolinecolor": "white"
           },
           "yaxis": {
            "backgroundcolor": "#E5ECF6",
            "gridcolor": "white",
            "gridwidth": 2,
            "linecolor": "white",
            "showbackground": true,
            "ticks": "",
            "zerolinecolor": "white"
           },
           "zaxis": {
            "backgroundcolor": "#E5ECF6",
            "gridcolor": "white",
            "gridwidth": 2,
            "linecolor": "white",
            "showbackground": true,
            "ticks": "",
            "zerolinecolor": "white"
           }
          },
          "shapedefaults": {
           "line": {
            "color": "#2a3f5f"
           }
          },
          "ternary": {
           "aaxis": {
            "gridcolor": "white",
            "linecolor": "white",
            "ticks": ""
           },
           "baxis": {
            "gridcolor": "white",
            "linecolor": "white",
            "ticks": ""
           },
           "bgcolor": "#E5ECF6",
           "caxis": {
            "gridcolor": "white",
            "linecolor": "white",
            "ticks": ""
           }
          },
          "title": {
           "x": 0.05
          },
          "xaxis": {
           "automargin": true,
           "gridcolor": "white",
           "linecolor": "white",
           "ticks": "",
           "title": {
            "standoff": 15
           },
           "zerolinecolor": "white",
           "zerolinewidth": 2
          },
          "yaxis": {
           "automargin": true,
           "gridcolor": "white",
           "linecolor": "white",
           "ticks": "",
           "title": {
            "standoff": 15
           },
           "zerolinecolor": "white",
           "zerolinewidth": 2
          }
         }
        },
        "xaxis": {
         "anchor": "y",
         "domain": [
          0,
          1
         ],
         "title": {
          "text": "data"
         }
        },
        "yaxis": {
         "anchor": "x",
         "domain": [
          0,
          1
         ],
         "title": {
          "text": "média móvel"
         }
        }
       }
      },
      "text/html": [
       "<div>                            <div id=\"661750f6-ecd8-4467-a5d4-7a9a7323d3ed\" class=\"plotly-graph-div\" style=\"height:525px; width:100%;\"></div>            <script type=\"text/javascript\">                require([\"plotly\"], function(Plotly) {                    window.PLOTLYENV=window.PLOTLYENV || {};                                    if (document.getElementById(\"661750f6-ecd8-4467-a5d4-7a9a7323d3ed\")) {                    Plotly.newPlot(                        \"661750f6-ecd8-4467-a5d4-7a9a7323d3ed\",                        [{\"hovertemplate\": \"<b>%{hovertext}</b><br><br>classe=desinforma\\u00e7\\u00e3o<br>data=%{x}<br>m\\u00e9dia m\\u00f3vel=%{y}<extra></extra>\", \"hovertext\": [\"desinforma\\u00e7\\u00e3o\", \"desinforma\\u00e7\\u00e3o\", \"desinforma\\u00e7\\u00e3o\", \"desinforma\\u00e7\\u00e3o\", \"desinforma\\u00e7\\u00e3o\", \"desinforma\\u00e7\\u00e3o\", \"desinforma\\u00e7\\u00e3o\", \"desinforma\\u00e7\\u00e3o\", \"desinforma\\u00e7\\u00e3o\", \"desinforma\\u00e7\\u00e3o\", \"desinforma\\u00e7\\u00e3o\", \"desinforma\\u00e7\\u00e3o\", \"desinforma\\u00e7\\u00e3o\", \"desinforma\\u00e7\\u00e3o\", \"desinforma\\u00e7\\u00e3o\", \"desinforma\\u00e7\\u00e3o\", \"desinforma\\u00e7\\u00e3o\", \"desinforma\\u00e7\\u00e3o\", \"desinforma\\u00e7\\u00e3o\", \"desinforma\\u00e7\\u00e3o\", \"desinforma\\u00e7\\u00e3o\", \"desinforma\\u00e7\\u00e3o\", \"desinforma\\u00e7\\u00e3o\", \"desinforma\\u00e7\\u00e3o\", \"desinforma\\u00e7\\u00e3o\", \"desinforma\\u00e7\\u00e3o\", \"desinforma\\u00e7\\u00e3o\", \"desinforma\\u00e7\\u00e3o\", \"desinforma\\u00e7\\u00e3o\", \"desinforma\\u00e7\\u00e3o\", \"desinforma\\u00e7\\u00e3o\", \"desinforma\\u00e7\\u00e3o\", \"desinforma\\u00e7\\u00e3o\", \"desinforma\\u00e7\\u00e3o\", \"desinforma\\u00e7\\u00e3o\", \"desinforma\\u00e7\\u00e3o\", \"desinforma\\u00e7\\u00e3o\", \"desinforma\\u00e7\\u00e3o\", \"desinforma\\u00e7\\u00e3o\", \"desinforma\\u00e7\\u00e3o\", \"desinforma\\u00e7\\u00e3o\", \"desinforma\\u00e7\\u00e3o\", \"desinforma\\u00e7\\u00e3o\", \"desinforma\\u00e7\\u00e3o\", \"desinforma\\u00e7\\u00e3o\", \"desinforma\\u00e7\\u00e3o\", \"desinforma\\u00e7\\u00e3o\", \"desinforma\\u00e7\\u00e3o\", \"desinforma\\u00e7\\u00e3o\", \"desinforma\\u00e7\\u00e3o\", \"desinforma\\u00e7\\u00e3o\", \"desinforma\\u00e7\\u00e3o\", \"desinforma\\u00e7\\u00e3o\", \"desinforma\\u00e7\\u00e3o\", \"desinforma\\u00e7\\u00e3o\", \"desinforma\\u00e7\\u00e3o\", \"desinforma\\u00e7\\u00e3o\", \"desinforma\\u00e7\\u00e3o\", \"desinforma\\u00e7\\u00e3o\", \"desinforma\\u00e7\\u00e3o\", \"desinforma\\u00e7\\u00e3o\", \"desinforma\\u00e7\\u00e3o\", \"desinforma\\u00e7\\u00e3o\", \"desinforma\\u00e7\\u00e3o\", \"desinforma\\u00e7\\u00e3o\", \"desinforma\\u00e7\\u00e3o\", \"desinforma\\u00e7\\u00e3o\", \"desinforma\\u00e7\\u00e3o\", \"desinforma\\u00e7\\u00e3o\", \"desinforma\\u00e7\\u00e3o\", \"desinforma\\u00e7\\u00e3o\", \"desinforma\\u00e7\\u00e3o\", \"desinforma\\u00e7\\u00e3o\", \"desinforma\\u00e7\\u00e3o\", \"desinforma\\u00e7\\u00e3o\", \"desinforma\\u00e7\\u00e3o\", \"desinforma\\u00e7\\u00e3o\", \"desinforma\\u00e7\\u00e3o\", \"desinforma\\u00e7\\u00e3o\", \"desinforma\\u00e7\\u00e3o\", \"desinforma\\u00e7\\u00e3o\", \"desinforma\\u00e7\\u00e3o\", \"desinforma\\u00e7\\u00e3o\", \"desinforma\\u00e7\\u00e3o\", \"desinforma\\u00e7\\u00e3o\", \"desinforma\\u00e7\\u00e3o\", \"desinforma\\u00e7\\u00e3o\", \"desinforma\\u00e7\\u00e3o\", \"desinforma\\u00e7\\u00e3o\", \"desinforma\\u00e7\\u00e3o\", \"desinforma\\u00e7\\u00e3o\", \"desinforma\\u00e7\\u00e3o\", \"desinforma\\u00e7\\u00e3o\", \"desinforma\\u00e7\\u00e3o\", \"desinforma\\u00e7\\u00e3o\", \"desinforma\\u00e7\\u00e3o\", \"desinforma\\u00e7\\u00e3o\", \"desinforma\\u00e7\\u00e3o\", \"desinforma\\u00e7\\u00e3o\", \"desinforma\\u00e7\\u00e3o\", \"desinforma\\u00e7\\u00e3o\", \"desinforma\\u00e7\\u00e3o\", \"desinforma\\u00e7\\u00e3o\", \"desinforma\\u00e7\\u00e3o\", \"desinforma\\u00e7\\u00e3o\", \"desinforma\\u00e7\\u00e3o\", \"desinforma\\u00e7\\u00e3o\", \"desinforma\\u00e7\\u00e3o\", \"desinforma\\u00e7\\u00e3o\", \"desinforma\\u00e7\\u00e3o\", \"desinforma\\u00e7\\u00e3o\", \"desinforma\\u00e7\\u00e3o\", \"desinforma\\u00e7\\u00e3o\", \"desinforma\\u00e7\\u00e3o\", \"desinforma\\u00e7\\u00e3o\", \"desinforma\\u00e7\\u00e3o\", \"desinforma\\u00e7\\u00e3o\", \"desinforma\\u00e7\\u00e3o\", \"desinforma\\u00e7\\u00e3o\", \"desinforma\\u00e7\\u00e3o\"], \"legendgroup\": \"desinforma\\u00e7\\u00e3o\", \"line\": {\"color\": \"#636efa\", \"dash\": \"solid\"}, \"mode\": \"lines\", \"name\": \"desinforma\\u00e7\\u00e3o\", \"orientation\": \"v\", \"showlegend\": true, \"type\": \"scatter\", \"x\": [\"2018-07-02T00:00:00\", \"2018-07-03T00:00:00\", \"2018-07-04T00:00:00\", \"2018-07-05T00:00:00\", \"2018-07-06T00:00:00\", \"2018-07-07T00:00:00\", \"2018-07-08T00:00:00\", \"2018-07-09T00:00:00\", \"2018-07-10T00:00:00\", \"2018-07-11T00:00:00\", \"2018-07-12T00:00:00\", \"2018-07-13T00:00:00\", \"2018-07-14T00:00:00\", \"2018-07-15T00:00:00\", \"2018-07-16T00:00:00\", \"2018-07-17T00:00:00\", \"2018-07-18T00:00:00\", \"2018-07-19T00:00:00\", \"2018-07-20T00:00:00\", \"2018-07-21T00:00:00\", \"2018-07-22T00:00:00\", \"2018-07-23T00:00:00\", \"2018-07-24T00:00:00\", \"2018-07-25T00:00:00\", \"2018-07-26T00:00:00\", \"2018-07-27T00:00:00\", \"2018-07-28T00:00:00\", \"2018-07-29T00:00:00\", \"2018-07-30T00:00:00\", \"2018-07-31T00:00:00\", \"2018-08-01T00:00:00\", \"2018-08-02T00:00:00\", \"2018-08-03T00:00:00\", \"2018-08-04T00:00:00\", \"2018-08-05T00:00:00\", \"2018-08-06T00:00:00\", \"2018-08-07T00:00:00\", \"2018-08-08T00:00:00\", \"2018-08-09T00:00:00\", \"2018-08-10T00:00:00\", \"2018-08-11T00:00:00\", \"2018-08-12T00:00:00\", \"2018-08-13T00:00:00\", \"2018-08-14T00:00:00\", \"2018-08-15T00:00:00\", \"2018-08-16T00:00:00\", \"2018-08-17T00:00:00\", \"2018-08-18T00:00:00\", \"2018-08-19T00:00:00\", \"2018-08-20T00:00:00\", \"2018-08-21T00:00:00\", \"2018-08-22T00:00:00\", \"2018-08-23T00:00:00\", \"2018-08-24T00:00:00\", \"2018-08-25T00:00:00\", \"2018-08-26T00:00:00\", \"2018-08-27T00:00:00\", \"2018-08-28T00:00:00\", \"2018-08-29T00:00:00\", \"2018-08-30T00:00:00\", \"2018-08-31T00:00:00\", \"2018-09-01T00:00:00\", \"2018-09-02T00:00:00\", \"2018-09-03T00:00:00\", \"2018-09-04T00:00:00\", \"2018-09-05T00:00:00\", \"2018-09-06T00:00:00\", \"2018-09-07T00:00:00\", \"2018-09-08T00:00:00\", \"2018-09-09T00:00:00\", \"2018-09-10T00:00:00\", \"2018-09-11T00:00:00\", \"2018-09-12T00:00:00\", \"2018-09-13T00:00:00\", \"2018-09-14T00:00:00\", \"2018-09-15T00:00:00\", \"2018-09-16T00:00:00\", \"2018-09-17T00:00:00\", \"2018-09-18T00:00:00\", \"2018-09-19T00:00:00\", \"2018-09-20T00:00:00\", \"2018-09-21T00:00:00\", \"2018-09-22T00:00:00\", \"2018-09-23T00:00:00\", \"2018-09-24T00:00:00\", \"2018-09-25T00:00:00\", \"2018-09-26T00:00:00\", \"2018-09-27T00:00:00\", \"2018-09-28T00:00:00\", \"2018-09-29T00:00:00\", \"2018-09-30T00:00:00\", \"2018-10-01T00:00:00\", \"2018-10-02T00:00:00\", \"2018-10-03T00:00:00\", \"2018-10-04T00:00:00\", \"2018-10-05T00:00:00\", \"2018-10-06T00:00:00\", \"2018-10-07T00:00:00\", \"2018-10-08T00:00:00\", \"2018-10-09T00:00:00\", \"2018-10-10T00:00:00\", \"2018-10-11T00:00:00\", \"2018-10-12T00:00:00\", \"2018-10-13T00:00:00\", \"2018-10-14T00:00:00\", \"2018-10-15T00:00:00\", \"2018-10-16T00:00:00\", \"2018-10-17T00:00:00\", \"2018-10-18T00:00:00\", \"2018-10-19T00:00:00\", \"2018-10-20T00:00:00\", \"2018-10-21T00:00:00\", \"2018-10-22T00:00:00\", \"2018-10-23T00:00:00\", \"2018-10-24T00:00:00\", \"2018-10-25T00:00:00\", \"2018-10-26T00:00:00\", \"2018-10-27T00:00:00\", \"2018-10-28T00:00:00\", \"2018-10-29T00:00:00\"], \"xaxis\": \"x\", \"y\": [null, null, null, null, 2.8, 0.0, 0.0, 0.0, 0.0, 0.0, 0.0, 0.0, 0.0, 0.0, 0.0, 0.0, 0.0, 0.0, 0.0, 0.0, 0.0, 0.0, 0.0, 0.0, 0.0, 0.0, 0.0, 0.0, 0.0, 0.0, 6.8, 7.6, 7.6, 7.6, 7.6, 0.8, 0.0, 0.0, 9.0, 13.6, 20.4, 25.6, 25.6, 16.6, 18.8, 19.8, 25.4, 44.4, 44.8, 38.0, 40.2, 51.8, 57.2, 77.6, 94.6, 96.8, 95.4, 99.2, 105.0, 101.0, 88.8, 88.0, 86.4, 85.0, 101.4, 121.2, 153.2, 169.6, 186.8, 204.0, 224.8, 225.0, 210.0, 186.4, 176.2, 152.4, 131.8, 124.8, 106.0, 69.6, 81.2, 70.8, 66.4, 113.8, 169.0, 181.2, 159.8, 143.2, 95.8, 44.4, 4.2, 4.2, 4.2, 4.2, 0.4, 0.6, 58.2, 162.0, 260.0, 312.0, 388.4, 391.4, 335.6, 276.4, 268.6, 244.4, 232.6, 230.6, 254.6, 265.0, 275.2, 287.8, 302.2, 285.0, 286.2, 257.0, 245.8, 206.2, 164.8, 109.2], \"yaxis\": \"y\"}, {\"hovertemplate\": \"<b>%{hovertext}</b><br><br>classe=n\\u00e3o-desinforma\\u00e7\\u00e3o<br>data=%{x}<br>m\\u00e9dia m\\u00f3vel=%{y}<extra></extra>\", \"hovertext\": [\"n\\u00e3o-desinforma\\u00e7\\u00e3o\", \"n\\u00e3o-desinforma\\u00e7\\u00e3o\", \"n\\u00e3o-desinforma\\u00e7\\u00e3o\", \"n\\u00e3o-desinforma\\u00e7\\u00e3o\", \"n\\u00e3o-desinforma\\u00e7\\u00e3o\", \"n\\u00e3o-desinforma\\u00e7\\u00e3o\", \"n\\u00e3o-desinforma\\u00e7\\u00e3o\", \"n\\u00e3o-desinforma\\u00e7\\u00e3o\", \"n\\u00e3o-desinforma\\u00e7\\u00e3o\", \"n\\u00e3o-desinforma\\u00e7\\u00e3o\", \"n\\u00e3o-desinforma\\u00e7\\u00e3o\", \"n\\u00e3o-desinforma\\u00e7\\u00e3o\", \"n\\u00e3o-desinforma\\u00e7\\u00e3o\", \"n\\u00e3o-desinforma\\u00e7\\u00e3o\", \"n\\u00e3o-desinforma\\u00e7\\u00e3o\", \"n\\u00e3o-desinforma\\u00e7\\u00e3o\", \"n\\u00e3o-desinforma\\u00e7\\u00e3o\", \"n\\u00e3o-desinforma\\u00e7\\u00e3o\", \"n\\u00e3o-desinforma\\u00e7\\u00e3o\", \"n\\u00e3o-desinforma\\u00e7\\u00e3o\", \"n\\u00e3o-desinforma\\u00e7\\u00e3o\", \"n\\u00e3o-desinforma\\u00e7\\u00e3o\", \"n\\u00e3o-desinforma\\u00e7\\u00e3o\", \"n\\u00e3o-desinforma\\u00e7\\u00e3o\", \"n\\u00e3o-desinforma\\u00e7\\u00e3o\", \"n\\u00e3o-desinforma\\u00e7\\u00e3o\", \"n\\u00e3o-desinforma\\u00e7\\u00e3o\", \"n\\u00e3o-desinforma\\u00e7\\u00e3o\", \"n\\u00e3o-desinforma\\u00e7\\u00e3o\", \"n\\u00e3o-desinforma\\u00e7\\u00e3o\", \"n\\u00e3o-desinforma\\u00e7\\u00e3o\", \"n\\u00e3o-desinforma\\u00e7\\u00e3o\", \"n\\u00e3o-desinforma\\u00e7\\u00e3o\", \"n\\u00e3o-desinforma\\u00e7\\u00e3o\", \"n\\u00e3o-desinforma\\u00e7\\u00e3o\", \"n\\u00e3o-desinforma\\u00e7\\u00e3o\", \"n\\u00e3o-desinforma\\u00e7\\u00e3o\", \"n\\u00e3o-desinforma\\u00e7\\u00e3o\", \"n\\u00e3o-desinforma\\u00e7\\u00e3o\", \"n\\u00e3o-desinforma\\u00e7\\u00e3o\", \"n\\u00e3o-desinforma\\u00e7\\u00e3o\", \"n\\u00e3o-desinforma\\u00e7\\u00e3o\", \"n\\u00e3o-desinforma\\u00e7\\u00e3o\", \"n\\u00e3o-desinforma\\u00e7\\u00e3o\", \"n\\u00e3o-desinforma\\u00e7\\u00e3o\", \"n\\u00e3o-desinforma\\u00e7\\u00e3o\", \"n\\u00e3o-desinforma\\u00e7\\u00e3o\", \"n\\u00e3o-desinforma\\u00e7\\u00e3o\", \"n\\u00e3o-desinforma\\u00e7\\u00e3o\", \"n\\u00e3o-desinforma\\u00e7\\u00e3o\", \"n\\u00e3o-desinforma\\u00e7\\u00e3o\", \"n\\u00e3o-desinforma\\u00e7\\u00e3o\", \"n\\u00e3o-desinforma\\u00e7\\u00e3o\", \"n\\u00e3o-desinforma\\u00e7\\u00e3o\", \"n\\u00e3o-desinforma\\u00e7\\u00e3o\", \"n\\u00e3o-desinforma\\u00e7\\u00e3o\", \"n\\u00e3o-desinforma\\u00e7\\u00e3o\", \"n\\u00e3o-desinforma\\u00e7\\u00e3o\", \"n\\u00e3o-desinforma\\u00e7\\u00e3o\", \"n\\u00e3o-desinforma\\u00e7\\u00e3o\", \"n\\u00e3o-desinforma\\u00e7\\u00e3o\", \"n\\u00e3o-desinforma\\u00e7\\u00e3o\", \"n\\u00e3o-desinforma\\u00e7\\u00e3o\", \"n\\u00e3o-desinforma\\u00e7\\u00e3o\", \"n\\u00e3o-desinforma\\u00e7\\u00e3o\", \"n\\u00e3o-desinforma\\u00e7\\u00e3o\", \"n\\u00e3o-desinforma\\u00e7\\u00e3o\", \"n\\u00e3o-desinforma\\u00e7\\u00e3o\", \"n\\u00e3o-desinforma\\u00e7\\u00e3o\", \"n\\u00e3o-desinforma\\u00e7\\u00e3o\", \"n\\u00e3o-desinforma\\u00e7\\u00e3o\", \"n\\u00e3o-desinforma\\u00e7\\u00e3o\", \"n\\u00e3o-desinforma\\u00e7\\u00e3o\", \"n\\u00e3o-desinforma\\u00e7\\u00e3o\", \"n\\u00e3o-desinforma\\u00e7\\u00e3o\", \"n\\u00e3o-desinforma\\u00e7\\u00e3o\", \"n\\u00e3o-desinforma\\u00e7\\u00e3o\", \"n\\u00e3o-desinforma\\u00e7\\u00e3o\", \"n\\u00e3o-desinforma\\u00e7\\u00e3o\", \"n\\u00e3o-desinforma\\u00e7\\u00e3o\", \"n\\u00e3o-desinforma\\u00e7\\u00e3o\", \"n\\u00e3o-desinforma\\u00e7\\u00e3o\", \"n\\u00e3o-desinforma\\u00e7\\u00e3o\", \"n\\u00e3o-desinforma\\u00e7\\u00e3o\", \"n\\u00e3o-desinforma\\u00e7\\u00e3o\", \"n\\u00e3o-desinforma\\u00e7\\u00e3o\", \"n\\u00e3o-desinforma\\u00e7\\u00e3o\", \"n\\u00e3o-desinforma\\u00e7\\u00e3o\", \"n\\u00e3o-desinforma\\u00e7\\u00e3o\", \"n\\u00e3o-desinforma\\u00e7\\u00e3o\", \"n\\u00e3o-desinforma\\u00e7\\u00e3o\", \"n\\u00e3o-desinforma\\u00e7\\u00e3o\", \"n\\u00e3o-desinforma\\u00e7\\u00e3o\", \"n\\u00e3o-desinforma\\u00e7\\u00e3o\", \"n\\u00e3o-desinforma\\u00e7\\u00e3o\", \"n\\u00e3o-desinforma\\u00e7\\u00e3o\", \"n\\u00e3o-desinforma\\u00e7\\u00e3o\", \"n\\u00e3o-desinforma\\u00e7\\u00e3o\", \"n\\u00e3o-desinforma\\u00e7\\u00e3o\", \"n\\u00e3o-desinforma\\u00e7\\u00e3o\", \"n\\u00e3o-desinforma\\u00e7\\u00e3o\", \"n\\u00e3o-desinforma\\u00e7\\u00e3o\", \"n\\u00e3o-desinforma\\u00e7\\u00e3o\", \"n\\u00e3o-desinforma\\u00e7\\u00e3o\", \"n\\u00e3o-desinforma\\u00e7\\u00e3o\", \"n\\u00e3o-desinforma\\u00e7\\u00e3o\", \"n\\u00e3o-desinforma\\u00e7\\u00e3o\", \"n\\u00e3o-desinforma\\u00e7\\u00e3o\", \"n\\u00e3o-desinforma\\u00e7\\u00e3o\", \"n\\u00e3o-desinforma\\u00e7\\u00e3o\", \"n\\u00e3o-desinforma\\u00e7\\u00e3o\", \"n\\u00e3o-desinforma\\u00e7\\u00e3o\", \"n\\u00e3o-desinforma\\u00e7\\u00e3o\", \"n\\u00e3o-desinforma\\u00e7\\u00e3o\", \"n\\u00e3o-desinforma\\u00e7\\u00e3o\", \"n\\u00e3o-desinforma\\u00e7\\u00e3o\", \"n\\u00e3o-desinforma\\u00e7\\u00e3o\", \"n\\u00e3o-desinforma\\u00e7\\u00e3o\", \"n\\u00e3o-desinforma\\u00e7\\u00e3o\"], \"legendgroup\": \"n\\u00e3o-desinforma\\u00e7\\u00e3o\", \"line\": {\"color\": \"#EF553B\", \"dash\": \"solid\"}, \"mode\": \"lines\", \"name\": \"n\\u00e3o-desinforma\\u00e7\\u00e3o\", \"orientation\": \"v\", \"showlegend\": true, \"type\": \"scatter\", \"x\": [\"2018-07-02T00:00:00\", \"2018-07-03T00:00:00\", \"2018-07-04T00:00:00\", \"2018-07-05T00:00:00\", \"2018-07-06T00:00:00\", \"2018-07-07T00:00:00\", \"2018-07-08T00:00:00\", \"2018-07-09T00:00:00\", \"2018-07-10T00:00:00\", \"2018-07-11T00:00:00\", \"2018-07-12T00:00:00\", \"2018-07-13T00:00:00\", \"2018-07-14T00:00:00\", \"2018-07-15T00:00:00\", \"2018-07-16T00:00:00\", \"2018-07-17T00:00:00\", \"2018-07-18T00:00:00\", \"2018-07-19T00:00:00\", \"2018-07-20T00:00:00\", \"2018-07-21T00:00:00\", \"2018-07-22T00:00:00\", \"2018-07-23T00:00:00\", \"2018-07-24T00:00:00\", \"2018-07-25T00:00:00\", \"2018-07-26T00:00:00\", \"2018-07-27T00:00:00\", \"2018-07-28T00:00:00\", \"2018-07-29T00:00:00\", \"2018-07-30T00:00:00\", \"2018-07-31T00:00:00\", \"2018-08-01T00:00:00\", \"2018-08-02T00:00:00\", \"2018-08-03T00:00:00\", \"2018-08-04T00:00:00\", \"2018-08-05T00:00:00\", \"2018-08-06T00:00:00\", \"2018-08-07T00:00:00\", \"2018-08-08T00:00:00\", \"2018-08-09T00:00:00\", \"2018-08-10T00:00:00\", \"2018-08-11T00:00:00\", \"2018-08-12T00:00:00\", \"2018-08-13T00:00:00\", \"2018-08-14T00:00:00\", \"2018-08-15T00:00:00\", \"2018-08-16T00:00:00\", \"2018-08-17T00:00:00\", \"2018-08-18T00:00:00\", \"2018-08-19T00:00:00\", \"2018-08-20T00:00:00\", \"2018-08-21T00:00:00\", \"2018-08-22T00:00:00\", \"2018-08-23T00:00:00\", \"2018-08-24T00:00:00\", \"2018-08-25T00:00:00\", \"2018-08-26T00:00:00\", \"2018-08-27T00:00:00\", \"2018-08-28T00:00:00\", \"2018-08-29T00:00:00\", \"2018-08-30T00:00:00\", \"2018-08-31T00:00:00\", \"2018-09-01T00:00:00\", \"2018-09-02T00:00:00\", \"2018-09-03T00:00:00\", \"2018-09-04T00:00:00\", \"2018-09-05T00:00:00\", \"2018-09-06T00:00:00\", \"2018-09-07T00:00:00\", \"2018-09-08T00:00:00\", \"2018-09-09T00:00:00\", \"2018-09-10T00:00:00\", \"2018-09-11T00:00:00\", \"2018-09-12T00:00:00\", \"2018-09-13T00:00:00\", \"2018-09-14T00:00:00\", \"2018-09-15T00:00:00\", \"2018-09-16T00:00:00\", \"2018-09-17T00:00:00\", \"2018-09-18T00:00:00\", \"2018-09-19T00:00:00\", \"2018-09-20T00:00:00\", \"2018-09-21T00:00:00\", \"2018-09-22T00:00:00\", \"2018-09-23T00:00:00\", \"2018-09-24T00:00:00\", \"2018-09-25T00:00:00\", \"2018-09-26T00:00:00\", \"2018-09-27T00:00:00\", \"2018-09-28T00:00:00\", \"2018-09-29T00:00:00\", \"2018-09-30T00:00:00\", \"2018-10-01T00:00:00\", \"2018-10-02T00:00:00\", \"2018-10-03T00:00:00\", \"2018-10-04T00:00:00\", \"2018-10-05T00:00:00\", \"2018-10-06T00:00:00\", \"2018-10-07T00:00:00\", \"2018-10-08T00:00:00\", \"2018-10-09T00:00:00\", \"2018-10-10T00:00:00\", \"2018-10-11T00:00:00\", \"2018-10-12T00:00:00\", \"2018-10-13T00:00:00\", \"2018-10-14T00:00:00\", \"2018-10-15T00:00:00\", \"2018-10-16T00:00:00\", \"2018-10-17T00:00:00\", \"2018-10-18T00:00:00\", \"2018-10-19T00:00:00\", \"2018-10-20T00:00:00\", \"2018-10-21T00:00:00\", \"2018-10-22T00:00:00\", \"2018-10-23T00:00:00\", \"2018-10-24T00:00:00\", \"2018-10-25T00:00:00\", \"2018-10-26T00:00:00\", \"2018-10-27T00:00:00\", \"2018-10-28T00:00:00\"], \"xaxis\": \"x\", \"y\": [null, null, null, null, 1.6, 0.0, 0.0, 0.0, 0.0, 0.0, 0.0, 0.0, 0.0, 0.0, 0.0, 0.0, 0.0, 0.0, 0.0, 0.0, 0.0, 0.0, 0.0, 0.0, 0.0, 0.0, 0.0, 0.0, 0.0, 0.0, 8.8, 11.2, 11.2, 11.2, 11.2, 2.4, 0.0, 0.0, 18.0, 27.4, 39.8, 46.6, 46.6, 28.6, 29.0, 27.6, 39.4, 54.8, 54.8, 45.0, 42.2, 47.2, 58.2, 87.4, 105.2, 104.6, 105.8, 108.0, 116.8, 116.0, 108.4, 106.6, 103.8, 89.6, 101.8, 129.6, 155.2, 158.4, 172.8, 184.4, 206.4, 217.4, 214.8, 192.2, 185.0, 150.2, 114.2, 103.8, 88.2, 54.6, 61.6, 58.2, 56.0, 94.4, 127.8, 137.4, 117.2, 103.4, 65.0, 35.8, 4.6, 4.6, 4.6, 4.6, 0.4, 1.2, 69.2, 167.4, 233.8, 284.0, 337.2, 304.0, 237.0, 204.8, 187.6, 174.4, 169.8, 172.4, 182.2, 187.4, 177.8, 184.4, 189.4, 179.8, 180.8, 173.6, 180.8, 172.2, 149.6], \"yaxis\": \"y\"}],                        {\"legend\": {\"title\": {\"text\": \"classe\"}, \"tracegroupgap\": 0}, \"margin\": {\"t\": 60}, \"template\": {\"data\": {\"bar\": [{\"error_x\": {\"color\": \"#2a3f5f\"}, \"error_y\": {\"color\": \"#2a3f5f\"}, \"marker\": {\"line\": {\"color\": \"#E5ECF6\", \"width\": 0.5}}, \"type\": \"bar\"}], \"barpolar\": [{\"marker\": {\"line\": {\"color\": \"#E5ECF6\", \"width\": 0.5}}, \"type\": \"barpolar\"}], \"carpet\": [{\"aaxis\": {\"endlinecolor\": \"#2a3f5f\", \"gridcolor\": \"white\", \"linecolor\": \"white\", \"minorgridcolor\": \"white\", \"startlinecolor\": \"#2a3f5f\"}, \"baxis\": {\"endlinecolor\": \"#2a3f5f\", \"gridcolor\": \"white\", \"linecolor\": \"white\", \"minorgridcolor\": \"white\", \"startlinecolor\": \"#2a3f5f\"}, \"type\": \"carpet\"}], \"choropleth\": [{\"colorbar\": {\"outlinewidth\": 0, \"ticks\": \"\"}, \"type\": \"choropleth\"}], \"contour\": [{\"colorbar\": {\"outlinewidth\": 0, \"ticks\": \"\"}, \"colorscale\": [[0.0, \"#0d0887\"], [0.1111111111111111, \"#46039f\"], [0.2222222222222222, \"#7201a8\"], [0.3333333333333333, \"#9c179e\"], [0.4444444444444444, \"#bd3786\"], [0.5555555555555556, \"#d8576b\"], [0.6666666666666666, \"#ed7953\"], [0.7777777777777778, \"#fb9f3a\"], [0.8888888888888888, \"#fdca26\"], [1.0, \"#f0f921\"]], \"type\": \"contour\"}], \"contourcarpet\": [{\"colorbar\": {\"outlinewidth\": 0, \"ticks\": \"\"}, \"type\": \"contourcarpet\"}], \"heatmap\": [{\"colorbar\": {\"outlinewidth\": 0, \"ticks\": \"\"}, \"colorscale\": [[0.0, \"#0d0887\"], [0.1111111111111111, \"#46039f\"], [0.2222222222222222, \"#7201a8\"], [0.3333333333333333, \"#9c179e\"], [0.4444444444444444, \"#bd3786\"], [0.5555555555555556, \"#d8576b\"], [0.6666666666666666, \"#ed7953\"], [0.7777777777777778, \"#fb9f3a\"], [0.8888888888888888, \"#fdca26\"], [1.0, \"#f0f921\"]], \"type\": \"heatmap\"}], \"heatmapgl\": [{\"colorbar\": {\"outlinewidth\": 0, \"ticks\": \"\"}, \"colorscale\": [[0.0, \"#0d0887\"], [0.1111111111111111, \"#46039f\"], [0.2222222222222222, \"#7201a8\"], [0.3333333333333333, \"#9c179e\"], [0.4444444444444444, \"#bd3786\"], [0.5555555555555556, \"#d8576b\"], [0.6666666666666666, \"#ed7953\"], [0.7777777777777778, \"#fb9f3a\"], [0.8888888888888888, \"#fdca26\"], [1.0, \"#f0f921\"]], \"type\": \"heatmapgl\"}], \"histogram\": [{\"marker\": {\"colorbar\": {\"outlinewidth\": 0, \"ticks\": \"\"}}, \"type\": \"histogram\"}], \"histogram2d\": [{\"colorbar\": {\"outlinewidth\": 0, \"ticks\": \"\"}, \"colorscale\": [[0.0, \"#0d0887\"], [0.1111111111111111, \"#46039f\"], [0.2222222222222222, \"#7201a8\"], [0.3333333333333333, \"#9c179e\"], [0.4444444444444444, \"#bd3786\"], [0.5555555555555556, \"#d8576b\"], [0.6666666666666666, \"#ed7953\"], [0.7777777777777778, \"#fb9f3a\"], [0.8888888888888888, \"#fdca26\"], [1.0, \"#f0f921\"]], \"type\": \"histogram2d\"}], \"histogram2dcontour\": [{\"colorbar\": {\"outlinewidth\": 0, \"ticks\": \"\"}, \"colorscale\": [[0.0, \"#0d0887\"], [0.1111111111111111, \"#46039f\"], [0.2222222222222222, \"#7201a8\"], [0.3333333333333333, \"#9c179e\"], [0.4444444444444444, \"#bd3786\"], [0.5555555555555556, \"#d8576b\"], [0.6666666666666666, \"#ed7953\"], [0.7777777777777778, \"#fb9f3a\"], [0.8888888888888888, \"#fdca26\"], [1.0, \"#f0f921\"]], \"type\": \"histogram2dcontour\"}], \"mesh3d\": [{\"colorbar\": {\"outlinewidth\": 0, \"ticks\": \"\"}, \"type\": \"mesh3d\"}], \"parcoords\": [{\"line\": {\"colorbar\": {\"outlinewidth\": 0, \"ticks\": \"\"}}, \"type\": \"parcoords\"}], \"pie\": [{\"automargin\": true, \"type\": \"pie\"}], \"scatter\": [{\"marker\": {\"colorbar\": {\"outlinewidth\": 0, \"ticks\": \"\"}}, \"type\": \"scatter\"}], \"scatter3d\": [{\"line\": {\"colorbar\": {\"outlinewidth\": 0, \"ticks\": \"\"}}, \"marker\": {\"colorbar\": {\"outlinewidth\": 0, \"ticks\": \"\"}}, \"type\": \"scatter3d\"}], \"scattercarpet\": [{\"marker\": {\"colorbar\": {\"outlinewidth\": 0, \"ticks\": \"\"}}, \"type\": \"scattercarpet\"}], \"scattergeo\": [{\"marker\": {\"colorbar\": {\"outlinewidth\": 0, \"ticks\": \"\"}}, \"type\": \"scattergeo\"}], \"scattergl\": [{\"marker\": {\"colorbar\": {\"outlinewidth\": 0, \"ticks\": \"\"}}, \"type\": \"scattergl\"}], \"scattermapbox\": [{\"marker\": {\"colorbar\": {\"outlinewidth\": 0, \"ticks\": \"\"}}, \"type\": \"scattermapbox\"}], \"scatterpolar\": [{\"marker\": {\"colorbar\": {\"outlinewidth\": 0, \"ticks\": \"\"}}, \"type\": \"scatterpolar\"}], \"scatterpolargl\": [{\"marker\": {\"colorbar\": {\"outlinewidth\": 0, \"ticks\": \"\"}}, \"type\": \"scatterpolargl\"}], \"scatterternary\": [{\"marker\": {\"colorbar\": {\"outlinewidth\": 0, \"ticks\": \"\"}}, \"type\": \"scatterternary\"}], \"surface\": [{\"colorbar\": {\"outlinewidth\": 0, \"ticks\": \"\"}, \"colorscale\": [[0.0, \"#0d0887\"], [0.1111111111111111, \"#46039f\"], [0.2222222222222222, \"#7201a8\"], [0.3333333333333333, \"#9c179e\"], [0.4444444444444444, \"#bd3786\"], [0.5555555555555556, \"#d8576b\"], [0.6666666666666666, \"#ed7953\"], [0.7777777777777778, \"#fb9f3a\"], [0.8888888888888888, \"#fdca26\"], [1.0, \"#f0f921\"]], \"type\": \"surface\"}], \"table\": [{\"cells\": {\"fill\": {\"color\": \"#EBF0F8\"}, \"line\": {\"color\": \"white\"}}, \"header\": {\"fill\": {\"color\": \"#C8D4E3\"}, \"line\": {\"color\": \"white\"}}, \"type\": \"table\"}]}, \"layout\": {\"annotationdefaults\": {\"arrowcolor\": \"#2a3f5f\", \"arrowhead\": 0, \"arrowwidth\": 1}, \"autotypenumbers\": \"strict\", \"coloraxis\": {\"colorbar\": {\"outlinewidth\": 0, \"ticks\": \"\"}}, \"colorscale\": {\"diverging\": [[0, \"#8e0152\"], [0.1, \"#c51b7d\"], [0.2, \"#de77ae\"], [0.3, \"#f1b6da\"], [0.4, \"#fde0ef\"], [0.5, \"#f7f7f7\"], [0.6, \"#e6f5d0\"], [0.7, \"#b8e186\"], [0.8, \"#7fbc41\"], [0.9, \"#4d9221\"], [1, \"#276419\"]], \"sequential\": [[0.0, \"#0d0887\"], [0.1111111111111111, \"#46039f\"], [0.2222222222222222, \"#7201a8\"], [0.3333333333333333, \"#9c179e\"], [0.4444444444444444, \"#bd3786\"], [0.5555555555555556, \"#d8576b\"], [0.6666666666666666, \"#ed7953\"], [0.7777777777777778, \"#fb9f3a\"], [0.8888888888888888, \"#fdca26\"], [1.0, \"#f0f921\"]], \"sequentialminus\": [[0.0, \"#0d0887\"], [0.1111111111111111, \"#46039f\"], [0.2222222222222222, \"#7201a8\"], [0.3333333333333333, \"#9c179e\"], [0.4444444444444444, \"#bd3786\"], [0.5555555555555556, \"#d8576b\"], [0.6666666666666666, \"#ed7953\"], [0.7777777777777778, \"#fb9f3a\"], [0.8888888888888888, \"#fdca26\"], [1.0, \"#f0f921\"]]}, \"colorway\": [\"#636efa\", \"#EF553B\", \"#00cc96\", \"#ab63fa\", \"#FFA15A\", \"#19d3f3\", \"#FF6692\", \"#B6E880\", \"#FF97FF\", \"#FECB52\"], \"font\": {\"color\": \"#2a3f5f\"}, \"geo\": {\"bgcolor\": \"white\", \"lakecolor\": \"white\", \"landcolor\": \"#E5ECF6\", \"showlakes\": true, \"showland\": true, \"subunitcolor\": \"white\"}, \"hoverlabel\": {\"align\": \"left\"}, \"hovermode\": \"closest\", \"mapbox\": {\"style\": \"light\"}, \"paper_bgcolor\": \"white\", \"plot_bgcolor\": \"#E5ECF6\", \"polar\": {\"angularaxis\": {\"gridcolor\": \"white\", \"linecolor\": \"white\", \"ticks\": \"\"}, \"bgcolor\": \"#E5ECF6\", \"radialaxis\": {\"gridcolor\": \"white\", \"linecolor\": \"white\", \"ticks\": \"\"}}, \"scene\": {\"xaxis\": {\"backgroundcolor\": \"#E5ECF6\", \"gridcolor\": \"white\", \"gridwidth\": 2, \"linecolor\": \"white\", \"showbackground\": true, \"ticks\": \"\", \"zerolinecolor\": \"white\"}, \"yaxis\": {\"backgroundcolor\": \"#E5ECF6\", \"gridcolor\": \"white\", \"gridwidth\": 2, \"linecolor\": \"white\", \"showbackground\": true, \"ticks\": \"\", \"zerolinecolor\": \"white\"}, \"zaxis\": {\"backgroundcolor\": \"#E5ECF6\", \"gridcolor\": \"white\", \"gridwidth\": 2, \"linecolor\": \"white\", \"showbackground\": true, \"ticks\": \"\", \"zerolinecolor\": \"white\"}}, \"shapedefaults\": {\"line\": {\"color\": \"#2a3f5f\"}}, \"ternary\": {\"aaxis\": {\"gridcolor\": \"white\", \"linecolor\": \"white\", \"ticks\": \"\"}, \"baxis\": {\"gridcolor\": \"white\", \"linecolor\": \"white\", \"ticks\": \"\"}, \"bgcolor\": \"#E5ECF6\", \"caxis\": {\"gridcolor\": \"white\", \"linecolor\": \"white\", \"ticks\": \"\"}}, \"title\": {\"x\": 0.05}, \"xaxis\": {\"automargin\": true, \"gridcolor\": \"white\", \"linecolor\": \"white\", \"ticks\": \"\", \"title\": {\"standoff\": 15}, \"zerolinecolor\": \"white\", \"zerolinewidth\": 2}, \"yaxis\": {\"automargin\": true, \"gridcolor\": \"white\", \"linecolor\": \"white\", \"ticks\": \"\", \"title\": {\"standoff\": 15}, \"zerolinecolor\": \"white\", \"zerolinewidth\": 2}}}, \"xaxis\": {\"anchor\": \"y\", \"domain\": [0.0, 1.0], \"title\": {\"text\": \"data\"}}, \"yaxis\": {\"anchor\": \"x\", \"domain\": [0.0, 1.0], \"title\": {\"text\": \"m\\u00e9dia m\\u00f3vel\"}}},                        {\"responsive\": true}                    ).then(function(){\n",
       "                            \n",
       "var gd = document.getElementById('661750f6-ecd8-4467-a5d4-7a9a7323d3ed');\n",
       "var x = new MutationObserver(function (mutations, observer) {{\n",
       "        var display = window.getComputedStyle(gd).display;\n",
       "        if (!display || display === 'none') {{\n",
       "            console.log([gd, 'removed!']);\n",
       "            Plotly.purge(gd);\n",
       "            observer.disconnect();\n",
       "        }}\n",
       "}});\n",
       "\n",
       "// Listen for the removal of the full notebook cells\n",
       "var notebookContainer = gd.closest('#notebook-container');\n",
       "if (notebookContainer) {{\n",
       "    x.observe(notebookContainer, {childList: true});\n",
       "}}\n",
       "\n",
       "// Listen for the clearing of the current output cell\n",
       "var outputEl = gd.closest('.output');\n",
       "if (outputEl) {{\n",
       "    x.observe(outputEl, {childList: true});\n",
       "}}\n",
       "\n",
       "                        })                };                });            </script>        </div>"
      ]
     },
     "metadata": {},
     "output_type": "display_data"
    }
   ],
   "source": [
    "fig = px.line(df_timeseries, x='data', y='média móvel',\n",
    "              color=\"classe\", line_group=\"classe\", hover_name=\"classe\")\n",
    "fig.show()"
   ]
  },
  {
   "cell_type": "code",
   "execution_count": null,
   "metadata": {},
   "outputs": [],
   "source": [
    "# stuart and students\n",
    "timeseries_stuart = df[df['autor_da_mensagem'] =='STUART'].groupby('timestamp').count()['remetente'].resample(frame).sum().to_frame()\n",
    "timeseries_users = df[df['autor_da_mensagem'] !='STUART'].groupby('timestamp').count()['remetente'].resample(frame).sum().to_frame()\n",
    "df_timeseries = pd.concat([timeseries_stuart,timeseries_users])\n",
    "df_timeseries['autor'] = ['STUART']*len(timeseries_stuart) + ['USUÁRIOS']*len(timeseries_users)\n",
    "df_timeseries.reset_index(level=0, inplace=True)\n",
    "\n",
    "print('Média de mensagens enviadas pelo STUART por dia:',timeseries_stuart.mean())\n",
    "print('Média de mensagens enviadas por alunos por dia:',timeseries_users.mean())\n",
    "\n",
    "fig = px.line(df_timeseries, x='timestamp', y='remetente',\n",
    "              color=\"autor\", line_group=\"autor\", hover_name=\"autor\")\n",
    "fig.show()"
   ]
  },
  {
   "cell_type": "markdown",
   "metadata": {},
   "source": [
    "# Network"
   ]
  },
  {
   "cell_type": "code",
   "execution_count": 21,
   "metadata": {},
   "outputs": [],
   "source": [
    "from pyvis.network import Network\n"
   ]
  },
  {
   "cell_type": "code",
   "execution_count": 50,
   "metadata": {},
   "outputs": [],
   "source": [
    "sample = pd.Series(df['id'].unique()).sample(2000).values\n",
    "df_sample = df[df.apply(lambda x: x['id'] in sample, axis = 1)]  "
   ]
  },
  {
   "cell_type": "code",
   "execution_count": 51,
   "metadata": {},
   "outputs": [],
   "source": [
    "def create_network(network_file, df):\n",
    "    net = Network(width = '1800px', height = '1000px', notebook = True, directed=False)\n",
    "    users = list(df['id'].unique())\n",
    "    print('number of users: ', len(users))\n",
    "    print('maximum number of interactions: ', len(users)**2)\n",
    "    added_nodes = []\n",
    "    added_edges = []\n",
    "    s = 8\n",
    "    for i, user in enumerate(users):\n",
    "        if i%50==0:\n",
    "            print('{} users processed'.format(i))\n",
    "        df_user = df[df['id']==user]\n",
    "        groups = df_user['group'].unique()\n",
    "        for group in groups:\n",
    "            users_in_group = df[df['group']==group]['id'].unique()\n",
    "            for user_in_group in users_in_group:\n",
    "                if (user,user_in_group) in added_edges or (user_in_group,user) in added_edges or user_in_group==user:\n",
    "                    continue\n",
    "                if user_in_group not in added_nodes:\n",
    "                    net.add_node(int(user_in_group), size = s, label = ' ')\n",
    "                    added_nodes.append(user_in_group)\n",
    "                if user not in added_nodes:\n",
    "                    net.add_node(int(user), size = s, label = ' ')\n",
    "                    added_nodes.append(user)\n",
    "                net.add_edge(int(user), int(user_in_group))\n",
    "                added_edges.append((user,user_in_group))\n",
    "\n",
    "    net.save_graph(network_file)\n",
    "    return net\n",
    "#net.show(network_file)            "
   ]
  },
  {
   "cell_type": "code",
   "execution_count": 52,
   "metadata": {},
   "outputs": [
    {
     "name": "stdout",
     "output_type": "stream",
     "text": [
      "number of users:  2000\n",
      "maximum number of interactions:  4000000\n",
      "0 users processed\n",
      "50 users processed\n",
      "100 users processed\n",
      "150 users processed\n",
      "200 users processed\n",
      "250 users processed\n",
      "300 users processed\n",
      "350 users processed\n",
      "400 users processed\n",
      "450 users processed\n",
      "500 users processed\n",
      "550 users processed\n",
      "600 users processed\n",
      "650 users processed\n",
      "700 users processed\n",
      "750 users processed\n",
      "800 users processed\n",
      "850 users processed\n",
      "900 users processed\n",
      "950 users processed\n",
      "1000 users processed\n",
      "1050 users processed\n",
      "1100 users processed\n",
      "1150 users processed\n",
      "1200 users processed\n",
      "1250 users processed\n",
      "1300 users processed\n",
      "1350 users processed\n",
      "1400 users processed\n",
      "1450 users processed\n",
      "1500 users processed\n",
      "1550 users processed\n",
      "1600 users processed\n",
      "1650 users processed\n",
      "1700 users processed\n",
      "1750 users processed\n",
      "1800 users processed\n",
      "1850 users processed\n",
      "1900 users processed\n",
      "1950 users processed\n"
     ]
    },
    {
     "data": {
      "text/plain": [
       "<class 'pyvis.network.Network'> |N|=2000 |E|=79,346"
      ]
     },
     "execution_count": 52,
     "metadata": {},
     "output_type": "execute_result"
    }
   ],
   "source": [
    "net = create_network('users_network_samples.html', df_sample)\n",
    "net"
   ]
  },
  {
   "cell_type": "code",
   "execution_count": 65,
   "metadata": {},
   "outputs": [],
   "source": [
    "net = Network(width = '1800px', height = '1000px', notebook = True, directed=False)\n",
    "added_nodes = []\n",
    "added_edges = []\n",
    "s = 5\n",
    "groups = list(df['group'].unique())\n",
    "for i in groups:\n",
    "    users_in_i = df[df['group']==i]['id'].unique()\n",
    "    for j in groups:\n",
    "        if (i,j) in added_edges or (j,i) in added_edges or i==j:\n",
    "            continue\n",
    "        if i not in added_nodes:\n",
    "            net.add_node(i,value=s, label=' ', title=i)\n",
    "            added_nodes.append(i)\n",
    "        if j not in added_nodes:\n",
    "            net.add_node(j,size=s, label=' ', title=j) \n",
    "            added_nodes.append(j)\n",
    "        users_in_j = df[df['group']==j]['id'].unique()\n",
    "        if set(users_in_i).intersection(set(users_in_j)):\n",
    "            net.add_edge(i, j)\n",
    "            "
   ]
  },
  {
   "cell_type": "code",
   "execution_count": 67,
   "metadata": {},
   "outputs": [],
   "source": [
    "# network_file = 'groups_graph.html'\n",
    "# net.save_graph(network_file)\n",
    "# net.show(network_file)"
   ]
  },
  {
   "cell_type": "code",
   "execution_count": 58,
   "metadata": {},
   "outputs": [
    {
     "name": "stdout",
     "output_type": "stream",
     "text": [
      "number of users:  5364\n",
      "maximum number of interactions:  28772496\n",
      "0 users processed\n",
      "50 users processed\n",
      "100 users processed\n",
      "150 users processed\n",
      "200 users processed\n",
      "250 users processed\n",
      "300 users processed\n",
      "350 users processed\n",
      "400 users processed\n",
      "450 users processed\n",
      "500 users processed\n",
      "550 users processed\n",
      "600 users processed\n",
      "650 users processed\n",
      "700 users processed\n",
      "750 users processed\n",
      "800 users processed\n",
      "850 users processed\n",
      "900 users processed\n",
      "950 users processed\n",
      "1000 users processed\n",
      "1050 users processed\n",
      "1100 users processed\n",
      "1150 users processed\n",
      "1200 users processed\n",
      "1250 users processed\n",
      "1300 users processed\n",
      "1350 users processed\n",
      "1400 users processed\n",
      "1450 users processed\n",
      "1500 users processed\n",
      "1550 users processed\n",
      "1600 users processed\n",
      "1650 users processed\n",
      "1700 users processed\n",
      "1750 users processed\n",
      "1800 users processed\n",
      "1850 users processed\n",
      "1900 users processed\n",
      "1950 users processed\n",
      "2000 users processed\n",
      "2050 users processed\n",
      "2100 users processed\n",
      "2150 users processed\n",
      "2200 users processed\n",
      "2250 users processed\n",
      "2300 users processed\n",
      "2350 users processed\n",
      "2400 users processed\n",
      "2450 users processed\n",
      "2500 users processed\n",
      "2550 users processed\n",
      "2600 users processed\n",
      "2650 users processed\n",
      "2700 users processed\n",
      "2750 users processed\n",
      "2800 users processed\n",
      "2850 users processed\n",
      "2900 users processed\n",
      "2950 users processed\n",
      "3000 users processed\n",
      "3050 users processed\n",
      "3100 users processed\n",
      "3150 users processed\n",
      "3200 users processed\n",
      "3250 users processed\n",
      "3300 users processed\n",
      "3350 users processed\n",
      "3400 users processed\n",
      "3450 users processed\n",
      "3500 users processed\n",
      "3550 users processed\n",
      "3600 users processed\n",
      "3650 users processed\n",
      "3700 users processed\n",
      "3750 users processed\n",
      "3800 users processed\n",
      "3850 users processed\n",
      "3900 users processed\n",
      "3950 users processed\n",
      "4000 users processed\n",
      "4050 users processed\n",
      "4100 users processed\n",
      "4150 users processed\n",
      "4200 users processed\n",
      "4250 users processed\n",
      "4300 users processed\n",
      "4350 users processed\n",
      "4400 users processed\n",
      "4450 users processed\n",
      "4500 users processed\n",
      "4550 users processed\n",
      "4600 users processed\n",
      "4650 users processed\n",
      "4700 users processed\n",
      "4750 users processed\n",
      "4800 users processed\n",
      "4850 users processed\n",
      "4900 users processed\n",
      "4950 users processed\n",
      "5000 users processed\n",
      "5050 users processed\n",
      "5100 users processed\n",
      "5150 users processed\n",
      "5200 users processed\n",
      "5250 users processed\n",
      "5300 users processed\n",
      "5350 users processed\n",
      "viral network\n",
      "nodes 5364\n",
      "edges 551069\n"
     ]
    }
   ],
   "source": [
    "# virals\n",
    "users = list(df['id'].unique())\n",
    "print('number of users: ', len(users))\n",
    "print('maximum number of interactions: ', len(users)**2)\n",
    "added_nodes = []\n",
    "added_edges = []\n",
    "for i, user in enumerate(users):\n",
    "    if i%50==0:\n",
    "        print('{} users processed'.format(i))\n",
    "    df_user = df[df['id']==user]\n",
    "    groups = df_user[df_user['viral']==1]['group'].unique()\n",
    "    for group in groups:\n",
    "        users_in_group = df[df['group']==group]['id'].unique()\n",
    "        for user_in_group in users_in_group:\n",
    "            if (user,user_in_group) in added_edges or user_in_group==user:\n",
    "                continue\n",
    "            if user_in_group not in added_nodes:\n",
    "                added_nodes.append(user_in_group)\n",
    "            if user not in added_nodes:\n",
    "                added_nodes.append(user)\n",
    "            added_edges.append((user,user_in_group))\n",
    "            \n",
    "print('viral network')             \n",
    "print('nodes',len(added_nodes))\n",
    "print('edges',len(added_edges))"
   ]
  },
  {
   "cell_type": "code",
   "execution_count": 59,
   "metadata": {},
   "outputs": [
    {
     "name": "stdout",
     "output_type": "stream",
     "text": [
      "number of users:  5364\n",
      "maximum number of interactions:  28772496\n",
      "0 users processed\n",
      "50 users processed\n",
      "100 users processed\n",
      "150 users processed\n",
      "200 users processed\n",
      "250 users processed\n",
      "300 users processed\n",
      "350 users processed\n",
      "400 users processed\n",
      "450 users processed\n",
      "500 users processed\n",
      "550 users processed\n",
      "600 users processed\n",
      "650 users processed\n",
      "700 users processed\n",
      "750 users processed\n",
      "800 users processed\n",
      "850 users processed\n",
      "900 users processed\n",
      "950 users processed\n",
      "1000 users processed\n",
      "1050 users processed\n",
      "1100 users processed\n",
      "1150 users processed\n",
      "1200 users processed\n",
      "1250 users processed\n",
      "1300 users processed\n",
      "1350 users processed\n",
      "1400 users processed\n",
      "1450 users processed\n",
      "1500 users processed\n",
      "1550 users processed\n",
      "1600 users processed\n",
      "1650 users processed\n",
      "1700 users processed\n",
      "1750 users processed\n",
      "1800 users processed\n",
      "1850 users processed\n",
      "1900 users processed\n",
      "1950 users processed\n",
      "2000 users processed\n",
      "2050 users processed\n",
      "2100 users processed\n",
      "2150 users processed\n",
      "2200 users processed\n",
      "2250 users processed\n",
      "2300 users processed\n",
      "2350 users processed\n",
      "2400 users processed\n",
      "2450 users processed\n",
      "2500 users processed\n",
      "2550 users processed\n",
      "2600 users processed\n",
      "2650 users processed\n",
      "2700 users processed\n",
      "2750 users processed\n",
      "2800 users processed\n",
      "2850 users processed\n",
      "2900 users processed\n",
      "2950 users processed\n",
      "3000 users processed\n",
      "3050 users processed\n",
      "3100 users processed\n",
      "3150 users processed\n",
      "3200 users processed\n",
      "3250 users processed\n",
      "3300 users processed\n",
      "3350 users processed\n",
      "3400 users processed\n",
      "3450 users processed\n",
      "3500 users processed\n",
      "3550 users processed\n",
      "3600 users processed\n",
      "3650 users processed\n",
      "3700 users processed\n",
      "3750 users processed\n",
      "3800 users processed\n",
      "3850 users processed\n",
      "3900 users processed\n",
      "3950 users processed\n",
      "4000 users processed\n",
      "4050 users processed\n",
      "4100 users processed\n",
      "4150 users processed\n",
      "4200 users processed\n",
      "4250 users processed\n",
      "4300 users processed\n",
      "4350 users processed\n",
      "4400 users processed\n",
      "4450 users processed\n",
      "4500 users processed\n",
      "4550 users processed\n",
      "4600 users processed\n",
      "4650 users processed\n",
      "4700 users processed\n",
      "4750 users processed\n",
      "4800 users processed\n",
      "4850 users processed\n",
      "4900 users processed\n",
      "4950 users processed\n",
      "5000 users processed\n",
      "5050 users processed\n",
      "5100 users processed\n",
      "5150 users processed\n",
      "5200 users processed\n",
      "5250 users processed\n",
      "5300 users processed\n",
      "5350 users processed\n",
      "misinformation network\n",
      "nodes 5342\n",
      "edges 433204\n"
     ]
    }
   ],
   "source": [
    "# misinformation\n",
    "users = list(df['id'].unique())\n",
    "print('number of users: ', len(users))\n",
    "print('maximum number of interactions: ', len(users)**2)\n",
    "added_nodes = []\n",
    "added_edges = []\n",
    "for i, user in enumerate(users):\n",
    "    if i%100==0:\n",
    "        print('{} users processed'.format(i))\n",
    "    df_user = df[df['id']==user]\n",
    "    groups = df_user[df_user['misinformation']==1]['group'].unique()\n",
    "    for group in groups:\n",
    "        users_in_group = df[df['group']==group]['id'].unique()\n",
    "        for user_in_group in users_in_group:\n",
    "            if (user,user_in_group) in added_edges or user_in_group==user:\n",
    "                continue\n",
    "            if user_in_group not in added_nodes:\n",
    "                added_nodes.append(user_in_group)\n",
    "            if user not in added_nodes:\n",
    "                added_nodes.append(user)\n",
    "            added_edges.append((user,user_in_group))\n",
    "            \n",
    "print('misinformation network')             \n",
    "print('nodes',len(added_nodes))\n",
    "print('edges',len(added_edges))"
   ]
  },
  {
   "cell_type": "code",
   "execution_count": 10,
   "metadata": {},
   "outputs": [
    {
     "name": "stdout",
     "output_type": "stream",
     "text": [
      "number of users:  5364\n",
      "maximum number of interactions:  28772496\n",
      "0 users processed\n",
      "100 users processed\n",
      "200 users processed\n",
      "300 users processed\n",
      "400 users processed\n",
      "500 users processed\n",
      "600 users processed\n",
      "700 users processed\n",
      "800 users processed\n",
      "900 users processed\n",
      "1000 users processed\n",
      "1100 users processed\n",
      "1200 users processed\n",
      "1300 users processed\n",
      "1400 users processed\n",
      "1500 users processed\n",
      "1600 users processed\n",
      "1700 users processed\n",
      "1800 users processed\n",
      "1900 users processed\n",
      "2000 users processed\n",
      "2100 users processed\n",
      "2200 users processed\n",
      "2300 users processed\n",
      "2400 users processed\n",
      "2500 users processed\n",
      "2600 users processed\n",
      "2700 users processed\n",
      "2800 users processed\n",
      "2900 users processed\n",
      "3000 users processed\n",
      "3100 users processed\n",
      "3200 users processed\n",
      "3300 users processed\n",
      "3400 users processed\n",
      "3500 users processed\n",
      "3600 users processed\n",
      "3700 users processed\n",
      "3800 users processed\n",
      "3900 users processed\n",
      "4000 users processed\n",
      "4100 users processed\n",
      "4200 users processed\n",
      "4300 users processed\n",
      "4400 users processed\n",
      "4500 users processed\n",
      "4600 users processed\n",
      "4700 users processed\n",
      "4800 users processed\n",
      "4900 users processed\n",
      "5000 users processed\n",
      "5100 users processed\n",
      "5200 users processed\n",
      "5300 users processed\n",
      "messages network\n",
      "nodes 5364\n",
      "edges 1125326\n"
     ]
    }
   ],
   "source": [
    "# messages network\n",
    "users = list(df['id'].unique())\n",
    "print('number of users: ', len(users))\n",
    "print('maximum number of interactions: ', len(users)**2)\n",
    "#added_nodes = []\n",
    "#added_edges = []\n",
    "for i, user in enumerate(users):\n",
    "    if i%100==0:\n",
    "        print('{} users processed'.format(i))\n",
    "    df_user = df[df['id']==user]\n",
    "    groups = df_user['group'].unique()\n",
    "    for group in groups:\n",
    "        users_in_group = df[df['group']==group]['id'].unique()\n",
    "        for user_in_group in users_in_group:\n",
    "            if (user,user_in_group) in added_edges or user_in_group==user:\n",
    "                continue\n",
    "            if user_in_group not in added_nodes:\n",
    "                added_nodes.append(user_in_group)\n",
    "            if user not in added_nodes:\n",
    "                added_nodes.append(user)\n",
    "            added_edges.append((user,user_in_group))\n",
    "            \n",
    "print('messages network')             \n",
    "print('nodes',len(added_nodes))\n",
    "print('edges',len(added_edges))"
   ]
  },
  {
   "cell_type": "code",
   "execution_count": 11,
   "metadata": {},
   "outputs": [
    {
     "name": "stdout",
     "output_type": "stream",
     "text": [
      "nodes 5364\n",
      "edges 1125326\n"
     ]
    }
   ],
   "source": [
    "print('nodes',len(added_nodes))\n",
    "print('edges',len(added_edges))"
   ]
  },
  {
   "cell_type": "code",
   "execution_count": 6,
   "metadata": {},
   "outputs": [],
   "source": [
    "import pickle\n",
    "#pickle.dump(added_nodes, open( \"nodes.p\", \"wb\" ))\n",
    "#pickle.dump(added_edges, open( \"edges.p\", \"wb\" ))"
   ]
  },
  {
   "cell_type": "code",
   "execution_count": 9,
   "metadata": {},
   "outputs": [],
   "source": [
    "with open(\"edges.p\", 'rb') as handle:\n",
    "    added_edges = pickle.load(handle)\n",
    "    \n",
    "with open(\"nodes.p\", 'rb') as handle:\n",
    "    added_nodes = pickle.load(handle)"
   ]
  },
  {
   "cell_type": "code",
   "execution_count": null,
   "metadata": {},
   "outputs": [],
   "source": []
  }
 ],
 "metadata": {
  "kernelspec": {
   "display_name": "env",
   "language": "python",
   "name": "env"
  },
  "language_info": {
   "codemirror_mode": {
    "name": "ipython",
    "version": 3
   },
   "file_extension": ".py",
   "mimetype": "text/x-python",
   "name": "python",
   "nbconvert_exporter": "python",
   "pygments_lexer": "ipython3",
   "version": "3.8.5"
  }
 },
 "nbformat": 4,
 "nbformat_minor": 4
}
