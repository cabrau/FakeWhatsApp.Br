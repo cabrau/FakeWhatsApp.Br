{
 "cells": [
  {
   "cell_type": "code",
   "execution_count": 1,
   "metadata": {},
   "outputs": [],
   "source": [
    "#utils\n",
    "import emoji, re, string, time, os\n",
    "from utils import get_test_metrics\n",
    "from utils import preprocess\n",
    "from utils import get_user_features, get_top_users\n",
    "import pandas as pd\n",
    "import numpy as np\n",
    "from scipy.stats import randint\n",
    "import pickle\n",
    "import math\n",
    "\n",
    "#nlp\n",
    "import nltk\n",
    "from nltk.corpus import stopwords\n",
    "import spacy\n",
    "from gensim.models import Word2Vec\n",
    "from gensim.models.callbacks import CallbackAny2Vec\n",
    "\n",
    "#dataviz\n",
    "import matplotlib.pyplot as plt\n",
    "import seaborn as sns\n",
    "\n",
    "#features\n",
    "from sklearn.feature_extraction.text import TfidfVectorizer\n",
    "from sklearn.feature_extraction.text import CountVectorizer\n",
    "from sklearn.metrics.pairwise import linear_kernel\n",
    "from sklearn import metrics\n",
    "from sklearn.model_selection import train_test_split\n",
    "\n",
    "#models\n",
    "from sklearn.linear_model import LogisticRegression\n",
    "from sklearn.neural_network import MLPClassifier\n",
    "from sklearn.naive_bayes import ComplementNB\n",
    "from sklearn.linear_model import SGDClassifier\n",
    "from sklearn.model_selection import RandomizedSearchCV\n",
    "from scipy.stats import uniform\n",
    "\n",
    "#data balancing\n",
    "from imblearn.over_sampling import SMOTE\n",
    "from imblearn.over_sampling import RandomOverSampler\n",
    "\n",
    "%matplotlib inline\n",
    "sns.set(style=\"darkgrid\")"
   ]
  },
  {
   "cell_type": "code",
   "execution_count": 2,
   "metadata": {},
   "outputs": [],
   "source": [
    "def optimal_threshold(prob,y):\n",
    "    best_thresold = 0\n",
    "    best_score = 0\n",
    "    \n",
    "    for i in range(100):\n",
    "        threshold = i/100\n",
    "        y_pred = [1 if p >= threshold else 0 for p in prob]\n",
    "        score = metrics.accuracy_score(y,y_pred)\n",
    "        \n",
    "        if score > best_score:\n",
    "            #print(score)\n",
    "            best_thresold = threshold\n",
    "            best_score = score\n",
    "            \n",
    "    return best_thresold\n",
    "\n",
    "# optimal mlp for tfidf\n",
    "def get_mlp():\n",
    "    clf = MLPClassifier(activation = 'relu', solver = 'adam',random_state = 42, \n",
    "                   tol = 1e-3, verbose = False, early_stopping = True, \n",
    "                   n_iter_no_change = 10, max_iter = 200,\n",
    "                   hidden_layer_sizes = (100,), alpha = 0.0067, \n",
    "                   learning_rate_init = .00026, batch_size = 50)\n",
    "    return clf\n",
    "\n",
    "# tunning hyperparameters mlp\n",
    "n_iter = 10\n",
    "def random_layers():\n",
    "    '''\n",
    "    Create a tuple random of hidden_layer_sizes. \n",
    "    '''\n",
    "    n_layers = np.random.randint(1,4)\n",
    "    layers_list = []\n",
    "    for i in range(n_layers):            \n",
    "        hidden_neurons = np.random.randint(1,15)*25\n",
    "        layers_list.append(hidden_neurons)\n",
    "    layers_tuple = tuple(layers_list)\n",
    "    return layers_tuple\n",
    "\n",
    "def random_search_mlp(X_train,y_train,n_iter=10):\n",
    "    \n",
    "    # hyperparams to optimize\n",
    "    hidden_layers = []\n",
    "    alphas = []\n",
    "    batch_sizes = []\n",
    "    learning_rate_inits = []\n",
    "    # sample\n",
    "    np.random.seed(0)\n",
    "    for i in range(n_iter):   \n",
    "        hl = random_layers()\n",
    "        #print(hl,end = '; ')\n",
    "        hidden_layers.append(hl)\n",
    "        ap = 10**np.random.uniform(-6,-2)\n",
    "        #print(ap, end = '; ')\n",
    "        alphas.append(ap)\n",
    "        learning = 10**np.random.uniform(-4,-1)\n",
    "        #print(learning, end = '; ')\n",
    "        learning_rate_inits.append(learning)\n",
    "        batch = np.random.randint(1,7)*50 #math.floor(10**np.random.uniform(1.5,2.6)) #np.random.randint(2,30)*10\n",
    "        #print(batch)\n",
    "        batch_sizes.append(batch)\n",
    "\n",
    "    # tunning\n",
    "    X_train_v, X_val, y_train_v, y_val = train_test_split(X_train, y_train, test_size=0.1, random_state=42)\n",
    "    best_score = 0\n",
    "    i = 0\n",
    "    for hl,bs,al,lri in zip(hidden_layers,batch_sizes,alphas,learning_rate_inits):\n",
    "        \n",
    "        clf = optimized_mlp(hl,bs,al,lri)\n",
    "\n",
    "        print(i, end= ' ')\n",
    "        i+=1\n",
    "        print()\n",
    "        print('hidden layers: {a}; alpha: {b:.5f}; learning rate: {c:.5f}; batch: {d}'.format(a=hl,b=al,c=lri,d=bs))    \n",
    "        clf.fit(X_train_v, y_train_v)\n",
    "        y_pred = clf.predict(X_val)        \n",
    "        y_prob = clf.predict_proba(X_val)[:,1]\n",
    "        \n",
    "        fpr, tpr, thresholds = metrics.roc_curve(y_val, y_prob, pos_label=1)\n",
    "        roc_auc = metrics.auc(fpr, tpr)\n",
    "        print('AUC: {a:.3f}'.format(a=roc_auc))       \n",
    "        if roc_auc > best_score:\n",
    "            best_score = roc_auc\n",
    "            best_params = (hl,bs,al,lri)\n",
    "\n",
    "        #print('validation rmse: {a:.3f}'.format(a=rmse))\n",
    "\n",
    "\n",
    "    hl,bs,al,lri = best_params\n",
    "    print()\n",
    "    print('--------------------')\n",
    "    print('BEST PARAMETERS (validation AUC = {a:.3f})'.format(a=best_score))\n",
    "    print('hidden layers: {a}; alpha: {b:.5f}; learning rate: {c:.5f}; batch: {d}'.format(a=hl,b=al,c=lri,d=bs))\n",
    "    print('--------------------')\n",
    "    return hl,bs,al,lri\n",
    "\n",
    "def optimized_mlp(hl,bs,al,lri):\n",
    "    clf = MLPClassifier(activation = 'relu', solver = 'adam',random_state = 42, \n",
    "                   tol = 1e-4, verbose = False, early_stopping = True, \n",
    "                   n_iter_no_change = 10, max_iter = 100,\n",
    "                   hidden_layer_sizes = hl, alpha = al, \n",
    "                   learning_rate_init = lri, batch_size = bs)\n",
    "    return clf\n",
    "\n",
    "def train_test(clf,X_train,X_test,y_train,y_test):\n",
    "    clf.fit(X_train,y_train)\n",
    "    y_pred = clf.predict(X_test)\n",
    "    y_prob = clf.predict_proba(X_test)[:,1]\n",
    "    test_metrics = get_test_metrics(y_test, y_pred, y_prob, full_metrics = True)\n",
    "    return test_metrics\n",
    "    \n"
   ]
  },
  {
   "cell_type": "code",
   "execution_count": 3,
   "metadata": {},
   "outputs": [],
   "source": [
    "# data correction\n",
    "# df = pd.read_csv('data/2018/fakeWhatsApp.BR_2018.csv')\n",
    "# df['misinformation'] = [mis if sha > 1 else -1 for mis,sha in zip(df['misinformation'], df['shares'])]\n",
    "# df.head()\n",
    "# df.to_csv('data/2018/fakeWhatsApp.BR_2018.csv',index=False)"
   ]
  },
  {
   "cell_type": "markdown",
   "metadata": {},
   "source": [
    "# Dataset expansion"
   ]
  },
  {
   "cell_type": "code",
   "execution_count": 3,
   "metadata": {},
   "outputs": [
    {
     "name": "stderr",
     "output_type": "stream",
     "text": [
      "/home/cabral/anaconda3/lib/python3.7/site-packages/IPython/core/interactiveshell.py:3049: DtypeWarning: Columns (3,6) have mixed types.Specify dtype option on import or set low_memory=False.\n",
      "  interactivity=interactivity, compiler=compiler, result=result)\n"
     ]
    },
    {
     "name": "stdout",
     "output_type": "stream",
     "text": [
      "size total data: 282601\n",
      "manually labelled messages: 20872\n"
     ]
    }
   ],
   "source": [
    "# messages\n",
    "df = pd.read_csv('data/2018/fakeWhatsApp.BR_2018.csv')\n",
    "df_texts = pd.read_csv('data/2018/fakeWhatsApp.BR_2018_preprocessed_texts.csv')\n",
    "df = pd.concat([df, df_texts], axis=1)\n",
    "df.drop(columns=['Unnamed: 0'],inplace=True)\n",
    "corpus = list(df[df['midia']==0]['preprocessed_text_lemma'].unique())\n",
    "print('size total data:',len(df))\n",
    "\n",
    "print('manually labelled messages:',len(df[df['shares']>1]))"
   ]
  },
  {
   "cell_type": "code",
   "execution_count": 4,
   "metadata": {},
   "outputs": [
    {
     "name": "stdout",
     "output_type": "stream",
     "text": [
      "unique manually labelled messages 5284\n"
     ]
    }
   ],
   "source": [
    "df_labelled = df[df['shares']>1].drop_duplicates(subset=['text'])\n",
    "print('unique manually labelled messages',len(df_labelled))"
   ]
  },
  {
   "cell_type": "code",
   "execution_count": 5,
   "metadata": {},
   "outputs": [],
   "source": [
    "X = df_labelled['text']\n",
    "y = df_labelled['misinformation']\n",
    "X_train, X_test, y_train, y_test = train_test_split(X, y, test_size=0.2, stratify = y, random_state=42)"
   ]
  },
  {
   "cell_type": "code",
   "execution_count": 104,
   "metadata": {},
   "outputs": [],
   "source": [
    "#9.19*(len(df)/5000)/60\n",
    "#df = df[0:5000]"
   ]
  },
  {
   "cell_type": "code",
   "execution_count": 7,
   "metadata": {},
   "outputs": [
    {
     "name": "stdout",
     "output_type": "stream",
     "text": [
      "1/10\n",
      "time ellapsed since last 10%: 0.0002627372741699219\n",
      "2/10\n",
      "time ellapsed since last 10%: 66.53936767578125\n",
      "3/10\n",
      "time ellapsed since last 10%: 65.82188963890076\n",
      "4/10\n",
      "time ellapsed since last 10%: 59.45518183708191\n",
      "5/10\n",
      "time ellapsed since last 10%: 60.14853358268738\n",
      "6/10\n",
      "time ellapsed since last 10%: 76.85988879203796\n",
      "7/10\n",
      "time ellapsed since last 10%: 84.7689299583435\n",
      "8/10\n",
      "time ellapsed since last 10%: 76.94213509559631\n",
      "9/10\n",
      "time ellapsed since last 10%: 82.89926242828369\n",
      "10/10\n",
      "time ellapsed since last 10%: 78.87689971923828\n",
      "11/10\n",
      "time ellapsed since last 10%: 87.98940920829773\n",
      "time ellapsed: 740.3423891067505\n"
     ]
    }
   ],
   "source": [
    "hidden_midia = '<Arquivo de mídia oculto>'\n",
    "threshold = 0.8\n",
    "\n",
    "labelled_texts = list(X_train)\n",
    "labels = list(y_train)\n",
    "non_labelled_texts = list(df['text'])\n",
    "test_texts = list(X_test)\n",
    "\n",
    "# vectorize non-labelled and labelled\n",
    "vectorizer = TfidfVectorizer()\n",
    "non_labelled_tfidf = vectorizer.fit_transform(non_labelled_texts)  \n",
    "tfidf_labels = vectorizer.transform(labelled_texts)\n",
    "non_labelled_tfidf_list = list(non_labelled_tfidf)\n",
    "\n",
    "best_msgs = []\n",
    "best_labels = []\n",
    "best_dists = []\n",
    "\n",
    "cen = int(len(non_labelled_tfidf_list)/10)\n",
    "\n",
    "start_loop = time.time()\n",
    "start_time = time.time()\n",
    "for i,msg in enumerate(non_labelled_tfidf_list):\n",
    "    \n",
    "    if(i%cen==0):\n",
    "        ith = int(i/cen + 1)\n",
    "        print(str(ith) + '/10')\n",
    "        end_time = time.time()\n",
    "        print('time ellapsed since last 10%:',end_time-start_time)\n",
    "        start_time = time.time()\n",
    "        \n",
    "    if non_labelled_texts[i] == hidden_midia or non_labelled_texts[i] in test_texts:\n",
    "#         best_labels.append(-1)\n",
    "#         best_msgs.append(None)\n",
    "#         best_dists.append(0) \n",
    "        continue\n",
    "        \n",
    "    cosine_similarities = linear_kernel(msg, tfidf_labels).flatten()\n",
    "    best_match_ix = np.argmax(cosine_similarities)\n",
    "    sim = np.max(cosine_similarities)\n",
    "    \n",
    "    if sim < threshold:\n",
    "        continue\n",
    "#         best_labels.append(-1)\n",
    "#         best_msgs.append(None)\n",
    "        \n",
    "    else:\n",
    "        best_labels.append(labels[best_match_ix])\n",
    "        best_msgs.append(labelled_texts[best_match_ix])\n",
    "        best_dists.append(sim)       \n",
    "        \n",
    "end_loop = time.time()\n",
    "print('time ellapsed:',end_loop-start_loop)"
   ]
  },
  {
   "cell_type": "code",
   "execution_count": 12,
   "metadata": {},
   "outputs": [],
   "source": [
    "y_train_exp = y_train.append(pd.Series(best_labels), ignore_index=True)\n",
    "X_train_text_exp = X_train.append(pd.Series(best_msgs), ignore_index=True)"
   ]
  },
  {
   "cell_type": "markdown",
   "metadata": {},
   "source": [
    "# Select texts and labels"
   ]
  },
  {
   "cell_type": "code",
   "execution_count": 8,
   "metadata": {},
   "outputs": [],
   "source": [
    "# select data\n",
    "#texts\n",
    "original_texts = df['text']\n",
    "texts = df['preprocessed_text_lemma']\n",
    "#target\n",
    "y = df['misinformation']"
   ]
  },
  {
   "cell_type": "code",
   "execution_count": 9,
   "metadata": {},
   "outputs": [
    {
     "name": "stdout",
     "output_type": "stream",
     "text": [
      "data balance in dataset\n"
     ]
    },
    {
     "data": {
      "image/png": "[encoded data removed]",
      "text/plain": [
       "<Figure size 432x288 with 1 Axes>"
      ]
     },
     "metadata": {
      "needs_background": "light"
     },
     "output_type": "display_data"
    }
   ],
   "source": [
    "def print_class_balance(y):\n",
    "    pos_mask = y == 1 \n",
    "    pos = y[pos_mask]\n",
    "    neg_mask = y == 0 \n",
    "    neg = y[neg_mask]\n",
    "    values = [pos.shape[0],neg.shape[0]]\n",
    "    keys = ['misinformation', 'non-misinformation']\n",
    "    g = sns.barplot(x = keys, y = values)\n",
    "    for p in g.patches:\n",
    "        g.annotate(format(p.get_height(), '.0f'), (p.get_x() + p.get_width() / 2., \n",
    "                                                   p.get_height()), ha = 'center', \n",
    "                   va = 'center', xytext = (0, 5), textcoords = 'offset points')\n",
    "print('data balance in dataset')        \n",
    "print_class_balance(y)"
   ]
  },
  {
   "cell_type": "markdown",
   "metadata": {},
   "source": [
    "# Train-test split by time"
   ]
  },
  {
   "cell_type": "code",
   "execution_count": 32,
   "metadata": {},
   "outputs": [
    {
     "data": {
      "text/plain": [
       "99016"
      ]
     },
     "execution_count": 32,
     "metadata": {},
     "output_type": "execute_result"
    }
   ],
   "source": [
    "len(corpus)"
   ]
  },
  {
   "cell_type": "markdown",
   "metadata": {},
   "source": [
    "# BoW"
   ]
  },
  {
   "cell_type": "code",
   "execution_count": 14,
   "metadata": {},
   "outputs": [
    {
     "data": {
      "text/plain": [
       "(24132, 415917)"
      ]
     },
     "execution_count": 14,
     "metadata": {},
     "output_type": "execute_result"
    }
   ],
   "source": [
    "#vectorizer = TfidfVectorizer(max_features = None, ngram_range = (2,2), lowercase = True, token_pattern = r'[^\\s]+')\n",
    "vectorizer = CountVectorizer(max_features = None, ngram_range = (1,3), #(1,3) \n",
    "                             lowercase = False, token_pattern = r'[^\\s]+',binary=True)\n",
    "vectorizer.fit(X_train_text_exp)   \n",
    "X_train_exp = vectorizer.transform(X_train_text_exp)\n",
    "X_test = vectorizer.transform(X_test)\n",
    "X_train_exp.shape"
   ]
  },
  {
   "cell_type": "code",
   "execution_count": null,
   "metadata": {},
   "outputs": [],
   "source": [
    "print(vectorizer.get_feature_names()[100:150])"
   ]
  },
  {
   "cell_type": "code",
   "execution_count": 15,
   "metadata": {
    "scrolled": true
   },
   "outputs": [
    {
     "name": "stdout",
     "output_type": "stream",
     "text": [
      "logistic regression + binary bow\n"
     ]
    },
    {
     "name": "stderr",
     "output_type": "stream",
     "text": [
      "/home/cabral/anaconda3/lib/python3.7/site-packages/sklearn/linear_model/_logistic.py:764: ConvergenceWarning: lbfgs failed to converge (status=1):\n",
      "STOP: TOTAL NO. of ITERATIONS REACHED LIMIT.\n",
      "\n",
      "Increase the number of iterations (max_iter) or scale the data as shown in:\n",
      "    https://scikit-learn.org/stable/modules/preprocessing.html\n",
      "Please also refer to the documentation for alternative solver options:\n",
      "    https://scikit-learn.org/stable/modules/linear_model.html#logistic-regression\n",
      "  extra_warning_msg=_LOGISTIC_SOLVER_CONVERGENCE_MSG)\n"
     ]
    },
    {
     "ename": "ValueError",
     "evalue": "Found input variables with inconsistent numbers of samples: [4227, 24132]",
     "output_type": "error",
     "traceback": [
      "\u001b[0;31m---------------------------------------------------------------------------\u001b[0m",
      "\u001b[0;31mValueError\u001b[0m                                Traceback (most recent call last)",
      "\u001b[0;32m<ipython-input-15-7b9723788cb3>\u001b[0m in \u001b[0;36m<module>\u001b[0;34m\u001b[0m\n\u001b[1;32m      8\u001b[0m \u001b[0;34m\u001b[0m\u001b[0m\n\u001b[1;32m      9\u001b[0m \u001b[0;31m#thr = optimal_threshold(y_prob,y_test)\u001b[0m\u001b[0;34m\u001b[0m\u001b[0;34m\u001b[0m\u001b[0;34m\u001b[0m\u001b[0m\n\u001b[0;32m---> 10\u001b[0;31m \u001b[0mthr\u001b[0m \u001b[0;34m=\u001b[0m \u001b[0moptimal_threshold\u001b[0m\u001b[0;34m(\u001b[0m\u001b[0my_prob_train\u001b[0m\u001b[0;34m,\u001b[0m\u001b[0my_train\u001b[0m\u001b[0;34m)\u001b[0m\u001b[0;34m\u001b[0m\u001b[0;34m\u001b[0m\u001b[0m\n\u001b[0m\u001b[1;32m     11\u001b[0m \u001b[0mprint\u001b[0m\u001b[0;34m(\u001b[0m\u001b[0mthr\u001b[0m\u001b[0;34m)\u001b[0m\u001b[0;34m\u001b[0m\u001b[0;34m\u001b[0m\u001b[0m\n\u001b[1;32m     12\u001b[0m \u001b[0my_pred\u001b[0m \u001b[0;34m=\u001b[0m \u001b[0;34m[\u001b[0m\u001b[0;36m1\u001b[0m \u001b[0;32mif\u001b[0m \u001b[0mp\u001b[0m \u001b[0;34m>=\u001b[0m \u001b[0mthr\u001b[0m \u001b[0;32melse\u001b[0m \u001b[0;36m0\u001b[0m \u001b[0;32mfor\u001b[0m \u001b[0mp\u001b[0m \u001b[0;32min\u001b[0m \u001b[0my_prob\u001b[0m\u001b[0;34m]\u001b[0m\u001b[0;34m\u001b[0m\u001b[0;34m\u001b[0m\u001b[0m\n",
      "\u001b[0;32m<ipython-input-2-6ce75006ca42>\u001b[0m in \u001b[0;36moptimal_threshold\u001b[0;34m(prob, y)\u001b[0m\n\u001b[1;32m      6\u001b[0m         \u001b[0mthreshold\u001b[0m \u001b[0;34m=\u001b[0m \u001b[0mi\u001b[0m\u001b[0;34m/\u001b[0m\u001b[0;36m100\u001b[0m\u001b[0;34m\u001b[0m\u001b[0;34m\u001b[0m\u001b[0m\n\u001b[1;32m      7\u001b[0m         \u001b[0my_pred\u001b[0m \u001b[0;34m=\u001b[0m \u001b[0;34m[\u001b[0m\u001b[0;36m1\u001b[0m \u001b[0;32mif\u001b[0m \u001b[0mp\u001b[0m \u001b[0;34m>=\u001b[0m \u001b[0mthreshold\u001b[0m \u001b[0;32melse\u001b[0m \u001b[0;36m0\u001b[0m \u001b[0;32mfor\u001b[0m \u001b[0mp\u001b[0m \u001b[0;32min\u001b[0m \u001b[0mprob\u001b[0m\u001b[0;34m]\u001b[0m\u001b[0;34m\u001b[0m\u001b[0;34m\u001b[0m\u001b[0m\n\u001b[0;32m----> 8\u001b[0;31m         \u001b[0mscore\u001b[0m \u001b[0;34m=\u001b[0m \u001b[0mmetrics\u001b[0m\u001b[0;34m.\u001b[0m\u001b[0maccuracy_score\u001b[0m\u001b[0;34m(\u001b[0m\u001b[0my\u001b[0m\u001b[0;34m,\u001b[0m\u001b[0my_pred\u001b[0m\u001b[0;34m)\u001b[0m\u001b[0;34m\u001b[0m\u001b[0;34m\u001b[0m\u001b[0m\n\u001b[0m\u001b[1;32m      9\u001b[0m \u001b[0;34m\u001b[0m\u001b[0m\n\u001b[1;32m     10\u001b[0m         \u001b[0;32mif\u001b[0m \u001b[0mscore\u001b[0m \u001b[0;34m>\u001b[0m \u001b[0mbest_score\u001b[0m\u001b[0;34m:\u001b[0m\u001b[0;34m\u001b[0m\u001b[0;34m\u001b[0m\u001b[0m\n",
      "\u001b[0;32m~/anaconda3/lib/python3.7/site-packages/sklearn/utils/validation.py\u001b[0m in \u001b[0;36minner_f\u001b[0;34m(*args, **kwargs)\u001b[0m\n\u001b[1;32m     70\u001b[0m                           FutureWarning)\n\u001b[1;32m     71\u001b[0m         \u001b[0mkwargs\u001b[0m\u001b[0;34m.\u001b[0m\u001b[0mupdate\u001b[0m\u001b[0;34m(\u001b[0m\u001b[0;34m{\u001b[0m\u001b[0mk\u001b[0m\u001b[0;34m:\u001b[0m \u001b[0marg\u001b[0m \u001b[0;32mfor\u001b[0m \u001b[0mk\u001b[0m\u001b[0;34m,\u001b[0m \u001b[0marg\u001b[0m \u001b[0;32min\u001b[0m \u001b[0mzip\u001b[0m\u001b[0;34m(\u001b[0m\u001b[0msig\u001b[0m\u001b[0;34m.\u001b[0m\u001b[0mparameters\u001b[0m\u001b[0;34m,\u001b[0m \u001b[0margs\u001b[0m\u001b[0;34m)\u001b[0m\u001b[0;34m}\u001b[0m\u001b[0;34m)\u001b[0m\u001b[0;34m\u001b[0m\u001b[0;34m\u001b[0m\u001b[0m\n\u001b[0;32m---> 72\u001b[0;31m         \u001b[0;32mreturn\u001b[0m \u001b[0mf\u001b[0m\u001b[0;34m(\u001b[0m\u001b[0;34m**\u001b[0m\u001b[0mkwargs\u001b[0m\u001b[0;34m)\u001b[0m\u001b[0;34m\u001b[0m\u001b[0;34m\u001b[0m\u001b[0m\n\u001b[0m\u001b[1;32m     73\u001b[0m     \u001b[0;32mreturn\u001b[0m \u001b[0minner_f\u001b[0m\u001b[0;34m\u001b[0m\u001b[0;34m\u001b[0m\u001b[0m\n\u001b[1;32m     74\u001b[0m \u001b[0;34m\u001b[0m\u001b[0m\n",
      "\u001b[0;32m~/anaconda3/lib/python3.7/site-packages/sklearn/metrics/_classification.py\u001b[0m in \u001b[0;36maccuracy_score\u001b[0;34m(y_true, y_pred, normalize, sample_weight)\u001b[0m\n\u001b[1;32m    185\u001b[0m \u001b[0;34m\u001b[0m\u001b[0m\n\u001b[1;32m    186\u001b[0m     \u001b[0;31m# Compute accuracy for each possible representation\u001b[0m\u001b[0;34m\u001b[0m\u001b[0;34m\u001b[0m\u001b[0;34m\u001b[0m\u001b[0m\n\u001b[0;32m--> 187\u001b[0;31m     \u001b[0my_type\u001b[0m\u001b[0;34m,\u001b[0m \u001b[0my_true\u001b[0m\u001b[0;34m,\u001b[0m \u001b[0my_pred\u001b[0m \u001b[0;34m=\u001b[0m \u001b[0m_check_targets\u001b[0m\u001b[0;34m(\u001b[0m\u001b[0my_true\u001b[0m\u001b[0;34m,\u001b[0m \u001b[0my_pred\u001b[0m\u001b[0;34m)\u001b[0m\u001b[0;34m\u001b[0m\u001b[0;34m\u001b[0m\u001b[0m\n\u001b[0m\u001b[1;32m    188\u001b[0m     \u001b[0mcheck_consistent_length\u001b[0m\u001b[0;34m(\u001b[0m\u001b[0my_true\u001b[0m\u001b[0;34m,\u001b[0m \u001b[0my_pred\u001b[0m\u001b[0;34m,\u001b[0m \u001b[0msample_weight\u001b[0m\u001b[0;34m)\u001b[0m\u001b[0;34m\u001b[0m\u001b[0;34m\u001b[0m\u001b[0m\n\u001b[1;32m    189\u001b[0m     \u001b[0;32mif\u001b[0m \u001b[0my_type\u001b[0m\u001b[0;34m.\u001b[0m\u001b[0mstartswith\u001b[0m\u001b[0;34m(\u001b[0m\u001b[0;34m'multilabel'\u001b[0m\u001b[0;34m)\u001b[0m\u001b[0;34m:\u001b[0m\u001b[0;34m\u001b[0m\u001b[0;34m\u001b[0m\u001b[0m\n",
      "\u001b[0;32m~/anaconda3/lib/python3.7/site-packages/sklearn/metrics/_classification.py\u001b[0m in \u001b[0;36m_check_targets\u001b[0;34m(y_true, y_pred)\u001b[0m\n\u001b[1;32m     79\u001b[0m     \u001b[0my_pred\u001b[0m \u001b[0;34m:\u001b[0m \u001b[0marray\u001b[0m \u001b[0;32mor\u001b[0m \u001b[0mindicator\u001b[0m \u001b[0mmatrix\u001b[0m\u001b[0;34m\u001b[0m\u001b[0;34m\u001b[0m\u001b[0m\n\u001b[1;32m     80\u001b[0m     \"\"\"\n\u001b[0;32m---> 81\u001b[0;31m     \u001b[0mcheck_consistent_length\u001b[0m\u001b[0;34m(\u001b[0m\u001b[0my_true\u001b[0m\u001b[0;34m,\u001b[0m \u001b[0my_pred\u001b[0m\u001b[0;34m)\u001b[0m\u001b[0;34m\u001b[0m\u001b[0;34m\u001b[0m\u001b[0m\n\u001b[0m\u001b[1;32m     82\u001b[0m     \u001b[0mtype_true\u001b[0m \u001b[0;34m=\u001b[0m \u001b[0mtype_of_target\u001b[0m\u001b[0;34m(\u001b[0m\u001b[0my_true\u001b[0m\u001b[0;34m)\u001b[0m\u001b[0;34m\u001b[0m\u001b[0;34m\u001b[0m\u001b[0m\n\u001b[1;32m     83\u001b[0m     \u001b[0mtype_pred\u001b[0m \u001b[0;34m=\u001b[0m \u001b[0mtype_of_target\u001b[0m\u001b[0;34m(\u001b[0m\u001b[0my_pred\u001b[0m\u001b[0;34m)\u001b[0m\u001b[0;34m\u001b[0m\u001b[0;34m\u001b[0m\u001b[0m\n",
      "\u001b[0;32m~/anaconda3/lib/python3.7/site-packages/sklearn/utils/validation.py\u001b[0m in \u001b[0;36mcheck_consistent_length\u001b[0;34m(*arrays)\u001b[0m\n\u001b[1;32m    254\u001b[0m     \u001b[0;32mif\u001b[0m \u001b[0mlen\u001b[0m\u001b[0;34m(\u001b[0m\u001b[0muniques\u001b[0m\u001b[0;34m)\u001b[0m \u001b[0;34m>\u001b[0m \u001b[0;36m1\u001b[0m\u001b[0;34m:\u001b[0m\u001b[0;34m\u001b[0m\u001b[0;34m\u001b[0m\u001b[0m\n\u001b[1;32m    255\u001b[0m         raise ValueError(\"Found input variables with inconsistent numbers of\"\n\u001b[0;32m--> 256\u001b[0;31m                          \" samples: %r\" % [int(l) for l in lengths])\n\u001b[0m\u001b[1;32m    257\u001b[0m \u001b[0;34m\u001b[0m\u001b[0m\n\u001b[1;32m    258\u001b[0m \u001b[0;34m\u001b[0m\u001b[0m\n",
      "\u001b[0;31mValueError\u001b[0m: Found input variables with inconsistent numbers of samples: [4227, 24132]"
     ]
    }
   ],
   "source": [
    "print('logistic regression + binary bow')\n",
    "clf = LogisticRegression()\n",
    "clf.fit(X_train_exp,y_train_exp)\n",
    "\n",
    "y_prob = clf.predict_proba(X_test)[:,1]\n",
    "y_prob_train = clf.predict_proba(X_train_exp)[:,1]\n",
    "# threshold moving\n"
   ]
  },
  {
   "cell_type": "code",
   "execution_count": 16,
   "metadata": {},
   "outputs": [
    {
     "name": "stdout",
     "output_type": "stream",
     "text": [
      "0.32\n",
      "              precision    recall  f1-score   support\n",
      "\n",
      "           0       0.79      0.80      0.80       618\n",
      "           1       0.71      0.71      0.71       439\n",
      "\n",
      "    accuracy                           0.76      1057\n",
      "   macro avg       0.75      0.75      0.75      1057\n",
      "weighted avg       0.76      0.76      0.76      1057\n",
      "\n",
      "AUC:  0.8298058989613051\n"
     ]
    },
    {
     "data": {
      "image/png": "[encoded data removed]",
      "text/plain": [
       "<Figure size 1080x360 with 3 Axes>"
      ]
     },
     "metadata": {
      "needs_background": "light"
     },
     "output_type": "display_data"
    },
    {
     "data": {
      "text/plain": [
       "(0.760643330179754,\n",
       " 0.7142857142857143,\n",
       " 0.7961321514907334,\n",
       " 0.7061503416856492,\n",
       " 0.7961321514907334,\n",
       " 0.7101947308132874,\n",
       " 0.7961321514907334,\n",
       " 0.8298058989613051)"
      ]
     },
     "execution_count": 16,
     "metadata": {},
     "output_type": "execute_result"
    }
   ],
   "source": [
    "#thr = optimal_threshold(y_prob,y_test)\n",
    "thr = optimal_threshold(y_prob_train,y_train_exp)\n",
    "print(thr)\n",
    "y_pred = [1 if p >= thr else 0 for p in y_prob]\n",
    "get_test_metrics(y_test, y_pred, y_prob, full_metrics = True)"
   ]
  },
  {
   "cell_type": "code",
   "execution_count": null,
   "metadata": {},
   "outputs": [],
   "source": [
    "print('mlp + bow')\n",
    "clf = MLPClassifier(activation = 'relu', solver = 'adam',random_state = 42, \n",
    "                   tol = 1e-3, verbose = True, early_stopping = True, \n",
    "                   n_iter_no_change = 3, max_iter = 20,\n",
    "                   hidden_layer_sizes = (100,), alpha = .0001, \n",
    "                   learning_rate_init = .0001, batch_size = 200)\n",
    "\n",
    "clf.fit(X_train,y_train)\n",
    "\n",
    "y_prob = clf.predict_proba(X_test)[:,1]\n",
    "y_prob_train = clf.predict_proba(X_train)[:,1]\n",
    "# threshold moving\n",
    "thr = optimal_threshold(y_prob_train,y_train)\n",
    "print(thr)\n",
    "y_pred = [1 if p >= thr else 0 for p in y_prob]\n",
    "get_test_metrics(y_test, y_pred, y_prob, full_metrics = True)"
   ]
  },
  {
   "cell_type": "markdown",
   "metadata": {},
   "source": [
    "# Topic modelling (LDA)"
   ]
  },
  {
   "cell_type": "code",
   "execution_count": 133,
   "metadata": {},
   "outputs": [],
   "source": [
    "# # topics\n",
    "# from gensim.models import LdaModel\n",
    "# from gensim.corpora.dictionary import Dictionary\n",
    "# n_topics = 15\n",
    "\n",
    "# def train_lda(corpus, n_topics = 100):\n",
    "#     common_texts = [x.split() for x in corpus]\n",
    "#     common_dictionary = Dictionary(common_texts)\n",
    "#     common_corpus = [common_dictionary.doc2bow(text) for text in common_texts]\n",
    "#     lda = LdaModel(common_corpus, num_topics=n_topics)\n",
    "#     return lda, common_dictionary\n",
    "\n",
    "# lda, common_dictionary = train_lda(X_train_texts, n_topics)"
   ]
  },
  {
   "cell_type": "code",
   "execution_count": 134,
   "metadata": {},
   "outputs": [],
   "source": [
    "# # vectorizing\n",
    "# def tup2array(tuples,n_topics):\n",
    "#     topics = np.zeros(n_topics)\n",
    "#     for t, p in tuples:\n",
    "#         topics[t] = p\n",
    "#     return topics\n",
    "\n",
    "# def vectorize_topics(X,lda):\n",
    "#     X = [lda[x] for x in X]\n",
    "#     X = [tup2array(v,lda.num_topics) for v in X]\n",
    "#     return X\n",
    "\n",
    "# def texts2topics(texts,lda):\n",
    "#     X = [x.split() for x in texts]\n",
    "#     X = [common_dictionary.doc2bow(text) for text in X]\n",
    "#     X = vectorize_topics(X,lda)\n",
    "#     return X\n",
    "    \n",
    "\n",
    "# X_train_topics = texts2topics(X_train_texts,lda)\n",
    "# X_test_topics = texts2topics(X_test_texts,lda)"
   ]
  },
  {
   "cell_type": "code",
   "execution_count": 135,
   "metadata": {},
   "outputs": [],
   "source": [
    "# print('logistic regression + lda')\n",
    "# clf = LogisticRegression()\n",
    "# clf.fit(X_train_topics,y_train)\n",
    "# y_prob = clf.predict_proba(X_test_topics)[:,1]\n",
    "# y_prob_train = clf.predict_proba(X_train_topics)[:,1]\n",
    "# thr = optimal_threshold(y_prob_train,y_train)\n",
    "# print(thr)\n",
    "# y_pred = [1 if p >= thr else 0 for p in y_prob]\n",
    "# test_metrics = get_test_metrics(y_test, y_pred, y_prob, full_metrics = True)"
   ]
  },
  {
   "cell_type": "code",
   "execution_count": 136,
   "metadata": {},
   "outputs": [],
   "source": [
    "# print('mlp + lda')\n",
    "# # clf = MLPClassifier(activation = 'relu', solver = 'adam',random_state = 42, \n",
    "# #                    tol = 1e-3, verbose = True, early_stopping = True, \n",
    "# #                    n_iter_no_change = 3, max_iter = 100,\n",
    "# #                    hidden_layer_sizes = (100,), alpha = .00001, \n",
    "# #                    learning_rate_init = .0001, batch_size = 32)\n",
    "# # hl,bs,al,lri = random_search_mlp(X_train_topics,y_train,n_iter)\n",
    "# # clf = optimized_mlp(hl,bs,al,lri)\n",
    "\n",
    "# # results = train_test(clf,X_train_topics,X_test_topics,y_train,y_test)\n",
    "\n",
    "# hl,bs,al,lri = random_search_mlp(X_train_topics,y_train,n_iter)\n",
    "# clf = optimized_mlp(hl,bs,al,lri)\n",
    "# clf.fit(X_train_topics,y_train)\n",
    "# y_prob = clf.predict_proba(X_test_topics)[:,1]\n",
    "# y_prob_train = clf.predict_proba(X_train_topics)[:,1]\n",
    "# thr = optimal_threshold(y_prob_train,y_train)\n",
    "# print(thr)\n",
    "# y_pred = [1 if p >= thr else 0 for p in y_prob]\n",
    "# test_metrics = get_test_metrics(y_test, y_pred, y_prob, full_metrics = True)"
   ]
  },
  {
   "cell_type": "markdown",
   "metadata": {},
   "source": [
    "# Word embeddings"
   ]
  },
  {
   "cell_type": "code",
   "execution_count": 137,
   "metadata": {},
   "outputs": [],
   "source": [
    "from gensim.models import Word2Vec\n",
    "from gensim.models.callbacks import CallbackAny2Vec"
   ]
  },
  {
   "cell_type": "code",
   "execution_count": 138,
   "metadata": {},
   "outputs": [
    {
     "data": {
      "text/plain": [
       "99016"
      ]
     },
     "execution_count": 138,
     "metadata": {},
     "output_type": "execute_result"
    }
   ],
   "source": [
    "len(corpus)"
   ]
  },
  {
   "cell_type": "code",
   "execution_count": 139,
   "metadata": {},
   "outputs": [
    {
     "name": "stdout",
     "output_type": "stream",
     "text": [
      "W2V: Epoch #1\n",
      "W2V: Epoch #2\n",
      "W2V: Epoch #3\n",
      "W2V: Epoch #4\n",
      "W2V: Epoch #5\n",
      "W2V: Epoch #6\n",
      "W2V: Epoch #7\n",
      "W2V: Epoch #8\n",
      "W2V: Epoch #9\n",
      "W2V: Epoch #10\n",
      "W2V: Epoch #11\n",
      "W2V: Epoch #12\n",
      "W2V: Epoch #13\n",
      "W2V: Epoch #14\n",
      "W2V: Epoch #15\n"
     ]
    }
   ],
   "source": [
    "class EpochLogger(CallbackAny2Vec):\n",
    "    \"\"\"Callback to log information about training\"\"\"\n",
    "\n",
    "    def __init__(self):\n",
    "        self.epoch = 0\n",
    "\n",
    "    def on_epoch_begin(self, model):\n",
    "        self.epoch += 1\n",
    "        print(\"W2V: Epoch #{}\".format(self.epoch))\n",
    "        \n",
    "epoch_logger = EpochLogger()\n",
    "\n",
    "w2v = Word2Vec(min_count=1)\n",
    "w2v.build_vocab(corpus)  # prepare the model vocabulary\n",
    "w2v.train(corpus, total_examples=w2v.corpus_count, \n",
    "            epochs=15, compute_loss=True, \n",
    "            callbacks=[epoch_logger])\n",
    "\n",
    "w2v.save(\"data/2018/word2vec_train.model\")\n",
    "\n",
    "w2v = Word2Vec.load(\"data/2018/word2vec_train.model\")"
   ]
  },
  {
   "cell_type": "code",
   "execution_count": 140,
   "metadata": {},
   "outputs": [
    {
     "name": "stderr",
     "output_type": "stream",
     "text": [
      "/home/cabral/anaconda3/lib/python3.7/site-packages/ipykernel_launcher.py:1: DeprecationWarning: Call to deprecated `most_similar` (Method will be removed in 4.0.0, use self.wv.most_similar() instead).\n",
      "  \"\"\"Entry point for launching an IPython kernel.\n"
     ]
    },
    {
     "data": {
      "text/plain": [
       "[('dars', 0.7146254181861877),\n",
       " ('vosso', 0.6393389105796814),\n",
       " ('senhor', 0.6037132143974304),\n",
       " ('cristo', 0.5999789834022522),\n",
       " ('orar', 0.5988916754722595),\n",
       " ('ceus', 0.5961741209030151),\n",
       " ('oracao', 0.589393138885498),\n",
       " ('paz', 0.5810234546661377),\n",
       " ('ti', 0.580318808555603),\n",
       " ('coracao', 0.5780038237571716)]"
      ]
     },
     "execution_count": 140,
     "metadata": {},
     "output_type": "execute_result"
    }
   ],
   "source": [
    "w2v.most_similar(positive=['deus'])"
   ]
  },
  {
   "cell_type": "code",
   "execution_count": 141,
   "metadata": {},
   "outputs": [
    {
     "name": "stderr",
     "output_type": "stream",
     "text": [
      "/home/cabral/anaconda3/lib/python3.7/site-packages/ipykernel_launcher.py:23: DeprecationWarning: Call to deprecated `__getitem__` (Method will be removed in 4.0.0, use self.wv.__getitem__() instead).\n"
     ]
    },
    {
     "data": {
      "text/plain": [
       "array([[ 0.76043952,  0.88879251, -0.90697527, ...,  2.15013814,\n",
       "         0.7196781 ,  0.28560203],\n",
       "       [ 3.00207233, -4.6533699 , -0.19180547, ..., -0.1885826 ,\n",
       "        -1.59377575,  0.92375523],\n",
       "       [-0.58913201,  0.45220304,  0.12042369, ...,  2.04464436,\n",
       "         0.13235311, -0.52890253],\n",
       "       ...,\n",
       "       [-0.42522535, -0.17314038, -0.21733224, ...,  0.18411075,\n",
       "         0.0935633 , -0.13170595],\n",
       "       [-0.26353815,  0.03204688, -0.65704316, ..., -0.42762509,\n",
       "        -1.10094047, -0.71728772],\n",
       "       [ 3.00207233, -4.6533699 , -0.19180547, ..., -0.1885826 ,\n",
       "        -1.59377575,  0.92375523]])"
      ]
     },
     "execution_count": 141,
     "metadata": {},
     "output_type": "execute_result"
    }
   ],
   "source": [
    "def vectorize_text(model, text, method='mean'):\n",
    "        \"\"\"\n",
    "        Convert all words in a text to their embedding vector\n",
    "        and calculate a vector for the text, by the mean or the sum of word vectors\n",
    "        Parameters\n",
    "        ----------\n",
    "        text: str\n",
    "        Text from wich the word vector's will be calculated    \n",
    "        \n",
    "        method: str\n",
    "        'mean' or 'sum'\n",
    "            \n",
    "        Returns\n",
    "        -------\n",
    "        vec: numpy.ndarray \n",
    "        Array of the word embeddings from the given text \n",
    "        \"\"\"\n",
    "        n = model.vector_size\n",
    "        X = np.empty(shape=[0, n])\n",
    "        words = text.split()\n",
    "        for word in words:\n",
    "            try:\n",
    "                vec = model[word]\n",
    "                X = np.append(X,[vec], axis = 0)\n",
    "            # if oov:    \n",
    "            except:\n",
    "                #print('word not in vocabulary: ', word)\n",
    "                continue\n",
    "        if X.size == 0:\n",
    "            vec = np.zeros(n)\n",
    "        elif method == 'mean':\n",
    "            vec = np.mean(X,axis=0)\n",
    "        elif method == 'sum':\n",
    "            vec = np.sum(X,axis=0)\n",
    "        return vec\n",
    "    \n",
    "def vectorize_corpus(model, corpus, method='mean'):\n",
    "        \"\"\"\n",
    "        Convert all texts in a corpus to vectors\n",
    "        Parameters\n",
    "        ----------\n",
    "        corpus: list\n",
    "        List of texts    \n",
    "        \n",
    "        method: str\n",
    "        'mean' or 'sum'\n",
    "            \n",
    "        Returns\n",
    "        -------\n",
    "        X: numpy.ndarray \n",
    "        2D Array of vectors from each text in corpus\n",
    "        \"\"\"\n",
    "        X = [vectorize_text(model, text, method=method) for text in corpus]\n",
    "        X = np.concatenate(X, axis=0).reshape(len(X),len(X[0]))\n",
    "        return X\n",
    "\n",
    "x = vectorize_corpus(w2v, 'bolsonaro é um prego')\n",
    "x"
   ]
  },
  {
   "cell_type": "code",
   "execution_count": 142,
   "metadata": {},
   "outputs": [
    {
     "name": "stderr",
     "output_type": "stream",
     "text": [
      "/home/cabral/anaconda3/lib/python3.7/site-packages/ipykernel_launcher.py:23: DeprecationWarning: Call to deprecated `__getitem__` (Method will be removed in 4.0.0, use self.wv.__getitem__() instead).\n"
     ]
    }
   ],
   "source": [
    "X_train = vectorize_corpus(w2v,X_train_texts)\n",
    "X_test = vectorize_corpus(w2v,X_test_texts)"
   ]
  },
  {
   "cell_type": "code",
   "execution_count": 143,
   "metadata": {},
   "outputs": [
    {
     "name": "stdout",
     "output_type": "stream",
     "text": [
      "logistic regression + w2v\n",
      "0.46\n",
      "              precision    recall  f1-score   support\n",
      "\n",
      "           0       0.68      0.65      0.66       655\n",
      "           1       0.69      0.72      0.70       703\n",
      "\n",
      "    accuracy                           0.68      1358\n",
      "   macro avg       0.68      0.68      0.68      1358\n",
      "weighted avg       0.68      0.68      0.68      1358\n",
      "\n",
      "AUC:  0.7441738242863192\n"
     ]
    },
    {
     "data": {
      "image/png": "[encoded data removed]",
      "text/plain": [
       "<Figure size 1080x360 with 3 Axes>"
      ]
     },
     "metadata": {
      "needs_background": "light"
     },
     "output_type": "display_data"
    }
   ],
   "source": [
    "print('logistic regression + w2v')\n",
    "clf = LogisticRegression()\n",
    "clf.fit(X_train, y_train)\n",
    "y_prob = clf.predict_proba(X_test)[:,1]\n",
    "y_prob_train = clf.predict_proba(X_train)[:,1]\n",
    "thr = optimal_threshold(y_prob_train,y_train)\n",
    "print(thr)\n",
    "y_pred = [1 if p >= thr else 0 for p in y_prob]\n",
    "test_metrics = get_test_metrics(y_test, y_pred, y_prob, full_metrics = True)"
   ]
  },
  {
   "cell_type": "code",
   "execution_count": 144,
   "metadata": {},
   "outputs": [
    {
     "name": "stdout",
     "output_type": "stream",
     "text": [
      "mlp + w2v\n",
      "0 \n",
      "hidden layers: (150,); alpha: 0.00238; learning rate: 0.03748; batch: 100\n",
      "AUC: 0.877\n",
      "1 \n",
      "hidden layers: (75, 125); alpha: 0.00002; learning rate: 0.00015; batch: 250\n",
      "AUC: 0.885\n",
      "2 \n",
      "hidden layers: (50, 175, 200); alpha: 0.00013; learning rate: 0.00506; batch: 300\n",
      "AUC: 0.878\n",
      "3 \n",
      "hidden layers: (350, 225); alpha: 0.00000; learning rate: 0.00011; batch: 200\n",
      "AUC: 0.911\n",
      "4 \n",
      "hidden layers: (25, 75); alpha: 0.00008; learning rate: 0.02528; batch: 300\n",
      "AUC: 0.886\n",
      "5 \n",
      "hidden layers: (200, 25, 50); alpha: 0.00000; learning rate: 0.06823; batch: 150\n",
      "AUC: 0.874\n",
      "6 \n",
      "hidden layers: (200,); alpha: 0.00001; learning rate: 0.02102; batch: 250\n",
      "AUC: 0.897\n",
      "7 \n",
      "hidden layers: (25, 25, 125); alpha: 0.00030; learning rate: 0.00686; batch: 250\n",
      "AUC: 0.892\n",
      "8 \n",
      "hidden layers: (125, 250); alpha: 0.00006; learning rate: 0.00691; batch: 100\n",
      "AUC: 0.877\n",
      "9 \n",
      "hidden layers: (200, 250); alpha: 0.00757; learning rate: 0.00911; batch: 200\n",
      "AUC: 0.887\n",
      "10 \n",
      "hidden layers: (75, 300, 25); alpha: 0.00002; learning rate: 0.00123; batch: 100\n",
      "AUC: 0.912\n",
      "11 \n",
      "hidden layers: (125, 300, 125); alpha: 0.00685; learning rate: 0.00909; batch: 250\n",
      "AUC: 0.891\n",
      "12 \n",
      "hidden layers: (125,); alpha: 0.00021; learning rate: 0.00175; batch: 250\n",
      "AUC: 0.914\n",
      "13 \n",
      "hidden layers: (200, 350, 150); alpha: 0.00042; learning rate: 0.00026; batch: 100\n",
      "AUC: 0.908\n",
      "14 \n",
      "hidden layers: (150,); alpha: 0.00000; learning rate: 0.00739; batch: 250\n",
      "AUC: 0.910\n",
      "15 \n",
      "hidden layers: (25, 350, 100); alpha: 0.00007; learning rate: 0.08517; batch: 300\n",
      "AUC: 0.792\n",
      "16 \n",
      "hidden layers: (25, 275); alpha: 0.00001; learning rate: 0.00023; batch: 200\n",
      "AUC: 0.881\n",
      "17 \n",
      "hidden layers: (250, 75, 100); alpha: 0.00471; learning rate: 0.00045; batch: 200\n",
      "AUC: 0.914\n",
      "18 \n",
      "hidden layers: (50,); alpha: 0.00011; learning rate: 0.05626; batch: 150\n",
      "AUC: 0.873\n",
      "19 \n",
      "hidden layers: (125, 275); alpha: 0.00001; learning rate: 0.00011; batch: 150\n",
      "AUC: 0.912\n",
      "\n",
      "--------------------\n",
      "BEST PARAMETERS (validation AUC = 0.914)\n",
      "hidden layers: (125,); alpha: 0.00021; learning rate: 0.00175; batch: 250\n",
      "--------------------\n",
      "0.57\n",
      "              precision    recall  f1-score   support\n",
      "\n",
      "           0       0.73      0.73      0.73       655\n",
      "           1       0.75      0.74      0.75       703\n",
      "\n",
      "    accuracy                           0.74      1358\n",
      "   macro avg       0.74      0.74      0.74      1358\n",
      "weighted avg       0.74      0.74      0.74      1358\n",
      "\n",
      "AUC:  0.8257913196442728\n"
     ]
    },
    {
     "data": {
      "image/png": "[encoded data removed]",
      "text/plain": [
       "<Figure size 1080x360 with 3 Axes>"
      ]
     },
     "metadata": {
      "needs_background": "light"
     },
     "output_type": "display_data"
    }
   ],
   "source": [
    "print('mlp + w2v')\n",
    "# clf = MLPClassifier(activation = 'relu', solver = 'adam',random_state = 42, \n",
    "#                    tol = 1e-3, verbose = True, early_stopping = True, \n",
    "#                    n_iter_no_change = 3, max_iter = 100,\n",
    "#                    hidden_layer_sizes = (100,), alpha = .00001, \n",
    "#                    learning_rate_init = .0001, batch_size = 32)\n",
    "# hl,bs,al,lri = random_search_mlp(X_train_topics,y_train,n_iter)\n",
    "# clf = optimized_mlp(hl,bs,al,lri)\n",
    "\n",
    "# results = train_test(clf,X_train_topics,X_test_topics,y_train,y_test)\n",
    "\n",
    "hl,bs,al,lri = random_search_mlp(X_train,y_train,n_iter=20)\n",
    "clf = optimized_mlp(hl,bs,al,lri)\n",
    "clf.fit(X_train,y_train)\n",
    "y_prob = clf.predict_proba(X_test)[:,1]\n",
    "y_prob_train = clf.predict_proba(X_train)[:,1]\n",
    "thr = optimal_threshold(y_prob_train,y_train)\n",
    "print(thr)\n",
    "y_pred = [1 if p >= thr else 0 for p in y_prob]\n",
    "test_metrics = get_test_metrics(y_test, y_pred, y_prob, full_metrics = True)"
   ]
  },
  {
   "cell_type": "markdown",
   "metadata": {},
   "source": [
    "# Doc2Vec"
   ]
  },
  {
   "cell_type": "code",
   "execution_count": 145,
   "metadata": {},
   "outputs": [],
   "source": [
    "from gensim.models.doc2vec import Doc2Vec, TaggedDocument\n",
    "\n",
    "documents = [TaggedDocument(doc, [i]) for i, doc in enumerate(corpus)]\n",
    "model = Doc2Vec(documents, vector_size=100, window=2, min_count=1, workers=4)\n",
    "model.save('data/2018/doc2vec.model')\n",
    "\n",
    "doc2vec = Word2Vec.load(\"data/2018/doc2vec.model\")"
   ]
  },
  {
   "cell_type": "code",
   "execution_count": 146,
   "metadata": {
    "scrolled": true
   },
   "outputs": [
    {
     "data": {
      "text/plain": [
       "array([-6.6602312e-02, -3.4949172e-02, -4.9710464e-02, -4.2498123e-02,\n",
       "       -1.2360432e-02,  1.3445731e-02,  6.4053880e-03, -2.5431946e-02,\n",
       "       -1.3398189e-02,  3.2861233e-02,  1.9098092e-02, -2.7876189e-02,\n",
       "        6.3099982e-03, -3.1566672e-02, -3.1930435e-02, -1.0488373e-02,\n",
       "       -4.1927681e-03,  1.5584757e-02, -7.0700116e-05, -3.9354652e-02,\n",
       "       -1.0245880e-02,  1.4009416e-02,  4.0548917e-02,  3.9947737e-02,\n",
       "        8.7503903e-03, -2.1188991e-02, -5.8014154e-02,  1.2945187e-03,\n",
       "       -8.7645007e-03,  2.9913289e-03,  1.0643284e-02,  2.2884613e-02,\n",
       "       -1.0495075e-02,  6.5721613e-03,  3.7700005e-02, -4.1312732e-02,\n",
       "       -1.1737006e-02,  3.6062714e-02,  4.1949291e-02, -5.9720329e-03,\n",
       "       -3.1339686e-04,  1.1771470e-02, -1.9825641e-02, -3.3737447e-02,\n",
       "       -3.6152098e-02,  5.4852455e-03, -1.1186537e-02, -4.1857189e-03,\n",
       "        1.6273582e-02,  2.3028158e-02, -3.7187722e-02,  1.7717843e-03,\n",
       "        9.8573705e-03, -1.4747194e-03, -1.8118804e-02, -9.9917008e-03,\n",
       "        7.9114266e-02,  2.5185125e-02,  3.2105748e-02,  2.9002046e-02,\n",
       "       -3.3881139e-02,  3.8939767e-02, -4.5146145e-02, -9.6035475e-04,\n",
       "        2.0776840e-02,  4.5196731e-02,  1.6802277e-02,  4.1955862e-02,\n",
       "       -1.6379938e-02, -3.4112148e-02, -1.1953178e-02, -5.5292654e-03,\n",
       "        3.4593761e-02,  7.7431984e-03,  2.1760404e-02,  3.0287530e-03,\n",
       "       -4.7964144e-02, -5.2649092e-02,  1.6289048e-02, -3.7576687e-03,\n",
       "       -4.0955864e-02,  6.6893883e-03, -1.5387614e-02,  5.3671054e-03,\n",
       "        1.8872080e-02, -1.1896469e-02, -3.5388086e-02,  2.1346731e-02,\n",
       "        1.0761085e-03, -1.1721552e-02, -3.0168286e-02, -4.2811297e-02,\n",
       "        1.4305680e-02, -5.6280609e-02,  7.7862092e-03,  1.1857722e-02,\n",
       "        5.5027376e-03,  1.8209230e-02, -5.2753040e-03, -2.9685944e-02],\n",
       "      dtype=float32)"
      ]
     },
     "execution_count": 146,
     "metadata": {},
     "output_type": "execute_result"
    }
   ],
   "source": [
    "doc2vec.infer_vector(['bolsonaro','meu','ovo'])"
   ]
  },
  {
   "cell_type": "code",
   "execution_count": 147,
   "metadata": {},
   "outputs": [],
   "source": [
    "def vectorize_doc2vec(model,text):\n",
    "    text = text.split()\n",
    "    vector = model.infer_vector(text)\n",
    "    return vector\n",
    "\n",
    "def vectorize_corpus_doc2vec(model,corpus):\n",
    "    X = [vectorize_doc2vec(model, text) for text in corpus]\n",
    "    X = np.concatenate(X, axis=0).reshape(len(X),len(X[0]))\n",
    "    return X\n",
    "\n",
    "X_train = vectorize_corpus_doc2vec(doc2vec, X_train_texts)\n",
    "X_test = vectorize_corpus_doc2vec(doc2vec, X_test_texts)"
   ]
  },
  {
   "cell_type": "code",
   "execution_count": 148,
   "metadata": {},
   "outputs": [
    {
     "name": "stdout",
     "output_type": "stream",
     "text": [
      "logistic regression + doc2vec\n",
      "              precision    recall  f1-score   support\n",
      "\n",
      "           0       0.62      0.68      0.65       655\n",
      "           1       0.68      0.62      0.65       703\n",
      "\n",
      "    accuracy                           0.65      1358\n",
      "   macro avg       0.65      0.65      0.65      1358\n",
      "weighted avg       0.65      0.65      0.65      1358\n",
      "\n",
      "AUC:  0.7228323542505946\n"
     ]
    },
    {
     "data": {
      "image/png": "[encoded data removed]",
      "text/plain": [
       "<Figure size 1080x360 with 3 Axes>"
      ]
     },
     "metadata": {
      "needs_background": "light"
     },
     "output_type": "display_data"
    },
    {
     "data": {
      "text/plain": [
       "(0.6487481590574374,\n",
       " 0.67601246105919,\n",
       " 0.6520787746170679,\n",
       " 0.6173541963015647,\n",
       " 0.6520787746170679,\n",
       " 0.645353159851301,\n",
       " 0.6520787746170679,\n",
       " 0.7228323542505946)"
      ]
     },
     "execution_count": 148,
     "metadata": {},
     "output_type": "execute_result"
    }
   ],
   "source": [
    "print('logistic regression + doc2vec')\n",
    "clf = LogisticRegression()\n",
    "clf.fit(X_train,y_train)\n",
    "y_prob = clf.predict_proba(X_test)[:,1]\n",
    "y_prob_train = clf.predict_proba(X_train)[:,1]\n",
    "thr = optimal_threshold(y_prob_train,y_train)\n",
    "y_pred = [1 if p >= thr else 0 for p in y_prob]\n",
    "get_test_metrics(y_test, y_pred, y_prob, full_metrics = True)"
   ]
  },
  {
   "cell_type": "code",
   "execution_count": 149,
   "metadata": {},
   "outputs": [
    {
     "name": "stdout",
     "output_type": "stream",
     "text": [
      "mlp + doc2vec\n",
      "0 \n",
      "hidden layers: (150,); alpha: 0.00238; learning rate: 0.03748; batch: 100\n",
      "AUC: 0.865\n",
      "1 \n",
      "hidden layers: (75, 125); alpha: 0.00002; learning rate: 0.00015; batch: 250\n",
      "AUC: 0.848\n",
      "2 \n",
      "hidden layers: (50, 175, 200); alpha: 0.00013; learning rate: 0.00506; batch: 300\n",
      "AUC: 0.864\n",
      "3 \n",
      "hidden layers: (350, 225); alpha: 0.00000; learning rate: 0.00011; batch: 200\n",
      "AUC: 0.884\n",
      "4 \n",
      "hidden layers: (25, 75); alpha: 0.00008; learning rate: 0.02528; batch: 300\n",
      "AUC: 0.859\n",
      "5 \n",
      "hidden layers: (200, 25, 50); alpha: 0.00000; learning rate: 0.06823; batch: 150\n",
      "AUC: 0.837\n",
      "6 \n",
      "hidden layers: (200,); alpha: 0.00001; learning rate: 0.02102; batch: 250\n",
      "AUC: 0.873\n",
      "7 \n",
      "hidden layers: (25, 25, 125); alpha: 0.00030; learning rate: 0.00686; batch: 250\n",
      "AUC: 0.869\n",
      "8 \n",
      "hidden layers: (125, 250); alpha: 0.00006; learning rate: 0.00691; batch: 100\n",
      "AUC: 0.869\n",
      "9 \n",
      "hidden layers: (200, 250); alpha: 0.00757; learning rate: 0.00911; batch: 200\n",
      "AUC: 0.863\n",
      "10 \n",
      "hidden layers: (75, 300, 25); alpha: 0.00002; learning rate: 0.00123; batch: 100\n",
      "AUC: 0.873\n",
      "11 \n",
      "hidden layers: (125, 300, 125); alpha: 0.00685; learning rate: 0.00909; batch: 250\n",
      "AUC: 0.879\n",
      "12 \n",
      "hidden layers: (125,); alpha: 0.00021; learning rate: 0.00175; batch: 250\n",
      "AUC: 0.882\n",
      "13 \n",
      "hidden layers: (200, 350, 150); alpha: 0.00042; learning rate: 0.00026; batch: 100\n",
      "AUC: 0.886\n",
      "14 \n",
      "hidden layers: (150,); alpha: 0.00000; learning rate: 0.00739; batch: 250\n",
      "AUC: 0.885\n",
      "15 \n",
      "hidden layers: (25, 350, 100); alpha: 0.00007; learning rate: 0.08517; batch: 300\n",
      "AUC: 0.817\n",
      "16 \n",
      "hidden layers: (25, 275); alpha: 0.00001; learning rate: 0.00023; batch: 200\n",
      "AUC: 0.856\n",
      "17 \n",
      "hidden layers: (250, 75, 100); alpha: 0.00471; learning rate: 0.00045; batch: 200\n",
      "AUC: 0.871\n",
      "18 \n",
      "hidden layers: (50,); alpha: 0.00011; learning rate: 0.05626; batch: 150\n",
      "AUC: 0.857\n",
      "19 \n",
      "hidden layers: (125, 275); alpha: 0.00001; learning rate: 0.00011; batch: 150\n",
      "AUC: 0.862\n",
      "20 \n",
      "hidden layers: (25,); alpha: 0.00232; learning rate: 0.00062; batch: 150\n",
      "AUC: 0.807\n",
      "21 \n",
      "hidden layers: (325,); alpha: 0.00207; learning rate: 0.00010; batch: 300\n",
      "AUC: 0.829\n",
      "22 \n",
      "hidden layers: (100, 75, 300); alpha: 0.00706; learning rate: 0.00056; batch: 200\n",
      "AUC: 0.862\n",
      "23 \n",
      "hidden layers: (275,); alpha: 0.00019; learning rate: 0.00047; batch: 250\n",
      "AUC: 0.846\n",
      "24 \n",
      "hidden layers: (25, 125); alpha: 0.00821; learning rate: 0.00022; batch: 300\n",
      "AUC: 0.686\n",
      "25 \n",
      "hidden layers: (350, 300); alpha: 0.00335; learning rate: 0.00554; batch: 300\n",
      "AUC: 0.881\n",
      "26 \n",
      "hidden layers: (250, 25, 325); alpha: 0.00044; learning rate: 0.00398; batch: 200\n",
      "AUC: 0.878\n",
      "27 \n",
      "hidden layers: (225, 25); alpha: 0.00030; learning rate: 0.00266; batch: 300\n",
      "AUC: 0.886\n",
      "28 \n",
      "hidden layers: (200, 225); alpha: 0.00003; learning rate: 0.01768; batch: 50\n",
      "AUC: 0.864\n",
      "29 \n",
      "hidden layers: (300, 175, 350); alpha: 0.00023; learning rate: 0.00528; batch: 250\n",
      "AUC: 0.881\n",
      "30 \n",
      "hidden layers: (350,); alpha: 0.00002; learning rate: 0.00046; batch: 200\n",
      "AUC: 0.860\n",
      "31 \n",
      "hidden layers: (325, 175, 100); alpha: 0.00370; learning rate: 0.02622; batch: 200\n",
      "AUC: 0.886\n",
      "32 \n",
      "hidden layers: (300,); alpha: 0.00476; learning rate: 0.01389; batch: 200\n",
      "AUC: 0.849\n",
      "33 \n",
      "hidden layers: (350, 325); alpha: 0.00297; learning rate: 0.00031; batch: 200\n",
      "AUC: 0.892\n",
      "34 \n",
      "hidden layers: (200, 150); alpha: 0.00247; learning rate: 0.02642; batch: 300\n",
      "AUC: 0.873\n",
      "35 \n",
      "hidden layers: (250, 250); alpha: 0.00003; learning rate: 0.00182; batch: 150\n",
      "AUC: 0.890\n",
      "36 \n",
      "hidden layers: (100,); alpha: 0.00798; learning rate: 0.03693; batch: 300\n",
      "AUC: 0.869\n",
      "37 \n",
      "hidden layers: (150, 50); alpha: 0.00000; learning rate: 0.00366; batch: 100\n",
      "AUC: 0.867\n",
      "38 \n",
      "hidden layers: (225, 125); alpha: 0.00000; learning rate: 0.00246; batch: 300\n",
      "AUC: 0.887\n",
      "39 \n",
      "hidden layers: (25, 225, 350); alpha: 0.00000; learning rate: 0.00031; batch: 50\n",
      "AUC: 0.868\n",
      "40 \n",
      "hidden layers: (125,); alpha: 0.00001; learning rate: 0.06348; batch: 250\n",
      "AUC: 0.866\n",
      "41 \n",
      "hidden layers: (350, 50, 50); alpha: 0.00002; learning rate: 0.00157; batch: 300\n",
      "AUC: 0.883\n",
      "42 \n",
      "hidden layers: (150, 150, 325); alpha: 0.00019; learning rate: 0.00227; batch: 200\n",
      "AUC: 0.885\n",
      "43 \n",
      "hidden layers: (200, 200); alpha: 0.00000; learning rate: 0.00201; batch: 150\n",
      "AUC: 0.873\n",
      "44 \n",
      "hidden layers: (300,); alpha: 0.00030; learning rate: 0.00424; batch: 300\n",
      "AUC: 0.878\n",
      "45 \n",
      "hidden layers: (250, 75); alpha: 0.00007; learning rate: 0.00407; batch: 200\n",
      "AUC: 0.861\n",
      "46 \n",
      "hidden layers: (250, 275); alpha: 0.00001; learning rate: 0.00976; batch: 150\n",
      "AUC: 0.870\n",
      "47 \n",
      "hidden layers: (225,); alpha: 0.00108; learning rate: 0.00091; batch: 50\n",
      "AUC: 0.880\n",
      "48 \n",
      "hidden layers: (300,); alpha: 0.00002; learning rate: 0.00362; batch: 50\n",
      "AUC: 0.878\n",
      "49 \n",
      "hidden layers: (200,); alpha: 0.00005; learning rate: 0.04529; batch: 50\n",
      "AUC: 0.849\n",
      "\n",
      "--------------------\n",
      "BEST PARAMETERS (validation AUC = 0.892)\n",
      "hidden layers: (350, 325); alpha: 0.00297; learning rate: 0.00031; batch: 200\n",
      "--------------------\n",
      "0.53\n",
      "              precision    recall  f1-score   support\n",
      "\n",
      "           0       0.71      0.71      0.71       655\n",
      "           1       0.73      0.73      0.73       703\n",
      "\n",
      "    accuracy                           0.72      1358\n",
      "   macro avg       0.72      0.72      0.72      1358\n",
      "weighted avg       0.72      0.72      0.72      1358\n",
      "\n",
      "AUC:  0.8043999001009849\n"
     ]
    },
    {
     "data": {
      "image/png": "[encoded data removed]",
      "text/plain": [
       "<Figure size 1080x360 with 3 Axes>"
      ]
     },
     "metadata": {
      "needs_background": "light"
     },
     "output_type": "display_data"
    }
   ],
   "source": [
    "print('mlp + doc2vec')\n",
    "# clf = MLPClassifier(activation = 'relu', solver = 'adam',random_state = 42, \n",
    "#                    tol = 1e-3, verbose = True, early_stopping = True, \n",
    "#                    n_iter_no_change = 3, max_iter = 100,\n",
    "#                    hidden_layer_sizes = (100,), alpha = .00001, \n",
    "#                    learning_rate_init = .0001, batch_size = 32)\n",
    "# hl,bs,al,lri = random_search_mlp(X_train_topics,y_train,n_iter)\n",
    "# clf = optimized_mlp(hl,bs,al,lri)\n",
    "\n",
    "# results = train_test(clf,X_train_topics,X_test_topics,y_train,y_test)\n",
    "\n",
    "hl,bs,al,lri = random_search_mlp(X_train,y_train,n_iter=50)\n",
    "clf = optimized_mlp(hl,bs,al,lri)\n",
    "clf.fit(X_train,y_train)\n",
    "y_prob = clf.predict_proba(X_test)[:,1]\n",
    "y_prob_train = clf.predict_proba(X_train)[:,1]\n",
    "thr = optimal_threshold(y_prob_train,y_train)\n",
    "print(thr)\n",
    "y_pred = [1 if p >= thr else 0 for p in y_prob]\n",
    "test_metrics = get_test_metrics(y_test, y_pred, y_prob, full_metrics = True)"
   ]
  },
  {
   "cell_type": "markdown",
   "metadata": {},
   "source": [
    "# Test model with messages about covid-19 collected from WhatsApp in 2020"
   ]
  },
  {
   "cell_type": "code",
   "execution_count": 21,
   "metadata": {},
   "outputs": [
    {
     "name": "stdout",
     "output_type": "stream",
     "text": [
      "orignal size 2899\n",
      "size after filtering 1261\n"
     ]
    },
    {
     "data": {
      "text/html": [
       "<div>\n",
       "<style scoped>\n",
       "    .dataframe tbody tr th:only-of-type {\n",
       "        vertical-align: middle;\n",
       "    }\n",
       "\n",
       "    .dataframe tbody tr th {\n",
       "        vertical-align: top;\n",
       "    }\n",
       "\n",
       "    .dataframe thead th {\n",
       "        text-align: right;\n",
       "    }\n",
       "</style>\n",
       "<table border=\"1\" class=\"dataframe\">\n",
       "  <thead>\n",
       "    <tr style=\"text-align: right;\">\n",
       "      <th></th>\n",
       "      <th>shares</th>\n",
       "      <th>text</th>\n",
       "      <th>misinformation</th>\n",
       "      <th>source</th>\n",
       "      <th>revision</th>\n",
       "      <th>types</th>\n",
       "    </tr>\n",
       "  </thead>\n",
       "  <tbody>\n",
       "    <tr>\n",
       "      <th>0</th>\n",
       "      <td>27</td>\n",
       "      <td>O ministro da Ciência, Tecnologia, Inovações e...</td>\n",
       "      <td>0</td>\n",
       "      <td>https://www.gov.br/pt-br/noticias/educacao-e-p...</td>\n",
       "      <td>NaN</td>\n",
       "      <td>61</td>\n",
       "    </tr>\n",
       "    <tr>\n",
       "      <th>1</th>\n",
       "      <td>26</td>\n",
       "      <td>Pesquisa com mais de 6.000 médicos em 30 paíse...</td>\n",
       "      <td>1</td>\n",
       "      <td>https://www.aosfatos.org/noticias/e-falso-que-...</td>\n",
       "      <td>NaN</td>\n",
       "      <td>19</td>\n",
       "    </tr>\n",
       "    <tr>\n",
       "      <th>2</th>\n",
       "      <td>25</td>\n",
       "      <td>É com muita alegria que comunico que mais um p...</td>\n",
       "      <td>0</td>\n",
       "      <td>http://portal.mec.gov.br/component/content/art...</td>\n",
       "      <td>NaN</td>\n",
       "      <td>77</td>\n",
       "    </tr>\n",
       "    <tr>\n",
       "      <th>3</th>\n",
       "      <td>25</td>\n",
       "      <td>Renda Brasil unificará vários programas sociai...</td>\n",
       "      <td>0</td>\n",
       "      <td>https://agenciabrasil.ebc.com.br/politica/noti...</td>\n",
       "      <td>NaN</td>\n",
       "      <td>50</td>\n",
       "    </tr>\n",
       "    <tr>\n",
       "      <th>5</th>\n",
       "      <td>24</td>\n",
       "      <td>“O que mais queremos é voltar à normalidade, e...</td>\n",
       "      <td>0</td>\n",
       "      <td>NaN</td>\n",
       "      <td>NaN</td>\n",
       "      <td>64</td>\n",
       "    </tr>\n",
       "  </tbody>\n",
       "</table>\n",
       "</div>"
      ],
      "text/plain": [
       "   shares                                               text  misinformation  \\\n",
       "0      27  O ministro da Ciência, Tecnologia, Inovações e...               0   \n",
       "1      26  Pesquisa com mais de 6.000 médicos em 30 paíse...               1   \n",
       "2      25  É com muita alegria que comunico que mais um p...               0   \n",
       "3      25  Renda Brasil unificará vários programas sociai...               0   \n",
       "5      24  “O que mais queremos é voltar à normalidade, e...               0   \n",
       "\n",
       "                                              source  revision  types  \n",
       "0  https://www.gov.br/pt-br/noticias/educacao-e-p...       NaN     61  \n",
       "1  https://www.aosfatos.org/noticias/e-falso-que-...       NaN     19  \n",
       "2  http://portal.mec.gov.br/component/content/art...       NaN     77  \n",
       "3  https://agenciabrasil.ebc.com.br/politica/noti...       NaN     50  \n",
       "5                                                NaN       NaN     64  "
      ]
     },
     "execution_count": 21,
     "metadata": {},
     "output_type": "execute_result"
    }
   ],
   "source": [
    "df_2020 = pd.read_csv('data/2020/FakeWhatsApp2020.csv')\n",
    "print('orignal size',len(df_2020))\n",
    "\n",
    "df_2020 = df_2020.dropna(subset=['misinformation','text'])\n",
    "df_2020['types'] = [len(set(t.split())) for t in df_2020['text']]\n",
    "df_2020 = df_2020[(df_2020['types']>15) & (df_2020['revision']!=1)]\n",
    "print('size after filtering',len(df_2020))\n",
    "df_2020.head()"
   ]
  },
  {
   "cell_type": "code",
   "execution_count": 22,
   "metadata": {},
   "outputs": [],
   "source": [
    "texts_test = [preprocess(t, lemma = True) for t in df_2020['text']]\n",
    "y_test = df_2020['misinformation']"
   ]
  },
  {
   "cell_type": "code",
   "execution_count": 23,
   "metadata": {},
   "outputs": [
    {
     "data": {
      "image/png": "[encoded data removed]",
      "text/plain": [
       "<Figure size 432x288 with 1 Axes>"
      ]
     },
     "metadata": {
      "needs_background": "light"
     },
     "output_type": "display_data"
    }
   ],
   "source": [
    "print_class_balance(y_test)"
   ]
  },
  {
   "cell_type": "code",
   "execution_count": 24,
   "metadata": {},
   "outputs": [],
   "source": [
    "texts_train = df['preprocessed_text_lemma']\n",
    "#target\n",
    "y_train = df['misinformation']"
   ]
  },
  {
   "cell_type": "code",
   "execution_count": 25,
   "metadata": {},
   "outputs": [
    {
     "data": {
      "text/plain": [
       "(6790, 375893)"
      ]
     },
     "execution_count": 25,
     "metadata": {},
     "output_type": "execute_result"
    }
   ],
   "source": [
    "#vectorizer = TfidfVectorizer(max_features = None, ngram_range = (2,2), lowercase = True, token_pattern = r'[^\\s]+')\n",
    "vectorizer = CountVectorizer(max_features = None, ngram_range = (1,3), #(1,3) \n",
    "                             lowercase = False, token_pattern = r'[^\\s]+',binary=True)\n",
    "vectorizer.fit(texts_train)   \n",
    "X_train = vectorizer.transform(texts_train)\n",
    "X_test = vectorizer.transform(texts_test)\n",
    "X_train.shape"
   ]
  },
  {
   "cell_type": "code",
   "execution_count": 28,
   "metadata": {},
   "outputs": [
    {
     "name": "stdout",
     "output_type": "stream",
     "text": [
      "logistic regression + binary bow\n",
      "0.42\n",
      "              precision    recall  f1-score   support\n",
      "\n",
      "           0       0.73      0.82      0.77       734\n",
      "           1       0.70      0.57      0.63       527\n",
      "\n",
      "    accuracy                           0.72      1261\n",
      "   macro avg       0.72      0.70      0.70      1261\n",
      "weighted avg       0.72      0.72      0.71      1261\n",
      "\n",
      "AUC:  0.7822800386745188\n"
     ]
    },
    {
     "data": {
      "image/png": "[encoded data removed]",
      "text/plain": [
       "<Figure size 1080x360 with 3 Axes>"
      ]
     },
     "metadata": {
      "needs_background": "light"
     },
     "output_type": "display_data"
    },
    {
     "data": {
      "text/plain": [
       "(0.7200634417129262,\n",
       " 0.7013888888888888,\n",
       " 0.7741522712731925,\n",
       " 0.5749525616698292,\n",
       " 0.7741522712731925,\n",
       " 0.6319082377476538,\n",
       " 0.7741522712731925,\n",
       " 0.7822800386745188)"
      ]
     },
     "execution_count": 28,
     "metadata": {},
     "output_type": "execute_result"
    }
   ],
   "source": [
    "print('logistic regression + binary bow')\n",
    "clf = LogisticRegression()\n",
    "clf.fit(X_train,y_train)\n",
    "\n",
    "y_prob = clf.predict_proba(X_test)[:,1]\n",
    "y_prob_train = clf.predict_proba(X_train)[:,1]\n",
    "# threshold moving\n",
    "\n",
    "#thr = optimal_threshold(y_prob,y_test)\n",
    "thr = optimal_threshold(y_prob_train,y_train)\n",
    "print(thr)\n",
    "y_pred = [1 if p >= thr else 0 for p in y_prob]\n",
    "get_test_metrics(y_test, y_pred, y_prob, full_metrics = True)"
   ]
  },
  {
   "cell_type": "code",
   "execution_count": null,
   "metadata": {},
   "outputs": [],
   "source": []
  }
 ],
 "metadata": {
  "kernelspec": {
   "display_name": "Python 3",
   "language": "python",
   "name": "python3"
  },
  "language_info": {
   "codemirror_mode": {
    "name": "ipython",
    "version": 3
   },
   "file_extension": ".py",
   "mimetype": "text/x-python",
   "name": "python",
   "nbconvert_exporter": "python",
   "pygments_lexer": "ipython3",
   "version": "3.7.3"
  }
 },
 "nbformat": 4,
 "nbformat_minor": 2
}
