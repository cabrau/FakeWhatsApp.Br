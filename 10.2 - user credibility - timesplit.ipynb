{
 "cells": [
  {
   "cell_type": "markdown",
   "metadata": {},
   "source": [
    "## To do\n",
    "- [ ] trocar linreg por logreg\n",
    "- [x] trocar gb por mlp\n",
    "- [x] tunning (hyperparameters, topics)"
   ]
  },
  {
   "cell_type": "markdown",
   "metadata": {},
   "source": [
    "# Detect malicious users in WhatsApp public groups\n",
    "* Malicious users repeatedly and intentionaly spread misinformation (bots, cyborgs, trolls)\n",
    "* Low credibility / gullible users\n",
    "* Superspreaders / influencers/ persuaders\n",
    "* Source of fake news (SOFN)\n",
    "\n",
    "Estimate the credibility of users"
   ]
  },
  {
   "cell_type": "code",
   "execution_count": 47,
   "metadata": {},
   "outputs": [],
   "source": [
    "#utils\n",
    "import emoji, re, string, time, os\n",
    "from utils import get_test_metrics\n",
    "from utils import preprocess\n",
    "from utils import get_user_features, get_top_users\n",
    "import pandas as pd\n",
    "import numpy as np\n",
    "from scipy.stats import randint\n",
    "import pickle\n",
    "import math\n",
    "\n",
    "#nlp\n",
    "import nltk\n",
    "from nltk.corpus import stopwords\n",
    "import spacy\n",
    "from gensim.models import Word2Vec\n",
    "from gensim.models.callbacks import CallbackAny2Vec\n",
    "\n",
    "#dataviz\n",
    "import matplotlib.pyplot as plt\n",
    "import seaborn as sns\n",
    "\n",
    "#features\n",
    "from sklearn.feature_extraction.text import TfidfVectorizer\n",
    "from sklearn.feature_extraction.text import CountVectorizer\n",
    "from sklearn.metrics.pairwise import linear_kernel\n",
    "from sklearn import metrics\n",
    "from sklearn.model_selection import train_test_split\n",
    "from sklearn.decomposition import PCA\n",
    "from sklearn.decomposition import TruncatedSVD\n",
    "\n",
    "#models\n",
    "from sklearn import tree\n",
    "from sklearn.ensemble import RandomForestRegressor\n",
    "from sklearn.linear_model import LinearRegression #logistic regression\n",
    "from sklearn.metrics import mean_squared_error\n",
    "from sklearn.neural_network import MLPRegressor\n",
    "from sklearn.linear_model import LogisticRegression\n",
    "\n",
    "\n",
    "\n",
    "#data balancing\n",
    "from imblearn.over_sampling import SMOTE\n",
    "from imblearn.over_sampling import RandomOverSampler\n",
    "\n",
    "\n",
    "%matplotlib inline\n",
    "sns.set(style=\"darkgrid\")"
   ]
  },
  {
   "cell_type": "markdown",
   "metadata": {},
   "source": [
    "# Load data"
   ]
  },
  {
   "cell_type": "code",
   "execution_count": 2,
   "metadata": {},
   "outputs": [],
   "source": [
    "#df.rename(columns={'sharings':'shares'},inplace=True)\n",
    "#df.to_csv('data/2018/fakeWhatsApp.BR_2018.csv',index=False)"
   ]
  },
  {
   "cell_type": "code",
   "execution_count": 3,
   "metadata": {},
   "outputs": [
    {
     "name": "stderr",
     "output_type": "stream",
     "text": [
      "/home/cabral/anaconda3/lib/python3.7/site-packages/IPython/core/interactiveshell.py:3049: DtypeWarning: Columns (3,6) have mixed types.Specify dtype option on import or set low_memory=False.\n",
      "  interactivity=interactivity, compiler=compiler, result=result)\n"
     ]
    },
    {
     "data": {
      "text/html": [
       "<div>\n",
       "<style scoped>\n",
       "    .dataframe tbody tr th:only-of-type {\n",
       "        vertical-align: middle;\n",
       "    }\n",
       "\n",
       "    .dataframe tbody tr th {\n",
       "        vertical-align: top;\n",
       "    }\n",
       "\n",
       "    .dataframe thead th {\n",
       "        text-align: right;\n",
       "    }\n",
       "</style>\n",
       "<table border=\"1\" class=\"dataframe\">\n",
       "  <thead>\n",
       "    <tr style=\"text-align: right;\">\n",
       "      <th></th>\n",
       "      <th>id</th>\n",
       "      <th>date</th>\n",
       "      <th>hour</th>\n",
       "      <th>ddi</th>\n",
       "      <th>country</th>\n",
       "      <th>country_iso3</th>\n",
       "      <th>ddd</th>\n",
       "      <th>state</th>\n",
       "      <th>group</th>\n",
       "      <th>midia</th>\n",
       "      <th>url</th>\n",
       "      <th>characters</th>\n",
       "      <th>words</th>\n",
       "      <th>viral</th>\n",
       "      <th>shares</th>\n",
       "      <th>text</th>\n",
       "      <th>misinformation</th>\n",
       "      <th>preprocessed_text</th>\n",
       "      <th>preprocessed_text_stemmed</th>\n",
       "      <th>preprocessed_text_lemma</th>\n",
       "    </tr>\n",
       "  </thead>\n",
       "  <tbody>\n",
       "    <tr>\n",
       "      <th>94769</th>\n",
       "      <td>-4100792812416892756</td>\n",
       "      <td>19/10/18</td>\n",
       "      <td>06:06</td>\n",
       "      <td>55</td>\n",
       "      <td>BRASIL</td>\n",
       "      <td>BRA</td>\n",
       "      <td>88</td>\n",
       "      <td>Ceará</td>\n",
       "      <td>2018_25</td>\n",
       "      <td>0</td>\n",
       "      <td>1</td>\n",
       "      <td>84</td>\n",
       "      <td>1</td>\n",
       "      <td>0</td>\n",
       "      <td>1</td>\n",
       "      <td>http://www.martinsempauta.com/2018/10/empresa-...</td>\n",
       "      <td>0</td>\n",
       "      <td>. martinsempauta .</td>\n",
       "      <td>. martinsemp .</td>\n",
       "      <td>. martinsempauta .</td>\n",
       "    </tr>\n",
       "    <tr>\n",
       "      <th>226531</th>\n",
       "      <td>-1005480812249449457</td>\n",
       "      <td>20/10/18</td>\n",
       "      <td>23:34</td>\n",
       "      <td>55</td>\n",
       "      <td>BRASIL</td>\n",
       "      <td>BRA</td>\n",
       "      <td>19</td>\n",
       "      <td>São Paulo</td>\n",
       "      <td>2018_54</td>\n",
       "      <td>0</td>\n",
       "      <td>0</td>\n",
       "      <td>36</td>\n",
       "      <td>2</td>\n",
       "      <td>0</td>\n",
       "      <td>1</td>\n",
       "      <td>Kkkkkkkkkkkkkkkkkkkkk @5511993705811</td>\n",
       "      <td>0</td>\n",
       "      <td>kkk @ [num]</td>\n",
       "      <td>kkk @ [num]</td>\n",
       "      <td>kkk @ [num]</td>\n",
       "    </tr>\n",
       "    <tr>\n",
       "      <th>20189</th>\n",
       "      <td>5069025014065064230</td>\n",
       "      <td>28/08/18</td>\n",
       "      <td>18:06</td>\n",
       "      <td>55</td>\n",
       "      <td>BRASIL</td>\n",
       "      <td>BRA</td>\n",
       "      <td>51</td>\n",
       "      <td>Rio Grande do Sul</td>\n",
       "      <td>2018_6</td>\n",
       "      <td>0</td>\n",
       "      <td>0</td>\n",
       "      <td>8</td>\n",
       "      <td>1</td>\n",
       "      <td>0</td>\n",
       "      <td>1</td>\n",
       "      <td>👏🏼👏🏼👏🏼👏🏼</td>\n",
       "      <td>0</td>\n",
       "      <td>👏 🏼 👏 🏼 👏 🏼 👏 🏼</td>\n",
       "      <td>👏 🏼 👏 🏼 👏 🏼 👏 🏼</td>\n",
       "      <td>👏 🏼 👏 🏼 👏 🏼 👏 🏼</td>\n",
       "    </tr>\n",
       "    <tr>\n",
       "      <th>201022</th>\n",
       "      <td>-3867060541966033209</td>\n",
       "      <td>23/10/18</td>\n",
       "      <td>22:38</td>\n",
       "      <td>55</td>\n",
       "      <td>BRASIL</td>\n",
       "      <td>BRA</td>\n",
       "      <td>98</td>\n",
       "      <td>Maranhão</td>\n",
       "      <td>2018_51</td>\n",
       "      <td>0</td>\n",
       "      <td>0</td>\n",
       "      <td>11</td>\n",
       "      <td>1</td>\n",
       "      <td>0</td>\n",
       "      <td>1</td>\n",
       "      <td>Preparação*</td>\n",
       "      <td>0</td>\n",
       "      <td>preparacao *</td>\n",
       "      <td>preparaca *</td>\n",
       "      <td>preparacao *</td>\n",
       "    </tr>\n",
       "    <tr>\n",
       "      <th>207650</th>\n",
       "      <td>-1005480812249449457</td>\n",
       "      <td>18/08/18</td>\n",
       "      <td>18:11</td>\n",
       "      <td>55</td>\n",
       "      <td>BRASIL</td>\n",
       "      <td>BRA</td>\n",
       "      <td>19</td>\n",
       "      <td>São Paulo</td>\n",
       "      <td>2018_54</td>\n",
       "      <td>0</td>\n",
       "      <td>0</td>\n",
       "      <td>14</td>\n",
       "      <td>3</td>\n",
       "      <td>0</td>\n",
       "      <td>1</td>\n",
       "      <td>Ciro na record</td>\n",
       "      <td>0</td>\n",
       "      <td>ciro record</td>\n",
       "      <td>cir record</td>\n",
       "      <td>ciro record</td>\n",
       "    </tr>\n",
       "    <tr>\n",
       "      <th>217060</th>\n",
       "      <td>-3818310068976662355</td>\n",
       "      <td>15/09/18</td>\n",
       "      <td>22:24</td>\n",
       "      <td>55</td>\n",
       "      <td>BRASIL</td>\n",
       "      <td>BRA</td>\n",
       "      <td>11</td>\n",
       "      <td>São Paulo</td>\n",
       "      <td>2018_54</td>\n",
       "      <td>0</td>\n",
       "      <td>0</td>\n",
       "      <td>38</td>\n",
       "      <td>9</td>\n",
       "      <td>0</td>\n",
       "      <td>1</td>\n",
       "      <td>Achou o grupo delas. O bem vence o mal</td>\n",
       "      <td>0</td>\n",
       "      <td>achou grupo . bem vence mal</td>\n",
       "      <td>ach grup . bem venc mal</td>\n",
       "      <td>achar grupar . bem vencer mal</td>\n",
       "    </tr>\n",
       "    <tr>\n",
       "      <th>131914</th>\n",
       "      <td>-859915060757312581</td>\n",
       "      <td>18/08/18</td>\n",
       "      <td>11:53</td>\n",
       "      <td>55</td>\n",
       "      <td>BRASIL</td>\n",
       "      <td>BRA</td>\n",
       "      <td>62</td>\n",
       "      <td>Goiás</td>\n",
       "      <td>2018_39</td>\n",
       "      <td>0</td>\n",
       "      <td>0</td>\n",
       "      <td>81</td>\n",
       "      <td>15</td>\n",
       "      <td>0</td>\n",
       "      <td>1</td>\n",
       "      <td>Eu o conheci... Que CARA SENSACIONAL. PIADISTA...</td>\n",
       "      <td>0</td>\n",
       "      <td>conheci . . . cara sensacional . piadista ri t...</td>\n",
       "      <td>conhec . . . car sensac . piad ri temp tod nao...</td>\n",
       "      <td>conhecer . . . caro sensacional . piadista rir...</td>\n",
       "    </tr>\n",
       "    <tr>\n",
       "      <th>237327</th>\n",
       "      <td>541791314253372710</td>\n",
       "      <td>23/08/18</td>\n",
       "      <td>09:12</td>\n",
       "      <td>55</td>\n",
       "      <td>BRASIL</td>\n",
       "      <td>BRA</td>\n",
       "      <td>92</td>\n",
       "      <td>Amazonas</td>\n",
       "      <td>2018_57</td>\n",
       "      <td>0</td>\n",
       "      <td>0</td>\n",
       "      <td>8</td>\n",
       "      <td>1</td>\n",
       "      <td>0</td>\n",
       "      <td>1</td>\n",
       "      <td>averigua</td>\n",
       "      <td>0</td>\n",
       "      <td>averigua</td>\n",
       "      <td>averigu</td>\n",
       "      <td>averiguar</td>\n",
       "    </tr>\n",
       "    <tr>\n",
       "      <th>271707</th>\n",
       "      <td>4697263614152936093</td>\n",
       "      <td>20/10/18</td>\n",
       "      <td>13:49</td>\n",
       "      <td>+55</td>\n",
       "      <td>BRASIL</td>\n",
       "      <td>BRA</td>\n",
       "      <td>31</td>\n",
       "      <td>Minas Gerais</td>\n",
       "      <td>2018_59</td>\n",
       "      <td>0</td>\n",
       "      <td>0</td>\n",
       "      <td>77</td>\n",
       "      <td>13</td>\n",
       "      <td>0</td>\n",
       "      <td>1</td>\n",
       "      <td>Bacana, ainda estou procurando aqui em BH, par...</td>\n",
       "      <td>0</td>\n",
       "      <td>bacana , ainda procurando aqui bh , parece nao...</td>\n",
       "      <td>bacan , aind procur aqu bh , parec nao nad org...</td>\n",
       "      <td>bacana , ainda procurar aqui bh , parecer nao ...</td>\n",
       "    </tr>\n",
       "    <tr>\n",
       "      <th>163157</th>\n",
       "      <td>-5670434263665399244</td>\n",
       "      <td>05/09/18</td>\n",
       "      <td>15:17</td>\n",
       "      <td>55</td>\n",
       "      <td>BRASIL</td>\n",
       "      <td>BRA</td>\n",
       "      <td>15</td>\n",
       "      <td>São Paulo</td>\n",
       "      <td>2018_42</td>\n",
       "      <td>0</td>\n",
       "      <td>1</td>\n",
       "      <td>183</td>\n",
       "      <td>13</td>\n",
       "      <td>0</td>\n",
       "      <td>1</td>\n",
       "      <td>Estadão (@Estadao) tweetou: Bolsonaro é esfaqu...</td>\n",
       "      <td>0</td>\n",
       "      <td>estadao ( @ estadao ) tweetou : bolsonaro esfa...</td>\n",
       "      <td>estada ( @ estada ) tweet : bolsonar esfaque d...</td>\n",
       "      <td>estadao ( @ estadao ) tweetou : bolsonaro esfa...</td>\n",
       "    </tr>\n",
       "  </tbody>\n",
       "</table>\n",
       "</div>"
      ],
      "text/plain": [
       "                         id      date   hour  ddi country country_iso3 ddd  \\\n",
       "94769  -4100792812416892756  19/10/18  06:06   55  BRASIL          BRA  88   \n",
       "226531 -1005480812249449457  20/10/18  23:34   55  BRASIL          BRA  19   \n",
       "20189   5069025014065064230  28/08/18  18:06   55  BRASIL          BRA  51   \n",
       "201022 -3867060541966033209  23/10/18  22:38   55  BRASIL          BRA  98   \n",
       "207650 -1005480812249449457  18/08/18  18:11   55  BRASIL          BRA  19   \n",
       "217060 -3818310068976662355  15/09/18  22:24   55  BRASIL          BRA  11   \n",
       "131914  -859915060757312581  18/08/18  11:53   55  BRASIL          BRA  62   \n",
       "237327   541791314253372710  23/08/18  09:12   55  BRASIL          BRA  92   \n",
       "271707  4697263614152936093  20/10/18  13:49  +55  BRASIL          BRA  31   \n",
       "163157 -5670434263665399244  05/09/18  15:17   55  BRASIL          BRA  15   \n",
       "\n",
       "                    state    group  midia  url  characters  words  viral  \\\n",
       "94769               Ceará  2018_25      0    1          84      1      0   \n",
       "226531          São Paulo  2018_54      0    0          36      2      0   \n",
       "20189   Rio Grande do Sul   2018_6      0    0           8      1      0   \n",
       "201022           Maranhão  2018_51      0    0          11      1      0   \n",
       "207650          São Paulo  2018_54      0    0          14      3      0   \n",
       "217060          São Paulo  2018_54      0    0          38      9      0   \n",
       "131914              Goiás  2018_39      0    0          81     15      0   \n",
       "237327           Amazonas  2018_57      0    0           8      1      0   \n",
       "271707       Minas Gerais  2018_59      0    0          77     13      0   \n",
       "163157          São Paulo  2018_42      0    1         183     13      0   \n",
       "\n",
       "        shares                                               text  \\\n",
       "94769        1  http://www.martinsempauta.com/2018/10/empresa-...   \n",
       "226531       1               Kkkkkkkkkkkkkkkkkkkkk @5511993705811   \n",
       "20189        1                                           👏🏼👏🏼👏🏼👏🏼   \n",
       "201022       1                                        Preparação*   \n",
       "207650       1                                     Ciro na record   \n",
       "217060       1             Achou o grupo delas. O bem vence o mal   \n",
       "131914       1  Eu o conheci... Que CARA SENSACIONAL. PIADISTA...   \n",
       "237327       1                                           averigua   \n",
       "271707       1  Bacana, ainda estou procurando aqui em BH, par...   \n",
       "163157       1  Estadão (@Estadao) tweetou: Bolsonaro é esfaqu...   \n",
       "\n",
       "        misinformation                                  preprocessed_text  \\\n",
       "94769                0                                 . martinsempauta .   \n",
       "226531               0                                        kkk @ [num]   \n",
       "20189                0                                    👏 🏼 👏 🏼 👏 🏼 👏 🏼   \n",
       "201022               0                                       preparacao *   \n",
       "207650               0                                        ciro record   \n",
       "217060               0                        achou grupo . bem vence mal   \n",
       "131914               0  conheci . . . cara sensacional . piadista ri t...   \n",
       "237327               0                                           averigua   \n",
       "271707               0  bacana , ainda procurando aqui bh , parece nao...   \n",
       "163157               0  estadao ( @ estadao ) tweetou : bolsonaro esfa...   \n",
       "\n",
       "                                preprocessed_text_stemmed  \\\n",
       "94769                                      . martinsemp .   \n",
       "226531                                        kkk @ [num]   \n",
       "20189                                     👏 🏼 👏 🏼 👏 🏼 👏 🏼   \n",
       "201022                                        preparaca *   \n",
       "207650                                         cir record   \n",
       "217060                            ach grup . bem venc mal   \n",
       "131914  conhec . . . car sensac . piad ri temp tod nao...   \n",
       "237327                                            averigu   \n",
       "271707  bacan , aind procur aqu bh , parec nao nad org...   \n",
       "163157  estada ( @ estada ) tweet : bolsonar esfaque d...   \n",
       "\n",
       "                                  preprocessed_text_lemma  \n",
       "94769                                  . martinsempauta .  \n",
       "226531                                        kkk @ [num]  \n",
       "20189                                     👏 🏼 👏 🏼 👏 🏼 👏 🏼  \n",
       "201022                                       preparacao *  \n",
       "207650                                        ciro record  \n",
       "217060                      achar grupar . bem vencer mal  \n",
       "131914  conhecer . . . caro sensacional . piadista rir...  \n",
       "237327                                          averiguar  \n",
       "271707  bacana , ainda procurar aqui bh , parecer nao ...  \n",
       "163157  estadao ( @ estadao ) tweetou : bolsonaro esfa...  "
      ]
     },
     "execution_count": 3,
     "metadata": {},
     "output_type": "execute_result"
    }
   ],
   "source": [
    "# messages\n",
    "df = pd.read_csv('data/2018/fakeWhatsApp.BR_2018.csv')\n",
    "df_texts = pd.read_csv('data/2018/high_quality_labels/fakeWhatsApp.BR_2018_preprocessed_texts.csv')\n",
    "df = pd.concat([df, df_texts], axis=1)\n",
    "df.drop(columns=['Unnamed: 0'],inplace=True)\n",
    "df.sample(10)"
   ]
  },
  {
   "cell_type": "code",
   "execution_count": 4,
   "metadata": {},
   "outputs": [],
   "source": [
    "df['viral'] = [1 if mis==1 else vir for mis,vir in zip(df['misinformation'],df['viral'])]"
   ]
  },
  {
   "cell_type": "code",
   "execution_count": 5,
   "metadata": {},
   "outputs": [
    {
     "data": {
      "text/plain": [
       "0    270867\n",
       "1     11734\n",
       "Name: misinformation, dtype: int64"
      ]
     },
     "execution_count": 5,
     "metadata": {},
     "output_type": "execute_result"
    }
   ],
   "source": [
    "df['misinformation'].value_counts()"
   ]
  },
  {
   "cell_type": "code",
   "execution_count": 6,
   "metadata": {},
   "outputs": [
    {
     "data": {
      "text/html": [
       "<div>\n",
       "<style scoped>\n",
       "    .dataframe tbody tr th:only-of-type {\n",
       "        vertical-align: middle;\n",
       "    }\n",
       "\n",
       "    .dataframe tbody tr th {\n",
       "        vertical-align: top;\n",
       "    }\n",
       "\n",
       "    .dataframe thead th {\n",
       "        text-align: right;\n",
       "    }\n",
       "</style>\n",
       "<table border=\"1\" class=\"dataframe\">\n",
       "  <thead>\n",
       "    <tr style=\"text-align: right;\">\n",
       "      <th></th>\n",
       "      <th>id</th>\n",
       "      <th>groups</th>\n",
       "      <th>number_of_messages</th>\n",
       "      <th>texts</th>\n",
       "      <th>text_ratio</th>\n",
       "      <th>midia</th>\n",
       "      <th>midia_ratio</th>\n",
       "      <th>virals</th>\n",
       "      <th>viral_ratio</th>\n",
       "      <th>degree_centrality</th>\n",
       "      <th>strenght</th>\n",
       "      <th>viral_degree_centrality</th>\n",
       "      <th>viral_strenght</th>\n",
       "      <th>misinformation</th>\n",
       "      <th>misinformation_degree_centrality</th>\n",
       "      <th>misinformation_strenght</th>\n",
       "      <th>misinformation_ratio</th>\n",
       "      <th>viral_misinformation_ratio</th>\n",
       "      <th>viral_messages</th>\n",
       "    </tr>\n",
       "  </thead>\n",
       "  <tbody>\n",
       "    <tr>\n",
       "      <th>1832</th>\n",
       "      <td>-6466419814190162853</td>\n",
       "      <td>1</td>\n",
       "      <td>28</td>\n",
       "      <td>25</td>\n",
       "      <td>0.892857</td>\n",
       "      <td>3</td>\n",
       "      <td>0.107143</td>\n",
       "      <td>2</td>\n",
       "      <td>0.071429</td>\n",
       "      <td>152</td>\n",
       "      <td>4256</td>\n",
       "      <td>89</td>\n",
       "      <td>178</td>\n",
       "      <td>2</td>\n",
       "      <td>71</td>\n",
       "      <td>142.0</td>\n",
       "      <td>0.071429</td>\n",
       "      <td>1.0</td>\n",
       "      <td>arquivar ano [num] \" enterrar \" redar globo de...</td>\n",
       "    </tr>\n",
       "    <tr>\n",
       "      <th>2539</th>\n",
       "      <td>-8975904124756039174</td>\n",
       "      <td>1</td>\n",
       "      <td>15</td>\n",
       "      <td>11</td>\n",
       "      <td>0.733333</td>\n",
       "      <td>4</td>\n",
       "      <td>0.266667</td>\n",
       "      <td>2</td>\n",
       "      <td>0.133333</td>\n",
       "      <td>17</td>\n",
       "      <td>255</td>\n",
       "      <td>7</td>\n",
       "      <td>14</td>\n",
       "      <td>2</td>\n",
       "      <td>3</td>\n",
       "      <td>6.0</td>\n",
       "      <td>0.133333</td>\n",
       "      <td>1.0</td>\n",
       "      <td>enverr amigo ver whatsapp . \\n \\n * analisar f...</td>\n",
       "    </tr>\n",
       "    <tr>\n",
       "      <th>1017</th>\n",
       "      <td>5276233012699937445</td>\n",
       "      <td>1</td>\n",
       "      <td>64</td>\n",
       "      <td>40</td>\n",
       "      <td>0.625000</td>\n",
       "      <td>24</td>\n",
       "      <td>0.375000</td>\n",
       "      <td>1</td>\n",
       "      <td>0.015625</td>\n",
       "      <td>277</td>\n",
       "      <td>17728</td>\n",
       "      <td>138</td>\n",
       "      <td>138</td>\n",
       "      <td>1</td>\n",
       "      <td>109</td>\n",
       "      <td>109.0</td>\n",
       "      <td>0.015625</td>\n",
       "      <td>1.0</td>\n",
       "      <td>. bahianoticias \\n \\n * alar [num] mil baiano ...</td>\n",
       "    </tr>\n",
       "    <tr>\n",
       "      <th>2543</th>\n",
       "      <td>-7699231987068317212</td>\n",
       "      <td>1</td>\n",
       "      <td>15</td>\n",
       "      <td>8</td>\n",
       "      <td>0.533333</td>\n",
       "      <td>7</td>\n",
       "      <td>0.466667</td>\n",
       "      <td>3</td>\n",
       "      <td>0.200000</td>\n",
       "      <td>325</td>\n",
       "      <td>4875</td>\n",
       "      <td>176</td>\n",
       "      <td>528</td>\n",
       "      <td>3</td>\n",
       "      <td>118</td>\n",
       "      <td>354.0</td>\n",
       "      <td>0.200000</td>\n",
       "      <td>1.0</td>\n",
       "      <td>golpe , golpe , golpe . . . adelio autorizar d...</td>\n",
       "    </tr>\n",
       "    <tr>\n",
       "      <th>2549</th>\n",
       "      <td>-7543604740380005677</td>\n",
       "      <td>1</td>\n",
       "      <td>15</td>\n",
       "      <td>11</td>\n",
       "      <td>0.733333</td>\n",
       "      <td>4</td>\n",
       "      <td>0.266667</td>\n",
       "      <td>1</td>\n",
       "      <td>0.066667</td>\n",
       "      <td>91</td>\n",
       "      <td>1365</td>\n",
       "      <td>26</td>\n",
       "      <td>26</td>\n",
       "      <td>1</td>\n",
       "      <td>18</td>\n",
       "      <td>18.0</td>\n",
       "      <td>0.066667</td>\n",
       "      <td>1.0</td>\n",
       "      <td>agora fake news pegar pesar</td>\n",
       "    </tr>\n",
       "    <tr>\n",
       "      <th>1005</th>\n",
       "      <td>5276818640357464974</td>\n",
       "      <td>1</td>\n",
       "      <td>65</td>\n",
       "      <td>20</td>\n",
       "      <td>0.307692</td>\n",
       "      <td>45</td>\n",
       "      <td>0.692308</td>\n",
       "      <td>2</td>\n",
       "      <td>0.030769</td>\n",
       "      <td>167</td>\n",
       "      <td>10855</td>\n",
       "      <td>84</td>\n",
       "      <td>168</td>\n",
       "      <td>2</td>\n",
       "      <td>63</td>\n",
       "      <td>126.0</td>\n",
       "      <td>0.030769</td>\n",
       "      <td>1.0</td>\n",
       "      <td>❌ 🆘 ❌ 🆘 ❌ 🆘 ❌ 🆘 ❌ \\n \\n atarncao ! ! ! ! ! tse...</td>\n",
       "    </tr>\n",
       "    <tr>\n",
       "      <th>2553</th>\n",
       "      <td>-1262571921909839756</td>\n",
       "      <td>1</td>\n",
       "      <td>14</td>\n",
       "      <td>7</td>\n",
       "      <td>0.500000</td>\n",
       "      <td>7</td>\n",
       "      <td>0.500000</td>\n",
       "      <td>5</td>\n",
       "      <td>0.357143</td>\n",
       "      <td>147</td>\n",
       "      <td>2058</td>\n",
       "      <td>91</td>\n",
       "      <td>455</td>\n",
       "      <td>5</td>\n",
       "      <td>71</td>\n",
       "      <td>355.0</td>\n",
       "      <td>0.357143</td>\n",
       "      <td>1.0</td>\n",
       "      <td>video mostrar esquererdo querer transformar pa...</td>\n",
       "    </tr>\n",
       "    <tr>\n",
       "      <th>4491</th>\n",
       "      <td>8037235706411836879</td>\n",
       "      <td>1</td>\n",
       "      <td>2</td>\n",
       "      <td>1</td>\n",
       "      <td>0.500000</td>\n",
       "      <td>1</td>\n",
       "      <td>0.500000</td>\n",
       "      <td>1</td>\n",
       "      <td>0.500000</td>\n",
       "      <td>277</td>\n",
       "      <td>554</td>\n",
       "      <td>138</td>\n",
       "      <td>138</td>\n",
       "      <td>1</td>\n",
       "      <td>109</td>\n",
       "      <td>109.0</td>\n",
       "      <td>0.500000</td>\n",
       "      <td>1.0</td>\n",
       "      <td>[num]o turno : voce selecionado participar pes...</td>\n",
       "    </tr>\n",
       "    <tr>\n",
       "      <th>1001</th>\n",
       "      <td>-7393395746959340148</td>\n",
       "      <td>1</td>\n",
       "      <td>65</td>\n",
       "      <td>49</td>\n",
       "      <td>0.753846</td>\n",
       "      <td>16</td>\n",
       "      <td>0.246154</td>\n",
       "      <td>3</td>\n",
       "      <td>0.046154</td>\n",
       "      <td>187</td>\n",
       "      <td>12155</td>\n",
       "      <td>94</td>\n",
       "      <td>282</td>\n",
       "      <td>3</td>\n",
       "      <td>79</td>\n",
       "      <td>237.0</td>\n",
       "      <td>0.046154</td>\n",
       "      <td>1.0</td>\n",
       "      <td>comecaram remocoes simbolos comunista todo bra...</td>\n",
       "    </tr>\n",
       "    <tr>\n",
       "      <th>2557</th>\n",
       "      <td>8133598396863014761</td>\n",
       "      <td>1</td>\n",
       "      <td>14</td>\n",
       "      <td>4</td>\n",
       "      <td>0.285714</td>\n",
       "      <td>10</td>\n",
       "      <td>0.714286</td>\n",
       "      <td>1</td>\n",
       "      <td>0.071429</td>\n",
       "      <td>272</td>\n",
       "      <td>3808</td>\n",
       "      <td>105</td>\n",
       "      <td>105</td>\n",
       "      <td>1</td>\n",
       "      <td>73</td>\n",
       "      <td>73.0</td>\n",
       "      <td>0.071429</td>\n",
       "      <td>1.0</td>\n",
       "      <td>divulgar cena , covarde mal especie . \\n \\n \\n...</td>\n",
       "    </tr>\n",
       "  </tbody>\n",
       "</table>\n",
       "</div>"
      ],
      "text/plain": [
       "                       id  groups  number_of_messages  texts  text_ratio  \\\n",
       "1832 -6466419814190162853       1                  28     25    0.892857   \n",
       "2539 -8975904124756039174       1                  15     11    0.733333   \n",
       "1017  5276233012699937445       1                  64     40    0.625000   \n",
       "2543 -7699231987068317212       1                  15      8    0.533333   \n",
       "2549 -7543604740380005677       1                  15     11    0.733333   \n",
       "1005  5276818640357464974       1                  65     20    0.307692   \n",
       "2553 -1262571921909839756       1                  14      7    0.500000   \n",
       "4491  8037235706411836879       1                   2      1    0.500000   \n",
       "1001 -7393395746959340148       1                  65     49    0.753846   \n",
       "2557  8133598396863014761       1                  14      4    0.285714   \n",
       "\n",
       "      midia  midia_ratio  virals  viral_ratio  degree_centrality  strenght  \\\n",
       "1832      3     0.107143       2     0.071429                152      4256   \n",
       "2539      4     0.266667       2     0.133333                 17       255   \n",
       "1017     24     0.375000       1     0.015625                277     17728   \n",
       "2543      7     0.466667       3     0.200000                325      4875   \n",
       "2549      4     0.266667       1     0.066667                 91      1365   \n",
       "1005     45     0.692308       2     0.030769                167     10855   \n",
       "2553      7     0.500000       5     0.357143                147      2058   \n",
       "4491      1     0.500000       1     0.500000                277       554   \n",
       "1001     16     0.246154       3     0.046154                187     12155   \n",
       "2557     10     0.714286       1     0.071429                272      3808   \n",
       "\n",
       "      viral_degree_centrality  viral_strenght  misinformation  \\\n",
       "1832                       89             178               2   \n",
       "2539                        7              14               2   \n",
       "1017                      138             138               1   \n",
       "2543                      176             528               3   \n",
       "2549                       26              26               1   \n",
       "1005                       84             168               2   \n",
       "2553                       91             455               5   \n",
       "4491                      138             138               1   \n",
       "1001                       94             282               3   \n",
       "2557                      105             105               1   \n",
       "\n",
       "      misinformation_degree_centrality  misinformation_strenght  \\\n",
       "1832                                71                    142.0   \n",
       "2539                                 3                      6.0   \n",
       "1017                               109                    109.0   \n",
       "2543                               118                    354.0   \n",
       "2549                                18                     18.0   \n",
       "1005                                63                    126.0   \n",
       "2553                                71                    355.0   \n",
       "4491                               109                    109.0   \n",
       "1001                                79                    237.0   \n",
       "2557                                73                     73.0   \n",
       "\n",
       "      misinformation_ratio  viral_misinformation_ratio  \\\n",
       "1832              0.071429                         1.0   \n",
       "2539              0.133333                         1.0   \n",
       "1017              0.015625                         1.0   \n",
       "2543              0.200000                         1.0   \n",
       "2549              0.066667                         1.0   \n",
       "1005              0.030769                         1.0   \n",
       "2553              0.357143                         1.0   \n",
       "4491              0.500000                         1.0   \n",
       "1001              0.046154                         1.0   \n",
       "2557              0.071429                         1.0   \n",
       "\n",
       "                                         viral_messages  \n",
       "1832  arquivar ano [num] \" enterrar \" redar globo de...  \n",
       "2539  enverr amigo ver whatsapp . \\n \\n * analisar f...  \n",
       "1017  . bahianoticias \\n \\n * alar [num] mil baiano ...  \n",
       "2543  golpe , golpe , golpe . . . adelio autorizar d...  \n",
       "2549                        agora fake news pegar pesar  \n",
       "1005  ❌ 🆘 ❌ 🆘 ❌ 🆘 ❌ 🆘 ❌ \\n \\n atarncao ! ! ! ! ! tse...  \n",
       "2553  video mostrar esquererdo querer transformar pa...  \n",
       "4491  [num]o turno : voce selecionado participar pes...  \n",
       "1001  comecaram remocoes simbolos comunista todo bra...  \n",
       "2557  divulgar cena , covarde mal especie . \\n \\n \\n...  "
      ]
     },
     "execution_count": 6,
     "metadata": {},
     "output_type": "execute_result"
    }
   ],
   "source": [
    "# users\n",
    "#start = time.time()\n",
    "#df_users = get_top_users(df,None)\n",
    "#df_users.to_csv('data/2018/users.csv',index=False)\n",
    "#end = time.time()\n",
    "#print((end-start)/60)\n",
    "\n",
    "\n",
    "df_users = pd.read_csv('data/2018/users.csv')\n",
    "# filter users that haven't sent viral messages\n",
    "#df_users.dropna(subset=['viral_messages'],inplace=True)\n",
    "df_users.sort_values('viral_misinformation_ratio', ascending=False).head(10)\n",
    "# laplace smoothing, additive smoothing\n",
    "# somar uma quantidade no denominador +1\n",
    "# considerando uma priori"
   ]
  },
  {
   "cell_type": "markdown",
   "metadata": {},
   "source": [
    "## Definitions\n",
    "* **credibility:** probability of a viral message of a user don't contain misinformation\n",
    "* **superspreaders or influencers:** users with high level of ``viral strenght``\n",
    "* **misinformers:** users with a high number of misinformation\n",
    "\n",
    "To consideration: users that sent a lot of viral messages may have a average or high credibility, due the quantity of information that they sent even if they sent a lot o misinformation, as user ``-9166534760459654877`` for example. So even if the user is a misinformer or superspreader, he can have high credibility by our definition. The opposite is also true, a user with low credibility may not have sent a high quantitiy of misinformation, but has a high proportion in his viral messages, as user ``\t-6466419814190162853`` for example.<br>\n",
    "Possible solution: use the number of misinformation (normalized between 0 and 1) in the scoring of credibility.<br>\n",
    "Normalization: z = (x-min(x))/(max(x)-min(x))\n",
    "\n",
    "* **untrustworthiness:** viral misinformation ratio smoothed by laplace smoothing (https://en.wikipedia.org/wiki/Additive_smoothing)"
   ]
  },
  {
   "cell_type": "code",
   "execution_count": 7,
   "metadata": {},
   "outputs": [
    {
     "data": {
      "text/plain": [
       "Index(['id', 'groups', 'number_of_messages', 'texts', 'text_ratio', 'midia',\n",
       "       'midia_ratio', 'virals', 'viral_ratio', 'degree_centrality', 'strenght',\n",
       "       'viral_degree_centrality', 'viral_strenght', 'misinformation',\n",
       "       'misinformation_degree_centrality', 'misinformation_strenght',\n",
       "       'misinformation_ratio', 'viral_misinformation_ratio', 'viral_messages'],\n",
       "      dtype='object')"
      ]
     },
     "execution_count": 7,
     "metadata": {},
     "output_type": "execute_result"
    }
   ],
   "source": [
    "df_users.columns"
   ]
  },
  {
   "cell_type": "code",
   "execution_count": 8,
   "metadata": {},
   "outputs": [],
   "source": [
    "def normalization(x):\n",
    "    z = (x-min(x))/(max(x)-min(x))\n",
    "    return z\n",
    "\n",
    "def get_untrustworthiness(df):\n",
    "    variables = ['misinformation_strenght', 'viral_misinformation_ratio']\n",
    "    z = []\n",
    "    for v in variables:\n",
    "        z.append(normalization(df[v]))\n",
    "    z = np.array(z).transpose()\n",
    "    return z.mean(axis=1)  \n",
    "\n",
    "#df_users['untrustworthiness'] = get_untrustworthiness(df_users)\n",
    "#df_users['untrustworthiness'] = normalization(df_users['untrustworthiness'])\n",
    "df_users['untrustworthiness'] = df_users['misinformation']/(df_users['virals']+1)"
   ]
  },
  {
   "cell_type": "markdown",
   "metadata": {},
   "source": [
    "# Distribution of activity"
   ]
  },
  {
   "cell_type": "code",
   "execution_count": 9,
   "metadata": {},
   "outputs": [],
   "source": [
    "# outlier: Limite superior: Q3+1,5(Q3−Q1)\n",
    "def outlier(s):\n",
    "    q3 = s.quantile(0.75)\n",
    "    q1 = s.quantile(0.25)\n",
    "    out = q3+1.5*(q3-q1)\n",
    "    return out"
   ]
  },
  {
   "cell_type": "markdown",
   "metadata": {},
   "source": [
    "# Hypothesis\n",
    "Most of misinformation is spread by malicious / untrustful users"
   ]
  },
  {
   "cell_type": "code",
   "execution_count": 10,
   "metadata": {},
   "outputs": [
    {
     "data": {
      "text/plain": [
       "Index(['id', 'groups', 'number_of_messages', 'texts', 'text_ratio', 'midia',\n",
       "       'midia_ratio', 'virals', 'viral_ratio', 'degree_centrality', 'strenght',\n",
       "       'viral_degree_centrality', 'viral_strenght', 'misinformation',\n",
       "       'misinformation_degree_centrality', 'misinformation_strenght',\n",
       "       'misinformation_ratio', 'viral_misinformation_ratio', 'viral_messages',\n",
       "       'untrustworthiness'],\n",
       "      dtype='object')"
      ]
     },
     "execution_count": 10,
     "metadata": {},
     "output_type": "execute_result"
    }
   ],
   "source": [
    "df_users.columns"
   ]
  },
  {
   "cell_type": "markdown",
   "metadata": {},
   "source": [
    "## Testing the hypothesis"
   ]
  },
  {
   "cell_type": "code",
   "execution_count": 11,
   "metadata": {},
   "outputs": [
    {
     "name": "stdout",
     "output_type": "stream",
     "text": [
      "total misinformation:  11734\n",
      "total users: 5364\n",
      "total untrustful users: 1883 (35.1%)\n",
      "proportion of misinformation sent by untrustful users: 93.9%\n"
     ]
    }
   ],
   "source": [
    "df_malicious = df_users[df_users['untrustworthiness'] >= 0.3]\n",
    "malicious = set(df_malicious['id'])\n",
    "\n",
    "# misinformation\n",
    "total_mis = len(df[df['misinformation']==1])\n",
    "print('total misinformation: ',total_mis)\n",
    "\n",
    "def messages_by_superspreaders(user,superspreaders):\n",
    "    if user in superspreaders:\n",
    "        return True\n",
    "    else:\n",
    "        return False\n",
    "superspreader_mask = []\n",
    "for u in df['id']:\n",
    "    superspreader_mask.append(messages_by_superspreaders(u,malicious))    \n",
    "df_superspreaders = df[superspreader_mask]\n",
    "df_superspreaders = df_superspreaders[df_superspreaders['misinformation']==1]\n",
    "\n",
    "print('total users:',len(df_users))\n",
    "print('total untrustful users: {a:1d} ({b:.1f}%)'.format(a = len(malicious), b = len(malicious)*100/len(df_users)))\n",
    "print('proportion of misinformation sent by untrustful users: {a:.1f}%'.format(a = len(df_superspreaders)*100/total_mis))"
   ]
  },
  {
   "cell_type": "markdown",
   "metadata": {},
   "source": [
    "# Selecting only the active users based in data"
   ]
  },
  {
   "cell_type": "code",
   "execution_count": 12,
   "metadata": {},
   "outputs": [],
   "source": [
    "# user data\n",
    "df_active_users = df_users[(df_users['virals'] > 0)]"
   ]
  },
  {
   "cell_type": "markdown",
   "metadata": {},
   "source": [
    "# User representation"
   ]
  },
  {
   "cell_type": "code",
   "execution_count": 13,
   "metadata": {},
   "outputs": [
    {
     "data": {
      "text/plain": [
       "(2620, 11)"
      ]
     },
     "execution_count": 13,
     "metadata": {},
     "output_type": "execute_result"
    }
   ],
   "source": [
    "user_features = ['number_of_messages', 'texts', 'text_ratio', 'midia',\n",
    "           'midia_ratio', 'virals', 'viral_ratio', 'degree_centrality', 'strenght',\n",
    "           'viral_degree_centrality', 'viral_strenght']\n",
    "X = df_active_users[user_features]\n",
    "y = df_active_users['untrustworthiness']\n",
    "X.shape"
   ]
  },
  {
   "cell_type": "markdown",
   "metadata": {},
   "source": [
    "### Feature selection"
   ]
  },
  {
   "cell_type": "code",
   "execution_count": 14,
   "metadata": {},
   "outputs": [
    {
     "data": {
      "text/plain": [
       "number_of_messages           186.411503\n",
       "texts                        122.723183\n",
       "text_ratio                     0.233079\n",
       "midia                         85.344266\n",
       "midia_ratio                    0.233079\n",
       "virals                        21.184147\n",
       "viral_ratio                    0.174888\n",
       "degree_centrality            147.260901\n",
       "strenght                   39399.397124\n",
       "viral_degree_centrality       77.706476\n",
       "viral_strenght              2115.323650\n",
       "dtype: float64"
      ]
     },
     "execution_count": 14,
     "metadata": {},
     "output_type": "execute_result"
    }
   ],
   "source": [
    "# univariate analysis\n",
    "X.std()"
   ]
  },
  {
   "cell_type": "code",
   "execution_count": 15,
   "metadata": {},
   "outputs": [
    {
     "data": {
      "image/png": "[encoded data removed]",
      "text/plain": [
       "<Figure size 576x360 with 2 Axes>"
      ]
     },
     "metadata": {
      "needs_background": "light"
     },
     "output_type": "display_data"
    }
   ],
   "source": [
    "#get correlations of each features in dataset\n",
    "corrmat = X.corr()\n",
    "top_corr_features = corrmat.index\n",
    "plt.figure(figsize=(8,5))\n",
    "#plot heat map\n",
    "# sns.heatmap(df_similar, annot=True, fmt='.2f', linewidths=.1)\n",
    "g=sns.heatmap(X[top_corr_features].corr(),annot=True, fmt='.2f', linewidths=.1,cmap=\"RdYlGn\")"
   ]
  },
  {
   "cell_type": "code",
   "execution_count": 16,
   "metadata": {},
   "outputs": [
    {
     "name": "stdout",
     "output_type": "stream",
     "text": [
      "[0.06086419 0.06592704 0.09048312 0.06781807 0.07393853 0.13212935\n",
      " 0.09374843 0.11079179 0.12619651 0.05939648 0.11870648]\n"
     ]
    },
    {
     "data": {
      "image/png": "[encoded data removed]",
      "text/plain": [
       "<Figure size 432x288 with 1 Axes>"
      ]
     },
     "metadata": {
      "needs_background": "light"
     },
     "output_type": "display_data"
    }
   ],
   "source": [
    "# feature importance\n",
    "\n",
    "from sklearn.tree import DecisionTreeRegressor\n",
    "model = DecisionTreeRegressor()\n",
    "model.fit(X,y)\n",
    "print(model.feature_importances_) #use inbuilt class feature_importances of tree based classifiers\n",
    "#plot graph of feature importances for better visualization\n",
    "feat_importances = pd.Series(model.feature_importances_, index=X.columns)\n",
    "feat_importances.nlargest(10).plot(kind='barh')\n",
    "plt.show()"
   ]
  },
  {
   "cell_type": "markdown",
   "metadata": {},
   "source": [
    "# Evaluation functions"
   ]
  },
  {
   "cell_type": "code",
   "execution_count": 17,
   "metadata": {},
   "outputs": [],
   "source": [
    "def pred_tfidf(reg,X_test):\n",
    "    y_pred = []\n",
    "    for x in X_test:\n",
    "    #if vector is from null text\n",
    "        if x.sum()==0:\n",
    "            y_pred.append(.0)\n",
    "        else:\n",
    "            pred = reg.predict(x)[0]\n",
    "            y_pred.append(pred)\n",
    "    return y_pred\n",
    "\n",
    "def pred_topics(reg,X_test):\n",
    "    y_pred = []\n",
    "    for x in X_test:\n",
    "    #if vector is from null text\n",
    "        if np.all(x == x[0]):\n",
    "            y_pred.append(0.0)\n",
    "        else:\n",
    "            pred = reg.predict(x)[0]\n",
    "            y_pred.append(pred)\n",
    "    return y_pred\n",
    "\n",
    "def train_test_reg(reg,X_train,X_test,y_train,y_test, text_features = None):\n",
    "    reg.fit(X_train, y_train)\n",
    "\n",
    "    if text_features == 'tfidf':\n",
    "        y_pred = pred_tfidf(reg,X_test)\n",
    "    elif text_features == 'lda':\n",
    "        y_pred = pred_topics(reg,X_test)\n",
    "    else:\n",
    "        y_pred = reg.predict(X_test)\n",
    "        \n",
    "    y_pred = np.clip(y_pred,0,1)    \n",
    "    rmse = mean_squared_error(y_test, y_pred, squared=False)\n",
    "    print('rmse: {a:.3f}'.format(a=rmse))\n",
    "    return rmse,y_pred\n",
    "\n",
    "def z_score(X_train,X_test):\n",
    "    mu = np.mean(X_train, 0)\n",
    "    sigma = np.std(X_train, 0)\n",
    "    X_train = (X_train - mu ) / sigma\n",
    "    X_test = (X_test - mu ) / sigma\n",
    "    return X_train,X_test\n",
    "\n",
    "def compare_prediction(y,y_pred):\n",
    "    for t,p in list(zip(y,y_pred)):\n",
    "        print('real: {a:.2f}. predict: {b:.2f}'.format(a=t,b=p))\n",
    "        \n",
    "def sigmoid(x):\n",
    "    return 1 / (1 + np.exp(-x))\n",
    "    \n",
    "\n",
    "# compare prediction with target\n",
    "\n",
    "# for t,p in list(zip(y_test,y_pred)):\n",
    "#     print('real: {a:.2f}. predict: {b:.2f}'.format(a=t,b=p))"
   ]
  },
  {
   "cell_type": "code",
   "execution_count": 18,
   "metadata": {},
   "outputs": [],
   "source": [
    "# optimal mlp for tfidf\n",
    "def get_mlp():\n",
    "    reg = MLPRegressor(activation = 'relu', solver = 'adam',random_state = 42, \n",
    "                   tol = 1e-4, verbose = False, early_stopping = True, \n",
    "                   n_iter_no_change = 5, max_iter = 100,\n",
    "                   hidden_layer_sizes = (100,), alpha = 0.0067, \n",
    "                   learning_rate_init = .00026, batch_size = 50)\n",
    "    return reg\n",
    "\n",
    "# tunning hyperparameters mlp\n",
    "n_iter = 10\n",
    "def random_layers():\n",
    "    '''\n",
    "    Create a tuple random of hidden_layer_sizes. \n",
    "    '''\n",
    "    n_layers = np.random.randint(1,4)\n",
    "    layers_list = []\n",
    "    for i in range(n_layers):            \n",
    "        hidden_neurons = np.random.randint(1,15)*25\n",
    "        layers_list.append(hidden_neurons)\n",
    "    layers_tuple = tuple(layers_list)\n",
    "    return layers_tuple\n",
    "\n",
    "def random_search_mlp(X_train,y_train,n_iter=10):\n",
    "    \n",
    "    # hyperparams to optimize\n",
    "    hidden_layers = []\n",
    "    alphas = []\n",
    "    batch_sizes = []\n",
    "    learning_rate_inits = []\n",
    "    # sample\n",
    "    np.random.seed(0)\n",
    "    for i in range(n_iter):   \n",
    "        hl = random_layers()\n",
    "        #print(hl,end = '; ')\n",
    "        hidden_layers.append(hl)\n",
    "        ap = 10**np.random.uniform(-6,-2)\n",
    "        #print(ap, end = '; ')\n",
    "        alphas.append(ap)\n",
    "        learning = 10**np.random.uniform(-4,-1)\n",
    "        #print(learning, end = '; ')\n",
    "        learning_rate_inits.append(learning)\n",
    "        batch = np.random.randint(1,5)*50 #math.floor(10**np.random.uniform(1.5,2.6)) #np.random.randint(2,30)*10\n",
    "        #print(batch)\n",
    "        batch_sizes.append(batch)\n",
    "\n",
    "    # tunning\n",
    "    X_train_v, X_val, y_train_v, y_val = train_test_split(X_train, y_train, test_size=0.1, random_state=42)\n",
    "    best_rmse = 1000\n",
    "    i = 0\n",
    "    for hl,bs,al,lri in zip(hidden_layers,batch_sizes,alphas,learning_rate_inits):\n",
    "        \n",
    "        reg = optimized_mlp(hl,bs,al,lri)\n",
    "\n",
    "        print(i, end= ' ')\n",
    "        i+=1\n",
    "        print()\n",
    "        print('hidden layers: {a}; alpha: {b:.5f}; learning rate: {c:.5f}; batch: {d}'.format(a=hl,b=al,c=lri,d=bs))    \n",
    "        reg.fit(X_train_v, y_train_v)\n",
    "        y_pred = reg.predict(X_val)        \n",
    "        y_pred = np.clip(y_pred,0,1)\n",
    "\n",
    "        rmse = mean_squared_error(y_val, y_pred, squared=False)\n",
    "        if rmse < best_rmse:\n",
    "            best_rmse = rmse\n",
    "            best_params = (hl,bs,al,lri)\n",
    "\n",
    "        #print('validation rmse: {a:.3f}'.format(a=rmse))\n",
    "\n",
    "\n",
    "    hl,bs,al,lri = best_params\n",
    "    print()\n",
    "    print('--------------------')\n",
    "    print('BEST PARAMETERS (validation rmse = {a:.3f})'.format(a=best_rmse))\n",
    "    print('hidden layers: {a}; alpha: {b:.5f}; learning rate: {c:.5f}; batch: {d}'.format(a=hl,b=al,c=lri,d=bs))\n",
    "    print('--------------------')\n",
    "    return hl,bs,al,lri\n",
    "\n",
    "def optimized_mlp(hl,bs,al,lri):\n",
    "    reg = MLPRegressor(activation = 'relu', solver = 'adam',random_state = 42, \n",
    "                   tol = 1e-4, verbose = False, early_stopping = True, \n",
    "                   n_iter_no_change = 5, max_iter = 100,\n",
    "                   hidden_layer_sizes = hl, alpha = al, \n",
    "                   learning_rate_init = lri, batch_size = bs)\n",
    "    return reg\n",
    "    \n",
    "    "
   ]
  },
  {
   "cell_type": "markdown",
   "metadata": {},
   "source": [
    "# User features"
   ]
  },
  {
   "cell_type": "code",
   "execution_count": 19,
   "metadata": {},
   "outputs": [
    {
     "name": "stdout",
     "output_type": "stream",
     "text": [
      "trustable users?\n"
     ]
    },
    {
     "data": {
      "text/html": [
       "<div>\n",
       "<style scoped>\n",
       "    .dataframe tbody tr th:only-of-type {\n",
       "        vertical-align: middle;\n",
       "    }\n",
       "\n",
       "    .dataframe tbody tr th {\n",
       "        vertical-align: top;\n",
       "    }\n",
       "\n",
       "    .dataframe thead th {\n",
       "        text-align: right;\n",
       "    }\n",
       "</style>\n",
       "<table border=\"1\" class=\"dataframe\">\n",
       "  <thead>\n",
       "    <tr style=\"text-align: right;\">\n",
       "      <th></th>\n",
       "      <th>id</th>\n",
       "      <th>groups</th>\n",
       "      <th>number_of_messages</th>\n",
       "      <th>texts</th>\n",
       "      <th>text_ratio</th>\n",
       "      <th>midia</th>\n",
       "      <th>midia_ratio</th>\n",
       "      <th>virals</th>\n",
       "      <th>viral_ratio</th>\n",
       "      <th>degree_centrality</th>\n",
       "      <th>strenght</th>\n",
       "      <th>viral_degree_centrality</th>\n",
       "      <th>viral_strenght</th>\n",
       "      <th>misinformation</th>\n",
       "      <th>misinformation_degree_centrality</th>\n",
       "      <th>misinformation_strenght</th>\n",
       "      <th>misinformation_ratio</th>\n",
       "      <th>viral_misinformation_ratio</th>\n",
       "      <th>viral_messages</th>\n",
       "      <th>untrustworthiness</th>\n",
       "    </tr>\n",
       "  </thead>\n",
       "  <tbody>\n",
       "    <tr>\n",
       "      <th>9</th>\n",
       "      <td>3201344459315743060</td>\n",
       "      <td>1</td>\n",
       "      <td>1126</td>\n",
       "      <td>950</td>\n",
       "      <td>0.843694</td>\n",
       "      <td>176</td>\n",
       "      <td>0.156306</td>\n",
       "      <td>2</td>\n",
       "      <td>0.001776</td>\n",
       "      <td>272</td>\n",
       "      <td>306272</td>\n",
       "      <td>105</td>\n",
       "      <td>210</td>\n",
       "      <td>0</td>\n",
       "      <td>73</td>\n",
       "      <td>0.0</td>\n",
       "      <td>0.0</td>\n",
       "      <td>0.0</td>\n",
       "      <td>bem vir grupar direito capitao alberto neto [n...</td>\n",
       "      <td>0.0</td>\n",
       "    </tr>\n",
       "    <tr>\n",
       "      <th>19</th>\n",
       "      <td>-3545133711641780471</td>\n",
       "      <td>1</td>\n",
       "      <td>932</td>\n",
       "      <td>873</td>\n",
       "      <td>0.936695</td>\n",
       "      <td>59</td>\n",
       "      <td>0.063305</td>\n",
       "      <td>1</td>\n",
       "      <td>0.001073</td>\n",
       "      <td>272</td>\n",
       "      <td>253504</td>\n",
       "      <td>105</td>\n",
       "      <td>105</td>\n",
       "      <td>0</td>\n",
       "      <td>73</td>\n",
       "      <td>0.0</td>\n",
       "      <td>0.0</td>\n",
       "      <td>0.0</td>\n",
       "      <td>* urgente ! ! ! * \\n live bolsonaro daqui pouc...</td>\n",
       "      <td>0.0</td>\n",
       "    </tr>\n",
       "    <tr>\n",
       "      <th>91</th>\n",
       "      <td>5799803585252829017</td>\n",
       "      <td>1</td>\n",
       "      <td>450</td>\n",
       "      <td>384</td>\n",
       "      <td>0.853333</td>\n",
       "      <td>66</td>\n",
       "      <td>0.146667</td>\n",
       "      <td>1</td>\n",
       "      <td>0.002222</td>\n",
       "      <td>272</td>\n",
       "      <td>122400</td>\n",
       "      <td>105</td>\n",
       "      <td>105</td>\n",
       "      <td>0</td>\n",
       "      <td>73</td>\n",
       "      <td>0.0</td>\n",
       "      <td>0.0</td>\n",
       "      <td>0.0</td>\n",
       "      <td>oi galera . . . . . independente vcs irao vota...</td>\n",
       "      <td>0.0</td>\n",
       "    </tr>\n",
       "    <tr>\n",
       "      <th>178</th>\n",
       "      <td>-3198159623833756640</td>\n",
       "      <td>1</td>\n",
       "      <td>304</td>\n",
       "      <td>145</td>\n",
       "      <td>0.476974</td>\n",
       "      <td>159</td>\n",
       "      <td>0.523026</td>\n",
       "      <td>3</td>\n",
       "      <td>0.009868</td>\n",
       "      <td>152</td>\n",
       "      <td>46208</td>\n",
       "      <td>89</td>\n",
       "      <td>267</td>\n",
       "      <td>0</td>\n",
       "      <td>71</td>\n",
       "      <td>0.0</td>\n",
       "      <td>0.0</td>\n",
       "      <td>0.0</td>\n",
       "      <td>petista procurar teta segundo feirar&lt;&gt;marinho ...</td>\n",
       "      <td>0.0</td>\n",
       "    </tr>\n",
       "    <tr>\n",
       "      <th>214</th>\n",
       "      <td>-1005480812249449457</td>\n",
       "      <td>1</td>\n",
       "      <td>273</td>\n",
       "      <td>183</td>\n",
       "      <td>0.670330</td>\n",
       "      <td>90</td>\n",
       "      <td>0.329670</td>\n",
       "      <td>1</td>\n",
       "      <td>0.003663</td>\n",
       "      <td>152</td>\n",
       "      <td>41496</td>\n",
       "      <td>89</td>\n",
       "      <td>89</td>\n",
       "      <td>0</td>\n",
       "      <td>71</td>\n",
       "      <td>0.0</td>\n",
       "      <td>0.0</td>\n",
       "      <td>0.0</td>\n",
       "      <td>haddade balear agora pouco . 😔</td>\n",
       "      <td>0.0</td>\n",
       "    </tr>\n",
       "    <tr>\n",
       "      <th>...</th>\n",
       "      <td>...</td>\n",
       "      <td>...</td>\n",
       "      <td>...</td>\n",
       "      <td>...</td>\n",
       "      <td>...</td>\n",
       "      <td>...</td>\n",
       "      <td>...</td>\n",
       "      <td>...</td>\n",
       "      <td>...</td>\n",
       "      <td>...</td>\n",
       "      <td>...</td>\n",
       "      <td>...</td>\n",
       "      <td>...</td>\n",
       "      <td>...</td>\n",
       "      <td>...</td>\n",
       "      <td>...</td>\n",
       "      <td>...</td>\n",
       "      <td>...</td>\n",
       "      <td>...</td>\n",
       "      <td>...</td>\n",
       "    </tr>\n",
       "    <tr>\n",
       "      <th>4949</th>\n",
       "      <td>6183038366216158784</td>\n",
       "      <td>1</td>\n",
       "      <td>1</td>\n",
       "      <td>1</td>\n",
       "      <td>1.000000</td>\n",
       "      <td>0</td>\n",
       "      <td>0.000000</td>\n",
       "      <td>1</td>\n",
       "      <td>1.000000</td>\n",
       "      <td>307</td>\n",
       "      <td>307</td>\n",
       "      <td>162</td>\n",
       "      <td>162</td>\n",
       "      <td>0</td>\n",
       "      <td>124</td>\n",
       "      <td>0.0</td>\n",
       "      <td>0.0</td>\n",
       "      <td>0.0</td>\n",
       "      <td>ir fazer campanha inteligente garantir vitoria...</td>\n",
       "      <td>0.0</td>\n",
       "    </tr>\n",
       "    <tr>\n",
       "      <th>5157</th>\n",
       "      <td>4716421855862788687</td>\n",
       "      <td>1</td>\n",
       "      <td>1</td>\n",
       "      <td>1</td>\n",
       "      <td>1.000000</td>\n",
       "      <td>0</td>\n",
       "      <td>0.000000</td>\n",
       "      <td>1</td>\n",
       "      <td>1.000000</td>\n",
       "      <td>56</td>\n",
       "      <td>56</td>\n",
       "      <td>34</td>\n",
       "      <td>34</td>\n",
       "      <td>0</td>\n",
       "      <td>26</td>\n",
       "      <td>0.0</td>\n",
       "      <td>0.0</td>\n",
       "      <td>0.0</td>\n",
       "      <td>* : * : * : * : * : * : * : * : * : * : * \\n *...</td>\n",
       "      <td>0.0</td>\n",
       "    </tr>\n",
       "    <tr>\n",
       "      <th>5179</th>\n",
       "      <td>-4188663224858239237</td>\n",
       "      <td>1</td>\n",
       "      <td>1</td>\n",
       "      <td>1</td>\n",
       "      <td>1.000000</td>\n",
       "      <td>0</td>\n",
       "      <td>0.000000</td>\n",
       "      <td>1</td>\n",
       "      <td>1.000000</td>\n",
       "      <td>93</td>\n",
       "      <td>93</td>\n",
       "      <td>57</td>\n",
       "      <td>57</td>\n",
       "      <td>0</td>\n",
       "      <td>46</td>\n",
       "      <td>0.0</td>\n",
       "      <td>0.0</td>\n",
       "      <td>0.0</td>\n",
       "      <td>* avisar utilidade publicar * \\n \\n brasil par...</td>\n",
       "      <td>0.0</td>\n",
       "    </tr>\n",
       "    <tr>\n",
       "      <th>5250</th>\n",
       "      <td>-5214655400732106639</td>\n",
       "      <td>1</td>\n",
       "      <td>1</td>\n",
       "      <td>1</td>\n",
       "      <td>1.000000</td>\n",
       "      <td>0</td>\n",
       "      <td>0.000000</td>\n",
       "      <td>1</td>\n",
       "      <td>1.000000</td>\n",
       "      <td>139</td>\n",
       "      <td>139</td>\n",
       "      <td>69</td>\n",
       "      <td>69</td>\n",
       "      <td>0</td>\n",
       "      <td>59</td>\n",
       "      <td>0.0</td>\n",
       "      <td>0.0</td>\n",
       "      <td>0.0</td>\n",
       "      <td>ir fazer campanha inteligente garantir vitoria...</td>\n",
       "      <td>0.0</td>\n",
       "    </tr>\n",
       "    <tr>\n",
       "      <th>5283</th>\n",
       "      <td>-2988991460937333560</td>\n",
       "      <td>1</td>\n",
       "      <td>1</td>\n",
       "      <td>1</td>\n",
       "      <td>1.000000</td>\n",
       "      <td>0</td>\n",
       "      <td>0.000000</td>\n",
       "      <td>1</td>\n",
       "      <td>1.000000</td>\n",
       "      <td>164</td>\n",
       "      <td>164</td>\n",
       "      <td>66</td>\n",
       "      <td>66</td>\n",
       "      <td>0</td>\n",
       "      <td>42</td>\n",
       "      <td>0.0</td>\n",
       "      <td>0.0</td>\n",
       "      <td>0.0</td>\n",
       "      <td>acesse link entrar grupar whatsapp : chat . wh...</td>\n",
       "      <td>0.0</td>\n",
       "    </tr>\n",
       "  </tbody>\n",
       "</table>\n",
       "<p>514 rows × 20 columns</p>\n",
       "</div>"
      ],
      "text/plain": [
       "                       id  groups  number_of_messages  texts  text_ratio  \\\n",
       "9     3201344459315743060       1                1126    950    0.843694   \n",
       "19   -3545133711641780471       1                 932    873    0.936695   \n",
       "91    5799803585252829017       1                 450    384    0.853333   \n",
       "178  -3198159623833756640       1                 304    145    0.476974   \n",
       "214  -1005480812249449457       1                 273    183    0.670330   \n",
       "...                   ...     ...                 ...    ...         ...   \n",
       "4949  6183038366216158784       1                   1      1    1.000000   \n",
       "5157  4716421855862788687       1                   1      1    1.000000   \n",
       "5179 -4188663224858239237       1                   1      1    1.000000   \n",
       "5250 -5214655400732106639       1                   1      1    1.000000   \n",
       "5283 -2988991460937333560       1                   1      1    1.000000   \n",
       "\n",
       "      midia  midia_ratio  virals  viral_ratio  degree_centrality  strenght  \\\n",
       "9       176     0.156306       2     0.001776                272    306272   \n",
       "19       59     0.063305       1     0.001073                272    253504   \n",
       "91       66     0.146667       1     0.002222                272    122400   \n",
       "178     159     0.523026       3     0.009868                152     46208   \n",
       "214      90     0.329670       1     0.003663                152     41496   \n",
       "...     ...          ...     ...          ...                ...       ...   \n",
       "4949      0     0.000000       1     1.000000                307       307   \n",
       "5157      0     0.000000       1     1.000000                 56        56   \n",
       "5179      0     0.000000       1     1.000000                 93        93   \n",
       "5250      0     0.000000       1     1.000000                139       139   \n",
       "5283      0     0.000000       1     1.000000                164       164   \n",
       "\n",
       "      viral_degree_centrality  viral_strenght  misinformation  \\\n",
       "9                         105             210               0   \n",
       "19                        105             105               0   \n",
       "91                        105             105               0   \n",
       "178                        89             267               0   \n",
       "214                        89              89               0   \n",
       "...                       ...             ...             ...   \n",
       "4949                      162             162               0   \n",
       "5157                       34              34               0   \n",
       "5179                       57              57               0   \n",
       "5250                       69              69               0   \n",
       "5283                       66              66               0   \n",
       "\n",
       "      misinformation_degree_centrality  misinformation_strenght  \\\n",
       "9                                   73                      0.0   \n",
       "19                                  73                      0.0   \n",
       "91                                  73                      0.0   \n",
       "178                                 71                      0.0   \n",
       "214                                 71                      0.0   \n",
       "...                                ...                      ...   \n",
       "4949                               124                      0.0   \n",
       "5157                                26                      0.0   \n",
       "5179                                46                      0.0   \n",
       "5250                                59                      0.0   \n",
       "5283                                42                      0.0   \n",
       "\n",
       "      misinformation_ratio  viral_misinformation_ratio  \\\n",
       "9                      0.0                         0.0   \n",
       "19                     0.0                         0.0   \n",
       "91                     0.0                         0.0   \n",
       "178                    0.0                         0.0   \n",
       "214                    0.0                         0.0   \n",
       "...                    ...                         ...   \n",
       "4949                   0.0                         0.0   \n",
       "5157                   0.0                         0.0   \n",
       "5179                   0.0                         0.0   \n",
       "5250                   0.0                         0.0   \n",
       "5283                   0.0                         0.0   \n",
       "\n",
       "                                         viral_messages  untrustworthiness  \n",
       "9     bem vir grupar direito capitao alberto neto [n...                0.0  \n",
       "19    * urgente ! ! ! * \\n live bolsonaro daqui pouc...                0.0  \n",
       "91    oi galera . . . . . independente vcs irao vota...                0.0  \n",
       "178   petista procurar teta segundo feirar<>marinho ...                0.0  \n",
       "214                      haddade balear agora pouco . 😔                0.0  \n",
       "...                                                 ...                ...  \n",
       "4949  ir fazer campanha inteligente garantir vitoria...                0.0  \n",
       "5157  * : * : * : * : * : * : * : * : * : * : * \\n *...                0.0  \n",
       "5179  * avisar utilidade publicar * \\n \\n brasil par...                0.0  \n",
       "5250  ir fazer campanha inteligente garantir vitoria...                0.0  \n",
       "5283  acesse link entrar grupar whatsapp : chat . wh...                0.0  \n",
       "\n",
       "[514 rows x 20 columns]"
      ]
     },
     "execution_count": 19,
     "metadata": {},
     "output_type": "execute_result"
    }
   ],
   "source": [
    "print('trustable users?')\n",
    "df_active_users[df_active_users['untrustworthiness'] == 0]"
   ]
  },
  {
   "cell_type": "code",
   "execution_count": 20,
   "metadata": {},
   "outputs": [
    {
     "name": "stdout",
     "output_type": "stream",
     "text": [
      "(2620, 7)\n",
      "(2096, 7)\n",
      "(524, 7)\n"
     ]
    }
   ],
   "source": [
    "user_features = ['number_of_messages','midia_ratio', 'viral_ratio', \n",
    "                 'degree_centrality', 'strenght',\n",
    "                 'viral_degree_centrality', 'viral_strenght']\n",
    "X = df_active_users[user_features]\n",
    "y = df_active_users['untrustworthiness']\n",
    "# split\n",
    "X_train, X_test, y_train, y_test = train_test_split(X, y, test_size=0.2, random_state=42)\n",
    "\n",
    "# z_score\n",
    "X_train,X_test=z_score(X_train,X_test)\n",
    "print(X.shape)\n",
    "print(X_train.shape)\n",
    "print(X_test.shape)"
   ]
  },
  {
   "cell_type": "code",
   "execution_count": 21,
   "metadata": {},
   "outputs": [
    {
     "name": "stdout",
     "output_type": "stream",
     "text": [
      "linear regression + user features\n",
      "rmse: 0.243\n"
     ]
    }
   ],
   "source": [
    "reg = LinearRegression()\n",
    "print('linear regression + user features')\n",
    "rmse, y_pred = train_test_reg(reg,X_train,X_test,y_train,y_test)"
   ]
  },
  {
   "cell_type": "code",
   "execution_count": 22,
   "metadata": {},
   "outputs": [],
   "source": [
    "#compare_prediction(y_test,y_pred)"
   ]
  },
  {
   "cell_type": "code",
   "execution_count": 23,
   "metadata": {},
   "outputs": [
    {
     "name": "stdout",
     "output_type": "stream",
     "text": [
      "mlp + user features\n",
      "rmse: 0.232\n"
     ]
    }
   ],
   "source": [
    "print('mlp + user features')\n",
    "reg = MLPRegressor(random_state=0,)\n",
    "rmse, y_pred = train_test_reg(reg,X_train,X_test,y_train,y_test)\n",
    "#compare_prediction(y_test,y_pred)"
   ]
  },
  {
   "cell_type": "code",
   "execution_count": 24,
   "metadata": {},
   "outputs": [
    {
     "name": "stdout",
     "output_type": "stream",
     "text": [
      "rmse: 0.235\n"
     ]
    },
    {
     "name": "stderr",
     "output_type": "stream",
     "text": [
      "/home/cabral/anaconda3/lib/python3.7/site-packages/sklearn/neural_network/_multilayer_perceptron.py:585: ConvergenceWarning: Stochastic Optimizer: Maximum iterations (100) reached and the optimization hasn't converged yet.\n",
      "  % self.max_iter, ConvergenceWarning)\n"
     ]
    }
   ],
   "source": [
    "reg = get_mlp()\n",
    "rmse, y_pred = train_test_reg(reg,X_train,X_test,y_train,y_test)"
   ]
  },
  {
   "cell_type": "code",
   "execution_count": 25,
   "metadata": {},
   "outputs": [
    {
     "name": "stdout",
     "output_type": "stream",
     "text": [
      "mlp + user features\n",
      "0 \n",
      "hidden layers: (150,); alpha: 0.00238; learning rate: 0.03748; batch: 200\n",
      "1 \n",
      "hidden layers: (100, 150); alpha: 0.00003; learning rate: 0.00078; batch: 50\n",
      "2 \n",
      "hidden layers: (325,); alpha: 0.00003; learning rate: 0.02372; batch: 200\n",
      "3 \n",
      "hidden layers: (225, 50, 150); alpha: 0.00221; learning rate: 0.00103; batch: 50\n",
      "4 \n",
      "hidden layers: (100,); alpha: 0.00674; learning rate: 0.00026; batch: 50\n",
      "5 \n",
      "hidden layers: (100, 225, 50); alpha: 0.00007; learning rate: 0.02196; batch: 150\n",
      "6 \n",
      "hidden layers: (50,); alpha: 0.00000; learning rate: 0.06823; batch: 200\n",
      "7 \n",
      "hidden layers: (125, 200, 100); alpha: 0.00001; learning rate: 0.01625; batch: 50\n",
      "8 \n",
      "hidden layers: (25, 25, 125); alpha: 0.00030; learning rate: 0.00686; batch: 50\n",
      "9 \n",
      "hidden layers: (125, 250); alpha: 0.00006; learning rate: 0.00691; batch: 100\n",
      "\n",
      "--------------------\n",
      "BEST PARAMETERS (validation rmse = 0.210)\n",
      "hidden layers: (150,); alpha: 0.00238; learning rate: 0.03748; batch: 200\n",
      "--------------------\n",
      "rmse: 0.231\n"
     ]
    }
   ],
   "source": [
    "print('mlp + user features')\n",
    "hl,bs,al,lri = random_search_mlp(X_train,y_train,n_iter)\n",
    "reg = optimized_mlp(hl,bs,al,lri)\n",
    "rmse, y_pred = train_test_reg(reg,X_train,X_test,y_train,y_test)"
   ]
  },
  {
   "cell_type": "markdown",
   "metadata": {},
   "source": [
    "# Text features"
   ]
  },
  {
   "cell_type": "code",
   "execution_count": 90,
   "metadata": {},
   "outputs": [],
   "source": [
    "X = df_active_users['viral_messages']\n",
    "y = df_active_users['untrustworthiness']\n",
    "X_texts_train, X_texts_test, y_train, y_test = train_test_split(X, y, test_size=0.2, random_state=42)\n",
    "# nan_mask = X_texts_train.notna().values\n",
    "# X_texts_train = X_texts_train[nan_mask]\n",
    "# y_train = y_train[nan_mask]\n",
    "# print(y_train.shape)\n",
    "X_texts_test = ['' if type(x) != str else x for x in X_texts_test]"
   ]
  },
  {
   "cell_type": "code",
   "execution_count": 95,
   "metadata": {},
   "outputs": [
    {
     "data": {
      "text/plain": [
       "(2096, 142181)"
      ]
     },
     "execution_count": 95,
     "metadata": {},
     "output_type": "execute_result"
    }
   ],
   "source": [
    "# tf-idf\n",
    "X_texts_test = ['' if type(x) != str else x for x in X_texts_test]\n",
    "vectorizer = TfidfVectorizer(max_features = None, ngram_range = (2,2), \n",
    "                             lowercase = True, token_pattern = r'[^\\s]+')\n",
    "vectorizer.fit(X_texts_train)   \n",
    "X_train = vectorizer.transform(X_texts_train)\n",
    "X_test = vectorizer.transform(X_texts_test)\n",
    "X_train.shape"
   ]
  },
  {
   "cell_type": "code",
   "execution_count": 96,
   "metadata": {},
   "outputs": [
    {
     "name": "stdout",
     "output_type": "stream",
     "text": [
      "linear regression + tfidf\n",
      "rmse: 0.297\n"
     ]
    }
   ],
   "source": [
    "print('linear regression + tfidf')\n",
    "reg = LinearRegression()\n",
    "rmse, y_pred = train_test_reg(reg,X_train,X_test,y_train,y_test)"
   ]
  },
  {
   "cell_type": "code",
   "execution_count": 31,
   "metadata": {},
   "outputs": [
    {
     "name": "stdout",
     "output_type": "stream",
     "text": [
      "rmse: 0.174\n"
     ]
    }
   ],
   "source": [
    "reg = MLPRegressor(random_state=0)\n",
    "rmse, y_pred = train_test_reg(reg,X_train,X_test,y_train,y_test)"
   ]
  },
  {
   "cell_type": "code",
   "execution_count": 136,
   "metadata": {},
   "outputs": [
    {
     "name": "stdout",
     "output_type": "stream",
     "text": [
      "mlp + tfidf\n",
      "0 \n",
      "hidden layers: (150,); alpha: 0.00238; learning rate: 0.03748; batch: 200\n",
      "1 \n",
      "hidden layers: (100, 150); alpha: 0.00003; learning rate: 0.00078; batch: 50\n",
      "2 \n",
      "hidden layers: (325,); alpha: 0.00003; learning rate: 0.02372; batch: 200\n",
      "3 \n",
      "hidden layers: (225, 50, 150); alpha: 0.00221; learning rate: 0.00103; batch: 50\n",
      "4 \n",
      "hidden layers: (100,); alpha: 0.00674; learning rate: 0.00026; batch: 50\n",
      "5 \n",
      "hidden layers: (100, 225, 50); alpha: 0.00007; learning rate: 0.02196; batch: 150\n",
      "6 \n",
      "hidden layers: (50,); alpha: 0.00000; learning rate: 0.06823; batch: 200\n",
      "7 \n",
      "hidden layers: (125, 200, 100); alpha: 0.00001; learning rate: 0.01625; batch: 50\n",
      "8 \n",
      "hidden layers: (25, 25, 125); alpha: 0.00030; learning rate: 0.00686; batch: 50\n",
      "9 \n",
      "hidden layers: (125, 250); alpha: 0.00006; learning rate: 0.00691; batch: 100\n",
      "\n",
      "--------------------\n",
      "BEST PARAMETERS (validation rmse = 0.150)\n",
      "hidden layers: (100,); alpha: 0.00674; learning rate: 0.00026; batch: 50\n",
      "--------------------\n",
      "rmse: 0.168\n"
     ]
    }
   ],
   "source": [
    "print('mlp + tfidf')\n",
    "hl,bs,al,lri = random_search_mlp(X_train,y_train,n_iter)\n",
    "reg = optimized_mlp(hl,bs,al,lri)\n",
    "rmse, y_pred = train_test_reg(reg,X_train,X_test,y_train,y_test)"
   ]
  },
  {
   "cell_type": "markdown",
   "metadata": {},
   "source": [
    "## Topic modeling (LDA)"
   ]
  },
  {
   "cell_type": "code",
   "execution_count": 34,
   "metadata": {},
   "outputs": [],
   "source": [
    "X = df_active_users['viral_messages']\n",
    "X_texts_train, X_texts_test, y_train, y_test = train_test_split(X, y, test_size=0.2, random_state=42)\n",
    "X_texts_train = ['' if type(x) != str else x for x in X_texts_train]\n",
    "X_texts_test = ['' if type(x) != str else x for x in X_texts_test]"
   ]
  },
  {
   "cell_type": "code",
   "execution_count": 35,
   "metadata": {},
   "outputs": [],
   "source": [
    "# topics\n",
    "from gensim.models import LdaModel\n",
    "from gensim.corpora.dictionary import Dictionary\n",
    "n_topics = 100\n",
    "\n",
    "def train_lda(corpus, n_topics = 100):\n",
    "    common_texts = [x.split() for x in corpus]\n",
    "    common_dictionary = Dictionary(common_texts)\n",
    "    common_corpus = [common_dictionary.doc2bow(text) for text in common_texts]\n",
    "    lda = LdaModel(common_corpus, num_topics=n_topics)\n",
    "    return lda, common_dictionary\n",
    "\n",
    "lda, common_dictionary = train_lda(X_texts_train, n_topics)"
   ]
  },
  {
   "cell_type": "code",
   "execution_count": 36,
   "metadata": {},
   "outputs": [],
   "source": [
    "# X_texts_test[0]\n",
    "# arr = tup2array(lda[X_test[0]])\n",
    "# arr\n",
    "#np.all(arr == arr[0])"
   ]
  },
  {
   "cell_type": "code",
   "execution_count": 37,
   "metadata": {},
   "outputs": [],
   "source": [
    "# vectorizing\n",
    "def tup2array(tuples,n_topics):\n",
    "    topics = np.zeros(n_topics)\n",
    "    for t, p in tuples:\n",
    "        topics[t] = p\n",
    "    return topics\n",
    "\n",
    "def vectorize_topics(X,lda):\n",
    "    X = [lda[x] for x in X]\n",
    "    X = [tup2array(v,lda.num_topics) for v in X]\n",
    "    return X\n",
    "\n",
    "def texts2topics(texts,lda):\n",
    "    X = [x.split() for x in texts]\n",
    "    X = [common_dictionary.doc2bow(text) for text in X]\n",
    "    X = vectorize_topics(X,lda)\n",
    "    return X\n",
    "    \n",
    "\n",
    "X_train = texts2topics(X_texts_train,lda)\n",
    "X_test = texts2topics(X_texts_test,lda)"
   ]
  },
  {
   "cell_type": "code",
   "execution_count": 38,
   "metadata": {},
   "outputs": [
    {
     "name": "stdout",
     "output_type": "stream",
     "text": [
      "linear regression + lda\n",
      "rmse: 0.222\n"
     ]
    }
   ],
   "source": [
    "print('linear regression + lda')\n",
    "reg = LinearRegression()\n",
    "reg.fit(X_train, y_train)\n",
    "rmse, y_pred = train_test_reg(reg,X_train,X_test,y_train,y_test)"
   ]
  },
  {
   "cell_type": "code",
   "execution_count": 40,
   "metadata": {},
   "outputs": [
    {
     "name": "stdout",
     "output_type": "stream",
     "text": [
      "mlp + lda\n",
      "rmse: 0.226\n"
     ]
    }
   ],
   "source": [
    "print('mlp + lda')\n",
    "# hl,bs,al,lri = random_search_mlp(X_train,y_train,n_iter)\n",
    "# reg = optimized_mlp(hl,bs,al,lri)\n",
    "# rmse, y_pred = train_test_reg(reg,X_train,X_test,y_train,y_test)\n",
    "reg = get_mlp()\n",
    "rmse, y_pred = train_test_reg(reg,X_train,X_test,y_train,y_test)"
   ]
  },
  {
   "cell_type": "markdown",
   "metadata": {},
   "source": [
    "# Combine user features and topics"
   ]
  },
  {
   "cell_type": "code",
   "execution_count": 41,
   "metadata": {},
   "outputs": [
    {
     "data": {
      "text/plain": [
       "(524, 100)"
      ]
     },
     "execution_count": 41,
     "metadata": {},
     "output_type": "execute_result"
    }
   ],
   "source": [
    "X_train_lda = np.vstack(X_train)\n",
    "X_test_lda = np.vstack(X_test)\n",
    "X_test_lda.shape"
   ]
  },
  {
   "cell_type": "code",
   "execution_count": 42,
   "metadata": {},
   "outputs": [
    {
     "data": {
      "text/plain": [
       "(2096, 107)"
      ]
     },
     "execution_count": 42,
     "metadata": {},
     "output_type": "execute_result"
    }
   ],
   "source": [
    "X = df_active_users[user_features]\n",
    "y = df_active_users['untrustworthiness']\n",
    "X_train, X_test, y_train, y_test = train_test_split(X, y, test_size=0.2, random_state=42)\n",
    "X_train,X_test=z_score(X_train,X_test)   \n",
    "X_train = np.concatenate((X_train, X_train_lda), axis=1)\n",
    "X_test = np.concatenate((X_test, X_test_lda), axis=1)\n",
    "X_train.shape"
   ]
  },
  {
   "cell_type": "code",
   "execution_count": 43,
   "metadata": {},
   "outputs": [
    {
     "name": "stdout",
     "output_type": "stream",
     "text": [
      "linear regression + user features + lda\n",
      "rmse: 0.217\n"
     ]
    }
   ],
   "source": [
    "print('linear regression + user features + lda')\n",
    "reg = LinearRegression()\n",
    "rmse, y_pred = train_test_reg(reg,X_train,X_test,y_train,y_test)"
   ]
  },
  {
   "cell_type": "code",
   "execution_count": 44,
   "metadata": {},
   "outputs": [
    {
     "name": "stdout",
     "output_type": "stream",
     "text": [
      "mlp + user features + lda\n",
      "rmse: 0.215\n"
     ]
    }
   ],
   "source": [
    "print('mlp + user features + lda')\n",
    "# hl,bs,al,lri = random_search_mlp(X_train,y_train,n_iter)\n",
    "# reg = optimized_mlp(hl,bs,al,lri)\n",
    "reg = get_mlp()\n",
    "rmse, y_pred = train_test_reg(reg,X_train,X_test,y_train,y_test)"
   ]
  },
  {
   "cell_type": "code",
   "execution_count": 69,
   "metadata": {},
   "outputs": [],
   "source": [
    "# compare prediction with target\n",
    "# compare_prediction(y_test,y_pred)"
   ]
  },
  {
   "cell_type": "markdown",
   "metadata": {},
   "source": [
    "# Combine user features and TF-IDF"
   ]
  },
  {
   "cell_type": "code",
   "execution_count": 51,
   "metadata": {},
   "outputs": [
    {
     "data": {
      "text/plain": [
       "(2096, 5007)"
      ]
     },
     "execution_count": 51,
     "metadata": {},
     "output_type": "execute_result"
    }
   ],
   "source": [
    "X = df_active_users[user_features+['viral_messages']]\n",
    "y = df_active_users['untrustworthiness']\n",
    "X_train, X_test, y_train, y_test = train_test_split(X, y, test_size=0.2, random_state=42)\n",
    "\n",
    "X_train_texts = X_train['viral_messages']\n",
    "X_test_texts = X_test['viral_messages']\n",
    "\n",
    "X_train = X_train[user_features].to_numpy()\n",
    "X_test = X_test[user_features].to_numpy()\n",
    "X_train, X_test = z_score(X_train,X_test)\n",
    "\n",
    "vectorizer = TfidfVectorizer(max_features = 5000, ngram_range = (2,2), lowercase = True, token_pattern = r'[^\\s]+')\n",
    "vectorizer.fit(X_train_texts)   \n",
    "X_train_tfidf = vectorizer.transform(X_train_texts).todense()\n",
    "X_test_tfidf = vectorizer.transform(X_test_texts).todense()\n",
    "\n",
    "X_train = np.concatenate((X_train, X_train_tfidf), axis=1)\n",
    "X_test = np.concatenate((X_test, X_test_tfidf), axis=1)\n",
    "X_train.shape\n"
   ]
  },
  {
   "cell_type": "code",
   "execution_count": 52,
   "metadata": {},
   "outputs": [
    {
     "name": "stdout",
     "output_type": "stream",
     "text": [
      "linear regression + user features + tfidf\n",
      "rmse: 0.490\n"
     ]
    }
   ],
   "source": [
    "print('linear regression + user features + tfidf')\n",
    "reg = LinearRegression()\n",
    "rmse, y_pred = train_test_reg(reg,X_train,X_test,y_train,y_test)"
   ]
  },
  {
   "cell_type": "code",
   "execution_count": 53,
   "metadata": {},
   "outputs": [
    {
     "name": "stdout",
     "output_type": "stream",
     "text": [
      "mlp + user features + tfidf\n",
      "rmse: 0.174\n"
     ]
    }
   ],
   "source": [
    "print('mlp + user features + tfidf')\n",
    "# hl,bs,al,lri = random_search_mlp(X_train,y_train,n_iter)\n",
    "# reg = optimized_mlp(hl,bs,al,lri)\n",
    "reg = get_mlp()\n",
    "rmse, y_pred = train_test_reg(reg,X_train,X_test,y_train,y_test)"
   ]
  },
  {
   "cell_type": "markdown",
   "metadata": {},
   "source": [
    "# Classify fake news by users credibility\n",
    "## Medium score\n",
    "* Consider the mean credibility of users that posted a message\n",
    "* Remove duplicates"
   ]
  },
  {
   "cell_type": "code",
   "execution_count": 27,
   "metadata": {},
   "outputs": [],
   "source": [
    "def print_class_balance(y):\n",
    "    pos_mask = y == 1 \n",
    "    pos = y[pos_mask]\n",
    "    neg_mask = y == 0 \n",
    "    neg = y[neg_mask]\n",
    "    values = [pos.shape[0],neg.shape[0]]\n",
    "    keys = ['misinformation', 'non-misinformation']\n",
    "    g = sns.barplot(x = keys, y = values)\n",
    "    for p in g.patches:\n",
    "        g.annotate(format(p.get_height(), '.0f'), (p.get_x() + p.get_width() / 2., \n",
    "                                                   p.get_height()), ha = 'center', \n",
    "                   va = 'center', xytext = (0, 5), textcoords = 'offset points')"
   ]
  },
  {
   "cell_type": "code",
   "execution_count": 104,
   "metadata": {},
   "outputs": [
    {
     "name": "stderr",
     "output_type": "stream",
     "text": [
      "/home/cabral/anaconda3/lib/python3.7/site-packages/IPython/core/interactiveshell.py:3049: DtypeWarning: Columns (3,6) have mixed types.Specify dtype option on import or set low_memory=False.\n",
      "  interactivity=interactivity, compiler=compiler, result=result)\n"
     ]
    }
   ],
   "source": [
    "# load and select message data\n",
    "\n",
    "# messages\n",
    "df = pd.read_csv('data/2018/fakeWhatsApp.BR_2018.csv')\n",
    "df_texts = pd.read_csv('data/2018/high_quality_labels/fakeWhatsApp.BR_2018_preprocessed_texts.csv')\n",
    "df = pd.concat([df, df_texts], axis=1)\n",
    "df.drop(columns=['Unnamed: 0'],inplace=True)\n",
    "\n",
    "# sorting by time\n",
    "def custom_time(data,hora):\n",
    "    string = data + \" \" + hora\n",
    "    return string\n",
    "\n",
    "df['timestamp'] = df.apply(lambda x: custom_time(x['date'],x['hour']),axis=1)\n",
    "df['timestamp'] = pd.to_datetime(df['timestamp'], format='%d/%m/%y %H:%M')\n",
    "df.sort_values(by='timestamp',inplace=True)\n",
    "\n",
    "#removing duplicates and selecting only labelled data\n",
    "#df = df.drop_duplicates(subset=['text'])\n",
    "df = df[df['midia']==0]\n",
    "df['viral'] = [1 if mis==1 else vir for mis,vir in zip(df['misinformation'],df['viral'])]\n",
    "df = df[df['viral']==1]\n",
    "\n",
    "df.reset_index(drop=True,inplace=True)"
   ]
  },
  {
   "cell_type": "code",
   "execution_count": 105,
   "metadata": {},
   "outputs": [],
   "source": [
    "import math"
   ]
  },
  {
   "cell_type": "code",
   "execution_count": 106,
   "metadata": {},
   "outputs": [],
   "source": [
    "df_unique = df.drop_duplicates(subset='text')\n",
    "texts = list(df_unique['preprocessed_text_lemma'])\n",
    "y = df_unique['misinformation']\n",
    "#X_train, X_test, y_train, y_test = train_test_split(X, y, stratify = y, test_size=0.2, random_state=42)\n",
    "\n",
    "cut = math.floor(len(y)*0.8)\n",
    "X_train_texts = texts[0:cut]\n",
    "y_train= y[0:cut]\n",
    "X_test_texts = texts[cut:]\n",
    "y_test = y[cut:]"
   ]
  },
  {
   "cell_type": "code",
   "execution_count": 107,
   "metadata": {},
   "outputs": [
    {
     "data": {
      "image/png": "[encoded data removed]",
      "text/plain": [
       "<Figure size 432x288 with 1 Axes>"
      ]
     },
     "metadata": {},
     "output_type": "display_data"
    }
   ],
   "source": [
    "print_class_balance(y)"
   ]
  },
  {
   "cell_type": "code",
   "execution_count": 109,
   "metadata": {},
   "outputs": [
    {
     "data": {
      "image/png": "[encoded data removed]",
      "text/plain": [
       "<Figure size 432x288 with 1 Axes>"
      ]
     },
     "metadata": {},
     "output_type": "display_data"
    }
   ],
   "source": [
    "print_class_balance(y_test)"
   ]
  },
  {
   "cell_type": "code",
   "execution_count": 110,
   "metadata": {},
   "outputs": [
    {
     "name": "stdout",
     "output_type": "stream",
     "text": [
      "0.516048222952873\n"
     ]
    }
   ],
   "source": [
    "print(y.sum()/len(y))"
   ]
  },
  {
   "cell_type": "code",
   "execution_count": 111,
   "metadata": {},
   "outputs": [],
   "source": [
    "# collect only train text data\n",
    "user_train_texts = []\n",
    "users = df_active_users['id']\n",
    "for user in users:\n",
    "    texts = df[df['id']==user]['preprocessed_text_lemma']\n",
    "    train_texts = [t for t in texts if t in X_train_texts]\n",
    "    train_texts = ['' if type(t)!=str else t for t in train_texts]\n",
    "    train_texts = ' '.join(train_texts)\n",
    "    user_train_texts.append(train_texts)\n",
    "\n",
    "X_users = user_train_texts\n",
    "y_users = df_active_users['untrustworthiness']"
   ]
  },
  {
   "cell_type": "code",
   "execution_count": 112,
   "metadata": {},
   "outputs": [],
   "source": [
    "vectorizer = TfidfVectorizer(max_features = None, ngram_range = (2,2), lowercase = True, token_pattern = r'[^\\s]+')\n",
    "X_tfidf = vectorizer.fit_transform(X_users)"
   ]
  },
  {
   "cell_type": "code",
   "execution_count": 113,
   "metadata": {
    "scrolled": true
   },
   "outputs": [
    {
     "name": "stdout",
     "output_type": "stream",
     "text": [
      "Iteration 1, loss = 0.05740670\n",
      "Validation score: 0.146329\n",
      "Iteration 2, loss = 0.02203162\n",
      "Validation score: 0.362284\n",
      "Iteration 3, loss = 0.01488949\n",
      "Validation score: 0.432040\n",
      "Iteration 4, loss = 0.01190959\n",
      "Validation score: 0.468300\n",
      "Iteration 5, loss = 0.01058857\n",
      "Validation score: 0.483583\n",
      "Iteration 6, loss = 0.00984107\n",
      "Validation score: 0.496666\n",
      "Iteration 7, loss = 0.00909389\n",
      "Validation score: 0.496751\n",
      "Iteration 8, loss = 0.00865959\n",
      "Validation score: 0.503744\n",
      "Iteration 9, loss = 0.00838138\n",
      "Validation score: 0.505132\n",
      "Iteration 10, loss = 0.00826325\n",
      "Validation score: 0.492067\n"
     ]
    },
    {
     "name": "stderr",
     "output_type": "stream",
     "text": [
      "/home/cabral/anaconda3/lib/python3.7/site-packages/sklearn/neural_network/_multilayer_perceptron.py:585: ConvergenceWarning: Stochastic Optimizer: Maximum iterations (10) reached and the optimization hasn't converged yet.\n",
      "  % self.max_iter, ConvergenceWarning)\n"
     ]
    },
    {
     "data": {
      "text/plain": [
       "MLPRegressor(alpha=0.0067, batch_size=50, early_stopping=True,\n",
       "             learning_rate_init=0.00026, max_iter=10, n_iter_no_change=3,\n",
       "             random_state=42, verbose=True)"
      ]
     },
     "execution_count": 113,
     "metadata": {},
     "output_type": "execute_result"
    }
   ],
   "source": [
    "reg = MLPRegressor(activation = 'relu', solver = 'adam',random_state = 42, \n",
    "                   tol = 1e-4, verbose = True, early_stopping = True, \n",
    "                   n_iter_no_change = 3, max_iter = 10,\n",
    "                   hidden_layer_sizes = (100,), alpha = 0.0067, \n",
    "                   learning_rate_init = .00026, batch_size = 50)\n",
    "reg.fit(X_tfidf,y_users)"
   ]
  },
  {
   "cell_type": "code",
   "execution_count": 114,
   "metadata": {},
   "outputs": [
    {
     "name": "stdout",
     "output_type": "stream",
     "text": [
      "0.10796637565702971\n"
     ]
    }
   ],
   "source": [
    "y_pred = reg.predict(X_tfidf)\n",
    "y_pred = np.clip(y_pred,0,1)    \n",
    "rmse = mean_squared_error(y_users, y_pred, squared=False)\n",
    "print(rmse)"
   ]
  },
  {
   "cell_type": "code",
   "execution_count": 115,
   "metadata": {},
   "outputs": [],
   "source": [
    "# get mean credibility of users that sent the news\n",
    "user_dict = dict(zip(df_active_users['id'], y_pred))\n",
    "message_score = []\n",
    "for m in X_test_texts:\n",
    "    df_msg = df[df['preprocessed_text_lemma']==m]\n",
    "    users = df_msg['id']\n",
    "    scores = []\n",
    "    for u in users:\n",
    "        scores.append(user_dict.get(u, 0.5))\n",
    "    user_score = pd.Series(index=users,data = scores)\n",
    "    message_score.append(user_score.mean())"
   ]
  },
  {
   "cell_type": "code",
   "execution_count": 116,
   "metadata": {},
   "outputs": [],
   "source": [
    "from sklearn.metrics import accuracy_score\n",
    "def optimal_threshold(prob,y):\n",
    "    best_thresold = 0\n",
    "    best_score = 0\n",
    "    \n",
    "    for i in range(100):\n",
    "        threshold = i/100\n",
    "        y_pred = [1 if p >= threshold else 0 for p in prob]\n",
    "        score = accuracy_score(y,y_pred)\n",
    "        \n",
    "        if score > best_score:\n",
    "            #print(score)\n",
    "            best_thresold = threshold\n",
    "            best_score = score\n",
    "            \n",
    "    return best_thresold, best_score"
   ]
  },
  {
   "cell_type": "code",
   "execution_count": 117,
   "metadata": {},
   "outputs": [],
   "source": [
    "mis = ['misinformation' if m == 1 else 'non-misinformation' for m in y_test]\n",
    "df_print = pd.DataFrame({'class':mis,'score':message_score})"
   ]
  },
  {
   "cell_type": "code",
   "execution_count": 120,
   "metadata": {},
   "outputs": [
    {
     "name": "stdout",
     "output_type": "stream",
     "text": [
      "0.45\n"
     ]
    },
    {
     "data": {
      "text/plain": [
       "[<matplotlib.lines.Line2D at 0x7f6df67fc1d0>]"
      ]
     },
     "execution_count": 120,
     "metadata": {},
     "output_type": "execute_result"
    },
    {
     "data": {
      "image/png": "[encoded data removed]",
      "text/plain": [
       "<Figure size 1080x720 with 1 Axes>"
      ]
     },
     "metadata": {},
     "output_type": "display_data"
    }
   ],
   "source": [
    "thr, acc = optimal_threshold(message_score,y_test)    \n",
    "print(thr)\n",
    "\n",
    "threshold = thr\n",
    "plt.figure(figsize=(15,10))\n",
    "plt.title('Mean score by message')\n",
    "sns.stripplot(x='class' ,y='score', size=2, data = df_print)\n",
    "plt.plot([-.5,1.5], [threshold, threshold], linewidth=1, color = 'red')"
   ]
  },
  {
   "cell_type": "code",
   "execution_count": 122,
   "metadata": {},
   "outputs": [
    {
     "name": "stdout",
     "output_type": "stream",
     "text": [
      "              precision    recall  f1-score   support\n",
      "\n",
      "           0       0.67      0.48      0.56       547\n",
      "           1       0.68      0.83      0.75       731\n",
      "\n",
      "    accuracy                           0.68      1278\n",
      "   macro avg       0.68      0.65      0.65      1278\n",
      "weighted avg       0.68      0.68      0.67      1278\n",
      "\n",
      "AUC:  0.6996526258137284\n"
     ]
    },
    {
     "data": {
      "image/png": "[encoded data removed]",
      "text/plain": [
       "<Figure size 1080x360 with 3 Axes>"
      ]
     },
     "metadata": {},
     "output_type": "display_data"
    },
    {
     "data": {
      "text/plain": [
       "(0.6768388106416275,\n",
       " 0.6786516853932584,\n",
       " 0.5582887700534759,\n",
       " 0.826265389876881,\n",
       " 0.5582887700534759,\n",
       " 0.7452190006169032,\n",
       " 0.5582887700534759,\n",
       " 0.6996526258137284)"
      ]
     },
     "execution_count": 122,
     "metadata": {},
     "output_type": "execute_result"
    }
   ],
   "source": [
    "y_pred_mis = [1 if x >= threshold else 0 for x in message_score]\n",
    "get_test_metrics(y_test, y_pred_mis, message_score, full_metrics = True)"
   ]
  },
  {
   "cell_type": "markdown",
   "metadata": {},
   "source": [
    "# Combine with text predictor"
   ]
  },
  {
   "cell_type": "code",
   "execution_count": 123,
   "metadata": {},
   "outputs": [
    {
     "data": {
      "text/plain": [
       "(5109, 316272)"
      ]
     },
     "execution_count": 123,
     "metadata": {},
     "output_type": "execute_result"
    }
   ],
   "source": [
    "vectorizer = CountVectorizer(max_features = None, ngram_range = (1,3), #(1,3) \n",
    "                             lowercase = False, token_pattern = r'[^\\s]+',binary=True) #CountVectorizer #TfidfVectorizer\n",
    "vectorizer.fit(X_train_texts)   \n",
    "X_train_bow = vectorizer.transform(X_train_texts)\n",
    "X_test_bow = vectorizer.transform(X_test_texts)\n",
    "X_train_bow.shape"
   ]
  },
  {
   "cell_type": "code",
   "execution_count": 124,
   "metadata": {},
   "outputs": [
    {
     "name": "stdout",
     "output_type": "stream",
     "text": [
      "logistic regression + tf-idf\n"
     ]
    }
   ],
   "source": [
    "print('logistic regression + tf-idf')\n",
    "clf = LogisticRegression()\n",
    "clf.fit(X_train_bow, y_train)\n",
    "y_prob = clf.predict_proba(X_test_bow)[:,1]"
   ]
  },
  {
   "cell_type": "code",
   "execution_count": 125,
   "metadata": {},
   "outputs": [],
   "source": [
    "user_score = np.array(message_score)"
   ]
  },
  {
   "cell_type": "code",
   "execution_count": 126,
   "metadata": {},
   "outputs": [],
   "source": [
    "y_mix_prob = (y_prob+user_score)/2"
   ]
  },
  {
   "cell_type": "code",
   "execution_count": 127,
   "metadata": {},
   "outputs": [
    {
     "name": "stdout",
     "output_type": "stream",
     "text": [
      "0.47\n",
      "              precision    recall  f1-score   support\n",
      "\n",
      "           0       0.72      0.82      0.77       547\n",
      "           1       0.85      0.76      0.80       731\n",
      "\n",
      "    accuracy                           0.79      1278\n",
      "   macro avg       0.78      0.79      0.78      1278\n",
      "weighted avg       0.79      0.79      0.79      1278\n",
      "\n",
      "AUC:  0.859192161197628\n"
     ]
    },
    {
     "data": {
      "image/png": "[encoded data removed]",
      "text/plain": [
       "<Figure size 1080x360 with 3 Axes>"
      ]
     },
     "metadata": {},
     "output_type": "display_data"
    },
    {
     "data": {
      "text/plain": [
       "(0.7863849765258216,\n",
       " 0.8490853658536586,\n",
       " 0.7664670658682636,\n",
       " 0.761969904240766,\n",
       " 0.7664670658682636,\n",
       " 0.8031723143475127,\n",
       " 0.7664670658682636,\n",
       " 0.859192161197628)"
      ]
     },
     "execution_count": 127,
     "metadata": {},
     "output_type": "execute_result"
    }
   ],
   "source": [
    "# threshold moving\n",
    "thr, acc = optimal_threshold(y_mix_prob,y_test)    \n",
    "print(thr)\n",
    "y_pred = [1 if p >= thr else 0 for p in y_mix_prob]\n",
    "get_test_metrics(y_test, y_pred, y_mix_prob, full_metrics = True)"
   ]
  },
  {
   "cell_type": "code",
   "execution_count": 130,
   "metadata": {},
   "outputs": [
    {
     "data": {
      "text/plain": [
       "[<matplotlib.lines.Line2D at 0x7f6df12db198>]"
      ]
     },
     "execution_count": 130,
     "metadata": {},
     "output_type": "execute_result"
    },
    {
     "data": {
      "image/png": "[encoded data removed]",
      "text/plain": [
       "<Figure size 360x360 with 1 Axes>"
      ]
     },
     "metadata": {},
     "output_type": "display_data"
    }
   ],
   "source": [
    "df_print = pd.DataFrame({'class':mis,'score':y_mix_prob})\n",
    "threshold = thr\n",
    "plt.figure(figsize=(5,5))\n",
    "plt.title('Mean score by message')\n",
    "sns.stripplot(x='class' ,y='score', size=2, data = df_print)\n",
    "plt.plot([-.5,1.5], [threshold, threshold], linewidth=1, color = 'red')"
   ]
  },
  {
   "cell_type": "code",
   "execution_count": 128,
   "metadata": {},
   "outputs": [
    {
     "data": {
      "text/plain": [
       "<matplotlib.axes._subplots.AxesSubplot at 0x7f6de0ccc470>"
      ]
     },
     "execution_count": 128,
     "metadata": {},
     "output_type": "execute_result"
    },
    {
     "data": {
      "image/png": "[encoded data removed]",
      "text/plain": [
       "<Figure size 432x288 with 1 Axes>"
      ]
     },
     "metadata": {},
     "output_type": "display_data"
    }
   ],
   "source": [
    "df_print_scores = pd.DataFrame({'text_prob':y_prob,'user_prob':user_score,'misinformation':mis})\n",
    "sns.scatterplot(data=df_print_scores,x = 'text_prob', y = 'user_prob', hue = 'misinformation')"
   ]
  },
  {
   "cell_type": "code",
   "execution_count": null,
   "metadata": {},
   "outputs": [],
   "source": []
  },
  {
   "cell_type": "markdown",
   "metadata": {},
   "source": [
    "# Using data of only one user for each message"
   ]
  },
  {
   "cell_type": "code",
   "execution_count": 98,
   "metadata": {},
   "outputs": [
    {
     "name": "stdout",
     "output_type": "stream",
     "text": [
      "total\n"
     ]
    },
    {
     "data": {
      "image/png": "[encoded data removed]",
      "text/plain": [
       "<Figure size 432x288 with 1 Axes>"
      ]
     },
     "metadata": {},
     "output_type": "display_data"
    }
   ],
   "source": [
    "\n",
    "X = df[['id','preprocessed_text_lemma']]\n",
    "y = df['misinformation']\n",
    "\n",
    "cut = math.floor(len(y)*0.8)\n",
    "X_train = X[0:cut]\n",
    "y_train = y[0:cut]\n",
    "X_test = X[cut:]\n",
    "y_test = y[cut:]\n",
    "\n",
    "X_train_ids = list(X_train['id'])\n",
    "X_test_ids = list(X_test['id'])\n",
    "X_train = list(X_train['preprocessed_text_lemma'])\n",
    "X_test = list(X_test['preprocessed_text_lemma'])\n",
    "\n",
    "print('total')\n",
    "print_class_balance(y)"
   ]
  },
  {
   "cell_type": "code",
   "execution_count": 99,
   "metadata": {},
   "outputs": [
    {
     "name": "stdout",
     "output_type": "stream",
     "text": [
      "test\n"
     ]
    },
    {
     "data": {
      "image/png": "[encoded data removed]",
      "text/plain": [
       "<Figure size 432x288 with 1 Axes>"
      ]
     },
     "metadata": {},
     "output_type": "display_data"
    }
   ],
   "source": [
    "print('test')\n",
    "print_class_balance(y_test)"
   ]
  },
  {
   "cell_type": "code",
   "execution_count": 100,
   "metadata": {},
   "outputs": [],
   "source": [
    "# collect only train text data\n",
    "user_train_texts = []\n",
    "users = df_active_users['id']\n",
    "\n",
    "for user in users:\n",
    "    texts = df[df['id']==user]['preprocessed_text_lemma']\n",
    "    train_texts = [t for t in texts if t in list(X_train)]\n",
    "    train_texts = ['' if type(t)!=str else t for t in train_texts]\n",
    "    train_texts = ' '.join(train_texts)\n",
    "    user_train_texts.append(train_texts)\n",
    "\n",
    "X_users = user_train_texts\n",
    "y_users = df_active_users['untrustworthiness']"
   ]
  },
  {
   "cell_type": "code",
   "execution_count": 101,
   "metadata": {},
   "outputs": [],
   "source": [
    "vectorizer = TfidfVectorizer(max_features = None, ngram_range = (2,2), lowercase = True, token_pattern = r'[^\\s]+')\n",
    "X_tfidf = vectorizer.fit_transform(X_users)"
   ]
  },
  {
   "cell_type": "code",
   "execution_count": 102,
   "metadata": {
    "scrolled": true
   },
   "outputs": [
    {
     "name": "stdout",
     "output_type": "stream",
     "text": [
      "Iteration 1, loss = 0.06482070\n",
      "Validation score: -0.088476\n",
      "Iteration 2, loss = 0.02498712\n",
      "Validation score: 0.212299\n",
      "Iteration 3, loss = 0.01644393\n",
      "Validation score: 0.351004\n",
      "Iteration 4, loss = 0.01283946\n",
      "Validation score: 0.411639\n",
      "Iteration 5, loss = 0.01092822\n",
      "Validation score: 0.443854\n",
      "Iteration 6, loss = 0.00986162\n",
      "Validation score: 0.454868\n",
      "Iteration 7, loss = 0.00910136\n",
      "Validation score: 0.470660\n",
      "Iteration 8, loss = 0.00853767\n",
      "Validation score: 0.465063\n",
      "Iteration 9, loss = 0.00825652\n",
      "Validation score: 0.487706\n",
      "Iteration 10, loss = 0.00798776\n",
      "Validation score: 0.473594\n"
     ]
    },
    {
     "name": "stderr",
     "output_type": "stream",
     "text": [
      "/home/cabral/anaconda3/lib/python3.7/site-packages/sklearn/neural_network/_multilayer_perceptron.py:585: ConvergenceWarning: Stochastic Optimizer: Maximum iterations (10) reached and the optimization hasn't converged yet.\n",
      "  % self.max_iter, ConvergenceWarning)\n"
     ]
    },
    {
     "data": {
      "text/plain": [
       "MLPRegressor(alpha=0.0067, batch_size=50, early_stopping=True,\n",
       "             learning_rate_init=0.00026, max_iter=10, n_iter_no_change=3,\n",
       "             random_state=42, verbose=True)"
      ]
     },
     "execution_count": 102,
     "metadata": {},
     "output_type": "execute_result"
    }
   ],
   "source": [
    "reg = MLPRegressor(activation = 'relu', solver = 'adam',random_state = 42, \n",
    "                   tol = 1e-4, verbose = True, early_stopping = True, \n",
    "                   n_iter_no_change = 3, max_iter = 10,\n",
    "                   hidden_layer_sizes = (100,), alpha = 0.0067, \n",
    "                   learning_rate_init = .00026, batch_size = 50)\n",
    "reg.fit(X_tfidf,y_users)"
   ]
  },
  {
   "cell_type": "code",
   "execution_count": 103,
   "metadata": {},
   "outputs": [
    {
     "name": "stdout",
     "output_type": "stream",
     "text": [
      "0.10425038163137662\n"
     ]
    }
   ],
   "source": [
    "y_pred = reg.predict(X_tfidf)\n",
    "y_pred = np.clip(y_pred,0,1)    \n",
    "rmse = mean_squared_error(y_users, y_pred, squared=False)\n",
    "print(rmse)"
   ]
  },
  {
   "cell_type": "code",
   "execution_count": 104,
   "metadata": {},
   "outputs": [],
   "source": [
    "# probability of a user post a message. viral messages posted by user / total viral messages\n",
    "# total_viral = len(y_train)\n",
    "# priori = y_train.sum()/total_viral\n",
    "# ## IS THAT CORRECT?!\n",
    "# p_u = 1/df_active_users['virals']\n",
    "# # P(U) = probability of user post that message = n of times he posted the message/total viral messages he posted\n",
    "\n",
    "# # p(u|f), p(u)\n",
    "# user_dict = dict(zip(df_active_users['id'], zip(y_pred,p_u)))\n",
    "\n",
    "# #don't calculate the marginal. choose the higher between neg and pos\n",
    "# posteriori_pos = []\n",
    "# posteriori_neg = []\n",
    "# for u,m in zip(X_test_ids,X_test):\n",
    "#     likelihood, marginal = user_dict.get(u, (1,1))\n",
    "#     n_times_user_posted_message = len(df_viral[(df_viral['id']==u) & (df_viral['preprocessed_text_lemma']==m)])\n",
    "#     posteriori_pos.append(likelihood*priori)\n",
    "#     posteriori_neg.append((1-likelihood)*(1-priori))\n",
    "# message_score = posteriori_pos\n",
    "\n",
    "# use the marginal (is the marginal wrong?)\n",
    "# posteriori=[]\n",
    "# for u,m in zip(X_test_ids,X_test):\n",
    "#     likelihood, marginal = user_dict.get(u, (1,1))\n",
    "#     n_times_user_posted_message = len(df_viral[(df_viral['id']==u) & (df_viral['preprocessed_text_lemma']==m)])\n",
    "#     marginal = marginal*n_times_user_posted_message    \n",
    "#     posteriori.append(likelihood*priori/marginal)\n",
    "#     #print(posteriori[-1],likelihood,marginal)\n",
    "# message_score = np.clip(posteriori,0,1) \n",
    "\n",
    "\n",
    "# use only credibility of user that sent the message\n",
    "user_dict = dict(zip(df_active_users['id'], y_pred))\n",
    "message_score = []\n",
    "for u in list(X_test_ids):\n",
    "    user_score = user_dict.get(u, 0.5)\n",
    "    message_score.append(user_score)"
   ]
  },
  {
   "cell_type": "code",
   "execution_count": 105,
   "metadata": {},
   "outputs": [],
   "source": [
    "mis = ['misinformation' if m == 1 else 'non-misinformation' for m in y_test]\n",
    "df_print = pd.DataFrame({'class':mis,'score':message_score})"
   ]
  },
  {
   "cell_type": "code",
   "execution_count": 106,
   "metadata": {},
   "outputs": [
    {
     "name": "stdout",
     "output_type": "stream",
     "text": [
      "              precision    recall  f1-score   support\n",
      "\n",
      "           0       0.61      0.57      0.59      1880\n",
      "           1       0.69      0.73      0.71      2523\n",
      "\n",
      "    accuracy                           0.66      4403\n",
      "   macro avg       0.65      0.65      0.65      4403\n",
      "weighted avg       0.66      0.66      0.66      4403\n",
      "\n",
      "AUC:  0.6961439859673978\n"
     ]
    },
    {
     "data": {
      "image/png": "[encoded data removed]",
      "text/plain": [
       "<Figure size 1080x720 with 1 Axes>"
      ]
     },
     "metadata": {},
     "output_type": "display_data"
    },
    {
     "data": {
      "image/png": "[encoded data removed]",
      "text/plain": [
       "<Figure size 1080x360 with 3 Axes>"
      ]
     },
     "metadata": {},
     "output_type": "display_data"
    },
    {
     "data": {
      "text/plain": [
       "(0.6629570747217806,\n",
       " 0.6949343339587242,\n",
       " 0.589828634604754,\n",
       " 0.734046769718589,\n",
       " 0.589828634604754,\n",
       " 0.7139552814186583,\n",
       " 0.589828634604754,\n",
       " 0.6961439859673978)"
      ]
     },
     "execution_count": 106,
     "metadata": {},
     "output_type": "execute_result"
    }
   ],
   "source": [
    "threshold = 0.5\n",
    "plt.figure(figsize=(15,10))\n",
    "plt.title('Mean score by message')\n",
    "sns.stripplot(x='class' ,y='score', size=2, data = df_print)\n",
    "plt.plot([-.5,1.5], [threshold, threshold], linewidth=1, color = 'red')\n",
    "\n",
    "#y_pred_mis = [1 if pos >= neg else 0 for pos,neg in zip(posteriori_pos,posteriori_neg)]\n",
    "y_pred_mis = [1 if x >= threshold else 0 for x in message_score]\n",
    "\n",
    "get_test_metrics(y_test, y_pred_mis, message_score, full_metrics = True)"
   ]
  },
  {
   "cell_type": "markdown",
   "metadata": {},
   "source": [
    "# Identifying superspreaders\n",
    "Users that shared a lot of fake news"
   ]
  },
  {
   "cell_type": "code",
   "execution_count": 109,
   "metadata": {},
   "outputs": [
    {
     "data": {
      "text/html": [
       "<div>\n",
       "<style scoped>\n",
       "    .dataframe tbody tr th:only-of-type {\n",
       "        vertical-align: middle;\n",
       "    }\n",
       "\n",
       "    .dataframe tbody tr th {\n",
       "        vertical-align: top;\n",
       "    }\n",
       "\n",
       "    .dataframe thead th {\n",
       "        text-align: right;\n",
       "    }\n",
       "</style>\n",
       "<table border=\"1\" class=\"dataframe\">\n",
       "  <thead>\n",
       "    <tr style=\"text-align: right;\">\n",
       "      <th></th>\n",
       "      <th>id</th>\n",
       "      <th>groups</th>\n",
       "      <th>number_of_messages</th>\n",
       "      <th>texts</th>\n",
       "      <th>text_ratio</th>\n",
       "      <th>midia</th>\n",
       "      <th>midia_ratio</th>\n",
       "      <th>virals</th>\n",
       "      <th>viral_ratio</th>\n",
       "      <th>degree_centrality</th>\n",
       "      <th>strenght</th>\n",
       "      <th>viral_degree_centrality</th>\n",
       "      <th>viral_strenght</th>\n",
       "      <th>misinformation</th>\n",
       "      <th>misinformation_degree_centrality</th>\n",
       "      <th>misinformation_strenght</th>\n",
       "      <th>misinformation_ratio</th>\n",
       "      <th>viral_misinformation_ratio</th>\n",
       "      <th>viral_messages</th>\n",
       "      <th>untrustworthiness</th>\n",
       "    </tr>\n",
       "  </thead>\n",
       "  <tbody>\n",
       "    <tr>\n",
       "      <th>0</th>\n",
       "      <td>-3818310068976662355</td>\n",
       "      <td>1</td>\n",
       "      <td>4396</td>\n",
       "      <td>3742</td>\n",
       "      <td>0.851228</td>\n",
       "      <td>654</td>\n",
       "      <td>0.148772</td>\n",
       "      <td>24</td>\n",
       "      <td>0.005460</td>\n",
       "      <td>152</td>\n",
       "      <td>668192</td>\n",
       "      <td>89</td>\n",
       "      <td>2136</td>\n",
       "      <td>11</td>\n",
       "      <td>71</td>\n",
       "      <td>781.0</td>\n",
       "      <td>0.002502</td>\n",
       "      <td>0.458333</td>\n",
       "      <td>- casar poder ajudar , colocar adesivo carro /...</td>\n",
       "      <td>0.440000</td>\n",
       "    </tr>\n",
       "    <tr>\n",
       "      <th>1</th>\n",
       "      <td>5782050016593913959</td>\n",
       "      <td>11</td>\n",
       "      <td>2332</td>\n",
       "      <td>972</td>\n",
       "      <td>0.416810</td>\n",
       "      <td>1360</td>\n",
       "      <td>0.583190</td>\n",
       "      <td>226</td>\n",
       "      <td>0.096913</td>\n",
       "      <td>1640</td>\n",
       "      <td>498105</td>\n",
       "      <td>889</td>\n",
       "      <td>24683</td>\n",
       "      <td>77</td>\n",
       "      <td>714</td>\n",
       "      <td>6752.0</td>\n",
       "      <td>0.033019</td>\n",
       "      <td>0.340708</td>\n",
       "      <td>apo tres escola militar irar final soletrar , ...</td>\n",
       "      <td>0.339207</td>\n",
       "    </tr>\n",
       "    <tr>\n",
       "      <th>2</th>\n",
       "      <td>-2072140886659020977</td>\n",
       "      <td>3</td>\n",
       "      <td>2064</td>\n",
       "      <td>948</td>\n",
       "      <td>0.459302</td>\n",
       "      <td>1116</td>\n",
       "      <td>0.540698</td>\n",
       "      <td>232</td>\n",
       "      <td>0.112403</td>\n",
       "      <td>525</td>\n",
       "      <td>389426</td>\n",
       "      <td>294</td>\n",
       "      <td>23399</td>\n",
       "      <td>85</td>\n",
       "      <td>243</td>\n",
       "      <td>6828.0</td>\n",
       "      <td>0.041182</td>\n",
       "      <td>0.366379</td>\n",
       "      <td>kkk urna sao fraudar kkk desculpar ha ja dar n...</td>\n",
       "      <td>0.364807</td>\n",
       "    </tr>\n",
       "  </tbody>\n",
       "</table>\n",
       "</div>"
      ],
      "text/plain": [
       "                    id  groups  number_of_messages  texts  text_ratio  midia  \\\n",
       "0 -3818310068976662355       1                4396   3742    0.851228    654   \n",
       "1  5782050016593913959      11                2332    972    0.416810   1360   \n",
       "2 -2072140886659020977       3                2064    948    0.459302   1116   \n",
       "\n",
       "   midia_ratio  virals  viral_ratio  degree_centrality  strenght  \\\n",
       "0     0.148772      24     0.005460                152    668192   \n",
       "1     0.583190     226     0.096913               1640    498105   \n",
       "2     0.540698     232     0.112403                525    389426   \n",
       "\n",
       "   viral_degree_centrality  viral_strenght  misinformation  \\\n",
       "0                       89            2136              11   \n",
       "1                      889           24683              77   \n",
       "2                      294           23399              85   \n",
       "\n",
       "   misinformation_degree_centrality  misinformation_strenght  \\\n",
       "0                                71                    781.0   \n",
       "1                               714                   6752.0   \n",
       "2                               243                   6828.0   \n",
       "\n",
       "   misinformation_ratio  viral_misinformation_ratio  \\\n",
       "0              0.002502                    0.458333   \n",
       "1              0.033019                    0.340708   \n",
       "2              0.041182                    0.366379   \n",
       "\n",
       "                                      viral_messages  untrustworthiness  \n",
       "0  - casar poder ajudar , colocar adesivo carro /...           0.440000  \n",
       "1  apo tres escola militar irar final soletrar , ...           0.339207  \n",
       "2  kkk urna sao fraudar kkk desculpar ha ja dar n...           0.364807  "
      ]
     },
     "execution_count": 109,
     "metadata": {},
     "output_type": "execute_result"
    }
   ],
   "source": [
    "df_users.head(3)"
   ]
  },
  {
   "cell_type": "code",
   "execution_count": 112,
   "metadata": {},
   "outputs": [
    {
     "name": "stdout",
     "output_type": "stream",
     "text": [
      "count     5364.000000\n",
      "mean       161.322893\n",
      "std        587.399755\n",
      "min          0.000000\n",
      "25%          0.000000\n",
      "50%          0.000000\n",
      "75%        109.000000\n",
      "max      11635.000000\n",
      "Name: misinformation_strenght, dtype: float64\n",
      "\n",
      "outliers 272.5\n"
     ]
    },
    {
     "data": {
      "image/png": "[encoded data removed]",
      "text/plain": [
       "<Figure size 1080x360 with 1 Axes>"
      ]
     },
     "metadata": {
      "needs_background": "light"
     },
     "output_type": "display_data"
    }
   ],
   "source": [
    "# absolute value\n",
    "values = df_users['misinformation_strenght']\n",
    "plt.figure(figsize=(15,5))\n",
    "plt.title('misinformation strenght')\n",
    "ax = sns.violinplot(x=values, color = 'C2')\n",
    "print(values.describe())\n",
    "print()\n",
    "print('outliers',outlier(values))\n",
    "mis_strenght_threshold = outlier(values)"
   ]
  },
  {
   "cell_type": "code",
   "execution_count": 119,
   "metadata": {},
   "outputs": [
    {
     "name": "stdout",
     "output_type": "stream",
     "text": [
      "total misinformation:  11734\n",
      "total users: 5364\n",
      "total untrustful users: 678 (12.6%)\n",
      "proportion of misinformation sent by untrustful users: 76.1%\n"
     ]
    }
   ],
   "source": [
    "df_malicious = df_users[df_users['misinformation_strenght'] >= mis_strenght_threshold]\n",
    "malicious = set(df_malicious['id'])\n",
    "\n",
    "# misinformation\n",
    "total_mis = len(df[df['misinformation']==1])\n",
    "print('total misinformation: ',total_mis)\n",
    "\n",
    "def messages_by_superspreaders(user,superspreaders):\n",
    "    if user in superspreaders:\n",
    "        return True\n",
    "    else:\n",
    "        return False\n",
    "superspreader_mask = []\n",
    "for u in df['id']:\n",
    "    superspreader_mask.append(messages_by_superspreaders(u,malicious))    \n",
    "df_superspreaders = df[superspreader_mask]\n",
    "df_superspreaders = df_superspreaders[df_superspreaders['misinformation']==1]\n",
    "\n",
    "print('total users:',len(df_users))\n",
    "print('total untrustful users: {a:1d} ({b:.1f}%)'.format(a = len(malicious), b = len(malicious)*100/len(df_users)))\n",
    "print('proportion of misinformation sent by untrustful users: {a:.1f}%'.format(a = len(df_superspreaders)*100/total_mis))"
   ]
  },
  {
   "cell_type": "code",
   "execution_count": 120,
   "metadata": {},
   "outputs": [],
   "source": [
    "df_users['superspreader'] = [1 if m > mis_strenght_threshold else 0 for m in df_users['misinformation_strenght']]"
   ]
  },
  {
   "cell_type": "code",
   "execution_count": 121,
   "metadata": {},
   "outputs": [
    {
     "name": "stdout",
     "output_type": "stream",
     "text": [
      "count     5364.000000\n",
      "mean       388.623788\n",
      "std       1530.802515\n",
      "min          0.000000\n",
      "25%          0.000000\n",
      "50%          0.000000\n",
      "75%        210.000000\n",
      "max      49346.000000\n",
      "Name: viral_strenght, dtype: float64\n",
      "\n",
      "outliers 525.0\n"
     ]
    },
    {
     "data": {
      "image/png": "[encoded data removed]",
      "text/plain": [
       "<Figure size 1080x360 with 1 Axes>"
      ]
     },
     "metadata": {
      "needs_background": "light"
     },
     "output_type": "display_data"
    }
   ],
   "source": [
    "# relative to users value\n",
    "\n",
    "values = df_users['viral_strenght']\n",
    "plt.figure(figsize=(15,5))\n",
    "plt.title('viral strenght')\n",
    "ax = sns.violinplot(x=values, color = 'C4')\n",
    "print(values.describe())\n",
    "print()\n",
    "print('outliers',outlier(values))\n",
    "\n",
    "viral_strenght_threshold = outlier(values)"
   ]
  },
  {
   "cell_type": "markdown",
   "metadata": {},
   "source": [
    "# Detection by threshold"
   ]
  },
  {
   "cell_type": "code",
   "execution_count": 123,
   "metadata": {},
   "outputs": [
    {
     "name": "stdout",
     "output_type": "stream",
     "text": [
      "              precision    recall  f1-score   support\n",
      "\n",
      "           0       0.99      0.97      0.98      4686\n",
      "           1       0.79      0.91      0.85       678\n",
      "\n",
      "    accuracy                           0.96      5364\n",
      "   macro avg       0.89      0.94      0.91      5364\n",
      "weighted avg       0.96      0.96      0.96      5364\n",
      "\n"
     ]
    },
    {
     "data": {
      "text/plain": [
       "(0.9584265473527218,\n",
       " 0.7905491698595147,\n",
       " 0.9759361174058487,\n",
       " 0.9129793510324484,\n",
       " 0.9759361174058487,\n",
       " 0.8473648186173853,\n",
       " 0.9759361174058487,\n",
       " 0)"
      ]
     },
     "execution_count": 123,
     "metadata": {},
     "output_type": "execute_result"
    },
    {
     "data": {
      "image/png": "[encoded data removed]",
      "text/plain": [
       "<Figure size 1080x360 with 2 Axes>"
      ]
     },
     "metadata": {
      "needs_background": "light"
     },
     "output_type": "display_data"
    }
   ],
   "source": [
    "# only by viral strenght outlier and without train-test split\n",
    "y = df_users['superspreader']\n",
    "y_pred = [1 if m > viral_strenght_threshold else 0 for m in df_users['viral_strenght']]\n",
    "get_test_metrics(y, y_pred, full_metrics = True)"
   ]
  },
  {
   "cell_type": "markdown",
   "metadata": {},
   "source": [
    "## Using credibility models"
   ]
  },
  {
   "cell_type": "code",
   "execution_count": 124,
   "metadata": {},
   "outputs": [
    {
     "data": {
      "text/plain": [
       "Index(['id', 'groups', 'number_of_messages', 'texts', 'text_ratio', 'midia',\n",
       "       'midia_ratio', 'virals', 'viral_ratio', 'degree_centrality', 'strenght',\n",
       "       'viral_degree_centrality', 'viral_strenght', 'misinformation',\n",
       "       'misinformation_degree_centrality', 'misinformation_strenght',\n",
       "       'misinformation_ratio', 'viral_misinformation_ratio', 'viral_messages',\n",
       "       'untrustworthiness', 'superspreader'],\n",
       "      dtype='object')"
      ]
     },
     "execution_count": 124,
     "metadata": {},
     "output_type": "execute_result"
    }
   ],
   "source": [
    "df_users.columns"
   ]
  },
  {
   "cell_type": "code",
   "execution_count": 158,
   "metadata": {},
   "outputs": [],
   "source": [
    "# using credibility\n",
    "X = df_users[['viral_messages','viral_strenght']]\n",
    "y = df_users[['untrustworthiness','superspreader']]\n",
    "X_train, X_test, y_train, y_test = train_test_split(X, y, test_size=0.2, random_state=42)\n",
    "X_texts_train = X_train['viral_messages']\n",
    "X_texts_test = X_test['viral_messages']\n",
    "y_train = y_train['untrustworthiness']\n",
    "y_test_untrust = y_test['untrustworthiness']\n",
    "y_test_superspreader = y_test['superspreader']\n",
    "X_test_viral = X_test['viral_strenght']"
   ]
  },
  {
   "cell_type": "code",
   "execution_count": 151,
   "metadata": {},
   "outputs": [
    {
     "data": {
      "text/plain": [
       "(4291, 141164)"
      ]
     },
     "execution_count": 151,
     "metadata": {},
     "output_type": "execute_result"
    }
   ],
   "source": [
    "# tf-idf\n",
    "X_texts_train = ['' if type(x) != str else x for x in X_texts_train]\n",
    "X_texts_test = ['' if type(x) != str else x for x in X_texts_test]\n",
    "vectorizer = TfidfVectorizer(max_features = None, ngram_range = (2,2), lowercase = True, token_pattern = r'[^\\s]+')\n",
    "vectorizer.fit(X_texts_train)   \n",
    "X_train_tfidf = vectorizer.transform(X_texts_train)\n",
    "X_test_tfidf = vectorizer.transform(X_texts_test)\n",
    "X_train_tfidf.shape"
   ]
  },
  {
   "cell_type": "code",
   "execution_count": 152,
   "metadata": {},
   "outputs": [
    {
     "name": "stdout",
     "output_type": "stream",
     "text": [
      "linear regression + tfidf\n",
      "rmse: 0.201\n"
     ]
    }
   ],
   "source": [
    "print('linear regression + tfidf')\n",
    "reg = LinearRegression()\n",
    "rmse, y_pred = train_test_reg(reg,X_train_tfidf,X_test_tfidf,y_train,y_test_untrust)"
   ]
  },
  {
   "cell_type": "code",
   "execution_count": 155,
   "metadata": {},
   "outputs": [
    {
     "name": "stdout",
     "output_type": "stream",
     "text": [
      "rmse: 0.147\n"
     ]
    }
   ],
   "source": [
    "reg = optimized_mlp(hl,bs,al,lri)\n",
    "rmse, y_pred = train_test_reg(reg,X_train_tfidf,X_test_tfidf,y_train,y_test_untrust)"
   ]
  },
  {
   "cell_type": "code",
   "execution_count": 156,
   "metadata": {},
   "outputs": [
    {
     "name": "stdout",
     "output_type": "stream",
     "text": [
      "real: 0.00. predict: 0.03\n",
      "real: 0.33. predict: 0.21\n",
      "real: 0.00. predict: 0.03\n",
      "real: 0.80. predict: 0.42\n",
      "real: 0.00. predict: 0.03\n",
      "real: 0.38. predict: 0.41\n",
      "real: 0.50. predict: 0.00\n",
      "real: 0.00. predict: 0.05\n",
      "real: 0.00. predict: 0.03\n",
      "real: 0.00. predict: 0.03\n",
      "real: 0.29. predict: 0.45\n",
      "real: 0.50. predict: 0.57\n",
      "real: 0.64. predict: 0.52\n",
      "real: 0.50. predict: 0.47\n",
      "real: 0.00. predict: 0.03\n",
      "real: 0.00. predict: 0.01\n",
      "real: 0.00. predict: 0.03\n",
      "real: 0.00. predict: 0.03\n",
      "real: 0.00. predict: 0.03\n",
      "real: 0.00. predict: 0.03\n",
      "real: 0.46. predict: 0.50\n",
      "real: 0.00. predict: 0.03\n",
      "real: 0.00. predict: 0.03\n",
      "real: 0.00. predict: 0.03\n",
      "real: 0.33. predict: 0.14\n",
      "real: 0.67. predict: 0.06\n",
      "real: 0.00. predict: 0.03\n",
      "real: 0.00. predict: 0.03\n",
      "real: 0.40. predict: 0.12\n",
      "real: 0.00. predict: 0.03\n",
      "real: 0.00. predict: 0.03\n",
      "real: 0.50. predict: 0.27\n",
      "real: 0.00. predict: 0.03\n",
      "real: 0.00. predict: 0.03\n",
      "real: 0.50. predict: 0.43\n",
      "real: 0.00. predict: 0.03\n",
      "real: 0.50. predict: 0.40\n",
      "real: 0.33. predict: 0.32\n",
      "real: 0.00. predict: 0.03\n",
      "real: 0.27. predict: 0.29\n",
      "real: 0.00. predict: 0.03\n",
      "real: 0.50. predict: 0.34\n",
      "real: 0.00. predict: 0.03\n",
      "real: 0.41. predict: 0.53\n",
      "real: 0.00. predict: 0.03\n",
      "real: 0.00. predict: 0.03\n",
      "real: 0.00. predict: 0.03\n",
      "real: 0.00. predict: 0.03\n",
      "real: 0.55. predict: 0.89\n",
      "real: 0.00. predict: 0.03\n",
      "real: 0.00. predict: 0.03\n",
      "real: 0.25. predict: 0.33\n",
      "real: 0.00. predict: 0.03\n",
      "real: 0.00. predict: 0.03\n",
      "real: 0.00. predict: 0.03\n",
      "real: 0.00. predict: 0.03\n",
      "real: 0.75. predict: 0.12\n",
      "real: 0.00. predict: 0.03\n",
      "real: 0.00. predict: 0.34\n",
      "real: 0.00. predict: 0.03\n",
      "real: 0.00. predict: 0.03\n",
      "real: 0.00. predict: 0.03\n",
      "real: 0.80. predict: 0.58\n",
      "real: 0.00. predict: 0.03\n",
      "real: 0.40. predict: 0.15\n",
      "real: 0.00. predict: 0.03\n",
      "real: 0.00. predict: 0.02\n",
      "real: 0.00. predict: 0.03\n",
      "real: 0.00. predict: 0.03\n",
      "real: 0.60. predict: 0.57\n",
      "real: 0.33. predict: 0.44\n",
      "real: 0.00. predict: 0.15\n",
      "real: 0.00. predict: 0.12\n",
      "real: 0.00. predict: 0.02\n",
      "real: 0.00. predict: 0.05\n",
      "real: 0.00. predict: 0.03\n",
      "real: 0.00. predict: 0.03\n",
      "real: 0.58. predict: 0.54\n",
      "real: 0.77. predict: 0.60\n",
      "real: 0.00. predict: 0.03\n",
      "real: 0.00. predict: 0.03\n",
      "real: 0.00. predict: 0.17\n",
      "real: 0.00. predict: 0.03\n",
      "real: 0.00. predict: 0.03\n",
      "real: 0.00. predict: 0.03\n",
      "real: 0.00. predict: 0.03\n",
      "real: 0.00. predict: 0.03\n",
      "real: 0.33. predict: 0.10\n",
      "real: 0.67. predict: 0.60\n",
      "real: 0.00. predict: 0.03\n",
      "real: 0.00. predict: 0.03\n",
      "real: 0.46. predict: 1.00\n",
      "real: 0.33. predict: 0.23\n",
      "real: 0.60. predict: 0.94\n",
      "real: 0.00. predict: 0.03\n",
      "real: 0.00. predict: 0.07\n",
      "real: 0.00. predict: 0.03\n",
      "real: 0.25. predict: 0.08\n",
      "real: 0.00. predict: 0.03\n",
      "real: 0.00. predict: 0.03\n",
      "real: 0.00. predict: 0.03\n",
      "real: 0.62. predict: 0.62\n",
      "real: 0.50. predict: 0.50\n",
      "real: 0.00. predict: 0.03\n",
      "real: 0.00. predict: 0.03\n",
      "real: 0.00. predict: 0.03\n",
      "real: 0.00. predict: 0.03\n",
      "real: 0.50. predict: 0.25\n",
      "real: 0.25. predict: 0.17\n",
      "real: 0.00. predict: 0.03\n",
      "real: 0.00. predict: 0.03\n",
      "real: 0.00. predict: 0.03\n",
      "real: 0.57. predict: 0.82\n",
      "real: 0.00. predict: 0.03\n",
      "real: 0.00. predict: 0.03\n",
      "real: 0.50. predict: 0.38\n",
      "real: 0.00. predict: 0.03\n",
      "real: 0.33. predict: 0.47\n",
      "real: 0.71. predict: 0.34\n",
      "real: 0.67. predict: 0.48\n",
      "real: 0.40. predict: 0.24\n",
      "real: 0.50. predict: 0.36\n",
      "real: 0.40. predict: 0.30\n",
      "real: 0.00. predict: 0.03\n",
      "real: 0.70. predict: 0.60\n",
      "real: 0.33. predict: 0.55\n",
      "real: 0.60. predict: 0.21\n",
      "real: 0.60. predict: 0.39\n",
      "real: 0.00. predict: 0.03\n",
      "real: 0.19. predict: 0.24\n",
      "real: 0.00. predict: 0.03\n",
      "real: 0.00. predict: 0.03\n",
      "real: 0.00. predict: 0.03\n",
      "real: 0.00. predict: 0.03\n",
      "real: 0.33. predict: 0.37\n",
      "real: 0.00. predict: 0.03\n",
      "real: 0.00. predict: 0.03\n",
      "real: 0.00. predict: 0.08\n",
      "real: 0.00. predict: 0.19\n",
      "real: 0.00. predict: 0.03\n",
      "real: 0.67. predict: 0.60\n",
      "real: 0.67. predict: 0.46\n",
      "real: 0.33. predict: 0.47\n",
      "real: 0.50. predict: 0.43\n",
      "real: 0.00. predict: 0.03\n",
      "real: 0.00. predict: 0.03\n",
      "real: 0.00. predict: 0.03\n",
      "real: 0.00. predict: 0.03\n",
      "real: 0.00. predict: 0.03\n",
      "real: 0.00. predict: 0.03\n",
      "real: 0.00. predict: 0.04\n",
      "real: 0.50. predict: 0.39\n",
      "real: 0.62. predict: 0.35\n",
      "real: 0.00. predict: 0.03\n",
      "real: 0.00. predict: 0.03\n",
      "real: 0.58. predict: 0.63\n",
      "real: 0.50. predict: 0.15\n",
      "real: 0.00. predict: 0.03\n",
      "real: 0.00. predict: 0.03\n",
      "real: 0.85. predict: 0.96\n",
      "real: 0.67. predict: 0.31\n",
      "real: 0.50. predict: 0.46\n",
      "real: 0.00. predict: 0.03\n",
      "real: 0.50. predict: 0.09\n",
      "real: 0.00. predict: 0.03\n",
      "real: 0.00. predict: 0.03\n",
      "real: 0.00. predict: 0.03\n",
      "real: 0.50. predict: 0.29\n",
      "real: 0.50. predict: 0.48\n",
      "real: 0.55. predict: 0.49\n",
      "real: 0.00. predict: 0.03\n",
      "real: 0.00. predict: 0.03\n",
      "real: 0.73. predict: 0.87\n",
      "real: 0.20. predict: 0.00\n",
      "real: 0.44. predict: 0.39\n",
      "real: 0.75. predict: 0.74\n",
      "real: 0.50. predict: 0.02\n",
      "real: 0.00. predict: 0.26\n",
      "real: 0.00. predict: 0.12\n",
      "real: 0.00. predict: 0.03\n",
      "real: 0.50. predict: 0.61\n",
      "real: 0.00. predict: 0.03\n",
      "real: 0.00. predict: 0.03\n",
      "real: 0.50. predict: 0.08\n",
      "real: 0.00. predict: 0.03\n",
      "real: 0.10. predict: 0.36\n",
      "real: 0.00. predict: 0.03\n",
      "real: 0.00. predict: 0.03\n",
      "real: 0.73. predict: 0.41\n",
      "real: 0.00. predict: 0.03\n",
      "real: 0.50. predict: 0.19\n",
      "real: 0.75. predict: 0.53\n",
      "real: 0.00. predict: 0.03\n",
      "real: 0.00. predict: 0.03\n",
      "real: 0.91. predict: 0.79\n",
      "real: 0.00. predict: 0.03\n",
      "real: 0.00. predict: 0.03\n",
      "real: 0.00. predict: 0.03\n",
      "real: 0.00. predict: 0.03\n",
      "real: 0.00. predict: 0.03\n",
      "real: 0.09. predict: 0.23\n",
      "real: 0.00. predict: 0.03\n",
      "real: 0.60. predict: 0.53\n",
      "real: 0.00. predict: 0.03\n",
      "real: 0.00. predict: 0.03\n",
      "real: 0.00. predict: 0.03\n",
      "real: 0.50. predict: 0.55\n",
      "real: 0.00. predict: 0.03\n",
      "real: 0.00. predict: 0.03\n",
      "real: 0.00. predict: 0.03\n",
      "real: 0.61. predict: 0.73\n",
      "real: 0.00. predict: 0.03\n",
      "real: 0.00. predict: 0.03\n",
      "real: 0.00. predict: 0.03\n",
      "real: 0.00. predict: 0.03\n",
      "real: 0.80. predict: 1.00\n",
      "real: 0.00. predict: 0.03\n",
      "real: 0.00. predict: 0.03\n",
      "real: 0.25. predict: 0.33\n",
      "real: 0.00. predict: 0.00\n",
      "real: 0.38. predict: 0.11\n",
      "real: 0.50. predict: 0.29\n",
      "real: 0.75. predict: 0.63\n",
      "real: 0.50. predict: 0.45\n",
      "real: 0.00. predict: 0.03\n",
      "real: 0.00. predict: 0.03\n",
      "real: 0.09. predict: 0.27\n",
      "real: 0.00. predict: 0.03\n",
      "real: 0.00. predict: 0.03\n",
      "real: 0.00. predict: 0.03\n",
      "real: 0.00. predict: 0.03\n",
      "real: 0.43. predict: 0.39\n",
      "real: 0.00. predict: 0.00\n",
      "real: 0.00. predict: 0.03\n",
      "real: 0.56. predict: 0.54\n",
      "real: 0.25. predict: 0.04\n",
      "real: 0.00. predict: 0.03\n",
      "real: 0.00. predict: 0.03\n",
      "real: 0.82. predict: 0.61\n",
      "real: 0.50. predict: 0.38\n",
      "real: 0.00. predict: 0.03\n",
      "real: 0.00. predict: 0.03\n",
      "real: 0.71. predict: 0.19\n",
      "real: 0.00. predict: 0.03\n",
      "real: 0.00. predict: 0.03\n",
      "real: 0.00. predict: 0.03\n",
      "real: 0.00. predict: 0.03\n",
      "real: 0.00. predict: 0.20\n",
      "real: 0.00. predict: 0.19\n",
      "real: 0.00. predict: 0.09\n",
      "real: 0.00. predict: 0.03\n",
      "real: 0.33. predict: 0.40\n",
      "real: 0.50. predict: 0.29\n",
      "real: 0.50. predict: 0.20\n",
      "real: 0.00. predict: 0.03\n",
      "real: 0.20. predict: 0.40\n",
      "real: 0.60. predict: 0.88\n",
      "real: 0.00. predict: 0.03\n",
      "real: 0.00. predict: 0.03\n",
      "real: 0.00. predict: 0.07\n",
      "real: 0.00. predict: 0.09\n",
      "real: 0.00. predict: 0.03\n",
      "real: 0.43. predict: 0.09\n",
      "real: 0.33. predict: 0.23\n",
      "real: 0.50. predict: 0.35\n",
      "real: 0.00. predict: 0.03\n",
      "real: 0.00. predict: 0.03\n",
      "real: 0.00. predict: 0.03\n",
      "real: 0.00. predict: 0.03\n",
      "real: 0.50. predict: 0.35\n",
      "real: 0.00. predict: 0.03\n",
      "real: 0.00. predict: 0.20\n",
      "real: 0.67. predict: 0.31\n",
      "real: 0.40. predict: 0.33\n",
      "real: 0.00. predict: 0.03\n",
      "real: 0.62. predict: 0.61\n",
      "real: 0.00. predict: 0.03\n",
      "real: 0.00. predict: 0.03\n",
      "real: 0.00. predict: 0.18\n",
      "real: 0.67. predict: 0.48\n",
      "real: 0.00. predict: 0.03\n",
      "real: 0.67. predict: 0.51\n",
      "real: 0.00. predict: 0.03\n",
      "real: 0.00. predict: 0.03\n",
      "real: 0.60. predict: 0.39\n",
      "real: 0.00. predict: 0.03\n",
      "real: 0.00. predict: 0.03\n",
      "real: 0.25. predict: 0.41\n",
      "real: 0.00. predict: 0.03\n",
      "real: 0.00. predict: 0.03\n",
      "real: 0.00. predict: 0.03\n",
      "real: 0.64. predict: 0.95\n",
      "real: 0.00. predict: 0.03\n",
      "real: 0.00. predict: 0.03\n",
      "real: 0.25. predict: 0.34\n",
      "real: 0.00. predict: 0.09\n",
      "real: 0.00. predict: 0.03\n",
      "real: 0.50. predict: 0.41\n",
      "real: 0.00. predict: 0.03\n",
      "real: 0.62. predict: 0.66\n",
      "real: 0.78. predict: 0.23\n",
      "real: 0.00. predict: 0.03\n",
      "real: 0.50. predict: 0.37\n",
      "real: 0.33. predict: 0.42\n",
      "real: 0.00. predict: 0.07\n",
      "real: 0.50. predict: 0.54\n",
      "real: 0.67. predict: 0.69\n",
      "real: 0.00. predict: 0.03\n",
      "real: 0.00. predict: 0.03\n",
      "real: 0.00. predict: 0.03\n",
      "real: 0.67. predict: 0.32\n",
      "real: 0.00. predict: 0.03\n",
      "real: 0.65. predict: 0.57\n",
      "real: 0.00. predict: 0.03\n",
      "real: 0.40. predict: 0.13\n",
      "real: 0.00. predict: 0.03\n",
      "real: 0.00. predict: 0.03\n",
      "real: 0.00. predict: 0.03\n",
      "real: 0.50. predict: 0.32\n",
      "real: 0.00. predict: 0.03\n",
      "real: 0.00. predict: 0.03\n",
      "real: 0.29. predict: 0.17\n",
      "real: 0.43. predict: 0.37\n",
      "real: 0.67. predict: 0.39\n",
      "real: 0.83. predict: 0.90\n",
      "real: 0.10. predict: 0.18\n",
      "real: 0.00. predict: 0.03\n",
      "real: 0.33. predict: 0.39\n",
      "real: 0.50. predict: 0.20\n",
      "real: 0.36. predict: 0.41\n",
      "real: 0.00. predict: 0.03\n",
      "real: 0.50. predict: 0.41\n",
      "real: 0.00. predict: 0.03\n",
      "real: 0.00. predict: 0.03\n",
      "real: 0.50. predict: 0.48\n",
      "real: 0.40. predict: 0.35\n",
      "real: 0.67. predict: 0.74\n",
      "real: 0.33. predict: 0.16\n",
      "real: 0.50. predict: 0.59\n",
      "real: 0.25. predict: 0.42\n",
      "real: 0.40. predict: 0.33\n",
      "real: 0.00. predict: 0.03\n",
      "real: 0.75. predict: 0.59\n",
      "real: 0.64. predict: 0.55\n",
      "real: 0.00. predict: 0.03\n",
      "real: 0.67. predict: 0.55\n",
      "real: 0.25. predict: 0.49\n",
      "real: 0.00. predict: 0.03\n",
      "real: 0.00. predict: 0.03\n",
      "real: 0.00. predict: 0.03\n",
      "real: 0.67. predict: 0.38\n",
      "real: 0.50. predict: 0.31\n",
      "real: 0.00. predict: 0.03\n",
      "real: 0.69. predict: 0.78\n",
      "real: 0.00. predict: 0.03\n",
      "real: 0.00. predict: 0.03\n",
      "real: 0.00. predict: 0.03\n",
      "real: 0.00. predict: 0.03\n",
      "real: 0.00. predict: 0.13\n",
      "real: 0.67. predict: 0.20\n",
      "real: 0.44. predict: 0.46\n",
      "real: 0.67. predict: 0.52\n",
      "real: 0.00. predict: 0.03\n",
      "real: 0.00. predict: 0.03\n",
      "real: 0.00. predict: 0.03\n",
      "real: 0.00. predict: 0.03\n",
      "real: 0.00. predict: 0.00\n",
      "real: 0.00. predict: 0.03\n",
      "real: 0.57. predict: 0.63\n",
      "real: 0.17. predict: 0.15\n",
      "real: 0.00. predict: 0.03\n",
      "real: 0.67. predict: 0.38\n",
      "real: 0.86. predict: 0.88\n",
      "real: 0.00. predict: 0.13\n",
      "real: 0.50. predict: 0.49\n",
      "real: 0.00. predict: 0.03\n",
      "real: 0.00. predict: 0.03\n",
      "real: 0.00. predict: 0.03\n",
      "real: 0.00. predict: 0.03\n",
      "real: 0.00. predict: 0.03\n",
      "real: 0.50. predict: 0.34\n",
      "real: 0.56. predict: 0.52\n",
      "real: 0.00. predict: 0.03\n",
      "real: 0.00. predict: 0.03\n",
      "real: 0.27. predict: 0.46\n",
      "real: 0.00. predict: 0.03\n",
      "real: 0.00. predict: 0.03\n",
      "real: 0.80. predict: 0.52\n",
      "real: 0.75. predict: 0.35\n",
      "real: 0.50. predict: 0.49\n",
      "real: 0.00. predict: 0.03\n",
      "real: 0.00. predict: 0.03\n",
      "real: 0.57. predict: 0.63\n",
      "real: 0.50. predict: 0.40\n",
      "real: 0.50. predict: 0.09\n",
      "real: 0.00. predict: 0.03\n",
      "real: 0.00. predict: 0.03\n",
      "real: 0.00. predict: 0.03\n",
      "real: 0.00. predict: 0.03\n",
      "real: 0.00. predict: 0.03\n",
      "real: 0.59. predict: 0.76\n",
      "real: 0.00. predict: 0.03\n",
      "real: 0.00. predict: 0.03\n",
      "real: 0.11. predict: 0.11\n",
      "real: 0.00. predict: 0.03\n",
      "real: 0.00. predict: 0.03\n",
      "real: 0.50. predict: 0.37\n",
      "real: 0.66. predict: 0.86\n",
      "real: 0.00. predict: 0.03\n",
      "real: 0.00. predict: 0.03\n",
      "real: 0.00. predict: 0.03\n",
      "real: 0.71. predict: 0.49\n",
      "real: 0.00. predict: 0.03\n",
      "real: 0.00. predict: 0.03\n",
      "real: 0.58. predict: 0.59\n",
      "real: 0.00. predict: 0.03\n",
      "real: 0.00. predict: 0.03\n",
      "real: 0.73. predict: 0.81\n",
      "real: 0.00. predict: 0.03\n",
      "real: 0.00. predict: 0.03\n",
      "real: 0.50. predict: 0.55\n",
      "real: 0.17. predict: 0.19\n",
      "real: 0.57. predict: 0.49\n",
      "real: 0.17. predict: 0.09\n",
      "real: 0.67. predict: 0.42\n",
      "real: 0.00. predict: 0.03\n",
      "real: 0.20. predict: 0.28\n",
      "real: 0.00. predict: 0.03\n",
      "real: 0.50. predict: 0.30\n",
      "real: 0.50. predict: 0.24\n",
      "real: 0.00. predict: 0.03\n",
      "real: 0.40. predict: 0.26\n",
      "real: 0.40. predict: 0.25\n",
      "real: 0.67. predict: 0.64\n",
      "real: 0.33. predict: 0.14\n",
      "real: 0.00. predict: 0.03\n",
      "real: 0.50. predict: 0.34\n",
      "real: 0.38. predict: 0.39\n",
      "real: 0.33. predict: 0.21\n",
      "real: 0.43. predict: 0.26\n",
      "real: 0.18. predict: 0.27\n",
      "real: 0.75. predict: 0.35\n",
      "real: 0.50. predict: 0.36\n",
      "real: 0.50. predict: 0.08\n",
      "real: 0.00. predict: 0.03\n",
      "real: 0.00. predict: 0.03\n",
      "real: 0.45. predict: 0.16\n",
      "real: 0.00. predict: 0.03\n",
      "real: 0.00. predict: 0.03\n",
      "real: 0.50. predict: 0.63\n",
      "real: 0.00. predict: 0.03\n",
      "real: 0.50. predict: 0.08\n",
      "real: 0.00. predict: 0.03\n",
      "real: 0.48. predict: 0.63\n",
      "real: 0.00. predict: 0.03\n",
      "real: 0.55. predict: 0.22\n",
      "real: 0.47. predict: 0.46\n",
      "real: 0.00. predict: 0.03\n",
      "real: 0.50. predict: 0.21\n",
      "real: 0.67. predict: 0.51\n",
      "real: 0.00. predict: 0.03\n",
      "real: 0.00. predict: 0.03\n",
      "real: 0.50. predict: 0.36\n",
      "real: 0.57. predict: 0.49\n",
      "real: 0.00. predict: 0.03\n",
      "real: 0.00. predict: 0.03\n",
      "real: 0.50. predict: 0.44\n",
      "real: 0.50. predict: 0.09\n",
      "real: 0.40. predict: 0.26\n",
      "real: 0.00. predict: 0.03\n",
      "real: 0.00. predict: 0.03\n",
      "real: 0.40. predict: 0.12\n",
      "real: 0.00. predict: 0.03\n",
      "real: 0.50. predict: 0.45\n",
      "real: 0.00. predict: 0.03\n",
      "real: 0.33. predict: 0.14\n",
      "real: 0.00. predict: 0.03\n",
      "real: 0.00. predict: 0.03\n",
      "real: 0.50. predict: 0.67\n",
      "real: 0.00. predict: 0.03\n",
      "real: 0.00. predict: 0.03\n",
      "real: 0.59. predict: 0.73\n",
      "real: 0.00. predict: 0.03\n",
      "real: 0.00. predict: 0.03\n",
      "real: 0.17. predict: 0.24\n",
      "real: 0.00. predict: 0.09\n",
      "real: 0.50. predict: 0.54\n",
      "real: 0.00. predict: 0.03\n",
      "real: 0.00. predict: 0.03\n",
      "real: 0.50. predict: 0.40\n",
      "real: 0.00. predict: 0.03\n",
      "real: 0.50. predict: 0.12\n",
      "real: 0.00. predict: 0.04\n",
      "real: 0.33. predict: 0.28\n",
      "real: 0.50. predict: 0.50\n",
      "real: 0.00. predict: 0.16\n",
      "real: 0.67. predict: 0.90\n",
      "real: 0.75. predict: 0.41\n",
      "real: 0.45. predict: 0.41\n",
      "real: 0.00. predict: 0.10\n",
      "real: 0.00. predict: 0.03\n",
      "real: 0.00. predict: 0.03\n",
      "real: 0.33. predict: 0.06\n",
      "real: 0.00. predict: 0.03\n",
      "real: 0.00. predict: 0.03\n",
      "real: 0.00. predict: 0.06\n",
      "real: 0.33. predict: 0.00\n",
      "real: 0.00. predict: 0.03\n",
      "real: 0.50. predict: 0.58\n",
      "real: 0.00. predict: 0.05\n",
      "real: 0.33. predict: 0.18\n",
      "real: 0.33. predict: 0.36\n",
      "real: 0.50. predict: 0.19\n",
      "real: 0.00. predict: 0.03\n",
      "real: 0.00. predict: 0.03\n",
      "real: 0.00. predict: 0.03\n",
      "real: 0.50. predict: 0.46\n",
      "real: 0.00. predict: 0.03\n",
      "real: 0.00. predict: 0.03\n",
      "real: 0.67. predict: 0.39\n",
      "real: 0.42. predict: 0.24\n",
      "real: 0.00. predict: 0.03\n",
      "real: 0.56. predict: 0.34\n",
      "real: 0.00. predict: 0.03\n",
      "real: 0.00. predict: 0.03\n",
      "real: 0.00. predict: 0.03\n",
      "real: 0.00. predict: 0.03\n",
      "real: 0.40. predict: 0.14\n",
      "real: 0.00. predict: 0.03\n",
      "real: 0.46. predict: 0.22\n",
      "real: 0.00. predict: 0.03\n",
      "real: 0.33. predict: 0.22\n",
      "real: 0.00. predict: 0.03\n",
      "real: 0.33. predict: 0.17\n",
      "real: 0.50. predict: 0.41\n",
      "real: 0.00. predict: 0.03\n",
      "real: 0.00. predict: 0.03\n",
      "real: 0.00. predict: 0.20\n",
      "real: 0.00. predict: 0.04\n",
      "real: 0.50. predict: 0.35\n",
      "real: 0.00. predict: 0.03\n",
      "real: 0.50. predict: 0.09\n",
      "real: 0.00. predict: 0.03\n",
      "real: 0.50. predict: 0.44\n",
      "real: 0.00. predict: 0.03\n",
      "real: 0.33. predict: 0.44\n",
      "real: 0.33. predict: 0.32\n",
      "real: 0.00. predict: 0.03\n",
      "real: 0.50. predict: 0.09\n",
      "real: 0.00. predict: 0.03\n",
      "real: 0.00. predict: 0.03\n",
      "real: 0.00. predict: 0.04\n",
      "real: 0.00. predict: 0.03\n",
      "real: 0.00. predict: 0.03\n",
      "real: 0.00. predict: 0.03\n",
      "real: 0.74. predict: 0.14\n",
      "real: 0.00. predict: 0.03\n",
      "real: 0.00. predict: 0.03\n",
      "real: 0.67. predict: 0.64\n",
      "real: 0.00. predict: 0.03\n",
      "real: 0.00. predict: 0.03\n",
      "real: 0.00. predict: 0.03\n",
      "real: 0.00. predict: 0.03\n",
      "real: 0.00. predict: 0.03\n",
      "real: 0.33. predict: 0.29\n",
      "real: 0.78. predict: 0.92\n",
      "real: 0.00. predict: 0.03\n",
      "real: 0.00. predict: 0.03\n",
      "real: 0.00. predict: 0.03\n",
      "real: 0.00. predict: 0.03\n",
      "real: 0.33. predict: 0.19\n",
      "real: 0.25. predict: 0.48\n",
      "real: 0.60. predict: 0.29\n",
      "real: 0.00. predict: 0.03\n",
      "real: 0.00. predict: 0.03\n",
      "real: 0.00. predict: 0.06\n",
      "real: 0.00. predict: 0.03\n",
      "real: 0.00. predict: 0.03\n",
      "real: 0.00. predict: 0.03\n",
      "real: 0.00. predict: 0.03\n",
      "real: 0.00. predict: 0.03\n",
      "real: 0.50. predict: 0.45\n",
      "real: 0.00. predict: 0.03\n",
      "real: 0.00. predict: 0.03\n",
      "real: 0.00. predict: 0.03\n",
      "real: 0.14. predict: 0.38\n",
      "real: 0.00. predict: 0.03\n",
      "real: 0.00. predict: 0.03\n",
      "real: 0.55. predict: 0.47\n",
      "real: 0.57. predict: 0.46\n",
      "real: 0.20. predict: 0.47\n",
      "real: 0.50. predict: 0.09\n",
      "real: 0.00. predict: 0.03\n",
      "real: 0.00. predict: 0.03\n",
      "real: 0.57. predict: 0.59\n",
      "real: 0.00. predict: 0.03\n",
      "real: 0.00. predict: 0.03\n",
      "real: 0.00. predict: 0.03\n",
      "real: 0.00. predict: 0.03\n",
      "real: 0.00. predict: 0.02\n",
      "real: 0.50. predict: 0.39\n",
      "real: 0.00. predict: 0.03\n",
      "real: 0.00. predict: 0.03\n",
      "real: 0.00. predict: 0.03\n",
      "real: 0.50. predict: 0.31\n",
      "real: 0.00. predict: 0.03\n",
      "real: 0.00. predict: 0.03\n",
      "real: 0.56. predict: 0.90\n",
      "real: 0.13. predict: 0.45\n",
      "real: 0.53. predict: 0.52\n",
      "real: 0.00. predict: 0.03\n",
      "real: 0.50. predict: 0.25\n",
      "real: 0.62. predict: 0.76\n",
      "real: 0.60. predict: 0.50\n",
      "real: 0.00. predict: 0.03\n",
      "real: 0.64. predict: 0.56\n",
      "real: 0.57. predict: 0.67\n",
      "real: 0.59. predict: 0.65\n",
      "real: 0.00. predict: 0.03\n",
      "real: 0.00. predict: 0.17\n",
      "real: 0.00. predict: 0.03\n",
      "real: 0.00. predict: 0.03\n",
      "real: 0.00. predict: 0.03\n",
      "real: 0.00. predict: 0.03\n",
      "real: 0.00. predict: 0.03\n",
      "real: 0.60. predict: 0.24\n",
      "real: 0.00. predict: 0.03\n",
      "real: 0.00. predict: 0.03\n",
      "real: 0.00. predict: 0.03\n",
      "real: 0.33. predict: 0.26\n",
      "real: 0.00. predict: 0.03\n",
      "real: 0.60. predict: 0.32\n",
      "real: 0.00. predict: 0.03\n",
      "real: 0.00. predict: 0.03\n",
      "real: 0.58. predict: 0.37\n",
      "real: 0.50. predict: 0.51\n",
      "real: 0.00. predict: 0.03\n",
      "real: 0.50. predict: 0.52\n",
      "real: 0.00. predict: 0.03\n",
      "real: 0.00. predict: 0.03\n",
      "real: 0.67. predict: 0.67\n",
      "real: 0.00. predict: 0.03\n",
      "real: 0.00. predict: 0.03\n",
      "real: 0.00. predict: 0.03\n",
      "real: 0.00. predict: 0.03\n",
      "real: 0.00. predict: 0.03\n",
      "real: 0.00. predict: 0.03\n",
      "real: 0.50. predict: 0.31\n",
      "real: 0.67. predict: 0.65\n",
      "real: 0.50. predict: 0.42\n",
      "real: 0.14. predict: 0.45\n",
      "real: 0.00. predict: 0.03\n",
      "real: 0.00. predict: 0.03\n",
      "real: 0.50. predict: 0.50\n",
      "real: 0.57. predict: 0.51\n",
      "real: 0.00. predict: 0.03\n",
      "real: 0.00. predict: 0.03\n",
      "real: 0.00. predict: 0.03\n",
      "real: 0.50. predict: 0.00\n",
      "real: 0.00. predict: 0.03\n",
      "real: 0.00. predict: 0.03\n",
      "real: 0.00. predict: 0.10\n",
      "real: 0.00. predict: 0.03\n",
      "real: 0.00. predict: 0.03\n",
      "real: 0.67. predict: 0.58\n",
      "real: 0.60. predict: 0.60\n",
      "real: 0.00. predict: 0.03\n",
      "real: 0.00. predict: 0.03\n",
      "real: 0.50. predict: 0.52\n",
      "real: 0.00. predict: 0.07\n",
      "real: 0.00. predict: 0.03\n",
      "real: 0.67. predict: 0.73\n",
      "real: 0.80. predict: 0.43\n",
      "real: 0.00. predict: 0.03\n",
      "real: 0.00. predict: 0.14\n",
      "real: 0.33. predict: 0.21\n",
      "real: 0.00. predict: 0.03\n",
      "real: 0.00. predict: 0.03\n",
      "real: 0.50. predict: 0.53\n",
      "real: 0.00. predict: 0.02\n",
      "real: 0.00. predict: 0.03\n",
      "real: 0.00. predict: 0.03\n",
      "real: 0.00. predict: 0.02\n",
      "real: 0.67. predict: 0.38\n",
      "real: 0.00. predict: 0.03\n",
      "real: 0.00. predict: 0.03\n",
      "real: 0.50. predict: 0.24\n",
      "real: 0.67. predict: 0.13\n",
      "real: 0.00. predict: 0.03\n",
      "real: 0.50. predict: 0.51\n",
      "real: 0.00. predict: 0.09\n",
      "real: 0.00. predict: 0.03\n",
      "real: 0.00. predict: 0.03\n",
      "real: 0.43. predict: 0.45\n",
      "real: 0.50. predict: 0.51\n",
      "real: 0.00. predict: 0.03\n",
      "real: 0.00. predict: 0.03\n",
      "real: 0.00. predict: 0.03\n",
      "real: 0.00. predict: 0.03\n",
      "real: 0.00. predict: 0.03\n",
      "real: 0.50. predict: 0.11\n",
      "real: 0.00. predict: 0.03\n",
      "real: 0.54. predict: 0.55\n",
      "real: 0.84. predict: 0.91\n",
      "real: 0.00. predict: 0.03\n",
      "real: 0.50. predict: 0.46\n",
      "real: 0.00. predict: 0.03\n",
      "real: 0.00. predict: 0.03\n",
      "real: 0.00. predict: 0.03\n",
      "real: 0.50. predict: 0.29\n",
      "real: 0.00. predict: 0.03\n",
      "real: 0.00. predict: 0.03\n",
      "real: 0.59. predict: 0.61\n",
      "real: 0.00. predict: 0.03\n",
      "real: 0.00. predict: 0.05\n",
      "real: 0.00. predict: 0.03\n",
      "real: 0.64. predict: 0.69\n",
      "real: 0.33. predict: 0.16\n",
      "real: 0.75. predict: 0.51\n",
      "real: 0.62. predict: 0.56\n",
      "real: 0.50. predict: 0.25\n",
      "real: 0.00. predict: 0.03\n",
      "real: 0.00. predict: 0.03\n",
      "real: 0.57. predict: 0.55\n",
      "real: 0.33. predict: 0.05\n",
      "real: 0.00. predict: 0.03\n",
      "real: 0.00. predict: 0.03\n",
      "real: 0.00. predict: 0.03\n",
      "real: 0.00. predict: 0.03\n",
      "real: 0.00. predict: 0.03\n",
      "real: 0.00. predict: 0.03\n",
      "real: 0.00. predict: 0.03\n",
      "real: 0.00. predict: 0.03\n",
      "real: 0.00. predict: 0.03\n",
      "real: 0.50. predict: 0.47\n",
      "real: 0.00. predict: 0.03\n",
      "real: 0.00. predict: 0.03\n",
      "real: 0.50. predict: 0.13\n",
      "real: 0.50. predict: 0.49\n",
      "real: 0.00. predict: 0.03\n",
      "real: 0.67. predict: 0.17\n",
      "real: 0.00. predict: 0.03\n",
      "real: 0.00. predict: 0.03\n",
      "real: 0.77. predict: 0.39\n",
      "real: 0.00. predict: 0.03\n",
      "real: 0.50. predict: 0.51\n",
      "real: 0.00. predict: 0.03\n",
      "real: 0.73. predict: 0.50\n",
      "real: 0.00. predict: 0.03\n",
      "real: 0.62. predict: 0.44\n",
      "real: 0.50. predict: 0.40\n",
      "real: 0.73. predict: 0.41\n",
      "real: 0.00. predict: 0.03\n",
      "real: 0.00. predict: 0.03\n",
      "real: 0.00. predict: 0.03\n",
      "real: 0.00. predict: 0.04\n",
      "real: 0.00. predict: 0.03\n",
      "real: 0.00. predict: 0.03\n",
      "real: 0.00. predict: 0.03\n",
      "real: 0.80. predict: 0.63\n",
      "real: 0.60. predict: 0.49\n",
      "real: 0.75. predict: 0.48\n",
      "real: 0.50. predict: 0.23\n",
      "real: 0.00. predict: 0.03\n",
      "real: 0.00. predict: 0.03\n",
      "real: 0.40. predict: 0.16\n",
      "real: 0.00. predict: 0.03\n",
      "real: 0.00. predict: 0.03\n",
      "real: 0.00. predict: 0.03\n",
      "real: 0.25. predict: 0.38\n",
      "real: 0.00. predict: 0.03\n",
      "real: 0.50. predict: 0.20\n",
      "real: 0.00. predict: 0.01\n",
      "real: 0.50. predict: 0.51\n",
      "real: 0.54. predict: 0.53\n",
      "real: 0.00. predict: 0.03\n",
      "real: 0.67. predict: 0.34\n",
      "real: 0.40. predict: 0.48\n",
      "real: 0.75. predict: 0.31\n",
      "real: 0.00. predict: 0.03\n",
      "real: 0.00. predict: 0.03\n",
      "real: 0.00. predict: 0.03\n",
      "real: 0.00. predict: 0.03\n",
      "real: 0.50. predict: 0.30\n",
      "real: 0.00. predict: 0.09\n",
      "real: 0.00. predict: 0.03\n",
      "real: 0.50. predict: 0.29\n",
      "real: 0.00. predict: 0.03\n",
      "real: 0.00. predict: 0.17\n",
      "real: 0.00. predict: 0.13\n",
      "real: 0.50. predict: 0.33\n",
      "real: 0.00. predict: 0.03\n",
      "real: 0.60. predict: 0.57\n",
      "real: 0.00. predict: 0.03\n",
      "real: 0.00. predict: 0.03\n",
      "real: 0.50. predict: 0.12\n",
      "real: 0.80. predict: 0.65\n",
      "real: 0.67. predict: 0.59\n",
      "real: 0.67. predict: 0.44\n",
      "real: 0.00. predict: 0.03\n",
      "real: 0.75. predict: 0.78\n",
      "real: 0.00. predict: 0.03\n",
      "real: 0.00. predict: 0.03\n",
      "real: 0.00. predict: 0.03\n",
      "real: 0.50. predict: 0.47\n",
      "real: 0.00. predict: 0.03\n",
      "real: 0.00. predict: 0.03\n",
      "real: 0.00. predict: 0.03\n",
      "real: 0.80. predict: 0.65\n",
      "real: 0.00. predict: 0.46\n",
      "real: 0.64. predict: 0.59\n",
      "real: 0.00. predict: 0.03\n",
      "real: 0.25. predict: 0.27\n",
      "real: 0.62. predict: 0.44\n",
      "real: 0.67. predict: 0.08\n",
      "real: 0.40. predict: 0.30\n",
      "real: 0.74. predict: 0.98\n",
      "real: 0.00. predict: 0.03\n",
      "real: 0.67. predict: 0.40\n",
      "real: 0.00. predict: 0.03\n",
      "real: 0.74. predict: 0.69\n",
      "real: 0.50. predict: 0.35\n",
      "real: 0.20. predict: 0.10\n",
      "real: 0.00. predict: 0.03\n",
      "real: 0.00. predict: 0.03\n",
      "real: 0.00. predict: 0.07\n",
      "real: 0.00. predict: 0.03\n",
      "real: 0.67. predict: 0.65\n",
      "real: 0.50. predict: 0.43\n",
      "real: 0.00. predict: 0.03\n",
      "real: 0.00. predict: 0.03\n",
      "real: 0.73. predict: 0.59\n",
      "real: 0.00. predict: 0.03\n",
      "real: 0.53. predict: 0.43\n",
      "real: 0.58. predict: 0.30\n",
      "real: 0.00. predict: 0.00\n",
      "real: 0.00. predict: 0.03\n",
      "real: 0.00. predict: 0.13\n",
      "real: 0.00. predict: 0.03\n",
      "real: 0.22. predict: 0.36\n",
      "real: 0.67. predict: 0.46\n",
      "real: 0.67. predict: 0.42\n",
      "real: 0.00. predict: 0.03\n",
      "real: 0.88. predict: 1.00\n",
      "real: 0.00. predict: 0.03\n",
      "real: 0.00. predict: 0.03\n",
      "real: 0.29. predict: 0.58\n",
      "real: 0.25. predict: 0.35\n",
      "real: 0.33. predict: 0.30\n",
      "real: 0.57. predict: 0.59\n",
      "real: 0.00. predict: 0.00\n",
      "real: 0.00. predict: 0.03\n",
      "real: 0.43. predict: 0.52\n",
      "real: 0.00. predict: 0.03\n",
      "real: 0.00. predict: 0.03\n",
      "real: 0.00. predict: 0.03\n",
      "real: 0.44. predict: 0.38\n",
      "real: 0.00. predict: 0.03\n",
      "real: 0.00. predict: 0.03\n",
      "real: 0.67. predict: 0.66\n",
      "real: 0.00. predict: 0.03\n",
      "real: 0.00. predict: 0.03\n",
      "real: 0.62. predict: 0.71\n",
      "real: 0.00. predict: 0.03\n",
      "real: 0.50. predict: 0.53\n",
      "real: 0.00. predict: 0.03\n",
      "real: 0.00. predict: 0.03\n",
      "real: 0.00. predict: 0.03\n",
      "real: 0.00. predict: 0.00\n",
      "real: 0.00. predict: 0.03\n",
      "real: 0.00. predict: 0.03\n",
      "real: 0.75. predict: 0.18\n",
      "real: 0.00. predict: 0.03\n",
      "real: 0.50. predict: 0.32\n",
      "real: 0.00. predict: 0.03\n",
      "real: 0.50. predict: 0.16\n",
      "real: 0.00. predict: 0.19\n",
      "real: 0.75. predict: 0.79\n",
      "real: 0.00. predict: 0.03\n",
      "real: 0.25. predict: 0.54\n",
      "real: 0.67. predict: 0.34\n",
      "real: 0.57. predict: 0.34\n",
      "real: 0.00. predict: 0.03\n",
      "real: 0.00. predict: 0.03\n",
      "real: 0.00. predict: 0.03\n",
      "real: 0.67. predict: 0.49\n",
      "real: 0.80. predict: 0.46\n",
      "real: 0.30. predict: 0.26\n",
      "real: 0.00. predict: 0.03\n",
      "real: 0.00. predict: 0.03\n",
      "real: 0.00. predict: 0.20\n",
      "real: 0.50. predict: 0.10\n",
      "real: 0.00. predict: 0.03\n",
      "real: 0.00. predict: 0.03\n",
      "real: 0.75. predict: 0.18\n",
      "real: 0.40. predict: 0.21\n",
      "real: 0.67. predict: 0.38\n",
      "real: 0.75. predict: 0.74\n",
      "real: 0.55. predict: 0.63\n",
      "real: 0.00. predict: 0.03\n",
      "real: 0.00. predict: 0.03\n",
      "real: 0.50. predict: 0.38\n",
      "real: 0.67. predict: 0.31\n",
      "real: 0.00. predict: 0.03\n",
      "real: 0.80. predict: 0.81\n",
      "real: 0.00. predict: 0.03\n",
      "real: 0.00. predict: 0.03\n",
      "real: 0.75. predict: 0.53\n",
      "real: 0.00. predict: 0.24\n",
      "real: 0.00. predict: 0.03\n",
      "real: 0.50. predict: 0.54\n",
      "real: 0.00. predict: 0.03\n",
      "real: 0.00. predict: 0.03\n",
      "real: 0.25. predict: 0.31\n",
      "real: 0.00. predict: 0.03\n",
      "real: 0.73. predict: 0.71\n",
      "real: 0.00. predict: 0.03\n",
      "real: 0.00. predict: 0.03\n",
      "real: 0.00. predict: 0.03\n",
      "real: 0.00. predict: 0.03\n",
      "real: 0.60. predict: 0.41\n",
      "real: 0.29. predict: 0.27\n",
      "real: 0.00. predict: 0.03\n",
      "real: 0.00. predict: 0.03\n",
      "real: 0.50. predict: 0.03\n",
      "real: 0.00. predict: 0.03\n",
      "real: 0.00. predict: 0.03\n",
      "real: 0.00. predict: 0.03\n",
      "real: 0.00. predict: 0.03\n",
      "real: 0.50. predict: 0.00\n",
      "real: 0.00. predict: 0.03\n",
      "real: 0.00. predict: 0.03\n",
      "real: 0.00. predict: 0.04\n",
      "real: 0.50. predict: 0.36\n",
      "real: 0.00. predict: 0.00\n",
      "real: 0.00. predict: 0.03\n",
      "real: 0.67. predict: 0.42\n",
      "real: 0.00. predict: 0.01\n",
      "real: 0.00. predict: 0.03\n",
      "real: 0.50. predict: 0.33\n",
      "real: 0.00. predict: 0.13\n",
      "real: 0.00. predict: 0.00\n",
      "real: 0.00. predict: 0.03\n",
      "real: 0.00. predict: 0.03\n",
      "real: 0.00. predict: 0.03\n",
      "real: 0.00. predict: 0.03\n",
      "real: 0.00. predict: 0.03\n",
      "real: 0.00. predict: 0.03\n",
      "real: 0.34. predict: 0.18\n",
      "real: 0.00. predict: 0.03\n",
      "real: 0.00. predict: 0.03\n",
      "real: 0.50. predict: 0.37\n",
      "real: 0.00. predict: 0.03\n",
      "real: 0.00. predict: 0.03\n",
      "real: 0.00. predict: 0.03\n",
      "real: 0.50. predict: 0.44\n",
      "real: 0.67. predict: 0.52\n",
      "real: 0.83. predict: 0.60\n",
      "real: 0.33. predict: 0.22\n",
      "real: 0.00. predict: 0.15\n",
      "real: 0.00. predict: 0.03\n",
      "real: 0.57. predict: 0.49\n",
      "real: 0.00. predict: 0.03\n",
      "real: 0.00. predict: 0.03\n",
      "real: 0.00. predict: 0.03\n",
      "real: 0.00. predict: 0.03\n",
      "real: 0.50. predict: 0.41\n",
      "real: 0.33. predict: 0.37\n",
      "real: 0.00. predict: 0.03\n",
      "real: 0.00. predict: 0.03\n",
      "real: 0.75. predict: 0.74\n",
      "real: 0.00. predict: 0.03\n",
      "real: 0.00. predict: 0.03\n",
      "real: 0.00. predict: 0.03\n",
      "real: 0.00. predict: 0.03\n",
      "real: 0.00. predict: 0.03\n",
      "real: 0.00. predict: 0.03\n",
      "real: 0.50. predict: 0.06\n",
      "real: 0.00. predict: 0.03\n",
      "real: 0.00. predict: 0.03\n",
      "real: 0.50. predict: 0.16\n",
      "real: 0.50. predict: 0.37\n",
      "real: 0.00. predict: 0.03\n",
      "real: 0.00. predict: 0.03\n",
      "real: 0.00. predict: 0.00\n",
      "real: 0.50. predict: 0.20\n",
      "real: 0.00. predict: 0.03\n",
      "real: 0.67. predict: 0.47\n",
      "real: 0.57. predict: 0.77\n",
      "real: 0.67. predict: 0.53\n",
      "real: 0.50. predict: 0.44\n",
      "real: 0.00. predict: 0.03\n",
      "real: 0.00. predict: 0.03\n",
      "real: 0.00. predict: 0.03\n",
      "real: 0.00. predict: 0.03\n",
      "real: 0.50. predict: 0.54\n",
      "real: 0.00. predict: 0.10\n",
      "real: 0.58. predict: 0.58\n",
      "real: 0.50. predict: 0.20\n",
      "real: 0.00. predict: 0.03\n",
      "real: 0.45. predict: 0.63\n",
      "real: 0.90. predict: 0.26\n",
      "real: 0.00. predict: 0.03\n",
      "real: 0.00. predict: 0.03\n",
      "real: 0.00. predict: 0.03\n",
      "real: 0.00. predict: 0.03\n",
      "real: 0.38. predict: 0.65\n",
      "real: 0.33. predict: 0.58\n",
      "real: 0.00. predict: 0.19\n",
      "real: 0.50. predict: 0.20\n",
      "real: 0.70. predict: 0.55\n",
      "real: 0.00. predict: 0.03\n",
      "real: 0.00. predict: 0.03\n",
      "real: 0.50. predict: 0.49\n",
      "real: 0.33. predict: 0.16\n",
      "real: 0.50. predict: 0.50\n",
      "real: 0.67. predict: 0.42\n",
      "real: 0.00. predict: 0.03\n",
      "real: 0.75. predict: 0.46\n",
      "real: 0.48. predict: 0.75\n",
      "real: 0.00. predict: 0.12\n",
      "real: 0.50. predict: 0.41\n",
      "real: 0.00. predict: 0.03\n",
      "real: 0.00. predict: 0.03\n",
      "real: 0.00. predict: 0.11\n",
      "real: 0.00. predict: 0.03\n",
      "real: 0.00. predict: 0.00\n",
      "real: 0.78. predict: 0.52\n",
      "real: 0.00. predict: 0.03\n",
      "real: 0.00. predict: 0.03\n",
      "real: 0.00. predict: 0.03\n",
      "real: 0.50. predict: 0.14\n",
      "real: 0.80. predict: 0.41\n",
      "real: 0.50. predict: 0.33\n",
      "real: 0.30. predict: 0.42\n",
      "real: 0.00. predict: 0.03\n",
      "real: 0.00. predict: 0.03\n",
      "real: 0.00. predict: 0.03\n",
      "real: 0.00. predict: 0.03\n",
      "real: 0.00. predict: 0.03\n",
      "real: 0.00. predict: 0.03\n",
      "real: 0.00. predict: 0.03\n",
      "real: 0.25. predict: 0.23\n",
      "real: 0.00. predict: 0.03\n",
      "real: 0.00. predict: 0.03\n",
      "real: 0.00. predict: 0.03\n",
      "real: 0.50. predict: 0.13\n",
      "real: 0.00. predict: 0.00\n",
      "real: 0.72. predict: 0.95\n",
      "real: 0.09. predict: 0.17\n",
      "real: 0.00. predict: 0.03\n",
      "real: 0.00. predict: 0.03\n",
      "real: 0.33. predict: 0.22\n",
      "real: 0.64. predict: 0.57\n",
      "real: 0.33. predict: 0.49\n",
      "real: 0.43. predict: 0.15\n",
      "real: 0.57. predict: 0.61\n",
      "real: 0.57. predict: 0.49\n",
      "real: 0.00. predict: 0.03\n",
      "real: 0.50. predict: 0.45\n",
      "real: 0.00. predict: 0.03\n",
      "real: 0.40. predict: 0.21\n",
      "real: 0.00. predict: 0.03\n",
      "real: 0.57. predict: 0.27\n",
      "real: 0.00. predict: 0.03\n",
      "real: 0.00. predict: 0.03\n",
      "real: 0.00. predict: 0.02\n",
      "real: 0.00. predict: 0.03\n",
      "real: 0.00. predict: 0.03\n",
      "real: 0.00. predict: 0.17\n",
      "real: 0.00. predict: 0.03\n",
      "real: 0.50. predict: 0.39\n",
      "real: 0.00. predict: 0.03\n"
     ]
    }
   ],
   "source": [
    "compare_prediction(y_test_untrust,y_pred)"
   ]
  },
  {
   "cell_type": "code",
   "execution_count": 174,
   "metadata": {},
   "outputs": [
    {
     "name": "stdout",
     "output_type": "stream",
     "text": [
      "              precision    recall  f1-score   support\n",
      "\n",
      "           0       0.99      0.96      0.98       918\n",
      "           1       0.82      0.94      0.87       155\n",
      "\n",
      "    accuracy                           0.96      1073\n",
      "   macro avg       0.90      0.95      0.93      1073\n",
      "weighted avg       0.96      0.96      0.96      1073\n",
      "\n"
     ]
    },
    {
     "data": {
      "text/plain": [
       "(0.9608574091332712,\n",
       " 0.8156424581005587,\n",
       " 0.9768211920529801,\n",
       " 0.9419354838709677,\n",
       " 0.9768211920529801,\n",
       " 0.874251497005988,\n",
       " 0.9768211920529801,\n",
       " 0)"
      ]
     },
     "execution_count": 174,
     "metadata": {},
     "output_type": "execute_result"
    },
    {
     "data": {
      "image/png": "[encoded data removed]",
      "text/plain": [
       "<Figure size 1080x360 with 2 Axes>"
      ]
     },
     "metadata": {
      "needs_background": "light"
     },
     "output_type": "display_data"
    }
   ],
   "source": [
    "# without credibility\n",
    "y_pred_rule = [1 if m > viral_strenght_threshold else 0 for m in X_test_viral]\n",
    "get_test_metrics(y_test_superspreader, y_pred_rule, full_metrics = True)"
   ]
  },
  {
   "cell_type": "code",
   "execution_count": 181,
   "metadata": {},
   "outputs": [
    {
     "data": {
      "text/plain": [
       "525.0"
      ]
     },
     "execution_count": 181,
     "metadata": {},
     "output_type": "execute_result"
    }
   ],
   "source": [
    "viral_strenght_threshold"
   ]
  },
  {
   "cell_type": "code",
   "execution_count": 188,
   "metadata": {},
   "outputs": [
    {
     "name": "stdout",
     "output_type": "stream",
     "text": [
      "              precision    recall  f1-score   support\n",
      "\n",
      "           0       0.99      0.97      0.98       918\n",
      "           1       0.84      0.94      0.89       155\n",
      "\n",
      "    accuracy                           0.97      1073\n",
      "   macro avg       0.91      0.96      0.93      1073\n",
      "weighted avg       0.97      0.97      0.97      1073\n",
      "\n"
     ]
    },
    {
     "data": {
      "text/plain": [
       "(0.9655172413793104,\n",
       " 0.8390804597701149,\n",
       " 0.9796367638965329,\n",
       " 0.9419354838709677,\n",
       " 0.9796367638965329,\n",
       " 0.8875379939209727,\n",
       " 0.9796367638965329,\n",
       " 0)"
      ]
     },
     "execution_count": 188,
     "metadata": {},
     "output_type": "execute_result"
    },
    {
     "data": {
      "image/png": "[encoded data removed]",
      "text/plain": [
       "<Figure size 1080x360 with 2 Axes>"
      ]
     },
     "metadata": {
      "needs_background": "light"
     },
     "output_type": "display_data"
    }
   ],
   "source": [
    "y_pred_superspreader = []\n",
    "for viral,untrust in list(zip(X_test_viral,y_pred)):\n",
    "    if viral > viral_strenght_threshold and untrust > 0.1:  #viral_strenght_threshold\n",
    "        y_pred_superspreader.append(1)\n",
    "    else:\n",
    "        y_pred_superspreader.append(0)        \n",
    "    \n",
    "get_test_metrics(y_test_superspreader, y_pred_superspreader, full_metrics = True)"
   ]
  },
  {
   "cell_type": "code",
   "execution_count": 165,
   "metadata": {},
   "outputs": [
    {
     "data": {
      "text/plain": [
       "<matplotlib.axes._subplots.AxesSubplot at 0x7fbf288774e0>"
      ]
     },
     "execution_count": 165,
     "metadata": {},
     "output_type": "execute_result"
    },
    {
     "data": {
      "image/png": "[encoded data removed]",
      "text/plain": [
       "<Figure size 432x288 with 1 Axes>"
      ]
     },
     "metadata": {
      "needs_background": "light"
     },
     "output_type": "display_data"
    }
   ],
   "source": [
    "superspreader = ['superspreader' if x==1 else 'non-superspreader' for x in y_test_superspreader]\n",
    "df_plot = pd.DataFrame({'virality':X_test_viral, 'trust_score':y_pred, 'class':superspreader})\n",
    "sns.scatterplot(data=df_plot, x=\"virality\", y=\"trust_score\", hue = \"class\")"
   ]
  },
  {
   "cell_type": "code",
   "execution_count": null,
   "metadata": {},
   "outputs": [],
   "source": []
  }
 ],
 "metadata": {
  "kernelspec": {
   "display_name": "Python 3",
   "language": "python",
   "name": "python3"
  },
  "language_info": {
   "codemirror_mode": {
    "name": "ipython",
    "version": 3
   },
   "file_extension": ".py",
   "mimetype": "text/x-python",
   "name": "python",
   "nbconvert_exporter": "python",
   "pygments_lexer": "ipython3",
   "version": "3.7.3"
  }
 },
 "nbformat": 4,
 "nbformat_minor": 4
}
