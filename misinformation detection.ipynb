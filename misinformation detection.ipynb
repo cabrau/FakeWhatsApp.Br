{
 "cells": [
  {
   "cell_type": "markdown",
   "metadata": {},
   "source": [
    "# Experiments with textual misinformation detection using machine learning models\n",
    "In this experiment, we train and test machine learning models for detecting misinformation based purely on the text. We evaluated the performance of 5 classification models with wide use in text classification problems.\n",
    "\n",
    "**Models:**\n",
    "* Logistic regression\n",
    "* Bernoulli Naive-Bayes\n",
    "* Multinomial Naive-Bayes\n",
    "* Linear SVM\n",
    "* KNN\n",
    "* Random forest\n",
    "* Gradient Boosting\n",
    "* Multilayer Perceptron\n",
    "\n",
    "# NOTES TO MYSELF\n",
    "\n",
    "**To do:**\n",
    "* dimensionality reduction: pca, t-sne\n",
    "* hyperparamater tunning; validation\n",
    "\n",
    "**References:**\n",
    "* https://towardsdatascience.com/text-classification-in-python-dd95d264c802\n",
    "* https://github.com/miguelfzafra/Latest-News-Classifier/tree/master/0.%20Latest%20News%20Classifier/04.%20Model%20Training\n"
   ]
  },
  {
   "cell_type": "code",
   "execution_count": 1,
   "metadata": {},
   "outputs": [],
   "source": [
    "#utils\n",
    "import emoji, re, string, time\n",
    "from utils import getTestMetrics\n",
    "import pandas as pd\n",
    "import numpy as np\n",
    "import pickle\n",
    "\n",
    "#nlp\n",
    "import nltk\n",
    "from nltk.corpus import stopwords\n",
    "import spacy\n",
    "\n",
    "#dataviz\n",
    "import matplotlib.pyplot as plt\n",
    "import seaborn as sns\n",
    "\n",
    "#feature extraction\n",
    "from sklearn.feature_extraction.text import TfidfVectorizer\n",
    "from sklearn.feature_extraction.text import CountVectorizer\n",
    "from sklearn.metrics.pairwise import linear_kernel\n",
    "from sklearn import metrics\n",
    "from sklearn.model_selection import train_test_split\n",
    "\n",
    "#models\n",
    "from sklearn.linear_model import LogisticRegression\n",
    "from sklearn.linear_model import SGDClassifier\n",
    "from sklearn.naive_bayes import BernoulliNB\n",
    "from sklearn.naive_bayes import MultinomialNB\n",
    "from sklearn.naive_bayes import ComplementNB\n",
    "from sklearn.ensemble  import RandomForestClassifier\n",
    "from sklearn.neural_network import MLPClassifier\n",
    "from sklearn.ensemble import GradientBoostingClassifier\n",
    "from sklearn.svm import SVC\n",
    "from sklearn.svm import LinearSVC\n",
    "from sklearn.neighbors import KNeighborsClassifier\n",
    "\n",
    "#data balancing\n",
    "from imblearn.over_sampling import SMOTE\n",
    "from imblearn.under_sampling import RandomUnderSampler\n",
    "from imblearn.over_sampling import RandomOverSampler\n",
    "\n",
    "%matplotlib inline\n",
    "sns.set(style=\"darkgrid\")\n",
    "\n",
    "start_time = time.time()"
   ]
  },
  {
   "cell_type": "markdown",
   "metadata": {},
   "source": [
    "## Experiments\n",
    "1. **ml-bow**<br> \n",
    "One of the best so far. Best F1: 0.6429 random forest<br>\n",
    "\n",
    "* **ml-tfidf** <br>\n",
    "Comparable with ml-bow. Best F1: 0.6278 random forest<br>\n",
    "\n",
    "* **ml-tfidf-processed**<br>\n",
    "Comparable with ml-bow and ml-tfidf. The pre-processing didn't had great impact. Precision slightly better.\n",
    "Best F1: 0.6184 random forest<br>\n",
    "\n",
    "* **ml-bow-processed**<br>\n",
    "Same as ml-tfidf-processed. Best F1: 0.6254 random forest  <br>\n",
    "\n",
    "* **ml-tfidf-smote**<br>\n",
    "Good result. Smote improves F1 when using tf-idf. Best F1: 0.6426 random forest<br>\n",
    "\n",
    "* **ml-tfidf-undersampling** <br>\n",
    "Very poor approach. Undersampling is a bad ideia. Increases recall but greatly reduces accuracy. Best F1: 0.3570 bernoulli naive-bayes<br>\n",
    "\n",
    "* **ml-tfidf-processed-smote**<br>\n",
    "Good result. Best F1: 0.6470 random forest <br>\n",
    "\n",
    "* **ml-bow-processed-smote**<br>\n",
    "Poor. Smote does not goes well with bow. Best F1: 0.4037 bernoulli naive-bayes<br>\n",
    "\n",
    "* **ml-bow-random_oversampling**<br>\n",
    "Holy shit!!! This approuch overcame all the expectations! Best F1: 0.9658 random forest\n",
    "\n",
    "* **ml-tfidf-random_oversampling**<br>\n",
    "Very similar with ml-bow-random_oversampling.\n",
    "\n",
    "* **ml-bow-random_oversampling-processed**<br>\n",
    "\n",
    "\n",
    "\n",
    "\n",
    "### Conclusions:\n",
    "* Smote is not the best oversampling technique for text, specially for BOW features\n",
    "* Pre-processing the data didn't appear to have a great impact, despite the great reduction of dimentionality\n",
    "* BOW features are comparably to TF-IDF features\n",
    "* Random oversampling is a great oversampling technique!"
   ]
  },
  {
   "cell_type": "markdown",
   "metadata": {},
   "source": [
    "| experiment                           | best f1                       | best recall                    | best precision               |\n",
    "|--------------------------------------|-------------------------------|--------------------------------|------------------------------|\n",
    "| ml-bow                               | 0.6429 random forest          | 0.6026 mlp                     | 0.8892 random forest         |\n",
    "| ml-tfidf                             | 0.6278 random forest          | 0.569 mlp                      | 0.9287 random forest         |\n",
    "| ml-tfidf-processed                   | 0.6184 random forest          | 0.5227 mlp                     | 0.9345 random forest         |\n",
    "| ml-bow-processed                     | 0.6254 random forest          | 0.5581 mlp                     | 0.8962 random forest         |\n",
    "| ml-tfidf-smote                       | 0.6426 random forest          | 0.8159 multinomial naive-bayes | 0.8095 random forest         |\n",
    "| ml-tfidf-undersampling               | 0.3570 bernoulli naive-bayes  | 0.9949 multinomial naive-bayes | 0.2858 bernoulli naive bayes |\n",
    "| ml-tfidf-processed-smote             | 0.6470 random forest          | 0.7997 multinomial naive-bayes | 0.8211 random forest         |\n",
    "| ml-bow-processed-smote               |  0.4037 bernoulli naive-bayes | 0.6693 knn                     | 0.3288 bernoulli naive-bayes |\n",
    "| ml-bow-random_oversampling           | 0.9647 random forest          | 0.9630 logistic regression     | 0.9742 random forest         |\n",
    "| ml-tfidf-random_oversampling         | 0.9640 random forest          | 0.9659 svm                     | 0.9794 random forest         |\n",
    "| ml-bow-random_oversampling-processed | 0.9552 random forest          | 0.9519 logistic regression     | 0.9687 random forest         |"
   ]
  },
  {
   "cell_type": "code",
   "execution_count": 2,
   "metadata": {},
   "outputs": [],
   "source": [
    "#df.style.background_gradient(cmap='Blues')"
   ]
  },
  {
   "cell_type": "code",
   "execution_count": 3,
   "metadata": {},
   "outputs": [
    {
     "name": "stderr",
     "output_type": "stream",
     "text": [
      "/home/cabral/anaconda3/lib/python3.7/site-packages/IPython/core/interactiveshell.py:3049: DtypeWarning: Columns (3,6) have mixed types.Specify dtype option on import or set low_memory=False.\n",
      "  interactivity=interactivity, compiler=compiler, result=result)\n"
     ]
    },
    {
     "data": {
      "text/html": [
       "<div>\n",
       "<style scoped>\n",
       "    .dataframe tbody tr th:only-of-type {\n",
       "        vertical-align: middle;\n",
       "    }\n",
       "\n",
       "    .dataframe tbody tr th {\n",
       "        vertical-align: top;\n",
       "    }\n",
       "\n",
       "    .dataframe thead th {\n",
       "        text-align: right;\n",
       "    }\n",
       "</style>\n",
       "<table border=\"1\" class=\"dataframe\">\n",
       "  <thead>\n",
       "    <tr style=\"text-align: right;\">\n",
       "      <th></th>\n",
       "      <th>id</th>\n",
       "      <th>date</th>\n",
       "      <th>hour</th>\n",
       "      <th>ddi</th>\n",
       "      <th>country</th>\n",
       "      <th>country_iso3</th>\n",
       "      <th>ddd</th>\n",
       "      <th>state</th>\n",
       "      <th>group</th>\n",
       "      <th>midia</th>\n",
       "      <th>url</th>\n",
       "      <th>characters</th>\n",
       "      <th>words</th>\n",
       "      <th>viral</th>\n",
       "      <th>sharings</th>\n",
       "      <th>text</th>\n",
       "      <th>misinformation</th>\n",
       "    </tr>\n",
       "  </thead>\n",
       "  <tbody>\n",
       "    <tr>\n",
       "      <th>0</th>\n",
       "      <td>3631133147603888180</td>\n",
       "      <td>01/08/18</td>\n",
       "      <td>13:13</td>\n",
       "      <td>55</td>\n",
       "      <td>BRASIL</td>\n",
       "      <td>BRA</td>\n",
       "      <td>17</td>\n",
       "      <td>São Paulo</td>\n",
       "      <td>2018_1</td>\n",
       "      <td>1</td>\n",
       "      <td>0</td>\n",
       "      <td>25</td>\n",
       "      <td>4</td>\n",
       "      <td>0</td>\n",
       "      <td>1</td>\n",
       "      <td>&lt;Arquivo de mídia oculto&gt;</td>\n",
       "      <td>0</td>\n",
       "    </tr>\n",
       "    <tr>\n",
       "      <th>1</th>\n",
       "      <td>3631133147603888180</td>\n",
       "      <td>01/08/18</td>\n",
       "      <td>13:24</td>\n",
       "      <td>55</td>\n",
       "      <td>BRASIL</td>\n",
       "      <td>BRA</td>\n",
       "      <td>17</td>\n",
       "      <td>São Paulo</td>\n",
       "      <td>2018_1</td>\n",
       "      <td>0</td>\n",
       "      <td>0</td>\n",
       "      <td>58</td>\n",
       "      <td>9</td>\n",
       "      <td>1</td>\n",
       "      <td>2</td>\n",
       "      <td>O Bolsonaro tem que estar preparado pra respon...</td>\n",
       "      <td>0</td>\n",
       "    </tr>\n",
       "    <tr>\n",
       "      <th>2</th>\n",
       "      <td>3631133147603888180</td>\n",
       "      <td>01/08/18</td>\n",
       "      <td>13:24</td>\n",
       "      <td>55</td>\n",
       "      <td>BRASIL</td>\n",
       "      <td>BRA</td>\n",
       "      <td>17</td>\n",
       "      <td>São Paulo</td>\n",
       "      <td>2018_1</td>\n",
       "      <td>1</td>\n",
       "      <td>0</td>\n",
       "      <td>25</td>\n",
       "      <td>4</td>\n",
       "      <td>0</td>\n",
       "      <td>1</td>\n",
       "      <td>&lt;Arquivo de mídia oculto&gt;</td>\n",
       "      <td>0</td>\n",
       "    </tr>\n",
       "    <tr>\n",
       "      <th>3</th>\n",
       "      <td>-4391661641377612003</td>\n",
       "      <td>01/08/18</td>\n",
       "      <td>13:28</td>\n",
       "      <td>55</td>\n",
       "      <td>BRASIL</td>\n",
       "      <td>BRA</td>\n",
       "      <td>13</td>\n",
       "      <td>São Paulo</td>\n",
       "      <td>2018_1</td>\n",
       "      <td>0</td>\n",
       "      <td>0</td>\n",
       "      <td>5</td>\n",
       "      <td>1</td>\n",
       "      <td>0</td>\n",
       "      <td>1</td>\n",
       "      <td>Boaaa</td>\n",
       "      <td>0</td>\n",
       "    </tr>\n",
       "    <tr>\n",
       "      <th>4</th>\n",
       "      <td>-4391661641377612003</td>\n",
       "      <td>09/08/18</td>\n",
       "      <td>14:46</td>\n",
       "      <td>55</td>\n",
       "      <td>BRASIL</td>\n",
       "      <td>BRA</td>\n",
       "      <td>13</td>\n",
       "      <td>São Paulo</td>\n",
       "      <td>2018_1</td>\n",
       "      <td>1</td>\n",
       "      <td>0</td>\n",
       "      <td>25</td>\n",
       "      <td>4</td>\n",
       "      <td>0</td>\n",
       "      <td>1</td>\n",
       "      <td>&lt;Arquivo de mídia oculto&gt;</td>\n",
       "      <td>0</td>\n",
       "    </tr>\n",
       "  </tbody>\n",
       "</table>\n",
       "</div>"
      ],
      "text/plain": [
       "                    id      date   hour ddi country country_iso3 ddd  \\\n",
       "0  3631133147603888180  01/08/18  13:13  55  BRASIL          BRA  17   \n",
       "1  3631133147603888180  01/08/18  13:24  55  BRASIL          BRA  17   \n",
       "2  3631133147603888180  01/08/18  13:24  55  BRASIL          BRA  17   \n",
       "3 -4391661641377612003  01/08/18  13:28  55  BRASIL          BRA  13   \n",
       "4 -4391661641377612003  09/08/18  14:46  55  BRASIL          BRA  13   \n",
       "\n",
       "       state   group  midia  url  characters  words  viral  sharings  \\\n",
       "0  São Paulo  2018_1      1    0          25      4      0         1   \n",
       "1  São Paulo  2018_1      0    0          58      9      1         2   \n",
       "2  São Paulo  2018_1      1    0          25      4      0         1   \n",
       "3  São Paulo  2018_1      0    0           5      1      0         1   \n",
       "4  São Paulo  2018_1      1    0          25      4      0         1   \n",
       "\n",
       "                                                text  misinformation  \n",
       "0                          <Arquivo de mídia oculto>               0  \n",
       "1  O Bolsonaro tem que estar preparado pra respon...               0  \n",
       "2                          <Arquivo de mídia oculto>               0  \n",
       "3                                              Boaaa               0  \n",
       "4                          <Arquivo de mídia oculto>               0  "
      ]
     },
     "execution_count": 3,
     "metadata": {},
     "output_type": "execute_result"
    }
   ],
   "source": [
    "base = 2018\n",
    "pre_processed = False\n",
    "experiment = 'ml-tfidf-random_oversampling-processed' #'ml-tfidf-random_oversampling-processed'\n",
    "filepath = 'data/' + str(base) + '/fakeWhatsApp.BR_' + str(base) + '.csv'\n",
    "df = pd.read_csv(filepath)\n",
    "df.head(5)"
   ]
  },
  {
   "cell_type": "markdown",
   "metadata": {},
   "source": [
    "# Corpus statistics"
   ]
  },
  {
   "cell_type": "code",
   "execution_count": 4,
   "metadata": {},
   "outputs": [
    {
     "data": {
      "text/html": [
       "<div>\n",
       "<style scoped>\n",
       "    .dataframe tbody tr th:only-of-type {\n",
       "        vertical-align: middle;\n",
       "    }\n",
       "\n",
       "    .dataframe tbody tr th {\n",
       "        vertical-align: top;\n",
       "    }\n",
       "\n",
       "    .dataframe thead th {\n",
       "        text-align: right;\n",
       "    }\n",
       "</style>\n",
       "<table border=\"1\" class=\"dataframe\">\n",
       "  <thead>\n",
       "    <tr style=\"text-align: right;\">\n",
       "      <th></th>\n",
       "      <th>characters</th>\n",
       "      <th>words</th>\n",
       "      <th>sharings</th>\n",
       "    </tr>\n",
       "  </thead>\n",
       "  <tbody>\n",
       "    <tr>\n",
       "      <th>count</th>\n",
       "      <td>282601.000000</td>\n",
       "      <td>282601.000000</td>\n",
       "      <td>282601.000000</td>\n",
       "    </tr>\n",
       "    <tr>\n",
       "      <th>mean</th>\n",
       "      <td>97.638688</td>\n",
       "      <td>14.962091</td>\n",
       "      <td>1.755716</td>\n",
       "    </tr>\n",
       "    <tr>\n",
       "      <th>std</th>\n",
       "      <td>407.238452</td>\n",
       "      <td>61.842076</td>\n",
       "      <td>5.122241</td>\n",
       "    </tr>\n",
       "    <tr>\n",
       "      <th>min</th>\n",
       "      <td>1.000000</td>\n",
       "      <td>1.000000</td>\n",
       "      <td>1.000000</td>\n",
       "    </tr>\n",
       "    <tr>\n",
       "      <th>25%</th>\n",
       "      <td>25.000000</td>\n",
       "      <td>4.000000</td>\n",
       "      <td>1.000000</td>\n",
       "    </tr>\n",
       "    <tr>\n",
       "      <th>50%</th>\n",
       "      <td>25.000000</td>\n",
       "      <td>4.000000</td>\n",
       "      <td>1.000000</td>\n",
       "    </tr>\n",
       "    <tr>\n",
       "      <th>75%</th>\n",
       "      <td>43.000000</td>\n",
       "      <td>7.000000</td>\n",
       "      <td>1.000000</td>\n",
       "    </tr>\n",
       "    <tr>\n",
       "      <th>max</th>\n",
       "      <td>65536.000000</td>\n",
       "      <td>5486.000000</td>\n",
       "      <td>91.000000</td>\n",
       "    </tr>\n",
       "  </tbody>\n",
       "</table>\n",
       "</div>"
      ],
      "text/plain": [
       "          characters          words       sharings\n",
       "count  282601.000000  282601.000000  282601.000000\n",
       "mean       97.638688      14.962091       1.755716\n",
       "std       407.238452      61.842076       5.122241\n",
       "min         1.000000       1.000000       1.000000\n",
       "25%        25.000000       4.000000       1.000000\n",
       "50%        25.000000       4.000000       1.000000\n",
       "75%        43.000000       7.000000       1.000000\n",
       "max     65536.000000    5486.000000      91.000000"
      ]
     },
     "execution_count": 4,
     "metadata": {},
     "output_type": "execute_result"
    }
   ],
   "source": [
    "df.describe()[['characters','words','sharings']]"
   ]
  },
  {
   "cell_type": "code",
   "execution_count": 5,
   "metadata": {},
   "outputs": [],
   "source": [
    "texts = df[df['midia']==0]['text']\n",
    "y = df[df['midia']==0]['misinformation']"
   ]
  },
  {
   "cell_type": "code",
   "execution_count": 6,
   "metadata": {},
   "outputs": [
    {
     "name": "stdout",
     "output_type": "stream",
     "text": [
      "total data\n"
     ]
    },
    {
     "data": {
      "image/png": "[encoded data removed]",
      "text/plain": [
       "<Figure size 432x288 with 1 Axes>"
      ]
     },
     "metadata": {
      "needs_background": "light"
     },
     "output_type": "display_data"
    }
   ],
   "source": [
    "print('total data')\n",
    "pos_mask = y == 1 \n",
    "pos = y[pos_mask]\n",
    "neg_mask = y == 0 \n",
    "neg = y[neg_mask]\n",
    "values = [pos.shape[0],neg.shape[0]]\n",
    "keys = ['misinformation', 'non-misinformation']\n",
    "g = sns.barplot(x = keys, y = values)\n",
    "for p in g.patches:\n",
    "    g.annotate(format(p.get_height(), '.0f'), (p.get_x() + p.get_width() / 2., \n",
    "                                               p.get_height()), ha = 'center', \n",
    "               va = 'center', xytext = (0, 5), textcoords = 'offset points')"
   ]
  },
  {
   "cell_type": "code",
   "execution_count": 7,
   "metadata": {},
   "outputs": [
    {
     "name": "stdout",
     "output_type": "stream",
     "text": [
      "data after remove duplicates\n"
     ]
    },
    {
     "data": {
      "image/png": "[encoded data removed]",
      "text/plain": [
       "<Figure size 432x288 with 1 Axes>"
      ]
     },
     "metadata": {
      "needs_background": "light"
     },
     "output_type": "display_data"
    }
   ],
   "source": [
    "#removing duplicates\n",
    "if 'random_oversampling' in experiment:\n",
    "    df_neg = df[df['misinformation']==0].drop_duplicates(subset=['text'])\n",
    "    df_pos = df[df['misinformation']==1]\n",
    "    df = pd.concat([df_neg,df_pos])\n",
    "    df = df.sample(frac=1).reset_index(drop=True) \n",
    "\n",
    "else:\n",
    "    df = df.drop_duplicates(subset=['text'])\n",
    "    \n",
    "texts = df[df['midia']==0]['text']\n",
    "y = df[df['midia']==0]['misinformation']\n",
    "\n",
    "print('data after remove duplicates')\n",
    "pos_mask = y == 1 \n",
    "pos = y[pos_mask]\n",
    "neg_mask = y == 0 \n",
    "neg = y[neg_mask]\n",
    "values = [pos.shape[0],neg.shape[0]]\n",
    "keys = ['misinformation', 'non-misinformation']\n",
    "g = sns.barplot(x = keys, y = values)\n",
    "for p in g.patches:\n",
    "    g.annotate(format(p.get_height(), '.0f'), (p.get_x() + p.get_width() / 2., \n",
    "                                               p.get_height()), ha = 'center', \n",
    "               va = 'center', xytext = (0, 5), textcoords = 'offset points')"
   ]
  },
  {
   "cell_type": "code",
   "execution_count": 8,
   "metadata": {},
   "outputs": [
    {
     "name": "stdout",
     "output_type": "stream",
     "text": [
      "122882\n",
      "122882\n"
     ]
    }
   ],
   "source": [
    "print(len(texts))\n",
    "print(len(y))"
   ]
  },
  {
   "cell_type": "markdown",
   "metadata": {},
   "source": [
    "# Pre-processing\n",
    "* convert url in just the domain\n",
    "* separate emojis\n",
    "* punctuation"
   ]
  },
  {
   "cell_type": "markdown",
   "metadata": {},
   "source": [
    "[Some suggestions in this work](https://github.com/miguelfzafra/Latest-News-Classifier/blob/master/0.%20Latest%20News%20Classifier/03.%20Feature%20Engineering/03.%20Feature%20Engineering.ipynb)\n",
    "\n",
    "* **Special character cleaning**\n",
    "\n",
    "* **Upcase/downcase**\n",
    "\n",
    "* **Punctuation signs** \n",
    "\n",
    "* **Possessive pronouns**\n",
    "\n",
    "* **Stemming or Lemmatization**\n",
    "\n",
    "* **Stop words**"
   ]
  },
  {
   "cell_type": "code",
   "execution_count": 9,
   "metadata": {},
   "outputs": [],
   "source": [
    "#emojis and punctuation\n",
    "emojis_list = list(emoji.UNICODE_EMOJI.keys())\n",
    "punct = list(string.punctuation)\n",
    "emojis_punct = emojis_list + punct\n",
    "\n",
    "def processEmojisPunctuation(text, remove_punct = True):\n",
    "    '''\n",
    "    Put spaces between emojis. Removes punctuation.\n",
    "    '''\n",
    "    #get all unique chars\n",
    "    chars = set(text)\n",
    "    #for each unique char in text, do:\n",
    "    for c in chars:\n",
    "        #remove punctuation\n",
    "        if remove_punct:\n",
    "            if c in emojis_list:\n",
    "                text = text.replace(c, ' ' + c + ' ')\n",
    "            if c in punct:\n",
    "                text = text.replace(c, ' ')\n",
    "                \n",
    "        #put spaces between punctuation\n",
    "        else:\n",
    "            if c in emojis_punct:\n",
    "                text = text.replace(c, ' ' + c + ' ')          \n",
    "            \n",
    "    text = text.replace('  ', ' ')\n",
    "    return text\n",
    "\n",
    "#stop words removal\n",
    "stop_words = list(stopwords.words('portuguese'))\n",
    "new_stopwords = ['aí','pra','vão','vou','onde','lá','aqui',\n",
    "                 'tá','pode','pois','so','deu','agora','todo',\n",
    "                 'nao','ja','vc', 'bom', 'ai','kkk','kkkk','ta', 'voce', 'alguem', 'ne', 'pq',\n",
    "                 'cara','to','mim','la','vcs','tbm', 'tudo']\n",
    "stop_words = stop_words + new_stopwords\n",
    "final_stop_words = []\n",
    "for sw in stop_words:\n",
    "    sw = ' '+ sw + ' '\n",
    "    final_stop_words.append(sw)\n",
    "\n",
    "def removeStopwords(text):\n",
    "    for sw in final_stop_words:\n",
    "        text = text.replace(sw,' ')\n",
    "    text = text.replace('  ',' ')\n",
    "    return text\n",
    "\n",
    "#lemmatization\n",
    "nlp = spacy.load('pt_core_news_sm')\n",
    "def lemmatization(text):\n",
    "    doc = nlp(text)\n",
    "    for token in doc:\n",
    "        if token.text != token.lemma_:\n",
    "            text = text.replace(token.text, token.lemma_)\n",
    "    return text\n",
    "    \n",
    "\n",
    "def domainUrl(text):\n",
    "    '''\n",
    "    Substitutes an URL in a text for the domain of this URL\n",
    "    Input: an string\n",
    "    Output: the string with the modified URL\n",
    "    '''    \n",
    "    if 'http' in text:\n",
    "        re_url = '[^\\s]*https*://[^\\s]*'\n",
    "        matches = re.findall(re_url, text, flags=re.IGNORECASE)\n",
    "        for m in matches:\n",
    "            domain = m.split('//')\n",
    "            domain = domain[1].split('/')[0]\n",
    "            text = re.sub(re_url, domain, text, 1)\n",
    "        return text\n",
    "    else:\n",
    "        return text \n",
    "\n",
    "def preprocess(text):\n",
    "    text = text.lower().strip()\n",
    "    text = domainUrl(text)\n",
    "    text = processEmojisPunctuation(text)\n",
    "    text = removeStopwords(text)\n",
    "    text = lemmatization(text)\n",
    "    return text\n",
    "           "
   ]
  },
  {
   "cell_type": "code",
   "execution_count": 10,
   "metadata": {},
   "outputs": [],
   "source": [
    "#if experiment is with pre-processed text\n",
    "if 'processed' in experiment:\n",
    "        #text was already pre-processed\n",
    "        if pre_processed:\n",
    "            pro_texts = pickle.load(open( \"data/2018/processed_texts_random-oversampling.p\", \"rb\" ))            \n",
    "        else:\n",
    "            pro_texts = [preprocess(t) for t in texts]\n",
    "            pickle.dump(pro_texts, open( \"data/2018/processed_texts_random-oversampling.p\", \"wb\" ))\n",
    "else:\n",
    "    pro_texts = [t for t in texts]"
   ]
  },
  {
   "cell_type": "code",
   "execution_count": 11,
   "metadata": {},
   "outputs": [
    {
     "data": {
      "text/plain": [
       "[('amar todo grupar pessoal 😭 😭 😭 😭 ', 'Amo todos aqui do grupo pessoal 😭😭😭😭'),\n",
       " (' 👍 🏼 👍 🏼 👍 🏼 👍 🏼 1⃣7⃣ ☑ ', '👍🏼👍🏼👍🏼👍🏼1⃣7⃣☑'),\n",
       " ('galera ', 'Galera !'),\n",
       " ('bomba \\ncid gomar irmão ciro gomar atacar violentamente pt \\nmal palancar haddad  \\nser bolsonaro nele \\n 🇧 🇷 😎 🇧 🇷 😎 🇧 🇷 😎 🇧 🇷 ',\n",
       "  'BOMBA!!!\\nCID GOMES IRMÃO DO CIRO GOMES ATACA VIOLENTAMENTE O PT....\\nPIOR....NO PALANQUE DO HADDAD!!!!!\\nÉ BOLSONARO NELES!!!\\n🇧🇷😎🇧🇷😎🇧🇷😎🇧🇷'),\n",
       " ('www youtube com',\n",
       "  'https://www.youtube.com/watch?v=yeF3P-rCWmU&feature=youtu.be'),\n",
       " ('oo ver pessoo comemorondo comportomento eleitorol nordeste trogo olguns dodo interessontes \\n\\no sete estodo piorar idh indice desenvolvimento humono ordem \\n21 bohio \\n22 poroíbo \\n23 sergipe \\n24 piouí \\n24 moronhão \\n26 porá \\n27 ologoo \\n\\no sete estodo moiores indices pobrezo extremo \\n21 ceorá 18 4 \\n22 ocre 18 9 \\n23 porá porá 19 2 \\n24 omozono 19 3 \\n25 ologoo 20 5 \\n26 piouí 21 6 \\n27 moronhão 26 3 \\n\\no sete estodo piorar indices educoção \\n21 sergipe \\n22 ocre \\n23 bohio \\n24 poroíbo \\n25 piouí \\n26 porá \\n27 ologoo \\n\\no cincar estodo beneficiodo bolso fomílio \\nmoronhão \\npiouí \\nocre \\nporoíbo \\nporá \\n\\nser podrão \\n\\nvemo região reduto pt cloromente pobre menor idh grou escoloridode dependente ouxilio estodo \\n\\nnão decorrer voto bom governo sim medo perdo ouxilio estotol \\n\\nser devemo comemoror ',\n",
       "  'Ao ver as pessoas comemorando o comportamento eleitoral do nordeste, trago alguns dados interessantes:\\n\\nOs sete estados com piores IDH (indice de desenvolvimento Humano) são, em ordem:\\n21  Bahia (NE)\\n22  Paraíba (NE)\\n23  Sergipe (NE)\\n24  Piauí (NE)\\n24  Maranhão (NE)\\n26  Pará \\n27  Alagoas (NE)\\n\\nOs sete estados com maiores indices de pobreza extrema:\\n21  Ceará 18,4%  (NE)\\n22  Acre 18,9%  \\n23 Pará Pará 19,2%  \\n24  Amazonas 19,3%  \\n25  Alagoas 20,5%  (NE)\\n26  Piauí 21,6%  (NE)\\n27  Maranhão 26,3% (NE)\\n\\nOs sete estados com piores indices de educação:\\n21 Sergipe (NE)\\n22 Acre \\n23 Bahia (NE)\\n24 Paraíba (NE)\\n25 Piauí (NE)\\n26 Pará \\n27 Alagoas (NE)\\n\\nOs cinco estados mais beneficiados pelo bolsa família:\\nMaranhão; (NE)\\nPiauí; (NE)\\nAcre;\\nParaíba; (NE)\\nPará.\\n\\nSerá que temos um padrão? \\n\\nVemos que as regiões redutos do PT, são claramente as mais pobres, com menor IDH, grau de escolaridade e dependentes de auxilio do estado.\\n\\nNão decorrem os votos de bons governos, mas sim, do medo da perda do auxilio estatal.\\n\\nSerá que devemos comemorar mesmo?'),\n",
       " (' 👏 🏻 👏 🏻 👏 🏻 👏 🏻 👏 🏻 👏 🏻 👏 🏻 👏 🏻 👏 🏻 🔰 🔰 🔰 🔰 🔰 🔰 🔰 ',\n",
       "  '👏🏻👏🏻👏🏻👏🏻👏🏻👏🏻👏🏻👏🏻👏🏻🔰🔰🔰🔰🔰🔰🔰'),\n",
       " ('m facebook com',\n",
       "  'https://m.facebook.com/story.php?story_fbid=1033943146796593&id=323983461125902&anchor_composer=false'),\n",
       " ('galera poder incluir amigar grupar lembrar rodrigar \\nele problema drogar contar atualmente recuperar limpar super bom mandar salvar todo ',\n",
       "  'Galera, podem incluir um amigo nosso no grupo? Lembram do Rodrigo ?! \\nEle teve problemas com drogas, mas, pelo que ele me contou, atualmente ele já está recuperado, limpo e super de boa... Mandou um salve pra todos vcs...'),\n",
       " ('viver rj tranquilo questao adaptacao 🤪 🤔 🤔 ',\n",
       "  'Viver no RJ e tranquilo....So uma questao de adaptacao🤪🤔🤔')]"
      ]
     },
     "execution_count": 11,
     "metadata": {},
     "output_type": "execute_result"
    }
   ],
   "source": [
    "list(zip(pro_texts[0:10], texts[0:10]))"
   ]
  },
  {
   "cell_type": "code",
   "execution_count": 12,
   "metadata": {},
   "outputs": [
    {
     "name": "stdout",
     "output_type": "stream",
     "text": [
      "122882\n",
      "122882\n"
     ]
    }
   ],
   "source": [
    "print(len(pro_texts))\n",
    "print(len(y))"
   ]
  },
  {
   "cell_type": "markdown",
   "metadata": {},
   "source": [
    "## Train-test split"
   ]
  },
  {
   "cell_type": "code",
   "execution_count": 13,
   "metadata": {},
   "outputs": [],
   "source": [
    "#random state = 42 for reprudictibility\n",
    "texts_train, texts_test, y_train, y_test = train_test_split(pro_texts, y, test_size=0.3, \n",
    "                                                                    stratify = y, random_state=42)\n",
    "\n",
    "full_texts_train, full_texts_test, y_train, y_test = train_test_split(texts, y, test_size=0.3, \n",
    "                                                                    stratify = y, random_state=42)"
   ]
  },
  {
   "cell_type": "markdown",
   "metadata": {},
   "source": [
    "## Vectorization and data balancing"
   ]
  },
  {
   "cell_type": "code",
   "execution_count": 14,
   "metadata": {},
   "outputs": [],
   "source": [
    "if 'tfidf' in experiment:\n",
    "    #TF-IDF\n",
    "    vectorizer = TfidfVectorizer()\n",
    "elif 'bow' in experiment:\n",
    "    vectorizer = CountVectorizer(binary=True)\n",
    "\n",
    "vectorizer.fit(texts_train)   \n",
    "X_train = vectorizer.transform(texts_train)\n",
    "X_test = vectorizer.transform(texts_test)"
   ]
  },
  {
   "cell_type": "code",
   "execution_count": 15,
   "metadata": {},
   "outputs": [
    {
     "data": {
      "text/plain": [
       "(155606, 55595)"
      ]
     },
     "execution_count": 15,
     "metadata": {},
     "output_type": "execute_result"
    }
   ],
   "source": [
    "if 'smote' in experiment:\n",
    "    #oversampling with SMOTE\n",
    "    sm = SMOTE(random_state = 42)\n",
    "    X_train, y_train = sm.fit_resample(X_train, y_train)\n",
    "elif 'undersampling' in experiment:\n",
    "    rus = RandomUnderSampler(random_state = 42)\n",
    "    X_train, y_train = rus.fit_resample(X_train, y_train)\n",
    "elif 'random_oversampling' in experiment:\n",
    "    ros = RandomOverSampler(random_state=42)\n",
    "    X_train, y_train = ros.fit_resample(X_train, y_train)\n",
    "    \n",
    "X_train.shape"
   ]
  },
  {
   "cell_type": "code",
   "execution_count": 16,
   "metadata": {},
   "outputs": [
    {
     "data": {
      "text/plain": [
       "55595"
      ]
     },
     "execution_count": 16,
     "metadata": {},
     "output_type": "execute_result"
    }
   ],
   "source": [
    "vocab_size = X_train.shape[1]\n",
    "vocab_size"
   ]
  },
  {
   "cell_type": "markdown",
   "metadata": {},
   "source": [
    "## Metrics"
   ]
  },
  {
   "cell_type": "code",
   "execution_count": 17,
   "metadata": {},
   "outputs": [],
   "source": [
    "scenario = []\n",
    "model = []\n",
    "accuracy_score = []\n",
    "precision_score = []\n",
    "recall_score = []\n",
    "f1_score = []\n",
    "auc_score = []"
   ]
  },
  {
   "cell_type": "markdown",
   "metadata": {},
   "source": [
    "## Models training and test"
   ]
  },
  {
   "cell_type": "code",
   "execution_count": 18,
   "metadata": {},
   "outputs": [
    {
     "name": "stdout",
     "output_type": "stream",
     "text": [
      "Logistic Regression\n"
     ]
    },
    {
     "name": "stderr",
     "output_type": "stream",
     "text": [
      "/home/cabral/anaconda3/lib/python3.7/site-packages/sklearn/linear_model/_logistic.py:764: ConvergenceWarning: lbfgs failed to converge (status=1):\n",
      "STOP: TOTAL NO. of ITERATIONS REACHED LIMIT.\n",
      "\n",
      "Increase the number of iterations (max_iter) or scale the data as shown in:\n",
      "    https://scikit-learn.org/stable/modules/preprocessing.html\n",
      "Please also refer to the documentation for alternative solver options:\n",
      "    https://scikit-learn.org/stable/modules/linear_model.html#logistic-regression\n",
      "  extra_warning_msg=_LOGISTIC_SOLVER_CONVERGENCE_MSG)\n"
     ]
    },
    {
     "name": "stdout",
     "output_type": "stream",
     "text": [
      "              precision    recall  f1-score   support\n",
      "\n",
      "           0       1.00      0.95      0.97     33345\n",
      "           1       0.65      0.96      0.77      3520\n",
      "\n",
      "    accuracy                           0.95     36865\n",
      "   macro avg       0.82      0.95      0.87     36865\n",
      "weighted avg       0.96      0.95      0.95     36865\n",
      "\n",
      "AUC:  0.984074022955602\n"
     ]
    },
    {
     "data": {
      "image/png": "[encoded data removed]",
      "text/plain": [
       "<Figure size 1080x360 with 3 Axes>"
      ]
     },
     "metadata": {
      "needs_background": "light"
     },
     "output_type": "display_data"
    }
   ],
   "source": [
    "print('Logistic Regression')\n",
    "logreg = LogisticRegression().fit(X_train, y_train)\n",
    "y_pred = logreg.predict(X_test)\n",
    "y_prob = logreg.predict_proba(X_test)[:,1]\n",
    "acc, precision, recall, f1, roc_auc = getTestMetrics(y_test, y_pred, y_prob)\n",
    "\n",
    "model.append('logistic regression')\n",
    "accuracy_score.append(acc)\n",
    "precision_score.append(precision)\n",
    "recall_score.append(recall)\n",
    "f1_score.append(f1)\n",
    "auc_score.append(roc_auc)"
   ]
  },
  {
   "cell_type": "code",
   "execution_count": 19,
   "metadata": {},
   "outputs": [
    {
     "name": "stdout",
     "output_type": "stream",
     "text": [
      "Bernoulli Naive-Bayes\n",
      "              precision    recall  f1-score   support\n",
      "\n",
      "           0       0.95      0.96      0.95     33345\n",
      "           1       0.57      0.49      0.53      3520\n",
      "\n",
      "    accuracy                           0.92     36865\n",
      "   macro avg       0.76      0.73      0.74     36865\n",
      "weighted avg       0.91      0.92      0.91     36865\n",
      "\n",
      "AUC:  0.9309352124483703\n"
     ]
    },
    {
     "data": {
      "image/png": "[encoded data removed]",
      "text/plain": [
       "<Figure size 1080x360 with 3 Axes>"
      ]
     },
     "metadata": {
      "needs_background": "light"
     },
     "output_type": "display_data"
    }
   ],
   "source": [
    "print('Bernoulli Naive-Bayes')\n",
    "bnb = BernoulliNB().fit(X_train, y_train)\n",
    "y_pred = bnb.predict(X_test)\n",
    "y_prob = bnb.predict_proba(X_test)[:,1]\n",
    "acc, precision, recall, f1, roc_auc = getTestMetrics(y_test, y_pred, y_prob)\n",
    "\n",
    "model.append('bernoulli naive-bayes')\n",
    "accuracy_score.append(acc)\n",
    "precision_score.append(precision)\n",
    "recall_score.append(recall)\n",
    "f1_score.append(f1)\n",
    "auc_score.append(roc_auc)"
   ]
  },
  {
   "cell_type": "code",
   "execution_count": 20,
   "metadata": {},
   "outputs": [
    {
     "name": "stdout",
     "output_type": "stream",
     "text": [
      "Multinomial Naive-Bayes\n",
      "              precision    recall  f1-score   support\n",
      "\n",
      "           0       0.99      0.81      0.89     33345\n",
      "           1       0.33      0.91      0.49      3520\n",
      "\n",
      "    accuracy                           0.82     36865\n",
      "   macro avg       0.66      0.86      0.69     36865\n",
      "weighted avg       0.93      0.82      0.85     36865\n",
      "\n",
      "AUC:  0.9428548814733025\n"
     ]
    },
    {
     "data": {
      "image/png": "[encoded data removed]",
      "text/plain": [
       "<Figure size 1080x360 with 3 Axes>"
      ]
     },
     "metadata": {
      "needs_background": "light"
     },
     "output_type": "display_data"
    }
   ],
   "source": [
    "print('Multinomial Naive-Bayes')\n",
    "mnb = MultinomialNB().fit(X_train, y_train)\n",
    "y_pred = mnb.predict(X_test)\n",
    "y_prob = mnb.predict_proba(X_test)[:,1]\n",
    "acc, precision, recall, f1, roc_auc = getTestMetrics(y_test, y_pred, y_prob)\n",
    "\n",
    "model.append('multinomial naive-bayes')\n",
    "accuracy_score.append(acc)\n",
    "precision_score.append(precision)\n",
    "recall_score.append(recall)\n",
    "f1_score.append(f1)\n",
    "auc_score.append(roc_auc)"
   ]
  },
  {
   "cell_type": "code",
   "execution_count": 21,
   "metadata": {},
   "outputs": [
    {
     "name": "stdout",
     "output_type": "stream",
     "text": [
      "Linear Support Vector Machine\n",
      "              precision    recall  f1-score   support\n",
      "\n",
      "           0       1.00      0.96      0.98     33345\n",
      "           1       0.74      0.97      0.84      3520\n",
      "\n",
      "    accuracy                           0.96     36865\n",
      "   macro avg       0.87      0.97      0.91     36865\n",
      "weighted avg       0.97      0.96      0.97     36865\n",
      "\n"
     ]
    },
    {
     "data": {
      "image/png": "[encoded data removed]",
      "text/plain": [
       "<Figure size 1080x360 with 2 Axes>"
      ]
     },
     "metadata": {
      "needs_background": "light"
     },
     "output_type": "display_data"
    }
   ],
   "source": [
    "print('Linear Support Vector Machine')\n",
    "svm = LinearSVC().fit(X_train, y_train)\n",
    "y_pred = svm.predict(X_test)\n",
    "#y_prob = svm.predict_proba(X_test)[:,1]\n",
    "acc, precision, recall, f1, roc_auc = getTestMetrics(y_test, y_pred)\n",
    "\n",
    "model.append('linear svm')\n",
    "accuracy_score.append(acc)\n",
    "precision_score.append(precision)\n",
    "recall_score.append(recall)\n",
    "f1_score.append(f1)\n",
    "auc_score.append(roc_auc)"
   ]
  },
  {
   "cell_type": "code",
   "execution_count": 22,
   "metadata": {},
   "outputs": [
    {
     "name": "stdout",
     "output_type": "stream",
     "text": [
      "KNN\n"
     ]
    },
    {
     "ename": "KeyboardInterrupt",
     "evalue": "",
     "output_type": "error",
     "traceback": [
      "\u001b[0;31m---------------------------------------------------------------------------\u001b[0m",
      "\u001b[0;31mKeyboardInterrupt\u001b[0m                         Traceback (most recent call last)",
      "\u001b[0;32m<ipython-input-22-766c1473e21a>\u001b[0m in \u001b[0;36m<module>\u001b[0;34m\u001b[0m\n\u001b[1;32m      2\u001b[0m \u001b[0mrf\u001b[0m \u001b[0;34m=\u001b[0m \u001b[0mKNeighborsClassifier\u001b[0m\u001b[0;34m(\u001b[0m\u001b[0;34m)\u001b[0m\u001b[0;34m.\u001b[0m\u001b[0mfit\u001b[0m\u001b[0;34m(\u001b[0m\u001b[0mX_train\u001b[0m\u001b[0;34m,\u001b[0m \u001b[0my_train\u001b[0m\u001b[0;34m)\u001b[0m\u001b[0;34m\u001b[0m\u001b[0;34m\u001b[0m\u001b[0m\n\u001b[1;32m      3\u001b[0m \u001b[0my_pred\u001b[0m \u001b[0;34m=\u001b[0m \u001b[0mrf\u001b[0m\u001b[0;34m.\u001b[0m\u001b[0mpredict\u001b[0m\u001b[0;34m(\u001b[0m\u001b[0mX_test\u001b[0m\u001b[0;34m)\u001b[0m\u001b[0;34m\u001b[0m\u001b[0;34m\u001b[0m\u001b[0m\n\u001b[0;32m----> 4\u001b[0;31m \u001b[0my_prob\u001b[0m \u001b[0;34m=\u001b[0m \u001b[0mrf\u001b[0m\u001b[0;34m.\u001b[0m\u001b[0mpredict_proba\u001b[0m\u001b[0;34m(\u001b[0m\u001b[0mX_test\u001b[0m\u001b[0;34m)\u001b[0m\u001b[0;34m[\u001b[0m\u001b[0;34m:\u001b[0m\u001b[0;34m,\u001b[0m\u001b[0;36m1\u001b[0m\u001b[0;34m]\u001b[0m\u001b[0;34m\u001b[0m\u001b[0;34m\u001b[0m\u001b[0m\n\u001b[0m\u001b[1;32m      5\u001b[0m \u001b[0macc\u001b[0m\u001b[0;34m,\u001b[0m \u001b[0mprecision\u001b[0m\u001b[0;34m,\u001b[0m \u001b[0mrecall\u001b[0m\u001b[0;34m,\u001b[0m \u001b[0mf1\u001b[0m\u001b[0;34m,\u001b[0m \u001b[0mroc_auc\u001b[0m \u001b[0;34m=\u001b[0m \u001b[0mgetTestMetrics\u001b[0m\u001b[0;34m(\u001b[0m\u001b[0my_test\u001b[0m\u001b[0;34m,\u001b[0m \u001b[0my_pred\u001b[0m\u001b[0;34m,\u001b[0m \u001b[0my_prob\u001b[0m\u001b[0;34m)\u001b[0m\u001b[0;34m\u001b[0m\u001b[0;34m\u001b[0m\u001b[0m\n\u001b[1;32m      6\u001b[0m \u001b[0;34m\u001b[0m\u001b[0m\n",
      "\u001b[0;32m~/anaconda3/lib/python3.7/site-packages/sklearn/neighbors/_classification.py\u001b[0m in \u001b[0;36mpredict_proba\u001b[0;34m(self, X)\u001b[0m\n\u001b[1;32m    217\u001b[0m         \u001b[0mX\u001b[0m \u001b[0;34m=\u001b[0m \u001b[0mcheck_array\u001b[0m\u001b[0;34m(\u001b[0m\u001b[0mX\u001b[0m\u001b[0;34m,\u001b[0m \u001b[0maccept_sparse\u001b[0m\u001b[0;34m=\u001b[0m\u001b[0;34m'csr'\u001b[0m\u001b[0;34m)\u001b[0m\u001b[0;34m\u001b[0m\u001b[0;34m\u001b[0m\u001b[0m\n\u001b[1;32m    218\u001b[0m \u001b[0;34m\u001b[0m\u001b[0m\n\u001b[0;32m--> 219\u001b[0;31m         \u001b[0mneigh_dist\u001b[0m\u001b[0;34m,\u001b[0m \u001b[0mneigh_ind\u001b[0m \u001b[0;34m=\u001b[0m \u001b[0mself\u001b[0m\u001b[0;34m.\u001b[0m\u001b[0mkneighbors\u001b[0m\u001b[0;34m(\u001b[0m\u001b[0mX\u001b[0m\u001b[0;34m)\u001b[0m\u001b[0;34m\u001b[0m\u001b[0;34m\u001b[0m\u001b[0m\n\u001b[0m\u001b[1;32m    220\u001b[0m \u001b[0;34m\u001b[0m\u001b[0m\n\u001b[1;32m    221\u001b[0m         \u001b[0mclasses_\u001b[0m \u001b[0;34m=\u001b[0m \u001b[0mself\u001b[0m\u001b[0;34m.\u001b[0m\u001b[0mclasses_\u001b[0m\u001b[0;34m\u001b[0m\u001b[0;34m\u001b[0m\u001b[0m\n",
      "\u001b[0;32m~/anaconda3/lib/python3.7/site-packages/sklearn/neighbors/_base.py\u001b[0m in \u001b[0;36mkneighbors\u001b[0;34m(self, X, n_neighbors, return_distance)\u001b[0m\n\u001b[1;32m    642\u001b[0m                 \u001b[0mX\u001b[0m\u001b[0;34m,\u001b[0m \u001b[0mself\u001b[0m\u001b[0;34m.\u001b[0m\u001b[0m_fit_X\u001b[0m\u001b[0;34m,\u001b[0m \u001b[0mreduce_func\u001b[0m\u001b[0;34m=\u001b[0m\u001b[0mreduce_func\u001b[0m\u001b[0;34m,\u001b[0m\u001b[0;34m\u001b[0m\u001b[0;34m\u001b[0m\u001b[0m\n\u001b[1;32m    643\u001b[0m                 \u001b[0mmetric\u001b[0m\u001b[0;34m=\u001b[0m\u001b[0mself\u001b[0m\u001b[0;34m.\u001b[0m\u001b[0meffective_metric_\u001b[0m\u001b[0;34m,\u001b[0m \u001b[0mn_jobs\u001b[0m\u001b[0;34m=\u001b[0m\u001b[0mn_jobs\u001b[0m\u001b[0;34m,\u001b[0m\u001b[0;34m\u001b[0m\u001b[0;34m\u001b[0m\u001b[0m\n\u001b[0;32m--> 644\u001b[0;31m                 **kwds))\n\u001b[0m\u001b[1;32m    645\u001b[0m \u001b[0;34m\u001b[0m\u001b[0m\n\u001b[1;32m    646\u001b[0m         \u001b[0;32melif\u001b[0m \u001b[0mself\u001b[0m\u001b[0;34m.\u001b[0m\u001b[0m_fit_method\u001b[0m \u001b[0;32min\u001b[0m \u001b[0;34m[\u001b[0m\u001b[0;34m'ball_tree'\u001b[0m\u001b[0;34m,\u001b[0m \u001b[0;34m'kd_tree'\u001b[0m\u001b[0;34m]\u001b[0m\u001b[0;34m:\u001b[0m\u001b[0;34m\u001b[0m\u001b[0;34m\u001b[0m\u001b[0m\n",
      "\u001b[0;32m~/anaconda3/lib/python3.7/site-packages/sklearn/metrics/pairwise.py\u001b[0m in \u001b[0;36mpairwise_distances_chunked\u001b[0;34m(X, Y, reduce_func, metric, n_jobs, working_memory, **kwds)\u001b[0m\n\u001b[1;32m   1615\u001b[0m             \u001b[0mX_chunk\u001b[0m \u001b[0;34m=\u001b[0m \u001b[0mX\u001b[0m\u001b[0;34m[\u001b[0m\u001b[0msl\u001b[0m\u001b[0;34m]\u001b[0m\u001b[0;34m\u001b[0m\u001b[0;34m\u001b[0m\u001b[0m\n\u001b[1;32m   1616\u001b[0m         D_chunk = pairwise_distances(X_chunk, Y, metric=metric,\n\u001b[0;32m-> 1617\u001b[0;31m                                      n_jobs=n_jobs, **kwds)\n\u001b[0m\u001b[1;32m   1618\u001b[0m         if ((X is Y or Y is None)\n\u001b[1;32m   1619\u001b[0m                 \u001b[0;32mand\u001b[0m \u001b[0mPAIRWISE_DISTANCE_FUNCTIONS\u001b[0m\u001b[0;34m.\u001b[0m\u001b[0mget\u001b[0m\u001b[0;34m(\u001b[0m\u001b[0mmetric\u001b[0m\u001b[0;34m,\u001b[0m \u001b[0;32mNone\u001b[0m\u001b[0;34m)\u001b[0m\u001b[0;34m\u001b[0m\u001b[0;34m\u001b[0m\u001b[0m\n",
      "\u001b[0;32m~/anaconda3/lib/python3.7/site-packages/sklearn/utils/validation.py\u001b[0m in \u001b[0;36minner_f\u001b[0;34m(*args, **kwargs)\u001b[0m\n\u001b[1;32m     70\u001b[0m                           FutureWarning)\n\u001b[1;32m     71\u001b[0m         \u001b[0mkwargs\u001b[0m\u001b[0;34m.\u001b[0m\u001b[0mupdate\u001b[0m\u001b[0;34m(\u001b[0m\u001b[0;34m{\u001b[0m\u001b[0mk\u001b[0m\u001b[0;34m:\u001b[0m \u001b[0marg\u001b[0m \u001b[0;32mfor\u001b[0m \u001b[0mk\u001b[0m\u001b[0;34m,\u001b[0m \u001b[0marg\u001b[0m \u001b[0;32min\u001b[0m \u001b[0mzip\u001b[0m\u001b[0;34m(\u001b[0m\u001b[0msig\u001b[0m\u001b[0;34m.\u001b[0m\u001b[0mparameters\u001b[0m\u001b[0;34m,\u001b[0m \u001b[0margs\u001b[0m\u001b[0;34m)\u001b[0m\u001b[0;34m}\u001b[0m\u001b[0;34m)\u001b[0m\u001b[0;34m\u001b[0m\u001b[0;34m\u001b[0m\u001b[0m\n\u001b[0;32m---> 72\u001b[0;31m         \u001b[0;32mreturn\u001b[0m \u001b[0mf\u001b[0m\u001b[0;34m(\u001b[0m\u001b[0;34m**\u001b[0m\u001b[0mkwargs\u001b[0m\u001b[0;34m)\u001b[0m\u001b[0;34m\u001b[0m\u001b[0;34m\u001b[0m\u001b[0m\n\u001b[0m\u001b[1;32m     73\u001b[0m     \u001b[0;32mreturn\u001b[0m \u001b[0minner_f\u001b[0m\u001b[0;34m\u001b[0m\u001b[0;34m\u001b[0m\u001b[0m\n\u001b[1;32m     74\u001b[0m \u001b[0;34m\u001b[0m\u001b[0m\n",
      "\u001b[0;32m~/anaconda3/lib/python3.7/site-packages/sklearn/metrics/pairwise.py\u001b[0m in \u001b[0;36mpairwise_distances\u001b[0;34m(X, Y, metric, n_jobs, force_all_finite, **kwds)\u001b[0m\n\u001b[1;32m   1777\u001b[0m         \u001b[0mfunc\u001b[0m \u001b[0;34m=\u001b[0m \u001b[0mpartial\u001b[0m\u001b[0;34m(\u001b[0m\u001b[0mdistance\u001b[0m\u001b[0;34m.\u001b[0m\u001b[0mcdist\u001b[0m\u001b[0;34m,\u001b[0m \u001b[0mmetric\u001b[0m\u001b[0;34m=\u001b[0m\u001b[0mmetric\u001b[0m\u001b[0;34m,\u001b[0m \u001b[0;34m**\u001b[0m\u001b[0mkwds\u001b[0m\u001b[0;34m)\u001b[0m\u001b[0;34m\u001b[0m\u001b[0;34m\u001b[0m\u001b[0m\n\u001b[1;32m   1778\u001b[0m \u001b[0;34m\u001b[0m\u001b[0m\n\u001b[0;32m-> 1779\u001b[0;31m     \u001b[0;32mreturn\u001b[0m \u001b[0m_parallel_pairwise\u001b[0m\u001b[0;34m(\u001b[0m\u001b[0mX\u001b[0m\u001b[0;34m,\u001b[0m \u001b[0mY\u001b[0m\u001b[0;34m,\u001b[0m \u001b[0mfunc\u001b[0m\u001b[0;34m,\u001b[0m \u001b[0mn_jobs\u001b[0m\u001b[0;34m,\u001b[0m \u001b[0;34m**\u001b[0m\u001b[0mkwds\u001b[0m\u001b[0;34m)\u001b[0m\u001b[0;34m\u001b[0m\u001b[0;34m\u001b[0m\u001b[0m\n\u001b[0m\u001b[1;32m   1780\u001b[0m \u001b[0;34m\u001b[0m\u001b[0m\n\u001b[1;32m   1781\u001b[0m \u001b[0;34m\u001b[0m\u001b[0m\n",
      "\u001b[0;32m~/anaconda3/lib/python3.7/site-packages/sklearn/metrics/pairwise.py\u001b[0m in \u001b[0;36m_parallel_pairwise\u001b[0;34m(X, Y, func, n_jobs, **kwds)\u001b[0m\n\u001b[1;32m   1358\u001b[0m \u001b[0;34m\u001b[0m\u001b[0m\n\u001b[1;32m   1359\u001b[0m     \u001b[0;32mif\u001b[0m \u001b[0meffective_n_jobs\u001b[0m\u001b[0;34m(\u001b[0m\u001b[0mn_jobs\u001b[0m\u001b[0;34m)\u001b[0m \u001b[0;34m==\u001b[0m \u001b[0;36m1\u001b[0m\u001b[0;34m:\u001b[0m\u001b[0;34m\u001b[0m\u001b[0;34m\u001b[0m\u001b[0m\n\u001b[0;32m-> 1360\u001b[0;31m         \u001b[0;32mreturn\u001b[0m \u001b[0mfunc\u001b[0m\u001b[0;34m(\u001b[0m\u001b[0mX\u001b[0m\u001b[0;34m,\u001b[0m \u001b[0mY\u001b[0m\u001b[0;34m,\u001b[0m \u001b[0;34m**\u001b[0m\u001b[0mkwds\u001b[0m\u001b[0;34m)\u001b[0m\u001b[0;34m\u001b[0m\u001b[0;34m\u001b[0m\u001b[0m\n\u001b[0m\u001b[1;32m   1361\u001b[0m \u001b[0;34m\u001b[0m\u001b[0m\n\u001b[1;32m   1362\u001b[0m     \u001b[0;31m# enforce a threading backend to prevent data communication overhead\u001b[0m\u001b[0;34m\u001b[0m\u001b[0;34m\u001b[0m\u001b[0;34m\u001b[0m\u001b[0m\n",
      "\u001b[0;32m~/anaconda3/lib/python3.7/site-packages/sklearn/utils/validation.py\u001b[0m in \u001b[0;36minner_f\u001b[0;34m(*args, **kwargs)\u001b[0m\n\u001b[1;32m     70\u001b[0m                           FutureWarning)\n\u001b[1;32m     71\u001b[0m         \u001b[0mkwargs\u001b[0m\u001b[0;34m.\u001b[0m\u001b[0mupdate\u001b[0m\u001b[0;34m(\u001b[0m\u001b[0;34m{\u001b[0m\u001b[0mk\u001b[0m\u001b[0;34m:\u001b[0m \u001b[0marg\u001b[0m \u001b[0;32mfor\u001b[0m \u001b[0mk\u001b[0m\u001b[0;34m,\u001b[0m \u001b[0marg\u001b[0m \u001b[0;32min\u001b[0m \u001b[0mzip\u001b[0m\u001b[0;34m(\u001b[0m\u001b[0msig\u001b[0m\u001b[0;34m.\u001b[0m\u001b[0mparameters\u001b[0m\u001b[0;34m,\u001b[0m \u001b[0margs\u001b[0m\u001b[0;34m)\u001b[0m\u001b[0;34m}\u001b[0m\u001b[0;34m)\u001b[0m\u001b[0;34m\u001b[0m\u001b[0;34m\u001b[0m\u001b[0m\n\u001b[0;32m---> 72\u001b[0;31m         \u001b[0;32mreturn\u001b[0m \u001b[0mf\u001b[0m\u001b[0;34m(\u001b[0m\u001b[0;34m**\u001b[0m\u001b[0mkwargs\u001b[0m\u001b[0;34m)\u001b[0m\u001b[0;34m\u001b[0m\u001b[0;34m\u001b[0m\u001b[0m\n\u001b[0m\u001b[1;32m     73\u001b[0m     \u001b[0;32mreturn\u001b[0m \u001b[0minner_f\u001b[0m\u001b[0;34m\u001b[0m\u001b[0;34m\u001b[0m\u001b[0m\n\u001b[1;32m     74\u001b[0m \u001b[0;34m\u001b[0m\u001b[0m\n",
      "\u001b[0;32m~/anaconda3/lib/python3.7/site-packages/sklearn/metrics/pairwise.py\u001b[0m in \u001b[0;36meuclidean_distances\u001b[0;34m(X, Y, Y_norm_squared, squared, X_norm_squared)\u001b[0m\n\u001b[1;32m    308\u001b[0m     \u001b[0;32melse\u001b[0m\u001b[0;34m:\u001b[0m\u001b[0;34m\u001b[0m\u001b[0;34m\u001b[0m\u001b[0m\n\u001b[1;32m    309\u001b[0m         \u001b[0;31m# if dtype is already float64, no need to chunk and upcast\u001b[0m\u001b[0;34m\u001b[0m\u001b[0;34m\u001b[0m\u001b[0;34m\u001b[0m\u001b[0m\n\u001b[0;32m--> 310\u001b[0;31m         \u001b[0mdistances\u001b[0m \u001b[0;34m=\u001b[0m \u001b[0;34m-\u001b[0m \u001b[0;36m2\u001b[0m \u001b[0;34m*\u001b[0m \u001b[0msafe_sparse_dot\u001b[0m\u001b[0;34m(\u001b[0m\u001b[0mX\u001b[0m\u001b[0;34m,\u001b[0m \u001b[0mY\u001b[0m\u001b[0;34m.\u001b[0m\u001b[0mT\u001b[0m\u001b[0;34m,\u001b[0m \u001b[0mdense_output\u001b[0m\u001b[0;34m=\u001b[0m\u001b[0;32mTrue\u001b[0m\u001b[0;34m)\u001b[0m\u001b[0;34m\u001b[0m\u001b[0;34m\u001b[0m\u001b[0m\n\u001b[0m\u001b[1;32m    311\u001b[0m         \u001b[0mdistances\u001b[0m \u001b[0;34m+=\u001b[0m \u001b[0mXX\u001b[0m\u001b[0;34m\u001b[0m\u001b[0;34m\u001b[0m\u001b[0m\n\u001b[1;32m    312\u001b[0m         \u001b[0mdistances\u001b[0m \u001b[0;34m+=\u001b[0m \u001b[0mYY\u001b[0m\u001b[0;34m\u001b[0m\u001b[0;34m\u001b[0m\u001b[0m\n",
      "\u001b[0;32m~/anaconda3/lib/python3.7/site-packages/sklearn/utils/validation.py\u001b[0m in \u001b[0;36minner_f\u001b[0;34m(*args, **kwargs)\u001b[0m\n\u001b[1;32m     70\u001b[0m                           FutureWarning)\n\u001b[1;32m     71\u001b[0m         \u001b[0mkwargs\u001b[0m\u001b[0;34m.\u001b[0m\u001b[0mupdate\u001b[0m\u001b[0;34m(\u001b[0m\u001b[0;34m{\u001b[0m\u001b[0mk\u001b[0m\u001b[0;34m:\u001b[0m \u001b[0marg\u001b[0m \u001b[0;32mfor\u001b[0m \u001b[0mk\u001b[0m\u001b[0;34m,\u001b[0m \u001b[0marg\u001b[0m \u001b[0;32min\u001b[0m \u001b[0mzip\u001b[0m\u001b[0;34m(\u001b[0m\u001b[0msig\u001b[0m\u001b[0;34m.\u001b[0m\u001b[0mparameters\u001b[0m\u001b[0;34m,\u001b[0m \u001b[0margs\u001b[0m\u001b[0;34m)\u001b[0m\u001b[0;34m}\u001b[0m\u001b[0;34m)\u001b[0m\u001b[0;34m\u001b[0m\u001b[0;34m\u001b[0m\u001b[0m\n\u001b[0;32m---> 72\u001b[0;31m         \u001b[0;32mreturn\u001b[0m \u001b[0mf\u001b[0m\u001b[0;34m(\u001b[0m\u001b[0;34m**\u001b[0m\u001b[0mkwargs\u001b[0m\u001b[0;34m)\u001b[0m\u001b[0;34m\u001b[0m\u001b[0;34m\u001b[0m\u001b[0m\n\u001b[0m\u001b[1;32m     73\u001b[0m     \u001b[0;32mreturn\u001b[0m \u001b[0minner_f\u001b[0m\u001b[0;34m\u001b[0m\u001b[0;34m\u001b[0m\u001b[0m\n\u001b[1;32m     74\u001b[0m \u001b[0;34m\u001b[0m\u001b[0m\n",
      "\u001b[0;32m~/anaconda3/lib/python3.7/site-packages/sklearn/utils/extmath.py\u001b[0m in \u001b[0;36msafe_sparse_dot\u001b[0;34m(a, b, dense_output)\u001b[0m\n\u001b[1;32m    151\u001b[0m             \u001b[0mret\u001b[0m \u001b[0;34m=\u001b[0m \u001b[0mnp\u001b[0m\u001b[0;34m.\u001b[0m\u001b[0mdot\u001b[0m\u001b[0;34m(\u001b[0m\u001b[0ma\u001b[0m\u001b[0;34m,\u001b[0m \u001b[0mb\u001b[0m\u001b[0;34m)\u001b[0m\u001b[0;34m\u001b[0m\u001b[0;34m\u001b[0m\u001b[0m\n\u001b[1;32m    152\u001b[0m     \u001b[0;32melse\u001b[0m\u001b[0;34m:\u001b[0m\u001b[0;34m\u001b[0m\u001b[0;34m\u001b[0m\u001b[0m\n\u001b[0;32m--> 153\u001b[0;31m         \u001b[0mret\u001b[0m \u001b[0;34m=\u001b[0m \u001b[0ma\u001b[0m \u001b[0;34m@\u001b[0m \u001b[0mb\u001b[0m\u001b[0;34m\u001b[0m\u001b[0;34m\u001b[0m\u001b[0m\n\u001b[0m\u001b[1;32m    154\u001b[0m \u001b[0;34m\u001b[0m\u001b[0m\n\u001b[1;32m    155\u001b[0m     if (sparse.issparse(a) and sparse.issparse(b)\n",
      "\u001b[0;32m~/anaconda3/lib/python3.7/site-packages/scipy/sparse/base.py\u001b[0m in \u001b[0;36m__matmul__\u001b[0;34m(self, other)\u001b[0m\n\u001b[1;32m    560\u001b[0m             raise ValueError(\"Scalar operands are not allowed, \"\n\u001b[1;32m    561\u001b[0m                              \"use '*' instead\")\n\u001b[0;32m--> 562\u001b[0;31m         \u001b[0;32mreturn\u001b[0m \u001b[0mself\u001b[0m\u001b[0;34m.\u001b[0m\u001b[0m__mul__\u001b[0m\u001b[0;34m(\u001b[0m\u001b[0mother\u001b[0m\u001b[0;34m)\u001b[0m\u001b[0;34m\u001b[0m\u001b[0;34m\u001b[0m\u001b[0m\n\u001b[0m\u001b[1;32m    563\u001b[0m \u001b[0;34m\u001b[0m\u001b[0m\n\u001b[1;32m    564\u001b[0m     \u001b[0;32mdef\u001b[0m \u001b[0m__rmatmul__\u001b[0m\u001b[0;34m(\u001b[0m\u001b[0mself\u001b[0m\u001b[0;34m,\u001b[0m \u001b[0mother\u001b[0m\u001b[0;34m)\u001b[0m\u001b[0;34m:\u001b[0m\u001b[0;34m\u001b[0m\u001b[0;34m\u001b[0m\u001b[0m\n",
      "\u001b[0;32m~/anaconda3/lib/python3.7/site-packages/scipy/sparse/base.py\u001b[0m in \u001b[0;36m__mul__\u001b[0;34m(self, other)\u001b[0m\n\u001b[1;32m    480\u001b[0m             \u001b[0;32mif\u001b[0m \u001b[0mself\u001b[0m\u001b[0;34m.\u001b[0m\u001b[0mshape\u001b[0m\u001b[0;34m[\u001b[0m\u001b[0;36m1\u001b[0m\u001b[0;34m]\u001b[0m \u001b[0;34m!=\u001b[0m \u001b[0mother\u001b[0m\u001b[0;34m.\u001b[0m\u001b[0mshape\u001b[0m\u001b[0;34m[\u001b[0m\u001b[0;36m0\u001b[0m\u001b[0;34m]\u001b[0m\u001b[0;34m:\u001b[0m\u001b[0;34m\u001b[0m\u001b[0;34m\u001b[0m\u001b[0m\n\u001b[1;32m    481\u001b[0m                 \u001b[0;32mraise\u001b[0m \u001b[0mValueError\u001b[0m\u001b[0;34m(\u001b[0m\u001b[0;34m'dimension mismatch'\u001b[0m\u001b[0;34m)\u001b[0m\u001b[0;34m\u001b[0m\u001b[0;34m\u001b[0m\u001b[0m\n\u001b[0;32m--> 482\u001b[0;31m             \u001b[0;32mreturn\u001b[0m \u001b[0mself\u001b[0m\u001b[0;34m.\u001b[0m\u001b[0m_mul_sparse_matrix\u001b[0m\u001b[0;34m(\u001b[0m\u001b[0mother\u001b[0m\u001b[0;34m)\u001b[0m\u001b[0;34m\u001b[0m\u001b[0;34m\u001b[0m\u001b[0m\n\u001b[0m\u001b[1;32m    483\u001b[0m \u001b[0;34m\u001b[0m\u001b[0m\n\u001b[1;32m    484\u001b[0m         \u001b[0;31m# If it's a list or whatever, treat it like a matrix\u001b[0m\u001b[0;34m\u001b[0m\u001b[0;34m\u001b[0m\u001b[0;34m\u001b[0m\u001b[0m\n",
      "\u001b[0;32m~/anaconda3/lib/python3.7/site-packages/scipy/sparse/compressed.py\u001b[0m in \u001b[0;36m_mul_sparse_matrix\u001b[0;34m(self, other)\u001b[0m\n\u001b[1;32m    519\u001b[0m            \u001b[0mnp\u001b[0m\u001b[0;34m.\u001b[0m\u001b[0masarray\u001b[0m\u001b[0;34m(\u001b[0m\u001b[0mother\u001b[0m\u001b[0;34m.\u001b[0m\u001b[0mindices\u001b[0m\u001b[0;34m,\u001b[0m \u001b[0mdtype\u001b[0m\u001b[0;34m=\u001b[0m\u001b[0midx_dtype\u001b[0m\u001b[0;34m)\u001b[0m\u001b[0;34m,\u001b[0m\u001b[0;34m\u001b[0m\u001b[0;34m\u001b[0m\u001b[0m\n\u001b[1;32m    520\u001b[0m            \u001b[0mother\u001b[0m\u001b[0;34m.\u001b[0m\u001b[0mdata\u001b[0m\u001b[0;34m,\u001b[0m\u001b[0;34m\u001b[0m\u001b[0;34m\u001b[0m\u001b[0m\n\u001b[0;32m--> 521\u001b[0;31m            indptr, indices, data)\n\u001b[0m\u001b[1;32m    522\u001b[0m \u001b[0;34m\u001b[0m\u001b[0m\n\u001b[1;32m    523\u001b[0m         \u001b[0;32mreturn\u001b[0m \u001b[0mself\u001b[0m\u001b[0;34m.\u001b[0m\u001b[0m__class__\u001b[0m\u001b[0;34m(\u001b[0m\u001b[0;34m(\u001b[0m\u001b[0mdata\u001b[0m\u001b[0;34m,\u001b[0m \u001b[0mindices\u001b[0m\u001b[0;34m,\u001b[0m \u001b[0mindptr\u001b[0m\u001b[0;34m)\u001b[0m\u001b[0;34m,\u001b[0m \u001b[0mshape\u001b[0m\u001b[0;34m=\u001b[0m\u001b[0;34m(\u001b[0m\u001b[0mM\u001b[0m\u001b[0;34m,\u001b[0m \u001b[0mN\u001b[0m\u001b[0;34m)\u001b[0m\u001b[0;34m)\u001b[0m\u001b[0;34m\u001b[0m\u001b[0;34m\u001b[0m\u001b[0m\n",
      "\u001b[0;31mKeyboardInterrupt\u001b[0m: "
     ]
    }
   ],
   "source": [
    "print('KNN')\n",
    "rf = KNeighborsClassifier().fit(X_train, y_train)\n",
    "y_pred = rf.predict(X_test)\n",
    "y_prob = rf.predict_proba(X_test)[:,1]\n",
    "acc, precision, recall, f1, roc_auc = getTestMetrics(y_test, y_pred, y_prob)\n",
    "\n",
    "model.append('knn')\n",
    "accuracy_score.append(acc)\n",
    "precision_score.append(precision)\n",
    "recall_score.append(recall)\n",
    "f1_score.append(f1)\n",
    "auc_score.append(roc_auc)"
   ]
  },
  {
   "cell_type": "code",
   "execution_count": null,
   "metadata": {},
   "outputs": [],
   "source": [
    "print('Random Forest')\n",
    "rf = RandomForestClassifier().fit(X_train, y_train)\n",
    "y_pred = rf.predict(X_test)\n",
    "y_prob = rf.predict_proba(X_test)[:,1]\n",
    "acc, precision, recall, f1, roc_auc = getTestMetrics(y_test, y_pred, y_prob)\n",
    "\n",
    "model.append('random forest')\n",
    "accuracy_score.append(acc)\n",
    "precision_score.append(precision)\n",
    "recall_score.append(recall)\n",
    "f1_score.append(f1)\n",
    "auc_score.append(roc_auc)"
   ]
  },
  {
   "cell_type": "code",
   "execution_count": null,
   "metadata": {},
   "outputs": [],
   "source": [
    "print('Gradient Boosting')\n",
    "gb = GradientBoostingClassifier().fit(X_train, y_train)\n",
    "y_pred = gb.predict(X_test)\n",
    "y_prob = gb.predict_proba(X_test)[:,1]\n",
    "acc, precision, recall, f1, roc_auc = getTestMetrics(y_test, y_pred, y_prob)\n",
    "\n",
    "model.append('gradient boosting')\n",
    "accuracy_score.append(acc)\n",
    "precision_score.append(precision)\n",
    "recall_score.append(recall)\n",
    "f1_score.append(f1)\n",
    "auc_score.append(roc_auc)"
   ]
  },
  {
   "cell_type": "code",
   "execution_count": null,
   "metadata": {},
   "outputs": [],
   "source": [
    "print('Multilayer perceptron')\n",
    "mlp = MLPClassifier(max_iter=10,verbose=True).fit(X_train, y_train)\n",
    "y_pred = mlp.predict(X_test)\n",
    "y_prob = mlp.predict_proba(X_test)[:,1]\n",
    "acc, precision, recall, f1, roc_auc = getTestMetrics(y_test, y_pred, y_prob)\n",
    "\n",
    "model.append('mlp')\n",
    "accuracy_score.append(acc)\n",
    "precision_score.append(precision)\n",
    "recall_score.append(recall)\n",
    "f1_score.append(f1)\n",
    "auc_score.append(roc_auc)"
   ]
  },
  {
   "cell_type": "markdown",
   "metadata": {},
   "source": [
    "## Results"
   ]
  },
  {
   "cell_type": "code",
   "execution_count": null,
   "metadata": {},
   "outputs": [],
   "source": [
    "end_time = time.time()\n",
    "ellapsed_time = end_time - start_time\n",
    "print('ellapsed time (min):', ellapsed_time/60)"
   ]
  },
  {
   "cell_type": "code",
   "execution_count": null,
   "metadata": {},
   "outputs": [],
   "source": [
    "df_metrics = pd.DataFrame({'model':model,\n",
    "                                 'accuracy':accuracy_score,\n",
    "                                 'precision': precision_score,\n",
    "                                 'recall': recall_score,\n",
    "                                 'f1 score': f1_score,\n",
    "                                 'auc score': auc_score})\n",
    "\n",
    "df_metrics['vocab'] = [vocab_size]*len(df_metrics)\n",
    "df_metrics"
   ]
  },
  {
   "cell_type": "code",
   "execution_count": null,
   "metadata": {},
   "outputs": [],
   "source": [
    "file = 'results/2018/ml/' + experiment + '.csv'\n",
    "df_metrics.to_csv(file, index = False)\n",
    "file"
   ]
  },
  {
   "cell_type": "markdown",
   "metadata": {},
   "source": [
    "# Error examples with random forest"
   ]
  },
  {
   "cell_type": "code",
   "execution_count": null,
   "metadata": {},
   "outputs": [],
   "source": [
    "# 1-1 = 0 true positive\n",
    "# 0-0 = 0 true negative\n",
    "# 1-0 = 1 false negative\n",
    "# 0-1 = -1 false positive\n",
    "y_pred = mlp.predict(X_test)\n",
    "y_fails = y_test - y_pred\n",
    "FN = [index for index, value in enumerate(y_fails) if value == 1]\n",
    "FP = [index for index, value in enumerate(y_fails) if value == -1]\n",
    "\n",
    "print('Total test data:', len(y_pred))\n",
    "print('False negative: ',len(FN))\n",
    "print('False positive: ',len(FP))"
   ]
  },
  {
   "cell_type": "code",
   "execution_count": null,
   "metadata": {},
   "outputs": [],
   "source": [
    "texts_FN = [texts_test[fn] for fn in FN]\n",
    "texts_FP = [texts_test[fp] for fp in FP]"
   ]
  },
  {
   "cell_type": "markdown",
   "metadata": {},
   "source": [
    "### False negative"
   ]
  },
  {
   "cell_type": "code",
   "execution_count": null,
   "metadata": {},
   "outputs": [],
   "source": [
    "for fn in texts_FN:\n",
    "    print('***')\n",
    "    print(fn)\n",
    "    print('***')"
   ]
  },
  {
   "cell_type": "markdown",
   "metadata": {},
   "source": [
    "### False positives"
   ]
  },
  {
   "cell_type": "code",
   "execution_count": null,
   "metadata": {},
   "outputs": [],
   "source": [
    "for fp in texts_FP:\n",
    "    print()\n",
    "    print('***')\n",
    "    print(fp)\n",
    "    print('***')\n",
    "    print()"
   ]
  },
  {
   "cell_type": "markdown",
   "metadata": {},
   "source": [
    "# Hyperparameter tunning"
   ]
  },
  {
   "cell_type": "code",
   "execution_count": null,
   "metadata": {},
   "outputs": [],
   "source": [
    "#validation set\n",
    "X_train_val, X_val, y_train_val, y_val = train_test_split(\n",
    "    X_train, y_train, test_size=0.1, random_state=42, stratify = y_train)"
   ]
  }
 ],
 "metadata": {
  "kernelspec": {
   "display_name": "Python 3",
   "language": "python",
   "name": "python3"
  },
  "language_info": {
   "codemirror_mode": {
    "name": "ipython",
    "version": 3
   },
   "file_extension": ".py",
   "mimetype": "text/x-python",
   "name": "python",
   "nbconvert_exporter": "python",
   "pygments_lexer": "ipython3",
   "version": "3.7.3"
  }
 },
 "nbformat": 4,
 "nbformat_minor": 2
}
