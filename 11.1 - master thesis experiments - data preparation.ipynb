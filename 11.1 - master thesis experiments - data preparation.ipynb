{
 "cells": [
  {
   "cell_type": "markdown",
   "metadata": {},
   "source": [
    "# Experiments of misinformation detection in three dimensions:\n",
    "1. Content (What?)\n",
    "1. Social (Who?)\n",
    "1. Temporal (When?)"
   ]
  },
  {
   "cell_type": "code",
   "execution_count": 3,
   "metadata": {},
   "outputs": [],
   "source": [
    "import pandas as pd\n",
    "import numpy as np\n",
    "import pickle"
   ]
  },
  {
   "cell_type": "markdown",
   "metadata": {},
   "source": [
    "# Data manipulation"
   ]
  },
  {
   "cell_type": "markdown",
   "metadata": {},
   "source": [
    "## Load data"
   ]
  },
  {
   "cell_type": "code",
   "execution_count": 46,
   "metadata": {},
   "outputs": [
    {
     "name": "stdout",
     "output_type": "stream",
     "text": [
      "Index(['id', 'date', 'hour', 'ddi', 'country', 'country_iso3', 'ddd', 'state',\n",
      "       'group', 'midia', 'url', 'characters', 'words', 'viral', 'shares',\n",
      "       'text', 'misinformation'],\n",
      "      dtype='object')\n"
     ]
    },
    {
     "name": "stderr",
     "output_type": "stream",
     "text": [
      "C:\\Users\\lucas.carneiro\\Anaconda3\\envs\\env\\lib\\site-packages\\IPython\\core\\interactiveshell.py:3146: DtypeWarning: Columns (3,6) have mixed types.Specify dtype option on import or set low_memory=False.\n",
      "  has_raised = await self.run_ast_nodes(code_ast.body, cell_name,\n"
     ]
    },
    {
     "data": {
      "text/html": [
       "<div>\n",
       "<style scoped>\n",
       "    .dataframe tbody tr th:only-of-type {\n",
       "        vertical-align: middle;\n",
       "    }\n",
       "\n",
       "    .dataframe tbody tr th {\n",
       "        vertical-align: top;\n",
       "    }\n",
       "\n",
       "    .dataframe thead th {\n",
       "        text-align: right;\n",
       "    }\n",
       "</style>\n",
       "<table border=\"1\" class=\"dataframe\">\n",
       "  <thead>\n",
       "    <tr style=\"text-align: right;\">\n",
       "      <th></th>\n",
       "      <th>id</th>\n",
       "      <th>date</th>\n",
       "      <th>hour</th>\n",
       "      <th>ddi</th>\n",
       "      <th>country</th>\n",
       "      <th>country_iso3</th>\n",
       "      <th>ddd</th>\n",
       "      <th>state</th>\n",
       "      <th>group</th>\n",
       "      <th>midia</th>\n",
       "      <th>url</th>\n",
       "      <th>characters</th>\n",
       "      <th>words</th>\n",
       "      <th>viral</th>\n",
       "      <th>shares</th>\n",
       "      <th>text</th>\n",
       "      <th>misinformation</th>\n",
       "    </tr>\n",
       "  </thead>\n",
       "  <tbody>\n",
       "    <tr>\n",
       "      <th>0</th>\n",
       "      <td>3631133147603888180</td>\n",
       "      <td>01/08/18</td>\n",
       "      <td>13:13</td>\n",
       "      <td>55</td>\n",
       "      <td>BRASIL</td>\n",
       "      <td>BRA</td>\n",
       "      <td>17</td>\n",
       "      <td>São Paulo</td>\n",
       "      <td>2018_1</td>\n",
       "      <td>1</td>\n",
       "      <td>0</td>\n",
       "      <td>25</td>\n",
       "      <td>4</td>\n",
       "      <td>0</td>\n",
       "      <td>1</td>\n",
       "      <td>&lt;Arquivo de mídia oculto&gt;</td>\n",
       "      <td>-1</td>\n",
       "    </tr>\n",
       "    <tr>\n",
       "      <th>1</th>\n",
       "      <td>3631133147603888180</td>\n",
       "      <td>01/08/18</td>\n",
       "      <td>13:24</td>\n",
       "      <td>55</td>\n",
       "      <td>BRASIL</td>\n",
       "      <td>BRA</td>\n",
       "      <td>17</td>\n",
       "      <td>São Paulo</td>\n",
       "      <td>2018_1</td>\n",
       "      <td>0</td>\n",
       "      <td>0</td>\n",
       "      <td>58</td>\n",
       "      <td>9</td>\n",
       "      <td>1</td>\n",
       "      <td>2</td>\n",
       "      <td>O Bolsonaro tem que estar preparado pra respon...</td>\n",
       "      <td>0</td>\n",
       "    </tr>\n",
       "    <tr>\n",
       "      <th>2</th>\n",
       "      <td>3631133147603888180</td>\n",
       "      <td>01/08/18</td>\n",
       "      <td>13:24</td>\n",
       "      <td>55</td>\n",
       "      <td>BRASIL</td>\n",
       "      <td>BRA</td>\n",
       "      <td>17</td>\n",
       "      <td>São Paulo</td>\n",
       "      <td>2018_1</td>\n",
       "      <td>1</td>\n",
       "      <td>0</td>\n",
       "      <td>25</td>\n",
       "      <td>4</td>\n",
       "      <td>0</td>\n",
       "      <td>1</td>\n",
       "      <td>&lt;Arquivo de mídia oculto&gt;</td>\n",
       "      <td>-1</td>\n",
       "    </tr>\n",
       "  </tbody>\n",
       "</table>\n",
       "</div>"
      ],
      "text/plain": [
       "                    id      date   hour ddi country country_iso3 ddd  \\\n",
       "0  3631133147603888180  01/08/18  13:13  55  BRASIL          BRA  17   \n",
       "1  3631133147603888180  01/08/18  13:24  55  BRASIL          BRA  17   \n",
       "2  3631133147603888180  01/08/18  13:24  55  BRASIL          BRA  17   \n",
       "\n",
       "       state   group  midia  url  characters  words  viral  shares  \\\n",
       "0  São Paulo  2018_1      1    0          25      4      0       1   \n",
       "1  São Paulo  2018_1      0    0          58      9      1       2   \n",
       "2  São Paulo  2018_1      1    0          25      4      0       1   \n",
       "\n",
       "                                                text  misinformation  \n",
       "0                          <Arquivo de mídia oculto>              -1  \n",
       "1  O Bolsonaro tem que estar preparado pra respon...               0  \n",
       "2                          <Arquivo de mídia oculto>              -1  "
      ]
     },
     "execution_count": 46,
     "metadata": {},
     "output_type": "execute_result"
    }
   ],
   "source": [
    "df = pd.read_csv('data/2018/fakeWhatsApp.BR_2018.csv')\n",
    "print(df.columns)\n",
    "df.head(3)"
   ]
  },
  {
   "cell_type": "markdown",
   "metadata": {},
   "source": [
    "## Timestamp"
   ]
  },
  {
   "cell_type": "code",
   "execution_count": 47,
   "metadata": {},
   "outputs": [],
   "source": [
    "# sorting by time\n",
    "def custom_time(data,hora):\n",
    "    string = data + \" \" + hora\n",
    "    return string\n",
    "\n",
    "df['timestamp'] = df.apply(lambda x: custom_time(x['date'],x['hour']),axis=1)\n",
    "df['timestamp'] = pd.to_datetime(df['timestamp'], format='%d/%m/%y %H:%M')"
   ]
  },
  {
   "cell_type": "markdown",
   "metadata": {},
   "source": [
    "## Load and filter expanded labels\n",
    "Labels expanded by cosine similarity in TF-IDF representation. If sim < 0.8, assign the label of the manually labelled data. However, it is necessary filter out noisy messages with little information. E.g.:\n",
    "\n",
    "0 <br>\n",
    "Chico anisio em 93 no roda viva\n",
    "---------------------\n",
    "0 <br>\n",
    "🇧🇷 17\n",
    "---------------------\n",
    "1 <br>\n",
    "O que Bolsonaro fala e os ignorantes dào risada.\n",
    "---------------------"
   ]
  },
  {
   "cell_type": "code",
   "execution_count": 48,
   "metadata": {},
   "outputs": [],
   "source": [
    "df_expanded_labels = pd.read_csv('data/2018/fakeWhatsApp.BR_2018_expanded.csv')\n",
    "#df_expanded_labels[(df_expanded_labels['BEST_SIM']>0.8) & (df_expanded_labels['BEST_SIM']<1)]"
   ]
  },
  {
   "cell_type": "code",
   "execution_count": 49,
   "metadata": {},
   "outputs": [],
   "source": [
    "df_expanded_labels['types_chars'] = [len(set(t)) for t in df_expanded_labels['text']]\n",
    "automatic_labels = list(df_expanded_labels['BEST_LABEL'])\n",
    "min_unique_words = 10\n",
    "\n",
    "for i, n in enumerate(df_expanded_labels['types_chars']):\n",
    "    if n < min_unique_words:\n",
    "        # remove label\n",
    "        automatic_labels[i] = -1\n",
    "#df_expanded_labels['BEST_LABEL'] = automatic_labels"
   ]
  },
  {
   "cell_type": "markdown",
   "metadata": {},
   "source": [
    "## Assign expanded labels to original dataset and creating dataset with only labelled data"
   ]
  },
  {
   "cell_type": "code",
   "execution_count": 50,
   "metadata": {},
   "outputs": [
    {
     "name": "stdout",
     "output_type": "stream",
     "text": [
      "total messages: 24445\n",
      "manually labelled messages: 20870\n",
      "expanded: 3575\n"
     ]
    },
    {
     "data": {
      "text/html": [
       "<div>\n",
       "<style scoped>\n",
       "    .dataframe tbody tr th:only-of-type {\n",
       "        vertical-align: middle;\n",
       "    }\n",
       "\n",
       "    .dataframe tbody tr th {\n",
       "        vertical-align: top;\n",
       "    }\n",
       "\n",
       "    .dataframe thead th {\n",
       "        text-align: right;\n",
       "    }\n",
       "</style>\n",
       "<table border=\"1\" class=\"dataframe\">\n",
       "  <thead>\n",
       "    <tr style=\"text-align: right;\">\n",
       "      <th></th>\n",
       "      <th>id</th>\n",
       "      <th>date</th>\n",
       "      <th>hour</th>\n",
       "      <th>ddi</th>\n",
       "      <th>country</th>\n",
       "      <th>country_iso3</th>\n",
       "      <th>ddd</th>\n",
       "      <th>state</th>\n",
       "      <th>group</th>\n",
       "      <th>midia</th>\n",
       "      <th>url</th>\n",
       "      <th>characters</th>\n",
       "      <th>words</th>\n",
       "      <th>viral</th>\n",
       "      <th>shares</th>\n",
       "      <th>text</th>\n",
       "      <th>misinformation</th>\n",
       "      <th>timestamp</th>\n",
       "    </tr>\n",
       "  </thead>\n",
       "  <tbody>\n",
       "    <tr>\n",
       "      <th>234384</th>\n",
       "      <td>2660222405768274296</td>\n",
       "      <td>12/09/18</td>\n",
       "      <td>08:46</td>\n",
       "      <td>55</td>\n",
       "      <td>BRASIL</td>\n",
       "      <td>BRA</td>\n",
       "      <td>81</td>\n",
       "      <td>Pernambuco</td>\n",
       "      <td>2018_56</td>\n",
       "      <td>0</td>\n",
       "      <td>0</td>\n",
       "      <td>57</td>\n",
       "      <td>9</td>\n",
       "      <td>1</td>\n",
       "      <td>3</td>\n",
       "      <td>ATENÇÃO muito impactante esse vídeo Não deixe ...</td>\n",
       "      <td>1</td>\n",
       "      <td>2018-09-12 08:46:00</td>\n",
       "    </tr>\n",
       "    <tr>\n",
       "      <th>73694</th>\n",
       "      <td>-2245831372501748097</td>\n",
       "      <td>09/09/18</td>\n",
       "      <td>07:02</td>\n",
       "      <td>55</td>\n",
       "      <td>BRASIL</td>\n",
       "      <td>BRA</td>\n",
       "      <td>85</td>\n",
       "      <td>Ceará</td>\n",
       "      <td>2018_22</td>\n",
       "      <td>0</td>\n",
       "      <td>1</td>\n",
       "      <td>2380</td>\n",
       "      <td>408</td>\n",
       "      <td>1</td>\n",
       "      <td>11</td>\n",
       "      <td>**Caros amigos “Bolsonaristas” , (quem não for...</td>\n",
       "      <td>1</td>\n",
       "      <td>2018-09-09 07:02:00</td>\n",
       "    </tr>\n",
       "    <tr>\n",
       "      <th>166704</th>\n",
       "      <td>-511602237855056547</td>\n",
       "      <td>23/09/18</td>\n",
       "      <td>12:31</td>\n",
       "      <td>55</td>\n",
       "      <td>BRASIL</td>\n",
       "      <td>BRA</td>\n",
       "      <td>63</td>\n",
       "      <td>Tocantins</td>\n",
       "      <td>2018_42</td>\n",
       "      <td>0</td>\n",
       "      <td>0</td>\n",
       "      <td>554</td>\n",
       "      <td>100</td>\n",
       "      <td>1</td>\n",
       "      <td>4</td>\n",
       "      <td>Joãozinho chega para professora e diz:\\n\\n- Pr...</td>\n",
       "      <td>0</td>\n",
       "      <td>2018-09-23 12:31:00</td>\n",
       "    </tr>\n",
       "  </tbody>\n",
       "</table>\n",
       "</div>"
      ],
      "text/plain": [
       "                         id      date   hour ddi country country_iso3 ddd  \\\n",
       "234384  2660222405768274296  12/09/18  08:46  55  BRASIL          BRA  81   \n",
       "73694  -2245831372501748097  09/09/18  07:02  55  BRASIL          BRA  85   \n",
       "166704  -511602237855056547  23/09/18  12:31  55  BRASIL          BRA  63   \n",
       "\n",
       "             state    group  midia  url  characters  words  viral  shares  \\\n",
       "234384  Pernambuco  2018_56      0    0          57      9      1       3   \n",
       "73694        Ceará  2018_22      0    1        2380    408      1      11   \n",
       "166704   Tocantins  2018_42      0    0         554    100      1       4   \n",
       "\n",
       "                                                     text  misinformation  \\\n",
       "234384  ATENÇÃO muito impactante esse vídeo Não deixe ...               1   \n",
       "73694   **Caros amigos “Bolsonaristas” , (quem não for...               1   \n",
       "166704  Joãozinho chega para professora e diz:\\n\\n- Pr...               0   \n",
       "\n",
       "                 timestamp  \n",
       "234384 2018-09-12 08:46:00  \n",
       "73694  2018-09-09 07:02:00  \n",
       "166704 2018-09-23 12:31:00  "
      ]
     },
     "execution_count": 50,
     "metadata": {},
     "output_type": "execute_result"
    }
   ],
   "source": [
    "df['misinformation'] = df_expanded_labels['BEST_LABEL']\n",
    "#df['normalized_texts'] = df_expanded_labels['BEST_MATCH']\n",
    "df_labelled = df[df['misinformation'] != -1]\n",
    "print('total messages:',len(df_labelled))\n",
    "print('manually labelled messages:',len(df_labelled[df_labelled['shares']>1]))\n",
    "print('expanded:',len(df_labelled[df_labelled['shares']==1]))\n",
    "df_labelled.sample(3)"
   ]
  },
  {
   "cell_type": "markdown",
   "metadata": {},
   "source": [
    "### Remove duplicates and filter short messages"
   ]
  },
  {
   "cell_type": "code",
   "execution_count": 51,
   "metadata": {},
   "outputs": [
    {
     "name": "stdout",
     "output_type": "stream",
     "text": [
      "expansion of unique content and filtering short messages\n",
      "\n"
     ]
    },
    {
     "name": "stderr",
     "output_type": "stream",
     "text": [
      "<ipython-input-51-b319bc271a52>:4: SettingWithCopyWarning: \n",
      "A value is trying to be set on a copy of a slice from a DataFrame.\n",
      "Try using .loc[row_indexer,col_indexer] = value instead\n",
      "\n",
      "See the caveats in the documentation: https://pandas.pydata.org/pandas-docs/stable/user_guide/indexing.html#returning-a-view-versus-a-copy\n",
      "  df_content['types'] = [len(set(t.split())) for t in df_content['text']]\n"
     ]
    }
   ],
   "source": [
    "print('expansion of unique content and filtering short messages\\n')\n",
    "df_content = df_labelled.drop_duplicates(subset=['text']) #normalized_texts\n",
    "# filter short messages\n",
    "df_content['types'] = [len(set(t.split())) for t in df_content['text']]\n",
    "# test = df_content[(df_content['types'] >= 10) & (df_content['types'] <= 20)][['text','shares','misinformation','types']]\n",
    "# print(test['misinformation'].sum()/len(test))\n",
    "# #test[test['misinformation']==1]\n",
    "df_content = df_content[df_content['types'] >= 10]"
   ]
  },
  {
   "cell_type": "code",
   "execution_count": 52,
   "metadata": {},
   "outputs": [
    {
     "name": "stdout",
     "output_type": "stream",
     "text": [
      "total messages: 6926\n",
      "manually labelled messages: 4588\n",
      "expanded: 2338\n"
     ]
    },
    {
     "data": {
      "text/html": [
       "<div>\n",
       "<style scoped>\n",
       "    .dataframe tbody tr th:only-of-type {\n",
       "        vertical-align: middle;\n",
       "    }\n",
       "\n",
       "    .dataframe tbody tr th {\n",
       "        vertical-align: top;\n",
       "    }\n",
       "\n",
       "    .dataframe thead th {\n",
       "        text-align: right;\n",
       "    }\n",
       "</style>\n",
       "<table border=\"1\" class=\"dataframe\">\n",
       "  <thead>\n",
       "    <tr style=\"text-align: right;\">\n",
       "      <th></th>\n",
       "      <th>id</th>\n",
       "      <th>date</th>\n",
       "      <th>hour</th>\n",
       "      <th>shares</th>\n",
       "      <th>text</th>\n",
       "      <th>misinformation</th>\n",
       "    </tr>\n",
       "  </thead>\n",
       "  <tbody>\n",
       "    <tr>\n",
       "      <th>45586</th>\n",
       "      <td>6942577183305588053</td>\n",
       "      <td>02/07/18</td>\n",
       "      <td>10:46</td>\n",
       "      <td>1</td>\n",
       "      <td>O dia em que ex-guerrilheiro, militantes e des...</td>\n",
       "      <td>1</td>\n",
       "    </tr>\n",
       "    <tr>\n",
       "      <th>54063</th>\n",
       "      <td>-2072140886659020977</td>\n",
       "      <td>02/07/18</td>\n",
       "      <td>10:50</td>\n",
       "      <td>3</td>\n",
       "      <td>O nível dos jornalistas do programa Roda Viva ...</td>\n",
       "      <td>1</td>\n",
       "    </tr>\n",
       "    <tr>\n",
       "      <th>254245</th>\n",
       "      <td>-5100443702615645928</td>\n",
       "      <td>02/07/18</td>\n",
       "      <td>11:03</td>\n",
       "      <td>2</td>\n",
       "      <td>*Atenção*\\n\\nPrecisamos da ajuda de todos você...</td>\n",
       "      <td>0</td>\n",
       "    </tr>\n",
       "    <tr>\n",
       "      <th>70733</th>\n",
       "      <td>-1561843698204261697</td>\n",
       "      <td>02/07/18</td>\n",
       "      <td>16:32</td>\n",
       "      <td>5</td>\n",
       "      <td>Gestão do colombiano na capital, imagina ele n...</td>\n",
       "      <td>1</td>\n",
       "    </tr>\n",
       "    <tr>\n",
       "      <th>70739</th>\n",
       "      <td>-5876784761398352499</td>\n",
       "      <td>02/07/18</td>\n",
       "      <td>18:09</td>\n",
       "      <td>2</td>\n",
       "      <td>🛑🛑🛑🛑🛑🛑\\nInterrompendo momentaneamente a conver...</td>\n",
       "      <td>1</td>\n",
       "    </tr>\n",
       "  </tbody>\n",
       "</table>\n",
       "</div>"
      ],
      "text/plain": [
       "                         id      date   hour  shares  \\\n",
       "45586   6942577183305588053  02/07/18  10:46       1   \n",
       "54063  -2072140886659020977  02/07/18  10:50       3   \n",
       "254245 -5100443702615645928  02/07/18  11:03       2   \n",
       "70733  -1561843698204261697  02/07/18  16:32       5   \n",
       "70739  -5876784761398352499  02/07/18  18:09       2   \n",
       "\n",
       "                                                     text  misinformation  \n",
       "45586   O dia em que ex-guerrilheiro, militantes e des...               1  \n",
       "54063   O nível dos jornalistas do programa Roda Viva ...               1  \n",
       "254245  *Atenção*\\n\\nPrecisamos da ajuda de todos você...               0  \n",
       "70733   Gestão do colombiano na capital, imagina ele n...               1  \n",
       "70739   🛑🛑🛑🛑🛑🛑\\nInterrompendo momentaneamente a conver...               1  "
      ]
     },
     "execution_count": 52,
     "metadata": {},
     "output_type": "execute_result"
    }
   ],
   "source": [
    "df_content.sort_values(by='timestamp',inplace=True)\n",
    "print('total messages:',len(df_content))\n",
    "print('manually labelled messages:',len(df_content[df_content['shares']>1]))\n",
    "print('expanded:',len(df_content[df_content['shares']==1]))\n",
    "df_content = df_content[['id', 'date', 'hour','shares','text', 'misinformation',]]\n",
    "df_content.to_csv('data/2018/fakeWhatsApp.BR_2018_content_only.csv', index = False)\n",
    "df_content.head(5)"
   ]
  },
  {
   "cell_type": "code",
   "execution_count": 45,
   "metadata": {},
   "outputs": [
    {
     "data": {
      "text/plain": [
       "Index(['id', 'date', 'hour', 'shares', 'text', 'misinformation'], dtype='object')"
      ]
     },
     "execution_count": 45,
     "metadata": {},
     "output_type": "execute_result"
    }
   ],
   "source": [
    "df_content.columns"
   ]
  },
  {
   "cell_type": "markdown",
   "metadata": {},
   "source": [
    "# Group similar messages to avoid data leaking"
   ]
  },
  {
   "cell_type": "code",
   "execution_count": 116,
   "metadata": {},
   "outputs": [
    {
     "data": {
      "text/plain": [
       "33.55763816833496"
      ]
     },
     "execution_count": 116,
     "metadata": {},
     "output_type": "execute_result"
    }
   ],
   "source": [
    "from sklearn.feature_extraction.text import TfidfVectorizer\n",
    "from sklearn.metrics.pairwise import linear_kernel\n",
    "import time\n",
    "threshold = 0.8\n",
    "grouped_texts = {}\n",
    "included_texts = []\n",
    "\n",
    "# vectorize\n",
    "vectorizer = TfidfVectorizer()\n",
    "texts = list(df_content['text'])\n",
    "tfidf = vectorizer.fit_transform(texts)\n",
    "start=time.time()\n",
    "\n",
    "for t in texts:\n",
    "    \n",
    "    if t in included_texts:\n",
    "        continue\n",
    "    else:\n",
    "        grouped_texts[t] = [t]\n",
    "        included_texts.append(t)    \n",
    "    \n",
    "    vec = vectorizer.transform([t])\n",
    "    cosine_similarities = linear_kernel(vec, tfidf).flatten()\n",
    "    sorted_idx = np.argsort(cosine_similarities)\n",
    "    sorted_sims = np.sort(cosine_similarities)\n",
    "    i = -2   \n",
    "\n",
    "    while i > -len(texts):\n",
    "        sim = sorted_sims[i]\n",
    "        if sim >= threshold:\n",
    "            t_variation = texts[sorted_idx[i]]\n",
    "            grouped_texts[t] += [t_variation]\n",
    "            included_texts.append(t_variation)\n",
    "            i -= 1\n",
    "        else:\n",
    "            break           \n",
    "\n",
    "total_time = time.time() - start\n",
    "total_time"
   ]
  },
  {
   "cell_type": "code",
   "execution_count": 117,
   "metadata": {},
   "outputs": [
    {
     "data": {
      "text/plain": [
       "4131"
      ]
     },
     "execution_count": 117,
     "metadata": {},
     "output_type": "execute_result"
    }
   ],
   "source": [
    "len(grouped_texts.keys())"
   ]
  },
  {
   "cell_type": "code",
   "execution_count": 118,
   "metadata": {},
   "outputs": [],
   "source": [
    "import pickle\n",
    "\n",
    "with open('data/2018/grouped_texts.pickle', 'wb') as handle:\n",
    "    pickle.dump(grouped_texts, handle)\n"
   ]
  },
  {
   "cell_type": "code",
   "execution_count": 2,
   "metadata": {},
   "outputs": [],
   "source": [
    "grouped_texts = pickle.load( open( \"data/2018/grouped_texts.pickle\", \"rb\" ))"
   ]
  },
  {
   "cell_type": "markdown",
   "metadata": {},
   "source": [
    "## Shuffle and split in train-test with all variations"
   ]
  },
  {
   "cell_type": "code",
   "execution_count": 13,
   "metadata": {},
   "outputs": [
    {
     "name": "stdout",
     "output_type": "stream",
     "text": [
      "cut: 3304\n"
     ]
    }
   ],
   "source": [
    "import random\n",
    "import math\n",
    "\n",
    "random.seed(13)\n",
    "group_keys = (grouped_texts.keys())\n",
    "group_keys = random.sample(group_keys,len(group_keys))\n",
    "\n",
    "cut = math.floor(len(group_keys)*0.8)\n",
    "print('cut:',cut)\n",
    "\n",
    "train_keys = group_keys[0:cut]\n",
    "test_keys = group_keys[cut:]\n",
    "\n",
    "id_iter = 0\n",
    "\n",
    "# add all variations\n",
    "train_texts = []\n",
    "y_train = []\n",
    "train_var = []\n",
    "train_ids = []\n",
    "\n",
    "for k in train_keys:\n",
    "    train_texts += grouped_texts[k]\n",
    "    mis = df_content[df_content['text']==k]['misinformation'].values[0]\n",
    "    y_train += [mis]*len(grouped_texts[k])\n",
    "    train_var.append(1)\n",
    "    train_var += [0]*(len(grouped_texts[k])-1)\n",
    "    \n",
    "    train_ids += [id_iter]*len(grouped_texts[k])\n",
    "    id_iter += 1\n",
    "    \n",
    "    \n",
    "test_texts = []\n",
    "y_test = []\n",
    "test_var = []\n",
    "test_ids = []\n",
    "\n",
    "# don't include repeated data\n",
    "for k in test_keys:\n",
    "    test_texts += grouped_texts[k]\n",
    "    mis = df_content[df_content['text']==k]['misinformation'].values[0]\n",
    "    y_test += [mis]*len(grouped_texts[k])\n",
    "    test_var.append(1)\n",
    "    test_var += [0]*(len(grouped_texts[k])-1)\n",
    "    \n",
    "    test_ids += [id_iter]*len(grouped_texts[k])\n",
    "    id_iter += 1\n",
    "    \n",
    "# persist\n",
    "df_train = pd.DataFrame({'text':train_texts, 'misinformation':y_train, 'original':train_var, 'id_message': train_ids})\n",
    "df_test = pd.DataFrame({'text':test_texts, 'misinformation':y_test, 'original':test_var, 'id_message': test_ids})\n",
    "df_train.to_csv('data/2018/train-test/train.csv', index = False)\n",
    "df_test.to_csv('data/2018/train-test/test.csv', index = False)"
   ]
  },
  {
   "cell_type": "code",
   "execution_count": 14,
   "metadata": {},
   "outputs": [
    {
     "data": {
      "text/html": [
       "<div>\n",
       "<style scoped>\n",
       "    .dataframe tbody tr th:only-of-type {\n",
       "        vertical-align: middle;\n",
       "    }\n",
       "\n",
       "    .dataframe tbody tr th {\n",
       "        vertical-align: top;\n",
       "    }\n",
       "\n",
       "    .dataframe thead th {\n",
       "        text-align: right;\n",
       "    }\n",
       "</style>\n",
       "<table border=\"1\" class=\"dataframe\">\n",
       "  <thead>\n",
       "    <tr style=\"text-align: right;\">\n",
       "      <th></th>\n",
       "      <th>text</th>\n",
       "      <th>misinformation</th>\n",
       "      <th>original</th>\n",
       "      <th>id_message</th>\n",
       "    </tr>\n",
       "  </thead>\n",
       "  <tbody>\n",
       "    <tr>\n",
       "      <th>0</th>\n",
       "      <td>Líder PCC preso em São Paulo ontem externa tod...</td>\n",
       "      <td>1</td>\n",
       "      <td>1</td>\n",
       "      <td>3304</td>\n",
       "    </tr>\n",
       "    <tr>\n",
       "      <th>1</th>\n",
       "      <td>🗣 Amanhã, as 10:00 hs, na praça da Matriz, um ...</td>\n",
       "      <td>1</td>\n",
       "      <td>1</td>\n",
       "      <td>3305</td>\n",
       "    </tr>\n",
       "    <tr>\n",
       "      <th>2</th>\n",
       "      <td>Saiu  pesquisa para presidente 2018 encomendad...</td>\n",
       "      <td>1</td>\n",
       "      <td>1</td>\n",
       "      <td>3306</td>\n",
       "    </tr>\n",
       "    <tr>\n",
       "      <th>3</th>\n",
       "      <td>Marina sofre atentado em campanha e é internad...</td>\n",
       "      <td>0</td>\n",
       "      <td>1</td>\n",
       "      <td>3307</td>\n",
       "    </tr>\n",
       "    <tr>\n",
       "      <th>4</th>\n",
       "      <td>UOL (@UOL) tweetou: PT nas eleições | Ciro vai...</td>\n",
       "      <td>0</td>\n",
       "      <td>1</td>\n",
       "      <td>3308</td>\n",
       "    </tr>\n",
       "    <tr>\n",
       "      <th>...</th>\n",
       "      <td>...</td>\n",
       "      <td>...</td>\n",
       "      <td>...</td>\n",
       "      <td>...</td>\n",
       "    </tr>\n",
       "    <tr>\n",
       "      <th>1569</th>\n",
       "      <td>*https://youtu.be/sUGeHHOEqmQ.                ...</td>\n",
       "      <td>1</td>\n",
       "      <td>1</td>\n",
       "      <td>4126</td>\n",
       "    </tr>\n",
       "    <tr>\n",
       "      <th>1570</th>\n",
       "      <td>AGORA A BOMBA CAI NO COLO DE CINTHIA RIBEIRO: ...</td>\n",
       "      <td>0</td>\n",
       "      <td>1</td>\n",
       "      <td>4127</td>\n",
       "    </tr>\n",
       "    <tr>\n",
       "      <th>1571</th>\n",
       "      <td>OS TRAIDORES DA IGREJA. PADRES COMUNISTAS, ETC...</td>\n",
       "      <td>1</td>\n",
       "      <td>1</td>\n",
       "      <td>4128</td>\n",
       "    </tr>\n",
       "    <tr>\n",
       "      <th>1572</th>\n",
       "      <td>Desmascarando, a pesquisa publicada na rede Gl...</td>\n",
       "      <td>1</td>\n",
       "      <td>1</td>\n",
       "      <td>4129</td>\n",
       "    </tr>\n",
       "    <tr>\n",
       "      <th>1573</th>\n",
       "      <td>http://politicos.org.br/mapa-resultado?id=RN R...</td>\n",
       "      <td>0</td>\n",
       "      <td>1</td>\n",
       "      <td>4130</td>\n",
       "    </tr>\n",
       "  </tbody>\n",
       "</table>\n",
       "<p>1574 rows × 4 columns</p>\n",
       "</div>"
      ],
      "text/plain": [
       "                                                   text  misinformation  \\\n",
       "0     Líder PCC preso em São Paulo ontem externa tod...               1   \n",
       "1     🗣 Amanhã, as 10:00 hs, na praça da Matriz, um ...               1   \n",
       "2     Saiu  pesquisa para presidente 2018 encomendad...               1   \n",
       "3     Marina sofre atentado em campanha e é internad...               0   \n",
       "4     UOL (@UOL) tweetou: PT nas eleições | Ciro vai...               0   \n",
       "...                                                 ...             ...   \n",
       "1569  *https://youtu.be/sUGeHHOEqmQ.                ...               1   \n",
       "1570  AGORA A BOMBA CAI NO COLO DE CINTHIA RIBEIRO: ...               0   \n",
       "1571  OS TRAIDORES DA IGREJA. PADRES COMUNISTAS, ETC...               1   \n",
       "1572  Desmascarando, a pesquisa publicada na rede Gl...               1   \n",
       "1573  http://politicos.org.br/mapa-resultado?id=RN R...               0   \n",
       "\n",
       "      original  id_message  \n",
       "0            1        3304  \n",
       "1            1        3305  \n",
       "2            1        3306  \n",
       "3            1        3307  \n",
       "4            1        3308  \n",
       "...        ...         ...  \n",
       "1569         1        4126  \n",
       "1570         1        4127  \n",
       "1571         1        4128  \n",
       "1572         1        4129  \n",
       "1573         1        4130  \n",
       "\n",
       "[1574 rows x 4 columns]"
      ]
     },
     "execution_count": 14,
     "metadata": {},
     "output_type": "execute_result"
    }
   ],
   "source": [
    "df_test"
   ]
  },
  {
   "cell_type": "code",
   "execution_count": 15,
   "metadata": {},
   "outputs": [
    {
     "name": "stdout",
     "output_type": "stream",
     "text": [
      "expanded messages in test set\n",
      "0.47458703939008895\n"
     ]
    },
    {
     "data": {
      "text/html": [
       "<div>\n",
       "<style scoped>\n",
       "    .dataframe tbody tr th:only-of-type {\n",
       "        vertical-align: middle;\n",
       "    }\n",
       "\n",
       "    .dataframe tbody tr th {\n",
       "        vertical-align: top;\n",
       "    }\n",
       "\n",
       "    .dataframe thead th {\n",
       "        text-align: right;\n",
       "    }\n",
       "</style>\n",
       "<table border=\"1\" class=\"dataframe\">\n",
       "  <thead>\n",
       "    <tr style=\"text-align: right;\">\n",
       "      <th></th>\n",
       "      <th>text</th>\n",
       "      <th>misinformation</th>\n",
       "      <th>original</th>\n",
       "      <th>id_message</th>\n",
       "    </tr>\n",
       "  </thead>\n",
       "  <tbody>\n",
       "    <tr>\n",
       "      <th>7</th>\n",
       "      <td>Bolsonaro e Mourão  estão numa pizzaria jantan...</td>\n",
       "      <td>0</td>\n",
       "      <td>0</td>\n",
       "      <td>3310</td>\n",
       "    </tr>\n",
       "    <tr>\n",
       "      <th>8</th>\n",
       "      <td>😉😉😉😉😽😹\\nBolsonaro e Mourão estão numa pizzaria...</td>\n",
       "      <td>0</td>\n",
       "      <td>0</td>\n",
       "      <td>3310</td>\n",
       "    </tr>\n",
       "    <tr>\n",
       "      <th>9</th>\n",
       "      <td>Bolsonaro e Mourão  estão numa pizzaria jantan...</td>\n",
       "      <td>0</td>\n",
       "      <td>0</td>\n",
       "      <td>3310</td>\n",
       "    </tr>\n",
       "    <tr>\n",
       "      <th>10</th>\n",
       "      <td>Bolsonaro e Mourão  estão numa churrascaria ja...</td>\n",
       "      <td>0</td>\n",
       "      <td>0</td>\n",
       "      <td>3310</td>\n",
       "    </tr>\n",
       "    <tr>\n",
       "      <th>15</th>\n",
       "      <td>https://youtu.be/QvSF3FrYs6g\\n\\nFalta 35 dias ...</td>\n",
       "      <td>0</td>\n",
       "      <td>0</td>\n",
       "      <td>3314</td>\n",
       "    </tr>\n",
       "    <tr>\n",
       "      <th>...</th>\n",
       "      <td>...</td>\n",
       "      <td>...</td>\n",
       "      <td>...</td>\n",
       "      <td>...</td>\n",
       "    </tr>\n",
       "    <tr>\n",
       "      <th>1552</th>\n",
       "      <td>*Relação de #Marqueteiros de Jair Bolsonaro, r...</td>\n",
       "      <td>0</td>\n",
       "      <td>0</td>\n",
       "      <td>4113</td>\n",
       "    </tr>\n",
       "    <tr>\n",
       "      <th>1553</th>\n",
       "      <td>*Relação de #Marqueteiros de Jair Bolsonaro, r...</td>\n",
       "      <td>0</td>\n",
       "      <td>0</td>\n",
       "      <td>4113</td>\n",
       "    </tr>\n",
       "    <tr>\n",
       "      <th>1558</th>\n",
       "      <td>Ladrão tenta roubar com faca dentro do trem, s...</td>\n",
       "      <td>0</td>\n",
       "      <td>0</td>\n",
       "      <td>4117</td>\n",
       "    </tr>\n",
       "    <tr>\n",
       "      <th>1560</th>\n",
       "      <td>*_Vamos começar uma campanha, quem é brasileir...</td>\n",
       "      <td>0</td>\n",
       "      <td>0</td>\n",
       "      <td>4118</td>\n",
       "    </tr>\n",
       "    <tr>\n",
       "      <th>1565</th>\n",
       "      <td>https://youtu.be/JUlUVZqlr1k ... vídeo da Rena...</td>\n",
       "      <td>1</td>\n",
       "      <td>0</td>\n",
       "      <td>4122</td>\n",
       "    </tr>\n",
       "  </tbody>\n",
       "</table>\n",
       "<p>747 rows × 4 columns</p>\n",
       "</div>"
      ],
      "text/plain": [
       "                                                   text  misinformation  \\\n",
       "7     Bolsonaro e Mourão  estão numa pizzaria jantan...               0   \n",
       "8     😉😉😉😉😽😹\\nBolsonaro e Mourão estão numa pizzaria...               0   \n",
       "9     Bolsonaro e Mourão  estão numa pizzaria jantan...               0   \n",
       "10    Bolsonaro e Mourão  estão numa churrascaria ja...               0   \n",
       "15    https://youtu.be/QvSF3FrYs6g\\n\\nFalta 35 dias ...               0   \n",
       "...                                                 ...             ...   \n",
       "1552  *Relação de #Marqueteiros de Jair Bolsonaro, r...               0   \n",
       "1553  *Relação de #Marqueteiros de Jair Bolsonaro, r...               0   \n",
       "1558  Ladrão tenta roubar com faca dentro do trem, s...               0   \n",
       "1560  *_Vamos começar uma campanha, quem é brasileir...               0   \n",
       "1565  https://youtu.be/JUlUVZqlr1k ... vídeo da Rena...               1   \n",
       "\n",
       "      original  id_message  \n",
       "7            0        3310  \n",
       "8            0        3310  \n",
       "9            0        3310  \n",
       "10           0        3310  \n",
       "15           0        3314  \n",
       "...        ...         ...  \n",
       "1552         0        4113  \n",
       "1553         0        4113  \n",
       "1558         0        4117  \n",
       "1560         0        4118  \n",
       "1565         0        4122  \n",
       "\n",
       "[747 rows x 4 columns]"
      ]
     },
     "execution_count": 15,
     "metadata": {},
     "output_type": "execute_result"
    }
   ],
   "source": [
    "print('expanded messages in test set')\n",
    "print(len(df_test[df_test['original']==0])/len(df_test))\n",
    "df_test[df_test['original']==0]"
   ]
  },
  {
   "cell_type": "code",
   "execution_count": 16,
   "metadata": {},
   "outputs": [
    {
     "data": {
      "text/html": [
       "<div>\n",
       "<style scoped>\n",
       "    .dataframe tbody tr th:only-of-type {\n",
       "        vertical-align: middle;\n",
       "    }\n",
       "\n",
       "    .dataframe tbody tr th {\n",
       "        vertical-align: top;\n",
       "    }\n",
       "\n",
       "    .dataframe thead th {\n",
       "        text-align: right;\n",
       "    }\n",
       "</style>\n",
       "<table border=\"1\" class=\"dataframe\">\n",
       "  <thead>\n",
       "    <tr style=\"text-align: right;\">\n",
       "      <th></th>\n",
       "      <th>text</th>\n",
       "      <th>misinformation</th>\n",
       "      <th>original</th>\n",
       "      <th>id_message</th>\n",
       "    </tr>\n",
       "  </thead>\n",
       "  <tbody>\n",
       "    <tr>\n",
       "      <th>0</th>\n",
       "      <td>A ESQUERDA ACABOU. SAIBA POR QUÊ.\\npor Stephen...</td>\n",
       "      <td>1</td>\n",
       "      <td>1</td>\n",
       "      <td>0</td>\n",
       "    </tr>\n",
       "    <tr>\n",
       "      <th>1</th>\n",
       "      <td>Leiam esse artigo \\n\\n\\nA ESQUERDA ACABOU. SAI...</td>\n",
       "      <td>1</td>\n",
       "      <td>0</td>\n",
       "      <td>0</td>\n",
       "    </tr>\n",
       "    <tr>\n",
       "      <th>2</th>\n",
       "      <td>A ESQUERDA ACABOU. SAIBA POR QUÊ?\\npor Stephen...</td>\n",
       "      <td>1</td>\n",
       "      <td>0</td>\n",
       "      <td>0</td>\n",
       "    </tr>\n",
       "    <tr>\n",
       "      <th>3</th>\n",
       "      <td>A ESQUERDA ACABOU. SAIBA POR QUÊ.\\npor Stephen...</td>\n",
       "      <td>1</td>\n",
       "      <td>0</td>\n",
       "      <td>0</td>\n",
       "    </tr>\n",
       "    <tr>\n",
       "      <th>4</th>\n",
       "      <td>A ESQUERDA ACABOU. SAIBA POR QUÊ.\\npor Stephen...</td>\n",
       "      <td>1</td>\n",
       "      <td>0</td>\n",
       "      <td>0</td>\n",
       "    </tr>\n",
       "    <tr>\n",
       "      <th>...</th>\n",
       "      <td>...</td>\n",
       "      <td>...</td>\n",
       "      <td>...</td>\n",
       "      <td>...</td>\n",
       "    </tr>\n",
       "    <tr>\n",
       "      <th>6228</th>\n",
       "      <td>ATENÇÃO ELEITORES DE BOLSONARO EM BELÉM DO PAR...</td>\n",
       "      <td>0</td>\n",
       "      <td>1</td>\n",
       "      <td>3301</td>\n",
       "    </tr>\n",
       "    <tr>\n",
       "      <th>6229</th>\n",
       "      <td>\"DITA DURA\".\\n\\nPara:\\n\"Ninguém é igual a ning...</td>\n",
       "      <td>1</td>\n",
       "      <td>1</td>\n",
       "      <td>3302</td>\n",
       "    </tr>\n",
       "    <tr>\n",
       "      <th>6230</th>\n",
       "      <td>GRANDE CARLOS DRUMOND DE ANDRADE:             ...</td>\n",
       "      <td>1</td>\n",
       "      <td>0</td>\n",
       "      <td>3302</td>\n",
       "    </tr>\n",
       "    <tr>\n",
       "      <th>6231</th>\n",
       "      <td>CARLOS DRUMOND DE ANDRADE\\n\\nDITA DURA\\n\"Ningu...</td>\n",
       "      <td>1</td>\n",
       "      <td>0</td>\n",
       "      <td>3302</td>\n",
       "    </tr>\n",
       "    <tr>\n",
       "      <th>6232</th>\n",
       "      <td>[11:15, 8/10/2018] Agnaldo: BOLSONARO TEM QUE ...</td>\n",
       "      <td>1</td>\n",
       "      <td>1</td>\n",
       "      <td>3303</td>\n",
       "    </tr>\n",
       "  </tbody>\n",
       "</table>\n",
       "<p>6233 rows × 4 columns</p>\n",
       "</div>"
      ],
      "text/plain": [
       "                                                   text  misinformation  \\\n",
       "0     A ESQUERDA ACABOU. SAIBA POR QUÊ.\\npor Stephen...               1   \n",
       "1     Leiam esse artigo \\n\\n\\nA ESQUERDA ACABOU. SAI...               1   \n",
       "2     A ESQUERDA ACABOU. SAIBA POR QUÊ?\\npor Stephen...               1   \n",
       "3     A ESQUERDA ACABOU. SAIBA POR QUÊ.\\npor Stephen...               1   \n",
       "4     A ESQUERDA ACABOU. SAIBA POR QUÊ.\\npor Stephen...               1   \n",
       "...                                                 ...             ...   \n",
       "6228  ATENÇÃO ELEITORES DE BOLSONARO EM BELÉM DO PAR...               0   \n",
       "6229  \"DITA DURA\".\\n\\nPara:\\n\"Ninguém é igual a ning...               1   \n",
       "6230  GRANDE CARLOS DRUMOND DE ANDRADE:             ...               1   \n",
       "6231  CARLOS DRUMOND DE ANDRADE\\n\\nDITA DURA\\n\"Ningu...               1   \n",
       "6232  [11:15, 8/10/2018] Agnaldo: BOLSONARO TEM QUE ...               1   \n",
       "\n",
       "      original  id_message  \n",
       "0            1           0  \n",
       "1            0           0  \n",
       "2            0           0  \n",
       "3            0           0  \n",
       "4            0           0  \n",
       "...        ...         ...  \n",
       "6228         1        3301  \n",
       "6229         1        3302  \n",
       "6230         0        3302  \n",
       "6231         0        3302  \n",
       "6232         1        3303  \n",
       "\n",
       "[6233 rows x 4 columns]"
      ]
     },
     "execution_count": 16,
     "metadata": {},
     "output_type": "execute_result"
    }
   ],
   "source": [
    "df_train"
   ]
  },
  {
   "cell_type": "code",
   "execution_count": 123,
   "metadata": {},
   "outputs": [],
   "source": [
    "import matplotlib.pyplot as plt\n",
    "import seaborn as sns\n",
    "%matplotlib inline\n",
    "sns.set(style=\"darkgrid\")\n",
    "\n",
    "def print_class_balance(y):\n",
    "    pos_mask = y == 1 \n",
    "    pos = y[pos_mask]\n",
    "    neg_mask = y == 0 \n",
    "    neg = y[neg_mask]\n",
    "    values = [pos.shape[0],neg.shape[0]]\n",
    "    keys = ['misinformation', 'non-misinformation']\n",
    "    g = sns.barplot(x = keys, y = values)\n",
    "    for p in g.patches:\n",
    "        g.annotate(format(p.get_height(), '.0f'), (p.get_x() + p.get_width() / 2., \n",
    "                                                   p.get_height()), ha = 'center', \n",
    "                   va = 'center', xytext = (0, 5), textcoords = 'offset points')"
   ]
  },
  {
   "cell_type": "code",
   "execution_count": 138,
   "metadata": {},
   "outputs": [
    {
     "name": "stdout",
     "output_type": "stream",
     "text": [
      "train\n"
     ]
    },
    {
     "data": {
      "image/png": "[encoded data removed]",
      "text/plain": [
       "<Figure size 432x288 with 1 Axes>"
      ]
     },
     "metadata": {},
     "output_type": "display_data"
    }
   ],
   "source": [
    "print('train')        \n",
    "print_class_balance(df_train['misinformation'])"
   ]
  },
  {
   "cell_type": "code",
   "execution_count": 139,
   "metadata": {},
   "outputs": [
    {
     "name": "stdout",
     "output_type": "stream",
     "text": [
      "test\n"
     ]
    },
    {
     "data": {
      "image/png": "[encoded data removed]",
      "text/plain": [
       "<Figure size 432x288 with 1 Axes>"
      ]
     },
     "metadata": {},
     "output_type": "display_data"
    }
   ],
   "source": [
    "print('test')        \n",
    "print_class_balance(df_test['misinformation'])"
   ]
  },
  {
   "cell_type": "code",
   "execution_count": 141,
   "metadata": {},
   "outputs": [
    {
     "name": "stdout",
     "output_type": "stream",
     "text": [
      "expanded test\n"
     ]
    },
    {
     "data": {
      "image/png": "[encoded data removed]",
      "text/plain": [
       "<Figure size 432x288 with 1 Axes>"
      ]
     },
     "metadata": {},
     "output_type": "display_data"
    }
   ],
   "source": [
    "print('expanded test')        \n",
    "print_class_balance(df_test[df_test['original']==0]['misinformation'])"
   ]
  },
  {
   "cell_type": "code",
   "execution_count": 126,
   "metadata": {},
   "outputs": [],
   "source": [
    "###\n",
    "df_train = pd.read_csv('data/2018/train-test/train.csv')\n",
    "df_test = pd.read_csv('data/2018/train-test/test.csv')"
   ]
  },
  {
   "cell_type": "code",
   "execution_count": 137,
   "metadata": {},
   "outputs": [
    {
     "data": {
      "text/plain": [
       "array([], dtype=object)"
      ]
     },
     "execution_count": 137,
     "metadata": {},
     "output_type": "execute_result"
    }
   ],
   "source": [
    "def query(words,text):\n",
    "    text = str(text).lower()\n",
    "    for word in words:\n",
    "        word = word.lower()    \n",
    "        if word in text:\n",
    "            return True\n",
    "        else:\n",
    "            return False\n",
    "    \n",
    "df_train[(df_train.apply(lambda x: query(['adicionem esse número','marqueteir','do jair', 'lista'], x['text']),axis=1))]['text'].values\n"
   ]
  },
  {
   "cell_type": "code",
   "execution_count": 136,
   "metadata": {},
   "outputs": [
    {
     "data": {
      "text/html": [
       "<div>\n",
       "<style scoped>\n",
       "    .dataframe tbody tr th:only-of-type {\n",
       "        vertical-align: middle;\n",
       "    }\n",
       "\n",
       "    .dataframe tbody tr th {\n",
       "        vertical-align: top;\n",
       "    }\n",
       "\n",
       "    .dataframe thead th {\n",
       "        text-align: right;\n",
       "    }\n",
       "</style>\n",
       "<table border=\"1\" class=\"dataframe\">\n",
       "  <thead>\n",
       "    <tr style=\"text-align: right;\">\n",
       "      <th></th>\n",
       "      <th>text</th>\n",
       "      <th>misinformation</th>\n",
       "      <th>original</th>\n",
       "    </tr>\n",
       "  </thead>\n",
       "  <tbody>\n",
       "  </tbody>\n",
       "</table>\n",
       "</div>"
      ],
      "text/plain": [
       "Empty DataFrame\n",
       "Columns: [text, misinformation, original]\n",
       "Index: []"
      ]
     },
     "execution_count": 136,
     "metadata": {},
     "output_type": "execute_result"
    }
   ],
   "source": [
    "df_test[df_test.apply(lambda x: query(['marqueteir', 'list'], x['text']),axis=1)]"
   ]
  },
  {
   "cell_type": "code",
   "execution_count": 129,
   "metadata": {},
   "outputs": [],
   "source": [
    "df_train = df_train[(df_train.apply(lambda x: not query(['marqueteir'], x['text']),axis=1))]\n",
    "df_train.to_csv('data/2018/train-test/train.csv', index = False)"
   ]
  },
  {
   "cell_type": "code",
   "execution_count": 135,
   "metadata": {},
   "outputs": [],
   "source": [
    "df_test = df_test[(df_test.apply(lambda x: not query(['marqueteir'], x['text']),axis=1))]\n",
    "df_test.to_csv('data/2018/train-test/test.csv', index = False)"
   ]
  }
 ],
 "metadata": {
  "kernelspec": {
   "display_name": "env",
   "language": "python",
   "name": "env"
  },
  "language_info": {
   "codemirror_mode": {
    "name": "ipython",
    "version": 3
   },
   "file_extension": ".py",
   "mimetype": "text/x-python",
   "name": "python",
   "nbconvert_exporter": "python",
   "pygments_lexer": "ipython3",
   "version": "3.8.5"
  }
 },
 "nbformat": 4,
 "nbformat_minor": 4
}
