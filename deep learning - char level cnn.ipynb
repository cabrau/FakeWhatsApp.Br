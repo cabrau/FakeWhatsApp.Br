{
 "cells": [
  {
   "cell_type": "markdown",
   "metadata": {},
   "source": [
    "# Character-level Convolutional Network\n",
    "In this notebook we train and evaluate the performance of a convolutional neural network in the task of detecting misinformation in WhatsApp texts."
   ]
  },
  {
   "cell_type": "code",
   "execution_count": 38,
   "metadata": {},
   "outputs": [],
   "source": [
    "from __future__ import print_function\n",
    "from keras.preprocessing import sequence\n",
    "from keras.models import Sequential\n",
    "from keras.layers import Dense, Dropout, Activation\n",
    "from keras.layers import Embedding\n",
    "from keras.layers import Conv1D, GlobalMaxPooling1D\n",
    "from sklearn.model_selection import train_test_split\n",
    "from sklearn import metrics\n",
    "import pandas as pd\n",
    "import numpy as np\n",
    "import matplotlib.pyplot as plt\n",
    "import seaborn as sns\n",
    "import numpy as np\n",
    "from utils import getTestMetrics\n",
    "from imblearn.over_sampling import SMOTE \n",
    "%matplotlib inline\n",
    "sns.set(style=\"whitegrid\")"
   ]
  },
  {
   "cell_type": "code",
   "execution_count": 2,
   "metadata": {},
   "outputs": [
    {
     "name": "stderr",
     "output_type": "stream",
     "text": [
      "/home/cabral/anaconda3/lib/python3.7/site-packages/IPython/core/interactiveshell.py:3049: DtypeWarning: Columns (3,6) have mixed types.Specify dtype option on import or set low_memory=False.\n",
      "  interactivity=interactivity, compiler=compiler, result=result)\n"
     ]
    },
    {
     "data": {
      "text/html": [
       "<div>\n",
       "<style scoped>\n",
       "    .dataframe tbody tr th:only-of-type {\n",
       "        vertical-align: middle;\n",
       "    }\n",
       "\n",
       "    .dataframe tbody tr th {\n",
       "        vertical-align: top;\n",
       "    }\n",
       "\n",
       "    .dataframe thead th {\n",
       "        text-align: right;\n",
       "    }\n",
       "</style>\n",
       "<table border=\"1\" class=\"dataframe\">\n",
       "  <thead>\n",
       "    <tr style=\"text-align: right;\">\n",
       "      <th></th>\n",
       "      <th>id</th>\n",
       "      <th>date</th>\n",
       "      <th>hour</th>\n",
       "      <th>ddi</th>\n",
       "      <th>country</th>\n",
       "      <th>country_iso3</th>\n",
       "      <th>ddd</th>\n",
       "      <th>state</th>\n",
       "      <th>group</th>\n",
       "      <th>midia</th>\n",
       "      <th>url</th>\n",
       "      <th>characters</th>\n",
       "      <th>words</th>\n",
       "      <th>viral</th>\n",
       "      <th>sharings</th>\n",
       "      <th>text</th>\n",
       "      <th>misinformation</th>\n",
       "    </tr>\n",
       "  </thead>\n",
       "  <tbody>\n",
       "    <tr>\n",
       "      <th>0</th>\n",
       "      <td>3631133147603888180</td>\n",
       "      <td>01/08/18</td>\n",
       "      <td>13:13</td>\n",
       "      <td>55</td>\n",
       "      <td>BRASIL</td>\n",
       "      <td>BRA</td>\n",
       "      <td>17</td>\n",
       "      <td>São Paulo</td>\n",
       "      <td>2018_1</td>\n",
       "      <td>1</td>\n",
       "      <td>0</td>\n",
       "      <td>25</td>\n",
       "      <td>4</td>\n",
       "      <td>0</td>\n",
       "      <td>1</td>\n",
       "      <td>&lt;Arquivo de mídia oculto&gt;</td>\n",
       "      <td>0</td>\n",
       "    </tr>\n",
       "    <tr>\n",
       "      <th>1</th>\n",
       "      <td>3631133147603888180</td>\n",
       "      <td>01/08/18</td>\n",
       "      <td>13:24</td>\n",
       "      <td>55</td>\n",
       "      <td>BRASIL</td>\n",
       "      <td>BRA</td>\n",
       "      <td>17</td>\n",
       "      <td>São Paulo</td>\n",
       "      <td>2018_1</td>\n",
       "      <td>0</td>\n",
       "      <td>0</td>\n",
       "      <td>58</td>\n",
       "      <td>9</td>\n",
       "      <td>1</td>\n",
       "      <td>2</td>\n",
       "      <td>O Bolsonaro tem que estar preparado pra respon...</td>\n",
       "      <td>0</td>\n",
       "    </tr>\n",
       "    <tr>\n",
       "      <th>2</th>\n",
       "      <td>3631133147603888180</td>\n",
       "      <td>01/08/18</td>\n",
       "      <td>13:24</td>\n",
       "      <td>55</td>\n",
       "      <td>BRASIL</td>\n",
       "      <td>BRA</td>\n",
       "      <td>17</td>\n",
       "      <td>São Paulo</td>\n",
       "      <td>2018_1</td>\n",
       "      <td>1</td>\n",
       "      <td>0</td>\n",
       "      <td>25</td>\n",
       "      <td>4</td>\n",
       "      <td>0</td>\n",
       "      <td>1</td>\n",
       "      <td>&lt;Arquivo de mídia oculto&gt;</td>\n",
       "      <td>0</td>\n",
       "    </tr>\n",
       "    <tr>\n",
       "      <th>3</th>\n",
       "      <td>-4391661641377612003</td>\n",
       "      <td>01/08/18</td>\n",
       "      <td>13:28</td>\n",
       "      <td>55</td>\n",
       "      <td>BRASIL</td>\n",
       "      <td>BRA</td>\n",
       "      <td>13</td>\n",
       "      <td>São Paulo</td>\n",
       "      <td>2018_1</td>\n",
       "      <td>0</td>\n",
       "      <td>0</td>\n",
       "      <td>5</td>\n",
       "      <td>1</td>\n",
       "      <td>0</td>\n",
       "      <td>1</td>\n",
       "      <td>Boaaa</td>\n",
       "      <td>0</td>\n",
       "    </tr>\n",
       "    <tr>\n",
       "      <th>4</th>\n",
       "      <td>-4391661641377612003</td>\n",
       "      <td>09/08/18</td>\n",
       "      <td>14:46</td>\n",
       "      <td>55</td>\n",
       "      <td>BRASIL</td>\n",
       "      <td>BRA</td>\n",
       "      <td>13</td>\n",
       "      <td>São Paulo</td>\n",
       "      <td>2018_1</td>\n",
       "      <td>1</td>\n",
       "      <td>0</td>\n",
       "      <td>25</td>\n",
       "      <td>4</td>\n",
       "      <td>0</td>\n",
       "      <td>1</td>\n",
       "      <td>&lt;Arquivo de mídia oculto&gt;</td>\n",
       "      <td>0</td>\n",
       "    </tr>\n",
       "  </tbody>\n",
       "</table>\n",
       "</div>"
      ],
      "text/plain": [
       "                    id      date   hour ddi country country_iso3 ddd  \\\n",
       "0  3631133147603888180  01/08/18  13:13  55  BRASIL          BRA  17   \n",
       "1  3631133147603888180  01/08/18  13:24  55  BRASIL          BRA  17   \n",
       "2  3631133147603888180  01/08/18  13:24  55  BRASIL          BRA  17   \n",
       "3 -4391661641377612003  01/08/18  13:28  55  BRASIL          BRA  13   \n",
       "4 -4391661641377612003  09/08/18  14:46  55  BRASIL          BRA  13   \n",
       "\n",
       "       state   group  midia  url  characters  words  viral  sharings  \\\n",
       "0  São Paulo  2018_1      1    0          25      4      0         1   \n",
       "1  São Paulo  2018_1      0    0          58      9      1         2   \n",
       "2  São Paulo  2018_1      1    0          25      4      0         1   \n",
       "3  São Paulo  2018_1      0    0           5      1      0         1   \n",
       "4  São Paulo  2018_1      1    0          25      4      0         1   \n",
       "\n",
       "                                                text  misinformation  \n",
       "0                          <Arquivo de mídia oculto>               0  \n",
       "1  O Bolsonaro tem que estar preparado pra respon...               0  \n",
       "2                          <Arquivo de mídia oculto>               0  \n",
       "3                                              Boaaa               0  \n",
       "4                          <Arquivo de mídia oculto>               0  "
      ]
     },
     "execution_count": 2,
     "metadata": {},
     "output_type": "execute_result"
    }
   ],
   "source": [
    "base = 2018\n",
    "filepath = 'data/' + str(base) + '/fakeWhatsApp.BR_' + str(base) + '.csv'\n",
    "df = pd.read_csv(filepath)\n",
    "df.head(5)"
   ]
  },
  {
   "cell_type": "code",
   "execution_count": 3,
   "metadata": {},
   "outputs": [],
   "source": [
    "#removing duplicates\n",
    "df = df.drop_duplicates(subset=['text'])\n",
    "#texts\n",
    "texts = df[df['midia']==0]['text']\n",
    "#target\n",
    "y = df[df['midia']==0]['misinformation']"
   ]
  },
  {
   "cell_type": "markdown",
   "metadata": {},
   "source": [
    "# Char vocabulary, encoding and decoding"
   ]
  },
  {
   "cell_type": "code",
   "execution_count": 4,
   "metadata": {},
   "outputs": [
    {
     "name": "stdout",
     "output_type": "stream",
     "text": [
      "1304\n"
     ]
    }
   ],
   "source": [
    "txt_list = list(texts)\n",
    "txt_str = \" \".join(txt_list)\n",
    "#word_list = msg_str.split()\n",
    "char_list = list(txt_str)\n",
    "vocab_set = set(char_list)\n",
    "features = len(vocab_set)\n",
    "print(features)"
   ]
  },
  {
   "cell_type": "code",
   "execution_count": 5,
   "metadata": {},
   "outputs": [
    {
     "name": "stdout",
     "output_type": "stream",
     "text": [
      "∠ S 💯 📕 💦 🤛 🚂 🚹 じ 💪 ⇩ 🕥 💤 ù 🤢 原 👕 📙 а ⠒ ι 🚢 👫 🔈 ┻ 🔲 ב Ü 🖐 💕 p 🛬 🌛 💟 ‿ 4 📐 ິ ⚰ 👪 🛠 🐮 👉 À ō ◡ 🌅 👆 🍲 🚝 ⏳ ╱ υ י 😺 🍁 💄 Ù 🍓 を 🔜 🏹 🙂 三 📛 • ' /  ⠧ 🙍 🐈 💏 🍺 🎊 ā 🚛 ( 🇶 ☎ 🎨 É 🛫 厂 💧 🎫 ⠢ 🍼 ヽ Ä 🔉 ⠄ 😩 😋 🐻 🎸 🍗 💓 😶 🏠 👁 ⣭ ↪ 🐎 👷 🚒 😰 ñ 場 💍 🔋 😙 💨 ✍ ☻ ▫ 🍂 🖌 😀 Á ⛪ . ט 🇿 に ➥ ⬇ 😏 🚚 ⚓ 示 🏴 🧠 🐷 ⬆ z 🚵 🛶 🖤 ⠻ 🥗 🖋 🎟 | C 🥚 📰 🇱 🌫 🍔 👺 2 🔴 🧖 ま ⠁ 🏊 📡 言 \t 🤖 🧡 🍵 u ; 🦌 ® # わ ┣ 👮 👸 ĺ a 😨 🏷 喜 I 🗨 🇺 👰 ⤵ ◼ k 🌼 🤗 🤘 🍇 ú 😷 🌎 ⎠ 📚 👤 何 📖 ・ 🛵 ö 💭 t 💷 👎 $ 💝 🔑 🌳 🚤 ツ 🧒 ė 😌 ↖ が ☃ 🔊 ̷ 🆖 ⃣ 第 🏥 h Α 🎇 🍖 ⠋ 😞 🦋 🎞 そ ⣤ 🥟 🥑 ό 😡 🚩 ✠ 😉 ━ 🆗 π ⡻ ⭐ b 🛍 🕕 ┗ 🎙 ͡ l y 😴 ➖ 🐽 D 合 🙉 ❗ ¿ レ G 👥 🤰 🎾 ⡄ 😱 ⣈ 😊 察 全 @ 8 🏦 🔎 ⣠ 🛩 💉 © と 🛇 🐂 式 🐥 🚜 ✅ 😔 💌 👬 ε 協 ★ χ 9 🖥 〰 💡 😖 Q ❪ » 🥞 👜 à 私 Ă 🌞 ✳ ģ 🚖 👂 🇫 🥣 🐖 🏳 💣 Ɨ 卐 🗣 証 🕖 ☺ ີ 🗓 ຼ ⠸ 💸 ו 🥘 お ❇ 👍 ​ 🤴 _ 🌺 🎋 🌿 á 🍫 💼 🍶 ? 介 🙌 🔃 🍘 い 🛌 🎼 ✂ 🏚 X 😃 【 ⌚ 👖 V 👞 🏎 🍙 📷 は φ ᒪ 🦇 💽 🇴 3 づ 💶 🌟 📄 ⚒  Â 🏩 ­ 💒 🏾 🏽 👐 😄 る ル 🛡 θ ┓ ⛄ 😮 x 《 😪 😻 🏼 😆 🗻 í ̧ 📻 ☘ v 🅿 🥈 🔮 💲 🇨 ē 🐱 🦀 % 🤜 💎 🔕 ⛴ 😎 🤠 È  🤹 👚 警 🤯 👳 � 🍦 🍏 ➜ 🌜 6 👧 🐀 🔽 🕴 ☢ ⢻ ‭ ◀ F J ￼ 🎂 🇳 📏 💬 👟 、 🌨  🎩 ⡀ ה M 🐇 & 完 🤭 🕊 Y 🙏 ┳ 🏅  ― 👠 ά 😳 🐸 🚮 幺 Ô ¤ 📈 👔 🦁 🥂 🐛 ⢾ 🌾 ѕ 🙄 η て ﻿ 💔 < ⣿ 🌪 ⛱ 🔬 ü 🎯 🚡 🤲 ⏩ ∴ 🔘 ♠ 🌩  ╩ ⛸ 😑 ó 🖖 🖕 🐍 か 必 🇸 ⣼ 📗 ❎ 🎵 🃏 🤙 ┛ 💺 🚉 💜 U 🏬 ♀ ! 🚁 📘 ⛷ 🥖 🇹 👢 🍸 ─ 🎷 🌊 🕚 😁 ⎝ よ 😛 🤐 🚔 ⏲ ╯ 🥝 é 🚷 🤮 し ✖ 🛒 Å 🏘 🍧 前 🐔 ↙ T ✒ ⢠ ç 🌹 🧢 н 力 🎮 🙈 🔝 🧟 💂 ⁩ μ 😝 ^ 📬 c ◾ 🛳 😽 ⠿ 💖 7 🍌 🅰 🍍 Ú 💻 🐟 🚄 👑 🎪 😐 ◣ 🤩 🔺 ✊ ♂ 🤚 っ   🛐 † 🇧 🍰 応 🚊 ή ⚖ 🤔 🍒 ~ 🔨 ⚪ \" ļ 🐕 ໋ 🇮 📢 🚙 🌭 😓 😅 H 😟 🍃 🅱 🚬 ķ 🗞 “ ► ☝ ⏹ 👶 🥁 R 🎚 ↔ · 🍤 E 📞 🌵 ● 😇 ” 📆 🌬 🍻 🎈 持 ʖ 🚴 🛴 κ ☆ 無 🌽 🌍 🌝 🎅 💥 ້ 🍯 🚶 ⛽ 🧜 🍄 🌻 🍣 🤝 🔞 ⣷  ⣉ 🎤 🎽 藤 😥 Ƭ 📲 🥀 ☛ 🍹 * 😸 🙋 📒 ⏬ 😒 5 ᗩ 🌤 亀 🧓 ▾ 🍎 🚥 🍐 ⤴ 😼 🚫 ø 🕳 🥊 📣 ☑ r 🤱 🌐 📃 \\ 🔗 ⣽ 🤬 😯 ⏰ ❓ 🍿 🎖 🌀 ′ ♏ 🍮 👼 🕒 🚲 L 🕯 🍨 ᘉ 💆 ⛓ ⚜ ➕ 😤 › [ ⚙ ä 🐗 🔍 🔵 ⚠ 👌 🧔 関 ‏ 🍉 ▶ 🚎 ■ с 🤼 🐢 ‌ ⬅ 🧐 e 🔸 🇩 だ 🚑 👇 🐠 ⢸ ☞ 💵 🌌 👻 🥙 🗯 📹 ☔ 👭 😹 😜 🚦 ケ 🤓 〽 🐄 ́ 👩 ⠐ 🇻 Ė 😢 🚋 ⚫ ╝ ⚽ 🤧 👈 ⚕ 📮 ⠃ р 🕶 ╮ ♥ 🔐 ⡏ 💙 ⠛ 🙇 査 ⠙ 🔔 ć 🥧 🇯 ⁨ 🚌 ò ╦ 🗑 🐁 j ◥ 🔱 N 🇲 ◇ + 🦑 🍀 i ̤ 🎐 🍚 ύ 🥃 ⚡ ↘ 🤫 🐺 🦉 ⠉ − 🏁 ê 📍 💅 な å O ♦ 📧 ❫ り 🇵 ̈ ♻ { ɨ 👀 ✏ 📩 🚘 の 🦖 👃 1 分 ⏱ ⛔ Ç f ⡞ ì 👵 🍕 🍴 😠 定 📅 🦅 🇼 🎶 グ 。 🍑 😬 🚀 ⁦ ৣ 🎁 実 🇰 £ 👏 🏟 🔩 🥪 ̲ 💱 🤣 🗡 ♨ 🤪 一 🍷 🔛 🌱 🍽 ┏ █ 入 λ 💞 ん 🐭 🦕 A 💠 💴 🍛 🐲  ",
      " ɴ 🍥 ✡ ┫ 🤳 🐴 🥇 🆓 ♱ 😲 👘 ⚔ Í ã ν ✿ 🚍 📎 🤟 ▄ 📝 🔧 ш く 😗 🏛 ÷ 🌕 🤷 🤥 ➡ 🛰 🕔 💛 🐓 ` ☁ ➰ 🍟 – , ë 🌥 🔫 🌷 🙅 ☀ d 🤤 🕗 ⛑ ⢿ 🤡 — т ⣄ ⛅ 🆙 🚗 ⠍ o 🇬 😾 ⠈ ⭕ ✓ 🗳 🗺 Ķ ┃ } 🕵 🌧 🇪 】 📜 ❄ ✈ プ 🚓 ঔ α 😣 ポ 特 🔥 👙 🚨 ï 🕑 👽 💢 Ó ) 😭 📔 🚼 € 🕹 P 🌑 🛋 è 🌃 🎬 K Õ ✌ ⡋ ⠀ 📵 🙊 ¬ 宣 🍊 た 🏀 😵 💘 ✨ 🏍 💰 🌈 ☭ 🌏 🛑 🛎 ➤ 🎺 🏃 👴 🕐 🖊 📦 ⣴ 🍾 B 📺 🔻 💊 ⛏ 🕓 🔟 💃 ] → 🍆 者 🎧 ⣶ 午 😘 ✉ 🎥 😧 📉 § 🤦 📟 ¡ ⡇ 🐦 ❌ 🥛 ⡟ ° 🤒 Ñ ✋ 調 正 要 で 🇷 🏋 ⣦ ✝ 🙃 🔰 ⡛ ⠟ 🚐 👱 ô ☠ 😈  ら 👨 = 📌 🧑 👣 💁 א ̄ 🕘 💩 \n",
      " 🤸 💚 ╚ ╭ σ 🗝 ス 💗 📱 》 s ◢ Ì ໌ ￿ ູ ═ 🏿 > 🦄 ο 🎆 ⣆ Ã 🦐 õ 💈 🐙 „ 🐰 ⛈ 🎹 🏻 😫 🐌 🌡 ☹ 🐃 捜 さ 🇭 0 🥉 🐝 🎉 τ 🕺 ✔ 🌙 🤵 🍳 👹 🛏 â 😕 😦 🌚 🌮 ⢲ 🔖 📸 🖍 🦆 📴 ⣸ 🍞 ⣀ ➳ Ê 🍩 🙎 🔹 ⣾ נ ◤ ’ g 紹 🍬 W ď 🤞 q 🦎 🔪 🤺 イ 🇦 ⠂ 👊 💋 ⡿ 🥄 ♤ 👦 挿 ໊ "
     ]
    }
   ],
   "source": [
    "for v in list(vocab_set):\n",
    "    print(v, end = ' ')"
   ]
  },
  {
   "cell_type": "code",
   "execution_count": 6,
   "metadata": {},
   "outputs": [],
   "source": [
    "#dictionaries to encode char to indexes and indexes to char\n",
    "char2Code = {}\n",
    "code2Char = {0: ''}\n",
    "\n",
    "i=1\n",
    "for char in list(vocab_set):\n",
    "    char2Code[char] = i\n",
    "    code2Char[i] = char\n",
    "    i+=1"
   ]
  },
  {
   "cell_type": "code",
   "execution_count": 7,
   "metadata": {},
   "outputs": [
    {
     "name": "stdout",
     "output_type": "stream",
     "text": [
      "[556, 222, 827, 1218, 598, 827, 1218, 598, 174, 598, 201, 758, 1218, 201, 523, 523, 523, 598, 261, 1178, 201, 574, 222, 174, 342, 598, 659]\n",
      "This is a test!!! Gotcha? 🌝\n"
     ]
    }
   ],
   "source": [
    "#enconding and decoding fu\n",
    "def vectorize(text, char2Code = char2Code):\n",
    "    '''\n",
    "    Enconding function: converts an string in code\n",
    "    Input: string\n",
    "    Output: coded string\n",
    "    '''\n",
    "    #text = text.lower()\n",
    "    text_list = list(text)\n",
    "    text_vector = []\n",
    "    for token in text_list:\n",
    "        if token in char2Code:\n",
    "            code = char2Code[token]\n",
    "            text_vector.append(code)\n",
    "        else:\n",
    "            text_vector.append(0)\n",
    "    return(text_vector)\n",
    "\n",
    "def unvectorize(vec, code2Char = code2Char):\n",
    "    '''\n",
    "    Decoding function: converts code in string\n",
    "    Input: coded index list\n",
    "    Output: string\n",
    "    '''\n",
    "    text = ''\n",
    "    for i in vec:\n",
    "        text += code2Char[i]\n",
    "    return text\n",
    "        \n",
    "v = vectorize('This is a test!!! Gotcha? 🌝')\n",
    "w = unvectorize(v)\n",
    "print(v)\n",
    "print(w)"
   ]
  },
  {
   "cell_type": "code",
   "execution_count": 9,
   "metadata": {},
   "outputs": [],
   "source": [
    "X = np.array([(vectorize(x)) for x in texts])"
   ]
  },
  {
   "cell_type": "markdown",
   "metadata": {},
   "source": [
    "# Distribuition of chars in documents"
   ]
  },
  {
   "cell_type": "code",
   "execution_count": 10,
   "metadata": {},
   "outputs": [
    {
     "data": {
      "text/plain": [
       "<matplotlib.axes._subplots.AxesSubplot at 0x7f77a607b518>"
      ]
     },
     "execution_count": 10,
     "metadata": {},
     "output_type": "execute_result"
    },
    {
     "data": {
      "image/png": "[encoded data removed]",
      "text/plain": [
       "<Figure size 432x288 with 1 Axes>"
      ]
     },
     "metadata": {
      "needs_background": "light"
     },
     "output_type": "display_data"
    }
   ],
   "source": [
    "sns.distplot(df['characters'])"
   ]
  },
  {
   "cell_type": "code",
   "execution_count": 11,
   "metadata": {},
   "outputs": [
    {
     "data": {
      "text/plain": [
       "count    114445.000000\n",
       "mean        135.869675\n",
       "std         515.457870\n",
       "min           1.000000\n",
       "25%          21.000000\n",
       "50%          40.000000\n",
       "75%          94.000000\n",
       "max       65536.000000\n",
       "Name: characters, dtype: float64"
      ]
     },
     "execution_count": 11,
     "metadata": {},
     "output_type": "execute_result"
    }
   ],
   "source": [
    "df['characters'].describe()"
   ]
  },
  {
   "cell_type": "code",
   "execution_count": 12,
   "metadata": {},
   "outputs": [
    {
     "name": "stdout",
     "output_type": "stream",
     "text": [
      "(114444, 1000)\n"
     ]
    }
   ],
   "source": [
    "#pad sequences that are bigger than maxlen\n",
    "maxlen = 1000\n",
    "X = sequence.pad_sequences(X, maxlen=maxlen)\n",
    "print(X.shape)"
   ]
  },
  {
   "cell_type": "markdown",
   "metadata": {},
   "source": [
    "# Train-test split and oversampling"
   ]
  },
  {
   "cell_type": "code",
   "execution_count": 13,
   "metadata": {},
   "outputs": [],
   "source": [
    "X_train, X_test, y_train, y_test = train_test_split(X, y, test_size=0.3, stratify = y, random_state=42)"
   ]
  },
  {
   "cell_type": "code",
   "execution_count": 14,
   "metadata": {},
   "outputs": [
    {
     "data": {
      "text/plain": [
       "(80110, 1000)"
      ]
     },
     "execution_count": 14,
     "metadata": {},
     "output_type": "execute_result"
    }
   ],
   "source": [
    "X_train.shape"
   ]
  },
  {
   "cell_type": "markdown",
   "metadata": {},
   "source": [
    "# Balancing"
   ]
  },
  {
   "cell_type": "code",
   "execution_count": 15,
   "metadata": {},
   "outputs": [],
   "source": [
    "#oversampling with SMOTE\n",
    "#sm = SMOTE(random_state=42)\n",
    "#X_train, y_train = sm.fit_resample(X_train, y_train)\n",
    "#X_train.shape"
   ]
  },
  {
   "cell_type": "code",
   "execution_count": 16,
   "metadata": {},
   "outputs": [
    {
     "name": "stdout",
     "output_type": "stream",
     "text": [
      "balanced data: (4614,)\n"
     ]
    }
   ],
   "source": [
    "#UNDERSAMPLING\n",
    "y_train = np.array(y_train)\n",
    "\n",
    "#separate classes\n",
    "pos_mask = y_train == 1 \n",
    "y_pos = y_train[pos_mask]\n",
    "X_pos = X_train[pos_mask]\n",
    "\n",
    "neg_mask = y_train == 0 \n",
    "y_neg = y_train[neg_mask]\n",
    "X_neg = X_train[neg_mask]\n",
    "\n",
    "#selects a random sample of negative patterns to match the negative class (most abundant)\n",
    "np.random.seed(42)\n",
    "\n",
    "idx = np.random.randint(y_neg.shape[0], size = y_pos.shape[0])\n",
    "y_sampled = y_neg[idx]\n",
    "X_sampled = X_neg[idx]\n",
    "#concatena a amostra de padrões negativos com os padrões positivos\n",
    "y_train = np.concatenate((y_pos,y_sampled),axis=0)\n",
    "X_train = np.concatenate((X_pos,X_sampled),axis=0)\n",
    "\n",
    "#shuffle\n",
    "indices = np.random.permutation(X_train.shape[0])\n",
    "X_train = X_train[indices]\n",
    "y_train = y_train[indices]\n",
    "\n",
    "print('balanced data:', y_train.shape)"
   ]
  },
  {
   "cell_type": "markdown",
   "metadata": {},
   "source": [
    "# Build model"
   ]
  },
  {
   "cell_type": "code",
   "execution_count": 32,
   "metadata": {},
   "outputs": [],
   "source": [
    "#hyperparameters:\n",
    "max_features = 2000 #726 #196921 #corrigir\n",
    "batch_size = 32\n",
    "embedding_dims = 100\n",
    "filters = 250\n",
    "kernel_size = 15\n",
    "hidden_dims = 250\n",
    "epochs = 12"
   ]
  },
  {
   "cell_type": "code",
   "execution_count": 33,
   "metadata": {},
   "outputs": [
    {
     "name": "stdout",
     "output_type": "stream",
     "text": [
      "Build model...\n"
     ]
    }
   ],
   "source": [
    "print('Build model...')\n",
    "model = Sequential()\n",
    "\n",
    "# we start off with an efficient embedding layer which maps\n",
    "# our vocab indices into embedding_dims dimensions\n",
    "\n",
    "#variar\n",
    "model.add(Embedding(max_features,\n",
    "                    embedding_dims,\n",
    "                    input_length=maxlen))\n",
    "model.add(Dropout(0.2))\n",
    "\n",
    "# we add a Convolution1D, which will learn filters\n",
    "# word group filters of size filter_length:\n",
    "model.add(Conv1D(filters,\n",
    "                 kernel_size,\n",
    "                 padding='valid',\n",
    "                 activation='relu',\n",
    "                 strides=1))\n",
    "# we use max pooling:\n",
    "model.add(GlobalMaxPooling1D())\n",
    "\n",
    "# We add a vanilla hidden layer:\n",
    "model.add(Dense(hidden_dims))\n",
    "model.add(Dropout(0.2))\n",
    "model.add(Activation('relu'))\n",
    "\n",
    "# We project onto a single unit output layer, and squash it with a sigmoid:\n",
    "model.add(Dense(1))\n",
    "model.add(Activation('sigmoid'))\n",
    "\n",
    "model.compile(loss='binary_crossentropy',\n",
    "              optimizer='adam',\n",
    "              metrics=['accuracy'])"
   ]
  },
  {
   "cell_type": "code",
   "execution_count": 34,
   "metadata": {},
   "outputs": [
    {
     "name": "stdout",
     "output_type": "stream",
     "text": [
      "Epoch 1/12\n",
      "4614/4614 [==============================] - 114s 25ms/step - loss: 0.4074 - acc: 0.8147\n",
      "Epoch 2/12\n",
      "4614/4614 [==============================] - 120s 26ms/step - loss: 0.3209 - acc: 0.8611\n",
      "Epoch 3/12\n",
      "4614/4614 [==============================] - 141s 31ms/step - loss: 0.2804 - acc: 0.8830\n",
      "Epoch 4/12\n",
      "4614/4614 [==============================] - 131s 28ms/step - loss: 0.2582 - acc: 0.8975\n",
      "Epoch 5/12\n",
      "4614/4614 [==============================] - 130s 28ms/step - loss: 0.1636 - acc: 0.9432\n",
      "Epoch 6/12\n",
      "4614/4614 [==============================] - 121s 26ms/step - loss: 0.0916 - acc: 0.9690\n",
      "Epoch 7/12\n",
      "4614/4614 [==============================] - 137s 30ms/step - loss: 0.0331 - acc: 0.9913\n",
      "Epoch 8/12\n",
      "4614/4614 [==============================] - 150s 33ms/step - loss: 0.0154 - acc: 0.9978\n",
      "Epoch 9/12\n",
      "4614/4614 [==============================] - 138s 30ms/step - loss: 0.0069 - acc: 0.9996\n",
      "Epoch 10/12\n",
      "4614/4614 [==============================] - 134s 29ms/step - loss: 0.0051 - acc: 0.9996\n",
      "Epoch 11/12\n",
      "4614/4614 [==============================] - 116s 25ms/step - loss: 0.0064 - acc: 0.9989\n",
      "Epoch 12/12\n",
      "4614/4614 [==============================] - 116s 25ms/step - loss: 0.0024 - acc: 1.0000\n"
     ]
    },
    {
     "data": {
      "text/plain": [
       "<keras.callbacks.History at 0x7f77315c7d68>"
      ]
     },
     "execution_count": 34,
     "metadata": {},
     "output_type": "execute_result"
    }
   ],
   "source": [
    "model.fit(X_train, y_train,\n",
    "          batch_size=batch_size,\n",
    "          epochs=epochs)#,\n",
    "          #validation_data=(X_test, y_test))"
   ]
  },
  {
   "cell_type": "code",
   "execution_count": 39,
   "metadata": {},
   "outputs": [],
   "source": [
    "y_prob = model.predict(X_test)\n",
    "y_pred = [0 if x < 0.5 else 1 for x in y_prob]"
   ]
  },
  {
   "cell_type": "code",
   "execution_count": 40,
   "metadata": {},
   "outputs": [
    {
     "name": "stdout",
     "output_type": "stream",
     "text": [
      "              precision    recall  f1-score   support\n",
      "\n",
      "           0       1.00      0.88      0.93     33345\n",
      "           1       0.17      0.85      0.29       989\n",
      "\n",
      "    accuracy                           0.88     34334\n",
      "   macro avg       0.58      0.87      0.61     34334\n",
      "weighted avg       0.97      0.88      0.92     34334\n",
      "\n",
      "AUC:  0.9443209992781596\n"
     ]
    },
    {
     "data": {
      "image/png": "[encoded data removed]",
      "text/plain": [
       "<Figure size 1080x360 with 3 Axes>"
      ]
     },
     "metadata": {},
     "output_type": "display_data"
    }
   ],
   "source": [
    "acc, precision, recall, f1, roc_auc = getTestMetrics(y_test, y_pred, y_prob)"
   ]
  },
  {
   "cell_type": "markdown",
   "metadata": {},
   "source": [
    "# Separated embedding layer"
   ]
  },
  {
   "cell_type": "code",
   "execution_count": null,
   "metadata": {},
   "outputs": [],
   "source": [
    "# specifying the input shape\n",
    "no_docs = len(X_train)\n",
    "input=Input(shape=(no_docs,maxlen),dtype='float64')\n",
    "\n",
    "'''\n",
    "shape of input. \n",
    "each document has 12 element or words which is the value of our maxlen variable.\n",
    "'''\n",
    "\n",
    "word_input=Input(shape=(maxlen,),dtype='float64')  \n",
    "\n",
    "# creating the embedding\n",
    "word_embedding=Embedding(input_dim = max_features, output_dim = embedding_dims, input_length=maxlen)(word_input)\n",
    "\n",
    "word_vec=Flatten()(word_embedding) # flatten\n",
    "embed_model =Model([word_input],word_vec) # combining all into a Keras model"
   ]
  }
 ],
 "metadata": {
  "kernelspec": {
   "display_name": "Python 3",
   "language": "python",
   "name": "python3"
  },
  "language_info": {
   "codemirror_mode": {
    "name": "ipython",
    "version": 3
   },
   "file_extension": ".py",
   "mimetype": "text/x-python",
   "name": "python",
   "nbconvert_exporter": "python",
   "pygments_lexer": "ipython3",
   "version": "3.7.3"
  }
 },
 "nbformat": 4,
 "nbformat_minor": 2
}
